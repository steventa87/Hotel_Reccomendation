{
 "cells": [
  {
   "cell_type": "code",
   "execution_count": 1,
   "metadata": {},
   "outputs": [],
   "source": [
    "import pandas as pd\n",
    "import numpy as np\n",
    "\n",
    "import os\n",
    "from __future__ import print_function\n",
    "import codecs\n",
    "import pickle\n",
    "import json\n",
    "\n",
    "import numpy as np\n",
    "import pandas as pd\n",
    "import random\n",
    "\n",
    "from sklearn import feature_extraction\n",
    "from sklearn.feature_extraction.text import TfidfVectorizer\n",
    "from sklearn.metrics.pairwise import cosine_similarity\n",
    "from sklearn.cluster import KMeans\n",
    "from sklearn.externals import joblib\n",
    "from sklearn.manifold import MDS\n",
    "\n",
    "from scipy.cluster.hierarchy import ward, dendrogram\n",
    "\n",
    "import nltk\n",
    "from nltk.stem.snowball import SnowballStemmer\n",
    "import re\n",
    "import mpld3\n",
    "\n",
    "import matplotlib.pyplot as plt\n",
    "%matplotlib inline\n",
    "\n",
    "from collections import defaultdict"
   ]
  },
  {
   "cell_type": "code",
   "execution_count": 2,
   "metadata": {},
   "outputs": [],
   "source": [
    "rating_headers = ['doc_id','hotel_name','hotel_url','street','city','state','country','zip','class','price','num_reviews','CLEANLINESS','ROOM','SERVICE','LOCATION','VALUE', 'COMFORT','overall_ratingsource']"
   ]
  },
  {
   "cell_type": "code",
   "execution_count": 3,
   "metadata": {},
   "outputs": [],
   "source": [
    "df_hotels_las_vegas = pd.read_csv('data/las-vegas.csv', names = rating_headers).drop(0)"
   ]
  },
  {
   "cell_type": "code",
   "execution_count": 4,
   "metadata": {},
   "outputs": [
    {
     "data": {
      "text/html": [
       "<div>\n",
       "<style>\n",
       "    .dataframe thead tr:only-child th {\n",
       "        text-align: right;\n",
       "    }\n",
       "\n",
       "    .dataframe thead th {\n",
       "        text-align: left;\n",
       "    }\n",
       "\n",
       "    .dataframe tbody tr th {\n",
       "        vertical-align: top;\n",
       "    }\n",
       "</style>\n",
       "<table border=\"1\" class=\"dataframe\">\n",
       "  <thead>\n",
       "    <tr style=\"text-align: right;\">\n",
       "      <th></th>\n",
       "      <th>doc_id</th>\n",
       "      <th>hotel_name</th>\n",
       "      <th>hotel_url</th>\n",
       "      <th>street</th>\n",
       "      <th>city</th>\n",
       "      <th>state</th>\n",
       "      <th>country</th>\n",
       "      <th>zip</th>\n",
       "      <th>class</th>\n",
       "      <th>price</th>\n",
       "      <th>num_reviews</th>\n",
       "      <th>CLEANLINESS</th>\n",
       "      <th>ROOM</th>\n",
       "      <th>SERVICE</th>\n",
       "      <th>LOCATION</th>\n",
       "      <th>VALUE</th>\n",
       "      <th>COMFORT</th>\n",
       "      <th>overall_ratingsource</th>\n",
       "    </tr>\n",
       "  </thead>\n",
       "  <tbody>\n",
       "    <tr>\n",
       "      <th>1</th>\n",
       "      <td>usa_nevada_las-vegas_staybridge_suites_las_vegas</td>\n",
       "      <td>staybridge suites las vegas</td>\n",
       "      <td>http://www.tripadvisor.com/ShowUserReviews-g45...</td>\n",
       "      <td>-1</td>\n",
       "      <td>las vegas</td>\n",
       "      <td>nv</td>\n",
       "      <td>usa</td>\n",
       "      <td>89118</td>\n",
       "      <td>-1</td>\n",
       "      <td>-1</td>\n",
       "      <td>113</td>\n",
       "      <td>4.884615384615385</td>\n",
       "      <td>4.913461538461538</td>\n",
       "      <td>4.721153846153846</td>\n",
       "      <td>4.259615384615385</td>\n",
       "      <td>4.855769230769231</td>\n",
       "      <td>0.0</td>\n",
       "      <td>4.726923076923077</td>\n",
       "    </tr>\n",
       "    <tr>\n",
       "      <th>2</th>\n",
       "      <td>usa_nevada_las-vegas_four_seasons_hotel_las_vegas</td>\n",
       "      <td>four seasons hotel las vegas</td>\n",
       "      <td>http://www.tripadvisor.com/ShowUserReviews-g45...</td>\n",
       "      <td>-1</td>\n",
       "      <td>las vegas</td>\n",
       "      <td>nv</td>\n",
       "      <td>usa</td>\n",
       "      <td>89119</td>\n",
       "      <td>-1</td>\n",
       "      <td>-1</td>\n",
       "      <td>427</td>\n",
       "      <td>4.823321554770318</td>\n",
       "      <td>4.614840989399293</td>\n",
       "      <td>4.692579505300353</td>\n",
       "      <td>4.219081272084805</td>\n",
       "      <td>4.339222614840989</td>\n",
       "      <td>0.0</td>\n",
       "      <td>4.5378091872791515</td>\n",
       "    </tr>\n",
       "    <tr>\n",
       "      <th>3</th>\n",
       "      <td>usa_nevada_las-vegas_desert_rose_resort</td>\n",
       "      <td>desert rose resort</td>\n",
       "      <td>http://www.tripadvisor.com/ShowUserReviews-g45...</td>\n",
       "      <td>-1</td>\n",
       "      <td>las vegas</td>\n",
       "      <td>nv</td>\n",
       "      <td>usa</td>\n",
       "      <td>89119</td>\n",
       "      <td>-1</td>\n",
       "      <td>-1</td>\n",
       "      <td>325</td>\n",
       "      <td>4.601328903654485</td>\n",
       "      <td>4.614617940199335</td>\n",
       "      <td>4.548172757475083</td>\n",
       "      <td>4.46843853820598</td>\n",
       "      <td>4.707641196013289</td>\n",
       "      <td>0.0</td>\n",
       "      <td>4.588039867109634</td>\n",
       "    </tr>\n",
       "    <tr>\n",
       "      <th>4</th>\n",
       "      <td>usa_nevada_las-vegas_signature_at_mgm_grand</td>\n",
       "      <td>signature at mgm grand</td>\n",
       "      <td>http://www.tripadvisor.com/ShowUserReviews-g45...</td>\n",
       "      <td>-1</td>\n",
       "      <td>las vegas</td>\n",
       "      <td>nv</td>\n",
       "      <td>usa</td>\n",
       "      <td>89109</td>\n",
       "      <td>-1</td>\n",
       "      <td>-1</td>\n",
       "      <td>324</td>\n",
       "      <td>4.7574750830564785</td>\n",
       "      <td>4.760797342192691</td>\n",
       "      <td>4.45514950166113</td>\n",
       "      <td>4.129568106312292</td>\n",
       "      <td>4.45514950166113</td>\n",
       "      <td>0.0</td>\n",
       "      <td>4.511627906976744</td>\n",
       "    </tr>\n",
       "    <tr>\n",
       "      <th>5</th>\n",
       "      <td>usa_nevada_las-vegas_skylofts_at_mgm_grand</td>\n",
       "      <td>skylofts at mgm grand</td>\n",
       "      <td>http://www.tripadvisor.com/ShowUserReviews-g45...</td>\n",
       "      <td>-1</td>\n",
       "      <td>las vegas</td>\n",
       "      <td>nv</td>\n",
       "      <td>usa</td>\n",
       "      <td>89109</td>\n",
       "      <td>-1</td>\n",
       "      <td>-1</td>\n",
       "      <td>77</td>\n",
       "      <td>4.863636363636363</td>\n",
       "      <td>4.893939393939394</td>\n",
       "      <td>4.803030303030303</td>\n",
       "      <td>4.53030303030303</td>\n",
       "      <td>4.378787878787879</td>\n",
       "      <td>0.0</td>\n",
       "      <td>4.693939393939393</td>\n",
       "    </tr>\n",
       "  </tbody>\n",
       "</table>\n",
       "</div>"
      ],
      "text/plain": [
       "                                              doc_id  \\\n",
       "1   usa_nevada_las-vegas_staybridge_suites_las_vegas   \n",
       "2  usa_nevada_las-vegas_four_seasons_hotel_las_vegas   \n",
       "3            usa_nevada_las-vegas_desert_rose_resort   \n",
       "4        usa_nevada_las-vegas_signature_at_mgm_grand   \n",
       "5         usa_nevada_las-vegas_skylofts_at_mgm_grand   \n",
       "\n",
       "                     hotel_name  \\\n",
       "1   staybridge suites las vegas   \n",
       "2  four seasons hotel las vegas   \n",
       "3            desert rose resort   \n",
       "4        signature at mgm grand   \n",
       "5         skylofts at mgm grand   \n",
       "\n",
       "                                           hotel_url street       city state  \\\n",
       "1  http://www.tripadvisor.com/ShowUserReviews-g45...     -1  las vegas    nv   \n",
       "2  http://www.tripadvisor.com/ShowUserReviews-g45...     -1  las vegas    nv   \n",
       "3  http://www.tripadvisor.com/ShowUserReviews-g45...     -1  las vegas    nv   \n",
       "4  http://www.tripadvisor.com/ShowUserReviews-g45...     -1  las vegas    nv   \n",
       "5  http://www.tripadvisor.com/ShowUserReviews-g45...     -1  las vegas    nv   \n",
       "\n",
       "  country    zip class price num_reviews         CLEANLINESS  \\\n",
       "1     usa  89118    -1    -1         113   4.884615384615385   \n",
       "2     usa  89119    -1    -1         427   4.823321554770318   \n",
       "3     usa  89119    -1    -1         325   4.601328903654485   \n",
       "4     usa  89109    -1    -1         324  4.7574750830564785   \n",
       "5     usa  89109    -1    -1          77   4.863636363636363   \n",
       "\n",
       "                ROOM            SERVICE           LOCATION              VALUE  \\\n",
       "1  4.913461538461538  4.721153846153846  4.259615384615385  4.855769230769231   \n",
       "2  4.614840989399293  4.692579505300353  4.219081272084805  4.339222614840989   \n",
       "3  4.614617940199335  4.548172757475083   4.46843853820598  4.707641196013289   \n",
       "4  4.760797342192691   4.45514950166113  4.129568106312292   4.45514950166113   \n",
       "5  4.893939393939394  4.803030303030303   4.53030303030303  4.378787878787879   \n",
       "\n",
       "  COMFORT overall_ratingsource  \n",
       "1     0.0    4.726923076923077  \n",
       "2     0.0   4.5378091872791515  \n",
       "3     0.0    4.588039867109634  \n",
       "4     0.0    4.511627906976744  \n",
       "5     0.0    4.693939393939393  "
      ]
     },
     "execution_count": 4,
     "metadata": {},
     "output_type": "execute_result"
    }
   ],
   "source": [
    "df_hotels_las_vegas.head()"
   ]
  },
  {
   "cell_type": "code",
   "execution_count": 5,
   "metadata": {},
   "outputs": [
    {
     "name": "stdout",
     "output_type": "stream",
     "text": [
      "<class 'pandas.core.frame.DataFrame'>\n",
      "Int64Index: 230 entries, 1 to 230\n",
      "Data columns (total 18 columns):\n",
      "doc_id                  230 non-null object\n",
      "hotel_name              230 non-null object\n",
      "hotel_url               230 non-null object\n",
      "street                  230 non-null object\n",
      "city                    230 non-null object\n",
      "state                   230 non-null object\n",
      "country                 230 non-null object\n",
      "zip                     230 non-null object\n",
      "class                   230 non-null object\n",
      "price                   230 non-null object\n",
      "num_reviews             230 non-null object\n",
      "CLEANLINESS             230 non-null object\n",
      "ROOM                    230 non-null object\n",
      "SERVICE                 230 non-null object\n",
      "LOCATION                230 non-null object\n",
      "VALUE                   230 non-null object\n",
      "COMFORT                 230 non-null object\n",
      "overall_ratingsource    230 non-null object\n",
      "dtypes: object(18)\n",
      "memory usage: 34.1+ KB\n"
     ]
    }
   ],
   "source": [
    "df_hotels_las_vegas.info()"
   ]
  },
  {
   "cell_type": "code",
   "execution_count": 6,
   "metadata": {},
   "outputs": [],
   "source": [
    "# convert overall_ratingsource to float\n",
    "df_hotels_las_vegas['overall_ratingsource'] = df_hotels_las_vegas['overall_ratingsource'].astype(float)"
   ]
  },
  {
   "cell_type": "code",
   "execution_count": 12,
   "metadata": {},
   "outputs": [],
   "source": [
    "# convert num_reviews to int\n",
    "df_hotels_las_vegas['num_reviews'] = df_hotels_las_vegas['num_reviews'].astype(int)"
   ]
  },
  {
   "cell_type": "code",
   "execution_count": 7,
   "metadata": {},
   "outputs": [],
   "source": [
    "# get rid of all hotels that are ratings below 4\n",
    "lower_2 = df_hotels_las_vegas['overall_ratingsource'] > 2\n",
    "df_hotels_las_vegas = df_hotels_las_vegas[lower_2]"
   ]
  },
  {
   "cell_type": "code",
   "execution_count": 8,
   "metadata": {},
   "outputs": [
    {
     "data": {
      "text/plain": [
       "doc_id                  198\n",
       "hotel_name              198\n",
       "hotel_url               198\n",
       "street                  198\n",
       "city                    198\n",
       "state                   198\n",
       "country                 198\n",
       "zip                     198\n",
       "class                   198\n",
       "price                   198\n",
       "num_reviews             198\n",
       "CLEANLINESS             198\n",
       "ROOM                    198\n",
       "SERVICE                 198\n",
       "LOCATION                198\n",
       "VALUE                   198\n",
       "COMFORT                 198\n",
       "overall_ratingsource    198\n",
       "dtype: int64"
      ]
     },
     "execution_count": 8,
     "metadata": {},
     "output_type": "execute_result"
    }
   ],
   "source": [
    "df_hotels_las_vegas.count()"
   ]
  },
  {
   "cell_type": "code",
   "execution_count": 13,
   "metadata": {},
   "outputs": [
    {
     "data": {
      "text/plain": [
       "''"
      ]
     },
     "execution_count": 13,
     "metadata": {},
     "output_type": "execute_result"
    },
    {
     "data": {
      "image/png": "[encoded data removed]",
      "text/plain": [
       "<matplotlib.figure.Figure at 0x1a1c9bc908>"
      ]
     },
     "metadata": {},
     "output_type": "display_data"
    }
   ],
   "source": [
    "plt.hist(df_hotels_las_vegas['num_reviews'])\n",
    ";"
   ]
  },
  {
   "cell_type": "code",
   "execution_count": 14,
   "metadata": {},
   "outputs": [
    {
     "data": {
      "text/plain": [
       "132.6919191919192"
      ]
     },
     "execution_count": 14,
     "metadata": {},
     "output_type": "execute_result"
    }
   ],
   "source": [
    "# average reviews\n",
    "df_hotels_las_vegas['num_reviews'].mean()"
   ]
  },
  {
   "cell_type": "code",
   "execution_count": 9,
   "metadata": {},
   "outputs": [
    {
     "data": {
      "text/plain": [
       "''"
      ]
     },
     "execution_count": 9,
     "metadata": {},
     "output_type": "execute_result"
    },
    {
     "data": {
      "image/png": "[encoded data removed]",
      "text/plain": [
       "<matplotlib.figure.Figure at 0x1a0b0f34a8>"
      ]
     },
     "metadata": {},
     "output_type": "display_data"
    }
   ],
   "source": [
    "plt.hist(df_hotels_las_vegas['overall_ratingsource'])\n",
    ";"
   ]
  },
  {
   "cell_type": "code",
   "execution_count": 10,
   "metadata": {},
   "outputs": [],
   "source": [
    "# get all file_names ids\n",
    "file_names = os.listdir('data/las-vegas/')"
   ]
  },
  {
   "cell_type": "code",
   "execution_count": 11,
   "metadata": {},
   "outputs": [],
   "source": [
    "for name in file_names:\n",
    "    if \".\" in name:\n",
    "        print(name)"
   ]
  },
  {
   "cell_type": "code",
   "execution_count": 12,
   "metadata": {},
   "outputs": [
    {
     "data": {
      "text/plain": [
       "['usa_nevada_las-vegas_the_resort_on_mount_charleston',\n",
       " 'usa_nevada_las-vegas_budget_suites_of_america_tropicana_i_15',\n",
       " 'usa_nevada_las-vegas_siena_suites',\n",
       " 'usa_nevada_las-vegas_hard_rock_hotel_and_casino',\n",
       " 'usa_nevada_las-vegas_best_western_nellis_motor_inn',\n",
       " 'usa_nevada_las-vegas_eastside_cannery_casino_hotel',\n",
       " 'usa_nevada_las-vegas_town_and_country_manor_iii',\n",
       " 'usa_nevada_las-vegas_tuscany_suites_casino',\n",
       " 'usa_nevada_las-vegas_south_point_hotel_casino_and_spa',\n",
       " 'usa_nevada_las-vegas_atrium_suites_hotel_las_vegas']"
      ]
     },
     "execution_count": 12,
     "metadata": {},
     "output_type": "execute_result"
    }
   ],
   "source": [
    "file_names[:10]"
   ]
  },
  {
   "cell_type": "code",
   "execution_count": 13,
   "metadata": {},
   "outputs": [],
   "source": [
    "def get_hotel_reviews(file_name):\n",
    "    \n",
    "    review_headers = ['date', 'review_title', 'full_review', 'nan']\n",
    "    \n",
    "    reviews = []\n",
    "    \n",
    "    df = pd.read_csv('data/las-vegas/' + file_name, \n",
    "                     names=review_headers ,sep='\\t', encoding='latin-1').drop('nan', axis=1)\n",
    "    \n",
    "    for review in df['full_review']:\n",
    "        reviews.append(str(review))\n",
    "        \n",
    "    corpus = \" \".join(reviews)\n",
    "    \n",
    "    return file_name, corpus"
   ]
  },
  {
   "cell_type": "code",
   "execution_count": 14,
   "metadata": {},
   "outputs": [],
   "source": [
    "# # test one filename\n",
    "# h, r = get_hotel_reviews('usa_nevada_las-vegas_the_orleans_hotel_casino')"
   ]
  },
  {
   "cell_type": "code",
   "execution_count": 15,
   "metadata": {},
   "outputs": [],
   "source": [
    "# type(r)"
   ]
  },
  {
   "cell_type": "code",
   "execution_count": 16,
   "metadata": {},
   "outputs": [],
   "source": [
    "start_name_index = len('usa_nevada_las-vegas_')"
   ]
  },
  {
   "cell_type": "code",
   "execution_count": 17,
   "metadata": {},
   "outputs": [],
   "source": [
    "hotel_names = []\n",
    "hotel_reviews = []\n",
    "\n",
    "for idx, name in enumerate(file_names):\n",
    "    # for some reason file #31 isn't working\n",
    "    if idx == 31:\n",
    "        continue\n",
    "    hotel, all_reviews = get_hotel_reviews(name)\n",
    "    hotel_names.append(hotel[start_name_index:])\n",
    "    hotel_reviews.append(all_reviews)"
   ]
  },
  {
   "cell_type": "code",
   "execution_count": 18,
   "metadata": {},
   "outputs": [
    {
     "data": {
      "text/plain": [
       "(205, 205)"
      ]
     },
     "execution_count": 18,
     "metadata": {},
     "output_type": "execute_result"
    }
   ],
   "source": [
    "len(hotel_names), len(hotel_reviews)"
   ]
  },
  {
   "cell_type": "code",
   "execution_count": 19,
   "metadata": {},
   "outputs": [
    {
     "name": "stdout",
     "output_type": "stream",
     "text": [
      "There are 205 hotels in the dataset.\n"
     ]
    }
   ],
   "source": [
    "print ('There are {} hotels in the dataset.'.format(len(hotel_names)))"
   ]
  },
  {
   "cell_type": "code",
   "execution_count": 20,
   "metadata": {},
   "outputs": [],
   "source": [
    "# load nltk's English stopwords as variable called 'stopwords'\n",
    "stopwords = nltk.corpus.stopwords.words('english')"
   ]
  },
  {
   "cell_type": "code",
   "execution_count": 21,
   "metadata": {},
   "outputs": [],
   "source": [
    "# load nltk's SnowballStemmer as variabled 'stemmer'\n",
    "stemmer = SnowballStemmer(\"english\")"
   ]
  },
  {
   "cell_type": "code",
   "execution_count": 22,
   "metadata": {},
   "outputs": [],
   "source": [
    "# here I define a tokenizer and stemmer which returns the set of stems in the text that it is passed\n",
    "\n",
    "def tokenize_and_stem(text):\n",
    "    # first tokenize by sentence, then by word to ensure that punctuation is caught as it's own token\n",
    "    tokens = [word for sent in nltk.sent_tokenize(text) for word in nltk.word_tokenize(sent)]\n",
    "    filtered_tokens = []\n",
    "    # filter out any tokens not containing letters (e.g., numeric tokens, raw punctuation)\n",
    "    for token in tokens:\n",
    "        if re.search('[a-zA-Z]', token):\n",
    "            filtered_tokens.append(token)\n",
    "    stems = [stemmer.stem(t) for t in filtered_tokens]\n",
    "    return stems\n",
    "\n",
    "\n",
    "def tokenize_only(text):\n",
    "    # first tokenize by sentence, then by word to ensure that punctuation is caught as it's own token\n",
    "    tokens = [word.lower() for sent in nltk.sent_tokenize(text) for word in nltk.word_tokenize(sent)]\n",
    "    filtered_tokens = []\n",
    "    # filter out any tokens not containing letters (e.g., numeric tokens, raw punctuation)\n",
    "    for token in tokens:\n",
    "        if re.search('[a-zA-Z]', token):\n",
    "            filtered_tokens.append(token)\n",
    "    return filtered_tokens"
   ]
  },
  {
   "cell_type": "code",
   "execution_count": 23,
   "metadata": {},
   "outputs": [],
   "source": [
    "# If you are running this process for the first time, uncomment below:\n",
    "hotel_vocab_stemmed = []\n",
    "hotel_vocab_tokenized = []\n",
    "\n",
    "for i in hotel_reviews:\n",
    "    allwords_stemmed = tokenize_and_stem(i)\n",
    "    hotel_vocab_stemmed.extend(allwords_stemmed)\n",
    "    allwords_tokenized = tokenize_only(i)\n",
    "    hotel_vocab_tokenized.extend(allwords_tokenized)"
   ]
  },
  {
   "cell_type": "code",
   "execution_count": 24,
   "metadata": {},
   "outputs": [
    {
     "data": {
      "text/plain": [
       "(5328015, 5328015)"
      ]
     },
     "execution_count": 24,
     "metadata": {},
     "output_type": "execute_result"
    }
   ],
   "source": [
    "len(hotel_vocab_stemmed), len(hotel_vocab_tokenized)"
   ]
  },
  {
   "cell_type": "code",
   "execution_count": 25,
   "metadata": {},
   "outputs": [
    {
     "name": "stdout",
     "output_type": "stream",
     "text": [
      "CPU times: user 989 ms, sys: 1.48 s, total: 2.47 s\n",
      "Wall time: 2.88 s\n"
     ]
    }
   ],
   "source": [
    "%time hotel_vocab_frame = pd.DataFrame({'words': hotel_vocab_tokenized}, index = hotel_vocab_stemmed)"
   ]
  },
  {
   "cell_type": "code",
   "execution_count": 26,
   "metadata": {},
   "outputs": [
    {
     "data": {
      "text/html": [
       "<div>\n",
       "<style>\n",
       "    .dataframe thead tr:only-child th {\n",
       "        text-align: right;\n",
       "    }\n",
       "\n",
       "    .dataframe thead th {\n",
       "        text-align: left;\n",
       "    }\n",
       "\n",
       "    .dataframe tbody tr th {\n",
       "        vertical-align: top;\n",
       "    }\n",
       "</style>\n",
       "<table border=\"1\" class=\"dataframe\">\n",
       "  <thead>\n",
       "    <tr style=\"text-align: right;\">\n",
       "      <th></th>\n",
       "      <th>words</th>\n",
       "    </tr>\n",
       "  </thead>\n",
       "  <tbody>\n",
       "    <tr>\n",
       "      <th>we</th>\n",
       "      <td>we</td>\n",
       "    </tr>\n",
       "    <tr>\n",
       "      <th>stop</th>\n",
       "      <td>stopped</td>\n",
       "    </tr>\n",
       "    <tr>\n",
       "      <th>by</th>\n",
       "      <td>by</td>\n",
       "    </tr>\n",
       "    <tr>\n",
       "      <th>the</th>\n",
       "      <td>the</td>\n",
       "    </tr>\n",
       "    <tr>\n",
       "      <th>resort</th>\n",
       "      <td>resort</td>\n",
       "    </tr>\n",
       "  </tbody>\n",
       "</table>\n",
       "</div>"
      ],
      "text/plain": [
       "          words\n",
       "we           we\n",
       "stop    stopped\n",
       "by           by\n",
       "the         the\n",
       "resort   resort"
      ]
     },
     "execution_count": 26,
     "metadata": {},
     "output_type": "execute_result"
    }
   ],
   "source": [
    "hotel_vocab_frame.head()"
   ]
  },
  {
   "cell_type": "markdown",
   "metadata": {},
   "source": [
    "### Tf-Idf and Document Similarity Measure"
   ]
  },
  {
   "cell_type": "code",
   "execution_count": 27,
   "metadata": {},
   "outputs": [],
   "source": [
    "combined = list(zip(hotel_names, hotel_reviews))"
   ]
  },
  {
   "cell_type": "code",
   "execution_count": 28,
   "metadata": {},
   "outputs": [],
   "source": [
    "# randomly shuffle the hotels, keeping the names in order with the reviews\n",
    "random.shuffle(combined)\n",
    "# retrieve hotel names and hotel reviews in the new order, after shuffling\n",
    "hotel_names[:], hotel_reviews[:] = zip(*combined)"
   ]
  },
  {
   "cell_type": "code",
   "execution_count": 40,
   "metadata": {},
   "outputs": [
    {
     "name": "stdout",
     "output_type": "stream",
     "text": [
      "There are 200 hotels in our sample.\n"
     ]
    }
   ],
   "source": [
    "for testing purposes, you can use this snippet to run kmeans on 100 hotels of the whole corpus.\n",
    "reviews_grouped = [hotel_reviews[i:i + 100] for i in range(0, len(hotel_reviews), 100)]\n",
    "print (\"There are {} hotels in our sample.\".format(len(reviews_grouped[0])))\n",
    "\n",
    "# # 200 -for testing purposes, you can use this snippet to run kmeans on 100 hotels of the whole corpus.\n",
    "# reviews_grouped = [hotel_reviews[i:i + 200] for i in range(0, len(hotel_reviews), 200)]\n",
    "# print (\"There are {} hotels in our sample.\".format(len(reviews_grouped[0])))"
   ]
  },
  {
   "cell_type": "code",
   "execution_count": 41,
   "metadata": {},
   "outputs": [
    {
     "name": "stdout",
     "output_type": "stream",
     "text": [
      "CPU times: user 3min 26s, sys: 5.11 s, total: 3min 31s\n",
      "Wall time: 3min 40s\n",
      "(200, 5735)\n"
     ]
    }
   ],
   "source": [
    "# initiate TfidfVectorizer instance with the set hyperparameters that were mentioned above\n",
    "tfidf_vectorizer = TfidfVectorizer(max_df=0.8, max_features=200000,\n",
    "                                 min_df=0.2, stop_words='english',\n",
    "                                 use_idf=True, tokenizer=tokenize_and_stem, ngram_range=(1, 3))\n",
    "%time tfidf_matrix = tfidf_vectorizer.fit_transform(reviews_grouped[0])\n",
    "print(tfidf_matrix.shape)"
   ]
  },
  {
   "cell_type": "code",
   "execution_count": 31,
   "metadata": {},
   "outputs": [
    {
     "data": {
      "text/plain": [
       "['data/tfidf_matrix2.pkl']"
      ]
     },
     "execution_count": 31,
     "metadata": {},
     "output_type": "execute_result"
    }
   ],
   "source": [
    "# saving the matrix by dumping into a pickle file. set *protocol=2* if you are using python2\n",
    "joblib.dump(tfidf_matrix,  'data/tfidf_matrix2.pkl')\n",
    "#tfidf_matrix = joblib.load('tfidf_matrix2.pkl')"
   ]
  },
  {
   "cell_type": "code",
   "execution_count": 42,
   "metadata": {},
   "outputs": [],
   "source": [
    "terms = tfidf_vectorizer.get_feature_names()\n",
    "# calculate cosine similarity\n",
    "dist = 1 - cosine_similarity(tfidf_matrix)"
   ]
  },
  {
   "cell_type": "markdown",
   "metadata": {},
   "source": [
    "# K-means clustering"
   ]
  },
  {
   "cell_type": "code",
   "execution_count": 33,
   "metadata": {},
   "outputs": [
    {
     "name": "stdout",
     "output_type": "stream",
     "text": [
      "CPU times: user 8.5 s, sys: 77 ms, total: 8.57 s\n",
      "Wall time: 8.79 s\n"
     ]
    },
    {
     "data": {
      "text/plain": [
       "KMeans(algorithm='auto', copy_x=True, init='k-means++', max_iter=300,\n",
       "    n_clusters=5, n_init=10, n_jobs=1, precompute_distances='auto',\n",
       "    random_state=None, tol=0.0001, verbose=0)"
      ]
     },
     "execution_count": 33,
     "metadata": {},
     "output_type": "execute_result"
    }
   ],
   "source": [
    "num_clusters = 5\n",
    "\n",
    "km = KMeans(n_clusters=num_clusters)\n",
    "\n",
    "%time km.fit(tfidf_matrix)"
   ]
  },
  {
   "cell_type": "code",
   "execution_count": 34,
   "metadata": {},
   "outputs": [
    {
     "data": {
      "text/plain": [
       "100"
      ]
     },
     "execution_count": 34,
     "metadata": {},
     "output_type": "execute_result"
    }
   ],
   "source": [
    "#joblib.dump(km,  'doc_cluster.pkl')\n",
    "clusters = km.labels_.tolist()\n",
    "len(clusters)\n",
    "# 100 hotels"
   ]
  },
  {
   "cell_type": "code",
   "execution_count": 35,
   "metadata": {},
   "outputs": [],
   "source": [
    "ranks = []\n",
    "\n",
    "for i in range(0,len(hotel_names)):\n",
    "    ranks.append(i)"
   ]
  },
  {
   "cell_type": "code",
   "execution_count": 36,
   "metadata": {},
   "outputs": [],
   "source": [
    "# every group has 1000 ramdonly shuffled hotels, change indeces\n",
    "hotels = { 'hotel_name': hotel_names[:100], 'rank': ranks[:100], 'hotel_reviews': hotel_reviews[:100], 'cluster': clusters}\n",
    "\n",
    "frame = pd.DataFrame(hotels, index = [clusters] , columns = ['rank', 'hotel_name', 'hotel_reviews', 'cluster'])"
   ]
  },
  {
   "cell_type": "code",
   "execution_count": 37,
   "metadata": {},
   "outputs": [
    {
     "data": {
      "text/plain": [
       "4    37\n",
       "2    24\n",
       "3    19\n",
       "1    13\n",
       "0     7\n",
       "Name: cluster, dtype: int64"
      ]
     },
     "execution_count": 37,
     "metadata": {},
     "output_type": "execute_result"
    }
   ],
   "source": [
    "frame['cluster'].value_counts()"
   ]
  },
  {
   "cell_type": "code",
   "execution_count": 38,
   "metadata": {},
   "outputs": [
    {
     "data": {
      "text/plain": [
       "cluster\n",
       "0    70.428571\n",
       "1    48.923077\n",
       "2    50.250000\n",
       "3    49.842105\n",
       "4    45.081081\n",
       "Name: rank, dtype: float64"
      ]
     },
     "execution_count": 38,
     "metadata": {},
     "output_type": "execute_result"
    }
   ],
   "source": [
    "grouped = frame['rank'].groupby(frame['cluster'])\n",
    "\n",
    "grouped.mean()"
   ]
  },
  {
   "cell_type": "code",
   "execution_count": 39,
   "metadata": {},
   "outputs": [
    {
     "name": "stdout",
     "output_type": "stream",
     "text": [
      "Top terms per cluster:\n",
      "\n",
      "Cluster 0 words: b'suite', b'budget', b'roach', b'office', b'dont', b'information', b'security', b'pets', b'extended', b'police', b'since', b'smelled', b'deposit', b'drug', b'months', b'cigarette', b'stains', b'extended', b'cheap', b'phone',\n",
      "\n",
      "Cluster 0 hotels: the_suites_boulder_strip, super_8_las_vegas_boulder_highway, town_and_country_manor_iii, aruba_hotel, the_suites, budget_suites_of_america_north_rancho_drive, budget_suites_of_america_wynn,\n",
      "\n",
      "Cluster 1 words: b'fremont', b'downtown', b'fremont', b'nugget', b'golden', b'tower', b'freemont', b'year', b'westerns', b'play', b'elevator', b'slot', b'golden', b'gamble', b'stay', b'queen', b'table', b'lovely', b'cheap', b'machines',\n",
      "\n",
      "Cluster 1 hotels: las_vegas_club_casino_hotel, fitzgeralds_casino_hotel, el_cortez_hotel_casino, fremont_hotel_and_casino, ogden_house_motel, western_hotel_casino, golden_gate_hotel_casino, four_queens_hotel_and_casino, golden_nugget, best_western_main_street_inn, jerry_s_nugget, binion_s_horseshoe_hotel_casino_las_vegas, gold_spike_hotel_and_casino,\n",
      "\n",
      "Cluster 2 words: b'suite', b'shuttle', b'bedroom', b'kitchen', b'resort', b'airport', b'amp', b'quiet', b'restaurant', b'unit', b'hot', b'internet', b'inn', b'very', b'lovely', b'live', b'timeshares', b'coffee', b'driving', b'bay',\n",
      "\n",
      "Cluster 2 hotels: hampton_inn_suites_las_vegas_west_summerlin, embassy_suites_las_vegas_airport, atrium_suites_hotel_las_vegas, cancun_resort, wingate_by_wyndham_henderson, crestwood_suites_las_vegas_boulevard, residence_inn_las_vegas_hughes_center, hilton_grand_vacation_suites_las_vegas_convention_center, emerald_suites_tropicana, falcon_ridge_hotel, doubletree_club_hotel_las_vegas_airport, marriott_s_grand_chateau, siena_suites, summer_bay_resort_las_vegas, holiday_inn_express_hotel_and_suites_las_vegas_215_beltway, tahiti_vacation_club, courtyard_by_marriott_las_vegas_south, emerald_suites, staybridge_suites_las_vegas, holiday_inn_express_the_lakes_las_vegas, summer_bay_resorts_las_vegas_desert_club, fairfield_inn_suites_las_vegas_south, holiday_inn_express_las_vegas_south, emerald_suites_cameron,\n",
      "\n",
      "Cluster 3 words: b'motel', b'internet', b'smelled', b'cheap', b'dirty', b'worst', b'carpet', b'inn', b'shower', b'bug', b'refund', b'reservation', b'filthy', b'air', b'available', b'ok', b'water', b'circus', b'wall', b'outside',\n",
      "\n",
      "Cluster 3 hotels: americana_5, aztec_inn, knights_inn_las_vegas, somerset_house_motel, best_western_nellis_motor_inn, econo_lodge, extended_stay_deluxe_las_vegas_east_flamingo, viva_las_vegas_villas, las_vegas_south_strip_travelodge, golden_palm_hotel, sahara_westwood_hotel, tod_motor_motel, manor_suites, travelsuites_inn, super_8_motel_las_vegas_downtown, wild_wild_west_gambling_hall_and_hotel, rodeway_inn_convention_center, motel_6_las_vegas_boulder_highway, la_quinta_inn_and_suites_tropicana,\n",
      "\n",
      "Cluster 4 words: b'buffet', b'view', b'restaurant', b'tower', b'lovely', b'waited', b'drink', b'play', b'elevator', b'wynn', b'table', b'enjoyed', b'suite', b'amp', b'line', b'smoking', b'upgraded', b'shower', b'bar', b'always',\n",
      "\n",
      "Cluster 4 hotels: mirage_hotel_casino, bally_s_las_vegas_hotel_casino, primm_valley_resort_hotel_las_vegas, whiskey_pete_s_casino_and_hotel, terrible_s_hotel_casino, bill_s_gamblin_hall_saloon, gold_coast_hotel_and_casino, springhill_suites_las_vegas_convention_center, casino_royale_and_hotel, jw_marriott_las_vegas_resort_spa_golf, imperial_palace_hotel_casino, fiesta_hotel_and_casino, sam_s_town_hotel_and_gambling_hall, caesars_palace_classic_hotel, harrah_s_las_vegas_casino_hotel, las_vegas_hilton, encore_at_wynn_las_vegas, four_seasons_hotel_las_vegas, suncoast_hotel_and_casino, treasure_island_ti_hotel_casino, red_rock_casino_resort_spa, skylofts_at_mgm_grand, the_palms_casino_hotel, flamingo_hotel_casino, greek_isles_hotel_casino, silverton_hotel_and_casino, new_york_new_york_hotel_and_casino, wynn_las_vegas, la_quinta_inn_and_suites_las_vegas_west, tropicana_inn, courtyard_by_marriott_las_vegas_convention_center, courtyard_by_marriott_las_vegas_summerlin, the_palazzo_resort_hotel_casino, the_westin_casuarina_las_vegas_hotel_casino_spa, palace_station, santa_fe_station_hotel, comfort_inn_suites_las_vegas,\n",
      "\n"
     ]
    }
   ],
   "source": [
    "print(\"Top terms per cluster:\")\n",
    "print()\n",
    "order_centroids = km.cluster_centers_.argsort()[:, ::-1]\n",
    "for i in range(num_clusters):\n",
    "    print(\"Cluster %d words:\" % i, end='')\n",
    "    for ind in order_centroids[i, :20]:\n",
    "        print(' %s' % hotel_vocab_frame.loc[terms[ind].split(' ')].values.tolist()[0][0].encode('utf-8', 'ignore'), end=',')\n",
    "    print()\n",
    "    print()\n",
    "    print(\"Cluster %d hotels:\" % i, end='')\n",
    "    for title in frame.loc[i]['hotel_name'].values.tolist():\n",
    "        print(' %s,' % title, end='')\n",
    "    print()\n",
    "    print()"
   ]
  },
  {
   "cell_type": "code",
   "execution_count": 43,
   "metadata": {},
   "outputs": [],
   "source": [
    "# problem, vegas hotels might not be enough by itself"
   ]
  },
  {
   "cell_type": "code",
   "execution_count": null,
   "metadata": {},
   "outputs": [],
   "source": []
  }
 ],
 "metadata": {
  "kernelspec": {
   "display_name": "Python 3",
   "language": "python",
   "name": "python3"
  },
  "language_info": {
   "codemirror_mode": {
    "name": "ipython",
    "version": 3
   },
   "file_extension": ".py",
   "mimetype": "text/x-python",
   "name": "python",
   "nbconvert_exporter": "python",
   "pygments_lexer": "ipython3",
   "version": "3.6.4"
  }
 },
 "nbformat": 4,
 "nbformat_minor": 2
}
