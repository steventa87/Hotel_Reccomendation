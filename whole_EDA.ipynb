{
 "cells": [
  {
   "cell_type": "code",
   "execution_count": 2,
   "metadata": {},
   "outputs": [],
   "source": [
    "import pandas as pd\n",
    "import numpy as np\n",
    "\n",
    "import os\n",
    "from __future__ import print_function\n",
    "import codecs\n",
    "import pickle\n",
    "import json\n",
    "\n",
    "import numpy as np\n",
    "import pandas as pd\n",
    "import random\n",
    "\n",
    "from sklearn import feature_extraction\n",
    "from sklearn.feature_extraction.text import TfidfVectorizer\n",
    "from sklearn.metrics.pairwise import cosine_similarity\n",
    "from sklearn.cluster import KMeans\n",
    "from sklearn.externals import joblib\n",
    "from sklearn.manifold import MDS\n",
    "\n",
    "from scipy.cluster.hierarchy import ward, dendrogram\n",
    "\n",
    "import nltk\n",
    "from nltk.stem.snowball import SnowballStemmer\n",
    "import re\n",
    "import mpld3\n",
    "\n",
    "import matplotlib.pyplot as plt\n",
    "%matplotlib inline\n",
    "\n",
    "from collections import defaultdict"
   ]
  },
  {
   "cell_type": "code",
   "execution_count": 4,
   "metadata": {},
   "outputs": [],
   "source": [
    "rating_headers = ['doc_id','hotel_name','hotel_url','street','city','state','country','zip','class','price','num_reviews','CLEANLINESS','ROOM','SERVICE','LOCATION','VALUE', 'COMFORT','overall_ratingsource']"
   ]
  },
  {
   "cell_type": "code",
   "execution_count": 19,
   "metadata": {},
   "outputs": [],
   "source": [
    "df_hotels_las_vegas = pd.read_csv('data/las-vegas.csv', names = rating_headers).drop(0)"
   ]
  },
  {
   "cell_type": "code",
   "execution_count": 20,
   "metadata": {},
   "outputs": [],
   "source": [
    "# san francisco\n",
    "df_hotels_san_francisco = pd.read_csv('data/san-francisco.csv', names = rating_headers).drop(0)"
   ]
  },
  {
   "cell_type": "code",
   "execution_count": 7,
   "metadata": {},
   "outputs": [],
   "source": [
    "# new york\n",
    "df_hotels_new_york = pd.read_csv('data/new-york-city.csv', names = rating_headers).drop(0)"
   ]
  },
  {
   "cell_type": "code",
   "execution_count": 4,
   "metadata": {},
   "outputs": [
    {
     "data": {
      "text/html": [
       "<div>\n",
       "<style>\n",
       "    .dataframe thead tr:only-child th {\n",
       "        text-align: right;\n",
       "    }\n",
       "\n",
       "    .dataframe thead th {\n",
       "        text-align: left;\n",
       "    }\n",
       "\n",
       "    .dataframe tbody tr th {\n",
       "        vertical-align: top;\n",
       "    }\n",
       "</style>\n",
       "<table border=\"1\" class=\"dataframe\">\n",
       "  <thead>\n",
       "    <tr style=\"text-align: right;\">\n",
       "      <th></th>\n",
       "      <th>doc_id</th>\n",
       "      <th>hotel_name</th>\n",
       "      <th>hotel_url</th>\n",
       "      <th>street</th>\n",
       "      <th>city</th>\n",
       "      <th>state</th>\n",
       "      <th>country</th>\n",
       "      <th>zip</th>\n",
       "      <th>class</th>\n",
       "      <th>price</th>\n",
       "      <th>num_reviews</th>\n",
       "      <th>CLEANLINESS</th>\n",
       "      <th>ROOM</th>\n",
       "      <th>SERVICE</th>\n",
       "      <th>LOCATION</th>\n",
       "      <th>VALUE</th>\n",
       "      <th>COMFORT</th>\n",
       "      <th>overall_ratingsource</th>\n",
       "    </tr>\n",
       "  </thead>\n",
       "  <tbody>\n",
       "    <tr>\n",
       "      <th>1</th>\n",
       "      <td>usa_nevada_las-vegas_staybridge_suites_las_vegas</td>\n",
       "      <td>staybridge suites las vegas</td>\n",
       "      <td>http://www.tripadvisor.com/ShowUserReviews-g45...</td>\n",
       "      <td>-1</td>\n",
       "      <td>las vegas</td>\n",
       "      <td>nv</td>\n",
       "      <td>usa</td>\n",
       "      <td>89118</td>\n",
       "      <td>-1</td>\n",
       "      <td>-1</td>\n",
       "      <td>113</td>\n",
       "      <td>4.884615384615385</td>\n",
       "      <td>4.913461538461538</td>\n",
       "      <td>4.721153846153846</td>\n",
       "      <td>4.259615384615385</td>\n",
       "      <td>4.855769230769231</td>\n",
       "      <td>0.0</td>\n",
       "      <td>4.726923076923077</td>\n",
       "    </tr>\n",
       "    <tr>\n",
       "      <th>2</th>\n",
       "      <td>usa_nevada_las-vegas_four_seasons_hotel_las_vegas</td>\n",
       "      <td>four seasons hotel las vegas</td>\n",
       "      <td>http://www.tripadvisor.com/ShowUserReviews-g45...</td>\n",
       "      <td>-1</td>\n",
       "      <td>las vegas</td>\n",
       "      <td>nv</td>\n",
       "      <td>usa</td>\n",
       "      <td>89119</td>\n",
       "      <td>-1</td>\n",
       "      <td>-1</td>\n",
       "      <td>427</td>\n",
       "      <td>4.823321554770318</td>\n",
       "      <td>4.614840989399293</td>\n",
       "      <td>4.692579505300353</td>\n",
       "      <td>4.219081272084805</td>\n",
       "      <td>4.339222614840989</td>\n",
       "      <td>0.0</td>\n",
       "      <td>4.5378091872791515</td>\n",
       "    </tr>\n",
       "    <tr>\n",
       "      <th>3</th>\n",
       "      <td>usa_nevada_las-vegas_desert_rose_resort</td>\n",
       "      <td>desert rose resort</td>\n",
       "      <td>http://www.tripadvisor.com/ShowUserReviews-g45...</td>\n",
       "      <td>-1</td>\n",
       "      <td>las vegas</td>\n",
       "      <td>nv</td>\n",
       "      <td>usa</td>\n",
       "      <td>89119</td>\n",
       "      <td>-1</td>\n",
       "      <td>-1</td>\n",
       "      <td>325</td>\n",
       "      <td>4.601328903654485</td>\n",
       "      <td>4.614617940199335</td>\n",
       "      <td>4.548172757475083</td>\n",
       "      <td>4.46843853820598</td>\n",
       "      <td>4.707641196013289</td>\n",
       "      <td>0.0</td>\n",
       "      <td>4.588039867109634</td>\n",
       "    </tr>\n",
       "    <tr>\n",
       "      <th>4</th>\n",
       "      <td>usa_nevada_las-vegas_signature_at_mgm_grand</td>\n",
       "      <td>signature at mgm grand</td>\n",
       "      <td>http://www.tripadvisor.com/ShowUserReviews-g45...</td>\n",
       "      <td>-1</td>\n",
       "      <td>las vegas</td>\n",
       "      <td>nv</td>\n",
       "      <td>usa</td>\n",
       "      <td>89109</td>\n",
       "      <td>-1</td>\n",
       "      <td>-1</td>\n",
       "      <td>324</td>\n",
       "      <td>4.7574750830564785</td>\n",
       "      <td>4.760797342192691</td>\n",
       "      <td>4.45514950166113</td>\n",
       "      <td>4.129568106312292</td>\n",
       "      <td>4.45514950166113</td>\n",
       "      <td>0.0</td>\n",
       "      <td>4.511627906976744</td>\n",
       "    </tr>\n",
       "    <tr>\n",
       "      <th>5</th>\n",
       "      <td>usa_nevada_las-vegas_skylofts_at_mgm_grand</td>\n",
       "      <td>skylofts at mgm grand</td>\n",
       "      <td>http://www.tripadvisor.com/ShowUserReviews-g45...</td>\n",
       "      <td>-1</td>\n",
       "      <td>las vegas</td>\n",
       "      <td>nv</td>\n",
       "      <td>usa</td>\n",
       "      <td>89109</td>\n",
       "      <td>-1</td>\n",
       "      <td>-1</td>\n",
       "      <td>77</td>\n",
       "      <td>4.863636363636363</td>\n",
       "      <td>4.893939393939394</td>\n",
       "      <td>4.803030303030303</td>\n",
       "      <td>4.53030303030303</td>\n",
       "      <td>4.378787878787879</td>\n",
       "      <td>0.0</td>\n",
       "      <td>4.693939393939393</td>\n",
       "    </tr>\n",
       "  </tbody>\n",
       "</table>\n",
       "</div>"
      ],
      "text/plain": [
       "                                              doc_id  \\\n",
       "1   usa_nevada_las-vegas_staybridge_suites_las_vegas   \n",
       "2  usa_nevada_las-vegas_four_seasons_hotel_las_vegas   \n",
       "3            usa_nevada_las-vegas_desert_rose_resort   \n",
       "4        usa_nevada_las-vegas_signature_at_mgm_grand   \n",
       "5         usa_nevada_las-vegas_skylofts_at_mgm_grand   \n",
       "\n",
       "                     hotel_name  \\\n",
       "1   staybridge suites las vegas   \n",
       "2  four seasons hotel las vegas   \n",
       "3            desert rose resort   \n",
       "4        signature at mgm grand   \n",
       "5         skylofts at mgm grand   \n",
       "\n",
       "                                           hotel_url street       city state  \\\n",
       "1  http://www.tripadvisor.com/ShowUserReviews-g45...     -1  las vegas    nv   \n",
       "2  http://www.tripadvisor.com/ShowUserReviews-g45...     -1  las vegas    nv   \n",
       "3  http://www.tripadvisor.com/ShowUserReviews-g45...     -1  las vegas    nv   \n",
       "4  http://www.tripadvisor.com/ShowUserReviews-g45...     -1  las vegas    nv   \n",
       "5  http://www.tripadvisor.com/ShowUserReviews-g45...     -1  las vegas    nv   \n",
       "\n",
       "  country    zip class price num_reviews         CLEANLINESS  \\\n",
       "1     usa  89118    -1    -1         113   4.884615384615385   \n",
       "2     usa  89119    -1    -1         427   4.823321554770318   \n",
       "3     usa  89119    -1    -1         325   4.601328903654485   \n",
       "4     usa  89109    -1    -1         324  4.7574750830564785   \n",
       "5     usa  89109    -1    -1          77   4.863636363636363   \n",
       "\n",
       "                ROOM            SERVICE           LOCATION              VALUE  \\\n",
       "1  4.913461538461538  4.721153846153846  4.259615384615385  4.855769230769231   \n",
       "2  4.614840989399293  4.692579505300353  4.219081272084805  4.339222614840989   \n",
       "3  4.614617940199335  4.548172757475083   4.46843853820598  4.707641196013289   \n",
       "4  4.760797342192691   4.45514950166113  4.129568106312292   4.45514950166113   \n",
       "5  4.893939393939394  4.803030303030303   4.53030303030303  4.378787878787879   \n",
       "\n",
       "  COMFORT overall_ratingsource  \n",
       "1     0.0    4.726923076923077  \n",
       "2     0.0   4.5378091872791515  \n",
       "3     0.0    4.588039867109634  \n",
       "4     0.0    4.511627906976744  \n",
       "5     0.0    4.693939393939393  "
      ]
     },
     "execution_count": 4,
     "metadata": {},
     "output_type": "execute_result"
    }
   ],
   "source": [
    "df_hotels_las_vegas.head()"
   ]
  },
  {
   "cell_type": "code",
   "execution_count": 21,
   "metadata": {},
   "outputs": [
    {
     "data": {
      "text/html": [
       "<div>\n",
       "<style>\n",
       "    .dataframe thead tr:only-child th {\n",
       "        text-align: right;\n",
       "    }\n",
       "\n",
       "    .dataframe thead th {\n",
       "        text-align: left;\n",
       "    }\n",
       "\n",
       "    .dataframe tbody tr th {\n",
       "        vertical-align: top;\n",
       "    }\n",
       "</style>\n",
       "<table border=\"1\" class=\"dataframe\">\n",
       "  <thead>\n",
       "    <tr style=\"text-align: right;\">\n",
       "      <th></th>\n",
       "      <th>doc_id</th>\n",
       "      <th>hotel_name</th>\n",
       "      <th>hotel_url</th>\n",
       "      <th>street</th>\n",
       "      <th>city</th>\n",
       "      <th>state</th>\n",
       "      <th>country</th>\n",
       "      <th>zip</th>\n",
       "      <th>class</th>\n",
       "      <th>price</th>\n",
       "      <th>num_reviews</th>\n",
       "      <th>CLEANLINESS</th>\n",
       "      <th>ROOM</th>\n",
       "      <th>SERVICE</th>\n",
       "      <th>LOCATION</th>\n",
       "      <th>VALUE</th>\n",
       "      <th>COMFORT</th>\n",
       "      <th>overall_ratingsource</th>\n",
       "    </tr>\n",
       "  </thead>\n",
       "  <tbody>\n",
       "    <tr>\n",
       "      <th>1</th>\n",
       "      <td>usa_san francisco_fairmont_heritage_place_ghir...</td>\n",
       "      <td>fairmont heritage place ghirardelli square</td>\n",
       "      <td>http://www.tripadvisor.com/ShowUserReviews-g60...</td>\n",
       "      <td>900 north point street</td>\n",
       "      <td>san francisco</td>\n",
       "      <td>ca</td>\n",
       "      <td>USA</td>\n",
       "      <td>94109</td>\n",
       "      <td>-1</td>\n",
       "      <td>-1</td>\n",
       "      <td>41</td>\n",
       "      <td>4.897435897435898</td>\n",
       "      <td>4.948717948717949</td>\n",
       "      <td>4.769230769230769</td>\n",
       "      <td>4.743589743589744</td>\n",
       "      <td>4.615384615384615</td>\n",
       "      <td>0.0</td>\n",
       "      <td>4.794871794871795</td>\n",
       "    </tr>\n",
       "    <tr>\n",
       "      <th>2</th>\n",
       "      <td>usa_san francisco_hotel_drisco</td>\n",
       "      <td>hotel drisco</td>\n",
       "      <td>http://www.tripadvisor.com/ShowUserReviews-g60...</td>\n",
       "      <td>2901 pacific avenue</td>\n",
       "      <td>san francisco</td>\n",
       "      <td>ca</td>\n",
       "      <td>USA</td>\n",
       "      <td>94115</td>\n",
       "      <td>-1</td>\n",
       "      <td>-1</td>\n",
       "      <td>307</td>\n",
       "      <td>4.802816901408451</td>\n",
       "      <td>4.694835680751174</td>\n",
       "      <td>4.765258215962441</td>\n",
       "      <td>4.525821596244131</td>\n",
       "      <td>4.572769953051643</td>\n",
       "      <td>0.0</td>\n",
       "      <td>4.672300469483568</td>\n",
       "    </tr>\n",
       "    <tr>\n",
       "      <th>3</th>\n",
       "      <td>usa_san francisco_omni_san_francisco_hotel</td>\n",
       "      <td>omni san francisco hotel</td>\n",
       "      <td>http://www.tripadvisor.com/ShowUserReviews-g60...</td>\n",
       "      <td>500 california street</td>\n",
       "      <td>san francisco</td>\n",
       "      <td>ca</td>\n",
       "      <td>USA</td>\n",
       "      <td>94104</td>\n",
       "      <td>-1</td>\n",
       "      <td>-1</td>\n",
       "      <td>350</td>\n",
       "      <td>4.767441860465116</td>\n",
       "      <td>4.571428571428571</td>\n",
       "      <td>4.737541528239203</td>\n",
       "      <td>4.485049833887043</td>\n",
       "      <td>4.431893687707642</td>\n",
       "      <td>0.0</td>\n",
       "      <td>4.598671096345514</td>\n",
       "    </tr>\n",
       "    <tr>\n",
       "      <th>4</th>\n",
       "      <td>usa_san francisco_the_inn_at_union_square</td>\n",
       "      <td>the inn at union square</td>\n",
       "      <td>http://www.tripadvisor.com/ShowUserReviews-g60...</td>\n",
       "      <td>440 post street</td>\n",
       "      <td>san francisco</td>\n",
       "      <td>ca</td>\n",
       "      <td>USA</td>\n",
       "      <td>94102</td>\n",
       "      <td>-1</td>\n",
       "      <td>-1</td>\n",
       "      <td>241</td>\n",
       "      <td>4.576086956521739</td>\n",
       "      <td>4.375</td>\n",
       "      <td>4.695652173913044</td>\n",
       "      <td>4.907608695652174</td>\n",
       "      <td>4.603260869565218</td>\n",
       "      <td>0.0</td>\n",
       "      <td>4.631521739130435</td>\n",
       "    </tr>\n",
       "    <tr>\n",
       "      <th>5</th>\n",
       "      <td>usa_san francisco_the_orchard_hotel</td>\n",
       "      <td>the orchard hotel</td>\n",
       "      <td>http://www.tripadvisor.com/ShowUserReviews-g60...</td>\n",
       "      <td>665 bush street</td>\n",
       "      <td>san francisco</td>\n",
       "      <td>ca</td>\n",
       "      <td>USA</td>\n",
       "      <td>94108</td>\n",
       "      <td>-1</td>\n",
       "      <td>-1</td>\n",
       "      <td>333</td>\n",
       "      <td>4.687707641196013</td>\n",
       "      <td>4.584717607973422</td>\n",
       "      <td>4.465116279069767</td>\n",
       "      <td>4.691029900332226</td>\n",
       "      <td>4.514950166112957</td>\n",
       "      <td>0.0</td>\n",
       "      <td>4.588704318936878</td>\n",
       "    </tr>\n",
       "  </tbody>\n",
       "</table>\n",
       "</div>"
      ],
      "text/plain": [
       "                                              doc_id  \\\n",
       "1  usa_san francisco_fairmont_heritage_place_ghir...   \n",
       "2                     usa_san francisco_hotel_drisco   \n",
       "3         usa_san francisco_omni_san_francisco_hotel   \n",
       "4          usa_san francisco_the_inn_at_union_square   \n",
       "5                usa_san francisco_the_orchard_hotel   \n",
       "\n",
       "                                   hotel_name  \\\n",
       "1  fairmont heritage place ghirardelli square   \n",
       "2                                hotel drisco   \n",
       "3                    omni san francisco hotel   \n",
       "4                     the inn at union square   \n",
       "5                           the orchard hotel   \n",
       "\n",
       "                                           hotel_url                  street  \\\n",
       "1  http://www.tripadvisor.com/ShowUserReviews-g60...  900 north point street   \n",
       "2  http://www.tripadvisor.com/ShowUserReviews-g60...     2901 pacific avenue   \n",
       "3  http://www.tripadvisor.com/ShowUserReviews-g60...   500 california street   \n",
       "4  http://www.tripadvisor.com/ShowUserReviews-g60...         440 post street   \n",
       "5  http://www.tripadvisor.com/ShowUserReviews-g60...         665 bush street   \n",
       "\n",
       "            city state country    zip class price num_reviews  \\\n",
       "1  san francisco    ca     USA  94109    -1    -1          41   \n",
       "2  san francisco    ca     USA  94115    -1    -1         307   \n",
       "3  san francisco    ca     USA  94104    -1    -1         350   \n",
       "4  san francisco    ca     USA  94102    -1    -1         241   \n",
       "5  san francisco    ca     USA  94108    -1    -1         333   \n",
       "\n",
       "         CLEANLINESS               ROOM            SERVICE           LOCATION  \\\n",
       "1  4.897435897435898  4.948717948717949  4.769230769230769  4.743589743589744   \n",
       "2  4.802816901408451  4.694835680751174  4.765258215962441  4.525821596244131   \n",
       "3  4.767441860465116  4.571428571428571  4.737541528239203  4.485049833887043   \n",
       "4  4.576086956521739              4.375  4.695652173913044  4.907608695652174   \n",
       "5  4.687707641196013  4.584717607973422  4.465116279069767  4.691029900332226   \n",
       "\n",
       "               VALUE COMFORT overall_ratingsource  \n",
       "1  4.615384615384615     0.0    4.794871794871795  \n",
       "2  4.572769953051643     0.0    4.672300469483568  \n",
       "3  4.431893687707642     0.0    4.598671096345514  \n",
       "4  4.603260869565218     0.0    4.631521739130435  \n",
       "5  4.514950166112957     0.0    4.588704318936878  "
      ]
     },
     "execution_count": 21,
     "metadata": {},
     "output_type": "execute_result"
    }
   ],
   "source": [
    "df_hotels_san_francisco.head()"
   ]
  },
  {
   "cell_type": "code",
   "execution_count": 9,
   "metadata": {},
   "outputs": [
    {
     "data": {
      "text/html": [
       "<div>\n",
       "<style>\n",
       "    .dataframe thead tr:only-child th {\n",
       "        text-align: right;\n",
       "    }\n",
       "\n",
       "    .dataframe thead th {\n",
       "        text-align: left;\n",
       "    }\n",
       "\n",
       "    .dataframe tbody tr th {\n",
       "        vertical-align: top;\n",
       "    }\n",
       "</style>\n",
       "<table border=\"1\" class=\"dataframe\">\n",
       "  <thead>\n",
       "    <tr style=\"text-align: right;\">\n",
       "      <th></th>\n",
       "      <th>doc_id</th>\n",
       "      <th>hotel_name</th>\n",
       "      <th>hotel_url</th>\n",
       "      <th>street</th>\n",
       "      <th>city</th>\n",
       "      <th>state</th>\n",
       "      <th>country</th>\n",
       "      <th>zip</th>\n",
       "      <th>class</th>\n",
       "      <th>price</th>\n",
       "      <th>num_reviews</th>\n",
       "      <th>CLEANLINESS</th>\n",
       "      <th>ROOM</th>\n",
       "      <th>SERVICE</th>\n",
       "      <th>LOCATION</th>\n",
       "      <th>VALUE</th>\n",
       "      <th>COMFORT</th>\n",
       "      <th>overall_ratingsource</th>\n",
       "    </tr>\n",
       "  </thead>\n",
       "  <tbody>\n",
       "    <tr>\n",
       "      <th>1</th>\n",
       "      <td>usa_new york city_inn_new_york_city</td>\n",
       "      <td>inn new york city</td>\n",
       "      <td>http://www.tripadvisor.com/ShowUserReviews-g60...</td>\n",
       "      <td>266 west 71st st.</td>\n",
       "      <td>new york city</td>\n",
       "      <td>ny</td>\n",
       "      <td>USA</td>\n",
       "      <td>10023</td>\n",
       "      <td>-1</td>\n",
       "      <td>-1</td>\n",
       "      <td>98</td>\n",
       "      <td>4.984848484848484</td>\n",
       "      <td>4.9393939393939394</td>\n",
       "      <td>4.96969696969697</td>\n",
       "      <td>4.893939393939394</td>\n",
       "      <td>4.757575757575758</td>\n",
       "      <td>0.0</td>\n",
       "      <td>4.909090909090908</td>\n",
       "    </tr>\n",
       "    <tr>\n",
       "      <th>2</th>\n",
       "      <td>usa_new york city_casablanca_hotel</td>\n",
       "      <td>casablanca hotel</td>\n",
       "      <td>http://www.tripadvisor.com/ShowUserReviews-g60...</td>\n",
       "      <td>147 west 43rd street</td>\n",
       "      <td>new york city</td>\n",
       "      <td>ny</td>\n",
       "      <td>USA</td>\n",
       "      <td>10036</td>\n",
       "      <td>-1</td>\n",
       "      <td>-1</td>\n",
       "      <td>330</td>\n",
       "      <td>4.73421926910299</td>\n",
       "      <td>4.21594684385382</td>\n",
       "      <td>4.767441860465116</td>\n",
       "      <td>4.840531561461794</td>\n",
       "      <td>4.382059800664452</td>\n",
       "      <td>0.0</td>\n",
       "      <td>4.588039867109634</td>\n",
       "    </tr>\n",
       "    <tr>\n",
       "      <th>3</th>\n",
       "      <td>usa_new york city_library_hotel</td>\n",
       "      <td>library hotel</td>\n",
       "      <td>http://www.tripadvisor.com/ShowUserReviews-g60...</td>\n",
       "      <td>299 madison avenue</td>\n",
       "      <td>new york city</td>\n",
       "      <td>ny</td>\n",
       "      <td>USA</td>\n",
       "      <td>10017</td>\n",
       "      <td>-1</td>\n",
       "      <td>-1</td>\n",
       "      <td>341</td>\n",
       "      <td>4.897009966777409</td>\n",
       "      <td>4.4916943521594686</td>\n",
       "      <td>4.787375415282392</td>\n",
       "      <td>4.807308970099668</td>\n",
       "      <td>4.3754152823920265</td>\n",
       "      <td>0.0</td>\n",
       "      <td>4.671760797342193</td>\n",
       "    </tr>\n",
       "    <tr>\n",
       "      <th>4</th>\n",
       "      <td>usa_new york city_new_york_palace_hotel</td>\n",
       "      <td>new york palace hotel</td>\n",
       "      <td>http://www.tripadvisor.com/ShowUserReviews-g60...</td>\n",
       "      <td>455 madison ave</td>\n",
       "      <td>new york city</td>\n",
       "      <td>ny</td>\n",
       "      <td>USA</td>\n",
       "      <td>10022</td>\n",
       "      <td>-1</td>\n",
       "      <td>-1</td>\n",
       "      <td>345</td>\n",
       "      <td>4.803986710963455</td>\n",
       "      <td>4.647840531561462</td>\n",
       "      <td>4.651162790697675</td>\n",
       "      <td>4.8604651162790695</td>\n",
       "      <td>4.3455149501661126</td>\n",
       "      <td>0.0</td>\n",
       "      <td>4.661794019933555</td>\n",
       "    </tr>\n",
       "    <tr>\n",
       "      <th>5</th>\n",
       "      <td>usa_new york city_the_french_quarters_guest_ap...</td>\n",
       "      <td>the french quarters guest apartments</td>\n",
       "      <td>http://www.tripadvisor.com/ShowUserReviews-g60...</td>\n",
       "      <td>346 w. 46th street</td>\n",
       "      <td>new york city</td>\n",
       "      <td>ny</td>\n",
       "      <td>USA</td>\n",
       "      <td>10036</td>\n",
       "      <td>-1</td>\n",
       "      <td>-1</td>\n",
       "      <td>33</td>\n",
       "      <td>4.896551724137931</td>\n",
       "      <td>4.724137931034483</td>\n",
       "      <td>4.689655172413793</td>\n",
       "      <td>4.793103448275862</td>\n",
       "      <td>4.655172413793103</td>\n",
       "      <td>0.0</td>\n",
       "      <td>4.751724137931035</td>\n",
       "    </tr>\n",
       "  </tbody>\n",
       "</table>\n",
       "</div>"
      ],
      "text/plain": [
       "                                              doc_id  \\\n",
       "1                usa_new york city_inn_new_york_city   \n",
       "2                 usa_new york city_casablanca_hotel   \n",
       "3                    usa_new york city_library_hotel   \n",
       "4            usa_new york city_new_york_palace_hotel   \n",
       "5  usa_new york city_the_french_quarters_guest_ap...   \n",
       "\n",
       "                             hotel_name  \\\n",
       "1                     inn new york city   \n",
       "2                      casablanca hotel   \n",
       "3                         library hotel   \n",
       "4                 new york palace hotel   \n",
       "5  the french quarters guest apartments   \n",
       "\n",
       "                                           hotel_url                street  \\\n",
       "1  http://www.tripadvisor.com/ShowUserReviews-g60...     266 west 71st st.   \n",
       "2  http://www.tripadvisor.com/ShowUserReviews-g60...  147 west 43rd street   \n",
       "3  http://www.tripadvisor.com/ShowUserReviews-g60...    299 madison avenue   \n",
       "4  http://www.tripadvisor.com/ShowUserReviews-g60...       455 madison ave   \n",
       "5  http://www.tripadvisor.com/ShowUserReviews-g60...    346 w. 46th street   \n",
       "\n",
       "            city state country    zip class price num_reviews  \\\n",
       "1  new york city    ny     USA  10023    -1    -1          98   \n",
       "2  new york city    ny     USA  10036    -1    -1         330   \n",
       "3  new york city    ny     USA  10017    -1    -1         341   \n",
       "4  new york city    ny     USA  10022    -1    -1         345   \n",
       "5  new york city    ny     USA  10036    -1    -1          33   \n",
       "\n",
       "         CLEANLINESS                ROOM            SERVICE  \\\n",
       "1  4.984848484848484  4.9393939393939394   4.96969696969697   \n",
       "2   4.73421926910299    4.21594684385382  4.767441860465116   \n",
       "3  4.897009966777409  4.4916943521594686  4.787375415282392   \n",
       "4  4.803986710963455   4.647840531561462  4.651162790697675   \n",
       "5  4.896551724137931   4.724137931034483  4.689655172413793   \n",
       "\n",
       "             LOCATION               VALUE COMFORT overall_ratingsource  \n",
       "1   4.893939393939394   4.757575757575758     0.0    4.909090909090908  \n",
       "2   4.840531561461794   4.382059800664452     0.0    4.588039867109634  \n",
       "3   4.807308970099668  4.3754152823920265     0.0    4.671760797342193  \n",
       "4  4.8604651162790695  4.3455149501661126     0.0    4.661794019933555  \n",
       "5   4.793103448275862   4.655172413793103     0.0    4.751724137931035  "
      ]
     },
     "execution_count": 9,
     "metadata": {},
     "output_type": "execute_result"
    }
   ],
   "source": [
    "# New york\n",
    "df_hotels_new_york.head()"
   ]
  },
  {
   "cell_type": "code",
   "execution_count": 5,
   "metadata": {},
   "outputs": [
    {
     "name": "stdout",
     "output_type": "stream",
     "text": [
      "<class 'pandas.core.frame.DataFrame'>\n",
      "Int64Index: 230 entries, 1 to 230\n",
      "Data columns (total 18 columns):\n",
      "doc_id                  230 non-null object\n",
      "hotel_name              230 non-null object\n",
      "hotel_url               230 non-null object\n",
      "street                  230 non-null object\n",
      "city                    230 non-null object\n",
      "state                   230 non-null object\n",
      "country                 230 non-null object\n",
      "zip                     230 non-null object\n",
      "class                   230 non-null object\n",
      "price                   230 non-null object\n",
      "num_reviews             230 non-null object\n",
      "CLEANLINESS             230 non-null object\n",
      "ROOM                    230 non-null object\n",
      "SERVICE                 230 non-null object\n",
      "LOCATION                230 non-null object\n",
      "VALUE                   230 non-null object\n",
      "COMFORT                 230 non-null object\n",
      "overall_ratingsource    230 non-null object\n",
      "dtypes: object(18)\n",
      "memory usage: 34.1+ KB\n"
     ]
    }
   ],
   "source": [
    "df_hotels_las_vegas.info()"
   ]
  },
  {
   "cell_type": "code",
   "execution_count": 18,
   "metadata": {},
   "outputs": [
    {
     "name": "stdout",
     "output_type": "stream",
     "text": [
      "<class 'pandas.core.frame.DataFrame'>\n",
      "Int64Index: 227 entries, 1 to 227\n",
      "Data columns (total 18 columns):\n",
      "doc_id                  227 non-null object\n",
      "hotel_name              227 non-null object\n",
      "hotel_url               227 non-null object\n",
      "street                  227 non-null object\n",
      "city                    227 non-null object\n",
      "state                   227 non-null object\n",
      "country                 227 non-null object\n",
      "zip                     227 non-null object\n",
      "class                   227 non-null object\n",
      "price                   227 non-null object\n",
      "num_reviews             227 non-null object\n",
      "CLEANLINESS             227 non-null object\n",
      "ROOM                    227 non-null object\n",
      "SERVICE                 227 non-null object\n",
      "LOCATION                227 non-null object\n",
      "VALUE                   227 non-null object\n",
      "COMFORT                 227 non-null object\n",
      "overall_ratingsource    227 non-null object\n",
      "dtypes: object(18)\n",
      "memory usage: 33.7+ KB\n"
     ]
    }
   ],
   "source": [
    "df_hotels_san_francisco.info()"
   ]
  },
  {
   "cell_type": "code",
   "execution_count": 29,
   "metadata": {},
   "outputs": [
    {
     "name": "stdout",
     "output_type": "stream",
     "text": [
      "<class 'pandas.core.frame.DataFrame'>\n",
      "Int64Index: 260 entries, 1 to 260\n",
      "Data columns (total 18 columns):\n",
      "doc_id                  260 non-null object\n",
      "hotel_name              260 non-null object\n",
      "hotel_url               260 non-null object\n",
      "street                  260 non-null object\n",
      "city                    260 non-null object\n",
      "state                   260 non-null object\n",
      "country                 260 non-null object\n",
      "zip                     260 non-null object\n",
      "class                   260 non-null object\n",
      "price                   260 non-null object\n",
      "num_reviews             260 non-null int64\n",
      "CLEANLINESS             260 non-null object\n",
      "ROOM                    260 non-null object\n",
      "SERVICE                 260 non-null object\n",
      "LOCATION                260 non-null object\n",
      "VALUE                   260 non-null object\n",
      "COMFORT                 260 non-null object\n",
      "overall_ratingsource    260 non-null float64\n",
      "dtypes: float64(1), int64(1), object(16)\n",
      "memory usage: 38.6+ KB\n"
     ]
    }
   ],
   "source": [
    "df_hotels_new_york.info()"
   ]
  },
  {
   "cell_type": "code",
   "execution_count": 25,
   "metadata": {},
   "outputs": [],
   "source": [
    "# convert overall_ratingsource to float\n",
    "df_hotels_las_vegas['overall_ratingsource'] = df_hotels_las_vegas['overall_ratingsource'].astype(float)"
   ]
  },
  {
   "cell_type": "code",
   "execution_count": 22,
   "metadata": {},
   "outputs": [],
   "source": [
    "# SF - convert overall_ratingsource to float\n",
    "df_hotels_san_francisco['overall_ratingsource'] = df_hotels_san_francisco['overall_ratingsource'].astype(float)"
   ]
  },
  {
   "cell_type": "code",
   "execution_count": 10,
   "metadata": {},
   "outputs": [],
   "source": [
    "# NY - convert overall_ratingsource to float\n",
    "df_hotels_new_york['overall_ratingsource'] = df_hotels_new_york['overall_ratingsource'].astype(float)"
   ]
  },
  {
   "cell_type": "code",
   "execution_count": 27,
   "metadata": {},
   "outputs": [],
   "source": [
    "# convert num_reviews to int\n",
    "df_hotels_las_vegas['num_reviews'] = df_hotels_las_vegas['num_reviews'].astype(int)"
   ]
  },
  {
   "cell_type": "code",
   "execution_count": 23,
   "metadata": {},
   "outputs": [],
   "source": [
    "# SF - convert num_reviews to int\n",
    "df_hotels_san_francisco['num_reviews'] = df_hotels_san_francisco['num_reviews'].astype(int)"
   ]
  },
  {
   "cell_type": "code",
   "execution_count": 24,
   "metadata": {},
   "outputs": [
    {
     "data": {
      "text/plain": [
       "30411"
      ]
     },
     "execution_count": 24,
     "metadata": {},
     "output_type": "execute_result"
    }
   ],
   "source": [
    "# Count reviews of SF\n",
    "df_hotels_san_francisco['num_reviews'].sum()"
   ]
  },
  {
   "cell_type": "code",
   "execution_count": 28,
   "metadata": {},
   "outputs": [
    {
     "data": {
      "text/plain": [
       "26517"
      ]
     },
     "execution_count": 28,
     "metadata": {},
     "output_type": "execute_result"
    }
   ],
   "source": [
    "# Count reviews of Vegas\n",
    "df_hotels_las_vegas['num_reviews'].sum()"
   ]
  },
  {
   "cell_type": "code",
   "execution_count": 13,
   "metadata": {},
   "outputs": [],
   "source": [
    "# NY - convert num_reviews to int\n",
    "df_hotels_new_york['num_reviews'] = df_hotels_new_york['num_reviews'].astype(int)"
   ]
  },
  {
   "cell_type": "code",
   "execution_count": 14,
   "metadata": {},
   "outputs": [
    {
     "data": {
      "text/plain": [
       "55147"
      ]
     },
     "execution_count": 14,
     "metadata": {},
     "output_type": "execute_result"
    }
   ],
   "source": [
    "# Count reviews of NY\n",
    "df_hotels_new_york['num_reviews'].sum()"
   ]
  },
  {
   "cell_type": "code",
   "execution_count": 7,
   "metadata": {},
   "outputs": [],
   "source": [
    "# get rid of all hotels that are ratings below 4\n",
    "lower_2 = df_hotels_las_vegas['overall_ratingsource'] > 2\n",
    "df_hotels_las_vegas = df_hotels_las_vegas[lower_2]"
   ]
  },
  {
   "cell_type": "code",
   "execution_count": 21,
   "metadata": {},
   "outputs": [],
   "source": [
    "# get rid of all hotels that are ratings below 4\n",
    "lower_2 = df_hotels_san_francisco['overall_ratingsource'] > 2\n",
    "df_hotels_san_francisco = df_hotels_san_francisco[lower_2]"
   ]
  },
  {
   "cell_type": "code",
   "execution_count": 8,
   "metadata": {},
   "outputs": [
    {
     "data": {
      "text/plain": [
       "doc_id                  198\n",
       "hotel_name              198\n",
       "hotel_url               198\n",
       "street                  198\n",
       "city                    198\n",
       "state                   198\n",
       "country                 198\n",
       "zip                     198\n",
       "class                   198\n",
       "price                   198\n",
       "num_reviews             198\n",
       "CLEANLINESS             198\n",
       "ROOM                    198\n",
       "SERVICE                 198\n",
       "LOCATION                198\n",
       "VALUE                   198\n",
       "COMFORT                 198\n",
       "overall_ratingsource    198\n",
       "dtype: int64"
      ]
     },
     "execution_count": 8,
     "metadata": {},
     "output_type": "execute_result"
    }
   ],
   "source": [
    "df_hotels_las_vegas.count()"
   ]
  },
  {
   "cell_type": "code",
   "execution_count": 22,
   "metadata": {},
   "outputs": [
    {
     "data": {
      "text/plain": [
       "doc_id                  213\n",
       "hotel_name              213\n",
       "hotel_url               213\n",
       "street                  213\n",
       "city                    213\n",
       "state                   213\n",
       "country                 213\n",
       "zip                     213\n",
       "class                   213\n",
       "price                   213\n",
       "num_reviews             213\n",
       "CLEANLINESS             213\n",
       "ROOM                    213\n",
       "SERVICE                 213\n",
       "LOCATION                213\n",
       "VALUE                   213\n",
       "COMFORT                 213\n",
       "overall_ratingsource    213\n",
       "dtype: int64"
      ]
     },
     "execution_count": 22,
     "metadata": {},
     "output_type": "execute_result"
    }
   ],
   "source": [
    "df_hotels_san_francisco.count()"
   ]
  },
  {
   "cell_type": "code",
   "execution_count": 15,
   "metadata": {},
   "outputs": [
    {
     "data": {
      "text/plain": [
       "26273"
      ]
     },
     "execution_count": 15,
     "metadata": {},
     "output_type": "execute_result"
    }
   ],
   "source": [
    "df_hotels_las_vegas['num_reviews'].sum()"
   ]
  },
  {
   "cell_type": "code",
   "execution_count": 23,
   "metadata": {},
   "outputs": [
    {
     "data": {
      "text/plain": [
       "30104"
      ]
     },
     "execution_count": 23,
     "metadata": {},
     "output_type": "execute_result"
    }
   ],
   "source": [
    "df_hotels_san_francisco['num_reviews'].sum()"
   ]
  },
  {
   "cell_type": "code",
   "execution_count": 13,
   "metadata": {},
   "outputs": [
    {
     "data": {
      "text/plain": [
       "''"
      ]
     },
     "execution_count": 13,
     "metadata": {},
     "output_type": "execute_result"
    },
    {
     "data": {
      "image/png": "[encoded data removed]",
      "text/plain": [
       "<matplotlib.figure.Figure at 0x1a1c9bc908>"
      ]
     },
     "metadata": {},
     "output_type": "display_data"
    }
   ],
   "source": [
    "plt.hist(df_hotels_las_vegas['num_reviews'])\n",
    ";"
   ]
  },
  {
   "cell_type": "code",
   "execution_count": 30,
   "metadata": {},
   "outputs": [
    {
     "data": {
      "text/plain": [
       "''"
      ]
     },
     "execution_count": 30,
     "metadata": {},
     "output_type": "execute_result"
    },
    {
     "data": {
      "image/png": "[encoded data removed]",
      "text/plain": [
       "<matplotlib.figure.Figure at 0x1a0fc0f0f0>"
      ]
     },
     "metadata": {},
     "output_type": "display_data"
    }
   ],
   "source": [
    "plt.hist(df_hotels_new_york['num_reviews'])\n",
    ";"
   ]
  },
  {
   "cell_type": "code",
   "execution_count": 25,
   "metadata": {},
   "outputs": [
    {
     "data": {
      "text/plain": [
       "''"
      ]
     },
     "execution_count": 25,
     "metadata": {},
     "output_type": "execute_result"
    },
    {
     "data": {
      "image/png": "[encoded data removed]",
      "text/plain": [
       "<matplotlib.figure.Figure at 0x1a13cbbcf8>"
      ]
     },
     "metadata": {},
     "output_type": "display_data"
    }
   ],
   "source": [
    "# SF\n",
    "plt.hist(df_hotels_san_francisco['num_reviews'])\n",
    ";"
   ]
  },
  {
   "cell_type": "code",
   "execution_count": 14,
   "metadata": {},
   "outputs": [
    {
     "data": {
      "text/plain": [
       "132.6919191919192"
      ]
     },
     "execution_count": 14,
     "metadata": {},
     "output_type": "execute_result"
    }
   ],
   "source": [
    "# average reviews\n",
    "df_hotels_las_vegas['num_reviews'].mean()"
   ]
  },
  {
   "cell_type": "code",
   "execution_count": 27,
   "metadata": {},
   "outputs": [
    {
     "data": {
      "text/plain": [
       "141.33333333333334"
      ]
     },
     "execution_count": 27,
     "metadata": {},
     "output_type": "execute_result"
    }
   ],
   "source": [
    "# SF - average reviews\n",
    "df_hotels_san_francisco['num_reviews'].mean()"
   ]
  },
  {
   "cell_type": "code",
   "execution_count": 9,
   "metadata": {},
   "outputs": [
    {
     "data": {
      "text/plain": [
       "''"
      ]
     },
     "execution_count": 9,
     "metadata": {},
     "output_type": "execute_result"
    },
    {
     "data": {
      "image/png": "[encoded data removed]",
      "text/plain": [
       "<matplotlib.figure.Figure at 0x1a0b0f34a8>"
      ]
     },
     "metadata": {},
     "output_type": "display_data"
    }
   ],
   "source": [
    "plt.hist(df_hotels_las_vegas['overall_ratingsource'])\n",
    ";"
   ]
  },
  {
   "cell_type": "code",
   "execution_count": 28,
   "metadata": {},
   "outputs": [
    {
     "data": {
      "text/plain": [
       "''"
      ]
     },
     "execution_count": 28,
     "metadata": {},
     "output_type": "execute_result"
    },
    {
     "data": {
      "image/png": "[encoded data removed]",
      "text/plain": [
       "<matplotlib.figure.Figure at 0x1a13c0f400>"
      ]
     },
     "metadata": {},
     "output_type": "display_data"
    }
   ],
   "source": [
    "# SF\n",
    "plt.hist(df_hotels_san_francisco['overall_ratingsource'])\n",
    ";"
   ]
  },
  {
   "cell_type": "code",
   "execution_count": 31,
   "metadata": {},
   "outputs": [
    {
     "data": {
      "text/plain": [
       "''"
      ]
     },
     "execution_count": 31,
     "metadata": {},
     "output_type": "execute_result"
    },
    {
     "data": {
      "image/png": "[encoded data removed]",
      "text/plain": [
       "<matplotlib.figure.Figure at 0x1a0fb9bf60>"
      ]
     },
     "metadata": {},
     "output_type": "display_data"
    }
   ],
   "source": [
    "plt.hist(df_hotels_new_york['overall_ratingsource'])\n",
    ";"
   ]
  },
  {
   "cell_type": "code",
   "execution_count": 32,
   "metadata": {},
   "outputs": [],
   "source": [
    "# get all file_names ids\n",
    "file_names = os.listdir('data/new-york-city/')"
   ]
  },
  {
   "cell_type": "code",
   "execution_count": 33,
   "metadata": {},
   "outputs": [],
   "source": [
    "for name in file_names:\n",
    "    if \".\" in name:\n",
    "        print(name)"
   ]
  },
  {
   "cell_type": "code",
   "execution_count": 34,
   "metadata": {},
   "outputs": [
    {
     "data": {
      "text/plain": [
       "['usa_new york city_the_st_regis_hotel_new_york',\n",
       " 'usa_new york city_the_muse_hotel_new_york_a_kimpton_hotel',\n",
       " 'usa_new york city_holiday_inn_nyc_manhattan_6th_avenue',\n",
       " 'usa_new york city_new_york_palace_hotel',\n",
       " 'usa_new york city_the_bowery_hotel',\n",
       " 'usa_new york city_the_sherry_netherland_hotel',\n",
       " 'usa_new york city_70_park_avenue_hotel_a_kimpton_hotel',\n",
       " 'usa_new york city_park_79_hotel',\n",
       " 'usa_new york city_the_pierre',\n",
       " 'usa_new york city_hotel_mela',\n",
       " 'usa_new york city_club_quarters_downtown',\n",
       " 'usa_new york city_best_western_bowery_hanbee_hotel',\n",
       " 'usa_new york city_phillips_club',\n",
       " 'usa_new york city_the_hampton_inn_times_square_north',\n",
       " 'usa_new york city_amsterdam_court_hotel',\n",
       " 'usa_new york city_the_benjamin',\n",
       " 'usa_new york city_the_time',\n",
       " 'usa_new york city_thirty_thirty_hotel',\n",
       " 'usa_new york city_hotel_metro',\n",
       " 'usa_new york city_hotel_elysee',\n",
       " 'usa_new york city_sofitel_new_york',\n",
       " 'usa_new york city_doubletree_metropolitan_hotel',\n",
       " 'usa_new york city_murray_hill_east_suites',\n",
       " 'usa_new york city_ramada_eastside',\n",
       " 'usa_new york city_bedford_hotel',\n",
       " 'usa_new york city_stay',\n",
       " 'usa_new york city_hampton_inn_manhattan_times_square_south',\n",
       " 'usa_new york city_millenium_hilton',\n",
       " 'usa_new york city_comfort_inn_manhattan_bridge',\n",
       " 'usa_new york city_ritz_carlton_battery_park',\n",
       " 'usa_new york city_the_maritime_hotel',\n",
       " 'usa_new york city_trump_international_hotel_and_tower',\n",
       " 'usa_new york city_renaissance_new_york_hotel_57',\n",
       " 'usa_new york city_holiday_inn_manhattan_downtown_soho',\n",
       " 'usa_new york city_four_points_by_sheraton_manhattan_soho_village',\n",
       " 'usa_new york city_novotel_new_york_times_square',\n",
       " 'usa_new york city_washington_square_hotel',\n",
       " 'usa_new york city_best_western_seaport_inn_downtown',\n",
       " 'usa_new york city_hotel_gansevoort',\n",
       " 'usa_new york city_hotel_41_at_times_square',\n",
       " 'usa_new york city_hotel_newton',\n",
       " 'usa_new york city_embassy_suites_hotel_new_york_city',\n",
       " 'usa_new york city_comfort_inn_midtown_manhattan',\n",
       " 'usa_new york city_hotel_chandler',\n",
       " 'usa_new york city_affinia_gardens',\n",
       " 'usa_new york city_park_central',\n",
       " 'usa_new york city_excelsior_hotel',\n",
       " 'usa_new york city_econo_lodge_times_square',\n",
       " 'usa_new york city_the_shoreham',\n",
       " 'usa_new york city_seafarers_international_house',\n",
       " 'usa_new york city_clarion_collection_the_solita_soho_hotel',\n",
       " 'usa_new york city_w_new_york_times_square',\n",
       " 'usa_new york city_hotel_grand_union',\n",
       " 'usa_new york city_smyth_hotel_a_thompson_hotel',\n",
       " 'usa_new york city_hampton_inn_new_york_seaport_financial_district',\n",
       " 'usa_new york city_broadway_plaza_hotel',\n",
       " 'usa_new york city_eurostars_wall_street',\n",
       " 'usa_new york city_hilton_garden_inn_tribeca',\n",
       " 'usa_new york city_renaissance_new_york_hotel_times_square',\n",
       " 'usa_new york city_best_western_convention_center_hotel',\n",
       " 'usa_new york city_dylan_hotel',\n",
       " 'usa_new york city_the_waldorf_astoria',\n",
       " 'usa_new york city_wingate_by_wyndham_manhattan_midtown',\n",
       " 'usa_new york city_hilton_times_square',\n",
       " 'usa_new york city_vincci_avalon',\n",
       " 'usa_new york city_on_the_ave_hotel',\n",
       " 'usa_new york city_the_london_nyc',\n",
       " 'usa_new york city_affinia_50',\n",
       " 'usa_new york city_the_milburn_hotel',\n",
       " 'usa_new york city_hotel_giraffe',\n",
       " 'usa_new york city_new_york_marriott_marquis',\n",
       " 'usa_new york city_aka_united_nations',\n",
       " 'usa_new york city_residence_inn_by_marriott_times_square_new_york',\n",
       " 'usa_new york city_hilton_garden_inn_chelsea',\n",
       " 'usa_new york city_woogo_central_park',\n",
       " 'usa_new york city_414_hotel',\n",
       " 'usa_new york city_thompson_les',\n",
       " 'usa_new york city_salisbury_hotel',\n",
       " 'usa_new york city_holiday_inn_midtown_57th_st',\n",
       " 'usa_new york city_peninsula_new_york',\n",
       " 'usa_new york city_the_marcel_at_gramercy',\n",
       " 'usa_new york city_carvi_hotel_new_york',\n",
       " 'usa_new york city_the_lucerne_hotel',\n",
       " 'usa_new york city_royalton_hotel_new_york_city',\n",
       " 'usa_new york city_plaza_athenee_hotel',\n",
       " 'usa_new york city_hilton_club_new_york',\n",
       " 'usa_new york city_the_inn_at_irving_place',\n",
       " 'usa_new york city_affinia_shelburne',\n",
       " 'usa_new york city_3_west_club',\n",
       " 'usa_new york city_hampton_inn_35th_st_empire_state_building',\n",
       " 'usa_new york city_chelsea_lodge',\n",
       " 'usa_new york city_carlton_arms',\n",
       " 'usa_new york city_murray_hill_inn',\n",
       " 'usa_new york city_blue_moon_hotel',\n",
       " 'usa_new york city_the_plaza',\n",
       " 'usa_new york city_hampton_inn_manhattan_chelsea',\n",
       " 'usa_new york city_comfort_inn_midtown',\n",
       " 'usa_new york city_waldorf_towers',\n",
       " 'usa_new york city_roger_smith_hotel',\n",
       " 'usa_new york city_chelsea_pines_inn',\n",
       " 'usa_new york city_rockefeller_center_hotel',\n",
       " 'usa_new york city_the_jane',\n",
       " 'usa_new york city_cooper_square_hotel',\n",
       " 'usa_new york city_the_lombardy',\n",
       " 'usa_new york city_duane_street_hotel',\n",
       " 'usa_new york city_grand_hyatt_new_york',\n",
       " 'usa_new york city_comfort_inn_manhattan',\n",
       " 'usa_new york city_comfort_inn_midtown_west_convention_center',\n",
       " 'usa_new york city_beekman_tower_hotel',\n",
       " 'usa_new york city_hilton_garden_inn_times_square',\n",
       " 'usa_new york city_tribeca_grand_hotel',\n",
       " 'usa_new york city_courtyard_new_york_manhattan_midtown_east',\n",
       " 'usa_new york city_omni_berkshire_place',\n",
       " 'usa_new york city_hampton_inn_madison_square_garden',\n",
       " 'usa_new york city_cosmopolitan_hotel_tribeca',\n",
       " 'usa_new york city_w_new_york_the_court',\n",
       " 'usa_new york city_hotel_99',\n",
       " 'usa_new york city_the_helmsley_park_lane',\n",
       " 'usa_new york city_hotel_st_james',\n",
       " 'usa_new york city_hudson_hotel',\n",
       " 'usa_new york city_fitzpatrick_grand_central_hotel',\n",
       " 'usa_new york city_ace_hotel_nyc',\n",
       " 'usa_new york city_holiday_inn_express_new_york_city_fifth_ave',\n",
       " 'usa_new york city_skyline_hotel',\n",
       " 'usa_new york city_the_sylvan_guest_house',\n",
       " 'usa_new york city_the_mercer_hotel',\n",
       " 'usa_new york city_four_points_by_sheraton_midtown_times_square',\n",
       " 'usa_new york city_6_columbus',\n",
       " 'usa_new york city_the_herald_square_hotel',\n",
       " 'usa_new york city_four_seasons_hotel_new_york',\n",
       " 'usa_new york city_hotel_31',\n",
       " 'usa_new york city_radisson_martinique_on_broadway',\n",
       " 'usa_new york city_night_hotel',\n",
       " 'usa_new york city_hotel_wales',\n",
       " 'usa_new york city_hotel_indigo_new_york_city_chelsea',\n",
       " 'usa_new york city_affinia_manhattan',\n",
       " 'usa_new york city_the_westin_new_york_at_times_square',\n",
       " 'usa_new york city_the_gem_hotel_midtown_west',\n",
       " 'usa_new york city_algonquin_hotel',\n",
       " 'usa_new york city_new_york_marriott_east_side',\n",
       " 'usa_new york city_hotel_373',\n",
       " 'usa_new york city_doubletree_guest_suites_times_square',\n",
       " 'usa_new york city_crowne_plaza_times_square_manhattan',\n",
       " 'usa_new york city_best_western_hospitality_house',\n",
       " 'usa_new york city_empire_hotel',\n",
       " 'usa_new york city_red_roof_inn_manhattan',\n",
       " 'usa_new york city_moderne_hotel',\n",
       " 'usa_new york city_the_mansfield',\n",
       " 'usa_new york city_fitzpatrick_manhattan',\n",
       " 'usa_new york city_eastgate_tower',\n",
       " 'usa_new york city_the_ritz_carlton_new_york_central_park',\n",
       " 'usa_new york city_flatotel',\n",
       " 'usa_new york city_off_soho_suites',\n",
       " 'usa_new york city_tudor_hotel_at_the_united_nations',\n",
       " 'usa_new york city_w_new_york_union_square',\n",
       " 'usa_new york city_astor_on_the_park',\n",
       " 'usa_new york city_w_new_york_the_tuscany',\n",
       " 'usa_new york city_wellington_hotel',\n",
       " 'usa_new york city_travel_inn_hotel_new_york',\n",
       " 'usa_new york city_hotel_17',\n",
       " 'usa_new york city_milford_plaza_hotel',\n",
       " 'usa_new york city_san_carlos_hotel',\n",
       " 'usa_new york city_the_hotel_91',\n",
       " 'usa_new york city_the_gem_hotel_soho',\n",
       " 'usa_new york city_le_parker_meridien',\n",
       " 'usa_new york city_doubletree_hotel_chelsea_new_york_city',\n",
       " 'usa_new york city_dream',\n",
       " 'usa_new york city_comfort_inn_chelsea',\n",
       " 'usa_new york city_the_roosevelt_hotel',\n",
       " 'usa_new york city_ink48_a_kimpton_hotel',\n",
       " 'usa_new york city_helmsley_middletowne_hotel',\n",
       " 'usa_new york city_hotel_east_houston',\n",
       " 'usa_new york city_the_grant_hotel',\n",
       " 'usa_new york city_courtyard_by_marriott_new_york_manhattan_times_square_south',\n",
       " 'usa_new york city_the_alex_hotel',\n",
       " 'usa_new york city_the_mave',\n",
       " 'usa_new york city_hotel_beacon',\n",
       " 'usa_new york city_the_kimberly_hotel',\n",
       " 'usa_new york city_hotel_stanford',\n",
       " 'usa_new york city_millennium_hotel_broadway',\n",
       " 'usa_new york city_lafayette_house',\n",
       " 'usa_new york city_club_quarters_rockefeller_center',\n",
       " 'usa_new york city_americana_inn',\n",
       " 'usa_new york city_the_michelangelo_hotel',\n",
       " 'usa_new york city_gild_hall',\n",
       " 'usa_new york city_hotel_deauville',\n",
       " 'usa_new york city_the_bryant_park',\n",
       " 'usa_new york city_jumeirah_essex_house',\n",
       " 'usa_new york city_mandarin_oriental_new_york',\n",
       " 'usa_new york city_soho_grand_hotel',\n",
       " 'usa_new york city_chelsea_savoy_hotel',\n",
       " 'usa_new york city_holiday_inn_express_new_york_city_times_square',\n",
       " 'usa_new york city_courtyard_new_york_manhattan_fifth_avenue',\n",
       " 'usa_new york city_four_points_by_sheraton_manhattan_chelsea',\n",
       " 'usa_new york city_holiday_inn_express_nyc_madison_square_garden',\n",
       " 'usa_new york city_chambers_hotel',\n",
       " 'usa_new york city_club_quarters_midtown',\n",
       " 'usa_new york city_hotel_reserve',\n",
       " 'usa_new york city_the_carlton',\n",
       " 'usa_new york city_belleclaire_hotel',\n",
       " 'usa_new york city_roger_williams_hotel',\n",
       " 'usa_new york city_buckingham_hotel',\n",
       " 'usa_new york city_kitano_new_york',\n",
       " 'usa_new york city_new_york_marriott_downtown',\n",
       " 'usa_new york city_crosby_street_hotel',\n",
       " 'usa_new york city_park_south_hotel',\n",
       " 'usa_new york city_the_franklin',\n",
       " 'usa_new york city_lowell_hotel',\n",
       " 'usa_new york city_millennium_un_plaza_hotel',\n",
       " 'usa_new york city_wyndham_garden_hotel_times_square_south',\n",
       " 'usa_new york city_inn_new_york_city',\n",
       " 'usa_new york city_greenwich_hotel',\n",
       " 'usa_new york city_loews_regency_hotel',\n",
       " 'usa_new york city_wall_street_inn',\n",
       " 'usa_new york city_the_standard_new_york',\n",
       " 'usa_new york city_warwick_new_york_hotel',\n",
       " 'usa_new york city_hampton_inn_manhattan_soho',\n",
       " 'usa_new york city_casablanca_hotel',\n",
       " 'usa_new york city_60_thompson',\n",
       " 'usa_new york city_the_gem_hotel_chelsea',\n",
       " 'usa_new york city_gramercy_park_hotel',\n",
       " 'usa_new york city_sheraton_new_york_hotel_towers',\n",
       " 'usa_new york city_fairfield_inn_new_york_manhattan_times_square_south',\n",
       " 'usa_new york city_la_quinta_manhattan',\n",
       " 'usa_new york city_the_helmsley_carlton_house',\n",
       " 'usa_new york city_courtyard_by_marriott_new_york_manhattan_upper_east_side',\n",
       " 'usa_new york city_the_manhattan_club',\n",
       " 'usa_new york city_the_iroquois',\n",
       " 'usa_new york city_comfort_inn_times_square',\n",
       " 'usa_new york city_the_premier',\n",
       " 'usa_new york city_the_blakely_new_york',\n",
       " 'usa_new york city_the_carlyle_a_rosewood_hotel',\n",
       " 'usa_new york city_the_hotel_at_times_square',\n",
       " 'usa_new york city_library_hotel',\n",
       " 'usa_new york city_the_new_york_helmsley',\n",
       " 'usa_new york city_da_vinci_hotel',\n",
       " 'usa_new york city_the_mark',\n",
       " 'usa_new york city_wolcott_hotel',\n",
       " 'usa_new york city_morgans_hotel',\n",
       " 'usa_new york city_city_club_hotel',\n",
       " 'usa_new york city_the_marmara_manhattan_luxury_hotel_residence',\n",
       " 'usa_new york city_candlewood_suites_new_york_city_times_square',\n",
       " 'usa_new york city_the_french_quarters_guest_apartments',\n",
       " 'usa_new york city_hilton_new_york',\n",
       " 'usa_new york city_the_new_yorker_hotel',\n",
       " 'usa_new york city_bentley_hotel',\n",
       " 'usa_new york city_envoy_club',\n",
       " 'usa_new york city_the_surrey',\n",
       " 'usa_new york city_the_pod_hotel',\n",
       " 'usa_new york city_hilton_garden_inn_new_york_west_35th',\n",
       " 'usa_new york city_room_mate_grace',\n",
       " 'usa_new york city_soho_house_new_york',\n",
       " 'usa_new york city_west_57th_street_by_hilton_club',\n",
       " 'usa_new york city_washington_jefferson_hotel',\n",
       " 'usa_new york city_hotel_on_rivington',\n",
       " 'usa_new york city_the_belvedere',\n",
       " 'usa_new york city_affinia_dumont',\n",
       " 'usa_new york city_intercontinental_the_barclay_new_york']"
      ]
     },
     "execution_count": 34,
     "metadata": {},
     "output_type": "execute_result"
    }
   ],
   "source": [
    "file_names"
   ]
  },
  {
   "cell_type": "code",
   "execution_count": 38,
   "metadata": {},
   "outputs": [],
   "source": [
    "def get_hotel_reviews(file_name):\n",
    "    \n",
    "    review_headers = ['date', 'review_title', 'full_review', 'nan']\n",
    "    \n",
    "    reviews = []\n",
    "    \n",
    "    df = pd.read_csv('data/new-york-city/' + file_name, \n",
    "                     names=review_headers ,sep='\\t', encoding='latin-1').drop('nan', axis=1)\n",
    "    \n",
    "    for review in df['full_review']:\n",
    "        reviews.append(str(review))\n",
    "        \n",
    "    corpus = \" \".join(reviews)\n",
    "    \n",
    "    return file_name, corpus"
   ]
  },
  {
   "cell_type": "code",
   "execution_count": 49,
   "metadata": {},
   "outputs": [],
   "source": [
    "# # test one filename\n",
    "# h, r = get_hotel_reviews('usa_new york city_park_central')"
   ]
  },
  {
   "cell_type": "code",
   "execution_count": 15,
   "metadata": {},
   "outputs": [],
   "source": [
    "# type(r)"
   ]
  },
  {
   "cell_type": "code",
   "execution_count": 36,
   "metadata": {},
   "outputs": [],
   "source": [
    "# start_name_index = len('usa_nevada_las-vegas_')"
   ]
  },
  {
   "cell_type": "code",
   "execution_count": 43,
   "metadata": {},
   "outputs": [],
   "source": [
    "hotel_names = []\n",
    "hotel_reviews = []\n",
    "\n",
    "for idx, name in enumerate(file_names):\n",
    "    # for some reason file #45 isn't working in NYC\n",
    "#     print(idx, name)\n",
    "    if idx == 45:\n",
    "        continue\n",
    "    hotel, all_reviews = get_hotel_reviews(name)\n",
    "    hotel_names.append(hotel)\n",
    "    hotel_reviews.append(all_reviews)"
   ]
  },
  {
   "cell_type": "code",
   "execution_count": 44,
   "metadata": {},
   "outputs": [
    {
     "data": {
      "text/plain": [
       "(257, 257)"
      ]
     },
     "execution_count": 44,
     "metadata": {},
     "output_type": "execute_result"
    }
   ],
   "source": [
    "len(hotel_names), len(hotel_reviews)"
   ]
  },
  {
   "cell_type": "code",
   "execution_count": 45,
   "metadata": {},
   "outputs": [
    {
     "name": "stdout",
     "output_type": "stream",
     "text": [
      "There are 257 hotels in the dataset.\n"
     ]
    }
   ],
   "source": [
    "print ('There are {} hotels in the dataset.'.format(len(hotel_names)))"
   ]
  },
  {
   "cell_type": "code",
   "execution_count": 50,
   "metadata": {},
   "outputs": [],
   "source": [
    "# load nltk's English stopwords as variable called 'stopwords'\n",
    "stopwords = nltk.corpus.stopwords.words('english')"
   ]
  },
  {
   "cell_type": "code",
   "execution_count": 51,
   "metadata": {},
   "outputs": [],
   "source": [
    "# load nltk's SnowballStemmer as variabled 'stemmer'\n",
    "stemmer = SnowballStemmer(\"english\")"
   ]
  },
  {
   "cell_type": "code",
   "execution_count": 52,
   "metadata": {},
   "outputs": [],
   "source": [
    "# here I define a tokenizer and stemmer which returns the set of stems in the text that it is passed\n",
    "\n",
    "def tokenize_and_stem(text):\n",
    "    # first tokenize by sentence, then by word to ensure that punctuation is caught as it's own token\n",
    "    tokens = [word for sent in nltk.sent_tokenize(text) for word in nltk.word_tokenize(sent)]\n",
    "    filtered_tokens = []\n",
    "    # filter out any tokens not containing letters (e.g., numeric tokens, raw punctuation)\n",
    "    for token in tokens:\n",
    "        if re.search('[a-zA-Z]', token):\n",
    "            filtered_tokens.append(token)\n",
    "    stems = [stemmer.stem(t) for t in filtered_tokens]\n",
    "    return stems\n",
    "\n",
    "\n",
    "def tokenize_only(text):\n",
    "    # first tokenize by sentence, then by word to ensure that punctuation is caught as it's own token\n",
    "    tokens = [word.lower() for sent in nltk.sent_tokenize(text) for word in nltk.word_tokenize(sent)]\n",
    "    filtered_tokens = []\n",
    "    # filter out any tokens not containing letters (e.g., numeric tokens, raw punctuation)\n",
    "    for token in tokens:\n",
    "        if re.search('[a-zA-Z]', token):\n",
    "            filtered_tokens.append(token)\n",
    "    return filtered_tokens"
   ]
  },
  {
   "cell_type": "code",
   "execution_count": 53,
   "metadata": {},
   "outputs": [],
   "source": [
    "# If you are running this process for the first time, uncomment below:\n",
    "hotel_vocab_stemmed = []\n",
    "hotel_vocab_tokenized = []\n",
    "\n",
    "for i in hotel_reviews:\n",
    "    allwords_stemmed = tokenize_and_stem(i)\n",
    "    hotel_vocab_stemmed.extend(allwords_stemmed)\n",
    "    allwords_tokenized = tokenize_only(i)\n",
    "    hotel_vocab_tokenized.extend(allwords_tokenized)"
   ]
  },
  {
   "cell_type": "code",
   "execution_count": 24,
   "metadata": {},
   "outputs": [
    {
     "data": {
      "text/plain": [
       "(5328015, 5328015)"
      ]
     },
     "execution_count": 24,
     "metadata": {},
     "output_type": "execute_result"
    }
   ],
   "source": [
    "len(hotel_vocab_stemmed), len(hotel_vocab_tokenized)"
   ]
  },
  {
   "cell_type": "code",
   "execution_count": 25,
   "metadata": {},
   "outputs": [
    {
     "name": "stdout",
     "output_type": "stream",
     "text": [
      "CPU times: user 989 ms, sys: 1.48 s, total: 2.47 s\n",
      "Wall time: 2.88 s\n"
     ]
    }
   ],
   "source": [
    "%time hotel_vocab_frame = pd.DataFrame({'words': hotel_vocab_tokenized}, index = hotel_vocab_stemmed)"
   ]
  },
  {
   "cell_type": "code",
   "execution_count": 26,
   "metadata": {},
   "outputs": [
    {
     "data": {
      "text/html": [
       "<div>\n",
       "<style>\n",
       "    .dataframe thead tr:only-child th {\n",
       "        text-align: right;\n",
       "    }\n",
       "\n",
       "    .dataframe thead th {\n",
       "        text-align: left;\n",
       "    }\n",
       "\n",
       "    .dataframe tbody tr th {\n",
       "        vertical-align: top;\n",
       "    }\n",
       "</style>\n",
       "<table border=\"1\" class=\"dataframe\">\n",
       "  <thead>\n",
       "    <tr style=\"text-align: right;\">\n",
       "      <th></th>\n",
       "      <th>words</th>\n",
       "    </tr>\n",
       "  </thead>\n",
       "  <tbody>\n",
       "    <tr>\n",
       "      <th>we</th>\n",
       "      <td>we</td>\n",
       "    </tr>\n",
       "    <tr>\n",
       "      <th>stop</th>\n",
       "      <td>stopped</td>\n",
       "    </tr>\n",
       "    <tr>\n",
       "      <th>by</th>\n",
       "      <td>by</td>\n",
       "    </tr>\n",
       "    <tr>\n",
       "      <th>the</th>\n",
       "      <td>the</td>\n",
       "    </tr>\n",
       "    <tr>\n",
       "      <th>resort</th>\n",
       "      <td>resort</td>\n",
       "    </tr>\n",
       "  </tbody>\n",
       "</table>\n",
       "</div>"
      ],
      "text/plain": [
       "          words\n",
       "we           we\n",
       "stop    stopped\n",
       "by           by\n",
       "the         the\n",
       "resort   resort"
      ]
     },
     "execution_count": 26,
     "metadata": {},
     "output_type": "execute_result"
    }
   ],
   "source": [
    "hotel_vocab_frame.head()"
   ]
  },
  {
   "cell_type": "markdown",
   "metadata": {},
   "source": [
    "### Tf-Idf and Document Similarity Measure"
   ]
  },
  {
   "cell_type": "code",
   "execution_count": 27,
   "metadata": {},
   "outputs": [],
   "source": [
    "combined = list(zip(hotel_names, hotel_reviews))"
   ]
  },
  {
   "cell_type": "code",
   "execution_count": 28,
   "metadata": {},
   "outputs": [],
   "source": [
    "# randomly shuffle the hotels, keeping the names in order with the reviews\n",
    "random.shuffle(combined)\n",
    "# retrieve hotel names and hotel reviews in the new order, after shuffling\n",
    "hotel_names[:], hotel_reviews[:] = zip(*combined)"
   ]
  },
  {
   "cell_type": "code",
   "execution_count": 40,
   "metadata": {},
   "outputs": [
    {
     "name": "stdout",
     "output_type": "stream",
     "text": [
      "There are 200 hotels in our sample.\n"
     ]
    }
   ],
   "source": [
    "# for testing purposes, you can use this snippet to run kmeans on 100 hotels of the whole corpus.\n",
    "reviews_grouped = [hotel_reviews[i:i + 100] for i in range(0, len(hotel_reviews), 100)]\n",
    "print (\"There are {} hotels in our sample.\".format(len(reviews_grouped[0])))\n",
    "\n",
    "# # 200 -for testing purposes, you can use this snippet to run kmeans on 100 hotels of the whole corpus.\n",
    "# reviews_grouped = [hotel_reviews[i:i + 200] for i in range(0, len(hotel_reviews), 200)]\n",
    "# print (\"There are {} hotels in our sample.\".format(len(reviews_grouped[0])))"
   ]
  },
  {
   "cell_type": "code",
   "execution_count": 41,
   "metadata": {},
   "outputs": [
    {
     "name": "stdout",
     "output_type": "stream",
     "text": [
      "CPU times: user 3min 26s, sys: 5.11 s, total: 3min 31s\n",
      "Wall time: 3min 40s\n",
      "(200, 5735)\n"
     ]
    }
   ],
   "source": [
    "# initiate TfidfVectorizer instance with the set hyperparameters that were mentioned above\n",
    "tfidf_vectorizer = TfidfVectorizer(max_df=0.8, max_features=200000,\n",
    "                                 min_df=0.2, stop_words='english',\n",
    "                                 use_idf=True, tokenizer=tokenize_and_stem, ngram_range=(1, 3))\n",
    "%time tfidf_matrix = tfidf_vectorizer.fit_transform(reviews_grouped[0])\n",
    "print(tfidf_matrix.shape)"
   ]
  },
  {
   "cell_type": "code",
   "execution_count": 31,
   "metadata": {},
   "outputs": [
    {
     "data": {
      "text/plain": [
       "['data/tfidf_matrix2.pkl']"
      ]
     },
     "execution_count": 31,
     "metadata": {},
     "output_type": "execute_result"
    }
   ],
   "source": [
    "# saving the matrix by dumping into a pickle file. set *protocol=2* if you are using python2\n",
    "joblib.dump(tfidf_matrix,  'data/tfidf_matrix2.pkl')\n",
    "#tfidf_matrix = joblib.load('tfidf_matrix2.pkl')"
   ]
  },
  {
   "cell_type": "code",
   "execution_count": 42,
   "metadata": {},
   "outputs": [],
   "source": [
    "terms = tfidf_vectorizer.get_feature_names()\n",
    "# calculate cosine similarity\n",
    "dist = 1 - cosine_similarity(tfidf_matrix)"
   ]
  },
  {
   "cell_type": "markdown",
   "metadata": {},
   "source": [
    "# K-means clustering"
   ]
  },
  {
   "cell_type": "code",
   "execution_count": 33,
   "metadata": {},
   "outputs": [
    {
     "name": "stdout",
     "output_type": "stream",
     "text": [
      "CPU times: user 8.5 s, sys: 77 ms, total: 8.57 s\n",
      "Wall time: 8.79 s\n"
     ]
    },
    {
     "data": {
      "text/plain": [
       "KMeans(algorithm='auto', copy_x=True, init='k-means++', max_iter=300,\n",
       "    n_clusters=5, n_init=10, n_jobs=1, precompute_distances='auto',\n",
       "    random_state=None, tol=0.0001, verbose=0)"
      ]
     },
     "execution_count": 33,
     "metadata": {},
     "output_type": "execute_result"
    }
   ],
   "source": [
    "num_clusters = 5\n",
    "\n",
    "km = KMeans(n_clusters=num_clusters)\n",
    "\n",
    "%time km.fit(tfidf_matrix)"
   ]
  },
  {
   "cell_type": "code",
   "execution_count": 34,
   "metadata": {},
   "outputs": [
    {
     "data": {
      "text/plain": [
       "100"
      ]
     },
     "execution_count": 34,
     "metadata": {},
     "output_type": "execute_result"
    }
   ],
   "source": [
    "#joblib.dump(km,  'doc_cluster.pkl')\n",
    "clusters = km.labels_.tolist()\n",
    "len(clusters)\n",
    "# 100 hotels"
   ]
  },
  {
   "cell_type": "code",
   "execution_count": 35,
   "metadata": {},
   "outputs": [],
   "source": [
    "ranks = []\n",
    "\n",
    "for i in range(0,len(hotel_names)):\n",
    "    ranks.append(i)"
   ]
  },
  {
   "cell_type": "code",
   "execution_count": 36,
   "metadata": {},
   "outputs": [],
   "source": [
    "# every group has 1000 ramdonly shuffled hotels, change indeces\n",
    "hotels = { 'hotel_name': hotel_names[:100], 'rank': ranks[:100], 'hotel_reviews': hotel_reviews[:100], 'cluster': clusters}\n",
    "\n",
    "frame = pd.DataFrame(hotels, index = [clusters] , columns = ['rank', 'hotel_name', 'hotel_reviews', 'cluster'])"
   ]
  },
  {
   "cell_type": "code",
   "execution_count": 37,
   "metadata": {},
   "outputs": [
    {
     "data": {
      "text/plain": [
       "4    37\n",
       "2    24\n",
       "3    19\n",
       "1    13\n",
       "0     7\n",
       "Name: cluster, dtype: int64"
      ]
     },
     "execution_count": 37,
     "metadata": {},
     "output_type": "execute_result"
    }
   ],
   "source": [
    "frame['cluster'].value_counts()"
   ]
  },
  {
   "cell_type": "code",
   "execution_count": 38,
   "metadata": {},
   "outputs": [
    {
     "data": {
      "text/plain": [
       "cluster\n",
       "0    70.428571\n",
       "1    48.923077\n",
       "2    50.250000\n",
       "3    49.842105\n",
       "4    45.081081\n",
       "Name: rank, dtype: float64"
      ]
     },
     "execution_count": 38,
     "metadata": {},
     "output_type": "execute_result"
    }
   ],
   "source": [
    "grouped = frame['rank'].groupby(frame['cluster'])\n",
    "\n",
    "grouped.mean()"
   ]
  },
  {
   "cell_type": "code",
   "execution_count": 39,
   "metadata": {},
   "outputs": [
    {
     "name": "stdout",
     "output_type": "stream",
     "text": [
      "Top terms per cluster:\n",
      "\n",
      "Cluster 0 words: b'suite', b'budget', b'roach', b'office', b'dont', b'information', b'security', b'pets', b'extended', b'police', b'since', b'smelled', b'deposit', b'drug', b'months', b'cigarette', b'stains', b'extended', b'cheap', b'phone',\n",
      "\n",
      "Cluster 0 hotels: the_suites_boulder_strip, super_8_las_vegas_boulder_highway, town_and_country_manor_iii, aruba_hotel, the_suites, budget_suites_of_america_north_rancho_drive, budget_suites_of_america_wynn,\n",
      "\n",
      "Cluster 1 words: b'fremont', b'downtown', b'fremont', b'nugget', b'golden', b'tower', b'freemont', b'year', b'westerns', b'play', b'elevator', b'slot', b'golden', b'gamble', b'stay', b'queen', b'table', b'lovely', b'cheap', b'machines',\n",
      "\n",
      "Cluster 1 hotels: las_vegas_club_casino_hotel, fitzgeralds_casino_hotel, el_cortez_hotel_casino, fremont_hotel_and_casino, ogden_house_motel, western_hotel_casino, golden_gate_hotel_casino, four_queens_hotel_and_casino, golden_nugget, best_western_main_street_inn, jerry_s_nugget, binion_s_horseshoe_hotel_casino_las_vegas, gold_spike_hotel_and_casino,\n",
      "\n",
      "Cluster 2 words: b'suite', b'shuttle', b'bedroom', b'kitchen', b'resort', b'airport', b'amp', b'quiet', b'restaurant', b'unit', b'hot', b'internet', b'inn', b'very', b'lovely', b'live', b'timeshares', b'coffee', b'driving', b'bay',\n",
      "\n",
      "Cluster 2 hotels: hampton_inn_suites_las_vegas_west_summerlin, embassy_suites_las_vegas_airport, atrium_suites_hotel_las_vegas, cancun_resort, wingate_by_wyndham_henderson, crestwood_suites_las_vegas_boulevard, residence_inn_las_vegas_hughes_center, hilton_grand_vacation_suites_las_vegas_convention_center, emerald_suites_tropicana, falcon_ridge_hotel, doubletree_club_hotel_las_vegas_airport, marriott_s_grand_chateau, siena_suites, summer_bay_resort_las_vegas, holiday_inn_express_hotel_and_suites_las_vegas_215_beltway, tahiti_vacation_club, courtyard_by_marriott_las_vegas_south, emerald_suites, staybridge_suites_las_vegas, holiday_inn_express_the_lakes_las_vegas, summer_bay_resorts_las_vegas_desert_club, fairfield_inn_suites_las_vegas_south, holiday_inn_express_las_vegas_south, emerald_suites_cameron,\n",
      "\n",
      "Cluster 3 words: b'motel', b'internet', b'smelled', b'cheap', b'dirty', b'worst', b'carpet', b'inn', b'shower', b'bug', b'refund', b'reservation', b'filthy', b'air', b'available', b'ok', b'water', b'circus', b'wall', b'outside',\n",
      "\n",
      "Cluster 3 hotels: americana_5, aztec_inn, knights_inn_las_vegas, somerset_house_motel, best_western_nellis_motor_inn, econo_lodge, extended_stay_deluxe_las_vegas_east_flamingo, viva_las_vegas_villas, las_vegas_south_strip_travelodge, golden_palm_hotel, sahara_westwood_hotel, tod_motor_motel, manor_suites, travelsuites_inn, super_8_motel_las_vegas_downtown, wild_wild_west_gambling_hall_and_hotel, rodeway_inn_convention_center, motel_6_las_vegas_boulder_highway, la_quinta_inn_and_suites_tropicana,\n",
      "\n",
      "Cluster 4 words: b'buffet', b'view', b'restaurant', b'tower', b'lovely', b'waited', b'drink', b'play', b'elevator', b'wynn', b'table', b'enjoyed', b'suite', b'amp', b'line', b'smoking', b'upgraded', b'shower', b'bar', b'always',\n",
      "\n",
      "Cluster 4 hotels: mirage_hotel_casino, bally_s_las_vegas_hotel_casino, primm_valley_resort_hotel_las_vegas, whiskey_pete_s_casino_and_hotel, terrible_s_hotel_casino, bill_s_gamblin_hall_saloon, gold_coast_hotel_and_casino, springhill_suites_las_vegas_convention_center, casino_royale_and_hotel, jw_marriott_las_vegas_resort_spa_golf, imperial_palace_hotel_casino, fiesta_hotel_and_casino, sam_s_town_hotel_and_gambling_hall, caesars_palace_classic_hotel, harrah_s_las_vegas_casino_hotel, las_vegas_hilton, encore_at_wynn_las_vegas, four_seasons_hotel_las_vegas, suncoast_hotel_and_casino, treasure_island_ti_hotel_casino, red_rock_casino_resort_spa, skylofts_at_mgm_grand, the_palms_casino_hotel, flamingo_hotel_casino, greek_isles_hotel_casino, silverton_hotel_and_casino, new_york_new_york_hotel_and_casino, wynn_las_vegas, la_quinta_inn_and_suites_las_vegas_west, tropicana_inn, courtyard_by_marriott_las_vegas_convention_center, courtyard_by_marriott_las_vegas_summerlin, the_palazzo_resort_hotel_casino, the_westin_casuarina_las_vegas_hotel_casino_spa, palace_station, santa_fe_station_hotel, comfort_inn_suites_las_vegas,\n",
      "\n"
     ]
    }
   ],
   "source": [
    "print(\"Top terms per cluster:\")\n",
    "print()\n",
    "order_centroids = km.cluster_centers_.argsort()[:, ::-1]\n",
    "for i in range(num_clusters):\n",
    "    print(\"Cluster %d words:\" % i, end='')\n",
    "    for ind in order_centroids[i, :20]:\n",
    "        print(' %s' % hotel_vocab_frame.loc[terms[ind].split(' ')].values.tolist()[0][0].encode('utf-8', 'ignore'), end=',')\n",
    "    print()\n",
    "    print()\n",
    "    print(\"Cluster %d hotels:\" % i, end='')\n",
    "    for title in frame.loc[i]['hotel_name'].values.tolist():\n",
    "        print(' %s,' % title, end='')\n",
    "    print()\n",
    "    print()"
   ]
  },
  {
   "cell_type": "code",
   "execution_count": 43,
   "metadata": {},
   "outputs": [],
   "source": [
    "# problem, vegas hotels might not be enough by itself"
   ]
  },
  {
   "cell_type": "code",
   "execution_count": null,
   "metadata": {},
   "outputs": [],
   "source": []
  }
 ],
 "metadata": {
  "kernelspec": {
   "display_name": "Python 3",
   "language": "python",
   "name": "python3"
  },
  "language_info": {
   "codemirror_mode": {
    "name": "ipython",
    "version": 3
   },
   "file_extension": ".py",
   "mimetype": "text/x-python",
   "name": "python",
   "nbconvert_exporter": "python",
   "pygments_lexer": "ipython3",
   "version": "3.6.4"
  }
 },
 "nbformat": 4,
 "nbformat_minor": 2
}
