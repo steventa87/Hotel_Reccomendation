{
 "cells": [
  {
   "cell_type": "code",
   "execution_count": 96,
   "metadata": {
    "collapsed": true
   },
   "outputs": [],
   "source": [
    "from __future__ import print_function\n",
    "\n",
    "import pandas as pd\n",
    "import numpy as np\n",
    "\n",
    "import os\n",
    "import codecs\n",
    "import pickle\n",
    "import json\n",
    "\n",
    "import numpy as np\n",
    "import pandas as pd\n",
    "import random\n",
    "\n",
    "import matplotlib.pyplot as plt\n",
    "%matplotlib inline\n",
    "\n",
    "from sklearn import feature_extraction\n",
    "from sklearn.feature_extraction.text import TfidfVectorizer\n",
    "from sklearn.metrics.pairwise import cosine_similarity\n",
    "from sklearn.cluster import KMeans\n",
    "from sklearn.externals import joblib\n",
    "from sklearn.manifold import MDS\n",
    "\n",
    "from sklearn.feature_extraction.text import CountVectorizer\n",
    "\n",
    "import nltk\n",
    "from nltk.stem.snowball import SnowballStemmer\n",
    "import re\n",
    "import mpld3\n",
    "\n",
    "from nltk.sentiment.vader import SentimentIntensityAnalyzer\n",
    "\n",
    "from sklearn.decomposition import LatentDirichletAllocation\n",
    "\n",
    "import pyLDAvis\n",
    "import pyLDAvis.sklearn\n",
    "pyLDAvis.enable_notebook()"
   ]
  },
  {
   "cell_type": "code",
   "execution_count": 2,
   "metadata": {
    "collapsed": true
   },
   "outputs": [],
   "source": [
    "from sentiment_cluster import Sentiment_Cluster"
   ]
  },
  {
   "cell_type": "code",
   "execution_count": 3,
   "metadata": {
    "collapsed": true
   },
   "outputs": [],
   "source": [
    "san_francisco = Sentiment_Cluster('data/san-francisco/')"
   ]
  },
  {
   "cell_type": "code",
   "execution_count": 4,
   "metadata": {
    "collapsed": true
   },
   "outputs": [],
   "source": [
    "san_francisco._get_file_names()"
   ]
  },
  {
   "cell_type": "code",
   "execution_count": 5,
   "metadata": {},
   "outputs": [
    {
     "data": {
      "text/plain": [
       "214"
      ]
     },
     "execution_count": 5,
     "metadata": {},
     "output_type": "execute_result"
    }
   ],
   "source": [
    "len(san_francisco.file_names)"
   ]
  },
  {
   "cell_type": "code",
   "execution_count": 6,
   "metadata": {},
   "outputs": [
    {
     "data": {
      "text/plain": [
       "'usa_san francisco_beresford_arms'"
      ]
     },
     "execution_count": 6,
     "metadata": {},
     "output_type": "execute_result"
    }
   ],
   "source": [
    "# randomly choose a hotel\n",
    "hotel = random.choice(san_francisco.file_names)\n",
    "hotel"
   ]
  },
  {
   "cell_type": "code",
   "execution_count": 7,
   "metadata": {
    "collapsed": true
   },
   "outputs": [],
   "source": [
    "# get all hotel reviews for random hotel\n",
    "san_francisco._get_hotel_reviews(hotel)"
   ]
  },
  {
   "cell_type": "code",
   "execution_count": 8,
   "metadata": {},
   "outputs": [
    {
     "data": {
      "text/plain": [
       "'We stayed here in November in the early stages of a post-retirement backpacking trip around the worl'"
      ]
     },
     "execution_count": 8,
     "metadata": {},
     "output_type": "execute_result"
    }
   ],
   "source": [
    "partial_review = san_francisco.reviews[0][:100]\n",
    "partial_review"
   ]
  },
  {
   "cell_type": "code",
   "execution_count": 9,
   "metadata": {
    "collapsed": true
   },
   "outputs": [],
   "source": [
    "# test out sentiment analysis\n",
    "analyzer = SentimentIntensityAnalyzer()"
   ]
  },
  {
   "cell_type": "code",
   "execution_count": 10,
   "metadata": {},
   "outputs": [
    {
     "data": {
      "text/plain": [
       "{'compound': 0.0, 'neg': 0.0, 'neu': 1.0, 'pos': 0.0}"
      ]
     },
     "execution_count": 10,
     "metadata": {},
     "output_type": "execute_result"
    }
   ],
   "source": [
    "analyzer.polarity_scores(partial_review)"
   ]
  },
  {
   "cell_type": "code",
   "execution_count": 11,
   "metadata": {},
   "outputs": [
    {
     "data": {
      "text/plain": [
       "{'compound': 0.0, 'neg': 0.0, 'neu': 1.0, 'pos': 0.0}"
      ]
     },
     "execution_count": 11,
     "metadata": {},
     "output_type": "execute_result"
    }
   ],
   "source": [
    "analyzer.polarity_scores(partial_review)"
   ]
  },
  {
   "cell_type": "code",
   "execution_count": 12,
   "metadata": {},
   "outputs": [
    {
     "data": {
      "text/plain": [
       "{'compound': 0.9924, 'neg': 0.016, 'neu': 0.858, 'pos': 0.126}"
      ]
     },
     "execution_count": 12,
     "metadata": {},
     "output_type": "execute_result"
    }
   ],
   "source": [
    "analyzer.polarity_scores(san_francisco.reviews[0])"
   ]
  },
  {
   "cell_type": "code",
   "execution_count": 13,
   "metadata": {
    "collapsed": true
   },
   "outputs": [],
   "source": [
    "# test clustering sentiments\n",
    "\n",
    "positives = []\n",
    "negatives = []\n",
    "neutrals = []"
   ]
  },
  {
   "cell_type": "code",
   "execution_count": 14,
   "metadata": {
    "collapsed": true
   },
   "outputs": [],
   "source": [
    "def cluter_review_sentiments(reviews):\n",
    "        \n",
    "        ''' splits all reviews into Positive, Negative, or Neutral clusters '''\n",
    "        \n",
    "        sent_analyzer = SentimentIntensityAnalyzer()\n",
    "        \n",
    "        # loop through all reviews and apply analyzer\n",
    "        for review in reviews:\n",
    "            if sent_analyzer.polarity_scores(review)['compound'] >= .4:\n",
    "                positives.append(review)\n",
    "            elif sent_analyzer.polarity_scores(review)['compound'] <= -.4:\n",
    "                negatives.append(review)\n",
    "            else:\n",
    "                neutrals.append(review)\n",
    "                \n",
    "        "
   ]
  },
  {
   "cell_type": "code",
   "execution_count": 15,
   "metadata": {
    "collapsed": true
   },
   "outputs": [],
   "source": [
    "def cluter_review_bigrams_sentiments(reviews):\n",
    "        \n",
    "        ''' splits all reviews into Positive, Negative, or Neutral clusters '''\n",
    "        \n",
    "        sent_analyzer = SentimentIntensityAnalyzer()\n",
    "        \n",
    "        # loop through all reviews and apply analyzer\n",
    "        for review in reviews:\n",
    "            if sent_analyzer.polarity_scores(review)['compound'] >= .4:\n",
    "                positives.append(list(nltk.bigrams(review.split())))\n",
    "            elif sent_analyzer.polarity_scores(review)['compound'] <= -.4:\n",
    "                negatives.append(list(nltk.bigrams(review.split())))\n",
    "            else:\n",
    "                neutrals.append(list(nltk.bigrams(review.split())))\n",
    "                \n",
    "        "
   ]
  },
  {
   "cell_type": "code",
   "execution_count": 16,
   "metadata": {
    "collapsed": true
   },
   "outputs": [],
   "source": [
    "# lst = ['This hotel is HORRIBLE!', 'i can deal with it', 'I LOVE THIS', 'ive been better', \n",
    "#        'such crap, never coming again', 'so-so']"
   ]
  },
  {
   "cell_type": "code",
   "execution_count": 17,
   "metadata": {
    "collapsed": true
   },
   "outputs": [],
   "source": [
    "cluter_review_sentiments(san_francisco.reviews)"
   ]
  },
  {
   "cell_type": "code",
   "execution_count": 18,
   "metadata": {
    "collapsed": true
   },
   "outputs": [],
   "source": [
    "# cluter_review_bigrams_sentiments(san_francisco.reviews)"
   ]
  },
  {
   "cell_type": "code",
   "execution_count": 19,
   "metadata": {},
   "outputs": [
    {
     "data": {
      "text/plain": [
       "(141, 9, 21)"
      ]
     },
     "execution_count": 19,
     "metadata": {},
     "output_type": "execute_result"
    }
   ],
   "source": [
    "len(positives), len(negatives), len(neutrals)"
   ]
  },
  {
   "cell_type": "code",
   "execution_count": 20,
   "metadata": {
    "collapsed": true
   },
   "outputs": [],
   "source": [
    "# negatives"
   ]
  },
  {
   "cell_type": "code",
   "execution_count": 21,
   "metadata": {},
   "outputs": [
    {
     "data": {
      "text/plain": [
       "'I booked this hotel because of all the favourite reviews. Very disappointed after checking into the room. There were quite a few homeless people roaming on the block. Had the junior suite (really was just 2 queen beds plus a small kitechen area). The kitchen appliances were so dirty and rusty that I dared not touch them (let alone using them). What was killing me was the noise level from the street. I was on the 4th floor but make no mistake, it is just the same as street level. The windows provided no sound insulation at all. Right next to the busy Post St, you could hear all sorts of noises in the wee morning hours (pedestrians talking, car doors banging, bellboy unloading suitcases, all the speeding cars etc). Even with ear plugs, I had a hard time falling asleep. Had to shortern our stay in that hotel and found a much better hotel on Howard street. Again, I do not know why this hotel is receiving all these good reviews. I bet that all the rooms facing the busy streets have the same noise problem.'"
      ]
     },
     "execution_count": 21,
     "metadata": {},
     "output_type": "execute_result"
    }
   ],
   "source": [
    "negatives[0]"
   ]
  },
  {
   "cell_type": "code",
   "execution_count": 22,
   "metadata": {},
   "outputs": [
    {
     "data": {
      "text/plain": [
       "{'compound': -0.9015, 'neg': 0.127, 'neu': 0.834, 'pos': 0.039}"
      ]
     },
     "execution_count": 22,
     "metadata": {},
     "output_type": "execute_result"
    }
   ],
   "source": [
    "analyzer.polarity_scores(negatives[0])"
   ]
  },
  {
   "cell_type": "code",
   "execution_count": 23,
   "metadata": {
    "collapsed": true
   },
   "outputs": [],
   "source": [
    "# positives"
   ]
  },
  {
   "cell_type": "code",
   "execution_count": 24,
   "metadata": {},
   "outputs": [
    {
     "data": {
      "text/plain": [
       "{'compound': 0.9924, 'neg': 0.016, 'neu': 0.858, 'pos': 0.126}"
      ]
     },
     "execution_count": 24,
     "metadata": {},
     "output_type": "execute_result"
    }
   ],
   "source": [
    "analyzer.polarity_scores(positives[0])"
   ]
  },
  {
   "cell_type": "code",
   "execution_count": 25,
   "metadata": {},
   "outputs": [
    {
     "data": {
      "text/plain": [
       "{'compound': -0.7756, 'neg': 0.403, 'neu': 0.597, 'pos': 0.0}"
      ]
     },
     "execution_count": 25,
     "metadata": {},
     "output_type": "execute_result"
    }
   ],
   "source": [
    "analyzer.polarity_scores('\"This hotel is HORRIBLE! I can deal with old but, it was dirty')"
   ]
  },
  {
   "cell_type": "code",
   "execution_count": null,
   "metadata": {
    "collapsed": true
   },
   "outputs": [],
   "source": []
  },
  {
   "cell_type": "code",
   "execution_count": 87,
   "metadata": {},
   "outputs": [
    {
     "name": "stdout",
     "output_type": "stream",
     "text": [
      "tfidf shape: (141, 5)\n"
     ]
    }
   ],
   "source": [
    "# # # test tfidf on positives\n",
    "\n",
    "# tfidf_vectorizer = TfidfVectorizer(max_df=0.6,\n",
    "#                                  min_df=0.2, stop_words='english',\n",
    "#                                  use_idf=True, ngram_range=(2, 4))\n",
    "\n",
    "# # tfidf_vectorizer = TfidfVectorizer(stop_words='english',\n",
    "# #                                  use_idf=True, ngram_range=(1, 3))\n",
    "\n",
    "# positives_tfidf_matrix = tfidf_vectorizer.fit_transform(positives)\n",
    "\n",
    "# print(\"tfidf shape: {}\".format(positives_tfidf_matrix.shape))\n",
    "\n",
    "# # test tfidf on negatives\n",
    "\n",
    "# neg_tfidf_vectorizer = TfidfVectorizer(max_df=0.6,\n",
    "#                                  min_df=0.2,\n",
    "#                                  stop_words='english',\n",
    "#                                  use_idf=True, ngram_range=(2, 4))\n",
    "\n",
    "# negatives_tfidf_matrix = neg_tfidf_vectorizer.fit_transform(negatives)\n",
    "\n",
    "# # print(\"tfidf shape: {}\".format(negatives_tfidf_matrix.shape))"
   ]
  },
  {
   "cell_type": "code",
   "execution_count": 144,
   "metadata": {},
   "outputs": [
    {
     "name": "stdout",
     "output_type": "stream",
     "text": [
      "(141, 31)\n"
     ]
    }
   ],
   "source": [
    "# test countvectorizer\n",
    "\n",
    "tf_vectorizer = CountVectorizer(strip_accents = 'unicode',\n",
    "                                stop_words = 'english',\n",
    "                                ngram_range=(2, 2),\n",
    "                                lowercase = True,\n",
    "                                token_pattern = r'\\b[a-zA-Z]{3,}\\b',\n",
    "                                max_df = 0.5, \n",
    "                                min_df = 10)\n",
    "dtm_tf = tf_vectorizer.fit_transform(positives)\n",
    "print(dtm_tf.shape)"
   ]
  },
  {
   "cell_type": "code",
   "execution_count": 146,
   "metadata": {},
   "outputs": [
    {
     "name": "stdout",
     "output_type": "stream",
     "text": [
      "(9, 901)\n"
     ]
    }
   ],
   "source": [
    "# test countvectorizer for neg\n",
    "\n",
    "neg_tf_vectorizer = CountVectorizer(strip_accents = 'unicode',\n",
    "                                stop_words = 'english',\n",
    "                                ngram_range=(2, 2),\n",
    "                                lowercase = True,\n",
    "                                token_pattern = r'\\b[a-zA-Z]{3,}\\b',\n",
    "                                max_df = 1, \n",
    "                                min_df = 1)\n",
    "neg_dtm_tf = neg_tf_vectorizer.fit_transform(negatives)\n",
    "print(neg_dtm_tf.shape)"
   ]
  },
  {
   "cell_type": "code",
   "execution_count": 130,
   "metadata": {
    "collapsed": true
   },
   "outputs": [],
   "source": [
    "# test LDA\n",
    "\n",
    "# lda_tfidf = LatentDirichletAllocation(n_topics=5)"
   ]
  },
  {
   "cell_type": "code",
   "execution_count": 131,
   "metadata": {
    "collapsed": true
   },
   "outputs": [],
   "source": [
    "# neg_lda_tfidf = LatentDirichletAllocation(n_topics=5)"
   ]
  },
  {
   "cell_type": "code",
   "execution_count": 149,
   "metadata": {},
   "outputs": [
    {
     "name": "stderr",
     "output_type": "stream",
     "text": [
      "/Users/steventa/anaconda3/lib/python3.6/site-packages/sklearn/decomposition/online_lda.py:294: DeprecationWarning: n_topics has been renamed to n_components in version 0.19 and will be removed in 0.21\n",
      "  DeprecationWarning)\n",
      "/Users/steventa/anaconda3/lib/python3.6/site-packages/sklearn/decomposition/online_lda.py:536: DeprecationWarning: The default value for 'learning_method' will be changed from 'online' to 'batch' in the release 0.20. This warning was introduced in 0.18.\n",
      "  DeprecationWarning)\n"
     ]
    },
    {
     "data": {
      "text/plain": [
       "LatentDirichletAllocation(batch_size=128, doc_topic_prior=None,\n",
       "             evaluate_every=-1, learning_decay=0.7, learning_method=None,\n",
       "             learning_offset=10.0, max_doc_update_iter=100, max_iter=10,\n",
       "             mean_change_tol=0.001, n_components=10, n_jobs=1, n_topics=5,\n",
       "             perp_tol=0.1, random_state=None, topic_word_prior=None,\n",
       "             total_samples=1000000.0, verbose=0)"
      ]
     },
     "execution_count": 149,
     "metadata": {},
     "output_type": "execute_result"
    }
   ],
   "source": [
    "# for TF\n",
    "lda_tf = LatentDirichletAllocation(n_topics=5)\n",
    "lda_tf.fit(dtm_tf)"
   ]
  },
  {
   "cell_type": "code",
   "execution_count": 150,
   "metadata": {},
   "outputs": [
    {
     "name": "stderr",
     "output_type": "stream",
     "text": [
      "/Users/steventa/anaconda3/lib/python3.6/site-packages/sklearn/decomposition/online_lda.py:294: DeprecationWarning: n_topics has been renamed to n_components in version 0.19 and will be removed in 0.21\n",
      "  DeprecationWarning)\n",
      "/Users/steventa/anaconda3/lib/python3.6/site-packages/sklearn/decomposition/online_lda.py:536: DeprecationWarning: The default value for 'learning_method' will be changed from 'online' to 'batch' in the release 0.20. This warning was introduced in 0.18.\n",
      "  DeprecationWarning)\n"
     ]
    },
    {
     "data": {
      "text/plain": [
       "LatentDirichletAllocation(batch_size=128, doc_topic_prior=None,\n",
       "             evaluate_every=-1, learning_decay=0.7, learning_method=None,\n",
       "             learning_offset=10.0, max_doc_update_iter=100, max_iter=10,\n",
       "             mean_change_tol=0.001, n_components=10, n_jobs=1, n_topics=5,\n",
       "             perp_tol=0.1, random_state=None, topic_word_prior=None,\n",
       "             total_samples=1000000.0, verbose=0)"
      ]
     },
     "execution_count": 150,
     "metadata": {},
     "output_type": "execute_result"
    }
   ],
   "source": [
    "# for TF for neg\n",
    "neg_lda_tf = LatentDirichletAllocation(n_topics=5)\n",
    "neg_lda_tf.fit(neg_dtm_tf)"
   ]
  },
  {
   "cell_type": "code",
   "execution_count": 151,
   "metadata": {
    "collapsed": true
   },
   "outputs": [],
   "source": [
    "# lda_tfidf.fit(positives_tfidf_matrix)"
   ]
  },
  {
   "cell_type": "code",
   "execution_count": 152,
   "metadata": {
    "collapsed": true
   },
   "outputs": [],
   "source": [
    "# neg_lda_tfidf.fit(negatives_tfidf_matrix)"
   ]
  },
  {
   "cell_type": "markdown",
   "metadata": {},
   "source": [
    "#### We have ratings for 5 topics. Can our topic modeling find it?\n",
    "\n",
    "- CLEANLINESS\t\n",
    "- ROOM\t\n",
    "- SERVICE\t\n",
    "- LOCATION\n",
    "- VALUE\t"
   ]
  },
  {
   "cell_type": "code",
   "execution_count": 153,
   "metadata": {
    "collapsed": true
   },
   "outputs": [],
   "source": [
    "# visual LDAvis\n",
    "\n",
    "# vis_data = pyLDAvis.sklearn.prepare(lda_tfidf, positives_tfidf_matrix, tfidf_vectorizer)"
   ]
  },
  {
   "cell_type": "code",
   "execution_count": 154,
   "metadata": {
    "collapsed": true
   },
   "outputs": [],
   "source": [
    "# pyLDAvis.display(vis_data)"
   ]
  },
  {
   "cell_type": "code",
   "execution_count": 155,
   "metadata": {
    "collapsed": true
   },
   "outputs": [],
   "source": [
    "# visual LDAvis\n",
    "\n",
    "# neg_vis_data = pyLDAvis.sklearn.prepare(neg_lda_tfidf, negatives_tfidf_matrix, neg_tfidf_vectorizer)"
   ]
  },
  {
   "cell_type": "code",
   "execution_count": 156,
   "metadata": {
    "collapsed": true
   },
   "outputs": [],
   "source": [
    "# pyLDAvis.display(neg_vis_data)"
   ]
  },
  {
   "cell_type": "code",
   "execution_count": 157,
   "metadata": {},
   "outputs": [
    {
     "data": {
      "text/html": [
       "\n",
       "<link rel=\"stylesheet\" type=\"text/css\" href=\"https://cdn.rawgit.com/bmabey/pyLDAvis/files/ldavis.v1.0.0.css\">\n",
       "\n",
       "\n",
       "<div id=\"ldavis_el79941120606410968589286182\"></div>\n",
       "<script type=\"text/javascript\">\n",
       "\n",
       "var ldavis_el79941120606410968589286182_data = {\"mdsDat\": {\"Freq\": [35.88947416678422, 24.981096602742713, 14.912201285609825, 12.599209943122943, 11.618018001740293], \"cluster\": [1, 1, 1, 1, 1], \"topics\": [1, 2, 3, 4, 5], \"x\": [0.25449687911426805, 0.029380206375174675, -0.010899807190589193, -0.26161545165674055, -0.011361826642113269], \"y\": [-0.029460361600467156, -0.022860773037150277, -0.12950692184803203, -0.035258321203461236, 0.21708637768911074]}, \"tinfo\": {\"Category\": [\"Default\", \"Default\", \"Default\", \"Default\", \"Default\", \"Default\", \"Default\", \"Default\", \"Default\", \"Default\", \"Default\", \"Default\", \"Default\", \"Default\", \"Default\", \"Default\", \"Default\", \"Default\", \"Default\", \"Default\", \"Default\", \"Default\", \"Default\", \"Default\", \"Default\", \"Default\", \"Default\", \"Default\", \"Default\", \"Default\", \"Topic1\", \"Topic1\", \"Topic1\", \"Topic1\", \"Topic1\", \"Topic1\", \"Topic1\", \"Topic1\", \"Topic1\", \"Topic1\", \"Topic1\", \"Topic1\", \"Topic1\", \"Topic1\", \"Topic1\", \"Topic1\", \"Topic1\", \"Topic1\", \"Topic1\", \"Topic1\", \"Topic1\", \"Topic1\", \"Topic1\", \"Topic1\", \"Topic1\", \"Topic1\", \"Topic1\", \"Topic1\", \"Topic1\", \"Topic1\", \"Topic2\", \"Topic2\", \"Topic2\", \"Topic2\", \"Topic2\", \"Topic2\", \"Topic2\", \"Topic2\", \"Topic2\", \"Topic2\", \"Topic2\", \"Topic2\", \"Topic2\", \"Topic2\", \"Topic2\", \"Topic2\", \"Topic2\", \"Topic2\", \"Topic2\", \"Topic2\", \"Topic2\", \"Topic2\", \"Topic2\", \"Topic2\", \"Topic2\", \"Topic2\", \"Topic2\", \"Topic2\", \"Topic2\", \"Topic2\", \"Topic2\", \"Topic3\", \"Topic3\", \"Topic3\", \"Topic3\", \"Topic3\", \"Topic3\", \"Topic3\", \"Topic3\", \"Topic3\", \"Topic3\", \"Topic3\", \"Topic3\", \"Topic3\", \"Topic3\", \"Topic3\", \"Topic3\", \"Topic3\", \"Topic3\", \"Topic3\", \"Topic3\", \"Topic3\", \"Topic3\", \"Topic3\", \"Topic3\", \"Topic3\", \"Topic3\", \"Topic3\", \"Topic3\", \"Topic3\", \"Topic3\", \"Topic3\", \"Topic4\", \"Topic4\", \"Topic4\", \"Topic4\", \"Topic4\", \"Topic4\", \"Topic4\", \"Topic4\", \"Topic4\", \"Topic4\", \"Topic4\", \"Topic4\", \"Topic4\", \"Topic4\", \"Topic4\", \"Topic4\", \"Topic4\", \"Topic4\", \"Topic4\", \"Topic4\", \"Topic4\", \"Topic4\", \"Topic4\", \"Topic4\", \"Topic4\", \"Topic4\", \"Topic4\", \"Topic4\", \"Topic4\", \"Topic4\", \"Topic4\", \"Topic5\", \"Topic5\", \"Topic5\", \"Topic5\", \"Topic5\", \"Topic5\", \"Topic5\", \"Topic5\", \"Topic5\", \"Topic5\", \"Topic5\", \"Topic5\", \"Topic5\", \"Topic5\", \"Topic5\", \"Topic5\", \"Topic5\", \"Topic5\", \"Topic5\", \"Topic5\", \"Topic5\", \"Topic5\", \"Topic5\", \"Topic5\", \"Topic5\", \"Topic5\", \"Topic5\", \"Topic5\", \"Topic5\", \"Topic5\", \"Topic5\"], \"Freq\": [58.0, 18.0, 18.0, 11.0, 18.0, 15.0, 22.0, 17.0, 10.0, 24.0, 13.0, 12.0, 17.0, 17.0, 13.0, 20.0, 13.0, 37.0, 10.0, 30.0, 14.0, 8.0, 7.0, 10.0, 6.0, 14.0, 24.0, 10.0, 15.0, 9.0, 23.555027092222243, 12.909482397027887, 7.68608873722676, 4.41170740126988, 27.121857317320334, 7.708138976640697, 41.14622141476717, 6.71043268972215, 13.823976546727668, 6.936309489802442, 5.406470062864521, 5.501654303803054, 8.79070507866639, 2.098911171898092, 5.682490872413547, 5.53325944080388, 0.8656934283284144, 0.7339398245948489, 0.6666439274031696, 0.6567852322195645, 0.3633569745998819, 0.35541222557599333, 0.35601920080357785, 0.31236330945896273, 0.2612149094872399, 0.36787340265650076, 0.3759362935256149, 0.303533662082585, 0.21988402995235234, 0.2323232219674389, 16.344132839197897, 8.872302032085033, 10.787326384962991, 14.003836062972915, 7.993826566425302, 8.954082486207652, 7.075824397920628, 12.915338511209583, 6.111291571158876, 4.742930214267394, 5.968738592404941, 7.367289559821856, 1.654069132064312, 8.761996583335282, 1.7686949040227242, 4.132650350518846, 0.7893126446600963, 0.5440906442874323, 0.36316888767561933, 0.56837398956927, 0.23073891764617413, 0.39845546017347516, 0.2537178342301949, 0.22386763092076653, 0.2698030033765808, 0.2315751784567952, 0.2994349163819513, 0.22783608655646587, 0.8274608945831265, 0.2309175550535916, 0.23616106047088023, 9.324687349426645, 7.399282655173427, 6.625083552412084, 3.7765614366569418, 3.2689047011174557, 4.2526083707769216, 16.14028969226606, 2.4644929664570583, 3.6215133479539556, 5.556367756269414, 4.175864125915755, 0.5865161186549522, 0.49580696469362573, 1.3168764102802715, 1.1530190875659356, 0.795092807909468, 0.839809835626533, 0.5070466375922766, 0.5099725163675286, 0.5713253384354097, 0.4851359086219773, 0.4902472653736177, 0.49389454806376787, 0.4602081635282515, 0.5445327762425658, 0.5738840110895921, 1.024857091937063, 0.4880341418433204, 0.49098589367572365, 0.5231448858409657, 0.5259864945318159, 10.055828117619477, 6.8613688541640965, 8.591306440459265, 6.002023155073088, 7.378520933884011, 6.76104508783958, 5.255547331283615, 5.673358110201057, 1.8439843446340995, 1.0898258160873184, 0.5018584406490046, 0.703046163937615, 0.7303973312946993, 0.9031280745713336, 0.3753140632922025, 0.33026538281812196, 0.23533120553013817, 0.41053565359259936, 0.3977926095548828, 0.26545818505233243, 0.22589262700599758, 0.275739235948589, 0.23752644675458384, 0.23328496019571887, 0.2624760140790458, 0.2627980164252094, 0.22087701235155885, 0.3193912917669654, 0.238112220745658, 0.24457062237175578, 0.26718524766167767, 7.916599591272713, 12.139054964127304, 10.994389548109158, 8.783630187177332, 2.365852435997208, 1.6826849904626595, 1.9046758487535231, 2.825515968114968, 3.1599708742890886, 1.645604709108588, 0.3408275070929775, 0.4188087769735334, 0.3935248246207843, 0.6820453737854976, 0.388743186406015, 0.39753355593843026, 0.35491439993040247, 0.4434997265917718, 0.3375348192561082, 0.35794746609479183, 0.35869260187314556, 0.3319837425470303, 0.31814196566752917, 0.33000651596282204, 0.836803686291143, 0.3190184089160496, 0.3248896590177107, 0.3252675091466913, 0.4207672846929384, 0.3338454536145419, 0.4912603674432924], \"Term\": [\"beresford arms\", \"street noise\", \"close union\", \"room clean\", \"stayed nights\", \"large bathroom\", \"rooms clean\", \"staff friendly\", \"san fran\", \"stayed beresford\", \"junior suite\", \"good value\", \"cable car\", \"free internet\", \"blocks union\", \"friendly helpful\", \"staff helpful\", \"san francisco\", \"recommend hotel\", \"wine cheese\", \"arms hotel\", \"internet access\", \"coffee tea\", \"older hotel\", \"near union\", \"afternoon wine\", \"continental breakfast\", \"queen beds\", \"walking distance\", \"nice touch\", \"stayed beresford\", \"arms hotel\", \"nice touch\", \"walk union\", \"san francisco\", \"older hotel\", \"beresford arms\", \"queen beds\", \"continental breakfast\", \"walking distance\", \"afternoon wine\", \"street noise\", \"wine cheese\", \"coffee tea\", \"friendly helpful\", \"rooms clean\", \"near union\", \"internet access\", \"san fran\", \"blocks union\", \"room clean\", \"staff helpful\", \"junior suite\", \"good value\", \"recommend hotel\", \"staff friendly\", \"stayed nights\", \"cable car\", \"large bathroom\", \"close union\", \"staff friendly\", \"recommend hotel\", \"staff helpful\", \"friendly helpful\", \"afternoon wine\", \"stayed nights\", \"walking distance\", \"wine cheese\", \"free internet\", \"blocks union\", \"cable car\", \"rooms clean\", \"near union\", \"san francisco\", \"internet access\", \"continental breakfast\", \"queen beds\", \"older hotel\", \"coffee tea\", \"good value\", \"walk union\", \"room clean\", \"nice touch\", \"san fran\", \"large bathroom\", \"junior suite\", \"street noise\", \"arms hotel\", \"beresford arms\", \"close union\", \"stayed beresford\", \"large bathroom\", \"blocks union\", \"junior suite\", \"internet access\", \"coffee tea\", \"good value\", \"beresford arms\", \"queen beds\", \"free internet\", \"wine cheese\", \"continental breakfast\", \"near union\", \"walk union\", \"close union\", \"cable car\", \"staff helpful\", \"walking distance\", \"nice touch\", \"san fran\", \"room clean\", \"recommend hotel\", \"older hotel\", \"arms hotel\", \"afternoon wine\", \"staff friendly\", \"stayed nights\", \"san francisco\", \"street noise\", \"friendly helpful\", \"rooms clean\", \"stayed beresford\", \"room clean\", \"good value\", \"stayed nights\", \"junior suite\", \"cable car\", \"free internet\", \"large bathroom\", \"close union\", \"internet access\", \"near union\", \"walk union\", \"nice touch\", \"san fran\", \"staff helpful\", \"recommend hotel\", \"queen beds\", \"coffee tea\", \"blocks union\", \"afternoon wine\", \"older hotel\", \"arms hotel\", \"staff friendly\", \"walking distance\", \"street noise\", \"rooms clean\", \"continental breakfast\", \"friendly helpful\", \"wine cheese\", \"stayed beresford\", \"san francisco\", \"beresford arms\", \"san fran\", \"street noise\", \"close union\", \"rooms clean\", \"near union\", \"coffee tea\", \"older hotel\", \"cable car\", \"wine cheese\", \"continental breakfast\", \"walk union\", \"internet access\", \"nice touch\", \"free internet\", \"recommend hotel\", \"room clean\", \"queen beds\", \"walking distance\", \"good value\", \"blocks union\", \"arms hotel\", \"junior suite\", \"staff helpful\", \"afternoon wine\", \"san francisco\", \"large bathroom\", \"staff friendly\", \"stayed nights\", \"stayed beresford\", \"friendly helpful\", \"beresford arms\"], \"Total\": [58.0, 18.0, 18.0, 11.0, 18.0, 15.0, 22.0, 17.0, 10.0, 24.0, 13.0, 12.0, 17.0, 17.0, 13.0, 20.0, 13.0, 37.0, 10.0, 30.0, 14.0, 8.0, 7.0, 10.0, 6.0, 14.0, 24.0, 10.0, 15.0, 9.0, 24.976054152663536, 14.215798260527261, 9.543424197607631, 5.980939231351662, 37.990085301255576, 10.912610920107605, 58.87241761672133, 10.64941808358783, 24.040893748696067, 15.53296989669596, 14.588303918335779, 18.66146328635135, 30.74177351220144, 7.649000956683964, 20.732035295028286, 22.46980008772308, 6.561956931132205, 8.541989286882147, 10.047480997258877, 13.567481221347778, 11.786499446766674, 13.159101458687314, 13.546684829292577, 12.332249343225358, 10.382710099892469, 17.85716791306326, 18.820476740428816, 17.62932824405244, 15.388940122955242, 18.447864845611516, 17.85716791306326, 10.382710099892469, 13.159101458687314, 20.732035295028286, 14.588303918335779, 18.820476740428816, 15.53296989669596, 30.74177351220144, 17.373080053864975, 13.567481221347778, 17.62932824405244, 22.46980008772308, 6.561956931132205, 37.990085301255576, 8.541989286882147, 24.040893748696067, 10.64941808358783, 10.912610920107605, 7.649000956683964, 12.332249343225358, 5.980939231351662, 11.786499446766674, 9.543424197607631, 10.047480997258877, 15.388940122955242, 13.546684829292577, 18.66146328635135, 14.215798260527261, 58.87241761672133, 18.447864845611516, 24.976054152663536, 15.388940122955242, 13.567481221347778, 13.546684829292577, 8.541989286882147, 7.649000956683964, 12.332249343225358, 58.87241761672133, 10.64941808358783, 17.373080053864975, 30.74177351220144, 24.040893748696067, 6.561956931132205, 5.980939231351662, 18.447864845611516, 17.62932824405244, 13.159101458687314, 15.53296989669596, 9.543424197607631, 10.047480997258877, 11.786499446766674, 10.382710099892469, 10.912610920107605, 14.215798260527261, 14.588303918335779, 17.85716791306326, 18.820476740428816, 37.990085301255576, 18.66146328635135, 20.732035295028286, 22.46980008772308, 24.976054152663536, 11.786499446766674, 12.332249343225358, 18.820476740428816, 13.546684829292577, 17.62932824405244, 17.373080053864975, 15.388940122955242, 18.447864845611516, 8.541989286882147, 6.561956931132205, 5.980939231351662, 9.543424197607631, 10.047480997258877, 13.159101458687314, 10.382710099892469, 10.64941808358783, 7.649000956683964, 13.567481221347778, 14.588303918335779, 10.912610920107605, 14.215798260527261, 17.85716791306326, 15.53296989669596, 18.66146328635135, 22.46980008772308, 24.040893748696067, 20.732035295028286, 30.74177351220144, 24.976054152663536, 37.990085301255576, 58.87241761672133, 10.047480997258877, 18.66146328635135, 18.447864845611516, 22.46980008772308, 6.561956931132205, 7.649000956683964, 10.912610920107605, 17.62932824405244, 30.74177351220144, 24.040893748696067, 5.980939231351662, 8.541989286882147, 9.543424197607631, 17.373080053864975, 10.382710099892469, 11.786499446766674, 10.64941808358783, 15.53296989669596, 12.332249343225358, 13.567481221347778, 14.215798260527261, 13.546684829292577, 13.159101458687314, 14.588303918335779, 37.990085301255576, 15.388940122955242, 17.85716791306326, 18.820476740428816, 24.976054152663536, 20.732035295028286, 58.87241761672133], \"loglift\": [30.0, 29.0, 28.0, 27.0, 26.0, 25.0, 24.0, 23.0, 22.0, 21.0, 20.0, 19.0, 18.0, 17.0, 16.0, 15.0, 14.0, 13.0, 12.0, 11.0, 10.0, 9.0, 8.0, 7.0, 6.0, 5.0, 4.0, 3.0, 2.0, 1.0, 0.9661, 0.9283, 0.8083, 0.7204, 0.6877, 0.6771, 0.6665, 0.5629, 0.4714, 0.2185, 0.0321, -0.1967, -0.2272, -0.2684, -0.2696, -0.3767, -1.0008, -1.4296, -1.6881, -2.0033, -2.4546, -2.5869, -2.6142, -2.6511, -2.6578, -2.8577, -2.8886, -3.0371, -3.2236, -3.3498, 1.2985, 1.2298, 1.1883, 0.9947, 0.7855, 0.6442, 0.6008, 0.5198, 0.3423, 0.336, 0.304, 0.2719, 0.009, -0.0799, -0.1877, -0.3738, -1.215, -1.6115, -1.6604, -1.6901, -1.868, -2.0001, -2.2403, -2.417, -2.6567, -2.6819, -2.7453, -2.7464, -2.8777, -2.9936, -3.2741, 1.402, 1.2967, 1.1877, 1.0868, 1.0529, 0.8383, 0.6089, 0.4395, 0.335, 0.1923, 0.1526, -0.5119, -0.5872, -0.7367, -0.8242, -0.9034, -1.0146, -1.032, -1.0777, -1.1238, -1.1605, -1.1998, -1.4568, -1.5533, -1.5872, -1.5873, -1.7098, -1.7408, -1.84, -1.8571, -1.9574, 1.9127, 1.4852, 1.2873, 1.2575, 1.2005, 1.1278, 0.9972, 0.8924, 0.5385, 0.2763, -0.4065, -0.5366, -0.55, -0.6075, -1.2486, -1.4018, -1.4098, -1.4264, -1.5305, -1.6447, -2.0705, -2.0992, -2.1089, -2.3104, -2.3782, -2.4446, -2.4703, -2.4954, -2.5814, -2.974, -3.3236, 1.9143, 1.7226, 1.635, 1.2133, 1.1325, 0.6384, 0.407, 0.3217, -0.1224, -0.529, -0.7123, -0.8627, -1.0359, -1.085, -1.1324, -1.2368, -1.2488, -1.4034, -1.4457, -1.4824, -1.527, -1.5562, -1.5698, -1.6362, -1.6629, -1.7235, -1.8541, -1.9054, -1.931, -1.9761, -2.6335], \"logprob\": [30.0, 29.0, 28.0, 27.0, 26.0, 25.0, 24.0, 23.0, 22.0, 21.0, 20.0, 19.0, 18.0, 17.0, 16.0, 15.0, 14.0, 13.0, 12.0, 11.0, 10.0, 9.0, 8.0, 7.0, 6.0, 5.0, 4.0, 3.0, 2.0, 1.0, -2.0945, -2.6958, -3.2144, -3.7695, -1.9535, -3.2115, -1.5367, -3.3501, -2.6274, -3.317, -3.5662, -3.5487, -3.0801, -4.5124, -3.5164, -3.543, -5.398, -5.5631, -5.6593, -5.6742, -6.2662, -6.2883, -6.2866, -6.4174, -6.5962, -6.2538, -6.2321, -6.4461, -6.7685, -6.7134, -2.0976, -2.7085, -2.5131, -2.2521, -2.8128, -2.6994, -2.9348, -2.3331, -3.0813, -3.3348, -3.1049, -2.8944, -4.3882, -2.721, -4.3212, -3.4726, -5.1281, -5.5001, -5.9044, -5.4564, -6.3579, -5.8116, -6.263, -6.3882, -6.2015, -6.3543, -6.0973, -6.3706, -5.0809, -6.3572, -6.3347, -2.1429, -2.3741, -2.4847, -3.0467, -3.1911, -2.928, -1.5942, -3.4735, -3.0886, -2.6606, -2.9462, -4.9091, -5.0771, -4.1003, -4.2331, -4.6048, -4.5501, -5.0547, -5.0489, -4.9353, -5.0989, -5.0884, -5.081, -5.1516, -4.9834, -4.9309, -4.351, -5.0929, -5.0869, -5.0234, -5.018, -1.8988, -2.2811, -2.0562, -2.4149, -2.2084, -2.2958, -2.5477, -2.4712, -3.5951, -4.121, -4.8964, -4.5593, -4.5212, -4.3089, -5.187, -5.3148, -5.6537, -5.0973, -5.1288, -5.5333, -5.6947, -5.4953, -5.6445, -5.6625, -5.5446, -5.5434, -5.7171, -5.3483, -5.642, -5.6152, -5.5268, -2.0569, -1.6295, -1.7285, -1.953, -3.2648, -3.6055, -3.4816, -3.0872, -2.9753, -3.6278, -5.2023, -4.9962, -5.0585, -4.5086, -5.0707, -5.0484, -5.1618, -4.939, -5.212, -5.1533, -5.1512, -5.2286, -5.2712, -5.2346, -4.3041, -5.2684, -5.2502, -5.249, -4.9916, -5.223, -4.8367]}, \"token.table\": {\"Topic\": [1, 2, 1, 1, 2, 3, 1, 2, 3, 2, 3, 4, 5, 3, 4, 5, 1, 3, 5, 1, 2, 3, 5, 2, 3, 4, 5, 1, 2, 2, 3, 4, 1, 2, 3, 4, 3, 4, 3, 4, 1, 2, 3, 4, 5, 1, 3, 4, 1, 2, 5, 1, 2, 3, 2, 3, 4, 1, 2, 3, 5, 1, 3, 4, 5, 1, 2, 3, 5, 2, 3, 2, 3, 4, 1, 3, 2, 3, 4, 1, 5, 1, 4, 1, 2, 3, 1, 2, 3, 5], \"Freq\": [0.3427403232061535, 0.5483845171298456, 0.9144755547141419, 0.6964212046959477, 0.01698588304136458, 0.27177412866183326, 0.07370564835767365, 0.36852824178836824, 0.5159395385037155, 0.3403419527357319, 0.05672365878928865, 0.39706561152502057, 0.17017097636786596, 0.054206815171777764, 0.3252408910306666, 0.5962749668895554, 0.2614720551515071, 0.39220808272726065, 0.2614720551515071, 0.5823410787612392, 0.16638316536035405, 0.16638316536035405, 0.08319158268017703, 0.3453619036691876, 0.23024126911279175, 0.40292222094738556, 0.05756031727819794, 0.2894071862514555, 0.6752834345867295, 0.08108820801205609, 0.32435283204822435, 0.5676174560843926, 0.11706874902497133, 0.23413749804994266, 0.4682749960998853, 0.23413749804994266, 0.5167315906592586, 0.4429127919936502, 0.5848355980393319, 0.32490866557740666, 0.1523935634590426, 0.3047871269180852, 0.1523935634590426, 0.1523935634590426, 0.3047871269180852, 0.8382735414826744, 0.1047841926853343, 0.1047841926853343, 0.733096786696498, 0.09163709833706225, 0.1832741966741245, 0.6573129109080552, 0.09390184441543646, 0.18780368883087292, 0.8668257047929336, 0.08484283264225025, 0.8484283264225024, 0.26702507261193864, 0.31152925138059506, 0.044504178768656436, 0.4005376089179079, 0.09952743381876682, 0.09952743381876682, 0.09952743381876682, 0.7962194705501345, 0.7107117498129873, 0.2369039166043291, 0.026322657400481012, 0.026322657400481012, 0.8959987427959019, 0.055999921424743866, 0.8359233367516953, 0.07599303061379048, 0.07599303061379048, 0.960920402130076, 0.040038350088753165, 0.4782025516211732, 0.053133616846797016, 0.4782025516211732, 0.32151819543477544, 0.6430363908695509, 0.6687912793081532, 0.1671978198270383, 0.45065432087710283, 0.45065432087710283, 0.06437918869672898, 0.29276124867772807, 0.42287735920116276, 0.19517416578515204, 0.09758708289257602], \"Term\": [\"afternoon wine\", \"afternoon wine\", \"arms hotel\", \"beresford arms\", \"beresford arms\", \"beresford arms\", \"blocks union\", \"blocks union\", \"blocks union\", \"cable car\", \"cable car\", \"cable car\", \"cable car\", \"close union\", \"close union\", \"close union\", \"coffee tea\", \"coffee tea\", \"coffee tea\", \"continental breakfast\", \"continental breakfast\", \"continental breakfast\", \"continental breakfast\", \"free internet\", \"free internet\", \"free internet\", \"free internet\", \"friendly helpful\", \"friendly helpful\", \"good value\", \"good value\", \"good value\", \"internet access\", \"internet access\", \"internet access\", \"internet access\", \"junior suite\", \"junior suite\", \"large bathroom\", \"large bathroom\", \"near union\", \"near union\", \"near union\", \"near union\", \"near union\", \"nice touch\", \"nice touch\", \"nice touch\", \"older hotel\", \"older hotel\", \"older hotel\", \"queen beds\", \"queen beds\", \"queen beds\", \"recommend hotel\", \"room clean\", \"room clean\", \"rooms clean\", \"rooms clean\", \"rooms clean\", \"rooms clean\", \"san fran\", \"san fran\", \"san fran\", \"san fran\", \"san francisco\", \"san francisco\", \"san francisco\", \"san francisco\", \"staff friendly\", \"staff friendly\", \"staff helpful\", \"staff helpful\", \"staff helpful\", \"stayed beresford\", \"stayed beresford\", \"stayed nights\", \"stayed nights\", \"stayed nights\", \"street noise\", \"street noise\", \"walk union\", \"walk union\", \"walking distance\", \"walking distance\", \"walking distance\", \"wine cheese\", \"wine cheese\", \"wine cheese\", \"wine cheese\"]}, \"R\": 30, \"lambda.step\": 0.01, \"plot.opts\": {\"xlab\": \"PC1\", \"ylab\": \"PC2\"}, \"topic.order\": [1, 2, 4, 3, 5]};\n",
       "\n",
       "function LDAvis_load_lib(url, callback){\n",
       "  var s = document.createElement('script');\n",
       "  s.src = url;\n",
       "  s.async = true;\n",
       "  s.onreadystatechange = s.onload = callback;\n",
       "  s.onerror = function(){console.warn(\"failed to load library \" + url);};\n",
       "  document.getElementsByTagName(\"head\")[0].appendChild(s);\n",
       "}\n",
       "\n",
       "if(typeof(LDAvis) !== \"undefined\"){\n",
       "   // already loaded: just create the visualization\n",
       "   !function(LDAvis){\n",
       "       new LDAvis(\"#\" + \"ldavis_el79941120606410968589286182\", ldavis_el79941120606410968589286182_data);\n",
       "   }(LDAvis);\n",
       "}else if(typeof define === \"function\" && define.amd){\n",
       "   // require.js is available: use it to load d3/LDAvis\n",
       "   require.config({paths: {d3: \"https://cdnjs.cloudflare.com/ajax/libs/d3/3.5.5/d3.min\"}});\n",
       "   require([\"d3\"], function(d3){\n",
       "      window.d3 = d3;\n",
       "      LDAvis_load_lib(\"https://cdn.rawgit.com/bmabey/pyLDAvis/files/ldavis.v1.0.0.js\", function(){\n",
       "        new LDAvis(\"#\" + \"ldavis_el79941120606410968589286182\", ldavis_el79941120606410968589286182_data);\n",
       "      });\n",
       "    });\n",
       "}else{\n",
       "    // require.js not available: dynamically load d3 & LDAvis\n",
       "    LDAvis_load_lib(\"https://cdnjs.cloudflare.com/ajax/libs/d3/3.5.5/d3.min.js\", function(){\n",
       "         LDAvis_load_lib(\"https://cdn.rawgit.com/bmabey/pyLDAvis/files/ldavis.v1.0.0.js\", function(){\n",
       "                 new LDAvis(\"#\" + \"ldavis_el79941120606410968589286182\", ldavis_el79941120606410968589286182_data);\n",
       "            })\n",
       "         });\n",
       "}\n",
       "</script>"
      ],
      "text/plain": [
       "PreparedData(topic_coordinates=            Freq  cluster  topics         x         y\n",
       "topic                                                \n",
       "0      35.889474        1       1  0.254497 -0.029460\n",
       "1      24.981097        1       2  0.029380 -0.022861\n",
       "3      14.912201        1       3 -0.010900 -0.129507\n",
       "2      12.599210        1       4 -0.261615 -0.035258\n",
       "4      11.618018        1       5 -0.011362  0.217086, topic_info=     Category       Freq                   Term      Total  loglift  logprob\n",
       "term                                                                        \n",
       "2     Default  58.000000         beresford arms  58.000000  30.0000  30.0000\n",
       "27    Default  18.000000           street noise  18.000000  29.0000  29.0000\n",
       "5     Default  18.000000            close union  18.000000  28.0000  28.0000\n",
       "19    Default  11.000000             room clean  11.000000  27.0000  27.0000\n",
       "26    Default  18.000000          stayed nights  18.000000  26.0000  26.0000\n",
       "13    Default  15.000000         large bathroom  15.000000  25.0000  25.0000\n",
       "20    Default  22.000000            rooms clean  22.000000  24.0000  24.0000\n",
       "23    Default  17.000000         staff friendly  17.000000  23.0000  23.0000\n",
       "21    Default  10.000000               san fran  10.000000  22.0000  22.0000\n",
       "25    Default  24.000000       stayed beresford  24.000000  21.0000  21.0000\n",
       "12    Default  13.000000           junior suite  13.000000  20.0000  20.0000\n",
       "10    Default  12.000000             good value  12.000000  19.0000  19.0000\n",
       "4     Default  17.000000              cable car  17.000000  18.0000  18.0000\n",
       "8     Default  17.000000          free internet  17.000000  17.0000  17.0000\n",
       "3     Default  13.000000           blocks union  13.000000  16.0000  16.0000\n",
       "9     Default  20.000000       friendly helpful  20.000000  15.0000  15.0000\n",
       "24    Default  13.000000          staff helpful  13.000000  14.0000  14.0000\n",
       "22    Default  37.000000          san francisco  37.000000  13.0000  13.0000\n",
       "18    Default  10.000000        recommend hotel  10.000000  12.0000  12.0000\n",
       "30    Default  30.000000            wine cheese  30.000000  11.0000  11.0000\n",
       "1     Default  14.000000             arms hotel  14.000000  10.0000  10.0000\n",
       "11    Default   8.000000        internet access   8.000000   9.0000   9.0000\n",
       "6     Default   7.000000             coffee tea   7.000000   8.0000   8.0000\n",
       "16    Default  10.000000            older hotel  10.000000   7.0000   7.0000\n",
       "14    Default   6.000000             near union   6.000000   6.0000   6.0000\n",
       "0     Default  14.000000         afternoon wine  14.000000   5.0000   5.0000\n",
       "7     Default  24.000000  continental breakfast  24.000000   4.0000   4.0000\n",
       "17    Default  10.000000             queen beds  10.000000   3.0000   3.0000\n",
       "29    Default  15.000000       walking distance  15.000000   2.0000   2.0000\n",
       "15    Default   9.000000             nice touch   9.000000   1.0000   1.0000\n",
       "...       ...        ...                    ...        ...      ...      ...\n",
       "27     Topic5  12.139055           street noise  18.661463   1.7226  -1.6295\n",
       "5      Topic5  10.994390            close union  18.447865   1.6350  -1.7285\n",
       "20     Topic5   8.783630            rooms clean  22.469800   1.2133  -1.9530\n",
       "14     Topic5   2.365852             near union   6.561957   1.1325  -3.2648\n",
       "6      Topic5   1.682685             coffee tea   7.649001   0.6384  -3.6055\n",
       "16     Topic5   1.904676            older hotel  10.912611   0.4070  -3.4816\n",
       "4      Topic5   2.825516              cable car  17.629328   0.3217  -3.0872\n",
       "30     Topic5   3.159971            wine cheese  30.741774  -0.1224  -2.9753\n",
       "7      Topic5   1.645605  continental breakfast  24.040894  -0.5290  -3.6278\n",
       "28     Topic5   0.340828             walk union   5.980939  -0.7123  -5.2023\n",
       "11     Topic5   0.418809        internet access   8.541989  -0.8627  -4.9962\n",
       "15     Topic5   0.393525             nice touch   9.543424  -1.0359  -5.0585\n",
       "8      Topic5   0.682045          free internet  17.373080  -1.0850  -4.5086\n",
       "18     Topic5   0.388743        recommend hotel  10.382710  -1.1324  -5.0707\n",
       "19     Topic5   0.397534             room clean  11.786499  -1.2368  -5.0484\n",
       "17     Topic5   0.354914             queen beds  10.649418  -1.2488  -5.1618\n",
       "29     Topic5   0.443500       walking distance  15.532970  -1.4034  -4.9390\n",
       "10     Topic5   0.337535             good value  12.332249  -1.4457  -5.2120\n",
       "3      Topic5   0.357947           blocks union  13.567481  -1.4824  -5.1533\n",
       "1      Topic5   0.358693             arms hotel  14.215798  -1.5270  -5.1512\n",
       "12     Topic5   0.331984           junior suite  13.546685  -1.5562  -5.2286\n",
       "24     Topic5   0.318142          staff helpful  13.159101  -1.5698  -5.2712\n",
       "0      Topic5   0.330007         afternoon wine  14.588304  -1.6362  -5.2346\n",
       "22     Topic5   0.836804          san francisco  37.990085  -1.6629  -4.3041\n",
       "13     Topic5   0.319018         large bathroom  15.388940  -1.7235  -5.2684\n",
       "23     Topic5   0.324890         staff friendly  17.857168  -1.8541  -5.2502\n",
       "26     Topic5   0.325268          stayed nights  18.820477  -1.9054  -5.2490\n",
       "25     Topic5   0.420767       stayed beresford  24.976054  -1.9310  -4.9916\n",
       "9      Topic5   0.333845       friendly helpful  20.732035  -1.9761  -5.2230\n",
       "2      Topic5   0.491260         beresford arms  58.872418  -2.6335  -4.8367\n",
       "\n",
       "[184 rows x 6 columns], token_table=      Topic      Freq                   Term\n",
       "term                                        \n",
       "0         1  0.342740         afternoon wine\n",
       "0         2  0.548385         afternoon wine\n",
       "1         1  0.914476             arms hotel\n",
       "2         1  0.696421         beresford arms\n",
       "2         2  0.016986         beresford arms\n",
       "2         3  0.271774         beresford arms\n",
       "3         1  0.073706           blocks union\n",
       "3         2  0.368528           blocks union\n",
       "3         3  0.515940           blocks union\n",
       "4         2  0.340342              cable car\n",
       "4         3  0.056724              cable car\n",
       "4         4  0.397066              cable car\n",
       "4         5  0.170171              cable car\n",
       "5         3  0.054207            close union\n",
       "5         4  0.325241            close union\n",
       "5         5  0.596275            close union\n",
       "6         1  0.261472             coffee tea\n",
       "6         3  0.392208             coffee tea\n",
       "6         5  0.261472             coffee tea\n",
       "7         1  0.582341  continental breakfast\n",
       "7         2  0.166383  continental breakfast\n",
       "7         3  0.166383  continental breakfast\n",
       "7         5  0.083192  continental breakfast\n",
       "8         2  0.345362          free internet\n",
       "8         3  0.230241          free internet\n",
       "8         4  0.402922          free internet\n",
       "8         5  0.057560          free internet\n",
       "9         1  0.289407       friendly helpful\n",
       "9         2  0.675283       friendly helpful\n",
       "10        2  0.081088             good value\n",
       "...     ...       ...                    ...\n",
       "20        5  0.400538            rooms clean\n",
       "21        1  0.099527               san fran\n",
       "21        3  0.099527               san fran\n",
       "21        4  0.099527               san fran\n",
       "21        5  0.796219               san fran\n",
       "22        1  0.710712          san francisco\n",
       "22        2  0.236904          san francisco\n",
       "22        3  0.026323          san francisco\n",
       "22        5  0.026323          san francisco\n",
       "23        2  0.895999         staff friendly\n",
       "23        3  0.056000         staff friendly\n",
       "24        2  0.835923          staff helpful\n",
       "24        3  0.075993          staff helpful\n",
       "24        4  0.075993          staff helpful\n",
       "25        1  0.960920       stayed beresford\n",
       "25        3  0.040038       stayed beresford\n",
       "26        2  0.478203          stayed nights\n",
       "26        3  0.053134          stayed nights\n",
       "26        4  0.478203          stayed nights\n",
       "27        1  0.321518           street noise\n",
       "27        5  0.643036           street noise\n",
       "28        1  0.668791             walk union\n",
       "28        4  0.167198             walk union\n",
       "29        1  0.450654       walking distance\n",
       "29        2  0.450654       walking distance\n",
       "29        3  0.064379       walking distance\n",
       "30        1  0.292761            wine cheese\n",
       "30        2  0.422877            wine cheese\n",
       "30        3  0.195174            wine cheese\n",
       "30        5  0.097587            wine cheese\n",
       "\n",
       "[90 rows x 3 columns], R=30, lambda_step=0.01, plot_opts={'xlab': 'PC1', 'ylab': 'PC2'}, topic_order=[1, 2, 4, 3, 5])"
      ]
     },
     "execution_count": 157,
     "metadata": {},
     "output_type": "execute_result"
    }
   ],
   "source": [
    "# visualiza CV\n",
    "\n",
    "pyLDAvis.sklearn.prepare(lda_tf, dtm_tf, tf_vectorizer)"
   ]
  },
  {
   "cell_type": "code",
   "execution_count": 158,
   "metadata": {},
   "outputs": [
    {
     "data": {
      "text/html": [
       "\n",
       "<link rel=\"stylesheet\" type=\"text/css\" href=\"https://cdn.rawgit.com/bmabey/pyLDAvis/files/ldavis.v1.0.0.css\">\n",
       "\n",
       "\n",
       "<div id=\"ldavis_el79941121698573361185085631\"></div>\n",
       "<script type=\"text/javascript\">\n",
       "\n",
       "var ldavis_el79941121698573361185085631_data = {\"mdsDat\": {\"Freq\": [27.590135572633272, 27.481146046036585, 25.722331999808564, 10.208154153510431, 8.998232228011146], \"cluster\": [1, 1, 1, 1, 1], \"topics\": [1, 2, 3, 4, 5], \"x\": [-0.0013347416998172915, -0.05029530548404683, 0.051728493849740036, -0.002100164868819709, 0.0020017182029438106], \"y\": [-0.057742818740184505, 0.030395204788937463, 0.027979724431942774, -0.001360513167958766, 0.0007284026872630844]}, \"tinfo\": {\"Category\": [\"Default\", \"Default\", \"Default\", \"Default\", \"Default\", \"Default\", \"Default\", \"Default\", \"Default\", \"Default\", \"Default\", \"Default\", \"Default\", \"Default\", \"Default\", \"Default\", \"Default\", \"Default\", \"Default\", \"Default\", \"Default\", \"Default\", \"Default\", \"Default\", \"Default\", \"Default\", \"Default\", \"Default\", \"Default\", \"Default\", \"Topic1\", \"Topic1\", \"Topic1\", \"Topic1\", \"Topic1\", \"Topic1\", \"Topic1\", \"Topic1\", \"Topic1\", \"Topic1\", \"Topic1\", \"Topic1\", \"Topic1\", \"Topic1\", \"Topic1\", \"Topic1\", \"Topic1\", \"Topic1\", \"Topic1\", \"Topic1\", \"Topic1\", \"Topic1\", \"Topic1\", \"Topic1\", \"Topic1\", \"Topic1\", \"Topic1\", \"Topic1\", \"Topic1\", \"Topic1\", \"Topic1\", \"Topic1\", \"Topic1\", \"Topic1\", \"Topic1\", \"Topic1\", \"Topic1\", \"Topic1\", \"Topic1\", \"Topic1\", \"Topic1\", \"Topic1\", \"Topic1\", \"Topic1\", \"Topic1\", \"Topic1\", \"Topic2\", \"Topic2\", \"Topic2\", \"Topic2\", \"Topic2\", \"Topic2\", \"Topic2\", \"Topic2\", \"Topic2\", \"Topic2\", \"Topic2\", \"Topic2\", \"Topic2\", \"Topic2\", \"Topic2\", \"Topic2\", \"Topic2\", \"Topic2\", \"Topic2\", \"Topic2\", \"Topic2\", \"Topic2\", \"Topic2\", \"Topic2\", \"Topic2\", \"Topic2\", \"Topic2\", \"Topic2\", \"Topic2\", \"Topic2\", \"Topic2\", \"Topic2\", \"Topic2\", \"Topic2\", \"Topic2\", \"Topic2\", \"Topic2\", \"Topic2\", \"Topic2\", \"Topic2\", \"Topic2\", \"Topic2\", \"Topic2\", \"Topic2\", \"Topic2\", \"Topic2\", \"Topic2\", \"Topic2\", \"Topic2\", \"Topic2\", \"Topic3\", \"Topic3\", \"Topic3\", \"Topic3\", \"Topic3\", \"Topic3\", \"Topic3\", \"Topic3\", \"Topic3\", \"Topic3\", \"Topic3\", \"Topic3\", \"Topic3\", \"Topic3\", \"Topic3\", \"Topic3\", \"Topic3\", \"Topic3\", \"Topic3\", \"Topic3\", \"Topic3\", \"Topic3\", \"Topic3\", \"Topic3\", \"Topic3\", \"Topic3\", \"Topic3\", \"Topic3\", \"Topic3\", \"Topic3\", \"Topic3\", \"Topic3\", \"Topic3\", \"Topic3\", \"Topic3\", \"Topic3\", \"Topic3\", \"Topic3\", \"Topic3\", \"Topic3\", \"Topic3\", \"Topic3\", \"Topic3\", \"Topic3\", \"Topic3\", \"Topic3\", \"Topic3\", \"Topic4\", \"Topic4\", \"Topic4\", \"Topic4\", \"Topic4\", \"Topic4\", \"Topic4\", \"Topic4\", \"Topic4\", \"Topic4\", \"Topic4\", \"Topic4\", \"Topic4\", \"Topic4\", \"Topic4\", \"Topic4\", \"Topic4\", \"Topic4\", \"Topic4\", \"Topic4\", \"Topic4\", \"Topic4\", \"Topic4\", \"Topic4\", \"Topic4\", \"Topic4\", \"Topic4\", \"Topic4\", \"Topic4\", \"Topic4\", \"Topic4\", \"Topic4\", \"Topic4\", \"Topic4\", \"Topic4\", \"Topic4\", \"Topic4\", \"Topic4\", \"Topic4\", \"Topic4\", \"Topic4\", \"Topic4\", \"Topic4\", \"Topic4\", \"Topic4\", \"Topic5\", \"Topic5\", \"Topic5\", \"Topic5\", \"Topic5\", \"Topic5\", \"Topic5\", \"Topic5\", \"Topic5\", \"Topic5\", \"Topic5\", \"Topic5\", \"Topic5\", \"Topic5\", \"Topic5\", \"Topic5\", \"Topic5\", \"Topic5\", \"Topic5\", \"Topic5\", \"Topic5\", \"Topic5\", \"Topic5\", \"Topic5\", \"Topic5\", \"Topic5\", \"Topic5\", \"Topic5\", \"Topic5\", \"Topic5\", \"Topic5\", \"Topic5\", \"Topic5\", \"Topic5\", \"Topic5\", \"Topic5\", \"Topic5\", \"Topic5\", \"Topic5\", \"Topic5\"], \"Freq\": [1.0, 0.0, 0.0, 0.0, 0.0, 0.0, 0.0, 0.0, 0.0, 0.0, 0.0, 0.0, 0.0, 0.0, 0.0, 0.0, 0.0, 0.0, 0.0, 0.0, 0.0, 0.0, 0.0, 0.0, 0.0, 0.0, 0.0, 0.0, 0.0, 0.0, 0.9369315198726595, 0.9395430778924262, 0.9205992761408291, 0.5637991836160742, 0.5591107856995348, 0.5599425895181757, 0.5678315020981499, 0.5686717408242162, 0.5653350636200895, 0.5563314746736953, 0.5689532513987898, 0.5503295183850002, 0.5469979201743762, 0.5724613381888429, 0.5590041118305416, 0.546172428451486, 0.5580420126145839, 0.5491765265946861, 0.552619090781172, 0.5559625969055496, 0.5539668914242245, 0.545248689237644, 0.542210981227998, 0.5653977046294701, 0.5446694628178338, 0.5570626715602843, 0.564800077310139, 0.5461170885373033, 0.5478992381252336, 0.5563996912695729, 0.5637254128974344, 0.5615401247907111, 0.5719553022275721, 0.5612256665878944, 0.5585829635629666, 0.568313038292048, 0.5610989517981918, 0.5633261821424466, 0.5646943628846518, 0.5641473958665922, 0.5596911201126795, 0.5611297023229321, 0.5593130399529258, 0.5597411025742736, 0.5586467731012477, 0.5585571712077105, 0.9191298295798209, 0.5626092477757918, 0.566444602043161, 0.5660036422746755, 0.5476596088137577, 0.5603468707639931, 0.5482182372622787, 0.5490506796355141, 0.5546651442370046, 0.5440447415958221, 0.5542700155634782, 0.5530320224719076, 0.560119728918669, 0.5704545483731354, 0.5523820003716741, 0.5538423303868545, 0.5723746310126498, 0.5605842572954082, 0.5446073995138301, 0.5612984586447681, 0.5609323540941402, 0.5486697036067181, 0.5446001627316176, 0.5524144908786119, 0.5478813608890187, 0.5769709950003141, 0.5559266768125756, 0.5625410641266541, 0.5516642791915878, 0.5390014230473688, 0.5623858827703399, 0.5623490530024595, 0.5596319856086032, 0.5741568332584698, 0.5554949074730738, 0.5638093639063798, 0.5616490077488892, 0.5598322650958752, 0.567011447208826, 0.5605211494774116, 0.561195353489697, 0.5633481806803723, 0.5600465558262909, 0.5624163892437614, 0.562990866676295, 0.562054714079116, 0.560334092380852, 0.5608862323042073, 0.562353069170543, 0.5623068766160118, 1.25245166723026, 0.9146523719446468, 0.8849561752126923, 0.5497109624626225, 0.5356730218526243, 0.536511656572852, 0.537328089340205, 0.5392566867141796, 0.5481052287171708, 0.5456098435305146, 0.5463817328667724, 0.5424492885887923, 0.5365558577764191, 0.5404989286873658, 0.5246389292727139, 0.5391660213705997, 0.535505783562342, 0.5434795547414635, 0.548209346066759, 0.5259885665651973, 0.5427732934160082, 0.5376232440076919, 0.5499205926255287, 0.5191495007495315, 0.5349555870655052, 0.5448159156992839, 0.5375714871566187, 0.5217815826089495, 0.5244545335072531, 0.549074115645487, 0.5318846636827049, 0.5625270919250968, 0.5452662450283042, 0.5427161763997915, 0.5482577456180858, 0.5392604844043699, 0.5462521417579024, 0.5504731225661567, 0.5484958182289205, 0.5463894800695374, 0.5440137049791572, 0.5438984279364957, 0.5424972678314407, 0.5412944779312377, 0.5431925835984698, 0.5411638269487233, 0.5398826708461992, 0.27312050678294303, 0.2658076730710191, 0.26777450118240453, 0.2729252831609673, 0.26461958826037263, 0.2704350167079304, 0.2633520924551084, 0.2761755427747895, 0.26137003319992724, 0.2599563778012163, 0.27467838569798764, 0.26835428059300515, 0.263086609963559, 0.26751017110186165, 0.2649820565272983, 0.26523148076961106, 0.26515156937672135, 0.26499079585978913, 0.2585061659609394, 0.2644694286576872, 0.2591513617306314, 0.26421818531013147, 0.26006166226669597, 0.2680198990776, 0.26142908814973126, 0.2677601915367866, 0.26426011170596203, 0.25972725169132366, 0.25757766463132387, 0.2584825117451155, 0.2651314488782189, 0.2724950301915578, 0.2697509405363249, 0.26948971791577775, 0.26631463216593143, 0.2664518405863325, 0.2659959180844623, 0.2690549315136047, 0.2679763307870264, 0.2652651711176823, 0.26805745374467793, 0.2654695785120579, 0.26612732226382557, 0.2648632856789418, 0.2648301389319266, 0.24415942180161926, 0.24328828656886886, 0.24215458884856692, 0.23374634682708106, 0.23498944707047265, 0.24169669922184514, 0.23774606994763328, 0.2445548093438867, 0.24260674353136877, 0.24199254338163664, 0.24061938294986412, 0.2434556942551138, 0.23621081487113374, 0.2394524545067646, 0.24024429824795682, 0.24580777077387658, 0.23903825209217577, 0.24386651118298835, 0.23390146073556903, 0.24002319583017517, 0.23985524846871195, 0.2448433762660682, 0.2393902884209927, 0.23590363121443805, 0.23762357844030038, 0.24196947189294546, 0.24387695247491759, 0.23948722680881315, 0.24148739299986366, 0.24132853684785635, 0.243503559463415, 0.24132591416689994, 0.23921531102707216, 0.23929539123792945, 0.24179242782932658, 0.24446591519214889, 0.24035910419854498, 0.2404616054901483, 0.24091235343180348, 0.2395977481014586], \"Term\": [\"reasonably priced\", \"linoleum bathroom\", \"penny dump\", \"pay penny\", \"dump work\", \"told today\", \"old cracked\", \"absolutely refusing\", \"suite got\", \"booked internet\", \"hotel absolutely\", \"work number\", \"luggage insisted\", \"bedroom filty\", \"different place\", \"san francisco\", \"worst horrible\", \"burns carpet\", \"internet rooms\", \"price points\", \"stay matter\", \"holes burns\", \"care time\", \"booked junior\", \"area hotel\", \"life left\", \"price worth\", \"area gross\", \"suggested desk\", \"personal travel\", \"hotel loud\", \"fall asleep\", \"alarm goes\", \"arrests day\", \"begin heading\", \"hotel old\", \"mind people\", \"spotlight night\", \"ripped come\", \"approximately minutes\", \"area resident\", \"unkempt somewhat\", \"loud walls\", \"mmmmhmm story\", \"eventually mind\", \"occured understand\", \"shangri just\", \"old somewhat\", \"bed fall\", \"little strange\", \"jaunt slumber\", \"answered young\", \"cleaning room\", \"time know\", \"like spotlight\", \"bit concerned\", \"helpful cleaning\", \"alarmed guests\", \"disaster stay\", \"matter desk\", \"comes charging\", \"make bed\", \"contraption seen\", \"square loud\", \"come check\", \"arrived flight\", \"helpful concerned\", \"making complaints\", \"adapts nuance\", \"incredibly loud\", \"terrible stay\", \"came door\", \"goes single\", \"given paid\", \"dreaming active\", \"god quot\", \"street noise\", \"places cheap\", \"continental breakfast\", \"inexpensive staff\", \"economy occupancy\", \"dark hairs\", \"historical places\", \"radiators spewing\", \"friendly helpful\", \"plus building\", \"pleasant did\", \"single paned\", \"national registry\", \"expect dirty\", \"doing building\", \"sheets changed\", \"dirty curtains\", \"boulange chain\", \"plight early\", \"stayed return\", \"suite unless\", \"days years\", \"helpful continental\", \"open won\", \"dirty sticky\", \"expected room\", \"turned town\", \"windows risk\", \"changed long\", \"screaming psychotic\", \"coffee baked\", \"point economy\", \"effort help\", \"sure sheets\", \"grease dampness\", \"unless look\", \"wash telephone\", \"women change\", \"sticky needs\", \"slow going\", \"beds look\", \"bay bakery\", \"paned panes\", \"good town\", \"paris massage\", \"pastries decent\", \"bucket selection\", \"montgomery ward\", \"long dark\", \"quot nuits\", \"reasonably priced\", \"jacuzzi tub\", \"hotel offers\", \"hour called\", \"tub overflowing\", \"room hot\", \"city site\", \"overflowing told\", \"asking tub\", \"price jacuzzi\", \"value price\", \"fans floor\", \"butter jam\", \"night exactly\", \"uncomfortable evening\", \"spend time\", \"donuts croissants\", \"cheese hour\", \"desk woman\", \"plaza market\", \"floor room\", \"north beach\", \"street tax\", \"amp park\", \"ferry plaza\", \"breakfast wine\", \"check hotel\", \"room small\", \"challenging cab\", \"pretty uncomfortable\", \"easily streets\", \"motel star\", \"breakfast greasy\", \"assist air\", \"smaller traveling\", \"room reasonably\", \"conditioning dusty\", \"suite night\", \"decor older\", \"tax day\", \"useless trying\", \"did understand\", \"morning completely\", \"understand concept\", \"visits city\", \"roomy honor\", \"bad knees\", \"costing money\", \"couldn really\", \"window sick\", \"really wouldn\", \"sick looking\", \"sort stain\", \"pigeons warm\", \"noise allowed\", \"months pigeon\", \"pigeon poo\", \"years ago\", \"money got\", \"crockery smelt\", \"kitchen chipped\", \"dared used\", \"maybe money\", \"got paid\", \"dust kitchen\", \"taps hot\", \"edge carpet\", \"ago sink\", \"simply awful\", \"hilton didn\", \"web site\", \"shall sorry\", \"disagree hotel\", \"money couldn\", \"october finale\", \"didn expect\", \"awful recommend\", \"paid stayed\", \"expect star\", \"window noise\", \"smelt shall\", \"booked beresford\", \"wouldn want\", \"hoovered dust\", \"expedia good\", \"jacuzzi wallpaper\", \"hotel simply\", \"want stay\", \"site room\", \"arms tripadvisor\", \"sorry maybe\", \"cold taps\", \"penny dump\", \"told today\", \"old cracked\", \"filty bellman\", \"business personal\", \"san francisco\", \"arms feel\", \"linoleum bathroom\", \"dump work\", \"internet rooms\", \"worst horrible\", \"hotel absolutely\", \"today area\", \"area hotel\", \"care time\", \"pay penny\", \"booked junior\", \"suite got\", \"dark stay\", \"holes burns\", \"life left\", \"absolutely refusing\", \"price worth\", \"stayed booked\", \"personal travel\", \"different place\", \"bedroom filty\", \"complain desk\", \"area gross\", \"work number\", \"booked internet\", \"luggage insisted\", \"horrible hotel\", \"suggested desk\", \"price points\", \"burns carpet\", \"time life\", \"room queen\", \"rooms completely\", \"stay matter\"], \"Total\": [1.0, 0.0, 0.0, 0.0, 0.0, 0.0, 0.0, 0.0, 0.0, 0.0, 0.0, 0.0, 0.0, 0.0, 0.0, 0.0, 0.0, 0.0, 0.0, 0.0, 0.0, 0.0, 0.0, 0.0, 0.0, 0.0, 0.0, 0.0, 0.0, 0.0, 1.4203810494674187, 1.4452329922923053, 1.4346605846085816, 1.018166025751965, 1.028157010165749, 1.0364859404440778, 1.0519175193303023, 1.0552088984428933, 1.049044282766202, 1.0351761618524273, 1.0594570241061623, 1.0257268944658744, 1.0201763792036835, 1.0681435657641853, 1.0431837954278609, 1.01928496975694, 1.0425690128792822, 1.0269009527090056, 1.03359781980063, 1.0403258861356495, 1.037201533042265, 1.020965410932135, 1.0162827392700609, 1.0607824581192207, 1.0224071342713559, 1.0464280791898404, 1.0612315091693736, 1.02695981176454, 1.0306786592766877, 1.0486557408220807, 1.0640590137849144, 1.0602579467401598, 1.0842778456471422, 1.060233341477318, 1.0561146147620406, 1.0857717872146762, 1.0645294456561987, 1.072970188925199, 1.0817319524237279, 1.084515684005658, 1.067854929061162, 1.0762893190450826, 1.0692805360981754, 1.0796822207294838, 1.071848738455603, 1.1135290406993754, 1.4313013713863663, 1.0298392795484042, 1.0454305430464936, 1.0448782240496501, 1.0113258460979955, 1.035187580278027, 1.0132000529595153, 1.0150279767889594, 1.026858480157668, 1.011740773685754, 1.0314202998238187, 1.0293924944971822, 1.0430180024998825, 1.0634772083021495, 1.03181126692465, 1.0348340233965714, 1.0697395751994156, 1.0486691158809995, 1.0189937283493031, 1.0506547714773096, 1.0500680055410618, 1.0271555746557792, 1.0196568241657034, 1.0345187898647887, 1.0268794891828743, 1.0815235918594241, 1.0424611410940055, 1.0548911080086283, 1.034502861088791, 1.0108288190011576, 1.054872228579129, 1.0549494094715661, 1.0500249611372405, 1.0791505280806615, 1.0421900216007585, 1.0622558445340449, 1.0589547240245043, 1.0544818506233975, 1.0747730757680602, 1.0565080940516713, 1.0587909242831832, 1.069402549409596, 1.058009367720386, 1.07195214184067, 1.0785788316419012, 1.0787162807274506, 1.0692372482206671, 1.0733696870297338, 1.0880757444638705, 1.0937430482186739, 1.7732460312414775, 1.4126619150009825, 1.390229069983749, 1.020876835865643, 1.0109697031732592, 1.0128628212880042, 1.0157479000024878, 1.0203375224082905, 1.037322961671584, 1.0340160652042159, 1.035774321894664, 1.0302273525416308, 1.0197678385283355, 1.0288880219015526, 0.9989566670653827, 1.0266797441662692, 1.0199517894040946, 1.0354520233953857, 1.045564474424302, 1.0033836118942392, 1.035431190571729, 1.0258453010439201, 1.0501597968970877, 0.9917669471890322, 1.0225349168947901, 1.042526197968223, 1.0289347011099306, 1.000233690931939, 1.0058238380209508, 1.0531391486697632, 1.020245315927686, 1.0814156170100762, 1.0473627453709249, 1.0451948326265266, 1.0597420296926607, 1.0378624348298797, 1.058521050059981, 1.0716405690762965, 1.0662673151152262, 1.0604447619438488, 1.0527403074201227, 1.0703613457244874, 1.0643305229314113, 1.057393488417347, 1.0802202468992814, 1.0789530606938398, 1.0470802180661325, 0.8320476480055754, 0.8214122190121409, 0.8365550950949474, 0.8574905061094368, 0.8321156249636976, 0.8522782764064575, 0.8336688605709291, 0.8756223725714889, 0.828976892266813, 0.826360612545544, 0.8740464615437995, 0.8556927264528166, 0.8400642984714236, 0.8549679676053376, 0.8476241788567785, 0.8505838472187406, 0.8506260699996434, 0.8503198234341416, 0.8299223158139741, 0.8491701704240143, 0.8321273792085782, 0.8486948600102806, 0.8353604686227508, 0.8617554614521777, 0.8413347117548916, 0.8631917367145125, 0.8529710470370991, 0.8391256206199122, 0.8330572861582615, 0.8371635597672269, 0.8593030664359599, 0.8844923185053091, 0.8768285346855018, 0.8768536061826337, 0.8645038055162132, 0.8654002270694215, 0.8633080418182588, 0.8828247588044034, 0.8775883862549338, 0.86064908008663, 0.8898800854379286, 0.8738524470213176, 0.8869949389696721, 0.8657351421046428, 0.8903534247417919, 0.8138935492112491, 0.8125703035704488, 0.8163585399285228, 0.7931739587293309, 0.7985924677860895, 0.8219766319812127, 0.8085478625992057, 0.8324106410702591, 0.8274859272462642, 0.825917742586005, 0.8213685936019388, 0.8313009594128155, 0.8072355312945402, 0.820842033959186, 0.8244874048291492, 0.8444524011062143, 0.8216261004125298, 0.8389815301309831, 0.8072428292320138, 0.8289449284277297, 0.829209034757685, 0.8465802495255225, 0.8277741615341652, 0.8160212667610273, 0.8220968100029927, 0.8382415773626039, 0.8450098712940148, 0.8300151825145894, 0.8388570655021852, 0.8394341732736845, 0.8471341544043307, 0.8425840743093898, 0.8363174730664322, 0.8374733887619007, 0.8665566814592289, 0.9008003775105051, 0.8533881305745162, 0.8553996385413356, 0.8709064210238425, 0.8517554276612054], \"loglift\": [30.0, 29.0, 28.0, 27.0, 26.0, 25.0, 24.0, 23.0, 22.0, 21.0, 20.0, 19.0, 18.0, 17.0, 16.0, 15.0, 14.0, 13.0, 12.0, 11.0, 10.0, 9.0, 8.0, 7.0, 6.0, 5.0, 4.0, 3.0, 2.0, 1.0, 0.8716, 0.8571, 0.8441, 0.6967, 0.6785, 0.672, 0.6712, 0.6695, 0.6695, 0.6667, 0.666, 0.6651, 0.6644, 0.664, 0.6638, 0.6638, 0.6627, 0.6618, 0.6616, 0.6611, 0.6605, 0.6604, 0.6595, 0.6585, 0.658, 0.6573, 0.657, 0.6562, 0.6558, 0.6539, 0.6524, 0.6521, 0.6481, 0.6516, 0.6508, 0.6403, 0.6473, 0.6434, 0.6377, 0.6341, 0.6417, 0.6364, 0.6397, 0.6308, 0.6361, 0.5978, 0.8488, 0.6871, 0.6789, 0.6786, 0.6783, 0.6779, 0.6775, 0.6772, 0.6758, 0.6713, 0.6706, 0.6704, 0.6699, 0.6688, 0.6668, 0.6666, 0.6663, 0.6654, 0.6652, 0.6648, 0.6647, 0.6646, 0.6645, 0.6643, 0.6634, 0.6633, 0.663, 0.6629, 0.6629, 0.6629, 0.6627, 0.6625, 0.6624, 0.6606, 0.6624, 0.6582, 0.6575, 0.6585, 0.6522, 0.6578, 0.6569, 0.6507, 0.6555, 0.6467, 0.6415, 0.6397, 0.6455, 0.6426, 0.6316, 0.6264, 1.0101, 0.9231, 0.9061, 0.7388, 0.7227, 0.7224, 0.721, 0.7201, 0.7199, 0.7185, 0.7182, 0.7164, 0.7157, 0.7141, 0.7138, 0.7137, 0.7135, 0.7132, 0.7122, 0.712, 0.7119, 0.7117, 0.7109, 0.7105, 0.71, 0.7089, 0.7086, 0.7071, 0.7066, 0.7065, 0.7064, 0.7042, 0.7051, 0.7024, 0.6988, 0.7031, 0.6963, 0.6916, 0.6931, 0.6947, 0.6976, 0.6808, 0.6839, 0.6882, 0.6704, 0.6678, 0.6954, 1.168, 1.1537, 1.1428, 1.1372, 1.1363, 1.1341, 1.1296, 1.1281, 1.1277, 1.1255, 1.1245, 1.1224, 1.121, 1.1201, 1.1192, 1.1167, 1.1163, 1.1161, 1.1156, 1.1154, 1.1154, 1.1151, 1.115, 1.1141, 1.1132, 1.1114, 1.1102, 1.1093, 1.1082, 1.1068, 1.1061, 1.1046, 1.1032, 1.1022, 1.1045, 1.104, 1.1047, 1.0938, 1.0957, 1.105, 1.0821, 1.0906, 1.0781, 1.0976, 1.0695, 1.2041, 1.2022, 1.1929, 1.1863, 1.1848, 1.1841, 1.1841, 1.1833, 1.1812, 1.1806, 1.1804, 1.1801, 1.1793, 1.1762, 1.175, 1.174, 1.1735, 1.1726, 1.1694, 1.1687, 1.1677, 1.1676, 1.1675, 1.1671, 1.167, 1.1656, 1.1655, 1.1652, 1.1629, 1.1616, 1.1614, 1.1578, 1.1565, 1.1555, 1.1317, 1.1039, 1.1411, 1.1391, 1.123, 1.1398], \"logprob\": [30.0, 29.0, 28.0, 27.0, 26.0, 25.0, 24.0, 23.0, 22.0, 21.0, 20.0, 19.0, 18.0, 17.0, 16.0, 15.0, 14.0, 13.0, 12.0, 11.0, 10.0, 9.0, 8.0, 7.0, 6.0, 5.0, 4.0, 3.0, 2.0, 1.0, -5.5898, -5.587, -5.6074, -6.0977, -6.106, -6.1046, -6.0906, -6.0891, -6.095, -6.111, -6.0886, -6.1219, -6.1279, -6.0824, -6.1062, -6.1295, -6.108, -6.124, -6.1177, -6.1117, -6.1153, -6.1311, -6.1367, -6.0949, -6.1322, -6.1097, -6.0959, -6.1296, -6.1263, -6.1109, -6.0978, -6.1017, -6.0833, -6.1023, -6.107, -6.0897, -6.1025, -6.0985, -6.0961, -6.0971, -6.105, -6.1024, -6.1057, -6.1049, -6.1069, -6.107, -5.605, -6.0958, -6.0891, -6.0898, -6.1228, -6.0999, -6.1218, -6.1202, -6.1101, -6.1294, -6.1108, -6.113, -6.1003, -6.082, -6.1142, -6.1116, -6.0786, -6.0995, -6.1284, -6.0982, -6.0988, -6.1209, -6.1284, -6.1141, -6.1224, -6.0706, -6.1078, -6.096, -6.1155, -6.1387, -6.0962, -6.0963, -6.1012, -6.0755, -6.1086, -6.0937, -6.0976, -6.1008, -6.0881, -6.0996, -6.0984, -6.0945, -6.1004, -6.0962, -6.0952, -6.0968, -6.0999, -6.0989, -6.0963, -6.0964, -5.2294, -5.5437, -5.5768, -6.0529, -6.0788, -6.0772, -6.0757, -6.0721, -6.0558, -6.0604, -6.059, -6.0662, -6.0771, -6.0698, -6.0996, -6.0723, -6.0791, -6.0643, -6.0556, -6.097, -6.0656, -6.0751, -6.0525, -6.1101, -6.0801, -6.0618, -6.0752, -6.105, -6.0999, -6.0541, -6.0859, -6.0299, -6.061, -6.0657, -6.0555, -6.0721, -6.0592, -6.0515, -6.0551, -6.059, -6.0633, -6.0635, -6.0661, -6.0683, -6.0648, -6.0686, -6.0709, -5.8282, -5.8553, -5.848, -5.8289, -5.8598, -5.8381, -5.8646, -5.8171, -5.8722, -5.8776, -5.8225, -5.8458, -5.8656, -5.849, -5.8585, -5.8575, -5.8578, -5.8584, -5.8832, -5.8604, -5.8807, -5.8613, -5.8772, -5.8471, -5.872, -5.848, -5.8612, -5.8785, -5.8868, -5.8833, -5.8579, -5.8305, -5.8406, -5.8416, -5.8534, -5.8529, -5.8546, -5.8432, -5.8472, -5.8574, -5.8469, -5.8566, -5.8541, -5.8589, -5.859, -5.8141, -5.8177, -5.8224, -5.8577, -5.8524, -5.8243, -5.8408, -5.8125, -5.8205, -5.8231, -5.8287, -5.817, -5.8472, -5.8336, -5.8303, -5.8074, -5.8353, -5.8153, -5.8571, -5.8312, -5.8319, -5.8113, -5.8339, -5.8485, -5.8413, -5.8231, -5.8153, -5.8335, -5.8251, -5.8258, -5.8168, -5.8258, -5.8346, -5.8343, -5.8239, -5.8129, -5.8298, -5.8294, -5.8275, -5.833]}, \"token.table\": {\"Topic\": [1, 1, 1, 3, 1, 1, 1, 1, 1, 3, 3, 3, 2, 1, 2, 1, 1, 2, 3, 3, 2, 3, 1, 3, 2, 3, 3, 3, 1, 2, 1, 1, 3, 2, 1, 2, 2, 3, 3, 3, 2, 2, 1, 2, 3, 1, 3, 2, 2, 1, 2, 2, 1, 3, 3, 3, 2, 1, 1, 1, 2, 2, 1, 1, 2, 2, 1, 3, 1, 3, 1, 2, 3, 1, 1, 1, 2, 1, 1, 1, 1, 1, 1, 2, 3, 3, 2, 3, 3, 1, 1, 2, 3, 2, 2, 2, 2, 3, 2, 2, 2, 2, 3, 3, 2, 2, 3, 1, 3, 3, 3, 3, 2, 1, 2, 2, 2, 3, 3, 1, 1, 2, 2, 2, 3, 3, 2, 2, 3, 1, 1, 3, 2, 3, 3, 1, 2, 3, 3, 3, 2, 2, 2], \"Freq\": [0.9244434332917695, 0.6970289772565474, 0.9737479388621672, 1.0083013986645781, 0.9794651114448688, 0.966019153890213, 0.943879720693414, 0.9821580908294908, 0.9210038534573587, 0.9640199214221188, 0.956759418229275, 0.9550366655258891, 0.9351015672742576, 0.9674943008228185, 0.944473528309675, 0.9726140950386462, 0.955631848845469, 0.9535896355256805, 0.9547790432872889, 0.9592085090512812, 0.9352461314494179, 0.9806153540232616, 0.9291182048403408, 0.9942098826844175, 0.966647882392053, 0.9718789724180571, 0.9657617904119461, 0.9844962514788864, 0.9839781404909466, 0.9479821090246734, 0.9468669271519511, 0.9397974990531276, 0.9447143256559093, 0.9565437002499427, 0.9222728325719487, 0.9660084984128418, 0.9735623547923793, 0.9378511240325649, 0.9564211719708723, 0.9342639324509029, 0.9348069597346483, 0.9738241054904473, 0.9702345061668227, 0.9691694906380849, 0.9804384975727614, 0.9329674646451254, 0.9801564235467453, 0.9888009921414606, 0.9523583124318679, 0.9586038475509974, 0.9403116420299299, 0.9246215316308879, 0.691929955469592, 0.970659532124576, 0.9779617140476496, 0.9657812214907635, 0.9738440294581353, 0.9261984506185099, 0.8980457297924883, 0.9352082697109765, 0.932877468095619, 0.9595179183005835, 0.9423014595398703, 0.9393821881400177, 0.9807221177754714, 0.986971918407467, 0.7040364276719664, 0.719305919859444, 0.9647984222261177, 0.9795500934763196, 0.9220705746794741, 0.9570493259245896, 0.7078834570260957, 0.9641327824370376, 0.9780839417877059, 0.9612372558704251, 0.9190536643133533, 0.9802226559887296, 0.9431667105863933, 0.9319923426779511, 0.9536017980658384, 0.950644876260493, 0.9362037389464278, 0.931645463891602, 0.9395577580973341, 0.9247138512432658, 0.9587562224268633, 0.9719230652057133, 0.9748058493638179, 0.9810799037274741, 0.9738037513374198, 0.966632998643456, 0.9800678481760741, 0.945171215406746, 0.9271459541605485, 0.9270278180335176, 0.971025304490727, 0.9966277983274499, 0.9695368611329584, 0.9813603088803386, 0.9883954724459878, 0.9479127539404086, 0.9495421391020511, 0.9671029625661592, 0.9142915254443458, 0.9851945196264438, 0.5639375373646737, 0.9532486058292237, 0.9873005297285498, 0.9635188310519343, 0.9997663636667535, 0.9268243785850446, 0.989287188099902, 0.959169117484397, 0.966338540665451, 0.9714467565536902, 0.946514281935158, 0.9436258749594119, 0.9740135672123006, 0.947679650423379, 0.9431885990367088, 0.9517874254679445, 0.9304289645378161, 0.6986648793827358, 0.9522360339395061, 0.9331486963599678, 0.9523192733452881, 0.926654784461408, 0.9430005558865221, 0.9364567908856132, 0.9427003551444576, 0.9891493255051786, 0.9592683703783482, 1.0010444226151294, 0.9457217307974435, 0.974918377781962, 0.9413927964205712, 0.9499018826880775, 0.9654612774825072, 0.9257371382090368, 0.9443274365872322, 0.9479651429499212, 0.9483330598898516], \"Term\": [\"adapts nuance\", \"alarm goes\", \"alarmed guests\", \"amp park\", \"answered young\", \"approximately minutes\", \"area resident\", \"arrests day\", \"arrived flight\", \"asking tub\", \"assist air\", \"bad knees\", \"bay bakery\", \"bed fall\", \"beds look\", \"begin heading\", \"bit concerned\", \"boulange chain\", \"breakfast greasy\", \"breakfast wine\", \"bucket selection\", \"butter jam\", \"came door\", \"challenging cab\", \"changed long\", \"check hotel\", \"cheese hour\", \"city site\", \"cleaning room\", \"coffee baked\", \"come check\", \"comes charging\", \"conditioning dusty\", \"continental breakfast\", \"contraption seen\", \"dark hairs\", \"days years\", \"decor older\", \"desk woman\", \"did understand\", \"dirty curtains\", \"dirty sticky\", \"disaster stay\", \"doing building\", \"donuts croissants\", \"dreaming active\", \"easily streets\", \"economy occupancy\", \"effort help\", \"eventually mind\", \"expect dirty\", \"expected room\", \"fall asleep\", \"fans floor\", \"ferry plaza\", \"floor room\", \"friendly helpful\", \"given paid\", \"god quot\", \"goes single\", \"good town\", \"grease dampness\", \"helpful cleaning\", \"helpful concerned\", \"helpful continental\", \"historical places\", \"hotel loud\", \"hotel offers\", \"hotel old\", \"hour called\", \"incredibly loud\", \"inexpensive staff\", \"jacuzzi tub\", \"jaunt slumber\", \"like spotlight\", \"little strange\", \"long dark\", \"loud walls\", \"make bed\", \"making complaints\", \"matter desk\", \"mind people\", \"mmmmhmm story\", \"montgomery ward\", \"morning completely\", \"motel star\", \"national registry\", \"night exactly\", \"north beach\", \"occured understand\", \"old somewhat\", \"open won\", \"overflowing told\", \"paned panes\", \"paris massage\", \"pastries decent\", \"places cheap\", \"plaza market\", \"pleasant did\", \"plight early\", \"plus building\", \"point economy\", \"pretty uncomfortable\", \"price jacuzzi\", \"quot nuits\", \"radiators spewing\", \"reasonably priced\", \"ripped come\", \"room hot\", \"room reasonably\", \"room small\", \"roomy honor\", \"screaming psychotic\", \"shangri just\", \"sheets changed\", \"single paned\", \"slow going\", \"smaller traveling\", \"spend time\", \"spotlight night\", \"square loud\", \"stayed return\", \"sticky needs\", \"street noise\", \"street tax\", \"suite night\", \"suite unless\", \"sure sheets\", \"tax day\", \"terrible stay\", \"time know\", \"tub overflowing\", \"turned town\", \"uncomfortable evening\", \"understand concept\", \"unkempt somewhat\", \"unless look\", \"useless trying\", \"value price\", \"visits city\", \"wash telephone\", \"windows risk\", \"women change\"]}, \"R\": 30, \"lambda.step\": 0.01, \"plot.opts\": {\"xlab\": \"PC1\", \"ylab\": \"PC2\"}, \"topic.order\": [4, 1, 5, 2, 3]};\n",
       "\n",
       "function LDAvis_load_lib(url, callback){\n",
       "  var s = document.createElement('script');\n",
       "  s.src = url;\n",
       "  s.async = true;\n",
       "  s.onreadystatechange = s.onload = callback;\n",
       "  s.onerror = function(){console.warn(\"failed to load library \" + url);};\n",
       "  document.getElementsByTagName(\"head\")[0].appendChild(s);\n",
       "}\n",
       "\n",
       "if(typeof(LDAvis) !== \"undefined\"){\n",
       "   // already loaded: just create the visualization\n",
       "   !function(LDAvis){\n",
       "       new LDAvis(\"#\" + \"ldavis_el79941121698573361185085631\", ldavis_el79941121698573361185085631_data);\n",
       "   }(LDAvis);\n",
       "}else if(typeof define === \"function\" && define.amd){\n",
       "   // require.js is available: use it to load d3/LDAvis\n",
       "   require.config({paths: {d3: \"https://cdnjs.cloudflare.com/ajax/libs/d3/3.5.5/d3.min\"}});\n",
       "   require([\"d3\"], function(d3){\n",
       "      window.d3 = d3;\n",
       "      LDAvis_load_lib(\"https://cdn.rawgit.com/bmabey/pyLDAvis/files/ldavis.v1.0.0.js\", function(){\n",
       "        new LDAvis(\"#\" + \"ldavis_el79941121698573361185085631\", ldavis_el79941121698573361185085631_data);\n",
       "      });\n",
       "    });\n",
       "}else{\n",
       "    // require.js not available: dynamically load d3 & LDAvis\n",
       "    LDAvis_load_lib(\"https://cdnjs.cloudflare.com/ajax/libs/d3/3.5.5/d3.min.js\", function(){\n",
       "         LDAvis_load_lib(\"https://cdn.rawgit.com/bmabey/pyLDAvis/files/ldavis.v1.0.0.js\", function(){\n",
       "                 new LDAvis(\"#\" + \"ldavis_el79941121698573361185085631\", ldavis_el79941121698573361185085631_data);\n",
       "            })\n",
       "         });\n",
       "}\n",
       "</script>"
      ],
      "text/plain": [
       "PreparedData(topic_coordinates=            Freq  cluster  topics         x         y\n",
       "topic                                                \n",
       "3      27.590136        1       1 -0.001335 -0.057743\n",
       "0      27.481146        1       2 -0.050295  0.030395\n",
       "4      25.722332        1       3  0.051728  0.027980\n",
       "1      10.208154        1       4 -0.002100 -0.001361\n",
       "2       8.998232        1       5  0.002002  0.000728, topic_info=     Category      Freq                 Term     Total  loglift  logprob\n",
       "term                                                                    \n",
       "633   Default  1.000000    reasonably priced  1.000000  30.0000  30.0000\n",
       "440   Default  0.000000    linoleum bathroom  0.000000  29.0000  29.0000\n",
       "564   Default  0.000000           penny dump  0.000000  28.0000  28.0000\n",
       "562   Default  0.000000            pay penny  0.000000  27.0000  27.0000\n",
       "242   Default  0.000000            dump work  0.000000  26.0000  26.0000\n",
       "805   Default  0.000000           told today  0.000000  25.0000  25.0000\n",
       "532   Default  0.000000          old cracked  0.000000  24.0000  24.0000\n",
       "1     Default  0.000000  absolutely refusing  0.000000  23.0000  23.0000\n",
       "773   Default  0.000000            suite got  0.000000  22.0000  22.0000\n",
       "90    Default  0.000000      booked internet  0.000000  21.0000  21.0000\n",
       "360   Default  0.000000     hotel absolutely  0.000000  20.0000  20.0000\n",
       "889   Default  0.000000          work number  0.000000  19.0000  19.0000\n",
       "468   Default  0.000000     luggage insisted  0.000000  18.0000  18.0000\n",
       "64    Default  0.000000        bedroom filty  0.000000  17.0000  17.0000\n",
       "216   Default  0.000000      different place  0.000000  16.0000  16.0000\n",
       "675   Default  0.000000        san francisco  0.000000  15.0000  15.0000\n",
       "891   Default  0.000000       worst horrible  0.000000  14.0000  14.0000\n",
       "104   Default  0.000000         burns carpet  0.000000  13.0000  13.0000\n",
       "395   Default  0.000000       internet rooms  0.000000  12.0000  12.0000\n",
       "603   Default  0.000000         price points  0.000000  11.0000  11.0000\n",
       "749   Default  0.000000          stay matter  0.000000  10.0000  10.0000\n",
       "352   Default  0.000000          holes burns  0.000000   9.0000   9.0000\n",
       "117   Default  0.000000            care time  0.000000   8.0000   8.0000\n",
       "91    Default  0.000000        booked junior  0.000000   7.0000   7.0000\n",
       "24    Default  0.000000           area hotel  0.000000   6.0000   6.0000\n",
       "434   Default  0.000000            life left  0.000000   5.0000   5.0000\n",
       "604   Default  0.000000          price worth  0.000000   4.0000   4.0000\n",
       "23    Default  0.000000           area gross  0.000000   3.0000   3.0000\n",
       "771   Default  0.000000       suggested desk  0.000000   2.0000   2.0000\n",
       "570   Default  0.000000      personal travel  0.000000   1.0000   1.0000\n",
       "...       ...       ...                  ...       ...      ...      ...\n",
       "891    Topic5  0.240619       worst horrible  0.821369   1.1804  -5.8287\n",
       "360    Topic5  0.243456     hotel absolutely  0.831301   1.1801  -5.8170\n",
       "803    Topic5  0.236211           today area  0.807236   1.1793  -5.8472\n",
       "24     Topic5  0.239452           area hotel  0.820842   1.1762  -5.8336\n",
       "117    Topic5  0.240244            care time  0.824487   1.1750  -5.8303\n",
       "562    Topic5  0.245808            pay penny  0.844452   1.1740  -5.8074\n",
       "91     Topic5  0.239038        booked junior  0.821626   1.1735  -5.8353\n",
       "773    Topic5  0.243867            suite got  0.838982   1.1726  -5.8153\n",
       "188    Topic5  0.233901            dark stay  0.807243   1.1694  -5.8571\n",
       "352    Topic5  0.240023          holes burns  0.828945   1.1687  -5.8312\n",
       "434    Topic5  0.239855            life left  0.829209   1.1677  -5.8319\n",
       "1      Topic5  0.244843  absolutely refusing  0.846580   1.1676  -5.8113\n",
       "604    Topic5  0.239390          price worth  0.827774   1.1675  -5.8339\n",
       "751    Topic5  0.235904        stayed booked  0.816021   1.1671  -5.8485\n",
       "570    Topic5  0.237624      personal travel  0.822097   1.1670  -5.8413\n",
       "216    Topic5  0.241969      different place  0.838242   1.1656  -5.8231\n",
       "64     Topic5  0.243877        bedroom filty  0.845010   1.1655  -5.8153\n",
       "159    Topic5  0.239487        complain desk  0.830015   1.1652  -5.8335\n",
       "23     Topic5  0.241487           area gross  0.838857   1.1629  -5.8251\n",
       "889    Topic5  0.241329          work number  0.839434   1.1616  -5.8258\n",
       "90     Topic5  0.243504      booked internet  0.847134   1.1614  -5.8168\n",
       "468    Topic5  0.241326     luggage insisted  0.842584   1.1578  -5.8258\n",
       "356    Topic5  0.239215       horrible hotel  0.836317   1.1565  -5.8346\n",
       "771    Topic5  0.239295       suggested desk  0.837473   1.1555  -5.8343\n",
       "603    Topic5  0.241792         price points  0.866557   1.1317  -5.8239\n",
       "104    Topic5  0.244466         burns carpet  0.900800   1.1039  -5.8129\n",
       "799    Topic5  0.240359            time life  0.853388   1.1411  -5.8298\n",
       "661    Topic5  0.240462           room queen  0.855400   1.1391  -5.8294\n",
       "667    Topic5  0.240912     rooms completely  0.870906   1.1230  -5.8275\n",
       "749    Topic5  0.239598          stay matter  0.851755   1.1398  -5.8330\n",
       "\n",
       "[258 rows x 6 columns], token_table=      Topic      Freq                   Term\n",
       "term                                        \n",
       "3         1  0.924443          adapts nuance\n",
       "10        1  0.697029             alarm goes\n",
       "12        1  0.973748         alarmed guests\n",
       "17        3  1.008301               amp park\n",
       "18        1  0.979465         answered young\n",
       "21        1  0.966019  approximately minutes\n",
       "26        1  0.943880          area resident\n",
       "31        1  0.982158            arrests day\n",
       "32        1  0.921004         arrived flight\n",
       "34        3  0.964020             asking tub\n",
       "38        3  0.956759             assist air\n",
       "45        3  0.955037              bad knees\n",
       "57        2  0.935102             bay bakery\n",
       "61        1  0.967494               bed fall\n",
       "66        2  0.944474              beds look\n",
       "69        1  0.972614          begin heading\n",
       "80        1  0.955632          bit concerned\n",
       "93        2  0.953590         boulange chain\n",
       "95        3  0.954779       breakfast greasy\n",
       "97        3  0.959209         breakfast wine\n",
       "100       2  0.935246       bucket selection\n",
       "108       3  0.980615             butter jam\n",
       "113       1  0.929118              came door\n",
       "125       3  0.994210        challenging cab\n",
       "127       2  0.966648           changed long\n",
       "133       3  0.971879            check hotel\n",
       "137       3  0.965762            cheese hour\n",
       "142       3  0.984496              city site\n",
       "144       1  0.983978          cleaning room\n",
       "149       2  0.947982           coffee baked\n",
       "...     ...       ...                    ...\n",
       "687       1  0.959169           shangri just\n",
       "688       2  0.966339         sheets changed\n",
       "695       2  0.971447           single paned\n",
       "708       2  0.946514             slow going\n",
       "713       3  0.943626      smaller traveling\n",
       "729       3  0.974014             spend time\n",
       "731       1  0.947680        spotlight night\n",
       "733       1  0.943189            square loud\n",
       "755       2  0.951787          stayed return\n",
       "756       2  0.930429           sticky needs\n",
       "764       2  0.698665           street noise\n",
       "765       3  0.952236             street tax\n",
       "775       3  0.933149            suite night\n",
       "777       2  0.952319           suite unless\n",
       "782       2  0.926655            sure sheets\n",
       "786       3  0.943001                tax day\n",
       "792       1  0.936457          terrible stay\n",
       "798       1  0.942700              time know\n",
       "818       3  0.989149        tub overflowing\n",
       "820       2  0.959268            turned town\n",
       "823       3  1.001044  uncomfortable evening\n",
       "826       3  0.945722     understand concept\n",
       "830       1  0.974918       unkempt somewhat\n",
       "831       2  0.941393            unless look\n",
       "839       3  0.949902         useless trying\n",
       "845       3  0.965461            value price\n",
       "849       3  0.925737            visits city\n",
       "864       2  0.944327         wash telephone\n",
       "879       2  0.947965           windows risk\n",
       "885       2  0.948333           women change\n",
       "\n",
       "[143 rows x 3 columns], R=30, lambda_step=0.01, plot_opts={'xlab': 'PC1', 'ylab': 'PC2'}, topic_order=[4, 1, 5, 2, 3])"
      ]
     },
     "execution_count": 158,
     "metadata": {},
     "output_type": "execute_result"
    }
   ],
   "source": [
    "# visualiza CV for neg\n",
    "\n",
    "pyLDAvis.sklearn.prepare(neg_lda_tf, neg_dtm_tf, neg_tf_vectorizer)"
   ]
  },
  {
   "cell_type": "code",
   "execution_count": null,
   "metadata": {
    "collapsed": true
   },
   "outputs": [],
   "source": []
  },
  {
   "cell_type": "code",
   "execution_count": null,
   "metadata": {
    "collapsed": true
   },
   "outputs": [],
   "source": []
  },
  {
   "cell_type": "code",
   "execution_count": null,
   "metadata": {
    "collapsed": true
   },
   "outputs": [],
   "source": []
  },
  {
   "cell_type": "code",
   "execution_count": null,
   "metadata": {
    "collapsed": true
   },
   "outputs": [],
   "source": []
  },
  {
   "cell_type": "code",
   "execution_count": null,
   "metadata": {
    "collapsed": true
   },
   "outputs": [],
   "source": []
  }
 ],
 "metadata": {
  "kernelspec": {
   "display_name": "Python 3",
   "language": "python",
   "name": "python3"
  },
  "language_info": {
   "codemirror_mode": {
    "name": "ipython",
    "version": 3
   },
   "file_extension": ".py",
   "mimetype": "text/x-python",
   "name": "python",
   "nbconvert_exporter": "python",
   "pygments_lexer": "ipython3",
   "version": "3.6.4"
  }
 },
 "nbformat": 4,
 "nbformat_minor": 2
}
