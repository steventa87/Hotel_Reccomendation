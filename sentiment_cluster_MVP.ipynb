{
 "cells": [
  {
   "cell_type": "code",
   "execution_count": 18,
   "metadata": {},
   "outputs": [],
   "source": [
    "from sentiment_cluster import Sentiment_Cluster\n",
    "\n",
    "import pyLDAvis\n",
    "import pyLDAvis.sklearn\n",
    "pyLDAvis.enable_notebook()"
   ]
  },
  {
   "cell_type": "code",
   "execution_count": 2,
   "metadata": {},
   "outputs": [
    {
     "data": {
      "text/plain": [
       "'/Users/steventa/Desktop/TripAdvisor/OpinRankDatasetWithJudgments/hotels'"
      ]
     },
     "execution_count": 2,
     "metadata": {},
     "output_type": "execute_result"
    }
   ],
   "source": [
    "pwd"
   ]
  },
  {
   "cell_type": "code",
   "execution_count": 3,
   "metadata": {
    "collapsed": true
   },
   "outputs": [],
   "source": [
    "san_francisco = Sentiment_Cluster('data/san-francisco/')"
   ]
  },
  {
   "cell_type": "code",
   "execution_count": 4,
   "metadata": {
    "collapsed": true
   },
   "outputs": [],
   "source": [
    "san_francisco._get_file_names()"
   ]
  },
  {
   "cell_type": "code",
   "execution_count": null,
   "metadata": {
    "collapsed": true
   },
   "outputs": [],
   "source": [
    "# hotel review for 'usa_san francisco_beresford_arms'"
   ]
  },
  {
   "cell_type": "code",
   "execution_count": 5,
   "metadata": {
    "collapsed": true
   },
   "outputs": [],
   "source": [
    "hotel = 'usa_san francisco_beresford_arms'"
   ]
  },
  {
   "cell_type": "code",
   "execution_count": 7,
   "metadata": {},
   "outputs": [],
   "source": [
    "san_francisco._get_hotel_reviews(hotel)"
   ]
  },
  {
   "cell_type": "code",
   "execution_count": 8,
   "metadata": {
    "collapsed": true
   },
   "outputs": [],
   "source": [
    "san_francisco.cluter_review_sentiments()"
   ]
  },
  {
   "cell_type": "code",
   "execution_count": 15,
   "metadata": {},
   "outputs": [
    {
     "name": "stdout",
     "output_type": "stream",
     "text": [
      "positives count vectorizer shape: (142, 31)\n",
      "negatives count vectorizer shape: (9, 901)\n"
     ]
    },
    {
     "name": "stderr",
     "output_type": "stream",
     "text": [
      "/Users/steventa/anaconda3/lib/python3.6/site-packages/sklearn/decomposition/online_lda.py:294: DeprecationWarning: n_topics has been renamed to n_components in version 0.19 and will be removed in 0.21\n",
      "  DeprecationWarning)\n",
      "/Users/steventa/anaconda3/lib/python3.6/site-packages/sklearn/decomposition/online_lda.py:536: DeprecationWarning: The default value for 'learning_method' will be changed from 'online' to 'batch' in the release 0.20. This warning was introduced in 0.18.\n",
      "  DeprecationWarning)\n"
     ]
    },
    {
     "name": "stdout",
     "output_type": "stream",
     "text": [
      "Clustering for Positives: CLEANLINESS, ROOM, SERVICE, LOCATION, VALUE\n",
      "Clustering for Negatives: CLEANLINESS, ROOM, SERVICE, LOCATION, VALUE\n"
     ]
    },
    {
     "name": "stderr",
     "output_type": "stream",
     "text": [
      "/Users/steventa/anaconda3/lib/python3.6/site-packages/sklearn/decomposition/online_lda.py:294: DeprecationWarning: n_topics has been renamed to n_components in version 0.19 and will be removed in 0.21\n",
      "  DeprecationWarning)\n",
      "/Users/steventa/anaconda3/lib/python3.6/site-packages/sklearn/decomposition/online_lda.py:536: DeprecationWarning: The default value for 'learning_method' will be changed from 'online' to 'batch' in the release 0.20. This warning was introduced in 0.18.\n",
      "  DeprecationWarning)\n"
     ]
    }
   ],
   "source": [
    "san_francisco.vectorize_clusters()"
   ]
  },
  {
   "cell_type": "code",
   "execution_count": 23,
   "metadata": {},
   "outputs": [
    {
     "name": "stderr",
     "output_type": "stream",
     "text": [
      "/Users/steventa/anaconda3/lib/python3.6/site-packages/pyLDAvis/_prepare.py:387: DeprecationWarning: \n",
      ".ix is deprecated. Please use\n",
      ".loc for label based indexing or\n",
      ".iloc for positional indexing\n",
      "\n",
      "See the documentation here:\n",
      "http://pandas.pydata.org/pandas-docs/stable/indexing.html#ix-indexer-is-deprecated\n",
      "  topic_term_dists = topic_term_dists.ix[topic_order]\n"
     ]
    },
    {
     "data": {
      "text/html": [
       "\n",
       "<link rel=\"stylesheet\" type=\"text/css\" href=\"https://cdn.rawgit.com/bmabey/pyLDAvis/files/ldavis.v1.0.0.css\">\n",
       "\n",
       "\n",
       "<div id=\"ldavis_el57731119795165766420042386\"></div>\n",
       "<script type=\"text/javascript\">\n",
       "\n",
       "var ldavis_el57731119795165766420042386_data = {\"mdsDat\": {\"Freq\": [39.712771588431764, 22.07520864832176, 15.811665757148344, 15.612871560898858, 6.787482445199277], \"cluster\": [1, 1, 1, 1, 1], \"topics\": [1, 2, 3, 4, 5], \"x\": [0.1831344428982759, -0.162925578617471, 0.09132055195921081, -0.1896282112474683, 0.07809879500745255], \"y\": [-0.08300482869116522, 0.1759230632081866, -0.03804372743362077, -0.19282035725632715, 0.13794585017292643]}, \"tinfo\": {\"Category\": [\"Default\", \"Default\", \"Default\", \"Default\", \"Default\", \"Default\", \"Default\", \"Default\", \"Default\", \"Default\", \"Default\", \"Default\", \"Default\", \"Default\", \"Default\", \"Default\", \"Default\", \"Default\", \"Default\", \"Default\", \"Default\", \"Default\", \"Default\", \"Default\", \"Default\", \"Default\", \"Default\", \"Default\", \"Default\", \"Default\", \"Topic1\", \"Topic1\", \"Topic1\", \"Topic1\", \"Topic1\", \"Topic1\", \"Topic1\", \"Topic1\", \"Topic1\", \"Topic1\", \"Topic1\", \"Topic1\", \"Topic1\", \"Topic1\", \"Topic1\", \"Topic1\", \"Topic1\", \"Topic1\", \"Topic1\", \"Topic1\", \"Topic1\", \"Topic1\", \"Topic1\", \"Topic1\", \"Topic1\", \"Topic1\", \"Topic1\", \"Topic1\", \"Topic1\", \"Topic1\", \"Topic2\", \"Topic2\", \"Topic2\", \"Topic2\", \"Topic2\", \"Topic2\", \"Topic2\", \"Topic2\", \"Topic2\", \"Topic2\", \"Topic2\", \"Topic2\", \"Topic2\", \"Topic2\", \"Topic2\", \"Topic2\", \"Topic2\", \"Topic2\", \"Topic2\", \"Topic2\", \"Topic2\", \"Topic2\", \"Topic2\", \"Topic2\", \"Topic2\", \"Topic2\", \"Topic2\", \"Topic2\", \"Topic2\", \"Topic2\", \"Topic2\", \"Topic3\", \"Topic3\", \"Topic3\", \"Topic3\", \"Topic3\", \"Topic3\", \"Topic3\", \"Topic3\", \"Topic3\", \"Topic3\", \"Topic3\", \"Topic3\", \"Topic3\", \"Topic3\", \"Topic3\", \"Topic3\", \"Topic3\", \"Topic3\", \"Topic3\", \"Topic3\", \"Topic3\", \"Topic3\", \"Topic3\", \"Topic3\", \"Topic3\", \"Topic3\", \"Topic3\", \"Topic3\", \"Topic3\", \"Topic3\", \"Topic3\", \"Topic4\", \"Topic4\", \"Topic4\", \"Topic4\", \"Topic4\", \"Topic4\", \"Topic4\", \"Topic4\", \"Topic4\", \"Topic4\", \"Topic4\", \"Topic4\", \"Topic4\", \"Topic4\", \"Topic4\", \"Topic4\", \"Topic4\", \"Topic4\", \"Topic4\", \"Topic4\", \"Topic4\", \"Topic4\", \"Topic4\", \"Topic4\", \"Topic4\", \"Topic4\", \"Topic4\", \"Topic4\", \"Topic4\", \"Topic4\", \"Topic4\", \"Topic5\", \"Topic5\", \"Topic5\", \"Topic5\", \"Topic5\", \"Topic5\", \"Topic5\", \"Topic5\", \"Topic5\", \"Topic5\", \"Topic5\", \"Topic5\", \"Topic5\", \"Topic5\", \"Topic5\", \"Topic5\", \"Topic5\", \"Topic5\", \"Topic5\", \"Topic5\", \"Topic5\", \"Topic5\", \"Topic5\", \"Topic5\", \"Topic5\", \"Topic5\", \"Topic5\", \"Topic5\", \"Topic5\", \"Topic5\", \"Topic5\"], \"Freq\": [47.0, 54.0, 16.0, 23.0, 15.0, 18.0, 17.0, 21.0, 12.0, 16.0, 18.0, 26.0, 10.0, 10.0, 11.0, 14.0, 9.0, 10.0, 15.0, 26.0, 14.0, 29.0, 15.0, 15.0, 6.0, 13.0, 6.0, 7.0, 9.0, 10.0, 52.30279592823967, 25.294872962580087, 13.942358250444297, 8.889154383330489, 4.622705044003928, 7.822906957944147, 17.44186236578441, 7.196643359874359, 3.312910240902209, 7.282595581737031, 12.327286401492229, 19.102555415777168, 5.841483288963213, 6.231274220411597, 2.5575430002698463, 5.8311263143894925, 3.0394550810147014, 1.8389904108548838, 1.3090046857892377, 1.2729183880630344, 0.4047874663290229, 0.7195293442205196, 0.4980303091735225, 0.3617974023217763, 0.5465238908166412, 0.3113748158007733, 0.541857092650196, 0.36574733161292927, 0.25909841934447325, 0.36344299170089245, 14.386211824045303, 9.338062834478512, 10.041012990603056, 8.844880752441014, 8.518424752511924, 10.101635444505341, 8.35861049702978, 8.005164664674915, 8.863866432705999, 11.72867065671724, 6.051002836584373, 2.1404421008247025, 3.1189390490368822, 0.9931033691772325, 0.5797229101373234, 0.3389516762853632, 0.9211103061107926, 0.24948767776442296, 0.40019455365296064, 0.5588874868514211, 0.36105341173147615, 0.25452373525645483, 0.255040405737669, 0.9321345575462509, 0.3173908979168352, 0.27061903652741814, 0.27629253823914024, 0.37918430422946015, 0.3104326014714553, 0.6935498358398944, 0.2930100414035487, 6.639775159364605, 11.214806098852979, 26.676294917199066, 3.764140979464941, 3.6113228544580966, 8.700133047975529, 1.4693559776453486, 2.6899995559101666, 1.6927790934678422, 3.8421658876406695, 1.67350519529704, 1.8862841169884672, 1.1552536616466524, 0.9253674830087126, 0.3268897414222191, 0.6252397439507971, 0.8049867680352801, 0.4890292794554191, 0.691923063924833, 0.7577559949882627, 0.3232258716575687, 0.43460470704134074, 0.3616196864886538, 0.31911383052098563, 0.3181176009336545, 0.5968302048430397, 0.3822042780795358, 0.3651634704455651, 0.3317531067965842, 0.9689250637260898, 0.3957287019422034, 10.760523001638102, 16.2399035007867, 10.672257007574112, 10.950982312619754, 5.659671966394881, 5.397181660407243, 5.204996243402739, 5.376896802361409, 6.323352718601496, 0.7179091088906948, 0.40182989980183803, 0.37033632600220806, 0.28275844384816673, 0.32729482473991917, 0.7942633269942745, 0.2970122123192973, 0.25309482904797803, 0.2155019003365369, 0.19922714112489917, 0.2063784594492984, 0.19677845285055007, 0.24851479147659394, 0.43976809409093326, 0.2206724776954215, 0.20468695549140523, 0.20187974104771203, 0.19957624889407094, 0.19861757537856653, 0.20167807423957487, 0.3429847233921543, 0.26620531430135236, 8.737787566136927, 8.065843321239313, 7.3892942831903925, 1.3577573314838425, 1.1822243692523406, 0.276204754145948, 1.3929795413083328, 0.5823593607653705, 0.2762168523704891, 0.2769142263471444, 0.4554951482983723, 0.8119699456130793, 0.3050457352511095, 0.2750868047592302, 0.27504149153945934, 0.29483170052679236, 0.27252453155852807, 0.2942215827146611, 0.2809209874169661, 0.30019323570424267, 0.2757209637445974, 0.2785851538595972, 0.289897621303007, 0.26897613817663696, 0.30247906233569305, 0.29503839011339317, 0.27535400955089573, 0.2642235738487209, 0.27464628324022555, 0.34518465798770587, 0.2721376335811223], \"Term\": [\"san francisco\", \"beresford arms\", \"street noise\", \"rooms clean\", \"close union\", \"staff friendly\", \"walking distance\", \"stayed nights\", \"recommend hotel\", \"free internet\", \"friendly helpful\", \"stayed beresford\", \"good value\", \"junior suite\", \"room clean\", \"staff helpful\", \"san fran\", \"large bathroom\", \"cable car\", \"continental breakfast\", \"older hotel\", \"wine cheese\", \"afternoon wine\", \"arms hotel\", \"walk union\", \"blocks union\", \"near union\", \"internet access\", \"nice touch\", \"queen beds\", \"beresford arms\", \"stayed beresford\", \"arms hotel\", \"nice touch\", \"coffee tea\", \"queen beds\", \"continental breakfast\", \"older hotel\", \"walk union\", \"street noise\", \"wine cheese\", \"san francisco\", \"afternoon wine\", \"friendly helpful\", \"internet access\", \"rooms clean\", \"blocks union\", \"san fran\", \"large bathroom\", \"cable car\", \"near union\", \"staff helpful\", \"room clean\", \"good value\", \"walking distance\", \"junior suite\", \"staff friendly\", \"free internet\", \"recommend hotel\", \"stayed nights\", \"free internet\", \"good value\", \"room clean\", \"large bathroom\", \"junior suite\", \"staff helpful\", \"afternoon wine\", \"cable car\", \"stayed nights\", \"wine cheese\", \"close union\", \"near union\", \"blocks union\", \"internet access\", \"san fran\", \"coffee tea\", \"staff friendly\", \"walk union\", \"recommend hotel\", \"friendly helpful\", \"older hotel\", \"nice touch\", \"queen beds\", \"san francisco\", \"street noise\", \"arms hotel\", \"walking distance\", \"continental breakfast\", \"rooms clean\", \"beresford arms\", \"stayed beresford\", \"san fran\", \"walking distance\", \"san francisco\", \"near union\", \"internet access\", \"rooms clean\", \"walk union\", \"staff helpful\", \"queen beds\", \"wine cheese\", \"blocks union\", \"continental breakfast\", \"friendly helpful\", \"cable car\", \"coffee tea\", \"recommend hotel\", \"free internet\", \"junior suite\", \"close union\", \"staff friendly\", \"nice touch\", \"older hotel\", \"room clean\", \"good value\", \"large bathroom\", \"stayed nights\", \"afternoon wine\", \"street noise\", \"arms hotel\", \"beresford arms\", \"stayed beresford\", \"recommend hotel\", \"staff friendly\", \"friendly helpful\", \"stayed nights\", \"older hotel\", \"blocks union\", \"cable car\", \"walking distance\", \"continental breakfast\", \"room clean\", \"walk union\", \"near union\", \"coffee tea\", \"internet access\", \"rooms clean\", \"queen beds\", \"good value\", \"nice touch\", \"san fran\", \"large bathroom\", \"junior suite\", \"staff helpful\", \"wine cheese\", \"street noise\", \"afternoon wine\", \"arms hotel\", \"close union\", \"free internet\", \"stayed beresford\", \"san francisco\", \"beresford arms\", \"close union\", \"street noise\", \"rooms clean\", \"walk union\", \"junior suite\", \"coffee tea\", \"wine cheese\", \"blocks union\", \"near union\", \"internet access\", \"older hotel\", \"continental breakfast\", \"queen beds\", \"san fran\", \"nice touch\", \"large bathroom\", \"good value\", \"room clean\", \"recommend hotel\", \"afternoon wine\", \"staff helpful\", \"arms hotel\", \"cable car\", \"free internet\", \"friendly helpful\", \"staff friendly\", \"walking distance\", \"stayed nights\", \"stayed beresford\", \"beresford arms\", \"san francisco\"], \"Total\": [47.0, 54.0, 16.0, 23.0, 15.0, 18.0, 17.0, 21.0, 12.0, 16.0, 18.0, 26.0, 10.0, 10.0, 11.0, 14.0, 9.0, 10.0, 15.0, 26.0, 14.0, 29.0, 15.0, 15.0, 6.0, 13.0, 6.0, 7.0, 9.0, 10.0, 54.576660800094714, 26.45993606340564, 15.025195288675608, 9.95744738212051, 5.847509659705626, 10.372784404720063, 26.84265345121691, 14.107468593340428, 6.7913411275976605, 16.251665749034167, 29.730870581249402, 47.32610724749576, 15.087178255268176, 18.920151438819474, 7.766178274992239, 23.025249574021142, 13.811440346521236, 9.532802426240941, 10.973213199139996, 15.698344400452408, 6.955923724991363, 14.035400099857219, 11.912793677870587, 10.54459342792778, 17.689873339821062, 10.697831669871007, 18.755665284649343, 16.024539637248715, 12.3259767060033, 21.039345515718406, 16.024539637248715, 10.54459342792778, 11.912793677870587, 10.973213199139996, 10.697831669871007, 14.035400099857219, 15.087178255268176, 15.698344400452408, 21.039345515718406, 29.730870581249402, 15.913858651928994, 6.955923724991363, 13.811440346521236, 7.766178274992239, 9.532802426240941, 5.847509659705626, 18.755665284649343, 6.7913411275976605, 12.3259767060033, 18.920151438819474, 14.107468593340428, 9.95744738212051, 10.372784404720063, 47.32610724749576, 16.251665749034167, 15.025195288675608, 17.689873339821062, 26.84265345121691, 23.025249574021142, 54.576660800094714, 26.45993606340564, 9.532802426240941, 17.689873339821062, 47.32610724749576, 6.955923724991363, 7.766178274992239, 23.025249574021142, 6.7913411275976605, 14.035400099857219, 10.372784404720063, 29.730870581249402, 13.811440346521236, 26.84265345121691, 18.920151438819474, 15.698344400452408, 5.847509659705626, 12.3259767060033, 16.024539637248715, 10.697831669871007, 15.913858651928994, 18.755665284649343, 9.95744738212051, 14.107468593340428, 11.912793677870587, 10.54459342792778, 10.973213199139996, 21.039345515718406, 15.087178255268176, 16.251665749034167, 15.025195288675608, 54.576660800094714, 26.45993606340564, 12.3259767060033, 18.755665284649343, 18.920151438819474, 21.039345515718406, 14.107468593340428, 13.811440346521236, 15.698344400452408, 17.689873339821062, 26.84265345121691, 11.912793677870587, 6.7913411275976605, 6.955923724991363, 5.847509659705626, 7.766178274992239, 23.025249574021142, 10.372784404720063, 10.54459342792778, 9.95744738212051, 9.532802426240941, 10.973213199139996, 10.697831669871007, 14.035400099857219, 29.730870581249402, 16.251665749034167, 15.087178255268176, 15.025195288675608, 15.913858651928994, 16.024539637248715, 26.45993606340564, 47.32610724749576, 54.576660800094714, 15.913858651928994, 16.251665749034167, 23.025249574021142, 6.7913411275976605, 10.697831669871007, 5.847509659705626, 29.730870581249402, 13.811440346521236, 6.955923724991363, 7.766178274992239, 14.107468593340428, 26.84265345121691, 10.372784404720063, 9.532802426240941, 9.95744738212051, 10.973213199139996, 10.54459342792778, 11.912793677870587, 12.3259767060033, 15.087178255268176, 14.035400099857219, 15.025195288675608, 15.698344400452408, 16.024539637248715, 18.920151438819474, 18.755665284649343, 17.689873339821062, 21.039345515718406, 26.45993606340564, 54.576660800094714, 47.32610724749576], \"loglift\": [30.0, 29.0, 28.0, 27.0, 26.0, 25.0, 24.0, 23.0, 22.0, 21.0, 20.0, 19.0, 18.0, 17.0, 16.0, 15.0, 14.0, 13.0, 12.0, 11.0, 10.0, 9.0, 8.0, 7.0, 6.0, 5.0, 4.0, 3.0, 2.0, 1.0, 0.8809, 0.8785, 0.8487, 0.81, 0.6885, 0.6414, 0.4924, 0.2504, 0.2057, 0.1208, 0.0431, 0.0163, -0.0254, -0.1871, -0.1872, -0.4499, -0.5903, -0.722, -1.2027, -1.5887, -1.9205, -2.0472, -2.2512, -2.4488, -2.5537, -2.6133, -2.6208, -2.8564, -2.9388, -3.135, 1.4029, 1.3892, 1.3398, 1.2951, 1.2829, 1.1818, 0.9202, 0.8372, 0.6463, 0.5806, 0.5437, 0.3321, 0.0227, -0.546, -1.2892, -1.3372, -1.503, -1.7933, -1.9168, -2.0113, -2.1547, -2.156, -2.1948, -2.4166, -2.4251, -2.5061, -2.6486, -2.749, -2.7957, -2.8548, -2.9925, 1.4828, 1.3887, 1.2711, 1.2303, 1.0787, 0.8712, 0.3136, 0.1924, 0.0316, -0.2017, -0.2662, -0.811, -0.9515, -0.9867, -1.0397, -1.1369, -1.1466, -1.241, -1.291, -1.3645, -1.5833, -1.6356, -1.6504, -1.6534, -1.6964, -1.7181, -1.8312, -1.9512, -1.9687, -2.1868, -2.3582, 1.7212, 1.7131, 1.2845, 1.2041, 0.9437, 0.9175, 0.7531, 0.6662, 0.4113, -0.952, -0.9703, -1.0759, -1.1721, -1.3096, -1.5099, -1.6961, -1.8725, -1.976, -2.011, -2.1164, -2.1386, -2.1768, -2.3566, -2.4422, -2.443, -2.4527, -2.5217, -2.5334, -3.0196, -3.0701, -3.466, 2.0906, 1.9895, 1.5535, 1.0803, 0.4874, -0.3625, -0.3707, -0.4761, -0.5361, -0.6437, -0.743, -0.8082, -0.8364, -0.8553, -0.8991, -0.9267, -0.9655, -1.0109, -1.0913, -1.2271, -1.2399, -1.2977, -1.3017, -1.3972, -1.4459, -1.4621, -1.4726, -1.6873, -1.8778, -2.3732, -2.4684], \"logprob\": [30.0, 29.0, 28.0, 27.0, 26.0, 25.0, 24.0, 23.0, 22.0, 21.0, 20.0, 19.0, 18.0, 17.0, 16.0, 15.0, 14.0, 13.0, 12.0, 11.0, 10.0, 9.0, 8.0, 7.0, 6.0, 5.0, 4.0, 3.0, 2.0, 1.0, -1.3998, -2.1263, -2.722, -3.1721, -3.8259, -3.2998, -2.498, -3.3833, -4.1591, -3.3714, -2.8451, -2.4071, -3.5919, -3.5273, -4.4179, -3.5937, -4.2452, -4.7477, -5.0876, -5.1156, -6.2613, -5.6861, -6.054, -6.3736, -5.9611, -6.5237, -5.9697, -6.3627, -6.7074, -6.369, -2.1034, -2.5356, -2.463, -2.5898, -2.6274, -2.457, -2.6464, -2.6896, -2.5877, -2.3076, -2.9695, -4.0087, -3.6322, -4.7766, -5.3149, -5.8516, -4.8519, -6.158, -5.6855, -5.3515, -5.7884, -6.138, -6.136, -4.84, -5.9173, -6.0767, -6.056, -5.7394, -5.9395, -5.1356, -5.9972, -2.5429, -2.0187, -1.1522, -3.1105, -3.1519, -2.2726, -4.0511, -3.4464, -3.9096, -3.0899, -3.9211, -3.8014, -4.2917, -4.5135, -5.5541, -4.9056, -4.6529, -5.1513, -4.8043, -4.7134, -5.5654, -5.2693, -5.4531, -5.5782, -5.5813, -4.9521, -5.3978, -5.4434, -5.5393, -4.4675, -5.363, -2.0474, -1.6358, -2.0557, -2.0299, -2.69, -2.7374, -2.7737, -2.7412, -2.5791, -4.7547, -5.335, -5.4167, -5.6865, -5.5402, -4.6537, -5.6373, -5.7973, -5.9581, -6.0366, -6.0014, -6.049, -5.8156, -5.2448, -5.9344, -6.0096, -6.0234, -6.0349, -6.0397, -6.0244, -5.4934, -5.7468, -1.4226, -1.5027, -1.5903, -3.2845, -3.4229, -4.8769, -3.2589, -4.131, -4.8769, -4.8744, -4.3767, -3.7986, -4.7776, -4.881, -4.8811, -4.8117, -4.8903, -4.8137, -4.86, -4.7936, -4.8787, -4.8683, -4.8285, -4.9034, -4.786, -4.811, -4.88, -4.9213, -4.8826, -4.654, -4.8918]}, \"token.table\": {\"Topic\": [1, 2, 1, 1, 2, 3, 1, 2, 3, 4, 5, 1, 2, 3, 4, 2, 3, 5, 1, 1, 3, 4, 5, 2, 3, 1, 2, 3, 4, 2, 1, 2, 3, 2, 5, 1, 2, 2, 3, 1, 1, 4, 1, 3, 3, 4, 2, 4, 1, 3, 4, 5, 1, 2, 3, 1, 2, 3, 1, 2, 3, 4, 1, 2, 3, 1, 2, 3, 4, 1, 5, 1, 3, 5, 1, 3, 4, 1, 2, 3, 5], \"Freq\": [0.39768867965120686, 0.5302515728682758, 0.9317682553218931, 0.9527882292115196, 0.01832285056175999, 0.01832285056175999, 0.2172112339286631, 0.2172112339286631, 0.14480748928577541, 0.3620187232144385, 0.07240374464288771, 0.06370098492495688, 0.509607879399655, 0.06370098492495688, 0.31850492462478436, 0.3770298663091815, 0.06283831105153025, 0.5655447994637722, 0.8550648551218826, 0.6333203992256327, 0.07450828226183913, 0.2235248467855174, 0.037254141130919564, 0.8736600437155327, 0.06240428883682377, 0.31712219743069725, 0.052853699571782875, 0.052853699571782875, 0.5813906952896116, 0.8535179721736011, 0.38629038553753753, 0.12876346184584583, 0.5150538473833833, 0.8412919811915979, 0.09347688679906643, 0.09113100983751715, 0.8201790885376543, 0.28752471692787046, 0.5750494338557409, 0.9038461017790872, 0.49619107451385147, 0.425306635297587, 0.7712490386245429, 0.19281225965613571, 0.08112947345689495, 0.8924242080258443, 0.8394336601813371, 0.08394336601813372, 0.26058349468531544, 0.3908752420279732, 0.043430582447552574, 0.30401407713286804, 0.20980189356433118, 0.10490094678216559, 0.7343066274751591, 0.40146974059450824, 0.02112998634707938, 0.5705096313711433, 0.05331722361341426, 0.05331722361341426, 0.05331722361341426, 0.8530755778146282, 0.07124841421586357, 0.7124841421586356, 0.2137452426475907, 0.9448246564199093, 0.42776996049026994, 0.04752999561002999, 0.5228299517103299, 0.43072507816104993, 0.4922572321840571, 0.441738964901798, 0.14724632163393267, 0.14724632163393267, 0.05652951724357091, 0.62182468967928, 0.2826475862178545, 0.4036208750499265, 0.4036208750499265, 0.13454029168330883, 0.03363507292082721], \"Term\": [\"afternoon wine\", \"afternoon wine\", \"arms hotel\", \"beresford arms\", \"beresford arms\", \"beresford arms\", \"blocks union\", \"blocks union\", \"blocks union\", \"blocks union\", \"blocks union\", \"cable car\", \"cable car\", \"cable car\", \"cable car\", \"close union\", \"close union\", \"close union\", \"coffee tea\", \"continental breakfast\", \"continental breakfast\", \"continental breakfast\", \"continental breakfast\", \"free internet\", \"free internet\", \"friendly helpful\", \"friendly helpful\", \"friendly helpful\", \"friendly helpful\", \"good value\", \"internet access\", \"internet access\", \"internet access\", \"junior suite\", \"junior suite\", \"large bathroom\", \"large bathroom\", \"near union\", \"near union\", \"nice touch\", \"older hotel\", \"older hotel\", \"queen beds\", \"queen beds\", \"recommend hotel\", \"recommend hotel\", \"room clean\", \"room clean\", \"rooms clean\", \"rooms clean\", \"rooms clean\", \"rooms clean\", \"san fran\", \"san fran\", \"san fran\", \"san francisco\", \"san francisco\", \"san francisco\", \"staff friendly\", \"staff friendly\", \"staff friendly\", \"staff friendly\", \"staff helpful\", \"staff helpful\", \"staff helpful\", \"stayed beresford\", \"stayed nights\", \"stayed nights\", \"stayed nights\", \"street noise\", \"street noise\", \"walk union\", \"walk union\", \"walk union\", \"walking distance\", \"walking distance\", \"walking distance\", \"wine cheese\", \"wine cheese\", \"wine cheese\", \"wine cheese\"]}, \"R\": 30, \"lambda.step\": 0.01, \"plot.opts\": {\"xlab\": \"PC1\", \"ylab\": \"PC2\"}, \"topic.order\": [1, 2, 5, 3, 4]};\n",
       "\n",
       "function LDAvis_load_lib(url, callback){\n",
       "  var s = document.createElement('script');\n",
       "  s.src = url;\n",
       "  s.async = true;\n",
       "  s.onreadystatechange = s.onload = callback;\n",
       "  s.onerror = function(){console.warn(\"failed to load library \" + url);};\n",
       "  document.getElementsByTagName(\"head\")[0].appendChild(s);\n",
       "}\n",
       "\n",
       "if(typeof(LDAvis) !== \"undefined\"){\n",
       "   // already loaded: just create the visualization\n",
       "   !function(LDAvis){\n",
       "       new LDAvis(\"#\" + \"ldavis_el57731119795165766420042386\", ldavis_el57731119795165766420042386_data);\n",
       "   }(LDAvis);\n",
       "}else if(typeof define === \"function\" && define.amd){\n",
       "   // require.js is available: use it to load d3/LDAvis\n",
       "   require.config({paths: {d3: \"https://cdnjs.cloudflare.com/ajax/libs/d3/3.5.5/d3.min\"}});\n",
       "   require([\"d3\"], function(d3){\n",
       "      window.d3 = d3;\n",
       "      LDAvis_load_lib(\"https://cdn.rawgit.com/bmabey/pyLDAvis/files/ldavis.v1.0.0.js\", function(){\n",
       "        new LDAvis(\"#\" + \"ldavis_el57731119795165766420042386\", ldavis_el57731119795165766420042386_data);\n",
       "      });\n",
       "    });\n",
       "}else{\n",
       "    // require.js not available: dynamically load d3 & LDAvis\n",
       "    LDAvis_load_lib(\"https://cdnjs.cloudflare.com/ajax/libs/d3/3.5.5/d3.min.js\", function(){\n",
       "         LDAvis_load_lib(\"https://cdn.rawgit.com/bmabey/pyLDAvis/files/ldavis.v1.0.0.js\", function(){\n",
       "                 new LDAvis(\"#\" + \"ldavis_el57731119795165766420042386\", ldavis_el57731119795165766420042386_data);\n",
       "            })\n",
       "         });\n",
       "}\n",
       "</script>"
      ],
      "text/plain": [
       "PreparedData(topic_coordinates=            Freq  cluster  topics         x         y\n",
       "topic                                                \n",
       "0      39.712772        1       1  0.183134 -0.083005\n",
       "1      22.075209        1       2 -0.162926  0.175923\n",
       "4      15.811666        1       3  0.091321 -0.038044\n",
       "2      15.612872        1       4 -0.189628 -0.192820\n",
       "3       6.787482        1       5  0.078099  0.137946, topic_info=     Category       Freq                   Term      Total  loglift  logprob\n",
       "term                                                                        \n",
       "22    Default  47.000000          san francisco  47.000000  30.0000  30.0000\n",
       "2     Default  54.000000         beresford arms  54.000000  29.0000  29.0000\n",
       "27    Default  16.000000           street noise  16.000000  28.0000  28.0000\n",
       "20    Default  23.000000            rooms clean  23.000000  27.0000  27.0000\n",
       "5     Default  15.000000            close union  15.000000  26.0000  26.0000\n",
       "23    Default  18.000000         staff friendly  18.000000  25.0000  25.0000\n",
       "29    Default  17.000000       walking distance  17.000000  24.0000  24.0000\n",
       "26    Default  21.000000          stayed nights  21.000000  23.0000  23.0000\n",
       "18    Default  12.000000        recommend hotel  12.000000  22.0000  22.0000\n",
       "8     Default  16.000000          free internet  16.000000  21.0000  21.0000\n",
       "9     Default  18.000000       friendly helpful  18.000000  20.0000  20.0000\n",
       "25    Default  26.000000       stayed beresford  26.000000  19.0000  19.0000\n",
       "10    Default  10.000000             good value  10.000000  18.0000  18.0000\n",
       "12    Default  10.000000           junior suite  10.000000  17.0000  17.0000\n",
       "19    Default  11.000000             room clean  11.000000  16.0000  16.0000\n",
       "24    Default  14.000000          staff helpful  14.000000  15.0000  15.0000\n",
       "21    Default   9.000000               san fran   9.000000  14.0000  14.0000\n",
       "13    Default  10.000000         large bathroom  10.000000  13.0000  13.0000\n",
       "4     Default  15.000000              cable car  15.000000  12.0000  12.0000\n",
       "7     Default  26.000000  continental breakfast  26.000000  11.0000  11.0000\n",
       "16    Default  14.000000            older hotel  14.000000  10.0000  10.0000\n",
       "30    Default  29.000000            wine cheese  29.000000   9.0000   9.0000\n",
       "0     Default  15.000000         afternoon wine  15.000000   8.0000   8.0000\n",
       "1     Default  15.000000             arms hotel  15.000000   7.0000   7.0000\n",
       "28    Default   6.000000             walk union   6.000000   6.0000   6.0000\n",
       "3     Default  13.000000           blocks union  13.000000   5.0000   5.0000\n",
       "14    Default   6.000000             near union   6.000000   4.0000   4.0000\n",
       "11    Default   7.000000        internet access   7.000000   3.0000   3.0000\n",
       "15    Default   9.000000             nice touch   9.000000   2.0000   2.0000\n",
       "17    Default  10.000000             queen beds  10.000000   1.0000   1.0000\n",
       "...       ...        ...                    ...        ...      ...      ...\n",
       "27     Topic5   8.065843           street noise  16.251666   1.9895  -1.5027\n",
       "20     Topic5   7.389294            rooms clean  23.025250   1.5535  -1.5903\n",
       "28     Topic5   1.357757             walk union   6.791341   1.0803  -3.2845\n",
       "12     Topic5   1.182224           junior suite  10.697832   0.4874  -3.4229\n",
       "6      Topic5   0.276205             coffee tea   5.847510  -0.3625  -4.8769\n",
       "30     Topic5   1.392980            wine cheese  29.730871  -0.3707  -3.2589\n",
       "3      Topic5   0.582359           blocks union  13.811440  -0.4761  -4.1310\n",
       "14     Topic5   0.276217             near union   6.955924  -0.5361  -4.8769\n",
       "11     Topic5   0.276914        internet access   7.766178  -0.6437  -4.8744\n",
       "16     Topic5   0.455495            older hotel  14.107469  -0.7430  -4.3767\n",
       "7      Topic5   0.811970  continental breakfast  26.842653  -0.8082  -3.7986\n",
       "17     Topic5   0.305046             queen beds  10.372784  -0.8364  -4.7776\n",
       "21     Topic5   0.275087               san fran   9.532802  -0.8553  -4.8810\n",
       "15     Topic5   0.275041             nice touch   9.957447  -0.8991  -4.8811\n",
       "13     Topic5   0.294832         large bathroom  10.973213  -0.9267  -4.8117\n",
       "10     Topic5   0.272525             good value  10.544593  -0.9655  -4.8903\n",
       "19     Topic5   0.294222             room clean  11.912794  -1.0109  -4.8137\n",
       "18     Topic5   0.280921        recommend hotel  12.325977  -1.0913  -4.8600\n",
       "0      Topic5   0.300193         afternoon wine  15.087178  -1.2271  -4.7936\n",
       "24     Topic5   0.275721          staff helpful  14.035400  -1.2399  -4.8787\n",
       "1      Topic5   0.278585             arms hotel  15.025195  -1.2977  -4.8683\n",
       "4      Topic5   0.289898              cable car  15.698344  -1.3017  -4.8285\n",
       "8      Topic5   0.268976          free internet  16.024540  -1.3972  -4.9034\n",
       "9      Topic5   0.302479       friendly helpful  18.920151  -1.4459  -4.7860\n",
       "23     Topic5   0.295038         staff friendly  18.755665  -1.4621  -4.8110\n",
       "29     Topic5   0.275354       walking distance  17.689873  -1.4726  -4.8800\n",
       "26     Topic5   0.264224          stayed nights  21.039346  -1.6873  -4.9213\n",
       "25     Topic5   0.274646       stayed beresford  26.459936  -1.8778  -4.8826\n",
       "2      Topic5   0.345185         beresford arms  54.576661  -2.3732  -4.6540\n",
       "22     Topic5   0.272138          san francisco  47.326107  -2.4684  -4.8918\n",
       "\n",
       "[184 rows x 6 columns], token_table=      Topic      Freq                   Term\n",
       "term                                        \n",
       "0         1  0.397689         afternoon wine\n",
       "0         2  0.530252         afternoon wine\n",
       "1         1  0.931768             arms hotel\n",
       "2         1  0.952788         beresford arms\n",
       "2         2  0.018323         beresford arms\n",
       "2         3  0.018323         beresford arms\n",
       "3         1  0.217211           blocks union\n",
       "3         2  0.217211           blocks union\n",
       "3         3  0.144807           blocks union\n",
       "3         4  0.362019           blocks union\n",
       "3         5  0.072404           blocks union\n",
       "4         1  0.063701              cable car\n",
       "4         2  0.509608              cable car\n",
       "4         3  0.063701              cable car\n",
       "4         4  0.318505              cable car\n",
       "5         2  0.377030            close union\n",
       "5         3  0.062838            close union\n",
       "5         5  0.565545            close union\n",
       "6         1  0.855065             coffee tea\n",
       "7         1  0.633320  continental breakfast\n",
       "7         3  0.074508  continental breakfast\n",
       "7         4  0.223525  continental breakfast\n",
       "7         5  0.037254  continental breakfast\n",
       "8         2  0.873660          free internet\n",
       "8         3  0.062404          free internet\n",
       "9         1  0.317122       friendly helpful\n",
       "9         2  0.052854       friendly helpful\n",
       "9         3  0.052854       friendly helpful\n",
       "9         4  0.581391       friendly helpful\n",
       "10        2  0.853518             good value\n",
       "...     ...       ...                    ...\n",
       "20        5  0.304014            rooms clean\n",
       "21        1  0.209802               san fran\n",
       "21        2  0.104901               san fran\n",
       "21        3  0.734307               san fran\n",
       "22        1  0.401470          san francisco\n",
       "22        2  0.021130          san francisco\n",
       "22        3  0.570510          san francisco\n",
       "23        1  0.053317         staff friendly\n",
       "23        2  0.053317         staff friendly\n",
       "23        3  0.053317         staff friendly\n",
       "23        4  0.853076         staff friendly\n",
       "24        1  0.071248          staff helpful\n",
       "24        2  0.712484          staff helpful\n",
       "24        3  0.213745          staff helpful\n",
       "25        1  0.944825       stayed beresford\n",
       "26        2  0.427770          stayed nights\n",
       "26        3  0.047530          stayed nights\n",
       "26        4  0.522830          stayed nights\n",
       "27        1  0.430725           street noise\n",
       "27        5  0.492257           street noise\n",
       "28        1  0.441739             walk union\n",
       "28        3  0.147246             walk union\n",
       "28        5  0.147246             walk union\n",
       "29        1  0.056530       walking distance\n",
       "29        3  0.621825       walking distance\n",
       "29        4  0.282648       walking distance\n",
       "30        1  0.403621            wine cheese\n",
       "30        2  0.403621            wine cheese\n",
       "30        3  0.134540            wine cheese\n",
       "30        5  0.033635            wine cheese\n",
       "\n",
       "[81 rows x 3 columns], R=30, lambda_step=0.01, plot_opts={'xlab': 'PC1', 'ylab': 'PC2'}, topic_order=[1, 2, 5, 3, 4])"
      ]
     },
     "execution_count": 23,
     "metadata": {},
     "output_type": "execute_result"
    }
   ],
   "source": [
    "pyLDAvis.sklearn.prepare(san_francisco.lda_tf, san_francisco.dtm_tf, san_francisco.tf_vectorizer)"
   ]
  },
  {
   "cell_type": "code",
   "execution_count": 21,
   "metadata": {},
   "outputs": [
    {
     "name": "stderr",
     "output_type": "stream",
     "text": [
      "/Users/steventa/anaconda3/lib/python3.6/site-packages/pyLDAvis/_prepare.py:387: DeprecationWarning: \n",
      ".ix is deprecated. Please use\n",
      ".loc for label based indexing or\n",
      ".iloc for positional indexing\n",
      "\n",
      "See the documentation here:\n",
      "http://pandas.pydata.org/pandas-docs/stable/indexing.html#ix-indexer-is-deprecated\n",
      "  topic_term_dists = topic_term_dists.ix[topic_order]\n"
     ]
    },
    {
     "data": {
      "text/html": [
       "\n",
       "<link rel=\"stylesheet\" type=\"text/css\" href=\"https://cdn.rawgit.com/bmabey/pyLDAvis/files/ldavis.v1.0.0.css\">\n",
       "\n",
       "\n",
       "<div id=\"ldavis_el57731119768445286562254235\"></div>\n",
       "<script type=\"text/javascript\">\n",
       "\n",
       "var ldavis_el57731119768445286562254235_data = {\"mdsDat\": {\"Freq\": [38.37188044258878, 22.52859952125911, 14.610588099761603, 14.280761837926798, 10.208170098463702], \"cluster\": [1, 1, 1, 1, 1], \"topics\": [1, 2, 3, 4, 5], \"x\": [0.06013854950417471, -0.0420340934064002, -0.011577480959832244, -0.006309844309734327, -0.0002171308282079653], \"y\": [0.017467114070403977, 0.03649831278021734, -0.028050877897864854, -0.0251679703272928, -0.0007465786254636938]}, \"tinfo\": {\"Category\": [\"Default\", \"Default\", \"Default\", \"Default\", \"Default\", \"Default\", \"Default\", \"Default\", \"Default\", \"Default\", \"Default\", \"Default\", \"Default\", \"Default\", \"Default\", \"Default\", \"Default\", \"Default\", \"Default\", \"Default\", \"Default\", \"Default\", \"Default\", \"Default\", \"Default\", \"Default\", \"Default\", \"Default\", \"Default\", \"Default\", \"Topic1\", \"Topic1\", \"Topic1\", \"Topic1\", \"Topic1\", \"Topic1\", \"Topic1\", \"Topic1\", \"Topic1\", \"Topic1\", \"Topic1\", \"Topic1\", \"Topic1\", \"Topic1\", \"Topic1\", \"Topic1\", \"Topic1\", \"Topic1\", \"Topic1\", \"Topic1\", \"Topic1\", \"Topic1\", \"Topic1\", \"Topic1\", \"Topic1\", \"Topic1\", \"Topic1\", \"Topic1\", \"Topic1\", \"Topic1\", \"Topic1\", \"Topic1\", \"Topic1\", \"Topic1\", \"Topic1\", \"Topic1\", \"Topic1\", \"Topic1\", \"Topic1\", \"Topic1\", \"Topic1\", \"Topic1\", \"Topic1\", \"Topic1\", \"Topic1\", \"Topic1\", \"Topic1\", \"Topic2\", \"Topic2\", \"Topic2\", \"Topic2\", \"Topic2\", \"Topic2\", \"Topic2\", \"Topic2\", \"Topic2\", \"Topic2\", \"Topic2\", \"Topic2\", \"Topic2\", \"Topic2\", \"Topic2\", \"Topic2\", \"Topic2\", \"Topic2\", \"Topic2\", \"Topic2\", \"Topic2\", \"Topic2\", \"Topic2\", \"Topic2\", \"Topic2\", \"Topic2\", \"Topic2\", \"Topic2\", \"Topic2\", \"Topic2\", \"Topic2\", \"Topic2\", \"Topic2\", \"Topic2\", \"Topic2\", \"Topic2\", \"Topic2\", \"Topic2\", \"Topic2\", \"Topic2\", \"Topic2\", \"Topic2\", \"Topic2\", \"Topic2\", \"Topic2\", \"Topic2\", \"Topic2\", \"Topic2\", \"Topic3\", \"Topic3\", \"Topic3\", \"Topic3\", \"Topic3\", \"Topic3\", \"Topic3\", \"Topic3\", \"Topic3\", \"Topic3\", \"Topic3\", \"Topic3\", \"Topic3\", \"Topic3\", \"Topic3\", \"Topic3\", \"Topic3\", \"Topic3\", \"Topic3\", \"Topic3\", \"Topic3\", \"Topic3\", \"Topic3\", \"Topic3\", \"Topic3\", \"Topic3\", \"Topic3\", \"Topic3\", \"Topic3\", \"Topic3\", \"Topic3\", \"Topic3\", \"Topic3\", \"Topic3\", \"Topic3\", \"Topic3\", \"Topic3\", \"Topic3\", \"Topic3\", \"Topic3\", \"Topic3\", \"Topic3\", \"Topic3\", \"Topic3\", \"Topic3\", \"Topic4\", \"Topic4\", \"Topic4\", \"Topic4\", \"Topic4\", \"Topic4\", \"Topic4\", \"Topic4\", \"Topic4\", \"Topic4\", \"Topic4\", \"Topic4\", \"Topic4\", \"Topic4\", \"Topic4\", \"Topic4\", \"Topic4\", \"Topic4\", \"Topic4\", \"Topic4\", \"Topic4\", \"Topic4\", \"Topic4\", \"Topic4\", \"Topic4\", \"Topic4\", \"Topic4\", \"Topic4\", \"Topic4\", \"Topic4\", \"Topic4\", \"Topic4\", \"Topic4\", \"Topic4\", \"Topic4\", \"Topic4\", \"Topic4\", \"Topic4\", \"Topic4\", \"Topic4\", \"Topic4\", \"Topic4\", \"Topic4\", \"Topic4\", \"Topic4\", \"Topic4\", \"Topic4\", \"Topic5\", \"Topic5\", \"Topic5\", \"Topic5\", \"Topic5\", \"Topic5\", \"Topic5\", \"Topic5\", \"Topic5\", \"Topic5\", \"Topic5\", \"Topic5\", \"Topic5\", \"Topic5\", \"Topic5\", \"Topic5\", \"Topic5\", \"Topic5\", \"Topic5\", \"Topic5\", \"Topic5\", \"Topic5\", \"Topic5\", \"Topic5\", \"Topic5\", \"Topic5\", \"Topic5\", \"Topic5\", \"Topic5\", \"Topic5\", \"Topic5\", \"Topic5\", \"Topic5\", \"Topic5\", \"Topic5\", \"Topic5\", \"Topic5\", \"Topic5\", \"Topic5\", \"Topic5\", \"Topic5\", \"Topic5\"], \"Freq\": [1.0, 0.0, 0.0, 0.0, 0.0, 0.0, 0.0, 0.0, 0.0, 0.0, 0.0, 0.0, 0.0, 0.0, 0.0, 0.0, 0.0, 0.0, 0.0, 0.0, 0.0, 0.0, 0.0, 0.0, 0.0, 0.0, 0.0, 0.0, 0.0, 0.0, 1.595278264738759, 1.1617264553241442, 1.1144946343984818, 1.1383841319152257, 1.0923334938581264, 0.700141349939968, 0.7019760830186481, 0.6854867480828285, 0.6790237540723209, 0.6844722534249269, 0.671221909452861, 0.6680421087195522, 0.6989132402221324, 0.6962812545936709, 0.6806244865693621, 0.661788069546976, 0.6808557774809649, 0.6788031405129102, 0.692601931854907, 0.6586057003070832, 0.684538723456944, 0.6658430037325452, 0.6672111092141418, 0.664898007475551, 0.6731537093018146, 0.6966260261700273, 0.6774584783236847, 0.6889139602542962, 0.6665555896358264, 0.6704729299297733, 0.699003646116889, 0.68926281894568, 0.692175318593001, 0.6872624310716025, 0.6903095274694303, 0.6859574058738845, 0.6879529817554098, 0.6861901044811853, 0.6833090319312779, 0.6885074823928911, 0.680672638409155, 0.6827714873324503, 0.6898203760923928, 0.6883743304141214, 0.6833991221909581, 0.684173936245432, 0.683081723574874, 0.7956950276894006, 0.4981712711226734, 0.49040510917096114, 0.4873034836328405, 0.4915867550784119, 0.49106254330750015, 0.4995552310490621, 0.5094060764703023, 0.47915025111624027, 0.4947717537864823, 0.48576923892020724, 0.48464143103530777, 0.48244943285212616, 0.49267028424649406, 0.5014150945492696, 0.4883528577993225, 0.49845892191149527, 0.48186868695861534, 0.5057130527912436, 0.49185501854328306, 0.5081555045251454, 0.47854097042333155, 0.491067102769152, 0.4914977515365801, 0.4998857723942972, 0.49008849844495933, 0.49122869828798854, 0.49370816692120295, 0.5044527934609906, 0.48733228952192803, 0.5023494599095653, 0.49410829004472673, 0.4955525558951863, 0.49531904050001513, 0.4919127455625105, 0.5113307854852671, 0.49864171534896534, 0.49982574324985274, 0.49593907270695825, 0.49901887006862417, 0.49607498835635555, 0.49519644019729114, 0.49413211467622703, 0.49749658267364716, 0.49368723801574743, 0.49279343481429533, 0.4932659810729958, 0.49293450221177765, 0.6030814914216588, 0.3628794116804581, 0.3662577758407246, 0.3564527183208652, 0.3593327027787923, 0.3598596238418516, 0.360021209440481, 0.35798818605410887, 0.3627641328334533, 0.3608177932243684, 0.3625382176336, 0.35874332015660204, 0.36500610665910677, 0.36536851855851477, 0.3592494242319879, 0.3566654474463826, 0.3610265703384776, 0.3586175586832006, 0.3559888641167601, 0.3511415559717217, 0.3575442095654742, 0.36017620730104677, 0.37377287620010946, 0.36031650600544934, 0.3574917514679927, 0.35477640629635454, 0.36648202119805273, 0.3526346930051593, 0.36618789073994096, 0.35709779025570687, 0.37815438865288786, 0.360657227288353, 0.36042027113009434, 0.3664391643646691, 0.3635853090048095, 0.36269699225631813, 0.3690003270019544, 0.36659215230865266, 0.36863200945217195, 0.36161760854329805, 0.36209143088703266, 0.36073295005688244, 0.3613218921016777, 0.3603573804044694, 0.35998424884613117, 0.3537111988234916, 0.37219597127534526, 0.36204315885889743, 0.3642250496473164, 0.3526616191015618, 0.361626243195378, 0.3703485318407559, 0.355950845381252, 0.36029213986107883, 0.35050186857073257, 0.34852578382244825, 0.3450668441615643, 0.35591727998611317, 0.36270337742468073, 0.3615636512189858, 0.35761197725096827, 0.35252154845427397, 0.3510354561290921, 0.3515272587937995, 0.3602527009570165, 0.35861287943278974, 0.3560041678093196, 0.3545974129366405, 0.3566032374250739, 0.3553601546833781, 0.35129211708913133, 0.3509625231877527, 0.35286016507846535, 0.36031924171686325, 0.35062544256807865, 0.36346458653192526, 0.3522963661569152, 0.3606761309034783, 0.3579387749158391, 0.35861258176723104, 0.3541026465095749, 0.35949326587087005, 0.35421265894925325, 0.3577471491428061, 0.357813556703597, 0.35522811143739164, 0.3572176020304713, 0.3568613563108391, 0.35454554979971603, 0.3562120337667356, 0.3560826068970632, 0.3550015295226858, 0.26980299051839046, 0.27102178512130926, 0.27981285701318265, 0.2722450549818511, 0.27131374058814406, 0.26778302668702303, 0.27247720768987915, 0.27177887528134204, 0.27036830671113743, 0.26519203953048587, 0.26681842186522603, 0.2689269106396286, 0.2694041268394204, 0.2656781844032473, 0.2630358366124051, 0.26696938150948935, 0.26470150877108434, 0.2787866323101105, 0.26090460769762563, 0.2684248629082091, 0.26853311079626874, 0.2607440256894417, 0.2700737633398803, 0.2684083439413381, 0.26488636582012615, 0.26396086390673335, 0.2732961411927552, 0.27295239967210044, 0.2748636269408848, 0.26404399778490356, 0.26936112270172563, 0.2690064417045831, 0.26961945171155927, 0.27055294687168047, 0.27067620850298024, 0.2752102392907506, 0.2681599166584367, 0.26847824715527585, 0.26843122443369644, 0.26812419775236496, 0.26769663808219873, 0.26771124549143194], \"Term\": [\"jacuzzi tub\", \"cold taps\", \"kitchen chipped\", \"window noise\", \"seat sort\", \"booked beresford\", \"night upset\", \"night october\", \"carpet hoovered\", \"smelt bathroom\", \"good junior\", \"shall sorry\", \"smelt shall\", \"wouldn want\", \"exceptionally noisy\", \"hallway smelt\", \"know photo\", \"rate expedia\", \"couldn really\", \"dared used\", \"money couldn\", \"expedia good\", \"used jacuzzi\", \"pigeons warm\", \"october finale\", \"expect star\", \"want stay\", \"site room\", \"costing money\", \"arms tripadvisor\", \"reasonably priced\", \"hotel offers\", \"hotel loud\", \"alarm goes\", \"fall asleep\", \"minute wait\", \"place furnishings\", \"slumber alarm\", \"hour looking\", \"visits city\", \"sleepy bit\", \"separate company\", \"challenging cab\", \"decor older\", \"cab hotel\", \"sleep check\", \"given situations\", \"hotel fisherman\", \"smaller traveling\", \"cheese hour\", \"television irritating\", \"bar matter\", \"minutes later\", \"recommend booking\", \"priced compared\", \"wharf ferry\", \"irritating didn\", \"spotlight night\", \"comes turns\", \"service separate\", \"tire easily\", \"older standard\", \"cheap wireless\", \"hotel reasonably\", \"pick used\", \"did work\", \"valet service\", \"don recommend\", \"chinatown walked\", \"internet did\", \"didn spend\", \"small bathroom\", \"head lobby\", \"market bay\", \"check hotel\", \"informs apologize\", \"priced place\", \"street noise\", \"rate prices\", \"engines ambulances\", \"notably boulange\", \"luck old\", \"way quot\", \"return visit\", \"decent doughnuts\", \"pastries decent\", \"utility bucket\", \"biggest plus\", \"fairly miserable\", \"modem outlook\", \"windows risk\", \"testament hardworking\", \"plus place\", \"group overall\", \"point economy\", \"course turned\", \"breakfast basic\", \"fine tough\", \"unless look\", \"old outdated\", \"dirt grease\", \"women change\", \"kids better\", \"miserable experience\", \"shouting random\", \"heat hottest\", \"going dial\", \"large plus\", \"plight early\", \"outlook email\", \"cut melon\", \"random passersby\", \"staff completely\", \"like montgomery\", \"airline website\", \"largest suite\", \"quot block\", \"competitive paid\", \"occupancy rate\", \"allow close\", \"print boarding\", \"historical places\", \"nuits paris\", \"ward catalogue\", \"browser couldn\", \"jacuzzi tub\", \"assist air\", \"booked internet\", \"entirely different\", \"cheap price\", \"conditioning dusty\", \"area hotel\", \"night exactly\", \"desk woman\", \"horrible hotel\", \"useless trying\", \"fans floor\", \"handle suggested\", \"work number\", \"rooms completely\", \"motel star\", \"understand concept\", \"hour called\", \"woman did\", \"called desk\", \"far worst\", \"queen size\", \"care time\", \"pay penny\", \"suite night\", \"kept asking\", \"tub overflowing\", \"business personal\", \"greasy donuts\", \"value price\", \"tub kept\", \"price worth\", \"arms feel\", \"carpet bedroom\", \"shut midnight\", \"people live\", \"couldn care\", \"holes burns\", \"real pinch\", \"years business\", \"hotel absolutely\", \"breakfast greasy\", \"got standard\", \"feel like\", \"jam expect\", \"dirty curtains\", \"kitchen appliances\", \"hotel central\", \"morning hours\", \"changed long\", \"sticky needs\", \"elbow grease\", \"friendly helpful\", \"soap water\", \"furniture dusted\", \"staff friendly\", \"breakfast lobby\", \"expected room\", \"continental breakfast\", \"filthy furniture\", \"lobby pleasant\", \"bet rooms\", \"sure sheets\", \"set right\", \"block junior\", \"water elbow\", \"hotel better\", \"beds plus\", \"needs soap\", \"really just\", \"cars ear\", \"expect dirty\", \"mistake just\", \"falling asleep\", \"reviews bet\", \"sheets changed\", \"facing busy\", \"grease set\", \"wee morning\", \"bellboy unloading\", \"provided sound\", \"favourite reviews\", \"rooms facing\", \"bit worn\", \"dusted sure\", \"telephone using\", \"floor make\", \"noise problem\", \"suitcases speeding\", \"did expect\", \"cheese expected\", \"dared touch\", \"night october\", \"booked beresford\", \"cold taps\", \"window noise\", \"carpet hoovered\", \"expedia good\", \"night upset\", \"shall sorry\", \"wouldn want\", \"expect star\", \"arms tripadvisor\", \"rate expedia\", \"hallway smelt\", \"hotel simply\", \"sorry maybe\", \"costing money\", \"looked like\", \"kitchen chipped\", \"wallpaper straight\", \"pigeons warm\", \"couldn really\", \"didn expect\", \"know photo\", \"dared used\", \"noise allowed\", \"room nice\", \"smelt bathroom\", \"good junior\", \"seat sort\", \"sort stain\", \"money couldn\", \"used jacuzzi\", \"site room\", \"october finale\", \"exceptionally noisy\", \"smelt shall\", \"jacuzzi wallpaper\", \"want stay\", \"dust kitchen\", \"room exceptionally\", \"hoovered dust\", \"like months\"], \"Total\": [1.0, 0.0, 0.0, 0.0, 0.0, 0.0, 0.0, 0.0, 0.0, 0.0, 0.0, 0.0, 0.0, 0.0, 0.0, 0.0, 0.0, 0.0, 0.0, 0.0, 0.0, 0.0, 0.0, 0.0, 0.0, 0.0, 0.0, 0.0, 0.0, 0.0, 2.0453335617236563, 1.6134029392254183, 1.5626804596261512, 1.607090598755374, 1.5688953207600218, 1.1313433129972372, 1.1447768860748906, 1.121319122589147, 1.1129000294367462, 1.122500055338814, 1.1009083311950456, 1.096967672563581, 1.1478518441138483, 1.1441031617584407, 1.118413237790771, 1.0875329318592715, 1.1207652844032532, 1.1177522790479997, 1.1408355851276968, 1.0866729883334687, 1.130040291039745, 1.0995535593384314, 1.1026160032950962, 1.0991189368892436, 1.1128371467696478, 1.1519064772851249, 1.1205028080071266, 1.1396922926407158, 1.1029625122371887, 1.109559770687636, 1.1578237632854806, 1.141642722980514, 1.1473029704375222, 1.138596316296501, 1.1445155592481395, 1.1366109010212864, 1.141603959609625, 1.139662600622185, 1.1349990852222744, 1.1536706221048092, 1.1317368477148904, 1.139216169478938, 1.170636253804376, 1.1740294747963174, 1.1470140275237417, 1.1616752253821057, 1.1551726983021038, 1.331017615748773, 0.9877250837774335, 0.9748545219362428, 0.9711295314993682, 0.9822639866919216, 0.9847772097121096, 1.0033417035161238, 1.0239524320651172, 0.963472712919674, 0.9953683963238366, 0.9778899728889068, 0.975941456455033, 0.9725752146807253, 0.9933117744534974, 1.0114934705944634, 0.9856338642325406, 1.0069977106161645, 0.9734953921715485, 1.0228670855175028, 0.9950082960332648, 1.029186494293728, 0.969888907195648, 0.9955970501801206, 0.9965647379288118, 1.0139305286050602, 0.9945607805713332, 0.997156733918221, 1.0022654917365001, 1.0241114898401256, 0.9897071319758973, 1.0237346020386389, 1.0050432727052625, 1.0104916212710804, 1.0129537390408907, 1.0024260374564518, 1.0690296306633242, 1.0252976749171714, 1.0299259661786444, 1.0183783136011546, 1.0339980523635701, 1.0212143893562353, 1.0172148290664633, 1.0120100561581538, 1.0347214978470276, 1.0185027463019158, 1.0100144922616971, 1.019147591958798, 1.042707160399389, 1.155491557797557, 0.8853528223843582, 0.8969873226948584, 0.8731126867867619, 0.8817800869042638, 0.8832443156547514, 0.8843627036939301, 0.8801155946244762, 0.8934851395034168, 0.8888093073017298, 0.8955265266225921, 0.8871693554137781, 0.9044212848212758, 0.9060854353780327, 0.8920752874477975, 0.8865559068532995, 0.8975085613897191, 0.8918837165501028, 0.8868370504799795, 0.8762787526238777, 0.8925153018287998, 0.9002883552654848, 0.9347102594979741, 0.9014978383116052, 0.8947040372824983, 0.8884611944211934, 0.9180855196705444, 0.8836284124750532, 0.9178870652460027, 0.8953425557329198, 0.9497269312502891, 0.9051506488208617, 0.9076534262487891, 0.9286269025506662, 0.9195387982369292, 0.9166835928019603, 0.9475849706022322, 0.9364172885478887, 0.9716165326252959, 0.9246677297563627, 0.9347625536177278, 0.917993747960047, 0.9326794090560555, 0.9201554194806069, 0.9193176929813806, 0.8622154047583943, 0.913780068416345, 0.896681788053901, 0.9024670621418196, 0.8750861093568101, 0.90084342034465, 0.923383470233495, 0.8882660206511224, 0.899872782232582, 0.8755338298673435, 0.8710636316830549, 0.8652726028681712, 0.8931508157461538, 0.9111903882232879, 0.9086464630655299, 0.8995182009857492, 0.8869625931638664, 0.8846518592266122, 0.8869467518540173, 0.9093304330181811, 0.906241148402425, 0.9007931575345643, 0.8983142602587394, 0.9044028953255615, 0.9013705900453071, 0.8913949652832855, 0.8906380425353089, 0.8956150895011957, 0.9146626970456686, 0.8902609432430112, 0.9229536180509963, 0.8947186675799987, 0.9233857676584776, 0.9165836729110685, 0.9233286127293376, 0.9049175050130146, 0.9407332700151632, 0.9057710971573524, 0.9315992712075185, 0.9363635444190757, 0.9151449763655619, 0.9336913749560601, 0.9509214953345622, 0.9121506249557525, 0.95068835941571, 0.9476104099581725, 0.9246243049172684, 0.8164660916155397, 0.8262856254562526, 0.8578822503286512, 0.8348600957913679, 0.8396661678679236, 0.8318708205638721, 0.8479820397153287, 0.8467833439064679, 0.845602663407871, 0.8298364071050601, 0.8355907378937595, 0.8444789064787483, 0.8476932606339578, 0.8365008710089329, 0.8282870645720006, 0.8419913221902057, 0.8349398058796531, 0.8811602041566564, 0.8256533872035507, 0.8495362385792384, 0.8501335369835736, 0.8258845730617588, 0.8556017039623074, 0.8509373802585753, 0.8400366040329126, 0.8375706911982154, 0.8680804788625629, 0.8678066534179565, 0.8743055578155678, 0.8403295853478654, 0.860738308289059, 0.8605465970795445, 0.8633700480309112, 0.8706667484075716, 0.8728739206947159, 0.9034742633177036, 0.8646969834460616, 0.8686066818496603, 0.8701080615020613, 0.8797753963754998, 0.8665929612553198, 0.8701304212564203], \"loglift\": [30.0, 29.0, 28.0, 27.0, 26.0, 25.0, 24.0, 23.0, 22.0, 21.0, 20.0, 19.0, 18.0, 17.0, 16.0, 15.0, 14.0, 13.0, 12.0, 11.0, 10.0, 9.0, 8.0, 7.0, 6.0, 5.0, 4.0, 3.0, 2.0, 1.0, 0.7093, 0.6294, 0.6198, 0.613, 0.5958, 0.478, 0.4688, 0.4657, 0.4638, 0.4632, 0.4631, 0.4619, 0.4617, 0.4612, 0.4612, 0.4611, 0.4594, 0.4591, 0.4588, 0.4571, 0.4566, 0.4562, 0.4555, 0.4552, 0.4552, 0.4549, 0.4547, 0.4544, 0.4542, 0.4541, 0.4532, 0.4532, 0.4525, 0.453, 0.4522, 0.4529, 0.4514, 0.4505, 0.4504, 0.4417, 0.4494, 0.4459, 0.429, 0.424, 0.44, 0.4284, 0.4325, 0.9759, 0.8059, 0.8033, 0.8008, 0.7982, 0.7945, 0.793, 0.7922, 0.7919, 0.7914, 0.7907, 0.7904, 0.7893, 0.7892, 0.7886, 0.7881, 0.7872, 0.7872, 0.786, 0.7858, 0.7846, 0.7839, 0.7836, 0.7835, 0.7832, 0.7827, 0.7824, 0.7823, 0.7823, 0.7819, 0.7785, 0.7804, 0.7779, 0.775, 0.7785, 0.7529, 0.7695, 0.7674, 0.7709, 0.7618, 0.7684, 0.7705, 0.7735, 0.7581, 0.7662, 0.7728, 0.7647, 0.7412, 1.2732, 1.0315, 1.0277, 1.0276, 1.0257, 1.0255, 1.0247, 1.0239, 1.022, 1.0219, 1.0191, 1.018, 1.016, 1.0152, 1.0139, 1.0129, 1.0128, 1.0123, 1.0107, 1.0089, 1.0086, 1.0073, 1.0068, 1.0063, 1.006, 1.0054, 1.0051, 1.0048, 1.0045, 1.0042, 1.0026, 1.0033, 0.9998, 0.9935, 0.9956, 0.9962, 0.9803, 0.9856, 0.9543, 0.9846, 0.975, 0.9894, 0.9751, 0.986, 0.9859, 1.0552, 1.0481, 1.0393, 1.0389, 1.0374, 1.0335, 1.0327, 1.0318, 1.0309, 1.0308, 1.0303, 1.027, 1.0262, 1.0251, 1.0247, 1.0238, 1.0236, 1.0219, 1.0208, 1.0204, 1.0192, 1.0179, 1.0167, 1.0156, 1.0155, 1.0151, 1.015, 1.0148, 1.0147, 1.0145, 1.0144, 1.0142, 1.0062, 1.006, 1.0005, 1.008, 0.9843, 1.0074, 0.9892, 0.9843, 0.9999, 0.9855, 0.9662, 1.0013, 0.9646, 0.9675, 0.989, 1.1747, 1.1672, 1.1616, 1.1614, 1.1523, 1.1485, 1.1467, 1.1455, 1.1417, 1.1412, 1.1404, 1.1377, 1.1357, 1.135, 1.1349, 1.1333, 1.1332, 1.1312, 1.13, 1.1299, 1.1296, 1.1291, 1.1289, 1.1282, 1.1278, 1.1273, 1.1263, 1.1253, 1.1248, 1.1243, 1.1202, 1.1191, 1.1181, 1.1132, 1.1111, 1.0933, 1.1112, 1.1079, 1.106, 1.0938, 1.1073, 1.1032], \"logprob\": [30.0, 29.0, 28.0, 27.0, 26.0, 25.0, 24.0, 23.0, 22.0, 21.0, 20.0, 19.0, 18.0, 17.0, 16.0, 15.0, 14.0, 13.0, 12.0, 11.0, 10.0, 9.0, 8.0, 7.0, 6.0, 5.0, 4.0, 3.0, 2.0, 1.0, -5.3875, -5.7046, -5.7461, -5.7249, -5.7662, -6.211, -6.2084, -6.2321, -6.2416, -6.2336, -6.2532, -6.2579, -6.2127, -6.2165, -6.2392, -6.2673, -6.2389, -6.2419, -6.2218, -6.2721, -6.2335, -6.2612, -6.2591, -6.2626, -6.2503, -6.216, -6.2439, -6.2271, -6.2601, -6.2543, -6.2126, -6.2266, -6.2224, -6.2295, -6.2251, -6.2314, -6.2285, -6.2311, -6.2353, -6.2277, -6.2392, -6.2361, -6.2258, -6.2279, -6.2352, -6.234, -6.2356, -5.5505, -6.0188, -6.0345, -6.0408, -6.0321, -6.0331, -6.016, -5.9965, -6.0577, -6.0256, -6.044, -6.0463, -6.0508, -6.0299, -6.0123, -6.0387, -6.0182, -6.052, -6.0037, -6.0315, -5.9989, -6.059, -6.0331, -6.0323, -6.0153, -6.0351, -6.0328, -6.0278, -6.0062, -6.0408, -6.0104, -6.027, -6.024, -6.0245, -6.0314, -5.9927, -6.0178, -6.0155, -6.0233, -6.0171, -6.023, -6.0248, -6.0269, -6.0201, -6.0278, -6.0296, -6.0287, -6.0293, -5.3946, -5.9026, -5.8933, -5.9205, -5.9124, -5.911, -5.9105, -5.9162, -5.9029, -5.9083, -5.9035, -5.9141, -5.8968, -5.8958, -5.9127, -5.9199, -5.9077, -5.9144, -5.9218, -5.9355, -5.9174, -5.9101, -5.873, -5.9097, -5.9176, -5.9252, -5.8927, -5.9312, -5.8935, -5.9187, -5.8614, -5.9087, -5.9094, -5.8928, -5.9007, -5.9031, -5.8859, -5.8924, -5.8869, -5.9061, -5.9048, -5.9085, -5.9069, -5.9096, -5.9106, -5.9054, -5.8544, -5.8821, -5.8761, -5.9083, -5.8832, -5.8594, -5.8991, -5.8869, -5.9145, -5.9201, -5.9301, -5.8991, -5.8803, -5.8834, -5.8944, -5.9087, -5.913, -5.9116, -5.887, -5.8916, -5.8989, -5.9029, -5.8972, -5.9007, -5.9122, -5.9132, -5.9078, -5.8869, -5.9141, -5.8782, -5.9094, -5.8859, -5.8935, -5.8916, -5.9043, -5.8891, -5.9039, -5.894, -5.8938, -5.9011, -5.8955, -5.8965, -5.903, -5.8983, -5.8987, -5.9017, -5.8404, -5.8359, -5.804, -5.8314, -5.8348, -5.8479, -5.8306, -5.8331, -5.8383, -5.8577, -5.8516, -5.8437, -5.8419, -5.8558, -5.8658, -5.851, -5.8595, -5.8077, -5.874, -5.8455, -5.8451, -5.8746, -5.8394, -5.8456, -5.8588, -5.8623, -5.8276, -5.8288, -5.8218, -5.862, -5.8421, -5.8434, -5.8411, -5.8377, -5.8372, -5.8206, -5.8465, -5.8453, -5.8455, -5.8467, -5.8483, -5.8482]}, \"token.table\": {\"Topic\": [1, 1, 1, 1, 1, 1, 1, 1, 1, 2, 2, 1, 1, 1, 1, 1, 2, 1, 1, 2, 1, 1, 1, 1, 1, 1, 1, 1, 3, 2, 1, 1, 1, 1, 1, 1, 1, 1, 1, 1, 1, 1, 1, 1, 1, 1, 1, 1, 2, 2, 1, 2, 1, 1, 1, 1], \"Freq\": [0.622242455263231, 0.9094600181201453, 0.8941238946485688, 0.8711925716964011, 0.871609353210906, 0.8718289192669018, 0.9202400452905422, 0.8810579788301445, 0.9066491280575392, 0.9776441281166716, 0.9766078664251915, 0.8740470557419315, 0.879808559905121, 0.8835976331592609, 0.87745267718188, 0.6373911546345672, 0.9716411996702725, 0.8922474793930165, 0.8542363152944938, 0.9764561865779968, 0.8946526155613922, 0.6399260922730393, 0.6198079696570356, 0.8782744030410079, 0.8985533053729126, 0.8608257954981123, 0.8667985305680702, 0.8924564872608867, 0.8654325453541745, 0.9768156688350922, 0.8517673716611673, 0.8839049902109087, 0.9069340523006786, 0.8759307792802954, 0.8737321147970454, 0.873532661398075, 0.898604079584158, 0.8656714285836397, 0.9778356144092935, 0.909819644114428, 0.9116038922669704, 0.9012583426490511, 0.9195123850552064, 0.9083408415253714, 0.8918067835060024, 0.8777965295711931, 0.8765504977547377, 0.8774298172035165, 0.935427766749092, 0.751304857402239, 0.8849241995432787, 0.9886371282380018, 0.8636893037696562, 0.8759605216698382, 0.8908685529624862, 0.8681260325550506], \"Term\": [\"alarm goes\", \"bar matter\", \"cab hotel\", \"challenging cab\", \"cheap wireless\", \"check hotel\", \"cheese hour\", \"chinatown walked\", \"comes turns\", \"course turned\", \"decent doughnuts\", \"decor older\", \"did work\", \"didn spend\", \"don recommend\", \"fall asleep\", \"fine tough\", \"given situations\", \"head lobby\", \"heat hottest\", \"hotel fisherman\", \"hotel loud\", \"hotel offers\", \"hotel reasonably\", \"hour looking\", \"informs apologize\", \"internet did\", \"irritating didn\", \"jacuzzi tub\", \"large plus\", \"market bay\", \"minute wait\", \"minutes later\", \"older standard\", \"pick used\", \"place furnishings\", \"priced compared\", \"priced place\", \"reasonably priced\", \"recommend booking\", \"separate company\", \"service separate\", \"sleep check\", \"sleepy bit\", \"slumber alarm\", \"small bathroom\", \"smaller traveling\", \"spotlight night\", \"staff completely\", \"street noise\", \"television irritating\", \"testament hardworking\", \"tire easily\", \"valet service\", \"visits city\", \"wharf ferry\"]}, \"R\": 30, \"lambda.step\": 0.01, \"plot.opts\": {\"xlab\": \"PC1\", \"ylab\": \"PC2\"}, \"topic.order\": [1, 3, 4, 2, 5]};\n",
       "\n",
       "function LDAvis_load_lib(url, callback){\n",
       "  var s = document.createElement('script');\n",
       "  s.src = url;\n",
       "  s.async = true;\n",
       "  s.onreadystatechange = s.onload = callback;\n",
       "  s.onerror = function(){console.warn(\"failed to load library \" + url);};\n",
       "  document.getElementsByTagName(\"head\")[0].appendChild(s);\n",
       "}\n",
       "\n",
       "if(typeof(LDAvis) !== \"undefined\"){\n",
       "   // already loaded: just create the visualization\n",
       "   !function(LDAvis){\n",
       "       new LDAvis(\"#\" + \"ldavis_el57731119768445286562254235\", ldavis_el57731119768445286562254235_data);\n",
       "   }(LDAvis);\n",
       "}else if(typeof define === \"function\" && define.amd){\n",
       "   // require.js is available: use it to load d3/LDAvis\n",
       "   require.config({paths: {d3: \"https://cdnjs.cloudflare.com/ajax/libs/d3/3.5.5/d3.min\"}});\n",
       "   require([\"d3\"], function(d3){\n",
       "      window.d3 = d3;\n",
       "      LDAvis_load_lib(\"https://cdn.rawgit.com/bmabey/pyLDAvis/files/ldavis.v1.0.0.js\", function(){\n",
       "        new LDAvis(\"#\" + \"ldavis_el57731119768445286562254235\", ldavis_el57731119768445286562254235_data);\n",
       "      });\n",
       "    });\n",
       "}else{\n",
       "    // require.js not available: dynamically load d3 & LDAvis\n",
       "    LDAvis_load_lib(\"https://cdnjs.cloudflare.com/ajax/libs/d3/3.5.5/d3.min.js\", function(){\n",
       "         LDAvis_load_lib(\"https://cdn.rawgit.com/bmabey/pyLDAvis/files/ldavis.v1.0.0.js\", function(){\n",
       "                 new LDAvis(\"#\" + \"ldavis_el57731119768445286562254235\", ldavis_el57731119768445286562254235_data);\n",
       "            })\n",
       "         });\n",
       "}\n",
       "</script>"
      ],
      "text/plain": [
       "PreparedData(topic_coordinates=            Freq  cluster  topics         x         y\n",
       "topic                                                \n",
       "0      38.371880        1       1  0.060139  0.017467\n",
       "2      22.528600        1       2 -0.042034  0.036498\n",
       "3      14.610588        1       3 -0.011577 -0.028051\n",
       "1      14.280762        1       4 -0.006310 -0.025168\n",
       "4      10.208170        1       5 -0.000217 -0.000747, topic_info=     Category      Freq                 Term     Total  loglift  logprob\n",
       "term                                                                    \n",
       "399   Default  1.000000          jacuzzi tub  1.000000  30.0000  30.0000\n",
       "152   Default  0.000000            cold taps  0.000000  29.0000  29.0000\n",
       "419   Default  0.000000      kitchen chipped  0.000000  28.0000  28.0000\n",
       "875   Default  0.000000         window noise  0.000000  27.0000  27.0000\n",
       "678   Default  0.000000            seat sort  0.000000  26.0000  26.0000\n",
       "88    Default  0.000000     booked beresford  0.000000  25.0000  25.0000\n",
       "513   Default  0.000000          night upset  0.000000  24.0000  24.0000\n",
       "511   Default  0.000000        night october  0.000000  23.0000  23.0000\n",
       "119   Default  0.000000      carpet hoovered  0.000000  22.0000  22.0000\n",
       "715   Default  0.000000       smelt bathroom  0.000000  21.0000  21.0000\n",
       "318   Default  0.000000          good junior  0.000000  20.0000  20.0000\n",
       "686   Default  0.000000          shall sorry  0.000000  19.0000  19.0000\n",
       "716   Default  0.000000          smelt shall  0.000000  18.0000  18.0000\n",
       "894   Default  0.000000          wouldn want  0.000000  17.0000  17.0000\n",
       "263   Default  0.000000  exceptionally noisy  0.000000  16.0000  16.0000\n",
       "331   Default  0.000000        hallway smelt  0.000000  15.0000  15.0000\n",
       "425   Default  0.000000           know photo  0.000000  14.0000  14.0000\n",
       "625   Default  0.000000         rate expedia  0.000000  13.0000  13.0000\n",
       "176   Default  0.000000        couldn really  0.000000  12.0000  12.0000\n",
       "186   Default  0.000000           dared used  0.000000  11.0000  11.0000\n",
       "496   Default  0.000000         money couldn  0.000000  10.0000  10.0000\n",
       "268   Default  0.000000         expedia good  0.000000   9.0000   9.0000\n",
       "838   Default  0.000000         used jacuzzi  0.000000   8.0000   8.0000\n",
       "578   Default  0.000000         pigeons warm  0.000000   7.0000   7.0000\n",
       "528   Default  0.000000       october finale  0.000000   6.0000   6.0000\n",
       "266   Default  0.000000          expect star  0.000000   5.0000   5.0000\n",
       "859   Default  0.000000            want stay  0.000000   4.0000   4.0000\n",
       "702   Default  0.000000            site room  0.000000   3.0000   3.0000\n",
       "173   Default  0.000000        costing money  0.000000   2.0000   2.0000\n",
       "30    Default  0.000000     arms tripadvisor  0.000000   1.0000   1.0000\n",
       "...       ...       ...                  ...       ...      ...      ...\n",
       "331    Topic5  0.269404        hallway smelt  0.847693   1.1357  -5.8419\n",
       "379    Topic5  0.265678         hotel simply  0.836501   1.1350  -5.8558\n",
       "724    Topic5  0.263036          sorry maybe  0.828287   1.1349  -5.8658\n",
       "173    Topic5  0.266969        costing money  0.841991   1.1333  -5.8510\n",
       "457    Topic5  0.264702          looked like  0.834940   1.1332  -5.8595\n",
       "419    Topic5  0.278787      kitchen chipped  0.881160   1.1312  -5.8077\n",
       "856    Topic5  0.260905   wallpaper straight  0.825653   1.1300  -5.8740\n",
       "578    Topic5  0.268425         pigeons warm  0.849536   1.1299  -5.8455\n",
       "176    Topic5  0.268533        couldn really  0.850134   1.1296  -5.8451\n",
       "212    Topic5  0.260744          didn expect  0.825885   1.1291  -5.8746\n",
       "425    Topic5  0.270074           know photo  0.855602   1.1289  -5.8394\n",
       "186    Topic5  0.268408           dared used  0.850937   1.1282  -5.8456\n",
       "514    Topic5  0.264886        noise allowed  0.840037   1.1278  -5.8588\n",
       "659    Topic5  0.263961            room nice  0.837571   1.1273  -5.8623\n",
       "715    Topic5  0.273296       smelt bathroom  0.868080   1.1263  -5.8276\n",
       "318    Topic5  0.272952          good junior  0.867807   1.1253  -5.8288\n",
       "678    Topic5  0.274864            seat sort  0.874306   1.1248  -5.8218\n",
       "725    Topic5  0.264044           sort stain  0.840330   1.1243  -5.8620\n",
       "496    Topic5  0.269361         money couldn  0.860738   1.1202  -5.8421\n",
       "838    Topic5  0.269006         used jacuzzi  0.860547   1.1191  -5.8434\n",
       "702    Topic5  0.269619            site room  0.863370   1.1181  -5.8411\n",
       "528    Topic5  0.270553       october finale  0.870667   1.1132  -5.8377\n",
       "263    Topic5  0.270676  exceptionally noisy  0.872874   1.1111  -5.8372\n",
       "716    Topic5  0.275210          smelt shall  0.903474   1.0933  -5.8206\n",
       "400    Topic5  0.268160    jacuzzi wallpaper  0.864697   1.1112  -5.8465\n",
       "859    Topic5  0.268478            want stay  0.868607   1.1079  -5.8453\n",
       "243    Topic5  0.268431         dust kitchen  0.870108   1.1060  -5.8455\n",
       "656    Topic5  0.268124   room exceptionally  0.879775   1.0938  -5.8467\n",
       "355    Topic5  0.267697        hoovered dust  0.866593   1.1073  -5.8483\n",
       "438    Topic5  0.267711          like months  0.870130   1.1032  -5.8482\n",
       "\n",
       "[259 rows x 6 columns], token_table=      Topic      Freq                   Term\n",
       "term                                        \n",
       "10        1  0.622242             alarm goes\n",
       "50        1  0.909460             bar matter\n",
       "109       1  0.894124              cab hotel\n",
       "125       1  0.871193        challenging cab\n",
       "131       1  0.871609         cheap wireless\n",
       "133       1  0.871829            check hotel\n",
       "137       1  0.920240            cheese hour\n",
       "138       1  0.881058       chinatown walked\n",
       "155       1  0.906649            comes turns\n",
       "177       2  0.977644          course turned\n",
       "194       2  0.976608       decent doughnuts\n",
       "195       1  0.874047            decor older\n",
       "211       1  0.879809               did work\n",
       "214       1  0.883598             didn spend\n",
       "229       1  0.877453          don recommend\n",
       "274       1  0.637391            fall asleep\n",
       "286       2  0.971641             fine tough\n",
       "307       1  0.892247       given situations\n",
       "337       1  0.854236             head lobby\n",
       "341       2  0.976456           heat hottest\n",
       "368       1  0.894653        hotel fisherman\n",
       "372       1  0.639926             hotel loud\n",
       "373       1  0.619808           hotel offers\n",
       "376       1  0.878274       hotel reasonably\n",
       "386       1  0.898553           hour looking\n",
       "391       1  0.860826      informs apologize\n",
       "394       1  0.866799           internet did\n",
       "396       1  0.892456        irritating didn\n",
       "399       3  0.865433            jacuzzi tub\n",
       "426       2  0.976816             large plus\n",
       "476       1  0.851767             market bay\n",
       "485       1  0.883905            minute wait\n",
       "489       1  0.906934          minutes later\n",
       "538       1  0.875931         older standard\n",
       "573       1  0.873732              pick used\n",
       "581       1  0.873533      place furnishings\n",
       "606       1  0.898604        priced compared\n",
       "607       1  0.865671           priced place\n",
       "633       1  0.977836      reasonably priced\n",
       "635       1  0.909820      recommend booking\n",
       "681       1  0.911604       separate company\n",
       "682       1  0.901258       service separate\n",
       "705       1  0.919512            sleep check\n",
       "707       1  0.908341             sleepy bit\n",
       "709       1  0.891807          slumber alarm\n",
       "711       1  0.877797         small bathroom\n",
       "713       1  0.876550      smaller traveling\n",
       "731       1  0.877430        spotlight night\n",
       "736       2  0.935428       staff completely\n",
       "764       2  0.751305           street noise\n",
       "788       1  0.884924  television irritating\n",
       "793       2  0.988637  testament hardworking\n",
       "801       1  0.863689            tire easily\n",
       "844       1  0.875961          valet service\n",
       "849       1  0.890869            visits city\n",
       "874       1  0.868126            wharf ferry, R=30, lambda_step=0.01, plot_opts={'xlab': 'PC1', 'ylab': 'PC2'}, topic_order=[1, 3, 4, 2, 5])"
      ]
     },
     "execution_count": 21,
     "metadata": {},
     "output_type": "execute_result"
    }
   ],
   "source": [
    "pyLDAvis.sklearn.prepare(san_francisco.neg_lda_tf, san_francisco.neg_dtm_tf, san_francisco.neg_tf_vectorizer)"
   ]
  },
  {
   "cell_type": "code",
   "execution_count": 29,
   "metadata": {},
   "outputs": [
    {
     "name": "stdout",
     "output_type": "stream",
     "text": [
      "positives count vectorizer shape: (142, 31)\n",
      "negatives count vectorizer shape: (9, 901)\n"
     ]
    },
    {
     "name": "stderr",
     "output_type": "stream",
     "text": [
      "/Users/steventa/anaconda3/lib/python3.6/site-packages/sklearn/decomposition/online_lda.py:294: DeprecationWarning: n_topics has been renamed to n_components in version 0.19 and will be removed in 0.21\n",
      "  DeprecationWarning)\n",
      "/Users/steventa/anaconda3/lib/python3.6/site-packages/sklearn/decomposition/online_lda.py:536: DeprecationWarning: The default value for 'learning_method' will be changed from 'online' to 'batch' in the release 0.20. This warning was introduced in 0.18.\n",
      "  DeprecationWarning)\n"
     ]
    },
    {
     "name": "stdout",
     "output_type": "stream",
     "text": [
      "Clustering for Positives: CLEANLINESS, ROOM, SERVICE, LOCATION, VALUE\n",
      "Clustering for Negatives: CLEANLINESS, ROOM, SERVICE, LOCATION, VALUE\n",
      "run: pyLDAvis.sklearn.prepare(self.lda_tf, self.dtm_tf, self.tf_vectorizer)\n"
     ]
    },
    {
     "name": "stderr",
     "output_type": "stream",
     "text": [
      "/Users/steventa/anaconda3/lib/python3.6/site-packages/sklearn/decomposition/online_lda.py:294: DeprecationWarning: n_topics has been renamed to n_components in version 0.19 and will be removed in 0.21\n",
      "  DeprecationWarning)\n",
      "/Users/steventa/anaconda3/lib/python3.6/site-packages/sklearn/decomposition/online_lda.py:536: DeprecationWarning: The default value for 'learning_method' will be changed from 'online' to 'batch' in the release 0.20. This warning was introduced in 0.18.\n",
      "  DeprecationWarning)\n"
     ]
    }
   ],
   "source": [
    "run sentiment_cluster"
   ]
  },
  {
   "cell_type": "code",
   "execution_count": null,
   "metadata": {
    "collapsed": true
   },
   "outputs": [],
   "source": []
  }
 ],
 "metadata": {
  "kernelspec": {
   "display_name": "Python 3",
   "language": "python",
   "name": "python3"
  },
  "language_info": {
   "codemirror_mode": {
    "name": "ipython",
    "version": 3
   },
   "file_extension": ".py",
   "mimetype": "text/x-python",
   "name": "python",
   "nbconvert_exporter": "python",
   "pygments_lexer": "ipython3",
   "version": "3.6.4"
  }
 },
 "nbformat": 4,
 "nbformat_minor": 2
}
