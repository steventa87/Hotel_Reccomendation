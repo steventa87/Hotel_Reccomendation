{
 "cells": [
  {
   "cell_type": "code",
   "execution_count": 43,
   "metadata": {},
   "outputs": [],
   "source": [
    "from hotel_map import Hotel_Map\n",
    "from hotel_tfidf import Hotel_Tfidf\n",
    "from hotel_cluster import Hotel_Cluster\n",
    "import pandas as pd\n",
    "import numpy as np\n",
    "import datetime\n",
    "import matplotlib.pyplot as plt\n",
    "%matplotlib inline"
   ]
  },
  {
   "cell_type": "markdown",
   "metadata": {},
   "source": [
    "# Las Vegas"
   ]
  },
  {
   "cell_type": "code",
   "execution_count": 2,
   "metadata": {},
   "outputs": [
    {
     "name": "stdout",
     "output_type": "stream",
     "text": [
      "2018-04-26 00:02:42.980049\n"
     ]
    }
   ],
   "source": [
    "print(datetime.datetime.utcnow())"
   ]
  },
  {
   "cell_type": "code",
   "execution_count": 3,
   "metadata": {},
   "outputs": [],
   "source": [
    "las_vegas = Hotel_Cluster('data/las-vegas/')"
   ]
  },
  {
   "cell_type": "code",
   "execution_count": 4,
   "metadata": {},
   "outputs": [
    {
     "name": "stdout",
     "output_type": "stream",
     "text": [
      "There are 206 hotels in the dataset.\n",
      "Total stemmed and tokenized words: 5328049\n"
     ]
    }
   ],
   "source": [
    "las_vegas.make_map()"
   ]
  },
  {
   "cell_type": "code",
   "execution_count": 5,
   "metadata": {},
   "outputs": [
    {
     "name": "stdout",
     "output_type": "stream",
     "text": [
      "tfidf shape: (206, 5499)\n"
     ]
    }
   ],
   "source": [
    "las_vegas.vectorize()"
   ]
  },
  {
   "cell_type": "code",
   "execution_count": 6,
   "metadata": {},
   "outputs": [
    {
     "name": "stdout",
     "output_type": "stream",
     "text": [
      "Fitting K-means\n",
      "Top terms per cluster:\n",
      "\n",
      "Cluster 0 words: b'resort', b'bedroom', b'kitchen', b'timeshares', b'shuttle', b'unit', b'lovely', b'live', b'construction', b'enjoyed', b'tubs', b'building', b'condos', b'live', b'amp', b'club', b'very', b'noise', b'tower', b'stores',\n",
      "\n",
      "Cluster 0 hotels: las_vegas_club_36, desert_rose_resort, jockey_club, worldmark_tropicana, cancun_resort, hilton_grand_vacation_suites_las_vegas_convention_center, alexis_park_resort, summer_bay_resorts_las_vegas_desert_club, staybridge_suites_las_vegas, meridian_luxury_suites, element_by_westin_las_vegas_summerlin, tahiti_vacation_club, summer_bay_resort_las_vegas, royal_vacation_suites_hotel_las_vegas, grandview_at_las_vegas, wyndham_grand_desert, candlewood_suites_las_vegas, hilton_grand_vacations_suites_on_the_las_vegas_strip, club_de_soleil, marriott_s_grand_chateau, emerald_suites_cameron, polo_towers, the_carriage_house, desert_paradise_resort, siena_suites, emerald_suites, cliffs_at_peace_canyon, tahiti_village, hilton_grand_vacations_club_at_the_flamingo_las_vegas,\n",
      "\n",
      "Cluster 1 words: b'view', b'buffet', b'tower', b'lovely', b'drink', b'waited', b'bar', b'enjoyed', b'amp', b'charging', b'table', b'play', b'huge', b'bellagio', b'line', b'elevator', b'mgm', b'upgraded', b'water', b'beautiful',\n",
      "\n",
      "Cluster 1 hotels: whiskey_pete_s_casino_and_hotel, renaissance_las_vegas_hotel, caesars_palace_classic_hotel, flamingo_hotel_casino, silverton_hotel_and_casino, the_palms_casino_hotel, rio_suite_hotel_and_casino, mgm_grand_hotel_and_casino, suncoast_hotel_and_casino, paris_las_vegas_hotel, the_westin_casuarina_las_vegas_hotel_casino_spa, harrah_s_las_vegas_casino_hotel, casino_royale_and_hotel, artisan_hotel, platinum_hotel_and_spa, las_vegas_hilton, greek_isles_hotel_casino, hard_rock_hotel_and_casino, riviera_hotel_casino, jw_marriott_las_vegas_resort_spa_golf, trump_international_hotel_tower_las_vegas, arizona_charlie_s_boulder_casino_hotel, wynn_las_vegas, signature_at_mgm_grand, skylofts_at_mgm_grand, imperial_palace_hotel_casino, red_rock_casino_resort_spa, stratosphere_hotel_casino_and_tower, terrible_s_hotel_casino, monte_carlo_resort_casino, sam_s_town_hotel_and_gambling_hall, the_palazzo_resort_hotel_casino, bill_s_gamblin_hall_saloon, santa_fe_station_hotel, hooters_casino_hotel, thehotel_at_mandalay_bay, texas_station_gambling_hall_and_hotel, south_point_hotel_casino_and_spa, new_york_new_york_hotel_and_casino, tuscany_suites_casino, bally_s_las_vegas_hotel_casino, four_seasons_hotel_las_vegas, luxor_las_vegas, bellagio_las_vegas, gold_coast_hotel_and_casino, venetian_resort_hotel_casino, encore_at_wynn_las_vegas, palms_place_hotel_spa, mirage_hotel_casino, excalibur_hotel_casino, boulder_station_hotel_and_casino, eastside_cannery_casino_hotel, mandalay_bay_resort_casino, planet_hollywood_resort_casino, treasure_island_ti_hotel_casino, the_resort_on_mount_charleston,\n",
      "\n",
      "Cluster 2 words: b'motel', b'dirty', b'nan', b'cheap', b'budget', b'carpet', b'nan', b'charging', b'nan', b'phone', b'stains', b'water', b'refund', b'wall', b'security', b'inn', b'worst', b'roach', b'airport', b'sheets',\n",
      "\n",
      "Cluster 2 hotels: malibu_bay_suites, americana_5, super_8_las_vegas, homestead_studio_suites_las_vegas_midtown, tod_motor_motel, the_suites_boulder_strip, rodeway_inn_convention_center, budget_suites_of_america_wynn, budget_suites_of_america_las_vegas, super_8_las_vegas_nellis_afb, el_cortez_cabana_suites, budget_suites_of_america_stardust_road, econo_lodge, knights_inn_las_vegas, motel_6_las_vegas_tropicana, atrium_suites_hotel_las_vegas, budget_suites_of_america_tropicana_i_15, travelodge_ambassador_strip_inn, blair_house_suites, primm_valley_resort_hotel_las_vegas, jerry_s_nugget, the_mansion_at_mgm_grand, hotel32_at_monte_carlo, howard_johnson_las_vegas_strip, comfort_inn_suites_las_vegas, , golden_palm_hotel, extended_stay_deluxe_las_vegas_east_flamingo, aztec_inn, motel_6, bel_aire_west, extended_stayamerica_las_vegas_valley_view, crestwood_suites_las_vegas_flamingo, best_western_nellis_motor_inn, super_8_las_vegas_boulder_highway, emerald_suites_tropicana, super_8_motel_las_vegas_downtown, crestwood_suites_las_vegas_boulevard, rodeway_inn, town_and_country_manor_iii, manor_suites, clarion_emerald_springs, motel_6_las_vegas_i_15, holiday_inn_express_the_lakes_las_vegas, las_vegas_south_strip_travelodge, siegel_slots_and_suites, aruba_hotel, the_suites, sportsman_s_royal_manor, best_western_main_street_inn, motel_6_las_vegas_boulder_highway, downtowner_motel, wild_wild_west_gambling_hall_and_hotel, holiday_motel, budget_suites_of_america_north_rancho_drive, americas_best_value_inn, a_fishers_inn, sahara_westwood_hotel, travelsuites_inn, somerset_house_motel, viva_las_vegas_villas, best_western_parkview_inn, americas_best_value_inn_las_vegas, extended_stayamerica_las_vegas_boulder_hwy,\n",
      "\n",
      "Cluster 3 words: b'fremont', b'downtown', b'tower', b'buffet', b'fremont', b'golden', b'elevator', b'play', b'circus', b'slot', b'nugget', b'smoking', b'freemont', b'cheap', b'main', b'view', b'gamble', b'table', b'always', b'amp',\n",
      "\n",
      "Cluster 3 hotels: fitzgeralds_casino_hotel, four_queens_hotel_and_casino, arizona_charlie_s_decatur, golden_nugget, tropicana_resort_and_casino, plaza_hotel_casino, western_hotel_casino, california_hotel, palace_station, gold_spike_hotel_and_casino, circus_circus_hotel_casino_las_vegas, tropicana_inn, fiesta_hotel_and_casino, las_vegas_club_casino_hotel, golden_gate_hotel_casino, sahara_hotel_casino, ogden_house_motel, el_cortez_hotel_casino, main_street_station_hotel_casino, binion_s_horseshoe_hotel_casino_las_vegas, circus_circus_manor_motor_lodge, fremont_hotel_and_casino,\n",
      "\n",
      "Cluster 4 words: b'shuttle', b'airport', b'inn', b'center', b'waffle', b'convention', b'marriott', b'convention', b'amp', b'noise', b'driving', b'very', b'la', b'eggs', b'cereal', b'continental', b'hilton', b'residents', b'buffet', b'nan',\n",
      "\n",
      "Cluster 4 hotels: falcon_ridge_hotel, best_western_mardi_gras_hotel_casino, residence_inn_las_vegas_hughes_center, la_quinta_inn_las_vegas_airport, holiday_inn_express_las_vegas_south, la_quinta_inn_nellis, hampton_inn_tropicana, microtel_inn_suites_las_vegas, hyatt_place_las_vegas, fairfield_inn_suites_las_vegas_south, embassy_suites_las_vegas_airport, doubletree_club_hotel_las_vegas_airport, courtyard_by_marriott_las_vegas_summerlin, la_quinta_summerlin_tech, hampton_inn_suites_las_vegas_airport, la_quinta_inn_and_suites_las_vegas_west, hilton_garden_inn_las_vegas_strip_south, comfort_inn, holiday_inn_express_las_vegas_nellis, knights_inn, embassy_suites_hotel_convention_center_paradise_road_las_vegas, hampton_inn_las_vegas_summerlin, wingate_by_wyndham_henderson, springhill_suites_las_vegas_convention_center, homewood_suites_las_vegas_airport, la_quinta_inn_and_suites_tropicana, courtyard_by_marriott_las_vegas_south, marriott_suites_las_vegas, hampton_inn_suites_las_vegas_west_summerlin, holiday_inn_express_hotel_and_suites_las_vegas_215_beltway, residence_inn_las_vegas_convention_center, fairfield_inn_las_vegas_airport, courtyard_by_marriott_las_vegas_convention_center, residence_inn_las_vegas_south, best_western_mccarran_inn,\n",
      "\n"
     ]
    }
   ],
   "source": [
    "las_vegas.get_clusters()"
   ]
  },
  {
   "cell_type": "code",
   "execution_count": 7,
   "metadata": {},
   "outputs": [
    {
     "name": "stdout",
     "output_type": "stream",
     "text": [
      "2018-04-26 00:11:55.562136\n"
     ]
    }
   ],
   "source": [
    "print(datetime.datetime.utcnow())"
   ]
  },
  {
   "cell_type": "markdown",
   "metadata": {},
   "source": [
    "# San Francisco"
   ]
  },
  {
   "cell_type": "code",
   "execution_count": 8,
   "metadata": {},
   "outputs": [
    {
     "name": "stdout",
     "output_type": "stream",
     "text": [
      "2018-04-26 00:29:57.100257\n"
     ]
    }
   ],
   "source": [
    "print(datetime.datetime.utcnow())"
   ]
  },
  {
   "cell_type": "code",
   "execution_count": 9,
   "metadata": {},
   "outputs": [],
   "source": [
    "san_francisco = Hotel_Cluster('data/san-francisco/')"
   ]
  },
  {
   "cell_type": "code",
   "execution_count": 10,
   "metadata": {},
   "outputs": [
    {
     "name": "stdout",
     "output_type": "stream",
     "text": [
      "There are 213 hotels in the dataset.\n",
      "Total stemmed and tokenized words: 4731661\n"
     ]
    }
   ],
   "source": [
    "san_francisco.make_map()"
   ]
  },
  {
   "cell_type": "code",
   "execution_count": 11,
   "metadata": {},
   "outputs": [
    {
     "name": "stdout",
     "output_type": "stream",
     "text": [
      "tfidf shape: (213, 5688)\n"
     ]
    }
   ],
   "source": [
    "san_francisco.vectorize()"
   ]
  },
  {
   "cell_type": "code",
   "execution_count": 12,
   "metadata": {},
   "outputs": [
    {
     "name": "stdout",
     "output_type": "stream",
     "text": [
      "Fitting K-means\n",
      "Top terms per cluster:\n",
      "\n",
      "Cluster 0 words: b'nan', b'nan', b'homeless', b'cable', b'bart', b'market', b'powell', b'homeless', b'room', b'chinatown', b'suite', b'bugs', b'dirty', b'continental', b'centrally', b'sharing', b'station', b'tenderloin', b'renovated', b'tiny',\n",
      "\n",
      "Cluster 0 hotels: el_beresford, el_vertigo, on_square_plaza_hotel, el_griffon, oria_hotel, nte_hotel, _stratford, el_des_arts, ardian_san_francisco_hotel, g_george_hotel, d_nite_inn_san_francisco_airport, ne_hotel, zgerald_hotel_union_square, hotel, xis_park_san_francisco, el_bijou, n_peaks_hotel, inhart, dwin_hotel, court_hotel, el_north_beach, el_cosmo, el_mayflower, l_hotel, ell_hotel, el_mark_twain, k_hotel, chstone_hotel, a_hotel, hila, _metro_hotel, lor_hotel, ricas_best_value_inn_suites_union_square, _opal_san_francisco, el_metropolis, el_fusion, svenor_suites, ines_memorial_club_hotel, onia_abby_hotel, b_quarters_san_francisco, el_frank, xander_inn, kson_court_san_francisco, gail_hotel, t_western_hotel_tomo, _mosser, ic_center_inn, an_francisco, el_milano, _hotel_tropicana, _dakota_hotel, nell_hotel_de_france, versity_club, hstone_south_market, t_western_americania, _grant_hotel, iday_inn_civic_center_san_francisco, ona, ricas_best_value_inn_suites_soma, velodge_central_san_francisco_hotel, arch_hotel, el_whitcomb, t_western_carriage_inn, ard_ii_inn_and_suites, tiac_hotel, ghts_inn_downtown_san_francisco, _herbert_hotel, ore_express_hotel, nt_plaza_hotel, cyon_hotel, ulding_hotel, el_kabuki, _good_hotel, scent_san_francisco, _hill_hotel, a_hotel, mpic_hotel, oir_hotel, _embassy_hotel, _gaylord,\n",
      "\n",
      "Cluster 1 words: b'concierge', b'cable', b'pool', b'fisherman', b\"'s\", b'fisherman', b'marriott', b'beautiful', b'suite', b'expensive', b'upgraded', b'bay', b'valet', b'room', b'king', b'club', b'spacious', b'hyatt', b'hill', b'courtyard',\n",
      "\n",
      "Cluster 1 hotels: ace_hotel, _huntington_hotel_nob_hill_spa, riott_san_francisco_fisherman_s_wharf, pton_place_hotel, _ritz_carlton, nd_hyatt_san_francisco, el_boheme, tes_at_fisherman_s_wharf, i_san_francisco_hotel, tt_at_fisherman_s_wharf, el_nikko_san_francisco, el_palomar_san_francisco_a_kimpton_hotel, onaut_hotel_a_kimpton_hotel, t_western_tuscan_inn_fisherman_s_wharf_a_kimpton_hotel, ton_san_francisco_fisherman_s_wharf, ercontinental_san_francisco, meridien_san_francisco, rtyard_san_francisco_downtown, iday_inn_san_francisco_fishermans_wharf, _westin_st_francis, r_seasons_hotel_san_francisco, _francis_drake_hotel_a_kimpton_hotel, ton_san_francisco_financial_district, regis_hotel_san_francisco, c_55_hotel, _orchard_hotel, tin_san_francisco_market_street, tt_regency_san_francisco, iday_inn_express_san_francisco_fisherman_s_wharf, _fairmont_san_francisco, isson_hotel_fisherman_s_wharf, aissance_stanford_court, iday_inn_san_francisco_golden_gateway, ercontinental_mark_hopkins_san_francisco, hard_garden_hotel, _francisco_marriott_union_square, raton_fisherman_s_wharf_hotel, ft_hotel_san_francisco, hedral_hill_hotel, dlery_union_square_hotel, el_vitale, _francisco_marriott_marquis, darin_oriental, rtyard_by_marriott_fisherman_s_wharf, marriott_san_francisco_union_square, enix_hotel, ton_san_francisco_union_square,\n",
      "\n",
      "Cluster 2 words: b'motel', b'ocean', b'beach', b'gate', b'golden', b'inn', b'golden', b'golden', b'gate', b'highway', b'sealed', b'rock', b'hospitality', b'free', b'geary', b'stars', b'king', b'king', b'daughter', b'suite',\n",
      "\n",
      "Cluster 2 hotels: at_highway_motor_inn, nyan_park_hotel, anview_motel, an_park_motel, ch_motel, erts_at_the_beach_motel, r_motel, l_rock_inn, ry_parkway_motel, ri_motel,\n",
      "\n",
      "Cluster 3 words: b'wine', b'cable', b'suite', b'complimentary', b'cheese', b'charms', b'beautiful', b'boutique', b'fireplace', b'room', b'cookie', b'touch', b'continental', b'afternoons', b'concierge', b'valet', b'powell', b'bart', b'inn', b'nan',\n",
      "\n",
      "Cluster 3 hotels: el_drisco, te_swan_inn, bor_court_hotel_a_kimpton_hotel, wick_san_francisco_hotel, el_abri_union_square_a_larkspur_collection_hotel, el_triton_a_kimpton_hotel, _at_the_opera, kspur_hotel_union_square, rews_hotel, t_western_the_hotel_california, el_rex, el_adagio, cutive_hotel_vintage_court, el_union_square, _queen_anne_hotel, el_diva, ncellor_hotel_on_union_square, _archbishop_s_mansion, rano_hotel_a_kimpton_hotel, _donatello_hotel, el_monaco_san_francisco_a_kimpton_hotel, scott_hotel_a_kimpton_hotel, esford_arms, el_majestic, la_florence_hotel_union_square_a_larkspur_collection_hotel, rmont_heritage_place_ghirardelli_square, ite_auberge, _kensington_park_hotel, _inn_at_union_square, el_carlton_a_joie_de_vivre_hotel, leria_park,\n",
      "\n",
      "Cluster 4 words: b'inn', b'motel', b'free', b'lombard', b'marina', b'motor', b'fisherman', b'lombard', b\"'s\", b'nan', b'fisherman', b'gate', b'bridge', b'nan', b'golden', b'golden', b'parking', b'traffic', b'dirty', b'microwave',\n",
      "\n",
      "Cluster 4 hotels: f_motel, t_western_civic_center_motor_inn, eway_inn_downtown, oma_inn, _hollow_motor_inn_and_suites, ha_inn_and_suites_san_francisco, wood_inn, entry_motor_inn, adway_manor_inn, lsea_motor_inn, ina_inn, al_pacific_motor_inn, _francisco_days_inn_downtown_civic_center_area, sion_inn, ncisco_bay_inn, abond_inn_san_francisco_civic_center, rica_s_best_inn_san_francisco, tle_inn, enwich_inn, ada_limited_san_francisco, umbus_motor_inn, luna_inn, ina_motel, _francisco_at_the_presidio_travelodge, _wharf_inn, n_house, s_inn_lombard_street, itage_marina_hotel, _bridge_inn, eway_inn_civic_center, rel_inn, k_s_motor_lodge, _hill_motor_inn, er_8_san_francisco_fisherman_s_wharf, is_inn, side_inn_at_the_wharf_pacific_hotels, ricas_best_value_inn_golden_gate, velodge_golden_gate_san_francisco, el_6_san_francisco_downtown, sidio_inn_suites, s_inn_san_francisco_at_the_beach, bard_motor_inn, el_del_sol, fort_inn_by_the_bay, na_vista_motor_inn,\n",
      "\n"
     ]
    }
   ],
   "source": [
    "san_francisco.get_clusters()"
   ]
  },
  {
   "cell_type": "code",
   "execution_count": 13,
   "metadata": {},
   "outputs": [
    {
     "name": "stdout",
     "output_type": "stream",
     "text": [
      "2018-04-26 00:39:38.497144\n"
     ]
    }
   ],
   "source": [
    "print(datetime.datetime.utcnow())"
   ]
  },
  {
   "cell_type": "markdown",
   "metadata": {},
   "source": [
    "# plot tsne"
   ]
  },
  {
   "cell_type": "code",
   "execution_count": 81,
   "metadata": {},
   "outputs": [
    {
     "data": {
      "text/plain": [
       "(206, 206)"
      ]
     },
     "execution_count": 81,
     "metadata": {},
     "output_type": "execute_result"
    }
   ],
   "source": [
    "las_vegas.dist.shape"
   ]
  },
  {
   "cell_type": "code",
   "execution_count": 82,
   "metadata": {},
   "outputs": [
    {
     "data": {
      "text/plain": [
       "(206, 5499)"
      ]
     },
     "execution_count": 82,
     "metadata": {},
     "output_type": "execute_result"
    }
   ],
   "source": [
    "las_vegas.tfidf_matrix.shape"
   ]
  },
  {
   "cell_type": "code",
   "execution_count": 65,
   "metadata": {},
   "outputs": [],
   "source": [
    "from sklearn.manifold import TSNE"
   ]
  },
  {
   "cell_type": "code",
   "execution_count": 66,
   "metadata": {},
   "outputs": [],
   "source": [
    "from sklearn.preprocessing import StandardScaler"
   ]
  },
  {
   "cell_type": "code",
   "execution_count": 67,
   "metadata": {},
   "outputs": [],
   "source": [
    "# standardize feature vectors"
   ]
  },
  {
   "cell_type": "code",
   "execution_count": 68,
   "metadata": {},
   "outputs": [],
   "source": [
    "standardscaler = StandardScaler()"
   ]
  },
  {
   "cell_type": "code",
   "execution_count": 85,
   "metadata": {},
   "outputs": [
    {
     "ename": "ValueError",
     "evalue": "Cannot center sparse matrices: pass `with_mean=False` instead. See docstring for motivation and alternatives.",
     "output_type": "error",
     "traceback": [
      "\u001b[0;31m---------------------------------------------------------------------------\u001b[0m",
      "\u001b[0;31mValueError\u001b[0m                                Traceback (most recent call last)",
      "\u001b[0;32m<ipython-input-85-dcff2b32fcd7>\u001b[0m in \u001b[0;36m<module>\u001b[0;34m()\u001b[0m\n\u001b[0;32m----> 1\u001b[0;31m \u001b[0mstd_distances\u001b[0m \u001b[0;34m=\u001b[0m \u001b[0mstandardscaler\u001b[0m\u001b[0;34m.\u001b[0m\u001b[0mfit_transform\u001b[0m\u001b[0;34m(\u001b[0m\u001b[0mlas_vegas\u001b[0m\u001b[0;34m.\u001b[0m\u001b[0mtfidf_matrix\u001b[0m\u001b[0;34m)\u001b[0m\u001b[0;34m\u001b[0m\u001b[0m\n\u001b[0m",
      "\u001b[0;32m~/anaconda3/lib/python3.6/site-packages/sklearn/base.py\u001b[0m in \u001b[0;36mfit_transform\u001b[0;34m(self, X, y, **fit_params)\u001b[0m\n\u001b[1;32m    515\u001b[0m         \u001b[0;32mif\u001b[0m \u001b[0my\u001b[0m \u001b[0;32mis\u001b[0m \u001b[0;32mNone\u001b[0m\u001b[0;34m:\u001b[0m\u001b[0;34m\u001b[0m\u001b[0m\n\u001b[1;32m    516\u001b[0m             \u001b[0;31m# fit method of arity 1 (unsupervised transformation)\u001b[0m\u001b[0;34m\u001b[0m\u001b[0;34m\u001b[0m\u001b[0m\n\u001b[0;32m--> 517\u001b[0;31m             \u001b[0;32mreturn\u001b[0m \u001b[0mself\u001b[0m\u001b[0;34m.\u001b[0m\u001b[0mfit\u001b[0m\u001b[0;34m(\u001b[0m\u001b[0mX\u001b[0m\u001b[0;34m,\u001b[0m \u001b[0;34m**\u001b[0m\u001b[0mfit_params\u001b[0m\u001b[0;34m)\u001b[0m\u001b[0;34m.\u001b[0m\u001b[0mtransform\u001b[0m\u001b[0;34m(\u001b[0m\u001b[0mX\u001b[0m\u001b[0;34m)\u001b[0m\u001b[0;34m\u001b[0m\u001b[0m\n\u001b[0m\u001b[1;32m    518\u001b[0m         \u001b[0;32melse\u001b[0m\u001b[0;34m:\u001b[0m\u001b[0;34m\u001b[0m\u001b[0m\n\u001b[1;32m    519\u001b[0m             \u001b[0;31m# fit method of arity 2 (supervised transformation)\u001b[0m\u001b[0;34m\u001b[0m\u001b[0;34m\u001b[0m\u001b[0m\n",
      "\u001b[0;32m~/anaconda3/lib/python3.6/site-packages/sklearn/preprocessing/data.py\u001b[0m in \u001b[0;36mfit\u001b[0;34m(self, X, y)\u001b[0m\n\u001b[1;32m    588\u001b[0m         \u001b[0;31m# Reset internal state before fitting\u001b[0m\u001b[0;34m\u001b[0m\u001b[0;34m\u001b[0m\u001b[0m\n\u001b[1;32m    589\u001b[0m         \u001b[0mself\u001b[0m\u001b[0;34m.\u001b[0m\u001b[0m_reset\u001b[0m\u001b[0;34m(\u001b[0m\u001b[0;34m)\u001b[0m\u001b[0;34m\u001b[0m\u001b[0m\n\u001b[0;32m--> 590\u001b[0;31m         \u001b[0;32mreturn\u001b[0m \u001b[0mself\u001b[0m\u001b[0;34m.\u001b[0m\u001b[0mpartial_fit\u001b[0m\u001b[0;34m(\u001b[0m\u001b[0mX\u001b[0m\u001b[0;34m,\u001b[0m \u001b[0my\u001b[0m\u001b[0;34m)\u001b[0m\u001b[0;34m\u001b[0m\u001b[0m\n\u001b[0m\u001b[1;32m    591\u001b[0m \u001b[0;34m\u001b[0m\u001b[0m\n\u001b[1;32m    592\u001b[0m     \u001b[0;32mdef\u001b[0m \u001b[0mpartial_fit\u001b[0m\u001b[0;34m(\u001b[0m\u001b[0mself\u001b[0m\u001b[0;34m,\u001b[0m \u001b[0mX\u001b[0m\u001b[0;34m,\u001b[0m \u001b[0my\u001b[0m\u001b[0;34m=\u001b[0m\u001b[0;32mNone\u001b[0m\u001b[0;34m)\u001b[0m\u001b[0;34m:\u001b[0m\u001b[0;34m\u001b[0m\u001b[0m\n",
      "\u001b[0;32m~/anaconda3/lib/python3.6/site-packages/sklearn/preprocessing/data.py\u001b[0m in \u001b[0;36mpartial_fit\u001b[0;34m(self, X, y)\u001b[0m\n\u001b[1;32m    619\u001b[0m             \u001b[0;32mif\u001b[0m \u001b[0mself\u001b[0m\u001b[0;34m.\u001b[0m\u001b[0mwith_mean\u001b[0m\u001b[0;34m:\u001b[0m\u001b[0;34m\u001b[0m\u001b[0m\n\u001b[1;32m    620\u001b[0m                 raise ValueError(\n\u001b[0;32m--> 621\u001b[0;31m                     \u001b[0;34m\"Cannot center sparse matrices: pass `with_mean=False` \"\u001b[0m\u001b[0;34m\u001b[0m\u001b[0m\n\u001b[0m\u001b[1;32m    622\u001b[0m                     \"instead. See docstring for motivation and alternatives.\")\n\u001b[1;32m    623\u001b[0m             \u001b[0;32mif\u001b[0m \u001b[0mself\u001b[0m\u001b[0;34m.\u001b[0m\u001b[0mwith_std\u001b[0m\u001b[0;34m:\u001b[0m\u001b[0;34m\u001b[0m\u001b[0m\n",
      "\u001b[0;31mValueError\u001b[0m: Cannot center sparse matrices: pass `with_mean=False` instead. See docstring for motivation and alternatives."
     ]
    }
   ],
   "source": [
    "std_distances = standardscaler.fit_transform(las_vegas.tfidf_matrix)"
   ]
  },
  {
   "cell_type": "code",
   "execution_count": 61,
   "metadata": {},
   "outputs": [
    {
     "data": {
      "text/plain": [
       "(206, 206)"
      ]
     },
     "execution_count": 61,
     "metadata": {},
     "output_type": "execute_result"
    }
   ],
   "source": [
    "std_distances = standardscaler.fit_transform(las_vegastfidf_matrix.values)"
   ]
  },
  {
   "cell_type": "code",
   "execution_count": 33,
   "metadata": {},
   "outputs": [],
   "source": [
    "# tnse"
   ]
  },
  {
   "cell_type": "code",
   "execution_count": 34,
   "metadata": {},
   "outputs": [],
   "source": [
    "tsne = TSNE(n_components=2, random_state=0)"
   ]
  },
  {
   "cell_type": "code",
   "execution_count": 35,
   "metadata": {},
   "outputs": [],
   "source": [
    "dist_test_2d = tsne.fit_transform(std_distances)"
   ]
  },
  {
   "cell_type": "code",
   "execution_count": 36,
   "metadata": {},
   "outputs": [],
   "source": [
    "# scatter plot with 5 classes"
   ]
  },
  {
   "cell_type": "code",
   "execution_count": 62,
   "metadata": {},
   "outputs": [
    {
     "ename": "KeyError",
     "evalue": "5",
     "output_type": "error",
     "traceback": [
      "\u001b[0;31m---------------------------------------------------------------------------\u001b[0m",
      "\u001b[0;31mKeyError\u001b[0m                                  Traceback (most recent call last)",
      "\u001b[0;32m<ipython-input-62-32a9bb2754e7>\u001b[0m in \u001b[0;36m<module>\u001b[0;34m()\u001b[0m\n\u001b[1;32m      4\u001b[0m \u001b[0;32mfor\u001b[0m \u001b[0midx\u001b[0m\u001b[0;34m,\u001b[0m \u001b[0mcl\u001b[0m \u001b[0;32min\u001b[0m \u001b[0menumerate\u001b[0m\u001b[0;34m(\u001b[0m\u001b[0mnp\u001b[0m\u001b[0;34m.\u001b[0m\u001b[0munique\u001b[0m\u001b[0;34m(\u001b[0m\u001b[0mdist_test_2d\u001b[0m\u001b[0;34m)\u001b[0m\u001b[0;34m)\u001b[0m\u001b[0;34m:\u001b[0m\u001b[0;34m\u001b[0m\u001b[0m\n\u001b[1;32m      5\u001b[0m     \u001b[0mcl\u001b[0m \u001b[0;34m=\u001b[0m \u001b[0mint\u001b[0m\u001b[0;34m(\u001b[0m\u001b[0mcl\u001b[0m\u001b[0;34m)\u001b[0m\u001b[0;34m\u001b[0m\u001b[0m\n\u001b[0;32m----> 6\u001b[0;31m     plt.scatter(x=dist_test_2d[cl, 0], y=dist_test_2d[cl, 1], c=color_map[idx],\n\u001b[0m\u001b[1;32m      7\u001b[0m                marker=markers[idx], label=cl)\n\u001b[1;32m      8\u001b[0m \u001b[0;34m(\u001b[0m\u001b[0;34m\"\"\u001b[0m\u001b[0;34m)\u001b[0m\u001b[0;34m\u001b[0m\u001b[0m\n",
      "\u001b[0;31mKeyError\u001b[0m: 5"
     ]
    },
    {
     "data": {
      "image/png": "[encoded data removed]",
      "text/plain": [
       "<matplotlib.figure.Figure at 0x1a9208b7f0>"
      ]
     },
     "metadata": {},
     "output_type": "display_data"
    }
   ],
   "source": [
    "markers = ('s', 'd', 'o', '^', 'v')\n",
    "color_map = {0:'red', 1:'blue', 2:'lightgreen', 3:'purple' , 4:'cyan'}\n",
    "plt.figure()\n",
    "for idx, cl in enumerate(np.unique(dist_test_2d)):\n",
    "    cl = int(cl)\n",
    "    plt.scatter(x=dist_test_2d[cl, 0], y=dist_test_2d[cl, 1], c=color_map[idx],\n",
    "               marker=markers[idx], label=cl)\n",
    ";"
   ]
  },
  {
   "cell_type": "code",
   "execution_count": 80,
   "metadata": {},
   "outputs": [
    {
     "data": {
      "text/plain": [
       "(412,)"
      ]
     },
     "execution_count": 80,
     "metadata": {},
     "output_type": "execute_result"
    }
   ],
   "source": [
    "np.unique(dist_test_2d).shape"
   ]
  },
  {
   "cell_type": "code",
   "execution_count": 78,
   "metadata": {},
   "outputs": [
    {
     "data": {
      "text/html": [
       "<div>\n",
       "<style>\n",
       "    .dataframe thead tr:only-child th {\n",
       "        text-align: right;\n",
       "    }\n",
       "\n",
       "    .dataframe thead th {\n",
       "        text-align: left;\n",
       "    }\n",
       "\n",
       "    .dataframe tbody tr th {\n",
       "        vertical-align: top;\n",
       "    }\n",
       "</style>\n",
       "<table border=\"1\" class=\"dataframe\">\n",
       "  <thead>\n",
       "    <tr style=\"text-align: right;\">\n",
       "      <th></th>\n",
       "      <th>words</th>\n",
       "    </tr>\n",
       "  </thead>\n",
       "  <tbody>\n",
       "    <tr>\n",
       "      <th>we</th>\n",
       "      <td>we</td>\n",
       "    </tr>\n",
       "    <tr>\n",
       "      <th>stop</th>\n",
       "      <td>stopped</td>\n",
       "    </tr>\n",
       "    <tr>\n",
       "      <th>by</th>\n",
       "      <td>by</td>\n",
       "    </tr>\n",
       "    <tr>\n",
       "      <th>the</th>\n",
       "      <td>the</td>\n",
       "    </tr>\n",
       "    <tr>\n",
       "      <th>resort</th>\n",
       "      <td>resort</td>\n",
       "    </tr>\n",
       "  </tbody>\n",
       "</table>\n",
       "</div>"
      ],
      "text/plain": [
       "          words\n",
       "we           we\n",
       "stop    stopped\n",
       "by           by\n",
       "the         the\n",
       "resort   resort"
      ]
     },
     "execution_count": 78,
     "metadata": {},
     "output_type": "execute_result"
    }
   ],
   "source": [
    "las_vegas.hotel_vocab_frame.head()"
   ]
  },
  {
   "cell_type": "code",
   "execution_count": null,
   "metadata": {},
   "outputs": [],
   "source": []
  }
 ],
 "metadata": {
  "kernelspec": {
   "display_name": "Python 3",
   "language": "python",
   "name": "python3"
  },
  "language_info": {
   "codemirror_mode": {
    "name": "ipython",
    "version": 3
   },
   "file_extension": ".py",
   "mimetype": "text/x-python",
   "name": "python",
   "nbconvert_exporter": "python",
   "pygments_lexer": "ipython3",
   "version": "3.6.4"
  }
 },
 "nbformat": 4,
 "nbformat_minor": 2
}
