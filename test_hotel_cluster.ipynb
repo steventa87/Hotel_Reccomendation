{
 "cells": [
  {
   "cell_type": "code",
   "execution_count": 2,
   "metadata": {},
   "outputs": [],
   "source": [
    "from hotel_map import Hotel_Map\n",
    "from hotel_tfidf import Hotel_Tfidf\n",
    "from hotel_cluster import Hotel_Cluster\n",
    "from sklearn.feature_extraction.text import TfidfVectorizer\n",
    "from sklearn.metrics.pairwise import cosine_similarity\n",
    "from sklearn.metrics.pairwise import linear_kernel\n",
    "import pandas as pd\n",
    "import numpy as np\n",
    "import datetime\n",
    "import matplotlib.pyplot as plt\n",
    "%matplotlib inline"
   ]
  },
  {
   "cell_type": "markdown",
   "metadata": {},
   "source": [
    "# Las Vegas"
   ]
  },
  {
   "cell_type": "code",
   "execution_count": 26,
   "metadata": {},
   "outputs": [
    {
     "name": "stdout",
     "output_type": "stream",
     "text": [
      "2018-04-26 18:04:27.087660\n"
     ]
    }
   ],
   "source": [
    "print(datetime.datetime.utcnow())"
   ]
  },
  {
   "cell_type": "code",
   "execution_count": 27,
   "metadata": {},
   "outputs": [],
   "source": [
    "las_vegas = Hotel_Cluster('data/las-vegas/')"
   ]
  },
  {
   "cell_type": "code",
   "execution_count": 28,
   "metadata": {},
   "outputs": [
    {
     "name": "stdout",
     "output_type": "stream",
     "text": [
      "There are 205 hotels in the dataset.\n",
      "Total stemmed and tokenized words: 5319452\n"
     ]
    }
   ],
   "source": [
    "las_vegas.make_map()"
   ]
  },
  {
   "cell_type": "code",
   "execution_count": 29,
   "metadata": {},
   "outputs": [
    {
     "name": "stdout",
     "output_type": "stream",
     "text": [
      "tfidf shape: (205, 5675)\n"
     ]
    }
   ],
   "source": [
    "las_vegas.vectorize()"
   ]
  },
  {
   "cell_type": "code",
   "execution_count": 30,
   "metadata": {},
   "outputs": [
    {
     "name": "stdout",
     "output_type": "stream",
     "text": [
      "Fitting K-means\n",
      "Top terms per cluster:\n",
      "\n",
      "Cluster 0 words: b'motel', b'dirty', b'nan', b'cheap', b'budget', b'nan', b'carpet', b'charging', b'phone', b'nan', b'airport', b'refund', b'stains', b'worst', b'wall', b'water', b'roach', b'waited', b'office', b'inn',\n",
      "\n",
      "Cluster 0 hotels: usa_nevada_las-vegas_downtowner_motel, usa_nevada_las-vegas_budget_suites_of_america_north_rancho_drive, usa_nevada_las-vegas_hotel32_at_monte_carlo, usa_nevada_las-vegas_wild_wild_west_gambling_hall_and_hotel, usa_nevada_las-vegas_motel_6_las_vegas_tropicana, usa_nevada_las-vegas_extended_stayamerica_las_vegas_boulder_hwy, usa_nevada_las-vegas_best_western_nellis_motor_inn, usa_nevada_las-vegas_siena_suites, usa_nevada_las-vegas_super_8_las_vegas, usa_nevada_las-vegas_motel_6, usa_nevada_las-vegas_primm_valley_resort_hotel_las_vegas, usa_nevada_las-vegas_americas_best_value_inn_las_vegas, usa_nevada_las-vegas_siegel_slots_and_suites, usa_nevada_las-vegas_best_western_main_street_inn, usa_nevada_las-vegas_knights_inn, usa_nevada_las-vegas_the_mansion_at_mgm_grand, usa_nevada_las-vegas_sportsman_s_royal_manor, usa_nevada_las-vegas_budget_suites_of_america_tropicana_i_15, usa_nevada_las-vegas_sahara_westwood_hotel, usa_nevada_las-vegas_travelodge_ambassador_strip_inn, usa_nevada_las-vegas_atrium_suites_hotel_las_vegas, usa_nevada_las-vegas_budget_suites_of_america_las_vegas, usa_nevada_las-vegas_howard_johnson_las_vegas_strip, usa_nevada_las-vegas_clarion_emerald_springs, usa_nevada_las-vegas_aztec_inn, usa_nevada_las-vegas_tod_motor_motel, .DS_Store, usa_nevada_las-vegas_rodeway_inn_convention_center, usa_nevada_las-vegas_extended_stayamerica_las_vegas_valley_view, usa_nevada_las-vegas_super_8_las_vegas_boulder_highway, usa_nevada_las-vegas_the_suites, usa_nevada_las-vegas_viva_las_vegas_villas, usa_nevada_las-vegas_emerald_suites_tropicana, usa_nevada_las-vegas_holiday_motel, usa_nevada_las-vegas_best_western_parkview_inn, usa_nevada_las-vegas_aruba_hotel, usa_nevada_las-vegas_americana_5, usa_nevada_las-vegas_somerset_house_motel, usa_nevada_las-vegas_crestwood_suites_las_vegas_flamingo, usa_nevada_las-vegas_motel_6_las_vegas_i_15, usa_nevada_las-vegas_super_8_las_vegas_nellis_afb, usa_nevada_las-vegas_motel_6_las_vegas_boulder_highway, usa_nevada_las-vegas_travelsuites_inn, usa_nevada_las-vegas_super_8_motel_las_vegas_downtown, usa_nevada_las-vegas_a_fishers_inn, usa_nevada_las-vegas_knights_inn_las_vegas, usa_nevada_las-vegas_crestwood_suites_las_vegas_boulevard, usa_nevada_las-vegas_rodeway_inn, usa_nevada_las-vegas_malibu_bay_suites, usa_nevada_las-vegas_golden_palm_hotel, usa_nevada_las-vegas_bel_aire_west, usa_nevada_las-vegas_blair_house_suites, usa_nevada_las-vegas_town_and_country_manor_iii, usa_nevada_las-vegas_americas_best_value_inn, usa_nevada_las-vegas_econo_lodge, usa_nevada_las-vegas_the_suites_boulder_strip, usa_nevada_las-vegas_las_vegas_south_strip_travelodge, usa_nevada_las-vegas_homestead_studio_suites_las_vegas_midtown, usa_nevada_las-vegas_extended_stay_deluxe_las_vegas_east_flamingo, usa_nevada_las-vegas_manor_suites, usa_nevada_las-vegas_budget_suites_of_america_wynn, usa_nevada_las-vegas_budget_suites_of_america_stardust_road, usa_nevada_las-vegas_jerry_s_nugget,\n",
      "\n",
      "Cluster 1 words: b'resort', b'bedroom', b'timeshares', b'kitchen', b'shuttle', b'unit', b'construction', b'condos', b'lovely', b'tower', b'enjoyed', b'club', b'building', b'live', b'groceries', b'tubs', b'time', b'live', b'amp', b'very',\n",
      "\n",
      "Cluster 1 hotels: usa_nevada_las-vegas_worldmark_tropicana, usa_nevada_las-vegas_club_de_soleil, usa_nevada_las-vegas_desert_rose_resort, usa_nevada_las-vegas_summer_bay_resort_las_vegas, usa_nevada_las-vegas_wyndham_grand_desert, usa_nevada_las-vegas_summer_bay_resorts_las_vegas_desert_club, usa_nevada_las-vegas_tahiti_vacation_club, usa_nevada_las-vegas_tahiti_village, usa_nevada_las-vegas_meridian_luxury_suites, usa_nevada_las-vegas_desert_paradise_resort, usa_nevada_las-vegas_jockey_club, usa_nevada_las-vegas_marriott_s_grand_chateau, usa_nevada_las-vegas_grandview_at_las_vegas, usa_nevada_las-vegas_las_vegas_club_36, usa_nevada_las-vegas_the_carriage_house, usa_nevada_las-vegas_hilton_grand_vacations_suites_on_the_las_vegas_strip, usa_nevada_las-vegas_cancun_resort, usa_nevada_las-vegas_cliffs_at_peace_canyon, usa_nevada_las-vegas_polo_towers,\n",
      "\n",
      "Cluster 2 words: b'view', b'lovely', b'spa', b'beautiful', b'waited', b'bar', b'buffet', b'drink', b'enjoyed', b'wynn', b'huge', b'charging', b'resort', b'mgm', b'amp', b'bellagio', b'palms', b'water', b'amazingly', b'mandalay',\n",
      "\n",
      "Cluster 2 hotels: usa_nevada_las-vegas_jw_marriott_las_vegas_resort_spa_golf, usa_nevada_las-vegas_signature_at_mgm_grand, usa_nevada_las-vegas_renaissance_las_vegas_hotel, usa_nevada_las-vegas_alexis_park_resort, usa_nevada_las-vegas_the_resort_on_mount_charleston, usa_nevada_las-vegas_mirage_hotel_casino, usa_nevada_las-vegas_silverton_hotel_and_casino, usa_nevada_las-vegas_treasure_island_ti_hotel_casino, usa_nevada_las-vegas_the_palazzo_resort_hotel_casino, usa_nevada_las-vegas_wynn_las_vegas, usa_nevada_las-vegas_skylofts_at_mgm_grand, usa_nevada_las-vegas_suncoast_hotel_and_casino, usa_nevada_las-vegas_artisan_hotel, usa_nevada_las-vegas_four_seasons_hotel_las_vegas, usa_nevada_las-vegas_thehotel_at_mandalay_bay, usa_nevada_las-vegas_bellagio_las_vegas, usa_nevada_las-vegas_planet_hollywood_resort_casino, usa_nevada_las-vegas_venetian_resort_hotel_casino, usa_nevada_las-vegas_palms_place_hotel_spa, usa_nevada_las-vegas_the_palms_casino_hotel, usa_nevada_las-vegas_tuscany_suites_casino, usa_nevada_las-vegas_the_westin_casuarina_las_vegas_hotel_casino_spa, usa_nevada_las-vegas_encore_at_wynn_las_vegas, usa_nevada_las-vegas_south_point_hotel_casino_and_spa, usa_nevada_las-vegas_hard_rock_hotel_and_casino, usa_nevada_las-vegas_platinum_hotel_and_spa, usa_nevada_las-vegas_paris_las_vegas_hotel, usa_nevada_las-vegas_red_rock_casino_resort_spa, usa_nevada_las-vegas_mandalay_bay_resort_casino, usa_nevada_las-vegas_mgm_grand_hotel_and_casino, usa_nevada_las-vegas_trump_international_hotel_tower_las_vegas,\n",
      "\n",
      "Cluster 3 words: b'tower', b'buffet', b'fremont', b'view', b'downtown', b'play', b'elevator', b'slot', b'smoking', b'table', b'waited', b'cheap', b'amp', b'drink', b'lovely', b'gamble', b'always', b'enjoyed', b'pretty', b'upgraded',\n",
      "\n",
      "Cluster 3 hotels: usa_nevada_las-vegas_whiskey_pete_s_casino_and_hotel, usa_nevada_las-vegas_gold_spike_hotel_and_casino, usa_nevada_las-vegas_monte_carlo_resort_casino, usa_nevada_las-vegas_gold_coast_hotel_and_casino, usa_nevada_las-vegas_sahara_hotel_casino, usa_nevada_las-vegas_binion_s_horseshoe_hotel_casino_las_vegas, usa_nevada_las-vegas_bally_s_las_vegas_hotel_casino, usa_nevada_las-vegas_caesars_palace_classic_hotel, usa_nevada_las-vegas_arizona_charlie_s_boulder_casino_hotel, usa_nevada_las-vegas_bill_s_gamblin_hall_saloon, usa_nevada_las-vegas_fitzgeralds_casino_hotel, usa_nevada_las-vegas_arizona_charlie_s_decatur, usa_nevada_las-vegas_luxor_las_vegas, usa_nevada_las-vegas_las_vegas_hilton, usa_nevada_las-vegas_plaza_hotel_casino, usa_nevada_las-vegas_riviera_hotel_casino, usa_nevada_las-vegas_california_hotel, usa_nevada_las-vegas_imperial_palace_hotel_casino, usa_nevada_las-vegas_ogden_house_motel, usa_nevada_las-vegas_royal_vacation_suites_hotel_las_vegas, usa_nevada_las-vegas_tropicana_inn, usa_nevada_las-vegas_fiesta_hotel_and_casino, usa_nevada_las-vegas_sam_s_town_hotel_and_gambling_hall, usa_nevada_las-vegas_golden_gate_hotel_casino, usa_nevada_las-vegas_main_street_station_hotel_casino, usa_nevada_las-vegas_four_queens_hotel_and_casino, usa_nevada_las-vegas_flamingo_hotel_casino, usa_nevada_las-vegas_eastside_cannery_casino_hotel, usa_nevada_las-vegas_el_cortez_hotel_casino, usa_nevada_las-vegas_fremont_hotel_and_casino, usa_nevada_las-vegas_casino_royale_and_hotel, usa_nevada_las-vegas_golden_nugget, usa_nevada_las-vegas_tropicana_resort_and_casino, usa_nevada_las-vegas_western_hotel_casino, usa_nevada_las-vegas_rio_suite_hotel_and_casino, usa_nevada_las-vegas_hooters_casino_hotel, usa_nevada_las-vegas_new_york_new_york_hotel_and_casino, usa_nevada_las-vegas_circus_circus_manor_motor_lodge, usa_nevada_las-vegas_harrah_s_las_vegas_casino_hotel, usa_nevada_las-vegas_greek_isles_hotel_casino, usa_nevada_las-vegas_terrible_s_hotel_casino, usa_nevada_las-vegas_texas_station_gambling_hall_and_hotel, usa_nevada_las-vegas_stratosphere_hotel_casino_and_tower, usa_nevada_las-vegas_santa_fe_station_hotel, usa_nevada_las-vegas_las_vegas_club_casino_hotel, usa_nevada_las-vegas_circus_circus_hotel_casino_las_vegas, usa_nevada_las-vegas_el_cortez_cabana_suites, usa_nevada_las-vegas_excalibur_hotel_casino, usa_nevada_las-vegas_palace_station,\n",
      "\n",
      "Cluster 4 words: b'shuttle', b'airport', b'inn', b'center', b'kitchen', b'bedroom', b'hilton', b'waffle', b'amp', b'noise', b'lovely', b'convention', b'driving', b'very', b'convention', b'marriott', b'eggs', b'excellent', b'cereal', b'monorail',\n",
      "\n",
      "Cluster 4 hotels: usa_nevada_las-vegas_best_western_mardi_gras_hotel_casino, usa_nevada_las-vegas_homewood_suites_las_vegas_airport, usa_nevada_las-vegas_la_quinta_inn_las_vegas_airport, usa_nevada_las-vegas_marriott_suites_las_vegas, usa_nevada_las-vegas_best_western_mccarran_inn, usa_nevada_las-vegas_candlewood_suites_las_vegas, usa_nevada_las-vegas_fairfield_inn_suites_las_vegas_south, usa_nevada_las-vegas_residence_inn_las_vegas_hughes_center, usa_nevada_las-vegas_hilton_garden_inn_las_vegas_strip_south, usa_nevada_las-vegas_element_by_westin_las_vegas_summerlin, usa_nevada_las-vegas_holiday_inn_express_hotel_and_suites_las_vegas_215_beltway, usa_nevada_las-vegas_staybridge_suites_las_vegas, usa_nevada_las-vegas_la_quinta_inn_and_suites_tropicana, usa_nevada_las-vegas_hilton_grand_vacation_suites_las_vegas_convention_center, usa_nevada_las-vegas_comfort_inn_suites_las_vegas, usa_nevada_las-vegas_holiday_inn_express_the_lakes_las_vegas, usa_nevada_las-vegas_hampton_inn_suites_las_vegas_airport, usa_nevada_las-vegas_emerald_suites, usa_nevada_las-vegas_courtyard_by_marriott_las_vegas_convention_center, usa_nevada_las-vegas_hampton_inn_las_vegas_summerlin, usa_nevada_las-vegas_comfort_inn, usa_nevada_las-vegas_embassy_suites_las_vegas_airport, usa_nevada_las-vegas_embassy_suites_hotel_convention_center_paradise_road_las_vegas, usa_nevada_las-vegas_hampton_inn_tropicana, usa_nevada_las-vegas_holiday_inn_express_las_vegas_nellis, usa_nevada_las-vegas_hilton_grand_vacations_club_at_the_flamingo_las_vegas, usa_nevada_las-vegas_emerald_suites_cameron, usa_nevada_las-vegas_falcon_ridge_hotel, usa_nevada_las-vegas_holiday_inn_express_las_vegas_south, usa_nevada_las-vegas_la_quinta_inn_nellis, usa_nevada_las-vegas_courtyard_by_marriott_las_vegas_summerlin, usa_nevada_las-vegas_springhill_suites_las_vegas_convention_center, usa_nevada_las-vegas_doubletree_club_hotel_las_vegas_airport, usa_nevada_las-vegas_wingate_by_wyndham_henderson, usa_nevada_las-vegas_la_quinta_inn_and_suites_las_vegas_west, usa_nevada_las-vegas_residence_inn_las_vegas_convention_center, usa_nevada_las-vegas_residence_inn_las_vegas_south, usa_nevada_las-vegas_fairfield_inn_las_vegas_airport, usa_nevada_las-vegas_hampton_inn_suites_las_vegas_west_summerlin, usa_nevada_las-vegas_courtyard_by_marriott_las_vegas_south, usa_nevada_las-vegas_la_quinta_summerlin_tech, usa_nevada_las-vegas_microtel_inn_suites_las_vegas, usa_nevada_las-vegas_hyatt_place_las_vegas,\n",
      "\n"
     ]
    }
   ],
   "source": [
    "las_vegas.get_clusters()"
   ]
  },
  {
   "cell_type": "code",
   "execution_count": 31,
   "metadata": {},
   "outputs": [
    {
     "name": "stdout",
     "output_type": "stream",
     "text": [
      "2018-04-26 18:15:16.784851\n"
     ]
    }
   ],
   "source": [
    "print(datetime.datetime.utcnow())"
   ]
  },
  {
   "cell_type": "markdown",
   "metadata": {},
   "source": [
    "# San Francisco"
   ]
  },
  {
   "cell_type": "code",
   "execution_count": 3,
   "metadata": {},
   "outputs": [
    {
     "name": "stdout",
     "output_type": "stream",
     "text": [
      "2018-04-27 17:29:18.681691\n"
     ]
    }
   ],
   "source": [
    "print(datetime.datetime.utcnow())"
   ]
  },
  {
   "cell_type": "code",
   "execution_count": 4,
   "metadata": {},
   "outputs": [],
   "source": [
    "san_francisco = Hotel_Cluster('data/san-francisco/')"
   ]
  },
  {
   "cell_type": "code",
   "execution_count": 34,
   "metadata": {},
   "outputs": [
    {
     "name": "stdout",
     "output_type": "stream",
     "text": [
      "There are 212 hotels in the dataset.\n",
      "Total stemmed and tokenized words: 4729386\n"
     ]
    }
   ],
   "source": [
    "san_francisco.make_map()"
   ]
  },
  {
   "cell_type": "code",
   "execution_count": 35,
   "metadata": {},
   "outputs": [
    {
     "name": "stdout",
     "output_type": "stream",
     "text": [
      "tfidf shape: (212, 5676)\n"
     ]
    }
   ],
   "source": [
    "san_francisco.vectorize()"
   ]
  },
  {
   "cell_type": "code",
   "execution_count": 36,
   "metadata": {},
   "outputs": [
    {
     "name": "stdout",
     "output_type": "stream",
     "text": [
      "Fitting K-means\n",
      "Top terms per cluster:\n",
      "\n",
      "Cluster 0 words: b'fisherman', b\"'s\", b'fisherman', b'cable', b'inn', b'piers', b'holiday', b'holiday', b'beach', b'alcatraz', b'columbus', b'concierge', b'hilton', b'north', b'north', b'fisherman', b'tours', b'pool', b'courtyard', b'sheraton',\n",
      "\n",
      "Cluster 0 hotels: usa_san francisco_sw_hotel, usa_san francisco_hilton_san_francisco_financial_district, usa_san francisco_holiday_inn_san_francisco_fishermans_wharf, usa_san francisco_hyatt_at_fisherman_s_wharf, usa_san francisco_hilton_san_francisco_fisherman_s_wharf, usa_san francisco_best_western_tuscan_inn_fisherman_s_wharf_a_kimpton_hotel, usa_san francisco_the_wharf_inn, usa_san francisco_columbus_motor_inn, usa_san francisco_bayside_inn_at_the_wharf_pacific_hotels, usa_san francisco_holiday_inn_san_francisco_golden_gateway, usa_san francisco_suites_at_fisherman_s_wharf, usa_san francisco_hotel_boheme, usa_san francisco_sheraton_fisherman_s_wharf_hotel, usa_san francisco_radisson_hotel_fisherman_s_wharf, usa_san francisco_holiday_inn_express_san_francisco_fisherman_s_wharf, usa_san francisco_courtyard_by_marriott_fisherman_s_wharf, usa_san francisco_marriott_san_francisco_fisherman_s_wharf, usa_san francisco_argonaut_hotel_a_kimpton_hotel,\n",
      "\n",
      "Cluster 1 words: b'wine', b'cable', b'suite', b'powell', b'bart', b'concierge', b'beautiful', b'valet', b'king', b'room', b'complimentary', b'nan', b'chinatown', b'charms', b'nan', b'upgraded', b'boutique', b'spacious', b'very', b'dinner',\n",
      "\n",
      "Cluster 1 hotels: usa_san francisco_hotel_palomar_san_francisco_a_kimpton_hotel, usa_san francisco_the_queen_anne_hotel, usa_san francisco_hotel_carlton_a_joie_de_vivre_hotel, usa_san francisco_hilton_san_francisco_union_square, usa_san francisco_the_kensington_park_hotel, usa_san francisco_hotel_monaco_san_francisco_a_kimpton_hotel, usa_san francisco_baldwin_hotel, usa_san francisco_hotel_mayflower, usa_san francisco_hotel_drisco, usa_san francisco_executive_hotel_vintage_court, usa_san francisco_hotel_triton_a_kimpton_hotel, usa_san francisco_marines_memorial_club_hotel, usa_san francisco_andrews_hotel, usa_san francisco_campton_place_hotel, usa_san francisco_the_westin_st_francis, usa_san francisco_the_orchard_hotel, usa_san francisco_larkspur_hotel_union_square, usa_san francisco_king_george_hotel, usa_san francisco_hotel_cosmo, usa_san francisco_hotel_union_square, usa_san francisco_clift_hotel_san_francisco, usa_san francisco_serrano_hotel_a_kimpton_hotel, usa_san francisco_the_stratford, usa_san francisco_warwick_san_francisco_hotel, usa_san francisco_prescott_hotel_a_kimpton_hotel, usa_san francisco_petite_auberge, usa_san francisco_inn_at_the_opera, usa_san francisco_white_swan_inn, usa_san francisco_hotel_adagio, usa_san francisco_westin_san_francisco_market_street, usa_san francisco_orchard_garden_hotel, usa_san francisco_san_francisco_marriott_marquis, usa_san francisco_hotel_fusion, usa_san francisco_parc_55_hotel, usa_san francisco_beresford_arms, usa_san francisco_san_francisco_marriott_union_square, usa_san francisco_omni_san_francisco_hotel, usa_san francisco_cornell_hotel_de_france, usa_san francisco_the_archbishop_s_mansion, usa_san francisco_jw_marriott_san_francisco_union_square, usa_san francisco_hotel_beresford, usa_san francisco_villa_florence_hotel_union_square_a_larkspur_collection_hotel, usa_san francisco_the_donatello_hotel, usa_san francisco_hotel_nikko_san_francisco, usa_san francisco_hotel_rex, usa_san francisco_chancellor_hotel_on_union_square, usa_san francisco_hotel_abri_union_square_a_larkspur_collection_hotel, usa_san francisco_hotel_diva, usa_san francisco_hotel_kabuki, usa_san francisco_the_mosser, usa_san francisco_hotel_majestic, usa_san francisco_best_western_the_hotel_california, usa_san francisco_galleria_park, usa_san francisco_the_inn_at_union_square, usa_san francisco_handlery_union_square_hotel, usa_san francisco_powell_hotel, usa_san francisco_sir_francis_drake_hotel_a_kimpton_hotel,\n",
      "\n",
      "Cluster 2 words: b'bay', b'hill', b'concierge', b'club', b'suite', b'beautiful', b'cable', b'nob', b'nob', b'court', b'fairmont', b'ferry', b'pool', b'embarcadero', b'hyatt', b'upgraded', b'season', b'ferry', b'spa', b'bridge',\n",
      "\n",
      "Cluster 2 hotels: usa_san francisco_steinhart, usa_san francisco_hotel_vitale, usa_san francisco_fairmont_heritage_place_ghirardelli_square, usa_san francisco_intercontinental_san_francisco, usa_san francisco_st_regis_hotel_san_francisco, usa_san francisco_courtyard_san_francisco_downtown, usa_san francisco_grosvenor_suites, usa_san francisco_nob_hill_hotel, usa_san francisco_jackson_court_san_francisco, usa_san francisco_the_huntington_hotel_nob_hill_spa, usa_san francisco_w_san_francisco, usa_san francisco_club_quarters_san_francisco, usa_san francisco_university_club, usa_san francisco_hyatt_regency_san_francisco, usa_san francisco_the_fairmont_san_francisco, usa_san francisco_mandarin_oriental, usa_san francisco_four_seasons_hotel_san_francisco, usa_san francisco_intercontinental_mark_hopkins_san_francisco, usa_san francisco_grand_hyatt_san_francisco, usa_san francisco_palace_hotel, usa_san francisco_renaissance_stanford_court, usa_san francisco_the_ritz_carlton, usa_san francisco_harbor_court_hotel_a_kimpton_hotel, usa_san francisco_hotel_griffon, usa_san francisco_le_meridien_san_francisco,\n",
      "\n",
      "Cluster 3 words: b'homeless', b'nan', b'nan', b'market', b'homeless', b'dirty', b'bart', b'bugs', b'inn', b'tenderloin', b'sheets', b'hostels', b'sharing', b'cable', b'guys', b'motel', b'continental', b'centrally', b'bed', b'paintings',\n",
      "\n",
      "Cluster 3 hotels: usa_san francisco_civic_center_inn, usa_san francisco_adante_hotel, usa_san francisco_the_good_hotel, usa_san francisco_verona, usa_san francisco_hotel_des_arts, usa_san francisco_the_metro_hotel, usa_san francisco_layne_hotel, usa_san francisco_the_hotel_tropicana, usa_san francisco_hotel_frank, usa_san francisco_hotel_mark_twain, usa_san francisco_hotel_north_beach, usa_san francisco_spaulding_hotel, usa_san francisco_the_dakota_hotel, usa_san francisco_renoir_hotel, usa_san francisco_san_francisco_days_inn_downtown_civic_center_area, usa_san francisco_mithila, usa_san francisco_aida_hotel, usa_san francisco_twin_peaks_hotel, usa_san francisco_ansonia_abby_hotel, usa_san francisco_union_square_plaza_hotel, usa_san francisco_bay_bridge_inn, usa_san francisco_carl_hotel, usa_san francisco_halcyon_hotel, usa_san francisco_rodeway_inn_civic_center, usa_san francisco_best_western_hotel_tomo, usa_san francisco_knights_inn_downtown_san_francisco, usa_san francisco_the_grant_hotel, usa_san francisco_the_embassy_hotel, usa_san francisco_pontiac_hotel, usa_san francisco_edwardian_san_francisco_hotel, usa_san francisco_alexis_park_san_francisco, usa_san francisco_phoenix_hotel, usa_san francisco_best_western_carriage_inn, usa_san francisco_alexander_inn, usa_san francisco_best_western_civic_center_motor_inn, usa_san francisco_hotel_bijou, usa_san francisco_harcourt_hotel, usa_san francisco_hotel_metropolis, usa_san francisco_heritage_marina_hotel, usa_san francisco_encore_express_hotel, usa_san francisco_the_gaylord, usa_san francisco_oasis_inn, usa_san francisco_cathedral_hill_hotel, usa_san francisco_holiday_inn_civic_center_san_francisco, usa_san francisco_cova_hotel, usa_san francisco_crescent_san_francisco, usa_san francisco_best_western_americania, usa_san francisco_vagabond_inn_san_francisco_civic_center, usa_san francisco_the_opal_san_francisco, usa_san francisco_stanyan_park_hotel, usa_san francisco_americas_best_value_inn_suites_union_square, usa_san francisco_sonoma_inn, usa_san francisco_archstone_south_market, usa_san francisco_edward_ii_inn_and_suites, usa_san francisco_astoria_hotel, usa_san francisco_the_herbert_hotel, usa_san francisco_americas_best_value_inn_suites_soma, usa_san francisco_travelodge_central_san_francisco_hotel, usa_san francisco_touchstone_hotel, usa_san francisco_hotel_whitcomb, usa_san francisco_good_nite_inn_san_francisco_airport, usa_san francisco_abigail_hotel, usa_san francisco_park_hotel, usa_san francisco_hotel_milano, usa_san francisco_grant_plaza_hotel, usa_san francisco_fitzgerald_hotel_union_square, usa_san francisco_taylor_hotel, usa_san francisco_olympic_hotel, usa_san francisco_hotel_vertigo, usa_san francisco_beck_s_motor_lodge, usa_san francisco_monarch_hotel,\n",
      "\n",
      "Cluster 4 words: b'motel', b'inn', b'free', b'lombard', b'marina', b'lombard', b'motor', b'golden', b'golden', b'gate', b'fisherman', b'ocean', b'bridge', b\"'s\", b'fisherman', b'nan', b'beach', b'gate', b'golden', b'parking',\n",
      "\n",
      "Cluster 4 hotels: usa_san francisco_surf_motel, usa_san francisco_hotel_del_sol, usa_san francisco_great_highway_motor_inn, usa_san francisco_americas_best_value_inn_golden_gate, usa_san francisco_ocean_park_motel, usa_san francisco_beach_motel, usa_san francisco_super_8_san_francisco_fisherman_s_wharf, usa_san francisco_travelodge_golden_gate_san_francisco, usa_san francisco_geary_parkway_motel, usa_san francisco_alpha_inn_and_suites_san_francisco, usa_san francisco_laurel_inn, usa_san francisco_marina_inn, usa_san francisco_marina_motel, usa_san francisco_san_francisco_at_the_presidio_travelodge, usa_san francisco_castle_inn, usa_san francisco_greenwich_inn, usa_san francisco_ramada_limited_san_francisco, usa_san francisco_comfort_inn_by_the_bay, usa_san francisco_francisco_bay_inn, usa_san francisco_oceanview_motel, usa_san francisco_rodeway_inn_downtown, usa_san francisco_seal_rock_inn, usa_san francisco_lombard_motor_inn, usa_san francisco_motel_6_san_francisco_downtown, usa_san francisco_chelsea_motor_inn, usa_san francisco_nob_hill_motor_inn, usa_san francisco_broadway_manor_inn, usa_san francisco_coventry_motor_inn, usa_san francisco_mission_inn, usa_san francisco_cow_hollow_motor_inn_and_suites, usa_san francisco_star_motel, usa_san francisco_redwood_inn, usa_san francisco_capri_motel, usa_san francisco_town_house, usa_san francisco_la_luna_inn, usa_san francisco_presidio_inn_suites, usa_san francisco_roberts_at_the_beach_motel, usa_san francisco_buena_vista_motor_inn, usa_san francisco_days_inn_lombard_street, usa_san francisco_america_s_best_inn_san_francisco, usa_san francisco_royal_pacific_motor_inn,\n",
      "\n"
     ]
    }
   ],
   "source": [
    "san_francisco.get_clusters()"
   ]
  },
  {
   "cell_type": "code",
   "execution_count": 37,
   "metadata": {},
   "outputs": [
    {
     "name": "stdout",
     "output_type": "stream",
     "text": [
      "2018-04-26 18:29:45.506335\n"
     ]
    }
   ],
   "source": [
    "print(datetime.datetime.utcnow())"
   ]
  },
  {
   "cell_type": "markdown",
   "metadata": {},
   "source": [
    "# plot tsne"
   ]
  },
  {
   "cell_type": "code",
   "execution_count": 81,
   "metadata": {},
   "outputs": [
    {
     "data": {
      "text/plain": [
       "(206, 206)"
      ]
     },
     "execution_count": 81,
     "metadata": {},
     "output_type": "execute_result"
    }
   ],
   "source": [
    "# las_vegas.dist.shape"
   ]
  },
  {
   "cell_type": "code",
   "execution_count": 82,
   "metadata": {},
   "outputs": [
    {
     "data": {
      "text/plain": [
       "(206, 5499)"
      ]
     },
     "execution_count": 82,
     "metadata": {},
     "output_type": "execute_result"
    }
   ],
   "source": [
    "# las_vegas.tfidf_matrix.shape"
   ]
  },
  {
   "cell_type": "code",
   "execution_count": 65,
   "metadata": {},
   "outputs": [],
   "source": [
    "# from sklearn.manifold import TSNE"
   ]
  },
  {
   "cell_type": "code",
   "execution_count": 66,
   "metadata": {},
   "outputs": [],
   "source": [
    "# from sklearn.preprocessing import StandardScaler"
   ]
  },
  {
   "cell_type": "code",
   "execution_count": 67,
   "metadata": {},
   "outputs": [],
   "source": [
    "# standardize feature vectors"
   ]
  },
  {
   "cell_type": "code",
   "execution_count": 68,
   "metadata": {},
   "outputs": [],
   "source": [
    "# standardscaler = StandardScaler()"
   ]
  },
  {
   "cell_type": "code",
   "execution_count": 12,
   "metadata": {},
   "outputs": [],
   "source": [
    "# std_distances = standardscaler.fit_transform(las_vegas.tfidf_matrix)"
   ]
  },
  {
   "cell_type": "code",
   "execution_count": 61,
   "metadata": {},
   "outputs": [
    {
     "data": {
      "text/plain": [
       "(206, 206)"
      ]
     },
     "execution_count": 61,
     "metadata": {},
     "output_type": "execute_result"
    }
   ],
   "source": [
    "# std_distances = standardscaler.fit_transform(las_vegastfidf_matrix.values)"
   ]
  },
  {
   "cell_type": "code",
   "execution_count": 33,
   "metadata": {},
   "outputs": [],
   "source": [
    "# tnse"
   ]
  },
  {
   "cell_type": "code",
   "execution_count": 34,
   "metadata": {},
   "outputs": [],
   "source": [
    "# tsne = TSNE(n_components=2, random_state=0)"
   ]
  },
  {
   "cell_type": "code",
   "execution_count": 35,
   "metadata": {},
   "outputs": [],
   "source": [
    "# dist_test_2d = tsne.fit_transform(std_distances)"
   ]
  },
  {
   "cell_type": "code",
   "execution_count": 36,
   "metadata": {},
   "outputs": [],
   "source": [
    "# scatter plot with 5 classes"
   ]
  },
  {
   "cell_type": "code",
   "execution_count": 10,
   "metadata": {},
   "outputs": [],
   "source": [
    "# markers = ('s', 'd', 'o', '^', 'v')\n",
    "# color_map = {0:'red', 1:'blue', 2:'lightgreen', 3:'purple' , 4:'cyan'}\n",
    "# plt.figure()\n",
    "# for idx, cl in enumerate(np.unique(dist_test_2d)):\n",
    "#     cl = int(cl)\n",
    "#     plt.scatter(x=dist_test_2d[cl, 0], y=dist_test_2d[cl, 1], c=color_map[idx],\n",
    "#                marker=markers[idx], label=cl)\n",
    "# ;"
   ]
  },
  {
   "cell_type": "code",
   "execution_count": 80,
   "metadata": {},
   "outputs": [
    {
     "data": {
      "text/plain": [
       "(412,)"
      ]
     },
     "execution_count": 80,
     "metadata": {},
     "output_type": "execute_result"
    }
   ],
   "source": [
    "# np.unique(dist_test_2d).shape"
   ]
  },
  {
   "cell_type": "code",
   "execution_count": 78,
   "metadata": {},
   "outputs": [
    {
     "data": {
      "text/html": [
       "<div>\n",
       "<style>\n",
       "    .dataframe thead tr:only-child th {\n",
       "        text-align: right;\n",
       "    }\n",
       "\n",
       "    .dataframe thead th {\n",
       "        text-align: left;\n",
       "    }\n",
       "\n",
       "    .dataframe tbody tr th {\n",
       "        vertical-align: top;\n",
       "    }\n",
       "</style>\n",
       "<table border=\"1\" class=\"dataframe\">\n",
       "  <thead>\n",
       "    <tr style=\"text-align: right;\">\n",
       "      <th></th>\n",
       "      <th>words</th>\n",
       "    </tr>\n",
       "  </thead>\n",
       "  <tbody>\n",
       "    <tr>\n",
       "      <th>we</th>\n",
       "      <td>we</td>\n",
       "    </tr>\n",
       "    <tr>\n",
       "      <th>stop</th>\n",
       "      <td>stopped</td>\n",
       "    </tr>\n",
       "    <tr>\n",
       "      <th>by</th>\n",
       "      <td>by</td>\n",
       "    </tr>\n",
       "    <tr>\n",
       "      <th>the</th>\n",
       "      <td>the</td>\n",
       "    </tr>\n",
       "    <tr>\n",
       "      <th>resort</th>\n",
       "      <td>resort</td>\n",
       "    </tr>\n",
       "  </tbody>\n",
       "</table>\n",
       "</div>"
      ],
      "text/plain": [
       "          words\n",
       "we           we\n",
       "stop    stopped\n",
       "by           by\n",
       "the         the\n",
       "resort   resort"
      ]
     },
     "execution_count": 78,
     "metadata": {},
     "output_type": "execute_result"
    }
   ],
   "source": [
    "# las_vegas.hotel_vocab_frame.head()"
   ]
  },
  {
   "cell_type": "markdown",
   "metadata": {},
   "source": [
    "#### template"
   ]
  },
  {
   "cell_type": "code",
   "execution_count": 1,
   "metadata": {},
   "outputs": [],
   "source": [
    "# print(datetime.datetime.utcnow())\n",
    "# san_francisco = Hotel_Cluster('data/san-francisco/')\n",
    "# san_francisco.make_map()\n",
    "# san_francisco.vectorize()\n",
    "# san_francisco.get_clusters()\n",
    "# print(datetime.datetime.utcnow())"
   ]
  },
  {
   "cell_type": "markdown",
   "metadata": {},
   "source": [
    "# New York"
   ]
  },
  {
   "cell_type": "code",
   "execution_count": 5,
   "metadata": {},
   "outputs": [
    {
     "name": "stdout",
     "output_type": "stream",
     "text": [
      "2018-04-27 17:29:26.317251\n"
     ]
    }
   ],
   "source": [
    "print(datetime.datetime.utcnow())"
   ]
  },
  {
   "cell_type": "code",
   "execution_count": 6,
   "metadata": {},
   "outputs": [],
   "source": [
    "new_york_city = Hotel_Cluster('data/new-york-city/')"
   ]
  },
  {
   "cell_type": "code",
   "execution_count": 7,
   "metadata": {},
   "outputs": [
    {
     "name": "stdout",
     "output_type": "stream",
     "text": [
      "There are 256 hotels in the dataset.\n",
      "Total stemmed and tokenized words: 9020605\n"
     ]
    }
   ],
   "source": [
    "new_york_city.make_map()"
   ]
  },
  {
   "cell_type": "code",
   "execution_count": 8,
   "metadata": {},
   "outputs": [
    {
     "name": "stdout",
     "output_type": "stream",
     "text": [
      "tfidf shape: (256, 9232)\n"
     ]
    }
   ],
   "source": [
    "new_york_city.vectorize()"
   ]
  },
  {
   "cell_type": "code",
   "execution_count": null,
   "metadata": {},
   "outputs": [],
   "source": []
  },
  {
   "cell_type": "code",
   "execution_count": 9,
   "metadata": {},
   "outputs": [
    {
     "name": "stdout",
     "output_type": "stream",
     "text": [
      "2018-04-27 17:43:04.134228\n"
     ]
    }
   ],
   "source": [
    "print(datetime.datetime.utcnow())"
   ]
  },
  {
   "cell_type": "code",
   "execution_count": 20,
   "metadata": {},
   "outputs": [],
   "source": [
    "def get_top_values(lst, n, labels):\n",
    "    '''\n",
    "    INPUT: LIST, INTEGER, LIST\n",
    "    OUTPUT: LIST\n",
    "\n",
    "    Given a list of values, find the indices with the highest n values.\n",
    "    Return the labels for each of these indices.\n",
    "\n",
    "    e.g.\n",
    "    lst = [7, 3, 2, 4, 1]\n",
    "    n = 2\n",
    "    labels = [\"cat\", \"dog\", \"mouse\", \"pig\", \"rabbit\"]\n",
    "    output: [\"cat\", \"pig\"]\n",
    "    '''\n",
    "    return [labels[i] for i in np.argsort(lst)[-1:-n-1:-1]]"
   ]
  },
  {
   "cell_type": "code",
   "execution_count": 44,
   "metadata": {},
   "outputs": [],
   "source": [
    "# vectorize a search"
   ]
  },
  {
   "cell_type": "code",
   "execution_count": 22,
   "metadata": {},
   "outputs": [],
   "source": [
    "user_input = input(\"Enter experience keywords: \")"
   ]
  },
  {
   "cell_type": "code",
   "execution_count": 51,
   "metadata": {},
   "outputs": [],
   "source": [
    "# split user input"
   ]
  },
  {
   "cell_type": "code",
   "execution_count": 33,
   "metadata": {},
   "outputs": [
    {
     "data": {
      "text/plain": [
       "['big balcony clean hotel']"
      ]
     },
     "execution_count": 33,
     "metadata": {},
     "output_type": "execute_result"
    }
   ],
   "source": [
    "lst = []\n",
    "lst.append(user_input)\n",
    "lst"
   ]
  },
  {
   "cell_type": "code",
   "execution_count": 40,
   "metadata": {},
   "outputs": [],
   "source": [
    "lst.append(\"trendy clean and hip\")\n",
    "lst.append(\"family oriented with shows\")"
   ]
  },
  {
   "cell_type": "code",
   "execution_count": 41,
   "metadata": {},
   "outputs": [],
   "source": [
    "searches = [line.strip() for line in lst]"
   ]
  },
  {
   "cell_type": "code",
   "execution_count": 42,
   "metadata": {},
   "outputs": [
    {
     "data": {
      "text/plain": [
       "['big balcony clean hotel',\n",
       " 'trendy clean and hip',\n",
       " 'family oriented with shows']"
      ]
     },
     "execution_count": 42,
     "metadata": {},
     "output_type": "execute_result"
    }
   ],
   "source": [
    "searches"
   ]
  },
  {
   "cell_type": "code",
   "execution_count": 83,
   "metadata": {},
   "outputs": [],
   "source": [
    "# use new york vectorizer to transform user input"
   ]
  },
  {
   "cell_type": "code",
   "execution_count": 43,
   "metadata": {},
   "outputs": [],
   "source": [
    "tokenized_inputs = new_york_city.tfidf_vectorizer.transform(searches)"
   ]
  },
  {
   "cell_type": "code",
   "execution_count": 45,
   "metadata": {},
   "outputs": [
    {
     "data": {
      "text/plain": [
       "(3, 9232)"
      ]
     },
     "execution_count": 45,
     "metadata": {},
     "output_type": "execute_result"
    }
   ],
   "source": [
    "tokenized_inputs.shape"
   ]
  },
  {
   "cell_type": "code",
   "execution_count": 46,
   "metadata": {},
   "outputs": [],
   "source": [
    "# get cosine similaries"
   ]
  },
  {
   "cell_type": "code",
   "execution_count": 47,
   "metadata": {},
   "outputs": [],
   "source": [
    "vectors = new_york_city.tfidf_matrix"
   ]
  },
  {
   "cell_type": "code",
   "execution_count": 48,
   "metadata": {},
   "outputs": [
    {
     "data": {
      "text/plain": [
       "(256, 9232)"
      ]
     },
     "execution_count": 48,
     "metadata": {},
     "output_type": "execute_result"
    }
   ],
   "source": [
    "vectors.shape"
   ]
  },
  {
   "cell_type": "code",
   "execution_count": 49,
   "metadata": {},
   "outputs": [],
   "source": [
    "cosine_similarities = linear_kernel(tokenized_inputs, vectors)"
   ]
  },
  {
   "cell_type": "code",
   "execution_count": 52,
   "metadata": {},
   "outputs": [],
   "source": [
    "# get top 3 hotel matches"
   ]
  },
  {
   "cell_type": "code",
   "execution_count": 53,
   "metadata": {},
   "outputs": [
    {
     "name": "stdout",
     "output_type": "stream",
     "text": [
      "big balcony clean hotel\n",
      "['usa_new york city_the_kimberly_hotel', 'usa_new york city_on_the_ave_hotel', 'usa_new york city_hotel_giraffe']\n",
      "\n",
      "trendy clean and hip\n",
      "['usa_new york city_royalton_hotel_new_york_city', 'usa_new york city_w_new_york_times_square', 'usa_new york city_hotel_on_rivington']\n",
      "\n",
      "family oriented with shows\n",
      "['usa_new york city_mandarin_oriental_new_york', 'usa_new york city_the_mark', 'usa_new york city_hotel_99']\n",
      "\n"
     ]
    }
   ],
   "source": [
    "h_names = new_york_city.hotel_names\n",
    "for i, item in enumerate(searches):\n",
    "    print(item)\n",
    "    print(get_top_values(cosine_similarities[i], 3, h_names))\n",
    "    print()"
   ]
  },
  {
   "cell_type": "code",
   "execution_count": null,
   "metadata": {},
   "outputs": [],
   "source": [
    "new_york_city.get_clusters()"
   ]
  },
  {
   "cell_type": "code",
   "execution_count": 75,
   "metadata": {},
   "outputs": [],
   "source": [
    "from Person import Person"
   ]
  },
  {
   "cell_type": "code",
   "execution_count": 76,
   "metadata": {},
   "outputs": [],
   "source": [
    "picky_person = Person(new_york_city)"
   ]
  },
  {
   "cell_type": "code",
   "execution_count": 77,
   "metadata": {},
   "outputs": [
    {
     "name": "stdout",
     "output_type": "stream",
     "text": [
      "\n",
      "\n",
      "big balcony clean hotel\n",
      "['usa_new york city_the_kimberly_hotel', 'usa_new york city_on_the_ave_hotel', 'usa_new york city_hotel_giraffe']\n",
      "\n",
      "trendy clean and hip\n",
      "['usa_new york city_royalton_hotel_new_york_city', 'usa_new york city_w_new_york_times_square', 'usa_new york city_hotel_on_rivington']\n",
      "\n",
      "family oriented with shows\n",
      "['usa_new york city_mandarin_oriental_new_york', 'usa_new york city_the_mark', 'usa_new york city_hotel_99']\n",
      "\n"
     ]
    }
   ],
   "source": [
    "picky_person.search()"
   ]
  },
  {
   "cell_type": "code",
   "execution_count": null,
   "metadata": {},
   "outputs": [],
   "source": []
  },
  {
   "cell_type": "code",
   "execution_count": null,
   "metadata": {},
   "outputs": [],
   "source": []
  }
 ],
 "metadata": {
  "kernelspec": {
   "display_name": "Python 3",
   "language": "python",
   "name": "python3"
  },
  "language_info": {
   "codemirror_mode": {
    "name": "ipython",
    "version": 3
   },
   "file_extension": ".py",
   "mimetype": "text/x-python",
   "name": "python",
   "nbconvert_exporter": "python",
   "pygments_lexer": "ipython3",
   "version": "3.6.4"
  }
 },
 "nbformat": 4,
 "nbformat_minor": 2
}
