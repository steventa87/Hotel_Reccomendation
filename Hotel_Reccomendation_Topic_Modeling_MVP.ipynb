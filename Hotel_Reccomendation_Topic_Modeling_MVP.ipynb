{
 "cells": [
  {
   "cell_type": "code",
   "execution_count": 15,
   "metadata": {
    "collapsed": true
   },
   "outputs": [],
   "source": [
    "from hotel_kmeans import Hotel_Kmeans\n",
    "from sentiment_model import Sentiment_Model\n",
    "from Person import Person\n",
    "\n",
    "import pyLDAvis\n",
    "import pyLDAvis.sklearn\n",
    "pyLDAvis.enable_notebook()"
   ]
  },
  {
   "cell_type": "markdown",
   "metadata": {},
   "source": [
    "# Content Based Reccomender - Hotels\n",
    "- Data: TripAdvisor\n",
    "    - Can search any city\n",
    "    - ONLY user reviews"
   ]
  },
  {
   "cell_type": "code",
   "execution_count": null,
   "metadata": {
    "collapsed": true
   },
   "outputs": [],
   "source": []
  },
  {
   "cell_type": "code",
   "execution_count": null,
   "metadata": {
    "collapsed": true
   },
   "outputs": [],
   "source": []
  },
  {
   "cell_type": "code",
   "execution_count": null,
   "metadata": {
    "collapsed": true
   },
   "outputs": [],
   "source": []
  },
  {
   "cell_type": "markdown",
   "metadata": {},
   "source": [
    "##  First step, fly to vacation spot. San Francisco :)\n",
    "### Class that maps hotels to reviews, vectorizes, and can cluster"
   ]
  },
  {
   "cell_type": "code",
   "execution_count": 7,
   "metadata": {
    "collapsed": true
   },
   "outputs": [],
   "source": [
    "san_francisco = Hotel_Kmeans('data/san-francisco/')"
   ]
  },
  {
   "cell_type": "markdown",
   "metadata": {},
   "source": [
    "#### - group all hotel reviews to their hotel"
   ]
  },
  {
   "cell_type": "code",
   "execution_count": 8,
   "metadata": {},
   "outputs": [
    {
     "name": "stdout",
     "output_type": "stream",
     "text": [
      "There are 212 hotels in the dataset.\n",
      "Total stemmed and tokenized words: 4729386\n"
     ]
    }
   ],
   "source": [
    "san_francisco.make_map()"
   ]
  },
  {
   "cell_type": "markdown",
   "metadata": {},
   "source": [
    "#### - tfidf vectorized matrix"
   ]
  },
  {
   "cell_type": "code",
   "execution_count": 9,
   "metadata": {
    "collapsed": true
   },
   "outputs": [],
   "source": [
    "san_francisco.vectorize()"
   ]
  },
  {
   "cell_type": "markdown",
   "metadata": {},
   "source": [
    "## Person Class for each search"
   ]
  },
  {
   "cell_type": "markdown",
   "metadata": {},
   "source": [
    "- initialize new annoying customer"
   ]
  },
  {
   "cell_type": "code",
   "execution_count": 48,
   "metadata": {
    "collapsed": true
   },
   "outputs": [],
   "source": [
    "picky_person = Person(san_francisco)"
   ]
  },
  {
   "cell_type": "markdown",
   "metadata": {},
   "source": [
    "- begin search using cosine similarities"
   ]
  },
  {
   "cell_type": "code",
   "execution_count": 49,
   "metadata": {},
   "outputs": [
    {
     "name": "stdout",
     "output_type": "stream",
     "text": [
      "Enter search queries or quit: financial district near shopping and good service\n",
      "Enter search queries or quit: quit\n",
      "\n",
      "\n",
      "financial district near shopping and good service\n",
      "['usa_san francisco_hilton_san_francisco_financial_district', 'usa_san francisco_le_meridien_san_francisco', 'usa_san francisco_club_quarters_san_francisco']\n",
      "\n"
     ]
    }
   ],
   "source": [
    "picky_person.search()"
   ]
  },
  {
   "cell_type": "markdown",
   "metadata": {},
   "source": [
    "#### I did K-means clustering to help understand why our reccomender picked these choices"
   ]
  },
  {
   "cell_type": "code",
   "execution_count": 66,
   "metadata": {
    "scrolled": true
   },
   "outputs": [
    {
     "name": "stdout",
     "output_type": "stream",
     "text": [
      "Fitting K-means\n",
      "Top terms per cluster:\n",
      "\n",
      "Cluster 0 words: b'wine', b'inn', b'fireplace', b'b', b'suite', b'cheese', b'charms', b'beautiful', b'cookie', b'queen', b'continental', b'b', b'pacific', b'afternoons', b'amp', b'complimentary', b'continental', b'fruit', b'height', b'tea',\n",
      "\n",
      "Cluster 0 hotels: usa_san francisco_the_archbishop_s_mansion, usa_san francisco_jackson_court_san_francisco, usa_san francisco_stanyan_park_hotel, usa_san francisco_hotel_drisco, usa_san francisco_inn_at_the_opera, usa_san francisco_petite_auberge, usa_san francisco_hotel_majestic, usa_san francisco_white_swan_inn, usa_san francisco_edward_ii_inn_and_suites, usa_san francisco_the_queen_anne_hotel, usa_san francisco_the_inn_at_union_square,\n",
      "\n",
      "Cluster 1 words: b'inn', b'dirty', b'motel', b'sheets', b'bugs', b'bed', b'rude', b'stains', b'lombard', b'dump', b'disgusted', b'card', b'guys', b'mission', b'suite', b'free', b'horrible', b'marina', b'limited', b'hair',\n",
      "\n",
      "Cluster 1 hotels: usa_san francisco_ramada_limited_san_francisco, usa_san francisco_knights_inn_downtown_san_francisco, usa_san francisco_oasis_inn, usa_san francisco_mission_inn, usa_san francisco_travelodge_central_san_francisco_hotel, usa_san francisco_civic_center_inn, usa_san francisco_heritage_marina_hotel, usa_san francisco_presidio_inn_suites, usa_san francisco_alpha_inn_and_suites_san_francisco,\n",
      "\n",
      "Cluster 2 words: b'nan', b'nan', b'homeless', b'cable', b'powell', b'bart', b'market', b'homeless', b'station', b'muffins', b'tenderloin', b'room', b'chinatown', b'powell', b'centrally', b'continental', b'hotel', b'fan', b'airport', b'tiny',\n",
      "\n",
      "Cluster 2 hotels: usa_san francisco_the_opal_san_francisco, usa_san francisco_astoria_hotel, usa_san francisco_hotel_whitcomb, usa_san francisco_hotel_bijou, usa_san francisco_hotel_milano, usa_san francisco_layne_hotel, usa_san francisco_the_mosser, usa_san francisco_powell_hotel, usa_san francisco_hotel_metropolis, usa_san francisco_the_dakota_hotel, usa_san francisco_the_good_hotel, usa_san francisco_hotel_union_square, usa_san francisco_baldwin_hotel, usa_san francisco_the_stratford, usa_san francisco_verona, usa_san francisco_the_herbert_hotel, usa_san francisco_hotel_fusion, usa_san francisco_renoir_hotel, usa_san francisco_olympic_hotel, usa_san francisco_the_grant_hotel, usa_san francisco_union_square_plaza_hotel, usa_san francisco_adante_hotel, usa_san francisco_taylor_hotel, usa_san francisco_hotel_beresford, usa_san francisco_hotel_mark_twain,\n",
      "\n",
      "Cluster 3 words: b'pool', b'courtyard', b'rock', b'sealed', b'kidding', b'inn', b'free', b'ocean', b'hill', b'motel', b'marriott', b'swimming', b'suite', b'colors', b'tenderloin', b'marina', b'fun', b'van', b'lounge', b'ness',\n",
      "\n",
      "Cluster 3 hotels: usa_san francisco_seal_rock_inn, usa_san francisco_courtyard_san_francisco_downtown, usa_san francisco_phoenix_hotel, usa_san francisco_hotel_del_sol, usa_san francisco_cathedral_hill_hotel,\n",
      "\n",
      "Cluster 4 words: b'fisherman', b\"'s\", b'fisherman', b'cable', b'piers', b'inn', b'holiday', b'holiday', b'concierge', b'hilton', b'alcatraz', b'pool', b'beach', b'tours', b'fisherman', b'courtyard', b'sheraton', b'marriott', b'wine', b'north',\n",
      "\n",
      "Cluster 4 hotels: usa_san francisco_best_western_tuscan_inn_fisherman_s_wharf_a_kimpton_hotel, usa_san francisco_courtyard_by_marriott_fisherman_s_wharf, usa_san francisco_hotel_boheme, usa_san francisco_suites_at_fisherman_s_wharf, usa_san francisco_argonaut_hotel_a_kimpton_hotel, usa_san francisco_sheraton_fisherman_s_wharf_hotel, usa_san francisco_bayside_inn_at_the_wharf_pacific_hotels, usa_san francisco_holiday_inn_san_francisco_fishermans_wharf, usa_san francisco_holiday_inn_express_san_francisco_fisherman_s_wharf, usa_san francisco_radisson_hotel_fisherman_s_wharf, usa_san francisco_hilton_san_francisco_fisherman_s_wharf, usa_san francisco_hyatt_at_fisherman_s_wharf, usa_san francisco_hilton_san_francisco_financial_district, usa_san francisco_marriott_san_francisco_fisherman_s_wharf, usa_san francisco_holiday_inn_san_francisco_golden_gateway,\n",
      "\n",
      "Cluster 5 words: b'inn', b'free', b'lombard', b'motel', b'motor', b'fisherman', b\"'s\", b'fisherman', b'lombard', b'bridge', b'nan', b'marina', b'nan', b'golden', b'golden', b'parking', b'gate', b'gate', b'golden', b'traffic',\n",
      "\n",
      "Cluster 5 hotels: usa_san francisco_san_francisco_at_the_presidio_travelodge, usa_san francisco_coventry_motor_inn, usa_san francisco_town_house, usa_san francisco_columbus_motor_inn, usa_san francisco_laurel_inn, usa_san francisco_francisco_bay_inn, usa_san francisco_lombard_motor_inn, usa_san francisco_great_highway_motor_inn, usa_san francisco_america_s_best_inn_san_francisco, usa_san francisco_nob_hill_motor_inn, usa_san francisco_castle_inn, usa_san francisco_la_luna_inn, usa_san francisco_redwood_inn, usa_san francisco_broadway_manor_inn, usa_san francisco_americas_best_value_inn_golden_gate, usa_san francisco_the_wharf_inn, usa_san francisco_bay_bridge_inn, usa_san francisco_comfort_inn_by_the_bay, usa_san francisco_buena_vista_motor_inn, usa_san francisco_greenwich_inn, usa_san francisco_chelsea_motor_inn, usa_san francisco_royal_pacific_motor_inn, usa_san francisco_days_inn_lombard_street, usa_san francisco_marina_inn, usa_san francisco_cow_hollow_motor_inn_and_suites,\n",
      "\n",
      "Cluster 6 words: b'wine', b'cable', b'concierge', b'suite', b'beautiful', b'club', b'bart', b'valet', b'king', b'upgraded', b'bay', b'expensive', b'complimentary', b'spacious', b'powell', b'room', b'chinatown', b'modern', b'room', b'fantastic',\n",
      "\n",
      "Cluster 6 hotels: usa_san francisco_fairmont_heritage_place_ghirardelli_square, usa_san francisco_king_george_hotel, usa_san francisco_hotel_palomar_san_francisco_a_kimpton_hotel, usa_san francisco_handlery_union_square_hotel, usa_san francisco_the_ritz_carlton, usa_san francisco_orchard_garden_hotel, usa_san francisco_hotel_rex, usa_san francisco_galleria_park, usa_san francisco_san_francisco_marriott_union_square, usa_san francisco_four_seasons_hotel_san_francisco, usa_san francisco_clift_hotel_san_francisco, usa_san francisco_san_francisco_marriott_marquis, usa_san francisco_hotel_adagio, usa_san francisco_le_meridien_san_francisco, usa_san francisco_grosvenor_suites, usa_san francisco_the_westin_st_francis, usa_san francisco_westin_san_francisco_market_street, usa_san francisco_hotel_vitale, usa_san francisco_intercontinental_mark_hopkins_san_francisco, usa_san francisco_hyatt_regency_san_francisco, usa_san francisco_jw_marriott_san_francisco_union_square, usa_san francisco_hotel_griffon, usa_san francisco_warwick_san_francisco_hotel, usa_san francisco_parc_55_hotel, usa_san francisco_intercontinental_san_francisco, usa_san francisco_sir_francis_drake_hotel_a_kimpton_hotel, usa_san francisco_executive_hotel_vintage_court, usa_san francisco_hotel_monaco_san_francisco_a_kimpton_hotel, usa_san francisco_marines_memorial_club_hotel, usa_san francisco_hotel_carlton_a_joie_de_vivre_hotel, usa_san francisco_the_orchard_hotel, usa_san francisco_harbor_court_hotel_a_kimpton_hotel, usa_san francisco_the_fairmont_san_francisco, usa_san francisco_hotel_abri_union_square_a_larkspur_collection_hotel, usa_san francisco_omni_san_francisco_hotel, usa_san francisco_larkspur_hotel_union_square, usa_san francisco_beresford_arms, usa_san francisco_hilton_san_francisco_union_square, usa_san francisco_hotel_nikko_san_francisco, usa_san francisco_the_kensington_park_hotel, usa_san francisco_mandarin_oriental, usa_san francisco_hotel_triton_a_kimpton_hotel, usa_san francisco_club_quarters_san_francisco, usa_san francisco_serrano_hotel_a_kimpton_hotel, usa_san francisco_st_regis_hotel_san_francisco, usa_san francisco_the_huntington_hotel_nob_hill_spa, usa_san francisco_campton_place_hotel, usa_san francisco_palace_hotel, usa_san francisco_best_western_the_hotel_california, usa_san francisco_chancellor_hotel_on_union_square, usa_san francisco_villa_florence_hotel_union_square_a_larkspur_collection_hotel, usa_san francisco_grand_hyatt_san_francisco, usa_san francisco_the_donatello_hotel, usa_san francisco_hotel_diva, usa_san francisco_prescott_hotel_a_kimpton_hotel, usa_san francisco_andrews_hotel, usa_san francisco_renaissance_stanford_court,\n",
      "\n",
      "Cluster 7 words: b'motel', b'ocean', b'beach', b'marina', b'lombard', b'free', b'golden', b'golden', b'gate', b'lombard', b'owner', b'cancel', b'road', b'golden', b'gate', b'courtyard', b'super', b'dog', b'inn', b'smoking',\n",
      "\n",
      "Cluster 7 hotels: usa_san francisco_capri_motel, usa_san francisco_star_motel, usa_san francisco_super_8_san_francisco_fisherman_s_wharf, usa_san francisco_marina_motel, usa_san francisco_beach_motel, usa_san francisco_geary_parkway_motel, usa_san francisco_oceanview_motel, usa_san francisco_travelodge_golden_gate_san_francisco, usa_san francisco_motel_6_san_francisco_downtown, usa_san francisco_ocean_park_motel, usa_san francisco_roberts_at_the_beach_motel, usa_san francisco_surf_motel,\n",
      "\n",
      "Cluster 8 words: b'homeless', b'motel', b'free', b'best', b'civic', b'inn', b'western', b'civic', b'market', b'homeless', b'nan', b'castro', b'guys', b'nan', b'pool', b'market', b'bart', b'muffins', b'dirty', b'office',\n",
      "\n",
      "Cluster 8 hotels: usa_san francisco_best_western_americania, usa_san francisco_san_francisco_days_inn_downtown_civic_center_area, usa_san francisco_beck_s_motor_lodge, usa_san francisco_americas_best_value_inn_suites_soma, usa_san francisco_alexis_park_san_francisco, usa_san francisco_vagabond_inn_san_francisco_civic_center, usa_san francisco_rodeway_inn_civic_center, usa_san francisco_rodeway_inn_downtown, usa_san francisco_holiday_inn_civic_center_san_francisco, usa_san francisco_best_western_civic_center_motor_inn, usa_san francisco_best_western_carriage_inn, usa_san francisco_aida_hotel,\n",
      "\n",
      "Cluster 9 words: b'nan', b'nan', b'renovated', b'chinatown', b'paintings', b'hill', b'microwave', b'dirty', b'sharing', b'apart', b'art', b'hostels', b'bugs', b'centrally', b'japanese', b'charms', b'cable', b'students', b'private', b'fridge',\n",
      "\n",
      "Cluster 9 hotels: usa_san francisco_abigail_hotel, usa_san francisco_hotel_north_beach, usa_san francisco_best_western_hotel_tomo, usa_san francisco_carl_hotel, usa_san francisco_hotel_kabuki, usa_san francisco_sw_hotel, usa_san francisco_university_club, usa_san francisco_monarch_hotel, usa_san francisco_cornell_hotel_de_france, usa_san francisco_nob_hill_hotel, usa_san francisco_the_embassy_hotel, usa_san francisco_cova_hotel, usa_san francisco_mithila, usa_san francisco_pontiac_hotel, usa_san francisco_hotel_mayflower, usa_san francisco_archstone_south_market, usa_san francisco_harcourt_hotel, usa_san francisco_hotel_frank, usa_san francisco_encore_express_hotel, usa_san francisco_edwardian_san_francisco_hotel, usa_san francisco_the_gaylord, usa_san francisco_halcyon_hotel, usa_san francisco_grant_plaza_hotel, usa_san francisco_touchstone_hotel, usa_san francisco_spaulding_hotel, usa_san francisco_the_hotel_tropicana, usa_san francisco_park_hotel, usa_san francisco_sonoma_inn, usa_san francisco_good_nite_inn_san_francisco_airport, usa_san francisco_the_metro_hotel, usa_san francisco_americas_best_value_inn_suites_union_square, usa_san francisco_hotel_cosmo, usa_san francisco_steinhart, usa_san francisco_hotel_des_arts, usa_san francisco_hotel_vertigo, usa_san francisco_fitzgerald_hotel_union_square, usa_san francisco_w_san_francisco, usa_san francisco_crescent_san_francisco, usa_san francisco_twin_peaks_hotel, usa_san francisco_alexander_inn, usa_san francisco_ansonia_abby_hotel,\n",
      "\n"
     ]
    }
   ],
   "source": [
    "san_francisco.get_clusters()"
   ]
  },
  {
   "cell_type": "markdown",
   "metadata": {},
   "source": [
    "### Winner: San Francisco Hilton Financial District"
   ]
  },
  {
   "cell_type": "markdown",
   "metadata": {},
   "source": [
    "### Begin Sentiment Topic Modeling"
   ]
  },
  {
   "cell_type": "markdown",
   "metadata": {},
   "source": [
    "- instantiate sentiment topic model"
   ]
  },
  {
   "cell_type": "code",
   "execution_count": 58,
   "metadata": {
    "collapsed": true
   },
   "outputs": [],
   "source": [
    "analyzer = Sentiment_Model('san-francisco','usa_san francisco_hilton_san_francisco_financial_district')"
   ]
  },
  {
   "cell_type": "code",
   "execution_count": 59,
   "metadata": {
    "collapsed": true
   },
   "outputs": [],
   "source": [
    "analyzer._get_hotel_reviews()"
   ]
  },
  {
   "cell_type": "markdown",
   "metadata": {},
   "source": [
    "- cluster reviews in Positives, Negatives, Neutrals"
   ]
  },
  {
   "cell_type": "code",
   "execution_count": 65,
   "metadata": {},
   "outputs": [
    {
     "name": "stdout",
     "output_type": "stream",
     "text": [
      "Total reviews: 1346\n"
     ]
    }
   ],
   "source": [
    "analyzer.cluter_review_sentiments()"
   ]
  },
  {
   "cell_type": "markdown",
   "metadata": {},
   "source": [
    "- Count vectorizer clusters"
   ]
  },
  {
   "cell_type": "code",
   "execution_count": 61,
   "metadata": {},
   "outputs": [
    {
     "name": "stdout",
     "output_type": "stream",
     "text": [
      "positives count vectorizer shape: (308, 23575)\n",
      "negatives count vectorizer shape: (23, 2044)\n"
     ]
    },
    {
     "name": "stderr",
     "output_type": "stream",
     "text": [
      "/Users/steventa/anaconda3/lib/python3.6/site-packages/sklearn/decomposition/online_lda.py:294: DeprecationWarning: n_topics has been renamed to n_components in version 0.19 and will be removed in 0.21\n",
      "  DeprecationWarning)\n",
      "/Users/steventa/anaconda3/lib/python3.6/site-packages/sklearn/decomposition/online_lda.py:536: DeprecationWarning: The default value for 'learning_method' will be changed from 'online' to 'batch' in the release 0.20. This warning was introduced in 0.18.\n",
      "  DeprecationWarning)\n"
     ]
    },
    {
     "name": "stdout",
     "output_type": "stream",
     "text": [
      "Clustering for Positives: CLEANLINESS, ROOM, SERVICE, LOCATION, VALUE\n",
      "Clustering for Negatives: CLEANLINESS, ROOM, SERVICE, LOCATION, VALUE\n",
      "run: pyLDAvis.sklearn.prepare(hotel.lda_tf, hotel.dtm_tf, hotel.tf_vectorizer)\n",
      "run: pyLDAvis.sklearn.prepare(hotel.neg_lda_tf, hotel.neg_dtm_tf, hotel.neg_tf_vectorizer)\n"
     ]
    },
    {
     "name": "stderr",
     "output_type": "stream",
     "text": [
      "/Users/steventa/anaconda3/lib/python3.6/site-packages/sklearn/decomposition/online_lda.py:294: DeprecationWarning: n_topics has been renamed to n_components in version 0.19 and will be removed in 0.21\n",
      "  DeprecationWarning)\n",
      "/Users/steventa/anaconda3/lib/python3.6/site-packages/sklearn/decomposition/online_lda.py:536: DeprecationWarning: The default value for 'learning_method' will be changed from 'online' to 'batch' in the release 0.20. This warning was introduced in 0.18.\n",
      "  DeprecationWarning)\n"
     ]
    }
   ],
   "source": [
    "analyzer.vectorize_clusters()"
   ]
  },
  {
   "cell_type": "code",
   "execution_count": null,
   "metadata": {
    "collapsed": true
   },
   "outputs": [],
   "source": []
  },
  {
   "cell_type": "markdown",
   "metadata": {},
   "source": [
    "# We have ratings for 5 topics. Can our topic modeling find it?\n",
    "\n",
    "- CLEANLINESS\t\n",
    "- ROOM\t\n",
    "- SERVICE\t\n",
    "- LOCATION\n",
    "- VALUE\t"
   ]
  },
  {
   "cell_type": "code",
   "execution_count": null,
   "metadata": {
    "collapsed": true
   },
   "outputs": [],
   "source": []
  },
  {
   "cell_type": "markdown",
   "metadata": {},
   "source": [
    "# Visualize positive clusters"
   ]
  },
  {
   "cell_type": "code",
   "execution_count": 62,
   "metadata": {},
   "outputs": [
    {
     "name": "stderr",
     "output_type": "stream",
     "text": [
      "/Users/steventa/anaconda3/lib/python3.6/site-packages/pyLDAvis/_prepare.py:387: DeprecationWarning: \n",
      ".ix is deprecated. Please use\n",
      ".loc for label based indexing or\n",
      ".iloc for positional indexing\n",
      "\n",
      "See the documentation here:\n",
      "http://pandas.pydata.org/pandas-docs/stable/indexing.html#ix-indexer-is-deprecated\n",
      "  topic_term_dists = topic_term_dists.ix[topic_order]\n"
     ]
    },
    {
     "data": {
      "text/html": [
       "\n",
       "<link rel=\"stylesheet\" type=\"text/css\" href=\"https://cdn.rawgit.com/bmabey/pyLDAvis/files/ldavis.v1.0.0.css\">\n",
       "\n",
       "\n",
       "<div id=\"ldavis_el72211135598464889981680386\"></div>\n",
       "<script type=\"text/javascript\">\n",
       "\n",
       "var ldavis_el72211135598464889981680386_data = {\"mdsDat\": {\"Freq\": [22.193123428078177, 21.356955471767773, 19.907251487686384, 18.596986023989427, 17.945683588478254], \"cluster\": [1, 1, 1, 1, 1], \"topics\": [1, 2, 3, 4, 5], \"x\": [0.0035591064836038673, 0.0011900208889454005, -0.11048086493247179, 0.019883795507475627, 0.08584794205244696], \"y\": [-0.020672666286773056, -0.03275551721133044, 0.05076418864195207, -0.08326233644664863, 0.08592633130279997]}, \"tinfo\": {\"Category\": [\"Default\", \"Default\", \"Default\", \"Default\", \"Default\", \"Default\", \"Default\", \"Default\", \"Default\", \"Default\", \"Default\", \"Default\", \"Default\", \"Default\", \"Default\", \"Default\", \"Default\", \"Default\", \"Default\", \"Default\", \"Default\", \"Default\", \"Default\", \"Default\", \"Default\", \"Default\", \"Default\", \"Default\", \"Default\", \"Default\", \"Topic1\", \"Topic1\", \"Topic1\", \"Topic1\", \"Topic1\", \"Topic1\", \"Topic1\", \"Topic1\", \"Topic1\", \"Topic1\", \"Topic1\", \"Topic1\", \"Topic1\", \"Topic1\", \"Topic1\", \"Topic1\", \"Topic1\", \"Topic1\", \"Topic1\", \"Topic1\", \"Topic1\", \"Topic1\", \"Topic1\", \"Topic1\", \"Topic1\", \"Topic1\", \"Topic1\", \"Topic1\", \"Topic1\", \"Topic1\", \"Topic1\", \"Topic1\", \"Topic1\", \"Topic1\", \"Topic1\", \"Topic1\", \"Topic1\", \"Topic1\", \"Topic1\", \"Topic1\", \"Topic1\", \"Topic1\", \"Topic1\", \"Topic1\", \"Topic1\", \"Topic1\", \"Topic1\", \"Topic1\", \"Topic2\", \"Topic2\", \"Topic2\", \"Topic2\", \"Topic2\", \"Topic2\", \"Topic2\", \"Topic2\", \"Topic2\", \"Topic2\", \"Topic2\", \"Topic2\", \"Topic2\", \"Topic2\", \"Topic2\", \"Topic2\", \"Topic2\", \"Topic2\", \"Topic2\", \"Topic2\", \"Topic2\", \"Topic2\", \"Topic2\", \"Topic2\", \"Topic2\", \"Topic2\", \"Topic2\", \"Topic2\", \"Topic2\", \"Topic2\", \"Topic2\", \"Topic2\", \"Topic2\", \"Topic2\", \"Topic2\", \"Topic2\", \"Topic2\", \"Topic2\", \"Topic2\", \"Topic2\", \"Topic2\", \"Topic2\", \"Topic2\", \"Topic2\", \"Topic2\", \"Topic2\", \"Topic2\", \"Topic2\", \"Topic2\", \"Topic2\", \"Topic2\", \"Topic2\", \"Topic2\", \"Topic3\", \"Topic3\", \"Topic3\", \"Topic3\", \"Topic3\", \"Topic3\", \"Topic3\", \"Topic3\", \"Topic3\", \"Topic3\", \"Topic3\", \"Topic3\", \"Topic3\", \"Topic3\", \"Topic3\", \"Topic3\", \"Topic3\", \"Topic3\", \"Topic3\", \"Topic3\", \"Topic3\", \"Topic3\", \"Topic3\", \"Topic3\", \"Topic3\", \"Topic3\", \"Topic3\", \"Topic3\", \"Topic3\", \"Topic3\", \"Topic3\", \"Topic3\", \"Topic3\", \"Topic3\", \"Topic3\", \"Topic3\", \"Topic3\", \"Topic3\", \"Topic3\", \"Topic3\", \"Topic3\", \"Topic3\", \"Topic3\", \"Topic3\", \"Topic3\", \"Topic3\", \"Topic3\", \"Topic3\", \"Topic3\", \"Topic3\", \"Topic3\", \"Topic3\", \"Topic3\", \"Topic3\", \"Topic3\", \"Topic4\", \"Topic4\", \"Topic4\", \"Topic4\", \"Topic4\", \"Topic4\", \"Topic4\", \"Topic4\", \"Topic4\", \"Topic4\", \"Topic4\", \"Topic4\", \"Topic4\", \"Topic4\", \"Topic4\", \"Topic4\", \"Topic4\", \"Topic4\", \"Topic4\", \"Topic4\", \"Topic4\", \"Topic4\", \"Topic4\", \"Topic4\", \"Topic4\", \"Topic4\", \"Topic4\", \"Topic4\", \"Topic4\", \"Topic4\", \"Topic4\", \"Topic4\", \"Topic4\", \"Topic4\", \"Topic4\", \"Topic4\", \"Topic4\", \"Topic4\", \"Topic4\", \"Topic4\", \"Topic4\", \"Topic4\", \"Topic4\", \"Topic4\", \"Topic4\", \"Topic4\", \"Topic4\", \"Topic4\", \"Topic4\", \"Topic4\", \"Topic4\", \"Topic4\", \"Topic4\", \"Topic5\", \"Topic5\", \"Topic5\", \"Topic5\", \"Topic5\", \"Topic5\", \"Topic5\", \"Topic5\", \"Topic5\", \"Topic5\", \"Topic5\", \"Topic5\", \"Topic5\", \"Topic5\", \"Topic5\", \"Topic5\", \"Topic5\", \"Topic5\", \"Topic5\", \"Topic5\", \"Topic5\", \"Topic5\", \"Topic5\", \"Topic5\", \"Topic5\", \"Topic5\", \"Topic5\", \"Topic5\", \"Topic5\", \"Topic5\", \"Topic5\", \"Topic5\", \"Topic5\", \"Topic5\", \"Topic5\", \"Topic5\", \"Topic5\", \"Topic5\", \"Topic5\", \"Topic5\", \"Topic5\", \"Topic5\", \"Topic5\", \"Topic5\", \"Topic5\", \"Topic5\", \"Topic5\", \"Topic5\", \"Topic5\", \"Topic5\", \"Topic5\", \"Topic5\", \"Topic5\", \"Topic5\", \"Topic5\"], \"Freq\": [10.0, 4.0, 4.0, 3.0, 4.0, 3.0, 3.0, 6.0, 4.0, 15.0, 6.0, 2.0, 2.0, 2.0, 2.0, 10.0, 4.0, 2.0, 2.0, 2.0, 3.0, 2.0, 2.0, 2.0, 2.0, 3.0, 3.0, 4.0, 2.0, 2.0, 2.1203805133851024, 1.701836693432262, 1.6850662263422127, 1.2845063947344588, 1.2843357712444148, 1.2840583489162045, 1.2813797798487065, 1.2812314353807153, 1.2835262200498798, 1.2835509391864401, 1.281985359534948, 1.2864237815303607, 1.2836064723934864, 1.2812194854028878, 1.2857120726216225, 1.2841596464801566, 1.283772273353841, 1.2845698041336662, 1.277722679710042, 1.283993630407908, 1.283468511771214, 1.2781927602286047, 1.2776278144257314, 1.2854835396822002, 1.2804081026791063, 1.2785597880264514, 1.280030456644129, 1.2807253129779708, 1.2795899227669911, 1.2810559429946786, 2.0900370532652905, 1.2880695319172966, 1.28189696965486, 1.688368339198556, 1.7735495138023656, 1.2839217561573577, 2.9534725872827052, 1.2850405687469348, 3.8963292045326647, 1.865920264421688, 2.1466876096703222, 1.3965687444761683, 1.28231721628923, 1.3716174514285877, 1.3597138530272797, 1.3715009438429158, 1.4011669561890612, 1.400255604158067, 2.6759618788090376, 2.285704756075955, 1.9602191706577985, 1.9606034513199906, 1.610525920103047, 1.6050103237153772, 1.6059761104100871, 1.607591314091728, 1.6043121655459522, 1.5678681651745128, 3.476750505190593, 3.4740984477084034, 1.2809327004443016, 1.2026313532190775, 1.203328033572444, 1.2026164751957316, 1.1996997146157766, 1.2028019219589743, 1.2021188734568955, 1.2032394287227395, 1.2012545260951495, 1.2020646661794365, 1.2015161739305462, 1.2017646025020223, 1.2015704777951763, 1.199865404481327, 1.1998640393048259, 1.199784670497255, 1.2006436111191476, 1.2020361837070406, 3.4821134977550874, 2.0198274381093326, 1.203343400830608, 5.940194388553537, 1.2035723670332155, 2.399441471204223, 1.612192521378826, 1.6100094730108894, 1.2055179545890473, 1.568705747502926, 4.616165661901937, 4.389115318562393, 1.6048951021946245, 1.6933109884282338, 4.4981987548457, 1.608152486877339, 1.9657457294561438, 1.5983040259233132, 1.56728570371604, 1.6078061827076482, 1.6117905877799898, 1.70736168743191, 1.5919752361167527, 1.9885756989050731, 2.706543716665113, 1.4116254812069244, 1.404619457036983, 1.4041245885385727, 1.4035111723048974, 1.3796997996297673, 1.4007785760390536, 1.372434091784038, 1.3703571100576835, 1.3661887170364373, 1.0517415689746794, 1.0518180870570382, 1.0520099388419524, 1.0515394176196804, 1.054010117751475, 1.0528783579123568, 1.0516720099977348, 1.0531527206449371, 1.049948127513553, 1.0511522192398846, 1.0516114663484974, 1.049406440765388, 1.049826990619837, 1.050876540409374, 1.0505142173505915, 1.0500313110481723, 1.0528977305954375, 1.053079802013647, 1.0513737066207893, 1.054120453725343, 1.054299861998568, 3.631916724946383, 1.9749511547792606, 1.9867667995632547, 3.2638032801555643, 1.381648592857885, 1.3829336527531408, 1.9708177094581831, 1.3740231322134089, 1.3792121038292628, 1.7808599393415574, 1.4007757420714422, 3.3661289728520427, 1.3686405576715706, 1.987324976594311, 1.379894853883452, 1.4084652451011, 2.040360705188858, 1.37776686673632, 1.3842926297671512, 1.7123518063408631, 1.4785489901254543, 1.4243010402330702, 1.4085947937340786, 1.725442692246806, 1.399995530846502, 1.3955546581792815, 1.3752369600494403, 1.373277046631015, 1.3750685302715917, 1.370850957085757, 1.982669094255761, 1.1352852150842259, 1.9699138828696898, 1.0474698530915107, 1.0477527396905677, 1.0479693998946888, 1.045590806154246, 1.0492197794028457, 1.0486052801971295, 1.0488066531239955, 1.0475889307885147, 1.0488335323565392, 1.048155441807265, 1.0481529287262592, 1.0465955589399272, 1.0453607890430971, 1.0467710693151169, 1.0471068588906292, 1.0493101512374348, 1.0480318725912405, 1.0494132979761248, 1.0493074206806827, 1.0480056883374258, 1.049117620768714, 2.6827167163053507, 3.0305607548458275, 1.705177827475343, 1.4014552539519032, 1.0493478582888605, 1.732805411007714, 3.035866935381408, 1.3677574237009884, 1.4936181106786246, 1.3776803118016814, 2.4058084702847107, 1.7364467277365518, 1.3666881215397788, 1.372949896196997, 1.3843405137318368, 1.0498931482769864, 1.3796066911790785, 1.3760569254438066, 1.3814189314072227, 1.1400013392160087, 1.0613860052361377, 1.050635178655115, 1.8521898514117883, 1.843462954776803, 1.8382952080740462, 1.3058471274705994, 1.3041329332393807, 1.2995788103740364, 1.2943763542717792, 1.2760055298047608, 1.2779723835451615, 0.9767285778400723, 0.9766485787750611, 0.9760714830273497, 0.9748329943656058, 0.976868665334329, 0.9774763265950772, 0.972985010458949, 0.9776938710408577, 0.9752849273966404, 0.9756877821342479, 0.9758706558103262, 0.978480870237923, 0.9761869828957198, 0.9791446202561077, 0.9789224692874997, 0.9772399632051522, 0.9775182085461493, 0.9763145131454725, 0.9764433816522352, 0.9760350422792772, 0.9749223417180425, 0.9793803653748031, 1.6114124997041221, 1.2943963930232385, 2.170756285702817, 0.9780488093448132, 0.9780271651273835, 3.1292790140446027, 0.9774814169573525, 1.3009953566120593, 1.622610836882438, 1.2978635143401878, 1.3089761389931458, 1.3086257428131205, 1.3060970417139446, 1.692920018666653, 0.9779352744247025, 1.0605873128416492, 1.0446391976454976, 1.0075367006769564, 1.074245738459309, 0.9991797394780121, 0.9806234757323117, 0.9852879420529114, 0.9851758819497282, 0.9796709291844337], \"Term\": [\"view coit tower\", \"north beach little\", \"beach little italy\", \"blocks north beach\", \"room great view\", \"rooms good size\", \"location walking distance\", \"walking distance union\", \"minute walk union\", \"hilton financial district\", \"distance union square\", \"views roof pool\", \"staff really friendly\", \"crabtree amp evelyn\", \"asked rooms floor\", \"walk union square\", \"walk fisherman wharf\", \"expect star hotel\", \"modern staff friendly\", \"north beach area\", \"king sized bed\", \"room bay view\", \"market street union\", \"distance china town\", \"walking distance china\", \"union square chinatown\", \"great view coit\", \"got great deal\", \"close china town\", \"short walk union\", \"room bay view\", \"hotel union square\", \"thing hotel location\", \"service great default\", \"situed nice location\", \"pier clean service\", \"hotel second possible\", \"union square california\", \"nice location far\", \"tower near want\", \"embarcadero coit tower\", \"street blocks embarcadero\", \"pool high floor\", \"location far union\", \"want walk pier\", \"coit tower near\", \"near want walk\", \"blocks embarcadero coit\", \"italian district minutes\", \"square california street\", \"far union square\", \"direction walking shopping\", \"average star views\", \"clean service great\", \"breakfast reccomend garden\", \"location best san\", \"goods shops stay\", \"walk chinatown goods\", \"overpriced poor similaly\", \"chinatown goods shops\", \"room high floor\", \"walk pier clean\", \"view room high\", \"best thing hotel\", \"floor bay view\", \"default pool high\", \"bay view room\", \"california street blocks\", \"hilton financial district\", \"walk fisherman wharf\", \"walk north beach\", \"visit san francisco\", \"thoroughfare fisherman wharf\", \"location right chinatown\", \"great view room\", \"coit tower bay\", \"walk union square\", \"chinatown north beach\", \"rooms good size\", \"views roof pool\", \"distance china town\", \"walking distance china\", \"million dollar view\", \"north beach short\", \"good view alcatraz\", \"view bay alcatraz\", \"beach short walk\", \"love san francisco\", \"north beach little\", \"beach little italy\", \"union square minutes\", \"view like dollar\", \"instances hard pressed\", \"real value money\", \"helpful highly recommend\", \"stay just transportation\", \"extremely spacious clean\", \"loved clean gorgeous\", \"tax heh san\", \"luxurious hotel good\", \"swimming small roof\", \"couldn really ask\", \"hotel spa lobby\", \"didnt pay taxi\", \"car ride fishermans\", \"lobby sleek modern\", \"helpful overly friendly\", \"usual facilities reception\", \"room great view\", \"short walk union\", \"bank america tower\", \"view coit tower\", \"transamerica pyramid bank\", \"great view coit\", \"coit tower bed\", \"tower bed comfortable\", \"parking expensive hotel\", \"fisherman wharf area\", \"chinatown north beach\", \"walk union square\", \"alcatraz coit tower\", \"china town north\", \"hilton financial district\", \"great view bay\", \"walk fisherman wharf\", \"room service good\", \"trip san francisco\", \"asked high floor\", \"wharf union square\", \"coit tower alcatraz\", \"great place stay\", \"expect star hotel\", \"location walking distance\", \"stayed new hilton\", \"town financial district\", \"china town financial\", \"shower head neck\", \"hotel hotel located\", \"san francisco booked\", \"appreciated view room\", \"corner china town\", \"room nicely furnished\", \"closed renovations opened\", \"amazing breakfast chinese\", \"hotel closed renovations\", \"renovations opened different\", \"great location day\", \"certainly stay time\", \"promptly sent staff\", \"hotel located best\", \"air view alcatraz\", \"girl said booked\", \"alcatraz accross bay\", \"friendly didnot room\", \"located best financial\", \"china gate walking\", \"different hotel chain\", \"brand new stylish\", \"beds comfortable forgotten\", \"completely brand new\", \"day stay hotel\", \"hotel conference end\", \"room views bay\", \"walking distance union\", \"union square chinatown\", \"king sized bed\", \"distance union square\", \"street noise floor\", \"stayed hotel nights\", \"cable car stop\", \"coffee making facilities\", \"nights san francisco\", \"hilton san francisco\", \"hotel holiday inn\", \"hilton financial district\", \"king size bed\", \"walk north beach\", \"hotel san francisco\", \"financial district great\", \"view coit tower\", \"chinatown walking distance\", \"union square shopping\", \"chinatown north beach\", \"chinatown financial district\", \"bay view room\", \"walk union square\", \"market street union\", \"room clean bathroom\", \"experience definitely stay\", \"right outside hotel\", \"bay view high\", \"view high floor\", \"street union square\", \"modern staff friendly\", \"embarcadero ferry building\", \"north beach area\", \"staff china town\", \"fransisco really good\", \"ferry building trams\", \"montgomery station number\", \"site located near\", \"market stop right\", \"bus minute walk\", \"cleaned excellently day\", \"shuttle service hotel\", \"gave hotel easy\", \"photo site located\", \"room cleaned excellently\", \"just road lovely\", \"tourist friendly hotel\", \"town spa located\", \"add stayed nights\", \"bad area chinese\", \"beach best roof\", \"hotel price location\", \"walk new ferry\", \"rated hotels lots\", \"blocks north beach\", \"minute walk union\", \"close china town\", \"right edge chinatown\", \"area chinese friendly\", \"north beach italian\", \"walk union square\", \"booked room priceline\", \"booked hotel priceline\", \"walking north beach\", \"chinatown north beach\", \"chinatown financial district\", \"chinese cultural center\", \"close north beach\", \"staff friendly helpful\", \"hotel saved person\", \"stayed holiday inn\", \"distance union square\", \"walking distance union\", \"access concierge lounge\", \"good value money\", \"edge chinatown financial\", \"staff really friendly\", \"crabtree amp evelyn\", \"asked rooms floor\", \"gave room floor\", \"room floor overlooking\", \"coffee bar hotel\", \"california cable car\", \"close bart station\", \"free internet room\", \"building looks quite\", \"quite run outside\", \"room chic room\", \"restaurant food better\", \"amazing views coit\", \"looks quite run\", \"unable clean towels\", \"right ambience friendly\", \"room free crabtree\", \"new comfortable inside\", \"hotel restaurant went\", \"restaurant went live\", \"free crabtree amp\", \"went live vocal\", \"amazed new comfortable\", \"friendly gave room\", \"bay decor modern\", \"friendly service building\", \"shampoo rinse bedding\", \"spotless location great\", \"person apartment star\", \"vocal jazz bar\", \"view telegraph hill\", \"cable car line\", \"got great deal\", \"jazz bar set\", \"renovated room chic\", \"hilton financial district\", \"comfortable restaurant food\", \"got room priceline\", \"coit tower bay\", \"china town block\", \"chinatown little italy\", \"san francisco bay\", \"chinatown walking distance\", \"view coit tower\", \"tower bay decor\", \"view bay coit\", \"bay view rooms\", \"non smoking room\", \"chinatown north beach\", \"views coit tower\", \"location great walking\", \"distance union square\", \"king sized bed\", \"holiday inn select\"], \"Total\": [10.0, 4.0, 4.0, 3.0, 4.0, 3.0, 3.0, 6.0, 4.0, 15.0, 6.0, 2.0, 2.0, 2.0, 2.0, 10.0, 4.0, 2.0, 2.0, 2.0, 3.0, 2.0, 2.0, 2.0, 2.0, 3.0, 3.0, 4.0, 2.0, 2.0, 2.5466518030005116, 2.1308797569544677, 2.113340555230374, 1.6938561682298463, 1.6941692100242516, 1.6950693738214744, 1.6926978418569623, 1.6931522725666268, 1.6962520272150003, 1.6963700730589357, 1.6953227060135405, 1.7013938526379841, 1.6981700885041437, 1.6951173274676086, 1.701382663427822, 1.699414470616035, 1.6991740202574221, 1.7003158582743534, 1.6915070388421947, 1.7001153966352724, 1.6994371624772713, 1.6925560959956882, 1.6918298298943957, 1.702370346487059, 1.6961850671916534, 1.6937502737374062, 1.6958767658357627, 1.6968152328384924, 1.6954573495034202, 1.6974678272063308, 2.840963429186157, 1.7075614326998343, 1.6986826270168895, 2.438872017377661, 2.6027074302461712, 1.7031230135803979, 6.246017474644133, 1.7058146849793465, 15.007783720130416, 4.133770139996912, 6.243748119568364, 2.5631332098788104, 1.7019027732453431, 2.8618778160916833, 2.737443923133165, 4.477465836101774, 10.670582688750788, 11.208827281144888, 3.1156635883145842, 2.7138667053463257, 2.384728033087586, 2.3893226496189115, 2.0368473630237602, 2.032697829485649, 2.035341447334885, 2.039671416860512, 2.035708621428925, 2.0015001626642226, 4.599051433956198, 4.599746042382704, 1.7054285926517088, 1.6185756973541605, 1.620937449771419, 1.6204348603080678, 1.6165232755991115, 1.6210384247519494, 1.620153662475823, 1.6217738382821367, 1.6191152050433375, 1.6204503035024012, 1.61983862063166, 1.6202926169864862, 1.6201962611780927, 1.6179960340420079, 1.6180191710277139, 1.6179746430515818, 1.6193313414833919, 1.6214738186236484, 4.981731812102689, 2.8846112188419313, 1.6233760380763997, 10.254871222383791, 1.6238209967528758, 3.8006301758208263, 2.3695786409876627, 2.368565666049919, 1.627219597935351, 2.337932662307439, 11.208827281144888, 10.670582688750788, 2.4715520615896462, 2.778836738390358, 15.007783720130416, 2.803348183313562, 4.133770139996912, 2.7977150185163615, 2.8418874251880744, 3.1887575172106164, 3.2457227286760033, 4.243241683067405, 3.9023113310950848, 2.4448288663138773, 3.5393921651023126, 1.8486415170920745, 1.846478845297959, 1.8484822137116008, 1.8500890411016018, 1.823385809286406, 1.851733960906392, 1.821455146731727, 1.8206035164555217, 1.8275495874946548, 1.4842315387494547, 1.485139177683249, 1.486261387298976, 1.4863545886305425, 1.4898966421820528, 1.488569716581241, 1.4869988341477596, 1.4891601967721362, 1.4850835244595806, 1.4868009161820386, 1.4875820255486465, 1.4845985464620493, 1.4853050627479067, 1.4869398832728657, 1.4866039934315278, 1.4860542400809067, 1.4904909113878873, 1.4907906417994743, 1.4884314004994328, 1.4923648636390558, 1.492790602593084, 6.615772614861893, 3.2617582194642343, 3.3209377473240127, 6.263093506285056, 2.160284717221068, 2.2055923423048287, 3.7927013994543923, 2.233988605065554, 2.2574035724296433, 3.808183104842859, 2.589163967473233, 15.007783720130416, 2.61448135771141, 6.243748119568364, 2.8389370750619443, 3.0766626446294345, 10.254871222383791, 3.4719388674009894, 3.860510586848217, 11.208827281144888, 5.496718866442606, 6.246017474644133, 10.670582688750788, 2.1710462485596427, 1.842860934458167, 1.8394555767166956, 1.8197454451890445, 1.8175503804975834, 1.8215108616929057, 1.8193493736161763, 2.7629346075324324, 1.5910810823587769, 2.767617705486355, 1.4763807432175904, 1.479331462580973, 1.4801403236158102, 1.4771985083678594, 1.4825154073527307, 1.4817686871622304, 1.4821513614188324, 1.4810081185890984, 1.4828986760428904, 1.482030658108143, 1.4820359584526561, 1.4800254887806368, 1.4785316807427675, 1.4805574040996603, 1.481109181485129, 1.4844632583403257, 1.4828286729629416, 1.4848045284791243, 1.4846870652662147, 1.4830822016542375, 1.4846943109624569, 3.939849992456444, 4.955312498664741, 2.9113612904696065, 2.2879843254343974, 1.4860048960455603, 3.665121129600236, 10.670582688750788, 2.5839254135115275, 3.132705559267602, 2.771386500715743, 11.208827281144888, 5.496718866442606, 3.0719992931373192, 3.277339767147846, 3.400887338566687, 1.4876275376176007, 4.331879931430762, 6.263093506285056, 6.615772614861893, 2.4059836549249076, 2.5605274145349117, 1.815371411001112, 2.3056388736758833, 2.2997709902965937, 2.306331901538304, 1.744222972013131, 1.7557724448525784, 1.7510927406060126, 1.755679224266562, 1.7312226939624422, 1.7366283000433804, 1.4173229369628042, 1.4175528049080517, 1.4169210549060711, 1.415263998182892, 1.4189069633974776, 1.4200460877962577, 1.4135367687506097, 1.4205598800347763, 1.4170805711184074, 1.4177841136728744, 1.4180739303482124, 1.4220018772544292, 1.4191583026288064, 1.4235064408463531, 1.4235149418776625, 1.4212825905230622, 1.421757845181224, 1.4202067798342584, 1.4205028289001569, 1.4199116630763142, 1.4184283576504066, 1.4251265744292025, 2.4393070275344213, 2.114941394709226, 4.56792350683984, 1.42408685174985, 1.4241521439712814, 15.007783720130416, 1.4230257588119057, 2.7091722865877514, 4.477465836101774, 2.7010586863623343, 2.8498357525660447, 3.0294304580548914, 3.4719388674009894, 10.254871222383791, 1.425820543588565, 2.3601613524760854, 2.288838956375349, 1.8288635025643898, 11.208827281144888, 3.4542666415020014, 1.7826191873113468, 6.263093506285056, 3.3209377473240127, 2.3624390213331408], \"loglift\": [30.0, 29.0, 28.0, 27.0, 26.0, 25.0, 24.0, 23.0, 22.0, 21.0, 20.0, 19.0, 18.0, 17.0, 16.0, 15.0, 14.0, 13.0, 12.0, 11.0, 10.0, 9.0, 8.0, 7.0, 6.0, 5.0, 4.0, 3.0, 2.0, 1.0, 1.3222, 1.2806, 1.2789, 1.2288, 1.2284, 1.2277, 1.227, 1.2266, 1.2266, 1.2265, 1.2259, 1.2258, 1.2255, 1.2254, 1.2253, 1.2252, 1.225, 1.225, 1.2248, 1.2247, 1.2247, 1.2246, 1.2246, 1.2245, 1.2242, 1.2242, 1.2241, 1.2241, 1.224, 1.2239, 1.1984, 1.2235, 1.2239, 1.1376, 1.1218, 1.2228, 0.7564, 1.2221, 0.1569, 0.71, 0.4377, 0.8982, 1.2223, 0.7699, 0.8056, 0.3222, -0.5248, -0.5747, 1.3917, 1.3721, 1.3478, 1.346, 1.309, 1.3076, 1.3069, 1.3057, 1.3056, 1.2996, 1.264, 1.2631, 1.2576, 1.2468, 1.2459, 1.2456, 1.2456, 1.2454, 1.2454, 1.2453, 1.2453, 1.2451, 1.2451, 1.245, 1.2449, 1.2448, 1.2448, 1.2448, 1.2446, 1.2445, 1.1857, 1.1874, 1.2444, 0.9978, 1.2443, 1.0839, 1.1587, 1.1577, 1.2438, 1.1448, 0.6567, 0.6554, 1.112, 1.0484, 0.3389, 0.9881, 0.8005, 0.9839, 0.9487, 0.859, 0.8438, 0.6334, 0.6472, 1.4075, 1.3458, 1.3444, 1.3406, 1.3391, 1.3378, 1.3353, 1.335, 1.331, 1.33, 1.3231, 1.2696, 1.2691, 1.2685, 1.268, 1.268, 1.2678, 1.2677, 1.2677, 1.2674, 1.2673, 1.2673, 1.2672, 1.2671, 1.267, 1.2669, 1.2668, 1.2665, 1.2665, 1.2665, 1.2664, 1.2663, 1.0144, 1.1124, 1.1003, 0.9623, 1.1671, 1.1473, 0.9595, 1.128, 1.1214, 0.854, 0.9998, 0.1193, 0.9668, 0.4693, 0.8927, 0.8327, -0.0005, 0.6898, 0.5885, -0.2647, 0.301, 0.1358, -0.4108, 1.4524, 1.4073, 1.406, 1.4021, 1.4019, 1.401, 1.3991, 1.3503, 1.3446, 1.3422, 1.339, 1.3372, 1.3369, 1.3366, 1.3365, 1.3364, 1.3363, 1.3359, 1.3359, 1.3358, 1.3358, 1.3357, 1.3355, 1.3355, 1.3354, 1.3353, 1.3351, 1.3351, 1.3351, 1.3349, 1.3349, 1.2979, 1.1905, 1.1472, 1.192, 1.3342, 0.9331, 0.4252, 1.046, 0.9415, 0.9832, 0.1434, 0.5299, 0.8722, 0.8121, 0.7834, 1.3337, 0.538, 0.1667, 0.1158, 0.9352, 0.8015, 1.1353, 1.4988, 1.4967, 1.491, 1.4284, 1.4205, 1.4196, 1.413, 1.4127, 1.4111, 1.3455, 1.3453, 1.3451, 1.345, 1.3445, 1.3444, 1.3443, 1.3442, 1.3442, 1.3441, 1.3441, 1.344, 1.3437, 1.3436, 1.3434, 1.3432, 1.3432, 1.343, 1.343, 1.343, 1.3429, 1.3427, 1.3032, 1.2268, 0.9738, 1.3421, 1.342, 0.1501, 1.3423, 0.9843, 0.7028, 0.9849, 0.9398, 0.8784, 0.7402, -0.0835, 1.3408, 0.9179, 0.9334, 1.1216, -0.6273, 0.4774, 1.1202, -0.1317, 0.5026, 0.8376], \"logprob\": [30.0, 29.0, 28.0, 27.0, 26.0, 25.0, 24.0, 23.0, 22.0, 21.0, 20.0, 19.0, 18.0, 17.0, 16.0, 15.0, 14.0, 13.0, 12.0, 11.0, 10.0, 9.0, 8.0, 7.0, 6.0, 5.0, 4.0, 3.0, 2.0, 1.0, -7.8543, -8.0742, -8.0841, -8.3556, -8.3557, -8.3559, -8.358, -8.3581, -8.3563, -8.3563, -8.3575, -8.3541, -8.3563, -8.3581, -8.3546, -8.3558, -8.3561, -8.3555, -8.3608, -8.356, -8.3564, -8.3605, -8.3609, -8.3548, -8.3587, -8.3602, -8.359, -8.3585, -8.3594, -8.3582, -7.8687, -8.3528, -8.3576, -8.0822, -8.0329, -8.356, -7.5229, -8.3551, -7.2459, -7.9822, -7.842, -8.2719, -8.3573, -8.2899, -8.2987, -8.29, -8.2686, -8.2693, -7.5832, -7.7408, -7.8945, -7.8943, -8.091, -8.0944, -8.0938, -8.0928, -8.0948, -8.1178, -7.3214, -7.3222, -8.3199, -8.383, -8.3824, -8.383, -8.3855, -8.3829, -8.3834, -8.3825, -8.3842, -8.3835, -8.3839, -8.3837, -8.3839, -8.3853, -8.3853, -8.3854, -8.3847, -8.3835, -7.3199, -7.8645, -8.3824, -6.7858, -8.3822, -7.6923, -8.0899, -8.0913, -8.3806, -8.1173, -7.038, -7.0884, -8.0945, -8.0408, -7.0638, -8.0924, -7.8917, -8.0986, -8.1182, -8.0927, -8.0902, -8.0326, -8.1025, -7.8098, -7.5016, -8.1525, -8.1575, -8.1578, -8.1583, -8.1754, -8.1602, -8.1806, -8.1822, -8.1852, -8.4468, -8.4467, -8.4465, -8.447, -8.4446, -8.4457, -8.4468, -8.4454, -8.4485, -8.4473, -8.4469, -8.449, -8.4486, -8.4476, -8.4479, -8.4484, -8.4457, -8.4455, -8.4471, -8.4445, -8.4444, -7.2075, -7.8167, -7.8107, -7.3143, -8.174, -8.173, -7.8188, -8.1795, -8.1757, -7.9201, -8.1602, -7.2835, -8.1834, -7.8104, -8.1752, -8.1547, -7.7841, -8.1768, -8.172, -7.9594, -8.1062, -8.1435, -8.1546, -7.8837, -8.0927, -8.0959, -8.1105, -8.1119, -8.1106, -8.1137, -7.7447, -8.3023, -7.7512, -8.3828, -8.3825, -8.3823, -8.3846, -8.3811, -8.3817, -8.3815, -8.3827, -8.3815, -8.3821, -8.3821, -8.3836, -8.3848, -8.3834, -8.3831, -8.381, -8.3822, -8.3809, -8.381, -8.3823, -8.3812, -7.4423, -7.3204, -7.8955, -8.0916, -8.381, -7.8794, -7.3186, -8.116, -8.0279, -8.1087, -7.5513, -7.8773, -8.1168, -8.1122, -8.1039, -8.3805, -8.1073, -8.1099, -8.106, -8.2981, -8.3696, -8.3797, -7.7771, -7.7818, -7.7847, -8.1266, -8.128, -8.1315, -8.1355, -8.1498, -8.1482, -8.417, -8.4171, -8.4177, -8.419, -8.4169, -8.4163, -8.4209, -8.4161, -8.4185, -8.4181, -8.4179, -8.4152, -8.4176, -8.4146, -8.4148, -8.4165, -8.4162, -8.4175, -8.4173, -8.4178, -8.4189, -8.4143, -7.9164, -8.1354, -7.6184, -8.4157, -8.4157, -7.2527, -8.4163, -8.1304, -7.9095, -8.1328, -8.1242, -8.1245, -8.1265, -7.867, -8.4158, -8.3347, -8.3498, -8.386, -8.3219, -8.3943, -8.4131, -8.4083, -8.4084, -8.414]}, \"token.table\": {\"Topic\": [1, 4, 4, 3, 3, 1, 2, 5, 3, 5, 3, 4, 1, 2, 5, 1, 4, 2, 5, 4, 1, 2, 3, 1, 5, 4, 2, 3, 2, 3, 1, 1, 2, 4, 4, 5, 1, 4, 3, 1, 5, 4, 5, 2, 3, 4, 5, 1, 2, 3, 3, 4, 5, 3, 2, 4, 1, 2, 3, 4, 1, 1, 4, 5, 1, 2, 3, 4, 5, 1, 3, 5, 4, 5, 1, 4, 5, 2, 4, 2, 3, 4, 3, 5, 2, 3, 1, 2, 3, 1, 2, 5, 2, 1, 5, 3, 3, 2, 5, 3, 1, 2, 3, 1, 2, 2, 3, 4, 5, 4, 1, 4, 3, 4, 2, 1, 4, 1, 2, 3, 2, 1, 2, 4, 5, 5, 3, 5, 5, 4, 5, 3, 1, 3, 4, 2, 1, 1, 2, 5, 3, 5, 3, 1, 2, 1, 2, 2, 3, 1, 4, 2, 2, 1, 2, 3, 5, 1, 2, 3, 4, 5, 3, 3, 2, 3, 3, 3, 4, 5, 3, 4, 1, 2, 1, 2, 1, 5, 4, 2, 3, 3, 5, 2, 3, 1, 1, 5, 1, 2, 3, 5, 2, 2, 2, 4, 4, 2, 2, 4, 4, 4, 1, 5, 1, 1, 3, 5, 4, 1, 4, 2, 3, 2, 1, 2, 5, 4, 1, 1, 3, 5, 4, 2, 5, 3, 5, 5, 5, 1, 4, 4, 1, 5, 4, 4, 5, 5, 1, 2, 3, 1, 3, 1, 2, 3, 2, 4, 5, 3, 1, 5, 1, 2, 3, 4, 4, 1, 5, 1, 4, 1, 2, 4, 5, 2, 1, 2, 3, 4, 3, 3, 1, 3, 4, 2, 2, 1, 1, 4, 5, 2, 1, 3, 4, 2, 1, 2, 5, 1, 2, 3, 2, 1, 2, 3, 2, 2, 1, 2, 5, 2, 3, 5, 4, 2, 1, 5, 2, 3, 5, 2, 1, 2, 5, 1, 1, 2, 4, 1, 2, 3, 1, 1, 2, 3, 4, 2, 3, 4, 5, 3, 4, 1, 5, 1, 2], \"Freq\": [0.41563042124291183, 0.41563042124291183, 0.6736441568234096, 0.6733627998222513, 0.6722318385308416, 0.40460406055813475, 0.8092081211162695, 0.7024864794752119, 0.6733375666245338, 0.7047678429920219, 0.5490115975649028, 0.6729452928863974, 0.31360176953020735, 0.6272035390604147, 0.8671778761183577, 0.5910759949553674, 0.6743867435486202, 0.6160002220957618, 0.703354655920703, 0.5501910762584936, 0.48030605296552187, 0.16010201765517396, 0.16010201765517396, 0.4369027349934746, 0.4369027349934746, 0.6734893252408743, 0.6522099203646419, 0.21740330678821396, 0.9824588739994332, 0.6709198911309286, 0.8200512309581757, 0.5881260208999625, 0.2538167701599505, 0.7614503104798516, 0.31921289156641675, 0.31921289156641675, 0.38700807491227485, 0.38700807491227485, 0.6729229479171339, 0.5895583090208925, 0.7055555046212052, 0.6746949238994868, 0.4728263404847138, 0.2636643106530499, 0.5273286213060998, 0.2636643106530499, 0.5695801295465871, 0.5862301507927913, 0.6180396486679648, 0.6717858014045011, 0.6725221451447824, 0.3702252028247322, 0.3702252028247322, 0.5409843776598109, 0.7197256220091939, 0.35986281100459694, 0.18192671379010966, 0.18192671379010966, 0.18192671379010966, 0.3638534275802193, 0.5891127855105132, 0.35089741543862013, 0.35089741543862013, 0.35089741543862013, 0.08921539915974674, 0.4460769957987337, 0.1784307983194935, 0.1784307983194935, 0.08921539915974674, 0.28802350450040504, 0.28802350450040504, 0.28802350450040504, 0.32552090823521546, 0.32552090823521546, 0.587416247036703, 0.675215744902643, 0.5776264390984782, 0.34348193172503805, 0.6869638634500761, 0.3051255197962782, 0.3051255197962782, 0.3051255197962782, 0.6737493267678129, 0.5710719808329073, 0.44762985707827996, 0.44762985707827996, 0.23566887646076953, 0.47133775292153907, 0.23566887646076953, 0.223340620923784, 0.223340620923784, 0.446681241847568, 0.8440319158035545, 0.5884379692480208, 0.7027279680691846, 0.6707849995576439, 0.5492684107009032, 0.6171724721302858, 0.8696518081315856, 0.6718482287221682, 0.5871566481259305, 0.6180484864983526, 0.6726740977546415, 0.5908223676401846, 0.8386700589125604, 0.15966550698891743, 0.47899652096675227, 0.15966550698891743, 0.15966550698891743, 0.5508514643009256, 0.589858200124887, 0.6285034817443121, 0.8180531682838988, 0.5436391140170576, 0.6172254047013411, 0.5884301120862269, 0.6756116187397129, 0.32502751048951745, 0.32502751048951745, 0.32502751048951745, 0.8554566315122549, 0.768430587609624, 0.384215293804812, 0.6759810260881703, 0.7046430254804061, 0.5758284602266475, 0.6735827691486717, 0.7035898467116091, 0.704122818028444, 0.6747498741196962, 0.5733211957676657, 0.6725850038940678, 0.3905445395052088, 0.3905445395052088, 0.3905445395052088, 0.9826361088547763, 0.5896654875787389, 0.21891785151450915, 0.21891785151450915, 0.4378357030290183, 0.3691164290106913, 0.3691164290106913, 0.6711874983055425, 0.2562583851348876, 0.5125167702697752, 0.35671630300949575, 0.7134326060189915, 0.5262285219761109, 0.26311426098805546, 0.36530428680176996, 0.36530428680176996, 0.6186115690968834, 0.6175388411144738, 0.2665283611886459, 0.2665283611886459, 0.19989627089148446, 0.19989627089148446, 0.26259241545615336, 0.26259241545615336, 0.5251848309123067, 0.42329134888556535, 0.42329134888556535, 0.6728291594907997, 0.6700774216578316, 0.3862250566447905, 0.3862250566447905, 0.5484302855199672, 0.6715194256249752, 0.6735426093448811, 0.7051818516644242, 0.35224451037830085, 0.6722112724543104, 0.5907728924040909, 0.6172091764196952, 0.9385794733244236, 0.6169269518333467, 0.5911887902544476, 0.702204362585925, 0.6763466843656888, 0.38248503744366014, 0.38248503744366014, 0.602239533581015, 0.3011197667905075, 0.6180566576210055, 0.6732623654765828, 0.5904058086399087, 0.5899296666938877, 0.56097230811717, 0.34942092718886497, 0.34942092718886497, 0.8476031646279241, 0.7042024963794525, 0.9992504808681976, 0.6166087874862068, 0.6171124148877782, 0.6748691672754424, 0.9212148296365766, 0.9819096100706047, 0.20180361990680915, 0.6054108597204274, 0.7238680186449267, 0.6769570875784928, 0.5885212391892042, 0.7053260015796243, 0.5895350360416989, 0.4429868067071853, 0.4429868067071853, 0.546787662719401, 0.7226431584229726, 0.27284227850583276, 0.5456845570116655, 0.6523084255701265, 0.21743614185670881, 0.983914072710983, 0.5898113569727298, 0.614545204143817, 0.7050056455840157, 0.6747474609482933, 0.589946355850637, 0.5888691637955203, 0.6724954835442947, 0.7054410929438809, 0.6735393222809263, 0.61711829614051, 0.702172169057357, 0.6727869699795882, 0.7065819531083499, 0.7032339520752101, 0.7039477983677248, 0.4370659313018413, 0.4370659313018413, 0.549527409255922, 0.7853448978158551, 0.705755621696433, 0.5426345424669916, 0.6756640392888638, 0.5695498883877085, 0.7056761770509398, 0.20073340711970605, 0.6022002213591181, 0.20073340711970605, 0.7039865347977867, 0.547180775199034, 0.35743454690045723, 0.7148690938009145, 0.6698863177882608, 0.9628767403681242, 0.3300950504875001, 0.3300950504875001, 0.5400343791883134, 0.5903688983492876, 0.7039760707652115, 0.346667167300786, 0.693334334601572, 0.540514525400663, 0.6743549078272133, 0.6745292460640666, 0.5902598123511437, 0.7042691640643663, 0.5881953671963193, 0.677332053126501, 0.29404090769482905, 0.29404090769482905, 0.29404090769482905, 0.8674385320418359, 0.6168885232643511, 0.23084665683928904, 0.23084665683928904, 0.23084665683928904, 0.23084665683928904, 0.4533929415782279, 0.5409377592974363, 0.5877533872886139, 0.462901946224187, 0.5496470411355788, 0.6173454486534268, 0.6176212766609365, 0.9463690057194691, 0.5875776311787242, 0.6754212955411267, 0.7013505342566871, 0.8443928866601449, 0.5894940118795987, 0.5415713277985776, 0.6751696718247915, 0.6158314260005758, 0.3518788221999401, 0.7037576443998802, 0.7074453400203203, 0.5906143329235908, 0.30658311644087977, 0.6131662328817595, 0.5863628675564402, 0.2590330935516009, 0.2590330935516009, 0.2590330935516009, 0.6167228779856757, 0.9805500942296015, 0.4236998453308639, 0.4236998453308639, 0.4236998453308639, 0.5850877958275592, 0.19502926527585307, 0.19502926527585307, 0.5489948048240588, 0.6178271437256049, 0.5886914860347584, 0.8199049883529997, 0.28949704923913316, 0.28949704923913316, 0.28949704923913316, 0.7369558704043916, 0.39014749453746955, 0.39014749453746955, 0.7016920587566224, 0.5893393580202393, 0.4838198381300161, 0.4838198381300161, 0.6742714590496702, 0.3203204167912945, 0.16016020839564726, 0.3203204167912945, 0.5856304674314966, 0.09371559446835331, 0.37486237787341326, 0.09371559446835331, 0.28114678340505994, 0.837057314263937, 0.604615701424542, 0.1511539253561355, 0.1511539253561355, 0.3608302197263854, 0.3608302197263854, 0.5877572526719373, 0.7024906746508606, 0.3080977901054168, 0.6161955802108336], \"Term\": [\"access concierge lounge\", \"access concierge lounge\", \"add stayed nights\", \"air view alcatraz\", \"alcatraz accross bay\", \"alcatraz coit tower\", \"alcatraz coit tower\", \"amazed new comfortable\", \"amazing breakfast chinese\", \"amazing views coit\", \"appreciated view room\", \"area chinese friendly\", \"asked high floor\", \"asked high floor\", \"asked rooms floor\", \"average star views\", \"bad area chinese\", \"bank america tower\", \"bay decor modern\", \"bay view high\", \"bay view room\", \"bay view room\", \"bay view room\", \"bay view rooms\", \"bay view rooms\", \"beach best roof\", \"beach little italy\", \"beach little italy\", \"beach short walk\", \"beds comfortable forgotten\", \"best thing hotel\", \"blocks embarcadero coit\", \"blocks north beach\", \"blocks north beach\", \"booked hotel priceline\", \"booked hotel priceline\", \"booked room priceline\", \"booked room priceline\", \"brand new stylish\", \"breakfast reccomend garden\", \"building looks quite\", \"bus minute walk\", \"cable car line\", \"cable car stop\", \"cable car stop\", \"cable car stop\", \"california cable car\", \"california street blocks\", \"car ride fishermans\", \"certainly stay time\", \"china gate walking\", \"china town block\", \"china town block\", \"china town financial\", \"china town north\", \"china town north\", \"chinatown financial district\", \"chinatown financial district\", \"chinatown financial district\", \"chinatown financial district\", \"chinatown goods shops\", \"chinatown little italy\", \"chinatown little italy\", \"chinatown little italy\", \"chinatown north beach\", \"chinatown north beach\", \"chinatown north beach\", \"chinatown north beach\", \"chinatown north beach\", \"chinatown walking distance\", \"chinatown walking distance\", \"chinatown walking distance\", \"chinese cultural center\", \"chinese cultural center\", \"clean service great\", \"cleaned excellently day\", \"close bart station\", \"close china town\", \"close china town\", \"close north beach\", \"close north beach\", \"close north beach\", \"closed renovations opened\", \"coffee bar hotel\", \"coffee making facilities\", \"coffee making facilities\", \"coit tower alcatraz\", \"coit tower alcatraz\", \"coit tower alcatraz\", \"coit tower bay\", \"coit tower bay\", \"coit tower bay\", \"coit tower bed\", \"coit tower near\", \"comfortable restaurant food\", \"completely brand new\", \"corner china town\", \"couldn really ask\", \"crabtree amp evelyn\", \"day stay hotel\", \"default pool high\", \"didnt pay taxi\", \"different hotel chain\", \"direction walking shopping\", \"distance china town\", \"distance union square\", \"distance union square\", \"distance union square\", \"distance union square\", \"edge chinatown financial\", \"embarcadero coit tower\", \"embarcadero ferry building\", \"expect star hotel\", \"experience definitely stay\", \"extremely spacious clean\", \"far union square\", \"ferry building trams\", \"financial district great\", \"financial district great\", \"financial district great\", \"fisherman wharf area\", \"floor bay view\", \"floor bay view\", \"fransisco really good\", \"free crabtree amp\", \"free internet room\", \"friendly didnot room\", \"friendly gave room\", \"friendly service building\", \"gave hotel easy\", \"gave room floor\", \"girl said booked\", \"good value money\", \"good value money\", \"good value money\", \"good view alcatraz\", \"goods shops stay\", \"got great deal\", \"got great deal\", \"got great deal\", \"got room priceline\", \"got room priceline\", \"great location day\", \"great place stay\", \"great place stay\", \"great view bay\", \"great view bay\", \"great view coit\", \"great view coit\", \"great view room\", \"great view room\", \"helpful highly recommend\", \"helpful overly friendly\", \"hilton financial district\", \"hilton financial district\", \"hilton financial district\", \"hilton financial district\", \"hilton san francisco\", \"hilton san francisco\", \"hilton san francisco\", \"holiday inn select\", \"holiday inn select\", \"hotel closed renovations\", \"hotel conference end\", \"hotel holiday inn\", \"hotel holiday inn\", \"hotel hotel located\", \"hotel located best\", \"hotel price location\", \"hotel restaurant went\", \"hotel san francisco\", \"hotel saved person\", \"hotel second possible\", \"hotel spa lobby\", \"hotel union square\", \"instances hard pressed\", \"italian district minutes\", \"jazz bar set\", \"just road lovely\", \"king size bed\", \"king size bed\", \"king sized bed\", \"king sized bed\", \"lobby sleek modern\", \"located best financial\", \"location best san\", \"location far union\", \"location great walking\", \"location right chinatown\", \"location right chinatown\", \"location walking distance\", \"looks quite run\", \"love san francisco\", \"loved clean gorgeous\", \"luxurious hotel good\", \"market stop right\", \"market street union\", \"million dollar view\", \"minute walk union\", \"minute walk union\", \"modern staff friendly\", \"montgomery station number\", \"near want walk\", \"new comfortable inside\", \"nice location far\", \"nights san francisco\", \"nights san francisco\", \"non smoking room\", \"north beach area\", \"north beach italian\", \"north beach italian\", \"north beach little\", \"north beach little\", \"north beach short\", \"overpriced poor similaly\", \"parking expensive hotel\", \"person apartment star\", \"photo site located\", \"pier clean service\", \"pool high floor\", \"promptly sent staff\", \"quite run outside\", \"rated hotels lots\", \"real value money\", \"renovated room chic\", \"renovations opened different\", \"restaurant food better\", \"restaurant went live\", \"right ambience friendly\", \"right edge chinatown\", \"right edge chinatown\", \"right outside hotel\", \"room bay view\", \"room chic room\", \"room clean bathroom\", \"room cleaned excellently\", \"room floor overlooking\", \"room free crabtree\", \"room great view\", \"room great view\", \"room great view\", \"room high floor\", \"room nicely furnished\", \"room service good\", \"room service good\", \"room views bay\", \"rooms good size\", \"san francisco bay\", \"san francisco bay\", \"san francisco booked\", \"service great default\", \"shampoo rinse bedding\", \"short walk union\", \"short walk union\", \"shower head neck\", \"shuttle service hotel\", \"site located near\", \"situed nice location\", \"spotless location great\", \"square california street\", \"staff china town\", \"staff friendly helpful\", \"staff friendly helpful\", \"staff friendly helpful\", \"staff really friendly\", \"stay just transportation\", \"stayed holiday inn\", \"stayed holiday inn\", \"stayed holiday inn\", \"stayed holiday inn\", \"stayed hotel nights\", \"stayed new hilton\", \"street blocks embarcadero\", \"street noise floor\", \"street union square\", \"swimming small roof\", \"tax heh san\", \"thing hotel location\", \"thoroughfare fisherman wharf\", \"tourist friendly hotel\", \"tower bay decor\", \"tower bed comfortable\", \"tower near want\", \"town financial district\", \"town spa located\", \"transamerica pyramid bank\", \"trip san francisco\", \"trip san francisco\", \"unable clean towels\", \"union square california\", \"union square chinatown\", \"union square chinatown\", \"union square minutes\", \"union square shopping\", \"union square shopping\", \"union square shopping\", \"usual facilities reception\", \"view bay alcatraz\", \"view bay coit\", \"view bay coit\", \"view bay coit\", \"view coit tower\", \"view coit tower\", \"view coit tower\", \"view high floor\", \"view like dollar\", \"view room high\", \"view telegraph hill\", \"views coit tower\", \"views coit tower\", \"views coit tower\", \"views roof pool\", \"visit san francisco\", \"visit san francisco\", \"vocal jazz bar\", \"walk chinatown goods\", \"walk fisherman wharf\", \"walk fisherman wharf\", \"walk new ferry\", \"walk north beach\", \"walk north beach\", \"walk north beach\", \"walk pier clean\", \"walk union square\", \"walk union square\", \"walk union square\", \"walk union square\", \"walking distance china\", \"walking distance union\", \"walking distance union\", \"walking distance union\", \"walking north beach\", \"walking north beach\", \"want walk pier\", \"went live vocal\", \"wharf union square\", \"wharf union square\"]}, \"R\": 30, \"lambda.step\": 0.01, \"plot.opts\": {\"xlab\": \"PC1\", \"ylab\": \"PC2\"}, \"topic.order\": [1, 4, 2, 5, 3]};\n",
       "\n",
       "function LDAvis_load_lib(url, callback){\n",
       "  var s = document.createElement('script');\n",
       "  s.src = url;\n",
       "  s.async = true;\n",
       "  s.onreadystatechange = s.onload = callback;\n",
       "  s.onerror = function(){console.warn(\"failed to load library \" + url);};\n",
       "  document.getElementsByTagName(\"head\")[0].appendChild(s);\n",
       "}\n",
       "\n",
       "if(typeof(LDAvis) !== \"undefined\"){\n",
       "   // already loaded: just create the visualization\n",
       "   !function(LDAvis){\n",
       "       new LDAvis(\"#\" + \"ldavis_el72211135598464889981680386\", ldavis_el72211135598464889981680386_data);\n",
       "   }(LDAvis);\n",
       "}else if(typeof define === \"function\" && define.amd){\n",
       "   // require.js is available: use it to load d3/LDAvis\n",
       "   require.config({paths: {d3: \"https://cdnjs.cloudflare.com/ajax/libs/d3/3.5.5/d3.min\"}});\n",
       "   require([\"d3\"], function(d3){\n",
       "      window.d3 = d3;\n",
       "      LDAvis_load_lib(\"https://cdn.rawgit.com/bmabey/pyLDAvis/files/ldavis.v1.0.0.js\", function(){\n",
       "        new LDAvis(\"#\" + \"ldavis_el72211135598464889981680386\", ldavis_el72211135598464889981680386_data);\n",
       "      });\n",
       "    });\n",
       "}else{\n",
       "    // require.js not available: dynamically load d3 & LDAvis\n",
       "    LDAvis_load_lib(\"https://cdnjs.cloudflare.com/ajax/libs/d3/3.5.5/d3.min.js\", function(){\n",
       "         LDAvis_load_lib(\"https://cdn.rawgit.com/bmabey/pyLDAvis/files/ldavis.v1.0.0.js\", function(){\n",
       "                 new LDAvis(\"#\" + \"ldavis_el72211135598464889981680386\", ldavis_el72211135598464889981680386_data);\n",
       "            })\n",
       "         });\n",
       "}\n",
       "</script>"
      ],
      "text/plain": [
       "PreparedData(topic_coordinates=            Freq  cluster  topics         x         y\n",
       "topic                                                \n",
       "0      22.193123        1       1  0.003559 -0.020673\n",
       "3      21.356955        1       2  0.001190 -0.032756\n",
       "1      19.907251        1       3 -0.110481  0.050764\n",
       "4      18.596986        1       4  0.019884 -0.083262\n",
       "2      17.945684        1       5  0.085848  0.085926, topic_info=      Category       Freq                         Term      Total  loglift  \\\n",
       "term                                                                         \n",
       "22179  Default  10.000000              view coit tower  10.000000  30.0000   \n",
       "14230  Default   4.000000           north beach little   4.000000  29.0000   \n",
       "1529   Default   4.000000           beach little italy   4.000000  28.0000   \n",
       "2131   Default   3.000000           blocks north beach   3.000000  27.0000   \n",
       "17577  Default   4.000000              room great view   4.000000  26.0000   \n",
       "17973  Default   3.000000              rooms good size   3.000000  25.0000   \n",
       "12260  Default   3.000000    location walking distance   3.000000  24.0000   \n",
       "22640  Default   6.000000       walking distance union   6.000000  23.0000   \n",
       "13115  Default   4.000000            minute walk union   4.000000  22.0000   \n",
       "9567   Default  15.000000    hilton financial district  15.000000  21.0000   \n",
       "5665   Default   6.000000        distance union square   6.000000  20.0000   \n",
       "22369  Default   2.000000              views roof pool   2.000000  19.0000   \n",
       "19715  Default   2.000000        staff really friendly   2.000000  18.0000   \n",
       "4716   Default   2.000000          crabtree amp evelyn   2.000000  17.0000   \n",
       "817    Default   2.000000            asked rooms floor   2.000000  16.0000   \n",
       "22564  Default  10.000000            walk union square  10.000000  15.0000   \n",
       "22504  Default   4.000000         walk fisherman wharf   4.000000  14.0000   \n",
       "6770   Default   2.000000            expect star hotel   2.000000  13.0000   \n",
       "13226  Default   2.000000        modern staff friendly   2.000000  12.0000   \n",
       "14202  Default   2.000000             north beach area   2.000000  11.0000   \n",
       "11378  Default   3.000000               king sized bed   3.000000  10.0000   \n",
       "17397  Default   2.000000                room bay view   2.000000   9.0000   \n",
       "12841  Default   2.000000          market street union   2.000000   8.0000   \n",
       "5632   Default   2.000000          distance china town   2.000000   7.0000   \n",
       "22616  Default   2.000000       walking distance china   2.000000   6.0000   \n",
       "21790  Default   3.000000       union square chinatown   3.000000   5.0000   \n",
       "8974   Default   3.000000              great view coit   3.000000   4.0000   \n",
       "8688   Default   4.000000               got great deal   4.000000   3.0000   \n",
       "3847   Default   2.000000             close china town   2.000000   2.0000   \n",
       "18774  Default   2.000000             short walk union   2.000000   1.0000   \n",
       "...        ...        ...                          ...        ...      ...   \n",
       "1417    Topic5   0.977518             bay decor modern   1.421758   1.3432   \n",
       "8107    Topic5   0.976315    friendly service building   1.420207   1.3430   \n",
       "18680   Topic5   0.976443        shampoo rinse bedding   1.420503   1.3430   \n",
       "19482   Topic5   0.976035      spotless location great   1.419912   1.3430   \n",
       "15143   Topic5   0.974922        person apartment star   1.418428   1.3429   \n",
       "22421   Topic5   0.979380               vocal jazz bar   1.425127   1.3427   \n",
       "22313   Topic5   1.611412          view telegraph hill   2.439307   1.3032   \n",
       "2688    Topic5   1.294396               cable car line   2.114941   1.2268   \n",
       "8688    Topic5   2.170756               got great deal   4.567924   0.9738   \n",
       "11141   Topic5   0.978049                 jazz bar set   1.424087   1.3421   \n",
       "16830   Topic5   0.978027          renovated room chic   1.424152   1.3420   \n",
       "9567    Topic5   3.129279    hilton financial district  15.007784   0.1501   \n",
       "4149    Topic5   0.977481  comfortable restaurant food   1.423026   1.3423   \n",
       "8723    Topic5   1.300995           got room priceline   2.709172   0.9843   \n",
       "3981    Topic5   1.622611               coit tower bay   4.477466   0.7028   \n",
       "3325    Topic5   1.297864             china town block   2.701059   0.9849   \n",
       "3427    Topic5   1.308976       chinatown little italy   2.849836   0.9398   \n",
       "18225   Topic5   1.308626            san francisco bay   3.029430   0.8784   \n",
       "3471    Topic5   1.306097   chinatown walking distance   3.471939   0.7402   \n",
       "22179   Topic5   1.692920              view coit tower  10.254871  -0.0835   \n",
       "21279   Topic5   0.977935              tower bay decor   1.425821   1.3408   \n",
       "22155   Topic5   1.060587                view bay coit   2.360161   0.9179   \n",
       "1463    Topic5   1.044639               bay view rooms   2.288839   0.9334   \n",
       "14184   Topic5   1.007537             non smoking room   1.828864   1.1216   \n",
       "3439    Topic5   1.074246        chinatown north beach  11.208827  -0.6273   \n",
       "22349   Topic5   0.999180             views coit tower   3.454267   0.4774   \n",
       "12172   Topic5   0.980623       location great walking   1.782619   1.1202   \n",
       "5665    Topic5   0.985288        distance union square   6.263094  -0.1317   \n",
       "11378   Topic5   0.985176               king sized bed   3.320938   0.5026   \n",
       "9765    Topic5   0.979671           holiday inn select   2.362439   0.8376   \n",
       "\n",
       "       logprob  \n",
       "term            \n",
       "22179  30.0000  \n",
       "14230  29.0000  \n",
       "1529   28.0000  \n",
       "2131   27.0000  \n",
       "17577  26.0000  \n",
       "17973  25.0000  \n",
       "12260  24.0000  \n",
       "22640  23.0000  \n",
       "13115  22.0000  \n",
       "9567   21.0000  \n",
       "5665   20.0000  \n",
       "22369  19.0000  \n",
       "19715  18.0000  \n",
       "4716   17.0000  \n",
       "817    16.0000  \n",
       "22564  15.0000  \n",
       "22504  14.0000  \n",
       "6770   13.0000  \n",
       "13226  12.0000  \n",
       "14202  11.0000  \n",
       "11378  10.0000  \n",
       "17397   9.0000  \n",
       "12841   8.0000  \n",
       "5632    7.0000  \n",
       "22616   6.0000  \n",
       "21790   5.0000  \n",
       "8974    4.0000  \n",
       "8688    3.0000  \n",
       "3847    2.0000  \n",
       "18774   1.0000  \n",
       "...        ...  \n",
       "1417   -8.4162  \n",
       "8107   -8.4175  \n",
       "18680  -8.4173  \n",
       "19482  -8.4178  \n",
       "15143  -8.4189  \n",
       "22421  -8.4143  \n",
       "22313  -7.9164  \n",
       "2688   -8.1354  \n",
       "8688   -7.6184  \n",
       "11141  -8.4157  \n",
       "16830  -8.4157  \n",
       "9567   -7.2527  \n",
       "4149   -8.4163  \n",
       "8723   -8.1304  \n",
       "3981   -7.9095  \n",
       "3325   -8.1328  \n",
       "3427   -8.1242  \n",
       "18225  -8.1245  \n",
       "3471   -8.1265  \n",
       "22179  -7.8670  \n",
       "21279  -8.4158  \n",
       "22155  -8.3347  \n",
       "1463   -8.3498  \n",
       "14184  -8.3860  \n",
       "3439   -8.3219  \n",
       "22349  -8.3943  \n",
       "12172  -8.4131  \n",
       "5665   -8.4083  \n",
       "11378  -8.4084  \n",
       "9765   -8.4140  \n",
       "\n",
       "[294 rows x 6 columns], token_table=       Topic      Freq                        Term\n",
       "term                                              \n",
       "52         1  0.415630     access concierge lounge\n",
       "52         4  0.415630     access concierge lounge\n",
       "146        4  0.673644           add stayed nights\n",
       "294        3  0.673363           air view alcatraz\n",
       "326        3  0.672232        alcatraz accross bay\n",
       "332        1  0.404604         alcatraz coit tower\n",
       "332        2  0.809208         alcatraz coit tower\n",
       "393        5  0.702486      amazed new comfortable\n",
       "396        3  0.673338   amazing breakfast chinese\n",
       "419        5  0.704768          amazing views coit\n",
       "590        3  0.549012       appreciated view room\n",
       "621        4  0.672945       area chinese friendly\n",
       "804        1  0.313602            asked high floor\n",
       "804        2  0.627204            asked high floor\n",
       "817        5  0.867178           asked rooms floor\n",
       "982        1  0.591076          average star views\n",
       "1096       4  0.674387            bad area chinese\n",
       "1167       2  0.616000          bank america tower\n",
       "1417       5  0.703355            bay decor modern\n",
       "1454       4  0.550191               bay view high\n",
       "1462       1  0.480306               bay view room\n",
       "1462       2  0.160102               bay view room\n",
       "1462       3  0.160102               bay view room\n",
       "1463       1  0.436903              bay view rooms\n",
       "1463       5  0.436903              bay view rooms\n",
       "1494       4  0.673489             beach best roof\n",
       "1529       2  0.652210          beach little italy\n",
       "1529       3  0.217403          beach little italy\n",
       "1551       2  0.982459            beach short walk\n",
       "1718       3  0.670920  beds comfortable forgotten\n",
       "...      ...       ...                         ...\n",
       "22313      5  0.819905         view telegraph hill\n",
       "22349      2  0.289497            views coit tower\n",
       "22349      3  0.289497            views coit tower\n",
       "22349      5  0.289497            views coit tower\n",
       "22369      2  0.736956             views roof pool\n",
       "22397      1  0.390147         visit san francisco\n",
       "22397      2  0.390147         visit san francisco\n",
       "22421      5  0.701692              vocal jazz bar\n",
       "22493      1  0.589339        walk chinatown goods\n",
       "22504      1  0.483820        walk fisherman wharf\n",
       "22504      2  0.483820        walk fisherman wharf\n",
       "22534      4  0.674271              walk new ferry\n",
       "22536      1  0.320320            walk north beach\n",
       "22536      2  0.160160            walk north beach\n",
       "22536      3  0.320320            walk north beach\n",
       "22539      1  0.585630             walk pier clean\n",
       "22564      1  0.093716           walk union square\n",
       "22564      2  0.374862           walk union square\n",
       "22564      3  0.093716           walk union square\n",
       "22564      4  0.281147           walk union square\n",
       "22616      2  0.837057      walking distance china\n",
       "22640      3  0.604616      walking distance union\n",
       "22640      4  0.151154      walking distance union\n",
       "22640      5  0.151154      walking distance union\n",
       "22655      3  0.360830         walking north beach\n",
       "22655      4  0.360830         walking north beach\n",
       "22749      1  0.587757              want walk pier\n",
       "23061      5  0.702491             went live vocal\n",
       "23149      1  0.308098          wharf union square\n",
       "23149      2  0.616196          wharf union square\n",
       "\n",
       "[337 rows x 3 columns], R=30, lambda_step=0.01, plot_opts={'xlab': 'PC1', 'ylab': 'PC2'}, topic_order=[1, 4, 2, 5, 3])"
      ]
     },
     "execution_count": 62,
     "metadata": {},
     "output_type": "execute_result"
    }
   ],
   "source": [
    "pyLDAvis.sklearn.prepare(analyzer.lda_tf, analyzer.dtm_tf, analyzer.tf_vectorizer)"
   ]
  },
  {
   "cell_type": "code",
   "execution_count": null,
   "metadata": {
    "collapsed": true
   },
   "outputs": [],
   "source": []
  },
  {
   "cell_type": "code",
   "execution_count": null,
   "metadata": {
    "collapsed": true
   },
   "outputs": [],
   "source": []
  },
  {
   "cell_type": "code",
   "execution_count": null,
   "metadata": {
    "collapsed": true
   },
   "outputs": [],
   "source": []
  },
  {
   "cell_type": "markdown",
   "metadata": {},
   "source": [
    "# Visualize positive clusters"
   ]
  },
  {
   "cell_type": "code",
   "execution_count": 63,
   "metadata": {},
   "outputs": [
    {
     "name": "stderr",
     "output_type": "stream",
     "text": [
      "/Users/steventa/anaconda3/lib/python3.6/site-packages/pyLDAvis/_prepare.py:387: DeprecationWarning: \n",
      ".ix is deprecated. Please use\n",
      ".loc for label based indexing or\n",
      ".iloc for positional indexing\n",
      "\n",
      "See the documentation here:\n",
      "http://pandas.pydata.org/pandas-docs/stable/indexing.html#ix-indexer-is-deprecated\n",
      "  topic_term_dists = topic_term_dists.ix[topic_order]\n"
     ]
    },
    {
     "data": {
      "text/html": [
       "\n",
       "<link rel=\"stylesheet\" type=\"text/css\" href=\"https://cdn.rawgit.com/bmabey/pyLDAvis/files/ldavis.v1.0.0.css\">\n",
       "\n",
       "\n",
       "<div id=\"ldavis_el72211134855133764410656370\"></div>\n",
       "<script type=\"text/javascript\">\n",
       "\n",
       "var ldavis_el72211134855133764410656370_data = {\"mdsDat\": {\"Freq\": [39.69417883110369, 19.283706508341933, 16.638967499450235, 12.336275221503703, 12.04687193960043], \"cluster\": [1, 1, 1, 1, 1], \"topics\": [1, 2, 3, 4, 5], \"x\": [-0.06230894498061804, 0.03150634684307712, 0.01970427486938441, 0.004023273613165602, 0.0070750496549909034], \"y\": [0.007468802497674327, 0.039278894900625964, -0.036897349822080316, -0.008049718680825343, -0.0018006288953946311]}, \"tinfo\": {\"Category\": [\"Default\", \"Default\", \"Default\", \"Default\", \"Default\", \"Default\", \"Default\", \"Default\", \"Default\", \"Default\", \"Default\", \"Default\", \"Default\", \"Default\", \"Default\", \"Default\", \"Default\", \"Default\", \"Default\", \"Default\", \"Default\", \"Default\", \"Default\", \"Default\", \"Default\", \"Default\", \"Default\", \"Default\", \"Default\", \"Default\", \"Topic1\", \"Topic1\", \"Topic1\", \"Topic1\", \"Topic1\", \"Topic1\", \"Topic1\", \"Topic1\", \"Topic1\", \"Topic1\", \"Topic1\", \"Topic1\", \"Topic1\", \"Topic1\", \"Topic1\", \"Topic1\", \"Topic1\", \"Topic1\", \"Topic1\", \"Topic1\", \"Topic1\", \"Topic1\", \"Topic1\", \"Topic1\", \"Topic1\", \"Topic1\", \"Topic1\", \"Topic1\", \"Topic1\", \"Topic1\", \"Topic1\", \"Topic1\", \"Topic1\", \"Topic1\", \"Topic1\", \"Topic1\", \"Topic1\", \"Topic1\", \"Topic1\", \"Topic1\", \"Topic1\", \"Topic1\", \"Topic1\", \"Topic1\", \"Topic1\", \"Topic1\", \"Topic1\", \"Topic1\", \"Topic1\", \"Topic1\", \"Topic1\", \"Topic1\", \"Topic2\", \"Topic2\", \"Topic2\", \"Topic2\", \"Topic2\", \"Topic2\", \"Topic2\", \"Topic2\", \"Topic2\", \"Topic2\", \"Topic2\", \"Topic2\", \"Topic2\", \"Topic2\", \"Topic2\", \"Topic2\", \"Topic2\", \"Topic2\", \"Topic2\", \"Topic2\", \"Topic2\", \"Topic2\", \"Topic2\", \"Topic2\", \"Topic2\", \"Topic2\", \"Topic2\", \"Topic2\", \"Topic2\", \"Topic2\", \"Topic2\", \"Topic2\", \"Topic2\", \"Topic2\", \"Topic2\", \"Topic2\", \"Topic2\", \"Topic2\", \"Topic2\", \"Topic2\", \"Topic2\", \"Topic2\", \"Topic2\", \"Topic2\", \"Topic2\", \"Topic2\", \"Topic2\", \"Topic2\", \"Topic2\", \"Topic3\", \"Topic3\", \"Topic3\", \"Topic3\", \"Topic3\", \"Topic3\", \"Topic3\", \"Topic3\", \"Topic3\", \"Topic3\", \"Topic3\", \"Topic3\", \"Topic3\", \"Topic3\", \"Topic3\", \"Topic3\", \"Topic3\", \"Topic3\", \"Topic3\", \"Topic3\", \"Topic3\", \"Topic3\", \"Topic3\", \"Topic3\", \"Topic3\", \"Topic3\", \"Topic3\", \"Topic3\", \"Topic3\", \"Topic3\", \"Topic3\", \"Topic3\", \"Topic3\", \"Topic3\", \"Topic3\", \"Topic3\", \"Topic3\", \"Topic3\", \"Topic3\", \"Topic3\", \"Topic3\", \"Topic3\", \"Topic3\", \"Topic3\", \"Topic3\", \"Topic3\", \"Topic3\", \"Topic3\", \"Topic3\", \"Topic4\", \"Topic4\", \"Topic4\", \"Topic4\", \"Topic4\", \"Topic4\", \"Topic4\", \"Topic4\", \"Topic4\", \"Topic4\", \"Topic4\", \"Topic4\", \"Topic4\", \"Topic4\", \"Topic4\", \"Topic4\", \"Topic4\", \"Topic4\", \"Topic4\", \"Topic4\", \"Topic4\", \"Topic4\", \"Topic4\", \"Topic4\", \"Topic4\", \"Topic4\", \"Topic4\", \"Topic4\", \"Topic4\", \"Topic4\", \"Topic4\", \"Topic4\", \"Topic4\", \"Topic4\", \"Topic4\", \"Topic4\", \"Topic4\", \"Topic4\", \"Topic4\", \"Topic4\", \"Topic4\", \"Topic4\", \"Topic4\", \"Topic4\", \"Topic4\", \"Topic4\", \"Topic5\", \"Topic5\", \"Topic5\", \"Topic5\", \"Topic5\", \"Topic5\", \"Topic5\", \"Topic5\", \"Topic5\", \"Topic5\", \"Topic5\", \"Topic5\", \"Topic5\", \"Topic5\", \"Topic5\", \"Topic5\", \"Topic5\", \"Topic5\", \"Topic5\", \"Topic5\", \"Topic5\", \"Topic5\", \"Topic5\", \"Topic5\", \"Topic5\", \"Topic5\", \"Topic5\", \"Topic5\", \"Topic5\", \"Topic5\", \"Topic5\", \"Topic5\", \"Topic5\", \"Topic5\", \"Topic5\", \"Topic5\", \"Topic5\", \"Topic5\", \"Topic5\", \"Topic5\", \"Topic5\", \"Topic5\", \"Topic5\", \"Topic5\", \"Topic5\", \"Topic5\", \"Topic5\", \"Topic5\", \"Topic5\"], \"Freq\": [1.0, 1.0, 1.0, 0.0, 0.0, 0.0, 0.0, 0.0, 0.0, 0.0, 0.0, 0.0, 0.0, 0.0, 0.0, 0.0, 0.0, 0.0, 0.0, 0.0, 0.0, 0.0, 0.0, 0.0, 0.0, 0.0, 0.0, 0.0, 0.0, 0.0, 0.6970581110659012, 0.7146459730963513, 0.7090711313623151, 0.7052828149241724, 0.6803162799552193, 0.6891734992868279, 0.6738792546636899, 0.7033310214238019, 0.6876920798525626, 0.7042001381055444, 0.6980423864024456, 0.6884974514229547, 0.6836488658263954, 0.673398076612037, 0.6755517898144257, 0.7046076011941934, 0.696907996228487, 0.706760346032616, 0.6907920726564517, 0.7021222427392196, 0.6931977938391787, 0.6911023001368509, 0.7044466058071213, 0.7043109704176156, 0.6977040182453844, 0.6859331747858068, 0.698862596268136, 0.7012300721498429, 0.6969146020772897, 0.6901343989346835, 0.7099924965350052, 0.6992965228218666, 0.7212889632259044, 0.701344857079238, 0.7060903083849163, 0.7002230727481547, 0.7027266418139861, 0.6971655917938316, 0.7033024829280589, 0.6976670804887874, 0.7000376539734812, 0.7039528572013016, 0.7022656615227445, 0.7006418205570746, 0.7074420286057356, 0.7024279293962962, 0.7088716062304374, 0.7066903600248428, 0.7026054391032134, 0.7060787336070141, 0.7008410447487952, 0.6997713993284507, 0.44740258367731484, 0.44715419393886985, 0.4432373869487596, 0.4461377127443251, 0.4307559345089226, 0.44103889164584453, 0.4554519346596305, 0.4389690276048212, 0.43389738414563583, 0.4466701681974675, 0.45051689023671304, 0.44576594156589106, 0.4441725805931558, 0.43264947983348506, 0.45096310906736037, 0.44384214221627927, 0.44268557209634773, 0.4364858414882936, 0.43838934950737385, 0.4478850859581969, 0.4355351832136756, 0.44925806708375, 0.4478302272104398, 0.4393163937998157, 0.43530400428683835, 0.4398287566572969, 0.44235591265780666, 0.4411103114344156, 0.44910946353541403, 0.45253366633976605, 0.45809733515027057, 0.4460964360735601, 0.45114640344679763, 0.4531680961849183, 0.45477202339586403, 0.4541085339946047, 0.45121825226877793, 0.45134852841580136, 0.4475300229202436, 0.4524378478207332, 0.44769841457320736, 0.4483284638742806, 0.45556845235268234, 0.45102649928213184, 0.44970306134066995, 0.4467760134685591, 0.45041427788152716, 0.4474641657269227, 0.44681152009183295, 0.6522983258441948, 0.41432570852582384, 0.39234667952299707, 0.3983536815458154, 0.3898101857433337, 0.4005199785804332, 0.38981068843485606, 0.3982680630484361, 0.4020280366680271, 0.38910979915468397, 0.39700457254240423, 0.4022683423273137, 0.3988779537174231, 0.3934246704719432, 0.4000045254157295, 0.40448010930863576, 0.4033004810581132, 0.4018567406689523, 0.38883266313974046, 0.38243763201645814, 0.4049395845101258, 0.3984566840310216, 0.3931215192071943, 0.3950464001163535, 0.4118557960217365, 0.39445444731489243, 0.39769229599461975, 0.4016900724476188, 0.39789842160315, 0.3876309723497968, 0.397867834228591, 0.40468423117390584, 0.4055288717305706, 0.4104082626248357, 0.4051806031078064, 0.39830950497617545, 0.4025110771206907, 0.4072229669336383, 0.40423290862812933, 0.4075840881263504, 0.40343946647205453, 0.4030181055262618, 0.3991539863504838, 0.4003141775620324, 0.4008368711232256, 0.3997657010355983, 0.39938029146112464, 0.39919198576080805, 0.398786762828667, 0.4991714941902875, 0.31840423674747576, 0.30715645293074706, 0.3128397706224393, 0.32076434015272953, 0.31756053014340485, 0.32381460567904996, 0.3204177723772711, 0.3144943542881942, 0.3213040100474875, 0.3253841138311003, 0.31102905927353025, 0.31347890516342897, 0.3193605748629638, 0.3063265060425621, 0.3192482471981355, 0.3083523584239598, 0.3037804876803387, 0.3209057265828067, 0.3102816284320876, 0.30771740412127446, 0.3150760462661474, 0.31053368963483935, 0.31657650361020134, 0.3122711244132382, 0.31190336989345, 0.308908561744749, 0.31376178462069115, 0.3079613659295732, 0.3162159338872644, 0.31328230238647364, 0.3182942135346878, 0.32440848820341855, 0.3154951744762744, 0.31448832472950183, 0.3177756604899799, 0.318152812673772, 0.31472687914364145, 0.31709750217102267, 0.31570829634707726, 0.31461540252674336, 0.313796851831953, 0.3142507109783932, 0.3150502583339598, 0.3147409051261094, 0.31503014814009267, 0.31153130520354005, 0.31136169997350055, 0.31221819835659703, 0.3147896133035701, 0.3160875016137709, 0.3135696337656504, 0.3140159031122665, 0.3091037984745284, 0.31398791327980496, 0.30679933937617715, 0.3145236409143282, 0.31633330030634427, 0.30708879606728834, 0.3078968519561537, 0.31395294947774816, 0.3110078793716597, 0.3094923344944586, 0.3090879396007618, 0.3121298120543971, 0.3040837769256975, 0.30951369367245707, 0.30704113965943064, 0.3042421434400888, 0.3016625050224898, 0.3071610283229277, 0.3041784383629458, 0.3098643295527065, 0.30064354095918655, 0.30832536619440554, 0.31175389773209244, 0.3129395198851728, 0.3149020814615247, 0.31538837439009476, 0.3173346499021054, 0.3100711017767796, 0.31011681584134315, 0.31412552639753577, 0.31487808229751435, 0.3153326045979299, 0.31600389918331406, 0.3113326017030825, 0.3121294617442679, 0.312051582447252, 0.3112568575054365, 0.31081707588939134, 0.3126150795527021, 0.3122040866824657, 0.3111562140422902, 0.31095386398013025], \"Term\": [\"supposed romantic getaway\", \"double double room\", \"bay view room\", \"old location service\", \"staff avg room\", \"times phone didn\", \"recommend stay read\", \"blah blah blah\", \"priceline paid checked\", \"check went room\", \"pool great expected\", \"hotel manager story\", \"great view facing\", \"heated try avoid\", \"rooftop pool great\", \"restaurant friendly consierge\", \"wasn time make\", \"manager story blah\", \"getting fisherman wharf\", \"broken bed floor\", \"problem shower drain\", \"provided asking view\", \"standing right knew\", \"checked wanted word\", \"hotels san francisco\", \"hotwire room kind\", \"didn work problem\", \"shower drain recommend\", \"hilton finacial district\", \"views telegraph hill\", \"false advertise small\", \"hotel stayed offers\", \"club room just\", \"small functional called\", \"advertise small print\", \"eating horrid breakfast\", \"chance room change\", \"wait hilton say\", \"hour flight got\", \"check overly protracted\", \"big mistake essentially\", \"ignored questions proceeded\", \"financial poor management\", \"asked day breakfast\", \"charge easily qualifies\", \"proceeded answer phone\", \"sign sure reflects\", \"fine little things\", \"staff engrossed gossip\", \"spot turned valet\", \"experience sign says\", \"room amenities equipped\", \"stay pick hilton\", \"better garage street\", \"barely got work\", \"don bother material\", \"guy super nice\", \"charge soda bottled\", \"noisy group meetings\", \"marginal best waited\", \"located financial district\", \"paid room club\", \"quot just pass\", \"staff said quot\", \"hilton financial poor\", \"evening hour wine\", \"morning clock alarm\", \"refund second room\", \"deal false advertising\", \"street decide branch\", \"took minutes just\", \"garage street decide\", \"sign says better\", \"hotel public transportation\", \"location adjacent north\", \"teaser price hours\", \"decide branch try\", \"trashed housekeeping staff\", \"vendors badly ace\", \"returning area stay\", \"gave doesn qualify\", \"hotel kristina norway\", \"clean closet door\", \"bed wall asked\", \"bed sheet used\", \"closet used condom\", \"arrival hotel chaotic\", \"called desk fix\", \"fell huge screws\", \"emergency stairs lifts\", \"wharf china town\", \"people milled lobby\", \"change rooms told\", \"service coffee shop\", \"wanted coffee shame\", \"didn apologies rudeness\", \"try stay hotel\", \"place filthy wine\", \"terrible housekeeping provide\", \"fix day fixed\", \"location easy liberty\", \"wine bar contacted\", \"especially service coffee\", \"hotel service terrible\", \"screws exposed seriously\", \"told available sent\", \"note fax everton\", \"lobby check wasn\", \"honoured credit note\", \"size room discovered\", \"service bad avoid\", \"did offer upgrade\", \"huge hassle calls\", \"conference room floors\", \"midday turns wine\", \"staff does care\", \"broke stay just\", \"closet door fell\", \"manager magically discovered\", \"view rooms rooms\", \"friendly service bad\", \"server customer explain\", \"room told thing\", \"desk fix day\", \"apart staff does\", \"hassle calls desk\", \"used day try\", \"easy liberty square\", \"elevator floor huge\", \"bar closes midday\", \"customer service did\", \"double double room\", \"complimentary lounge access\", \"wireless internet plus\", \"waived fee complained\", \"fridge room rooms\", \"place star appropriate\", \"gmail comstayed march\", \"use portsmouth square\", \"just stayed hilton\", \"room supposed non\", \"room rooms tiny\", \"shine rag fee\", \"bundle instead use\", \"want pay bundle\", \"gym hotel waived\", \"stand lobby does\", \"argued shown online\", \"saw black streaks\", \"plesant experience ends\", \"cleans room replace\", \"dirty noisy room\", \"sheets bed spread\", \"soaps surprised service\", \"floor room breakfast\", \"appropriate rating place\", \"constant sound running\", \"service won enter\", \"early morning meeting\", \"services terminated free\", \"second time house\", \"stained window shades\", \"stayed hilton room\", \"attitude staff office\", \"wost bell boys\", \"terminated free bite\", \"paid instantly executive\", \"small dirty noisy\", \"night stars appropriate\", \"com site paid\", \"used sheets shoe\", \"nice plesant experience\", \"black streaks used\", \"meeting market street\", \"clean closer inspection\", \"does open good\", \"evening asked lounge\", \"instead use portsmouth\", \"smelled like cigarette\", \"double room called\", \"supposed romantic getaway\", \"provided asking view\", \"situation pass logic\", \"told hotel trying\", \"views telegraph hill\", \"sleep windows busy\", \"wasn time make\", \"costs economy housekkeping\", \"high prices soda\", \"checked wanted word\", \"restaurant friendly consierge\", \"perfectly situated touristy\", \"std morning moved\", \"hear alarms morning\", \"north spectacular views\", \"morning addition executive\", \"pillow wrussle cell\", \"recommend hotel view\", \"juice told hotel\", \"bay room quite\", \"hall just loud\", \"instead given tickets\", \"charged outrageously high\", \"room supposed romantic\", \"sixties guests regardless\", \"comments site skipping\", \"given tickets snacks\", \"telegraph hill alcatraz\", \"logic good readers\", \"noisy door rooms\", \"straight corporate abreast\", \"floors treated drunken\", \"small unfortunately noisy\", \"car alarms emergency\", \"forth manager didn\", \"street noise morning\", \"hilton hotel financial\", \"movement pillow wrussle\", \"new set equally\", \"alarms morning street\", \"rooms hear alarms\", \"demanded desk clerk\", \"alcatraz bay room\", \"time make stink\", \"high floors treated\", \"new room supposed\", \"check went room\", \"rooftop pool great\", \"times phone didn\", \"staff avg room\", \"old location service\", \"hotel manager story\", \"blah blah blah\", \"shower drain recommend\", \"heated try avoid\", \"got floor facing\", \"recommend stay read\", \"pool great expected\", \"money hotel old\", \"small great view\", \"priceline paid checked\", \"manager story blah\", \"didn work problem\", \"recommend priceline area\", \"broken bed floor\", \"star hotel bath\", \"priceline did like\", \"story blah blah\", \"did people checking\", \"great hotels san\", \"facing chinatown complaints\", \"paid checked did\", \"hotels san francisco\", \"helping told come\", \"available upgrading bay\", \"service starts really\", \"standing right knew\", \"getting fisherman wharf\", \"problem shower drain\", \"great view facing\", \"starts really does\", \"hour half later\", \"hilton finacial district\", \"waken real early\", \"working times phone\", \"hotwire room kind\", \"tourists dream minor\", \"person helping told\", \"single sink tub\", \"east checked sat\", \"upgrading bay view\", \"blah blah say\", \"attractions staff avg\", \"noise night large\", \"close cab hotel\"], \"Total\": [1.0, 1.0, 1.0, 0.0, 0.0, 0.0, 0.0, 0.0, 0.0, 0.0, 0.0, 0.0, 0.0, 0.0, 0.0, 0.0, 0.0, 0.0, 0.0, 0.0, 0.0, 0.0, 0.0, 0.0, 0.0, 0.0, 0.0, 0.0, 0.0, 0.0, 1.1052111923583727, 1.1348958759781531, 1.1311908258099628, 1.1318497484049617, 1.0966449661788316, 1.1110763567202815, 1.0877499602950755, 1.1357846469811668, 1.1136569375309244, 1.1415773533636286, 1.1319900528749418, 1.11651358250901, 1.109153549754041, 1.092711727687448, 1.0966631380109677, 1.143861216416314, 1.131572057331452, 1.1484020031140114, 1.1224766831339466, 1.1409652364746283, 1.1264645751157003, 1.1232173867755793, 1.1452193589497464, 1.145549061178411, 1.1350756539383806, 1.1159261164234235, 1.1370093095848453, 1.140915002036539, 1.1340188259724915, 1.1231254966532025, 1.1566646348075422, 1.1386249450394572, 1.1776352316747027, 1.142575676842696, 1.1523939213171834, 1.14108200718135, 1.147340872080087, 1.1365884631427772, 1.1516593204653376, 1.1391418385955736, 1.146185053612258, 1.1589887280134652, 1.1553691252999052, 1.150132965455971, 1.176196872406133, 1.157044290952945, 1.1858377996396743, 1.1784622015073494, 1.161884080311478, 1.1883182617127863, 1.163681241576528, 1.1555719347227005, 0.9365863619445363, 0.9410356580126021, 0.9338360065825723, 0.9400830008459399, 0.9151230468772311, 0.939613634256233, 0.9708675634793502, 0.9368140909645208, 0.926616157724014, 0.9541596499571701, 0.9625613174371841, 0.9528852041495653, 0.9499213340835204, 0.926218007306825, 0.9659028629685023, 0.9506527517332577, 0.9482657319730253, 0.9350942327208788, 0.940398094611639, 0.9613105524043702, 0.9349053307072963, 0.9650289594860247, 0.9623200012783645, 0.9442870196475454, 0.9366258196288959, 0.9463799703396064, 0.9518969678304621, 0.9492921709134343, 0.966535710157486, 0.9740639078153028, 0.988515484553733, 0.9624066739918551, 0.9779930244051265, 0.984210614593973, 0.988982235981721, 0.9897279312297144, 0.982903749686803, 0.9855551687192351, 0.9729741684062142, 0.9920033078567673, 0.973901381616232, 0.9787761351520262, 1.013004232324043, 1.0004411620895595, 0.9968615843411831, 0.9747149098803015, 1.016434540005803, 0.992091624027763, 0.9943476279099913, 1.2116173187677888, 0.9326992627092293, 0.8889532763466809, 0.9048390825567806, 0.8861631769010143, 0.9148915306463227, 0.8921223298155467, 0.9118755723336536, 0.9227124597983654, 0.8933071859601011, 0.9120076636873465, 0.9247284766289094, 0.9170731872700425, 0.9047458186700199, 0.921129527389172, 0.9314427966624644, 0.9300128520885398, 0.9270911633426759, 0.8971115595733742, 0.8823795633629242, 0.9349088789243911, 0.9200983103101208, 0.9086619381213125, 0.9131873598067358, 0.9525322708978708, 0.9130474155093662, 0.9208099461617555, 0.9303151390204969, 0.9216579147750351, 0.898057134936089, 0.922153298499029, 0.9421291448990713, 0.9477143444526074, 0.9641313520416968, 0.9473984333075671, 0.9257241056637908, 0.9418124005683015, 0.9628900825216687, 0.9510196324596762, 0.9665151812236266, 0.9544282070595759, 0.9815941770826223, 0.93810523648345, 0.9569133618064761, 0.9758346268753376, 0.956008775565869, 0.9621862418061066, 0.9679874874577878, 0.9435226616218032, 1.0756167834002335, 0.8437401541885629, 0.8238397695090446, 0.8398512980651023, 0.8621690776659965, 0.8565206576097768, 0.8751958321382113, 0.8722064001496208, 0.8574365753366622, 0.8768369777500598, 0.8927451961464631, 0.8549751204145376, 0.861965887301063, 0.8783041212780817, 0.8432758546667828, 0.8789473191539724, 0.8492054701269206, 0.8381637941322477, 0.8857128926130076, 0.8565537679728643, 0.8497817140727754, 0.870401209512492, 0.8581333622637551, 0.8752089061585935, 0.863573682458505, 0.8632927842385826, 0.8560495707352342, 0.8710608331794901, 0.8549747100612604, 0.8782200031864507, 0.8723625925216245, 0.8907591407598182, 0.9136329231182905, 0.8823859058532159, 0.8788839885829696, 0.8961625181984776, 0.9014867529395879, 0.8831223945158699, 0.9069854429228941, 0.8952912643746269, 0.8874507679251347, 0.8853304911475183, 0.8924473419521928, 0.9097312730082248, 0.9035171461608733, 0.9164815912107697, 0.8353926250037031, 0.8380344395040373, 0.8417530654353472, 0.8523083527776274, 0.8577790274213344, 0.8522272972489005, 0.8546185453774986, 0.8457619675754727, 0.8594214914294873, 0.8406472094224449, 0.8625033062762826, 0.8677654965884649, 0.842697199976222, 0.8457314095420893, 0.8625259865371526, 0.85474240611659, 0.8516928433623727, 0.8506324906141196, 0.8590102765915859, 0.8370776310205137, 0.8546168756861254, 0.8491579636107329, 0.8419324262926494, 0.8361632649949349, 0.8517808955723931, 0.8437203932075439, 0.8595718222709862, 0.8344265909204526, 0.8565478600896382, 0.8666860162531334, 0.8705832573924941, 0.8771903834264188, 0.8796507869161299, 0.8875221954404544, 0.8628435091467539, 0.8650281897274621, 0.884663351316692, 0.8913899209483762, 0.8950354555721433, 0.9005069483205448, 0.8750136421456433, 0.8839995225909273, 0.8881196671313099, 0.8797992132282678, 0.8734956071137334, 0.9007374087678306, 0.9045211950593331, 0.8833644497729392, 0.8982677256694002], \"loglift\": [30.0, 29.0, 28.0, 27.0, 26.0, 25.0, 24.0, 23.0, 22.0, 21.0, 20.0, 19.0, 18.0, 17.0, 16.0, 15.0, 14.0, 13.0, 12.0, 11.0, 10.0, 9.0, 8.0, 7.0, 6.0, 5.0, 4.0, 3.0, 2.0, 1.0, 0.463, 0.4615, 0.4569, 0.451, 0.4465, 0.4464, 0.4452, 0.4447, 0.4419, 0.4409, 0.4405, 0.4405, 0.4401, 0.4399, 0.4395, 0.4394, 0.4393, 0.4385, 0.4385, 0.4384, 0.4384, 0.4383, 0.438, 0.4375, 0.4373, 0.4373, 0.4373, 0.4372, 0.4371, 0.437, 0.4359, 0.4365, 0.4337, 0.4359, 0.4341, 0.4356, 0.4337, 0.4352, 0.4308, 0.4337, 0.4309, 0.4254, 0.4261, 0.4283, 0.4156, 0.4249, 0.4094, 0.4126, 0.421, 0.4034, 0.4169, 0.4224, 0.9071, 0.9018, 0.9007, 0.9006, 0.8924, 0.8896, 0.889, 0.8879, 0.8872, 0.8869, 0.8867, 0.8862, 0.8857, 0.8847, 0.8842, 0.8842, 0.8841, 0.884, 0.8827, 0.8821, 0.882, 0.8813, 0.881, 0.8807, 0.8797, 0.8797, 0.8796, 0.8795, 0.8795, 0.8793, 0.8768, 0.877, 0.8722, 0.8703, 0.869, 0.8668, 0.8673, 0.8649, 0.8693, 0.8608, 0.8687, 0.8651, 0.8468, 0.8492, 0.8499, 0.8658, 0.832, 0.8497, 0.846, 1.1742, 0.982, 0.9755, 0.973, 0.9722, 0.9674, 0.9655, 0.965, 0.9626, 0.9624, 0.9617, 0.961, 0.9609, 0.9607, 0.9593, 0.9593, 0.9579, 0.9575, 0.9574, 0.9574, 0.9567, 0.9565, 0.9556, 0.9555, 0.955, 0.9541, 0.9538, 0.9536, 0.9534, 0.9532, 0.9528, 0.9484, 0.9446, 0.9393, 0.944, 0.9501, 0.9433, 0.9328, 0.9379, 0.93, 0.9323, 0.9032, 0.9389, 0.922, 0.9037, 0.9215, 0.9141, 0.9076, 0.9322, 1.3249, 1.1181, 1.106, 1.1051, 1.1039, 1.1004, 1.0983, 1.0912, 1.0896, 1.0887, 1.0833, 1.0814, 1.0811, 1.081, 1.08, 1.0799, 1.0796, 1.0777, 1.0774, 1.0772, 1.0768, 1.0765, 1.0762, 1.0757, 1.0754, 1.0746, 1.0733, 1.0715, 1.0715, 1.0712, 1.0685, 1.0635, 1.0572, 1.0641, 1.0649, 1.0558, 1.0511, 1.0609, 1.0417, 1.0503, 1.0556, 1.0554, 1.0488, 1.0322, 1.0381, 1.0248, 1.13, 1.1263, 1.1246, 1.1203, 1.118, 1.1165, 1.1152, 1.1098, 1.1095, 1.1084, 1.1076, 1.1072, 1.1069, 1.1059, 1.1057, 1.1054, 1.1041, 1.104, 1.104, 1.1038, 1.1007, 1.0991, 1.0985, 1.0969, 1.0964, 1.0962, 1.0961, 1.0955, 1.0946, 1.0939, 1.0932, 1.0919, 1.0906, 1.0879, 1.0929, 1.0906, 1.081, 1.0758, 1.0731, 1.0692, 1.083, 1.0753, 1.0704, 1.0773, 1.0831, 1.0581, 1.0526, 1.0729, 1.0555], \"logprob\": [30.0, 29.0, 28.0, 27.0, 26.0, 25.0, 24.0, 23.0, 22.0, 21.0, 20.0, 19.0, 18.0, 17.0, 16.0, 15.0, 14.0, 13.0, 12.0, 11.0, 10.0, 9.0, 8.0, 7.0, 6.0, 5.0, 4.0, 3.0, 2.0, 1.0, -7.0611, -7.0361, -7.044, -7.0493, -7.0854, -7.0724, -7.0949, -7.0521, -7.0746, -7.0509, -7.0596, -7.0734, -7.0805, -7.0956, -7.0924, -7.0503, -7.0613, -7.0472, -7.0701, -7.0538, -7.0666, -7.0696, -7.0505, -7.0507, -7.0601, -7.0771, -7.0585, -7.0551, -7.0613, -7.071, -7.0427, -7.0578, -7.0269, -7.0549, -7.0482, -7.0565, -7.053, -7.0609, -7.0521, -7.0602, -7.0568, -7.0512, -7.0536, -7.0559, -7.0463, -7.0534, -7.0442, -7.0473, -7.0531, -7.0482, -7.0556, -7.0572, -6.7825, -6.7831, -6.7919, -6.7853, -6.8204, -6.7968, -6.7647, -6.8015, -6.8132, -6.7842, -6.7756, -6.7862, -6.7898, -6.816, -6.7746, -6.7905, -6.7931, -6.8072, -6.8029, -6.7814, -6.8094, -6.7784, -6.7816, -6.8008, -6.8099, -6.7996, -6.7939, -6.7967, -6.7787, -6.7711, -6.7589, -6.7854, -6.7742, -6.7697, -6.7662, -6.7676, -6.774, -6.7737, -6.7822, -6.7713, -6.7819, -6.7805, -6.7644, -6.7745, -6.7774, -6.7839, -6.7758, -6.7824, -6.7838, -6.258, -6.7118, -6.7663, -6.7511, -6.7728, -6.7457, -6.7728, -6.7513, -6.7419, -6.7746, -6.7545, -6.7413, -6.7498, -6.7636, -6.747, -6.7359, -6.7388, -6.7424, -6.7753, -6.7919, -6.7347, -6.7509, -6.7643, -6.7595, -6.7178, -6.761, -6.7528, -6.7428, -6.7523, -6.7784, -6.7523, -6.7354, -6.7333, -6.7213, -6.7341, -6.7512, -6.7407, -6.7291, -6.7365, -6.7282, -6.7384, -6.7395, -6.7491, -6.7462, -6.7449, -6.7476, -6.7485, -6.749, -6.75, -6.2263, -6.6759, -6.7119, -6.6936, -6.6686, -6.6786, -6.6591, -6.6696, -6.6883, -6.6669, -6.6543, -6.6994, -6.6915, -6.6729, -6.7146, -6.6733, -6.708, -6.723, -6.6681, -6.7018, -6.7101, -6.6864, -6.701, -6.6817, -6.6954, -6.6966, -6.7062, -6.6906, -6.7093, -6.6828, -6.6922, -6.6763, -6.6573, -6.6851, -6.6883, -6.6779, -6.6767, -6.6876, -6.6801, -6.6844, -6.6879, -6.6905, -6.6891, -6.6865, -6.6875, -6.6866, -6.674, -6.6746, -6.6718, -6.6636, -6.6595, -6.6675, -6.6661, -6.6818, -6.6662, -6.6893, -6.6645, -6.6587, -6.6884, -6.6858, -6.6663, -6.6757, -6.6806, -6.6819, -6.6721, -6.6982, -6.6805, -6.6885, -6.6977, -6.7062, -6.6881, -6.6979, -6.6794, -6.7096, -6.6844, -6.6733, -6.6695, -6.6633, -6.6617, -6.6556, -6.6787, -6.6786, -6.6657, -6.6633, -6.6619, -6.6598, -6.6747, -6.6721, -6.6724, -6.6749, -6.6763, -6.6705, -6.6719, -6.6752, -6.6759]}, \"token.table\": {\"Topic\": [1, 1, 1, 1, 1, 1, 1, 1, 1, 1, 1, 1, 1, 3, 1, 1, 1, 1, 1, 1, 1, 1, 1, 1, 1, 1, 1, 1, 1, 1, 1, 1, 1, 1, 1, 1, 1, 1, 1, 1, 1, 1, 1, 1, 1, 1, 1, 1, 1, 1, 1, 1, 1], \"Freq\": [0.9118721471766903, 0.9151544498532492, 0.8809985453659344, 0.8729438431657509, 0.8833999887722304, 0.9193289234676033, 0.9118570373521564, 0.8764894827528737, 0.875980937300066, 0.884024142685186, 0.8683123404896699, 0.8432856502835864, 0.896116674108345, 0.8253431050465646, 0.900028151937135, 0.8763612025310569, 0.8877331982652796, 0.904804445443711, 0.9015884231914993, 0.870775213982905, 0.8628211610944865, 0.8593418577799049, 0.8795002745976889, 0.8677588292525896, 0.8653723493552717, 0.8694646880272223, 0.8811381036503565, 0.8979425946172329, 0.8956451723165044, 0.8645548328417513, 0.8501978057077393, 0.890372449899763, 0.8715805601756665, 0.8818195757397925, 0.8782523203594021, 0.8742319309793305, 0.8491593772868959, 0.8798259285818397, 0.8415253995664821, 0.8902996087611327, 0.865524253766453, 0.8837263111270758, 0.8835094953276541, 0.8764508926580578, 0.8908871026238224, 0.8752155505036844, 0.8731951588009099, 0.8778538072421965, 0.8642711500494048, 0.8724594661642562, 0.848563491235373, 0.8606710574190154, 0.8804485979432171], \"Term\": [\"advertise small print\", \"asked day breakfast\", \"barely got work\", \"better garage street\", \"big mistake essentially\", \"chance room change\", \"charge easily qualifies\", \"charge soda bottled\", \"check overly protracted\", \"club room just\", \"deal false advertising\", \"decide branch try\", \"don bother material\", \"double double room\", \"eating horrid breakfast\", \"evening hour wine\", \"experience sign says\", \"false advertise small\", \"financial poor management\", \"fine little things\", \"garage street decide\", \"gave doesn qualify\", \"guy super nice\", \"hilton financial poor\", \"hotel kristina norway\", \"hotel public transportation\", \"hotel stayed offers\", \"hour flight got\", \"ignored questions proceeded\", \"located financial district\", \"location adjacent north\", \"marginal best waited\", \"morning clock alarm\", \"noisy group meetings\", \"paid room club\", \"proceeded answer phone\", \"quot just pass\", \"refund second room\", \"returning area stay\", \"room amenities equipped\", \"sign says better\", \"sign sure reflects\", \"small functional called\", \"spot turned valet\", \"staff engrossed gossip\", \"staff said quot\", \"stay pick hilton\", \"street decide branch\", \"teaser price hours\", \"took minutes just\", \"trashed housekeeping staff\", \"vendors badly ace\", \"wait hilton say\"]}, \"R\": 30, \"lambda.step\": 0.01, \"plot.opts\": {\"xlab\": \"PC1\", \"ylab\": \"PC2\"}, \"topic.order\": [5, 3, 4, 1, 2]};\n",
       "\n",
       "function LDAvis_load_lib(url, callback){\n",
       "  var s = document.createElement('script');\n",
       "  s.src = url;\n",
       "  s.async = true;\n",
       "  s.onreadystatechange = s.onload = callback;\n",
       "  s.onerror = function(){console.warn(\"failed to load library \" + url);};\n",
       "  document.getElementsByTagName(\"head\")[0].appendChild(s);\n",
       "}\n",
       "\n",
       "if(typeof(LDAvis) !== \"undefined\"){\n",
       "   // already loaded: just create the visualization\n",
       "   !function(LDAvis){\n",
       "       new LDAvis(\"#\" + \"ldavis_el72211134855133764410656370\", ldavis_el72211134855133764410656370_data);\n",
       "   }(LDAvis);\n",
       "}else if(typeof define === \"function\" && define.amd){\n",
       "   // require.js is available: use it to load d3/LDAvis\n",
       "   require.config({paths: {d3: \"https://cdnjs.cloudflare.com/ajax/libs/d3/3.5.5/d3.min\"}});\n",
       "   require([\"d3\"], function(d3){\n",
       "      window.d3 = d3;\n",
       "      LDAvis_load_lib(\"https://cdn.rawgit.com/bmabey/pyLDAvis/files/ldavis.v1.0.0.js\", function(){\n",
       "        new LDAvis(\"#\" + \"ldavis_el72211134855133764410656370\", ldavis_el72211134855133764410656370_data);\n",
       "      });\n",
       "    });\n",
       "}else{\n",
       "    // require.js not available: dynamically load d3 & LDAvis\n",
       "    LDAvis_load_lib(\"https://cdnjs.cloudflare.com/ajax/libs/d3/3.5.5/d3.min.js\", function(){\n",
       "         LDAvis_load_lib(\"https://cdn.rawgit.com/bmabey/pyLDAvis/files/ldavis.v1.0.0.js\", function(){\n",
       "                 new LDAvis(\"#\" + \"ldavis_el72211134855133764410656370\", ldavis_el72211134855133764410656370_data);\n",
       "            })\n",
       "         });\n",
       "}\n",
       "</script>"
      ],
      "text/plain": [
       "PreparedData(topic_coordinates=            Freq  cluster  topics         x         y\n",
       "topic                                                \n",
       "4      39.694179        1       1 -0.062309  0.007469\n",
       "2      19.283707        1       2  0.031506  0.039279\n",
       "3      16.638967        1       3  0.019704 -0.036897\n",
       "0      12.336275        1       4  0.004023 -0.008050\n",
       "1      12.046872        1       5  0.007075 -0.001801, topic_info=     Category      Freq                           Term     Total  loglift  \\\n",
       "term                                                                        \n",
       "1795  Default  1.000000      supposed romantic getaway  1.000000  30.0000   \n",
       "533   Default  1.000000             double double room  1.000000  29.0000   \n",
       "124   Default  1.000000                  bay view room  1.000000  28.0000   \n",
       "1196  Default  0.000000           old location service  0.000000  27.0000   \n",
       "1712  Default  0.000000                 staff avg room  0.000000  26.0000   \n",
       "1838  Default  0.000000               times phone didn  0.000000  25.0000   \n",
       "1401  Default  0.000000            recommend stay read  0.000000  24.0000   \n",
       "153   Default  0.000000                 blah blah blah  0.000000  23.0000   \n",
       "1312  Default  0.000000         priceline paid checked  0.000000  22.0000   \n",
       "268   Default  0.000000                check went room  0.000000  21.0000   \n",
       "1283  Default  0.000000            pool great expected  0.000000  20.0000   \n",
       "848   Default  0.000000            hotel manager story  0.000000  19.0000   \n",
       "744   Default  0.000000              great view facing  0.000000  18.0000   \n",
       "776   Default  0.000000               heated try avoid  0.000000  17.0000   \n",
       "1449  Default  0.000000             rooftop pool great  0.000000  16.0000   \n",
       "1431  Default  0.000000  restaurant friendly consierge  0.000000  15.0000   \n",
       "1978  Default  0.000000                 wasn time make  0.000000  14.0000   \n",
       "1052  Default  0.000000             manager story blah  0.000000  13.0000   \n",
       "715   Default  0.000000        getting fisherman wharf  0.000000  12.0000   \n",
       "189   Default  0.000000               broken bed floor  0.000000  11.0000   \n",
       "1324  Default  0.000000           problem shower drain  0.000000  10.0000   \n",
       "1338  Default  0.000000           provided asking view  0.000000   9.0000   \n",
       "1731  Default  0.000000            standing right knew  0.000000   8.0000   \n",
       "276   Default  0.000000            checked wanted word  0.000000   7.0000   \n",
       "872   Default  0.000000           hotels san francisco  0.000000   6.0000   \n",
       "875   Default  0.000000              hotwire room kind  0.000000   5.0000   \n",
       "485   Default  0.000000              didn work problem  0.000000   4.0000   \n",
       "1622  Default  0.000000         shower drain recommend  0.000000   3.0000   \n",
       "794   Default  0.000000       hilton finacial district  0.000000   2.0000   \n",
       "1945  Default  0.000000           views telegraph hill  0.000000   1.0000   \n",
       "...       ...       ...                            ...       ...      ...   \n",
       "1732   Topic5  0.304084                star hotel bath  0.837078   1.1038   \n",
       "1307   Topic5  0.309514             priceline did like  0.854617   1.1007   \n",
       "1773   Topic5  0.307041                story blah blah  0.849158   1.0991   \n",
       "467    Topic5  0.304242            did people checking  0.841932   1.0985   \n",
       "742    Topic5  0.301663               great hotels san  0.836163   1.0969   \n",
       "618    Topic5  0.307161    facing chinatown complaints  0.851781   1.0964   \n",
       "1217   Topic5  0.304178               paid checked did  0.843720   1.0962   \n",
       "872    Topic5  0.309864           hotels san francisco  0.859572   1.0961   \n",
       "782    Topic5  0.300644              helping told come  0.834427   1.0955   \n",
       "93     Topic5  0.308325        available upgrading bay  0.856548   1.0946   \n",
       "1599   Topic5  0.311754          service starts really  0.866686   1.0939   \n",
       "1731   Topic5  0.312940            standing right knew  0.870583   1.0932   \n",
       "715    Topic5  0.314902        getting fisherman wharf  0.877190   1.0919   \n",
       "1324   Topic5  0.315388           problem shower drain  0.879651   1.0906   \n",
       "744    Topic5  0.317335              great view facing  0.887522   1.0879   \n",
       "1741   Topic5  0.310071             starts really does  0.862844   1.0929   \n",
       "879    Topic5  0.310117                hour half later  0.865028   1.0906   \n",
       "794    Topic5  0.314126       hilton finacial district  0.884663   1.0810   \n",
       "1962   Topic5  0.314878               waken real early  0.891390   1.0758   \n",
       "2027   Topic5  0.315333            working times phone  0.895035   1.0731   \n",
       "875    Topic5  0.316004              hotwire room kind  0.900507   1.0692   \n",
       "1863   Topic5  0.311333           tourists dream minor  0.875014   1.0830   \n",
       "1253   Topic5  0.312129            person helping told  0.884000   1.0753   \n",
       "1640   Topic5  0.312052                single sink tub  0.888120   1.0704   \n",
       "554    Topic5  0.311257               east checked sat  0.879799   1.0773   \n",
       "1906   Topic5  0.310817             upgrading bay view  0.873496   1.0831   \n",
       "154    Topic5  0.312615                  blah blah say  0.900737   1.0581   \n",
       "90     Topic5  0.312204          attractions staff avg  0.904521   1.0526   \n",
       "1155   Topic5  0.311156              noise night large  0.883364   1.0729   \n",
       "308    Topic5  0.310954                close cab hotel  0.898268   1.0555   \n",
       "\n",
       "      logprob  \n",
       "term           \n",
       "1795  30.0000  \n",
       "533   29.0000  \n",
       "124   28.0000  \n",
       "1196  27.0000  \n",
       "1712  26.0000  \n",
       "1838  25.0000  \n",
       "1401  24.0000  \n",
       "153   23.0000  \n",
       "1312  22.0000  \n",
       "268   21.0000  \n",
       "1283  20.0000  \n",
       "848   19.0000  \n",
       "744   18.0000  \n",
       "776   17.0000  \n",
       "1449  16.0000  \n",
       "1431  15.0000  \n",
       "1978  14.0000  \n",
       "1052  13.0000  \n",
       "715   12.0000  \n",
       "189   11.0000  \n",
       "1324  10.0000  \n",
       "1338   9.0000  \n",
       "1731   8.0000  \n",
       "276    7.0000  \n",
       "872    6.0000  \n",
       "875    5.0000  \n",
       "485    4.0000  \n",
       "1622   3.0000  \n",
       "794    2.0000  \n",
       "1945   1.0000  \n",
       "...       ...  \n",
       "1732  -6.6982  \n",
       "1307  -6.6805  \n",
       "1773  -6.6885  \n",
       "467   -6.6977  \n",
       "742   -6.7062  \n",
       "618   -6.6881  \n",
       "1217  -6.6979  \n",
       "872   -6.6794  \n",
       "782   -6.7096  \n",
       "93    -6.6844  \n",
       "1599  -6.6733  \n",
       "1731  -6.6695  \n",
       "715   -6.6633  \n",
       "1324  -6.6617  \n",
       "744   -6.6556  \n",
       "1741  -6.6787  \n",
       "879   -6.6786  \n",
       "794   -6.6657  \n",
       "1962  -6.6633  \n",
       "2027  -6.6619  \n",
       "875   -6.6598  \n",
       "1863  -6.6747  \n",
       "1253  -6.6721  \n",
       "1640  -6.6724  \n",
       "554   -6.6749  \n",
       "1906  -6.6763  \n",
       "154   -6.6705  \n",
       "90    -6.6719  \n",
       "1155  -6.6752  \n",
       "308   -6.6759  \n",
       "\n",
       "[275 rows x 6 columns], token_table=      Topic      Freq                         Term\n",
       "term                                              \n",
       "20        1  0.911872        advertise small print\n",
       "81        1  0.915154          asked day breakfast\n",
       "114       1  0.880999              barely got work\n",
       "146       1  0.872944         better garage street\n",
       "149       1  0.883400      big mistake essentially\n",
       "242       1  0.919329           chance room change\n",
       "251       1  0.911857      charge easily qualifies\n",
       "253       1  0.876489          charge soda bottled\n",
       "264       1  0.875981      check overly protracted\n",
       "319       1  0.884024               club room just\n",
       "431       1  0.868312       deal false advertising\n",
       "435       1  0.843286            decide branch try\n",
       "517       1  0.896117          don bother material\n",
       "533       3  0.825343           double double room\n",
       "557       1  0.900028      eating horrid breakfast\n",
       "585       1  0.876361            evening hour wine\n",
       "607       1  0.887733         experience sign says\n",
       "624       1  0.904804        false advertise small\n",
       "650       1  0.901588    financial poor management\n",
       "651       1  0.870775           fine little things\n",
       "703       1  0.862821         garage street decide\n",
       "709       1  0.859342           gave doesn qualify\n",
       "753       1  0.879500               guy super nice\n",
       "796       1  0.867759        hilton financial poor\n",
       "845       1  0.865372        hotel kristina norway\n",
       "854       1  0.869465  hotel public transportation\n",
       "862       1  0.881138          hotel stayed offers\n",
       "878       1  0.897943              hour flight got\n",
       "902       1  0.895645  ignored questions proceeded\n",
       "1001      1  0.864555   located financial district\n",
       "1002      1  0.850198      location adjacent north\n",
       "1055      1  0.890372         marginal best waited\n",
       "1094      1  0.871581          morning clock alarm\n",
       "1164      1  0.881820         noisy group meetings\n",
       "1220      1  0.878252               paid room club\n",
       "1328      1  0.874232       proceeded answer phone\n",
       "1362      1  0.849159               quot just pass\n",
       "1404      1  0.879826           refund second room\n",
       "1435      1  0.841525          returning area stay\n",
       "1450      1  0.890300      room amenities equipped\n",
       "1632      1  0.865524             sign says better\n",
       "1634      1  0.883726           sign sure reflects\n",
       "1671      1  0.883509      small functional called\n",
       "1706      1  0.876451            spot turned valet\n",
       "1718      1  0.890887       staff engrossed gossip\n",
       "1720      1  0.875216              staff said quot\n",
       "1751      1  0.873195             stay pick hilton\n",
       "1776      1  0.877854         street decide branch\n",
       "1808      1  0.864271           teaser price hours\n",
       "1859      1  0.872459            took minutes just\n",
       "1871      1  0.848563   trashed housekeeping staff\n",
       "1933      1  0.860671            vendors badly ace\n",
       "1953      1  0.880449              wait hilton say, R=30, lambda_step=0.01, plot_opts={'xlab': 'PC1', 'ylab': 'PC2'}, topic_order=[5, 3, 4, 1, 2])"
      ]
     },
     "execution_count": 63,
     "metadata": {},
     "output_type": "execute_result"
    }
   ],
   "source": [
    "pyLDAvis.sklearn.prepare(analyzer.neg_lda_tf, analyzer.neg_dtm_tf, analyzer.neg_tf_vectorizer)"
   ]
  },
  {
   "cell_type": "code",
   "execution_count": null,
   "metadata": {
    "collapsed": true
   },
   "outputs": [],
   "source": [
    "# set the story line and work flow\n",
    "# make sure the work flow shows a cycle of iteration\n",
    "# know who you're talking too\n",
    "# the trigrams that don't make sense, show that you looked into it and how you can learn from it\n",
    "# focus on the signal you get, then explain what it says about your model\n",
    "# remember this is unsupervised so you'll have to guide the story"
   ]
  },
  {
   "cell_type": "code",
   "execution_count": null,
   "metadata": {
    "collapsed": true
   },
   "outputs": [],
   "source": []
  },
  {
   "cell_type": "code",
   "execution_count": null,
   "metadata": {
    "collapsed": true
   },
   "outputs": [],
   "source": []
  }
 ],
 "metadata": {
  "kernelspec": {
   "display_name": "Python 3",
   "language": "python",
   "name": "python3"
  },
  "language_info": {
   "codemirror_mode": {
    "name": "ipython",
    "version": 3
   },
   "file_extension": ".py",
   "mimetype": "text/x-python",
   "name": "python",
   "nbconvert_exporter": "python",
   "pygments_lexer": "ipython3",
   "version": "3.6.4"
  }
 },
 "nbformat": 4,
 "nbformat_minor": 2
}
