{
 "cells": [
  {
   "cell_type": "code",
   "execution_count": 28,
   "metadata": {},
   "outputs": [],
   "source": [
    "from hotel_kmeans import Hotel_Kmeans\n",
    "from sentiment_model import Sentiment_Model\n",
    "from Person import Person\n",
    "\n",
    "import pickle\n",
    "\n",
    "import pyLDAvis\n",
    "import pyLDAvis.sklearn\n",
    "pyLDAvis.enable_notebook()"
   ]
  },
  {
   "cell_type": "markdown",
   "metadata": {},
   "source": [
    "# Content Based Reccomender - Hotels\n",
    "- Data: TripAdvisor\n",
    "    - Can search any city\n",
    "    - ONLY user reviews"
   ]
  },
  {
   "cell_type": "code",
   "execution_count": null,
   "metadata": {
    "collapsed": true
   },
   "outputs": [],
   "source": []
  },
  {
   "cell_type": "code",
   "execution_count": null,
   "metadata": {
    "collapsed": true
   },
   "outputs": [],
   "source": []
  },
  {
   "cell_type": "code",
   "execution_count": null,
   "metadata": {
    "collapsed": true
   },
   "outputs": [],
   "source": []
  },
  {
   "cell_type": "markdown",
   "metadata": {},
   "source": [
    "##  First step, fly to vacation spot. San Francisco :)\n",
    "### Class that maps hotels to reviews, vectorizes, and can cluster"
   ]
  },
  {
   "cell_type": "code",
   "execution_count": 2,
   "metadata": {},
   "outputs": [],
   "source": [
    "san_francisco = Hotel_Kmeans('data/san-francisco/')"
   ]
  },
  {
   "cell_type": "markdown",
   "metadata": {},
   "source": [
    "#### - group all hotel reviews to their hotel"
   ]
  },
  {
   "cell_type": "code",
   "execution_count": 3,
   "metadata": {},
   "outputs": [
    {
     "name": "stdout",
     "output_type": "stream",
     "text": [
      "There are 212 hotels in the dataset.\n",
      "Total stemmed and tokenized words: 4729386\n"
     ]
    }
   ],
   "source": [
    "san_francisco.make_map()"
   ]
  },
  {
   "cell_type": "markdown",
   "metadata": {},
   "source": [
    "#### - tfidf vectorized matrix"
   ]
  },
  {
   "cell_type": "code",
   "execution_count": 4,
   "metadata": {
    "collapsed": true
   },
   "outputs": [],
   "source": [
    "san_francisco.vectorize()"
   ]
  },
  {
   "cell_type": "markdown",
   "metadata": {},
   "source": [
    "## Person Class for each search"
   ]
  },
  {
   "cell_type": "markdown",
   "metadata": {},
   "source": [
    "- initialize new annoying customer"
   ]
  },
  {
   "cell_type": "code",
   "execution_count": 5,
   "metadata": {
    "collapsed": true
   },
   "outputs": [],
   "source": [
    "picky_person = Person(san_francisco)"
   ]
  },
  {
   "cell_type": "markdown",
   "metadata": {},
   "source": [
    "- begin search using cosine similarities"
   ]
  },
  {
   "cell_type": "code",
   "execution_count": 6,
   "metadata": {},
   "outputs": [
    {
     "name": "stdout",
     "output_type": "stream",
     "text": [
      "Enter search queries or quit: financial district near shopping and trendy\n",
      "Enter search queries or quit: quit\n",
      "\n",
      "\n",
      "financial district near shopping and trendy\n",
      "['usa_san francisco_hilton_san_francisco_financial_district', 'usa_san francisco_le_meridien_san_francisco', 'usa_san francisco_club_quarters_san_francisco']\n",
      "\n"
     ]
    }
   ],
   "source": [
    "picky_person.search()"
   ]
  },
  {
   "cell_type": "markdown",
   "metadata": {},
   "source": [
    "#### I did K-means clustering to help understand why our reccomender picked these choices"
   ]
  },
  {
   "cell_type": "code",
   "execution_count": 23,
   "metadata": {
    "scrolled": true
   },
   "outputs": [
    {
     "name": "stdout",
     "output_type": "stream",
     "text": [
      "Fitting K-means\n",
      "Top terms per cluster:\n",
      "\n",
      "Cluster 0 words: b'hill', b'nob', b'nob', b'fairmont', b'cable', b'suite', b'club', b'concierge', b'season', b'w', b'beautiful', b'spa', b'kitchens', b'mark', b'ritz', b'bedroom', b'pool', b'apart', b'upgraded', b'room',\n",
      "\n",
      "Cluster 0 hotels: usa_san francisco_intercontinental_mark_hopkins_san_francisco, usa_san francisco_steinhart, usa_san francisco_encore_express_hotel, usa_san francisco_w_san_francisco, usa_san francisco_grosvenor_suites, usa_san francisco_st_regis_hotel_san_francisco, usa_san francisco_fairmont_heritage_place_ghirardelli_square, usa_san francisco_four_seasons_hotel_san_francisco, usa_san francisco_university_club, usa_san francisco_the_fairmont_san_francisco, usa_san francisco_the_ritz_carlton, usa_san francisco_nob_hill_hotel, usa_san francisco_renaissance_stanford_court, usa_san francisco_the_huntington_hotel_nob_hill_spa,\n",
      "\n",
      "Cluster 1 words: b'cable', b'concierge', b'powell', b'bart', b'valet', b'suite', b'upgraded', b'beautiful', b'king', b'marriott', b'pool', b'expensive', b'modern', b'westin', b'room', b'spacious', b'market', b'very', b'station', b'fantastic',\n",
      "\n",
      "Cluster 1 hotels: usa_san francisco_westin_san_francisco_market_street, usa_san francisco_parc_55_hotel, usa_san francisco_the_westin_st_francis, usa_san francisco_omni_san_francisco_hotel, usa_san francisco_intercontinental_san_francisco, usa_san francisco_hotel_palomar_san_francisco_a_kimpton_hotel, usa_san francisco_hotel_nikko_san_francisco, usa_san francisco_hotel_abri_union_square_a_larkspur_collection_hotel, usa_san francisco_san_francisco_marriott_union_square, usa_san francisco_palace_hotel, usa_san francisco_chancellor_hotel_on_union_square, usa_san francisco_warwick_san_francisco_hotel, usa_san francisco_clift_hotel_san_francisco, usa_san francisco_courtyard_san_francisco_downtown, usa_san francisco_hotel_adagio, usa_san francisco_hotel_frank, usa_san francisco_campton_place_hotel, usa_san francisco_handlery_union_square_hotel, usa_san francisco_hotel_diva, usa_san francisco_hotel_kabuki, usa_san francisco_powell_hotel, usa_san francisco_hotel_milano, usa_san francisco_the_orchard_hotel, usa_san francisco_villa_florence_hotel_union_square_a_larkspur_collection_hotel, usa_san francisco_jw_marriott_san_francisco_union_square, usa_san francisco_sir_francis_drake_hotel_a_kimpton_hotel, usa_san francisco_hilton_san_francisco_union_square, usa_san francisco_san_francisco_marriott_marquis, usa_san francisco_the_kensington_park_hotel,\n",
      "\n",
      "Cluster 2 words: b'inn', b'free', b'motel', b'fisherman', b'lombard', b'microwave', b\"'s\", b'fisherman', b'nan', b'gate', b'bay', b'motor', b'nan', b'bridge', b'continental', b'continental', b'office', b'cable', b'fridge', b'parking',\n",
      "\n",
      "Cluster 2 hotels: usa_san francisco_francisco_bay_inn, usa_san francisco_castle_inn, usa_san francisco_columbus_motor_inn, usa_san francisco_laurel_inn, usa_san francisco_inn_at_the_opera, usa_san francisco_bay_bridge_inn, usa_san francisco_alpha_inn_and_suites_san_francisco, usa_san francisco_mission_inn, usa_san francisco_seal_rock_inn, usa_san francisco_vagabond_inn_san_francisco_civic_center, usa_san francisco_redwood_inn, usa_san francisco_royal_pacific_motor_inn, usa_san francisco_oasis_inn, usa_san francisco_great_highway_motor_inn, usa_san francisco_nob_hill_motor_inn, usa_san francisco_sonoma_inn, usa_san francisco_marina_inn, usa_san francisco_presidio_inn_suites, usa_san francisco_days_inn_lombard_street, usa_san francisco_comfort_inn_by_the_bay, usa_san francisco_good_nite_inn_san_francisco_airport, usa_san francisco_the_wharf_inn, usa_san francisco_broadway_manor_inn, usa_san francisco_rodeway_inn_downtown, usa_san francisco_san_francisco_days_inn_downtown_civic_center_area,\n",
      "\n",
      "Cluster 3 words: b'homeless', b'nan', b'nan', b'market', b'homeless', b'dirty', b'bugs', b'sheets', b'bart', b'tenderloin', b'hostels', b'civic', b'motel', b'guys', b'market', b'sharing', b'pool', b'centrally', b'bed', b'cable',\n",
      "\n",
      "Cluster 3 hotels: usa_san francisco_americas_best_value_inn_suites_union_square, usa_san francisco_twin_peaks_hotel, usa_san francisco_renoir_hotel, usa_san francisco_verona, usa_san francisco_the_opal_san_francisco, usa_san francisco_harcourt_hotel, usa_san francisco_best_western_hotel_tomo, usa_san francisco_stanyan_park_hotel, usa_san francisco_alexander_inn, usa_san francisco_best_western_civic_center_motor_inn, usa_san francisco_monarch_hotel, usa_san francisco_civic_center_inn, usa_san francisco_americas_best_value_inn_suites_soma, usa_san francisco_touchstone_hotel, usa_san francisco_olympic_hotel, usa_san francisco_rodeway_inn_civic_center, usa_san francisco_carl_hotel, usa_san francisco_hotel_metropolis, usa_san francisco_the_good_hotel, usa_san francisco_the_gaylord, usa_san francisco_halcyon_hotel, usa_san francisco_spaulding_hotel, usa_san francisco_travelodge_central_san_francisco_hotel, usa_san francisco_holiday_inn_civic_center_san_francisco, usa_san francisco_layne_hotel, usa_san francisco_ansonia_abby_hotel, usa_san francisco_knights_inn_downtown_san_francisco, usa_san francisco_cova_hotel, usa_san francisco_abigail_hotel, usa_san francisco_edwardian_san_francisco_hotel, usa_san francisco_crescent_san_francisco, usa_san francisco_heritage_marina_hotel, usa_san francisco_the_hotel_tropicana, usa_san francisco_the_metro_hotel, usa_san francisco_grant_plaza_hotel, usa_san francisco_best_western_americania, usa_san francisco_the_embassy_hotel, usa_san francisco_union_square_plaza_hotel, usa_san francisco_alexis_park_san_francisco, usa_san francisco_the_herbert_hotel, usa_san francisco_best_western_carriage_inn, usa_san francisco_archstone_south_market, usa_san francisco_mithila, usa_san francisco_hotel_whitcomb, usa_san francisco_the_dakota_hotel, usa_san francisco_phoenix_hotel, usa_san francisco_park_hotel, usa_san francisco_aida_hotel, usa_san francisco_hotel_north_beach, usa_san francisco_pontiac_hotel, usa_san francisco_taylor_hotel, usa_san francisco_beck_s_motor_lodge, usa_san francisco_hotel_mark_twain, usa_san francisco_cathedral_hill_hotel,\n",
      "\n",
      "Cluster 4 words: b'bay', b'embarcadero', b'ferry', b'hyatt', b'ferry', b'bridge', b'view', b'bay', b'concierge', b'financial', b'financial', b'club', b'court', b'priceline', b'bart', b'view', b'valet', b'chinatown', b'market', b'suite',\n",
      "\n",
      "Cluster 4 hotels: usa_san francisco_club_quarters_san_francisco, usa_san francisco_mandarin_oriental, usa_san francisco_harbor_court_hotel_a_kimpton_hotel, usa_san francisco_hotel_griffon, usa_san francisco_le_meridien_san_francisco, usa_san francisco_hilton_san_francisco_financial_district, usa_san francisco_hotel_vitale, usa_san francisco_grand_hyatt_san_francisco, usa_san francisco_hyatt_regency_san_francisco,\n",
      "\n",
      "Cluster 5 words: b'wine', b'fireplace', b'b', b'cheese', b'inn', b'beautiful', b'b', b'queen', b'suite', b'cookie', b'amp', b'charms', b'pacific', b'afternoons', b'white', b'fruit', b'continental', b'height', b'tea', b'pacific',\n",
      "\n",
      "Cluster 5 hotels: usa_san francisco_the_archbishop_s_mansion, usa_san francisco_white_swan_inn, usa_san francisco_edward_ii_inn_and_suites, usa_san francisco_the_queen_anne_hotel, usa_san francisco_jackson_court_san_francisco, usa_san francisco_the_inn_at_union_square, usa_san francisco_petite_auberge, usa_san francisco_hotel_drisco,\n",
      "\n",
      "Cluster 6 words: b'fisherman', b\"'s\", b'fisherman', b'cable', b'piers', b'inn', b'holiday', b'holiday', b'concierge', b'alcatraz', b'pool', b'courtyard', b'tours', b'sheraton', b'marriott', b'fisherman', b'wine', b'hilton', b'suite', b'hyatt',\n",
      "\n",
      "Cluster 6 hotels: usa_san francisco_holiday_inn_san_francisco_golden_gateway, usa_san francisco_sheraton_fisherman_s_wharf_hotel, usa_san francisco_hilton_san_francisco_fisherman_s_wharf, usa_san francisco_radisson_hotel_fisherman_s_wharf, usa_san francisco_suites_at_fisherman_s_wharf, usa_san francisco_hyatt_at_fisherman_s_wharf, usa_san francisco_argonaut_hotel_a_kimpton_hotel, usa_san francisco_best_western_tuscan_inn_fisherman_s_wharf_a_kimpton_hotel, usa_san francisco_holiday_inn_san_francisco_fishermans_wharf, usa_san francisco_holiday_inn_express_san_francisco_fisherman_s_wharf, usa_san francisco_bayside_inn_at_the_wharf_pacific_hotels, usa_san francisco_courtyard_by_marriott_fisherman_s_wharf, usa_san francisco_marriott_san_francisco_fisherman_s_wharf,\n",
      "\n"
     ]
    },
    {
     "name": "stdout",
     "output_type": "stream",
     "text": [
      "Cluster 7 words: b'wine', b'cable', b'chinatown', b'room', b'nan', b'nan', b'bart', b'powell', b'continental', b'muffins', b'suite', b'complimentary', b'charms', b'continental', b'blocks', b'blocks', b'boutique', b'king', b'centrally', b'juice',\n",
      "\n",
      "Cluster 7 hotels: usa_san francisco_fitzgerald_hotel_union_square, usa_san francisco_hotel_vertigo, usa_san francisco_hotel_des_arts, usa_san francisco_baldwin_hotel, usa_san francisco_beresford_arms, usa_san francisco_the_mosser, usa_san francisco_hotel_cosmo, usa_san francisco_hotel_mayflower, usa_san francisco_hotel_union_square, usa_san francisco_sw_hotel, usa_san francisco_best_western_the_hotel_california, usa_san francisco_serrano_hotel_a_kimpton_hotel, usa_san francisco_hotel_monaco_san_francisco_a_kimpton_hotel, usa_san francisco_hotel_bijou, usa_san francisco_hotel_boheme, usa_san francisco_prescott_hotel_a_kimpton_hotel, usa_san francisco_hotel_rex, usa_san francisco_orchard_garden_hotel, usa_san francisco_larkspur_hotel_union_square, usa_san francisco_the_grant_hotel, usa_san francisco_marines_memorial_club_hotel, usa_san francisco_andrews_hotel, usa_san francisco_hotel_majestic, usa_san francisco_executive_hotel_vintage_court, usa_san francisco_king_george_hotel, usa_san francisco_the_stratford, usa_san francisco_galleria_park, usa_san francisco_hotel_fusion, usa_san francisco_cornell_hotel_de_france, usa_san francisco_astoria_hotel, usa_san francisco_adante_hotel, usa_san francisco_hotel_triton_a_kimpton_hotel, usa_san francisco_hotel_carlton_a_joie_de_vivre_hotel, usa_san francisco_hotel_beresford, usa_san francisco_the_donatello_hotel,\n",
      "\n",
      "Cluster 8 words: b'lombard', b'motel', b'free', b'inn', b'motor', b'lombard', b'marina', b'nan', b'bridge', b'golden', b'fisherman', b'golden', b'gate', b'nan', b'golden', b'gate', b\"'s\", b'traffic', b'fisherman', b'parking',\n",
      "\n",
      "Cluster 8 hotels: usa_san francisco_americas_best_value_inn_golden_gate, usa_san francisco_hotel_del_sol, usa_san francisco_la_luna_inn, usa_san francisco_america_s_best_inn_san_francisco, usa_san francisco_buena_vista_motor_inn, usa_san francisco_greenwich_inn, usa_san francisco_san_francisco_at_the_presidio_travelodge, usa_san francisco_cow_hollow_motor_inn_and_suites, usa_san francisco_coventry_motor_inn, usa_san francisco_travelodge_golden_gate_san_francisco, usa_san francisco_ramada_limited_san_francisco, usa_san francisco_lombard_motor_inn, usa_san francisco_super_8_san_francisco_fisherman_s_wharf, usa_san francisco_surf_motel, usa_san francisco_town_house, usa_san francisco_chelsea_motor_inn,\n",
      "\n",
      "Cluster 9 words: b'motel', b'ocean', b'beach', b'marina', b'free', b'golden', b'golden', b'golden', b'gate', b'gate', b'dog', b'courtyard', b'geary', b'owner', b'lombard', b'stars', b'king', b'kitchens', b'inn', b'key',\n",
      "\n",
      "Cluster 9 hotels: usa_san francisco_motel_6_san_francisco_downtown, usa_san francisco_geary_parkway_motel, usa_san francisco_star_motel, usa_san francisco_capri_motel, usa_san francisco_oceanview_motel, usa_san francisco_marina_motel, usa_san francisco_ocean_park_motel, usa_san francisco_beach_motel, usa_san francisco_roberts_at_the_beach_motel,\n",
      "\n"
     ]
    }
   ],
   "source": [
    "san_francisco.get_clusters()"
   ]
  },
  {
   "cell_type": "markdown",
   "metadata": {},
   "source": [
    "Cluster 4 words: b'bay', b'embarcadero', b'ferry', b'hyatt', b'ferry', b'bridge', b'view', b'bay', b'concierge', b'financial', b'financial', b'club', b'court', b'priceline', b'bart', b'view', b'valet', b'chinatown', b'market', b'suite',\n",
    "\n",
    "Cluster 4 hotels: usa_san francisco_club_quarters_san_francisco, usa_san francisco_mandarin_oriental, usa_san francisco_harbor_court_hotel_a_kimpton_hotel, usa_san francisco_hotel_griffon, usa_san francisco_le_meridien_san_francisco, usa_san francisco_hilton_san_francisco_financial_district, usa_san francisco_hotel_vitale, usa_san francisco_grand_hyatt_san_francisco, usa_san francisco_hyatt_regency_san_francisco,"
   ]
  },
  {
   "cell_type": "markdown",
   "metadata": {},
   "source": [
    "## Deeper look into: San Francisco Le Meridien San Francisco"
   ]
  },
  {
   "cell_type": "markdown",
   "metadata": {},
   "source": [
    "### Begin Sentiment Topic Modeling"
   ]
  },
  {
   "cell_type": "markdown",
   "metadata": {},
   "source": [
    "- instantiate sentiment topic model"
   ]
  },
  {
   "cell_type": "code",
   "execution_count": 14,
   "metadata": {
    "collapsed": true
   },
   "outputs": [],
   "source": [
    "analyzer = Sentiment_Model('san-francisco', 'usa_san francisco_le_meridien_san_francisco')"
   ]
  },
  {
   "cell_type": "code",
   "execution_count": 15,
   "metadata": {
    "collapsed": true
   },
   "outputs": [],
   "source": [
    "analyzer._get_hotel_reviews()"
   ]
  },
  {
   "cell_type": "markdown",
   "metadata": {},
   "source": [
    "- cluster reviews in Positives, Negatives, Neutrals"
   ]
  },
  {
   "cell_type": "code",
   "execution_count": 16,
   "metadata": {},
   "outputs": [
    {
     "name": "stdout",
     "output_type": "stream",
     "text": [
      "Total reviews: 582\n"
     ]
    }
   ],
   "source": [
    "analyzer.cluter_review_sentiments()"
   ]
  },
  {
   "cell_type": "markdown",
   "metadata": {},
   "source": [
    "- Count vectorizer clusters"
   ]
  },
  {
   "cell_type": "code",
   "execution_count": 17,
   "metadata": {},
   "outputs": [
    {
     "name": "stdout",
     "output_type": "stream",
     "text": [
      "positives count vectorizer shape: (278, 19174)\n",
      "negatives count vectorizer shape: (5, 273)\n"
     ]
    },
    {
     "name": "stderr",
     "output_type": "stream",
     "text": [
      "/Users/steventa/anaconda3/lib/python3.6/site-packages/sklearn/decomposition/online_lda.py:294: DeprecationWarning: n_topics has been renamed to n_components in version 0.19 and will be removed in 0.21\n",
      "  DeprecationWarning)\n",
      "/Users/steventa/anaconda3/lib/python3.6/site-packages/sklearn/decomposition/online_lda.py:536: DeprecationWarning: The default value for 'learning_method' will be changed from 'online' to 'batch' in the release 0.20. This warning was introduced in 0.18.\n",
      "  DeprecationWarning)\n"
     ]
    },
    {
     "name": "stdout",
     "output_type": "stream",
     "text": [
      "Clustering for Positives: CLEANLINESS, ROOM, SERVICE, LOCATION, VALUE\n",
      "Clustering for Negatives: CLEANLINESS, ROOM, SERVICE, LOCATION, VALUE\n",
      "run: pyLDAvis.sklearn.prepare(hotel.lda_tf, hotel.dtm_tf, hotel.tf_vectorizer)\n",
      "run: pyLDAvis.sklearn.prepare(hotel.neg_lda_tf, hotel.neg_dtm_tf, hotel.neg_tf_vectorizer)\n"
     ]
    },
    {
     "name": "stderr",
     "output_type": "stream",
     "text": [
      "/Users/steventa/anaconda3/lib/python3.6/site-packages/sklearn/decomposition/online_lda.py:294: DeprecationWarning: n_topics has been renamed to n_components in version 0.19 and will be removed in 0.21\n",
      "  DeprecationWarning)\n",
      "/Users/steventa/anaconda3/lib/python3.6/site-packages/sklearn/decomposition/online_lda.py:536: DeprecationWarning: The default value for 'learning_method' will be changed from 'online' to 'batch' in the release 0.20. This warning was introduced in 0.18.\n",
      "  DeprecationWarning)\n"
     ]
    }
   ],
   "source": [
    "analyzer.vectorize_clusters()"
   ]
  },
  {
   "cell_type": "code",
   "execution_count": null,
   "metadata": {
    "collapsed": true
   },
   "outputs": [],
   "source": []
  },
  {
   "cell_type": "markdown",
   "metadata": {},
   "source": [
    "# We have ratings for 5 topics. Can our topic modeling find it?\n",
    "\n",
    "- CLEANLINESS\t\n",
    "- ROOM\t\n",
    "- SERVICE\t\n",
    "- LOCATION\n",
    "- VALUE\t"
   ]
  },
  {
   "cell_type": "code",
   "execution_count": null,
   "metadata": {
    "collapsed": true
   },
   "outputs": [],
   "source": []
  },
  {
   "cell_type": "markdown",
   "metadata": {},
   "source": [
    "# Visualize positive clusters"
   ]
  },
  {
   "cell_type": "code",
   "execution_count": 18,
   "metadata": {},
   "outputs": [
    {
     "name": "stderr",
     "output_type": "stream",
     "text": [
      "/Users/steventa/anaconda3/lib/python3.6/site-packages/pyLDAvis/_prepare.py:387: DeprecationWarning: \n",
      ".ix is deprecated. Please use\n",
      ".loc for label based indexing or\n",
      ".iloc for positional indexing\n",
      "\n",
      "See the documentation here:\n",
      "http://pandas.pydata.org/pandas-docs/stable/indexing.html#ix-indexer-is-deprecated\n",
      "  topic_term_dists = topic_term_dists.ix[topic_order]\n"
     ]
    },
    {
     "data": {
      "text/html": [
       "\n",
       "<link rel=\"stylesheet\" type=\"text/css\" href=\"https://cdn.rawgit.com/bmabey/pyLDAvis/files/ldavis.v1.0.0.css\">\n",
       "\n",
       "\n",
       "<div id=\"ldavis_el134701131706689045032693219\"></div>\n",
       "<script type=\"text/javascript\">\n",
       "\n",
       "var ldavis_el134701131706689045032693219_data = {\"mdsDat\": {\"Freq\": [21.474909416597963, 20.355966940657478, 19.632849190061258, 19.34114921701718, 19.195125235666136], \"cluster\": [1, 1, 1, 1, 1], \"topics\": [1, 2, 3, 4, 5], \"x\": [-0.03571817192100636, -0.067638448526565, 0.12312305299536544, -0.01522614539003852, -0.004540287157755566], \"y\": [0.09693082379409979, -0.0985867680967002, -0.023642673905378768, 0.0168674357366428, 0.008431182471336295]}, \"tinfo\": {\"Category\": [\"Default\", \"Default\", \"Default\", \"Default\", \"Default\", \"Default\", \"Default\", \"Default\", \"Default\", \"Default\", \"Default\", \"Default\", \"Default\", \"Default\", \"Default\", \"Default\", \"Default\", \"Default\", \"Default\", \"Default\", \"Default\", \"Default\", \"Default\", \"Default\", \"Default\", \"Default\", \"Default\", \"Default\", \"Default\", \"Default\", \"Topic1\", \"Topic1\", \"Topic1\", \"Topic1\", \"Topic1\", \"Topic1\", \"Topic1\", \"Topic1\", \"Topic1\", \"Topic1\", \"Topic1\", \"Topic1\", \"Topic1\", \"Topic1\", \"Topic1\", \"Topic1\", \"Topic1\", \"Topic1\", \"Topic1\", \"Topic1\", \"Topic1\", \"Topic1\", \"Topic1\", \"Topic1\", \"Topic1\", \"Topic1\", \"Topic1\", \"Topic1\", \"Topic1\", \"Topic1\", \"Topic1\", \"Topic1\", \"Topic1\", \"Topic1\", \"Topic1\", \"Topic1\", \"Topic1\", \"Topic1\", \"Topic1\", \"Topic1\", \"Topic1\", \"Topic1\", \"Topic1\", \"Topic1\", \"Topic1\", \"Topic2\", \"Topic2\", \"Topic2\", \"Topic2\", \"Topic2\", \"Topic2\", \"Topic2\", \"Topic2\", \"Topic2\", \"Topic2\", \"Topic2\", \"Topic2\", \"Topic2\", \"Topic2\", \"Topic2\", \"Topic2\", \"Topic2\", \"Topic2\", \"Topic2\", \"Topic2\", \"Topic2\", \"Topic2\", \"Topic2\", \"Topic2\", \"Topic2\", \"Topic2\", \"Topic2\", \"Topic2\", \"Topic2\", \"Topic2\", \"Topic2\", \"Topic2\", \"Topic2\", \"Topic2\", \"Topic2\", \"Topic2\", \"Topic2\", \"Topic2\", \"Topic2\", \"Topic3\", \"Topic3\", \"Topic3\", \"Topic3\", \"Topic3\", \"Topic3\", \"Topic3\", \"Topic3\", \"Topic3\", \"Topic3\", \"Topic3\", \"Topic3\", \"Topic3\", \"Topic3\", \"Topic3\", \"Topic3\", \"Topic3\", \"Topic3\", \"Topic3\", \"Topic3\", \"Topic3\", \"Topic3\", \"Topic3\", \"Topic3\", \"Topic3\", \"Topic3\", \"Topic3\", \"Topic3\", \"Topic3\", \"Topic3\", \"Topic3\", \"Topic3\", \"Topic3\", \"Topic3\", \"Topic3\", \"Topic3\", \"Topic3\", \"Topic3\", \"Topic3\", \"Topic3\", \"Topic3\", \"Topic3\", \"Topic3\", \"Topic3\", \"Topic3\", \"Topic3\", \"Topic3\", \"Topic3\", \"Topic3\", \"Topic3\", \"Topic3\", \"Topic3\", \"Topic3\", \"Topic3\", \"Topic3\", \"Topic3\", \"Topic3\", \"Topic3\", \"Topic3\", \"Topic3\", \"Topic3\", \"Topic3\", \"Topic4\", \"Topic4\", \"Topic4\", \"Topic4\", \"Topic4\", \"Topic4\", \"Topic4\", \"Topic4\", \"Topic4\", \"Topic4\", \"Topic4\", \"Topic4\", \"Topic4\", \"Topic4\", \"Topic4\", \"Topic4\", \"Topic4\", \"Topic4\", \"Topic4\", \"Topic4\", \"Topic4\", \"Topic4\", \"Topic4\", \"Topic4\", \"Topic4\", \"Topic4\", \"Topic4\", \"Topic4\", \"Topic4\", \"Topic4\", \"Topic4\", \"Topic4\", \"Topic4\", \"Topic4\", \"Topic4\", \"Topic4\", \"Topic4\", \"Topic4\", \"Topic4\", \"Topic4\", \"Topic4\", \"Topic4\", \"Topic4\", \"Topic4\", \"Topic4\", \"Topic4\", \"Topic4\", \"Topic4\", \"Topic4\", \"Topic4\", \"Topic5\", \"Topic5\", \"Topic5\", \"Topic5\", \"Topic5\", \"Topic5\", \"Topic5\", \"Topic5\", \"Topic5\", \"Topic5\", \"Topic5\", \"Topic5\", \"Topic5\", \"Topic5\", \"Topic5\", \"Topic5\", \"Topic5\", \"Topic5\", \"Topic5\", \"Topic5\", \"Topic5\", \"Topic5\", \"Topic5\", \"Topic5\", \"Topic5\", \"Topic5\", \"Topic5\", \"Topic5\", \"Topic5\", \"Topic5\", \"Topic5\", \"Topic5\", \"Topic5\", \"Topic5\", \"Topic5\", \"Topic5\", \"Topic5\", \"Topic5\", \"Topic5\", \"Topic5\", \"Topic5\", \"Topic5\", \"Topic5\", \"Topic5\", \"Topic5\", \"Topic5\", \"Topic5\", \"Topic5\", \"Topic5\", \"Topic5\", \"Topic5\", \"Topic5\", \"Topic5\", \"Topic5\"], \"Freq\": [4.0, 4.0, 3.0, 6.0, 7.0, 5.0, 3.0, 8.0, 5.0, 3.0, 3.0, 4.0, 3.0, 4.0, 4.0, 3.0, 3.0, 3.0, 4.0, 2.0, 2.0, 4.0, 2.0, 3.0, 2.0, 3.0, 2.0, 2.0, 2.0, 2.0, 2.701300390628334, 2.671767495643049, 2.6881401847160804, 2.6648892526700014, 2.639270294608945, 2.3464583680776636, 2.3472899107085308, 2.3467375092188067, 2.3474040237875373, 2.3480433561660874, 2.3470944444746293, 2.3494875566605393, 2.346639418633071, 2.3490654808716527, 2.347744232464501, 2.3467091734007846, 2.348592213215296, 2.3464709488420565, 2.345965716227176, 2.348862469280188, 2.346318470963128, 2.348290903982465, 2.3490778368039744, 2.3497853978541707, 2.347693641133154, 2.3459474473381396, 2.3481128573637244, 2.3503483618449446, 2.3483650084347145, 2.3460515669120134, 2.3494358953335337, 4.743055843995667, 2.6923836246534143, 2.672785055584369, 2.695031490567324, 2.6904806828198646, 2.655930235269976, 2.6400723046280135, 3.377923448643566, 2.349228166515105, 2.348098018374051, 2.347580350921361, 2.3503525690505827, 2.349664049672883, 2.348589191813429, 3.160707924558813, 2.870861666496492, 2.5548468888719578, 2.526136612834108, 2.2292521673175, 2.2304874078321615, 2.223809886044855, 2.2291369638618, 2.2304311314109926, 2.22720141415583, 2.2296268386369476, 2.229369678615124, 2.2283977105141792, 2.2283752963219614, 2.228695905024344, 2.2275232762485127, 2.228994109762157, 2.226650942394171, 2.2238479845398174, 2.2269862166825165, 2.222553256926975, 2.221206667078684, 2.2212276391304453, 2.218194323170501, 2.224233815112628, 2.2241925981214683, 2.2225685451380257, 2.223540322250158, 2.220545373212504, 2.2240197325076068, 2.222377821939046, 2.2244019062636036, 2.531021100178832, 2.5117465336158413, 2.5315656760201533, 2.5233164634811187, 2.5106462154595337, 2.225777218258194, 2.225109936841689, 4.142064005680919, 4.1424058595109425, 2.421650469615305, 2.4195729167640163, 2.121052957080687, 2.1205689865021697, 2.1234148737921097, 2.1231864675385714, 2.1255895293516933, 2.1219521036139204, 2.122550245665903, 2.1235209922718994, 2.121979279345041, 2.1238922687544397, 2.122175434971837, 2.123040544651587, 2.122976553656258, 2.1184415112411727, 2.1239282922184075, 2.124259320077307, 2.1201150572633405, 2.1220980596983123, 2.1215411532597828, 2.1224944076876886, 2.121849198493283, 2.124852791369603, 2.121608903841621, 2.1224445721616263, 2.1235010907471326, 2.1214221804190707, 2.1227705097846172, 2.124163236001342, 2.1225342845835513, 2.1238031521006744, 2.1241317801026907, 2.1245498168703203, 2.123537112397196, 2.124358002342866, 2.124459068157381, 2.1247952662086784, 2.4261388854007744, 2.4255824933694017, 2.4251189673395896, 2.41027610117366, 2.4071499755687147, 2.1249398087095086, 2.124434489050022, 2.446493856500287, 2.423845367725406, 2.1260195715194516, 2.1257607489531827, 3.0714353253563837, 2.1264470951242203, 2.124730811534936, 2.441491357161405, 2.124579823259304, 2.124600017907441, 2.1244799882654846, 2.1244139419112944, 2.1244552517658994, 2.140876490027894, 2.124414783082941, 2.2713964556540835, 2.273535173263132, 2.273299898790866, 2.273266153364786, 2.2728631335775784, 2.272074414235721, 2.2736371622290523, 2.2720847582619603, 2.2741421152928205, 2.2719825654387997, 2.2729442878658577, 2.269487670585131, 2.2709378808296954, 2.2678618667377246, 2.2704397423044926, 2.272187940602357, 2.2740965376613813, 2.2698629175270897, 2.274553643795882, 2.2720140319012176, 2.2711026773800684, 2.2730710573507045, 2.269835583790522, 2.2706523675338564, 2.2712058406955276, 2.268715814687967, 2.2715975592873043, 2.2713741674474264, 2.2705100926935233, 2.268930575613448, 2.2723452466351026, 2.2740752140753133, 2.272522000349239, 2.2737507208042733, 2.274279400756214, 2.2741232975100254, 2.2735420478290442, 2.273519145462063, 2.273304659214703, 2.273372493367804, 2.27400722506167, 2.272503160311249, 2.272925321160688, 2.272073838379925, 2.2722811905843106, 2.273035959683135, 2.273097587352584, 2.272191295784714, 2.272214031705825, 2.2722049592180547, 2.307311092185007, 2.3015441543222086, 2.301575211422127, 2.2991939675281863, 2.2991369596004856, 2.300357686165747, 2.306146871359293, 2.3011472895070875, 2.2978065564009946, 2.2998661277678547, 2.296149786377965, 2.302839344503324, 2.299234821785454, 2.295032626908134, 2.297618620720009, 2.2981314156013424, 2.2956046998177833, 2.297763313754944, 2.299159167037387, 2.3029262000546655, 2.297997159566345, 2.2961912669128, 2.30165169129755, 2.296953218201764, 2.299075049518443, 2.298970934481127, 2.295863810407928, 2.2972361814584668, 2.29968297166417, 2.298560318257719, 2.299086961146135, 2.3013206287820567, 2.301740901996991, 2.2990690049530182, 2.2977862434218674, 4.656204034536548, 2.2984360598671834, 2.645099281803743, 2.6452228989260482, 3.3637883499264665, 2.6704729742995537, 2.3004369039073187, 2.9895536208172575, 2.980133979890554, 2.2997004847510483, 3.0036379684926624, 2.299881285870114, 2.6169270197942383, 2.299372450522113, 2.2995260403649076, 2.323024538355128, 2.3022221396750524, 2.310740769652186, 2.300115212765914], \"Term\": [\"view room bay\", \"room bay bridge\", \"weekend san francisco\", \"meridien san francisco\", \"bay view room\", \"north beach chinatown\", \"great view bay\", \"view bay bridge\", \"location financial district\", \"building north beach\", \"ferry building north\", \"hotel amp great\", \"hotel located downtown\", \"cable car union\", \"car union square\", \"excellent rate hotel\", \"great place spend\", \"gave room floor\", \"great bath amenities\", \"stayed hotel times\", \"corner room spectacular\", \"nice place stay\", \"makes perfect business\", \"fisherman wharf hotel\", \"jack favorite french\", \"san francisco holiday\", \"weekend away using\", \"tea fruit juice\", \"brandy chinese food\", \"fruit juice pastry\", \"hotel located downtown\", \"gave room floor\", \"great place spend\", \"fisherman wharf hotel\", \"san francisco holiday\", \"chinatown just objection\", \"san francisco august\", \"francisco august room\", \"building daily price\", \"grat bed staff\", \"nice helpful gave\", \"just blocks walking\", \"downtown near jackson\", \"just objection parking\", \"lot restaurants just\", \"objection parking veryexpensive\", \"night public parking\", \"wide grat bed\", \"nice view downtown\", \"beautiful wide grat\", \"parking veryexpensive night\", \"room floor nice\", \"helpful gave room\", \"place stay lot\", \"bed staff nice\", \"walking chinatown just\", \"jackson nice place\", \"room beautiful wide\", \"bay hotel located\", \"located downtown near\", \"veryexpensive night public\", \"meridien san francisco\", \"upgraded junior suite\", \"hotel walking distance\", \"centrally located walking\", \"ate breakfast hotel\", \"floor overlooking bay\", \"financial district right\", \"located financial district\", \"staff nice helpful\", \"restaurants just blocks\", \"stay lot restaurants\", \"floor nice view\", \"nights meridien san\", \"nice place stay\", \"weekend san francisco\", \"great view bay\", \"excellent rate hotel\", \"corner room spectacular\", \"view definitely stay\", \"friendly attentive staff\", \"stay unless need\", \"staff clean comfortable\", \"lovely view definitely\", \"like really quiet\", \"terrific service courteous\", \"clean comfortable rooms\", \"courteous friendly attentive\", \"service courteous friendly\", \"attentive staff clean\", \"rooms lovely view\", \"definitely stay sanfran\", \"comfortable stylish great\", \"clean comfortable stylish\", \"comfortable rooms lovely\", \"easy place like\", \"pleasant helpful rooms\", \"charge upgrade easy\", \"outstandingly pleasant helpful\", \"imagine better place\", \"really quiet safe\", \"budget make sure\", \"hotel hotwire count\", \"place stay unless\", \"different rooms vacation\", \"work unfortunately did\", \"stylish great view\", \"got great deal\", \"golden gate bridge\", \"distance ferry building\", \"walking distance ferry\", \"view coit tower\", \"great deal hotel\", \"deal hotel hotwire\", \"view room bay\", \"room bay bridge\", \"stayed hotel times\", \"makes perfect business\", \"bridge enjoyed great\", \"enjoyed great breakfast\", \"worth penny best\", \"counter high read\", \"fisherman wharf union\", \"especially william bartendars\", \"birthday thoroughly enjoyed\", \"making suggestions amp\", \"jackson square meridien\", \"didn dine hotel\", \"corner room facing\", \"trip junior suite\", \"hyatt amp loved\", \"bar great professional\", \"husband loved hotel\", \"water pressure excellent\", \"professional friendly realy\", \"bathroom bay view\", \"room separate bedroom\", \"purchased meridien stayed\", \"loved past trip\", \"large room great\", \"suite fabulous corner\", \"shower choose large\", \"fabulous corner room\", \"cherry wood carpet\", \"rooms large clean\", \"friendly helpful visiting\", \"bed happier experience\", \"meridien wife birthday\", \"modern black amp\", \"comfortable water pressure\", \"great hotel amp\", \"amp white marble\", \"battery recently purchased\", \"large bathroom bay\", \"wharf union square\", \"stayed hotel park\", \"hotel park hyatt\", \"street cable car\", \"california street cable\", \"hotel gym seen\", \"great farmer market\", \"walk ferry building\", \"just short walk\", \"marble granite bathrooms\", \"bar meridien service\", \"bay view room\", \"meeting easy walk\", \"reservations little italy\", \"ferry building great\", \"hotel clean large\", \"great breakfast morning\", \"hyatt quality comfort\", \"hotel used hyatt\", \"quality gym rooms\", \"hotel amp great\", \"great view decor\", \"realized like suite\", \"impressive negative thing\", \"quite impressive negative\", \"hyatt previously preferred\", \"hotel lack nice\", \"nice shopping choices\", \"previously preferred closer\", \"day embarcadero right\", \"encountered friendly polite\", \"spend day embarcadero\", \"ask unusual encountered\", \"deco decor lobby\", \"thing point room\", \"walking distance literally\", \"stays mark hopkins\", \"formally hyatt previously\", \"immediate vicinity hotel\", \"honestly say walking\", \"small terrace gave\", \"new equipment line\", \"didn ask unusual\", \"nice art deco\", \"negative thing point\", \"surprise booked studio\", \"meridien formally hyatt\", \"grand way simple\", \"modern space hotel\", \"used small functional\", \"impressive clean new\", \"way bay city\", \"hopkins disappointing stay\", \"separate rooms living\", \"shower tub combo\", \"studio room shocked\", \"decor lobby bar\", \"try hyped new\", \"like suite separate\", \"room fact shower\", \"stay decided try\", \"embarcadero right hotel\", \"choices immediate vicinity\", \"point room fact\", \"gorgeous fixtures best\", \"elegant nice art\", \"rooms living bedroom\", \"right hotel lack\", \"entered realized like\", \"fixtures best small\", \"hotel gorgeous grand\", \"combo bathroom really\", \"jack favorite french\", \"brandy chinese food\", \"tea fruit juice\", \"blocks hotel ferry\", \"pastry lunch dinner\", \"fruit juice pastry\", \"weekend away using\", \"couple blocks hotel\", \"plane departed highly\", \"thoroughly enjoyed stay\", \"beach chinatown walking\", \"staff attentive didn\", \"early later check\", \"comparatively quiet location\", \"exercise walking city\", \"contemporary spacious compared\", \"scented toiletries delightful\", \"building light breakfast\", \"everytime passed offering\", \"nice usable sexes\", \"worth splurge parking\", \"size room stay\", \"light breakfast places\", \"puff pastry leisurely\", \"narrow view bay\", \"room stay san\", \"door ferry building\", \"san francisco small\", \"room floor clean\", \"room player toiletries\", \"stroll couple blocks\", \"enjoyed nightcap hotel\", \"bay bridge bring\", \"delight concierge extremely\", \"enjoyed stay room\", \"view bay bridge\", \"bring enjoy room\", \"building north beach\", \"ferry building north\", \"location financial district\", \"coit tower transamerica\", \"small nice view\", \"highly recommend hotel\", \"north beach chinatown\", \"clean contemporary spacious\", \"bay view room\", \"buy coffee tea\", \"nice view bay\", \"lunch dinner try\", \"concierge extremely helpful\", \"tower transamerica building\", \"building bay bridge\", \"meridien park hyatt\", \"chinatown walking distance\"], \"Total\": [4.0, 4.0, 3.0, 6.0, 7.0, 5.0, 3.0, 8.0, 5.0, 3.0, 3.0, 4.0, 3.0, 4.0, 4.0, 3.0, 3.0, 3.0, 4.0, 2.0, 2.0, 4.0, 2.0, 3.0, 2.0, 3.0, 2.0, 2.0, 2.0, 2.0, 3.1314162530310137, 3.1044825464185712, 3.129083231178508, 3.1074505968596866, 3.1079115966310384, 2.76934618212633, 2.771334636532885, 2.7708400749139965, 2.772400887496103, 2.7733100607528023, 2.7724684958327677, 2.775321395738726, 2.772151632628796, 2.7755041244736276, 2.773965305561979, 2.7736161176921823, 2.775987040536775, 2.773846157352684, 2.7734029966476563, 2.7770939621915542, 2.774227696059746, 2.7765655892226153, 2.7777968783009, 2.7789626987533036, 2.7765029214044286, 2.774700410641159, 2.7773682034613016, 2.7800684375655385, 2.7781991055952533, 2.7755684512032657, 2.7800749815337, 6.790658533740782, 3.4281269800710086, 3.4040602023523356, 3.4843474418912486, 3.4761808797441884, 3.446155420375505, 3.431811442465899, 6.408699935924485, 2.780973742104137, 2.7792240493225426, 2.7786726660061367, 3.077094632641992, 3.119847892025174, 4.900523682459948, 3.6082288911474922, 3.3235212675161367, 3.005672914846811, 2.975967581205871, 2.6592845858405734, 2.661544739386996, 2.6563083586948513, 2.6634323816231262, 2.6651681592722714, 2.6618718576198495, 2.6653554823977292, 2.665135697466374, 2.66477103771998, 2.6648465353782913, 2.6654919748795742, 2.664501240073902, 2.6662614034285967, 2.664218250732052, 2.6612573120433822, 2.665025112238009, 2.659970348260857, 2.6587236602297026, 2.659596608821379, 2.656110045116357, 2.663763616498775, 2.6643370917071074, 2.6624497616939187, 2.663623675234326, 2.6604023552312546, 2.6646556557964964, 2.663036215099894, 2.6662983095074826, 3.2995165998900884, 3.329468422297193, 3.6476714682651905, 3.6525763375149767, 3.995971032635564, 2.990513166679411, 3.0203600617664867, 4.581412727960905, 4.582611077286921, 2.859985197819312, 2.860601426692313, 2.554686114589953, 2.5541908048013005, 2.557733889996429, 2.558505055516064, 2.561451811104586, 2.5571276510393828, 2.5579351937423245, 2.5591801392879336, 2.557355972136322, 2.559681359895541, 2.5576409184226865, 2.5586928322013422, 2.55872319282375, 2.553598689873375, 2.5602961724470394, 2.5608201959214183, 2.5558674551362577, 2.5582789208529553, 2.557743794605592, 2.5589221897252954, 2.558190731001993, 2.561858653536274, 2.5579600063500947, 2.559000431878975, 2.5603568596279858, 2.557931334450946, 2.5596446776889294, 2.5615400733255536, 2.5594301403128377, 2.561327742543987, 2.561974040663785, 2.562649384129511, 2.5611034274252957, 2.562627827528192, 2.5629484973861407, 2.563631231858043, 3.198371901713519, 3.200768546690245, 3.206921780782875, 3.192156910063563, 3.1913310283460636, 2.563949005358603, 2.5630858323360983, 3.553744671006256, 3.5324337673445667, 2.5680128689574544, 2.567564482168541, 7.061728207081307, 2.571225677813176, 2.564567754200479, 5.427190202862154, 2.5654154791054373, 2.5661963492778703, 2.5651959549869643, 2.566414753656637, 2.5680788847794753, 4.685963657278223, 2.566673719056032, 2.6985422719998247, 2.7018790648946363, 2.7026734328347444, 2.7026828388368354, 2.7031032382835902, 2.702737396566615, 2.7048714928005246, 2.7031853552316663, 2.705821886656526, 2.704627503133047, 2.7060312057469136, 2.7023654577920575, 2.704349707401158, 2.7007667756294995, 2.7039442379921335, 2.7060862985813294, 2.7083945943183982, 2.703367631255562, 2.709005748609303, 2.7060486149628424, 2.7051578242225727, 2.7075244437105175, 2.7038384793805923, 2.704958315699287, 2.7057313323455245, 2.702836299034451, 2.7063053486044253, 2.706182108478338, 2.7052325833221076, 2.703418047222886, 2.7075659878746805, 2.7097390620762365, 2.7081347623326937, 2.7099409861612282, 2.711002377971985, 2.7107476539507256, 2.709806815401646, 2.7099917984949955, 2.7098529902706794, 2.7100498717487604, 2.7116075338760974, 2.708857650813411, 2.710062436844223, 2.708443129055876, 2.709434270629364, 2.713292443699766, 2.7143944522897576, 2.709759162605157, 2.7127721940370693, 2.7125147457622254, 2.744743709680094, 2.740174045926746, 2.740274986255998, 2.738135893172998, 2.7381239158914883, 2.739925863340154, 2.7485195845946104, 2.7425901478841612, 2.7389702530328908, 2.7417394211266406, 2.737391620899719, 2.7454876253275584, 2.741634829723694, 2.7368563266384767, 2.7399732803873573, 2.740623418381427, 2.737668082121227, 2.740273513649977, 2.742108241810901, 2.746796542158245, 2.740969640766598, 2.739085773081154, 2.7456396457122265, 2.7401443522520577, 2.7427743340992823, 2.7426858383133896, 2.7390119966825983, 2.740779807702032, 2.7437312629598014, 2.742398398027082, 2.743287392654457, 2.7464376619991624, 2.7473004030010943, 2.7436778031865745, 2.7417022182923962, 8.38862155785618, 2.742919504440332, 3.4395426545443364, 3.4448628891201563, 5.135019482961929, 3.7200676559866634, 2.746933380613775, 5.419378355063581, 5.788542513904023, 2.7466090028084067, 7.061728207081307, 2.748700530775764, 5.945831287078786, 2.745457148998399, 2.7469653323629717, 3.3632781986912663, 3.0740051396764114, 6.995564407298845, 3.060540990909468], \"loglift\": [30.0, 29.0, 28.0, 27.0, 26.0, 25.0, 24.0, 23.0, 22.0, 21.0, 20.0, 19.0, 18.0, 17.0, 16.0, 15.0, 14.0, 13.0, 12.0, 11.0, 10.0, 9.0, 8.0, 7.0, 6.0, 5.0, 4.0, 3.0, 2.0, 1.0, 1.3905, 1.3882, 1.3864, 1.3846, 1.3748, 1.3726, 1.3722, 1.3722, 1.3719, 1.3718, 1.3717, 1.3717, 1.3716, 1.3715, 1.3715, 1.3711, 1.3711, 1.371, 1.3709, 1.3708, 1.3708, 1.3708, 1.3706, 1.3705, 1.3705, 1.3704, 1.3704, 1.3704, 1.3702, 1.3702, 1.37, 1.1794, 1.2967, 1.2964, 1.2814, 1.2821, 1.2778, 1.276, 0.8979, 1.3696, 1.3697, 1.3697, 1.2689, 1.2548, 0.8028, 1.4594, 1.4454, 1.4293, 1.4279, 1.4154, 1.4151, 1.4141, 1.4138, 1.4137, 1.4135, 1.4133, 1.4133, 1.413, 1.4129, 1.4128, 1.4127, 1.4127, 1.4124, 1.4122, 1.4122, 1.4121, 1.412, 1.4117, 1.4116, 1.4115, 1.4112, 1.4112, 1.4112, 1.4111, 1.411, 1.4109, 1.4106, 1.3266, 1.31, 1.2265, 1.2219, 1.127, 1.2965, 1.2862, 1.5272, 1.527, 1.4616, 1.4605, 1.4419, 1.4419, 1.4419, 1.4415, 1.4414, 1.4414, 1.4414, 1.4414, 1.4413, 1.4413, 1.4413, 1.4413, 1.4413, 1.4411, 1.4411, 1.4411, 1.441, 1.441, 1.441, 1.441, 1.441, 1.4409, 1.4409, 1.4409, 1.4409, 1.4409, 1.4408, 1.4407, 1.4408, 1.4406, 1.4406, 1.4405, 1.4406, 1.4404, 1.4403, 1.4402, 1.3516, 1.3506, 1.3485, 1.347, 1.346, 1.4402, 1.4403, 1.2546, 1.2513, 1.4391, 1.4391, 0.7954, 1.438, 1.4398, 0.8292, 1.4394, 1.4391, 1.4395, 1.439, 1.4383, 0.8446, 1.4389, 1.4706, 1.4703, 1.4699, 1.4699, 1.4696, 1.4694, 1.4693, 1.4692, 1.4691, 1.4686, 1.4685, 1.4684, 1.4683, 1.4682, 1.4682, 1.4682, 1.4682, 1.4682, 1.4681, 1.4681, 1.468, 1.468, 1.468, 1.4679, 1.4679, 1.4678, 1.4678, 1.4678, 1.4678, 1.4677, 1.4677, 1.4677, 1.4676, 1.4674, 1.4673, 1.4673, 1.4674, 1.4673, 1.4673, 1.4672, 1.4669, 1.4673, 1.467, 1.4673, 1.467, 1.4659, 1.4655, 1.4668, 1.4657, 1.4658, 1.4769, 1.4761, 1.476, 1.4758, 1.4758, 1.4756, 1.475, 1.475, 1.4749, 1.4748, 1.4747, 1.4747, 1.4745, 1.4745, 1.4744, 1.4744, 1.4744, 1.4744, 1.4743, 1.4743, 1.4742, 1.4741, 1.4741, 1.4741, 1.4741, 1.474, 1.474, 1.474, 1.474, 1.474, 1.4739, 1.4737, 1.4736, 1.4737, 1.4739, 1.0618, 1.4737, 1.3879, 1.3864, 1.2275, 1.319, 1.4731, 1.0557, 0.9866, 1.4729, 0.7956, 1.4722, 0.8298, 1.4732, 1.4727, 1.2805, 1.3614, 0.5428, 1.3649], \"logprob\": [30.0, 29.0, 28.0, 27.0, 26.0, 25.0, 24.0, 23.0, 22.0, 21.0, 20.0, 19.0, 18.0, 17.0, 16.0, 15.0, 14.0, 13.0, 12.0, 11.0, 10.0, 9.0, 8.0, 7.0, 6.0, 5.0, 4.0, 3.0, 2.0, 1.0, -7.3669, -7.3779, -7.3718, -7.3805, -7.3901, -7.5077, -7.5074, -7.5076, -7.5073, -7.5071, -7.5075, -7.5064, -7.5077, -7.5066, -7.5072, -7.5076, -7.5068, -7.5077, -7.5079, -7.5067, -7.5078, -7.507, -7.5066, -7.5063, -7.5072, -7.508, -7.507, -7.5061, -7.5069, -7.5079, -7.5065, -6.804, -7.3702, -7.3775, -7.3692, -7.3709, -7.3838, -7.3898, -7.1434, -7.5066, -7.507, -7.5073, -7.5061, -7.5064, -7.5068, -7.1563, -7.2525, -7.3691, -7.3804, -7.5055, -7.5049, -7.5079, -7.5055, -7.5049, -7.5064, -7.5053, -7.5054, -7.5058, -7.5059, -7.5057, -7.5062, -7.5056, -7.5066, -7.5079, -7.5065, -7.5085, -7.5091, -7.5091, -7.5104, -7.5077, -7.5077, -7.5085, -7.508, -7.5094, -7.5078, -7.5086, -7.5076, -7.3785, -7.3862, -7.3783, -7.3816, -7.3866, -7.507, -7.5073, -6.8498, -6.8497, -7.3865, -7.3874, -7.519, -7.5193, -7.5179, -7.518, -7.5169, -7.5186, -7.5183, -7.5179, -7.5186, -7.5177, -7.5185, -7.5181, -7.5181, -7.5203, -7.5177, -7.5175, -7.5195, -7.5186, -7.5188, -7.5184, -7.5187, -7.5173, -7.5188, -7.5184, -7.5179, -7.5189, -7.5182, -7.5176, -7.5184, -7.5178, -7.5176, -7.5174, -7.5179, -7.5175, -7.5174, -7.5173, -7.3847, -7.3849, -7.3851, -7.3912, -7.3925, -7.5172, -7.5175, -7.3763, -7.3856, -7.5167, -7.5168, -7.1488, -7.5165, -7.5173, -7.3784, -7.5174, -7.5174, -7.5174, -7.5175, -7.5174, -7.5097, -7.5175, -7.4356, -7.4347, -7.4348, -7.4348, -7.435, -7.4353, -7.4346, -7.4353, -7.4344, -7.4353, -7.4349, -7.4364, -7.4358, -7.4372, -7.436, -7.4352, -7.4344, -7.4363, -7.4342, -7.4353, -7.4357, -7.4349, -7.4363, -7.4359, -7.4357, -7.4368, -7.4355, -7.4356, -7.436, -7.4367, -7.4352, -7.4344, -7.4351, -7.4346, -7.4343, -7.4344, -7.4347, -7.4347, -7.4348, -7.4347, -7.4344, -7.4351, -7.4349, -7.4353, -7.4352, -7.4349, -7.4348, -7.4352, -7.4352, -7.4352, -7.4123, -7.4148, -7.4148, -7.4159, -7.4159, -7.4153, -7.4128, -7.415, -7.4165, -7.4156, -7.4172, -7.4143, -7.4158, -7.4177, -7.4165, -7.4163, -7.4174, -7.4165, -7.4159, -7.4142, -7.4164, -7.4172, -7.4148, -7.4168, -7.4159, -7.416, -7.4173, -7.4167, -7.4156, -7.4161, -7.4159, -7.4149, -7.4147, -7.4159, -7.4165, -6.7102, -7.4162, -7.2757, -7.2757, -7.0353, -7.2662, -7.4153, -7.1533, -7.1564, -7.4156, -7.1486, -7.4156, -7.2864, -7.4158, -7.4157, -7.4055, -7.4145, -7.4108, -7.4155]}, \"token.table\": {\"Topic\": [3, 4, 1, 2, 3, 3, 3, 3, 5, 1, 3, 5, 5, 1, 3, 1, 3, 5, 5, 3, 5, 2, 5, 1, 5, 5, 5, 2, 3, 3, 2, 3, 1, 2, 3, 1, 5, 4, 2, 2, 5, 5, 4, 2, 2, 3, 5, 5, 5, 3, 2, 3, 5, 2, 4, 2, 4, 4, 2, 5, 4, 3, 2, 2, 5, 1, 5, 2, 4, 4, 4, 3, 5, 5, 4, 3, 5, 2, 5, 3, 1, 3, 5, 1, 1, 3, 4, 1, 1, 4, 1, 2, 3, 5, 1, 2, 4, 2, 4, 1, 1, 3, 3, 2, 3, 3, 1, 2, 3, 1, 2, 4, 5, 4, 4, 2, 3, 3, 4, 3, 2, 4, 1, 3, 3, 1, 3, 3, 4, 3, 2, 4, 4, 4, 5, 1, 3, 1, 1, 3, 5, 3, 3, 5, 2, 4, 1, 1, 3, 4, 5, 4, 5, 1, 3, 2, 5, 3, 3, 3, 3, 4, 1, 3, 5, 1, 2, 4, 3, 3, 4, 5, 4, 4, 4, 1, 1, 2, 4, 5, 1, 4, 5, 1, 1, 1, 3, 5, 1, 2, 1, 5, 1, 2, 5, 2, 4, 4, 3, 5, 3, 3, 4, 4, 2, 3, 1, 4, 3, 1, 4, 5, 1, 5, 3, 5, 3, 4, 2, 1, 1, 5, 5, 4, 2, 3, 4, 5, 5, 4, 4, 5, 2, 1, 4, 1, 2, 3, 3, 4, 3, 5, 4, 2, 3, 4, 5, 2, 4, 5, 5, 3, 4, 1, 4, 1, 1, 2, 4, 5, 2, 4, 2, 3, 3, 1, 2, 4, 3, 4, 5, 2, 3, 1, 2, 3, 5], \"Freq\": [0.7804488730340213, 0.7390897768482917, 0.8630160810909153, 0.7503305276656701, 0.783208421875864, 0.7789483044689957, 0.7817755850222854, 0.7803512251766777, 0.727987371826991, 0.7198908083916766, 0.4248251861338535, 0.4248251861338535, 0.7306225330457632, 0.7201772886437348, 0.7814239460958842, 0.720330594497753, 0.7818806375129266, 0.730423937316846, 0.7298806449805585, 0.7828750422910628, 0.7291500887147186, 0.7511878829696861, 0.6506169993621196, 0.7213963929315801, 0.7298541514332447, 0.8722089827949623, 0.7276165510236727, 0.42695654746104705, 0.42695654746104705, 0.6266977578432277, 0.4269309653533309, 0.4269309653533309, 0.8609933567278375, 0.7519937397146538, 0.7818818171791524, 0.7221921235085103, 0.6534792397620139, 0.7375698640065022, 0.7504308324342777, 0.75152447339425, 0.7281706271096471, 0.8064369461593349, 0.7373231806848642, 0.7504619715648605, 0.7506892498204516, 0.7804423080215347, 0.7307654335134519, 0.7280761706153666, 0.7297609684665, 0.7819705986067086, 1.0080754975107595, 0.7817064874224333, 0.7292376520578364, 0.7505335249032244, 0.7398678733329397, 0.662172707591121, 0.7400923491799223, 0.7377345059712329, 0.7501139976103475, 0.728948565927512, 0.7393283978079076, 0.7813472533478225, 0.7505660236621369, 0.8224424886122711, 0.730190303080941, 0.7214612564693749, 0.7294917537218343, 0.7518880807478328, 0.7384316024745814, 0.7379937988777401, 0.7391469519345631, 0.7830268577588068, 0.7282160551731504, 0.7294738234722122, 0.7368125875415336, 0.7821275559658002, 0.7293658104025794, 0.998112597409123, 0.7299341253857974, 0.7811411102632762, 0.3685148161833823, 0.3685148161833823, 0.8708619461967099, 0.8741739021198599, 0.9654216234464762, 0.7808071935335498, 0.73807297253576, 0.6499637608749137, 0.8705353166204877, 0.7390747298223651, 0.7218027550947983, 0.7514433142539011, 0.7807802894933724, 0.7299467575965233, 0.9663446178690533, 0.9010447373248028, 0.737990377199181, 0.9092240966752324, 0.7399634231323854, 0.7211598978071385, 0.4167777093427924, 0.4167777093427924, 0.7793635902267578, 0.6687815396648958, 0.7803094124932681, 0.7809134057544178, 0.9587472682438392, 0.9026570792014449, 0.7792186381740636, 0.7199950491784495, 0.18452300881809677, 0.18452300881809677, 0.5535690264542903, 0.7398179873416301, 0.7386708242593605, 0.42680655384375565, 0.42680655384375565, 0.7796008156532219, 0.7372532070316077, 0.7800467153675987, 0.7508568190752601, 0.7398903496079399, 0.9580329657854298, 0.6236510076375356, 0.7792972656311271, 0.8813005122315067, 0.7811596257976949, 0.7816398450638361, 0.7400054387664474, 0.77966753226467, 0.7508173726874385, 0.738444835252422, 0.7393079664684281, 0.7402255807766854, 0.7286654826628984, 0.7201061773183316, 0.7820577275088039, 0.720637257749979, 0.7205898137079146, 0.5661818824428967, 0.28309094122144834, 0.7801434056295452, 0.7806831954757888, 0.728427710141545, 0.751350969159097, 0.7380599932927547, 0.7205731132780959, 0.4681136626764592, 0.15603788755881973, 0.15603788755881973, 0.15603788755881973, 0.19474122801637167, 0.5842236840491151, 0.7209895509471121, 0.7818025355821062, 0.750421692170487, 0.728476130370362, 0.6991536749363163, 0.7815002817880886, 0.7788122965333687, 0.7778391516768756, 0.7391716894028257, 0.2858954451070872, 0.2858954451070872, 0.2858954451070872, 0.7363056138305988, 0.14726112276611975, 0.14726112276611975, 0.780845015176988, 0.7806480347793913, 0.739014908658164, 0.7291886813782633, 0.7396891549742902, 0.7390850219545899, 0.7386821583996881, 0.7213788012401775, 0.40811964793853356, 0.40811964793853356, 0.7399905009419976, 0.7281209107786835, 0.33637012276926026, 0.16818506138463013, 0.5045551841538904, 0.7211357319572723, 0.7204644585132043, 0.6410568941877959, 0.345510116786051, 0.5182651751790764, 0.7210803208282918, 0.7529808502013272, 0.7209213587048436, 0.7304271323852167, 0.7196929994408484, 0.7517659860988022, 0.7302014316458453, 0.7522406446058438, 0.7383186043015009, 0.7394066613971644, 0.7825131917466263, 0.729888554358915, 0.7815790601334007, 0.7787922761460433, 0.7400080141766393, 0.7411408821540706, 0.7506557658282459, 0.7798585148410373, 0.7196253214948667, 0.7371118452948104, 0.8728648215043707, 0.7194067501990592, 0.7380096135754757, 0.7289343628510101, 0.7203143364461134, 0.7292886407163987, 0.7819391466096405, 0.7292122094559313, 0.7813584508166088, 0.7381614758771866, 0.750609521181731, 0.7216739449776901, 0.9652784214493056, 0.7297193281925379, 0.730548751713663, 0.7380784474751508, 0.7505122615685964, 0.7815551631351142, 0.7385156853410312, 0.7301706356388511, 0.7280846394436838, 0.7382782413904885, 0.7394733646992775, 0.7284680439094618, 0.750910747274604, 0.7191725580575825, 0.7380474170298905, 0.7197681196737201, 0.752924634466263, 0.6248499292671755, 0.6993043186114964, 0.7396602237201234, 0.6265356172482686, 0.7290523061328846, 0.7380234515117997, 0.7501036147637355, 0.7818730531497882, 0.739382928155386, 0.7298537592143531, 0.7503689519871543, 0.7395493247513362, 0.7294639251961283, 0.5946579146435905, 0.781649119749682, 0.7378038295394777, 0.8751134416665801, 0.7390485635590068, 0.7194050568005358, 0.11920909688236822, 0.11920909688236822, 0.11920909688236822, 0.5960454844118411, 0.7507561930501118, 0.2502520643500373, 0.752081973719191, 0.8730931346978468, 0.562786633580429, 0.7207985382241153, 0.8213380701143796, 0.7405304367808051, 0.780999776237852, 0.7398041904967382, 0.727664452969502, 0.8314328415695206, 0.6253181498150686, 0.7210205204418291, 0.7510224564951992, 0.7819421746031572, 0.7296687895604116], \"Term\": [\"amp white marble\", \"ask unusual encountered\", \"ate breakfast hotel\", \"attentive staff clean\", \"bar great professional\", \"bar meridien service\", \"bathroom bay view\", \"battery recently purchased\", \"bay bridge bring\", \"bay hotel located\", \"bay view room\", \"bay view room\", \"beach chinatown walking\", \"beautiful wide grat\", \"bed happier experience\", \"bed staff nice\", \"birthday thoroughly enjoyed\", \"blocks hotel ferry\", \"brandy chinese food\", \"bridge enjoyed great\", \"bring enjoy room\", \"budget make sure\", \"building bay bridge\", \"building daily price\", \"building light breakfast\", \"building north beach\", \"buy coffee tea\", \"cable car union\", \"cable car union\", \"california street cable\", \"car union square\", \"car union square\", \"centrally located walking\", \"charge upgrade easy\", \"cherry wood carpet\", \"chinatown just objection\", \"chinatown walking distance\", \"choices immediate vicinity\", \"clean comfortable rooms\", \"clean comfortable stylish\", \"clean contemporary spacious\", \"coit tower transamerica\", \"combo bathroom really\", \"comfortable rooms lovely\", \"comfortable stylish great\", \"comfortable water pressure\", \"comparatively quiet location\", \"concierge extremely helpful\", \"contemporary spacious compared\", \"corner room facing\", \"corner room spectacular\", \"counter high read\", \"couple blocks hotel\", \"courteous friendly attentive\", \"day embarcadero right\", \"deal hotel hotwire\", \"deco decor lobby\", \"decor lobby bar\", \"definitely stay sanfran\", \"delight concierge extremely\", \"didn ask unusual\", \"didn dine hotel\", \"different rooms vacation\", \"distance ferry building\", \"door ferry building\", \"downtown near jackson\", \"early later check\", \"easy place like\", \"elegant nice art\", \"embarcadero right hotel\", \"encountered friendly polite\", \"enjoyed great breakfast\", \"enjoyed nightcap hotel\", \"enjoyed stay room\", \"entered realized like\", \"especially william bartendars\", \"everytime passed offering\", \"excellent rate hotel\", \"exercise walking city\", \"fabulous corner room\", \"ferry building great\", \"ferry building great\", \"ferry building north\", \"financial district right\", \"fisherman wharf hotel\", \"fisherman wharf union\", \"fixtures best small\", \"floor nice view\", \"floor overlooking bay\", \"formally hyatt previously\", \"francisco august room\", \"friendly attentive staff\", \"friendly helpful visiting\", \"fruit juice pastry\", \"gave room floor\", \"golden gate bridge\", \"gorgeous fixtures best\", \"got great deal\", \"grand way simple\", \"grat bed staff\", \"great bath amenities\", \"great bath amenities\", \"great breakfast morning\", \"great deal hotel\", \"great farmer market\", \"great hotel amp\", \"great place spend\", \"great view bay\", \"great view decor\", \"helpful gave room\", \"highly recommend hotel\", \"highly recommend hotel\", \"highly recommend hotel\", \"honestly say walking\", \"hopkins disappointing stay\", \"hotel amp great\", \"hotel amp great\", \"hotel clean large\", \"hotel gorgeous grand\", \"hotel gym seen\", \"hotel hotwire count\", \"hotel lack nice\", \"hotel located downtown\", \"hotel park hyatt\", \"hotel used hyatt\", \"hotel walking distance\", \"husband loved hotel\", \"hyatt amp loved\", \"hyatt previously preferred\", \"hyatt quality comfort\", \"imagine better place\", \"immediate vicinity hotel\", \"impressive clean new\", \"impressive negative thing\", \"jack favorite french\", \"jackson nice place\", \"jackson square meridien\", \"just blocks walking\", \"just objection parking\", \"just short walk\", \"just short walk\", \"large bathroom bay\", \"large room great\", \"light breakfast places\", \"like really quiet\", \"like suite separate\", \"located downtown near\", \"located financial district\", \"located financial district\", \"located financial district\", \"located financial district\", \"location financial district\", \"location financial district\", \"lot restaurants just\", \"loved past trip\", \"lovely view definitely\", \"lunch dinner try\", \"makes perfect business\", \"making suggestions amp\", \"marble granite bathrooms\", \"meeting easy walk\", \"meridien formally hyatt\", \"meridien park hyatt\", \"meridien park hyatt\", \"meridien park hyatt\", \"meridien san francisco\", \"meridien san francisco\", \"meridien san francisco\", \"meridien wife birthday\", \"modern black amp\", \"modern space hotel\", \"narrow view bay\", \"negative thing point\", \"new equipment line\", \"nice art deco\", \"nice helpful gave\", \"nice place stay\", \"nice place stay\", \"nice shopping choices\", \"nice usable sexes\", \"nice view bay\", \"nice view bay\", \"nice view bay\", \"nice view downtown\", \"night public parking\", \"nights meridien san\", \"north beach chinatown\", \"north beach chinatown\", \"objection parking veryexpensive\", \"outstandingly pleasant helpful\", \"parking veryexpensive night\", \"pastry lunch dinner\", \"place stay lot\", \"place stay unless\", \"plane departed highly\", \"pleasant helpful rooms\", \"point room fact\", \"previously preferred closer\", \"professional friendly realy\", \"puff pastry leisurely\", \"purchased meridien stayed\", \"quality gym rooms\", \"quite impressive negative\", \"realized like suite\", \"really quiet safe\", \"reservations little italy\", \"restaurants just blocks\", \"right hotel lack\", \"room bay bridge\", \"room beautiful wide\", \"room fact shower\", \"room floor clean\", \"room floor nice\", \"room player toiletries\", \"room separate bedroom\", \"room stay san\", \"rooms large clean\", \"rooms living bedroom\", \"rooms lovely view\", \"san francisco august\", \"san francisco holiday\", \"san francisco small\", \"scented toiletries delightful\", \"separate rooms living\", \"service courteous friendly\", \"shower choose large\", \"shower tub combo\", \"size room stay\", \"small nice view\", \"small terrace gave\", \"spend day embarcadero\", \"staff attentive didn\", \"staff clean comfortable\", \"staff nice helpful\", \"stay decided try\", \"stay lot restaurants\", \"stay unless need\", \"stayed hotel park\", \"stayed hotel times\", \"stays mark hopkins\", \"street cable car\", \"stroll couple blocks\", \"studio room shocked\", \"stylish great view\", \"suite fabulous corner\", \"surprise booked studio\", \"tea fruit juice\", \"terrific service courteous\", \"thing point room\", \"thoroughly enjoyed stay\", \"tower transamerica building\", \"trip junior suite\", \"try hyped new\", \"upgraded junior suite\", \"used small functional\", \"veryexpensive night public\", \"view bay bridge\", \"view bay bridge\", \"view bay bridge\", \"view bay bridge\", \"view coit tower\", \"view coit tower\", \"view definitely stay\", \"view room bay\", \"walk ferry building\", \"walking chinatown just\", \"walking distance ferry\", \"walking distance literally\", \"water pressure excellent\", \"way bay city\", \"weekend away using\", \"weekend san francisco\", \"wharf union square\", \"wide grat bed\", \"work unfortunately did\", \"worth penny best\", \"worth splurge parking\"]}, \"R\": 30, \"lambda.step\": 0.01, \"plot.opts\": {\"xlab\": \"PC1\", \"ylab\": \"PC2\"}, \"topic.order\": [1, 3, 5, 4, 2]};\n",
       "\n",
       "function LDAvis_load_lib(url, callback){\n",
       "  var s = document.createElement('script');\n",
       "  s.src = url;\n",
       "  s.async = true;\n",
       "  s.onreadystatechange = s.onload = callback;\n",
       "  s.onerror = function(){console.warn(\"failed to load library \" + url);};\n",
       "  document.getElementsByTagName(\"head\")[0].appendChild(s);\n",
       "}\n",
       "\n",
       "if(typeof(LDAvis) !== \"undefined\"){\n",
       "   // already loaded: just create the visualization\n",
       "   !function(LDAvis){\n",
       "       new LDAvis(\"#\" + \"ldavis_el134701131706689045032693219\", ldavis_el134701131706689045032693219_data);\n",
       "   }(LDAvis);\n",
       "}else if(typeof define === \"function\" && define.amd){\n",
       "   // require.js is available: use it to load d3/LDAvis\n",
       "   require.config({paths: {d3: \"https://cdnjs.cloudflare.com/ajax/libs/d3/3.5.5/d3.min\"}});\n",
       "   require([\"d3\"], function(d3){\n",
       "      window.d3 = d3;\n",
       "      LDAvis_load_lib(\"https://cdn.rawgit.com/bmabey/pyLDAvis/files/ldavis.v1.0.0.js\", function(){\n",
       "        new LDAvis(\"#\" + \"ldavis_el134701131706689045032693219\", ldavis_el134701131706689045032693219_data);\n",
       "      });\n",
       "    });\n",
       "}else{\n",
       "    // require.js not available: dynamically load d3 & LDAvis\n",
       "    LDAvis_load_lib(\"https://cdnjs.cloudflare.com/ajax/libs/d3/3.5.5/d3.min.js\", function(){\n",
       "         LDAvis_load_lib(\"https://cdn.rawgit.com/bmabey/pyLDAvis/files/ldavis.v1.0.0.js\", function(){\n",
       "                 new LDAvis(\"#\" + \"ldavis_el134701131706689045032693219\", ldavis_el134701131706689045032693219_data);\n",
       "            })\n",
       "         });\n",
       "}\n",
       "</script>"
      ],
      "text/plain": [
       "PreparedData(topic_coordinates=            Freq  cluster  topics         x         y\n",
       "topic                                                \n",
       "0      21.474909        1       1 -0.035718  0.096931\n",
       "2      20.355967        1       2 -0.067638 -0.098587\n",
       "4      19.632849        1       3  0.123123 -0.023643\n",
       "3      19.341149        1       4 -0.015226  0.016867\n",
       "1      19.195125        1       5 -0.004540  0.008431, topic_info=      Category      Freq                         Term     Total  loglift  \\\n",
       "term                                                                       \n",
       "18173  Default  4.000000                view room bay  4.000000  30.0000   \n",
       "13959  Default  4.000000              room bay bridge  4.000000  29.0000   \n",
       "18733  Default  3.000000        weekend san francisco  3.000000  28.0000   \n",
       "10587  Default  6.000000       meridien san francisco  6.000000  27.0000   \n",
       "1218   Default  7.000000                bay view room  7.000000  26.0000   \n",
       "11559  Default  5.000000        north beach chinatown  5.000000  25.0000   \n",
       "7400   Default  3.000000               great view bay  3.000000  24.0000   \n",
       "18093  Default  8.000000              view bay bridge  8.000000  23.0000   \n",
       "9792   Default  5.000000  location financial district  5.000000  22.0000   \n",
       "2074   Default  3.000000         building north beach  3.000000  21.0000   \n",
       "6008   Default  3.000000         ferry building north  3.000000  20.0000   \n",
       "7964   Default  4.000000              hotel amp great  4.000000  19.0000   \n",
       "8213   Default  3.000000       hotel located downtown  3.000000  18.0000   \n",
       "2256   Default  4.000000              cable car union  4.000000  17.0000   \n",
       "2403   Default  4.000000             car union square  4.000000  16.0000   \n",
       "5426   Default  3.000000         excellent rate hotel  3.000000  15.0000   \n",
       "7309   Default  3.000000            great place spend  3.000000  14.0000   \n",
       "6811   Default  3.000000              gave room floor  3.000000  13.0000   \n",
       "7195   Default  4.000000         great bath amenities  4.000000  12.0000   \n",
       "16338  Default  2.000000           stayed hotel times  2.000000  11.0000   \n",
       "3780   Default  2.000000      corner room spectacular  2.000000  10.0000   \n",
       "11223  Default  4.000000              nice place stay  4.000000   9.0000   \n",
       "10252  Default  2.000000       makes perfect business  2.000000   8.0000   \n",
       "6150   Default  3.000000        fisherman wharf hotel  3.000000   7.0000   \n",
       "8954   Default  2.000000         jack favorite french  2.000000   6.0000   \n",
       "14654  Default  3.000000        san francisco holiday  3.000000   5.0000   \n",
       "18693  Default  2.000000           weekend away using  2.000000   4.0000   \n",
       "16938  Default  2.000000              tea fruit juice  2.000000   3.0000   \n",
       "1856   Default  2.000000          brandy chinese food  2.000000   2.0000   \n",
       "6727   Default  2.000000           fruit juice pastry  2.000000   1.0000   \n",
       "...        ...       ...                          ...       ...      ...   \n",
       "10955   Topic5  2.299075              narrow view bay  2.742774   1.4741   \n",
       "14333   Topic5  2.298971                room stay san  2.742686   1.4740   \n",
       "4729    Topic5  2.295864          door ferry building  2.739012   1.4740   \n",
       "14678   Topic5  2.297236          san francisco small  2.740780   1.4740   \n",
       "14072   Topic5  2.299683             room floor clean  2.743731   1.4740   \n",
       "14222   Topic5  2.298560       room player toiletries  2.742398   1.4740   \n",
       "16605   Topic5  2.299087         stroll couple blocks  2.743287   1.4739   \n",
       "5224    Topic5  2.301321       enjoyed nightcap hotel  2.746438   1.4737   \n",
       "1140    Topic5  2.301741             bay bridge bring  2.747300   1.4736   \n",
       "4187    Topic5  2.299069  delight concierge extremely  2.743678   1.4737   \n",
       "5235    Topic5  2.297786            enjoyed stay room  2.741702   1.4739   \n",
       "18093   Topic5  4.656204              view bay bridge  8.388622   1.0618   \n",
       "1996    Topic5  2.298436             bring enjoy room  2.742920   1.4737   \n",
       "2074    Topic5  2.645099         building north beach  3.439543   1.3879   \n",
       "6008    Topic5  2.645223         ferry building north  3.444863   1.3864   \n",
       "9792    Topic5  3.363788  location financial district  5.135019   1.2275   \n",
       "3290    Topic5  2.670473      coit tower transamerica  3.720068   1.3190   \n",
       "15488   Topic5  2.300437              small nice view  2.746933   1.4731   \n",
       "7823    Topic5  2.989554       highly recommend hotel  5.419378   1.0557   \n",
       "11559   Topic5  2.980134        north beach chinatown  5.788543   0.9866   \n",
       "3039    Topic5  2.299700  clean contemporary spacious  2.746609   1.4729   \n",
       "1218    Topic5  3.003638                bay view room  7.061728   0.7956   \n",
       "2224    Topic5  2.299881               buy coffee tea  2.748701   1.4722   \n",
       "11279   Topic5  2.616927                nice view bay  5.945831   0.8298   \n",
       "10146   Topic5  2.299372             lunch dinner try  2.745457   1.4732   \n",
       "3591    Topic5  2.299526  concierge extremely helpful  2.746965   1.4727   \n",
       "17415   Topic5  2.323025  tower transamerica building  3.363278   1.2805   \n",
       "2031    Topic5  2.302222          building bay bridge  3.074005   1.3614   \n",
       "10569   Topic5  2.310741          meridien park hyatt  6.995564   0.5428   \n",
       "2868    Topic5  2.300115   chinatown walking distance  3.060541   1.3649   \n",
       "\n",
       "       logprob  \n",
       "term            \n",
       "18173  30.0000  \n",
       "13959  29.0000  \n",
       "18733  28.0000  \n",
       "10587  27.0000  \n",
       "1218   26.0000  \n",
       "11559  25.0000  \n",
       "7400   24.0000  \n",
       "18093  23.0000  \n",
       "9792   22.0000  \n",
       "2074   21.0000  \n",
       "6008   20.0000  \n",
       "7964   19.0000  \n",
       "8213   18.0000  \n",
       "2256   17.0000  \n",
       "2403   16.0000  \n",
       "5426   15.0000  \n",
       "7309   14.0000  \n",
       "6811   13.0000  \n",
       "7195   12.0000  \n",
       "16338  11.0000  \n",
       "3780   10.0000  \n",
       "11223   9.0000  \n",
       "10252   8.0000  \n",
       "6150    7.0000  \n",
       "8954    6.0000  \n",
       "14654   5.0000  \n",
       "18693   4.0000  \n",
       "16938   3.0000  \n",
       "1856    2.0000  \n",
       "6727    1.0000  \n",
       "...        ...  \n",
       "10955  -7.4159  \n",
       "14333  -7.4160  \n",
       "4729   -7.4173  \n",
       "14678  -7.4167  \n",
       "14072  -7.4156  \n",
       "14222  -7.4161  \n",
       "16605  -7.4159  \n",
       "5224   -7.4149  \n",
       "1140   -7.4147  \n",
       "4187   -7.4159  \n",
       "5235   -7.4165  \n",
       "18093  -6.7102  \n",
       "1996   -7.4162  \n",
       "2074   -7.2757  \n",
       "6008   -7.2757  \n",
       "9792   -7.0353  \n",
       "3290   -7.2662  \n",
       "15488  -7.4153  \n",
       "7823   -7.1533  \n",
       "11559  -7.1564  \n",
       "3039   -7.4156  \n",
       "1218   -7.1486  \n",
       "2224   -7.4156  \n",
       "11279  -7.2864  \n",
       "10146  -7.4158  \n",
       "3591   -7.4157  \n",
       "17415  -7.4055  \n",
       "2031   -7.4145  \n",
       "10569  -7.4108  \n",
       "2868   -7.4155  \n",
       "\n",
       "[280 rows x 6 columns], token_table=       Topic      Freq                         Term\n",
       "term                                               \n",
       "364        3  0.780449             amp white marble\n",
       "645        4  0.739090      ask unusual encountered\n",
       "686        1  0.863016          ate breakfast hotel\n",
       "723        2  0.750331        attentive staff clean\n",
       "907        3  0.783208       bar great professional\n",
       "913        3  0.778948         bar meridien service\n",
       "1035       3  0.781776            bathroom bay view\n",
       "1125       3  0.780351   battery recently purchased\n",
       "1140       5  0.727987             bay bridge bring\n",
       "1185       1  0.719891            bay hotel located\n",
       "1218       3  0.424825                bay view room\n",
       "1218       5  0.424825                bay view room\n",
       "1235       5  0.730623      beach chinatown walking\n",
       "1289       1  0.720177          beautiful wide grat\n",
       "1339       3  0.781424       bed happier experience\n",
       "1387       1  0.720331               bed staff nice\n",
       "1618       3  0.781881  birthday thoroughly enjoyed\n",
       "1717       5  0.730424           blocks hotel ferry\n",
       "1856       5  0.729881          brandy chinese food\n",
       "1947       3  0.782875         bridge enjoyed great\n",
       "1996       5  0.729150             bring enjoy room\n",
       "2018       2  0.751188             budget make sure\n",
       "2031       5  0.650617          building bay bridge\n",
       "2041       1  0.721396         building daily price\n",
       "2065       5  0.729854     building light breakfast\n",
       "2074       5  0.872209         building north beach\n",
       "2224       5  0.727617               buy coffee tea\n",
       "2256       2  0.426957              cable car union\n",
       "2256       3  0.426957              cable car union\n",
       "2299       3  0.626698      california street cable\n",
       "...      ...       ...                          ...\n",
       "16997      2  0.750369   terrific service courteous\n",
       "17048      4  0.739549             thing point room\n",
       "17106      5  0.729464      thoroughly enjoyed stay\n",
       "17415      5  0.594658  tower transamerica building\n",
       "17599      3  0.781649            trip junior suite\n",
       "17663      4  0.737804                try hyped new\n",
       "17881      1  0.875113        upgraded junior suite\n",
       "17975      4  0.739049        used small functional\n",
       "18076      1  0.719405   veryexpensive night public\n",
       "18093      1  0.119209              view bay bridge\n",
       "18093      2  0.119209              view bay bridge\n",
       "18093      4  0.119209              view bay bridge\n",
       "18093      5  0.596045              view bay bridge\n",
       "18121      2  0.750756              view coit tower\n",
       "18121      4  0.250252              view coit tower\n",
       "18128      2  0.752082         view definitely stay\n",
       "18173      3  0.873093                view room bay\n",
       "18329      3  0.562787          walk ferry building\n",
       "18409      1  0.720799       walking chinatown just\n",
       "18423      2  0.821338       walking distance ferry\n",
       "18427      4  0.740530   walking distance literally\n",
       "18584      3  0.781000     water pressure excellent\n",
       "18605      4  0.739804                 way bay city\n",
       "18693      5  0.727664           weekend away using\n",
       "18733      2  0.831433        weekend san francisco\n",
       "18867      3  0.625318           wharf union square\n",
       "18875      1  0.721021                wide grat bed\n",
       "19044      2  0.751022       work unfortunately did\n",
       "19092      3  0.781942             worth penny best\n",
       "19096      5  0.729669        worth splurge parking\n",
       "\n",
       "[277 rows x 3 columns], R=30, lambda_step=0.01, plot_opts={'xlab': 'PC1', 'ylab': 'PC2'}, topic_order=[1, 3, 5, 4, 2])"
      ]
     },
     "execution_count": 18,
     "metadata": {},
     "output_type": "execute_result"
    }
   ],
   "source": [
    "pyLDAvis.sklearn.prepare(analyzer.lda_tf, analyzer.dtm_tf, analyzer.tf_vectorizer)"
   ]
  },
  {
   "cell_type": "code",
   "execution_count": 25,
   "metadata": {
    "collapsed": true
   },
   "outputs": [],
   "source": [
    "# 1) Location/room, 2) location/service/value 3) location/service 4) room/junk 5) everything"
   ]
  },
  {
   "cell_type": "code",
   "execution_count": null,
   "metadata": {
    "collapsed": true
   },
   "outputs": [],
   "source": []
  },
  {
   "cell_type": "code",
   "execution_count": null,
   "metadata": {
    "collapsed": true
   },
   "outputs": [],
   "source": []
  },
  {
   "cell_type": "markdown",
   "metadata": {},
   "source": [
    "# Visualize negative clusters"
   ]
  },
  {
   "cell_type": "code",
   "execution_count": 20,
   "metadata": {},
   "outputs": [
    {
     "name": "stderr",
     "output_type": "stream",
     "text": [
      "/Users/steventa/anaconda3/lib/python3.6/site-packages/pyLDAvis/_prepare.py:387: DeprecationWarning: \n",
      ".ix is deprecated. Please use\n",
      ".loc for label based indexing or\n",
      ".iloc for positional indexing\n",
      "\n",
      "See the documentation here:\n",
      "http://pandas.pydata.org/pandas-docs/stable/indexing.html#ix-indexer-is-deprecated\n",
      "  topic_term_dists = topic_term_dists.ix[topic_order]\n"
     ]
    },
    {
     "data": {
      "text/html": [
       "\n",
       "<link rel=\"stylesheet\" type=\"text/css\" href=\"https://cdn.rawgit.com/bmabey/pyLDAvis/files/ldavis.v1.0.0.css\">\n",
       "\n",
       "\n",
       "<div id=\"ldavis_el134701121449783522715568362\"></div>\n",
       "<script type=\"text/javascript\">\n",
       "\n",
       "var ldavis_el134701121449783522715568362_data = {\"mdsDat\": {\"Freq\": [55.68908516159918, 24.54084610337581, 19.04799948496799, 0.3610510605229235, 0.36101818953408243], \"cluster\": [1, 1, 1, 1, 1], \"topics\": [1, 2, 3, 4, 5], \"x\": [-0.06506973938701709, 0.05122292824321831, 0.018745416281832926, -0.0018934174618447507, -0.0030051876761894207], \"y\": [0.012325207824996383, 0.03449619869875678, -0.05091149327189052, 0.001484446725770032, 0.002605640022367311]}, \"tinfo\": {\"Category\": [\"Default\", \"Default\", \"Default\", \"Default\", \"Default\", \"Default\", \"Default\", \"Default\", \"Default\", \"Default\", \"Default\", \"Default\", \"Default\", \"Default\", \"Default\", \"Default\", \"Default\", \"Default\", \"Default\", \"Default\", \"Default\", \"Default\", \"Default\", \"Default\", \"Default\", \"Default\", \"Default\", \"Default\", \"Default\", \"Default\", \"Topic1\", \"Topic1\", \"Topic1\", \"Topic1\", \"Topic1\", \"Topic1\", \"Topic1\", \"Topic1\", \"Topic1\", \"Topic1\", \"Topic1\", \"Topic1\", \"Topic1\", \"Topic1\", \"Topic1\", \"Topic1\", \"Topic1\", \"Topic1\", \"Topic1\", \"Topic1\", \"Topic1\", \"Topic1\", \"Topic1\", \"Topic1\", \"Topic1\", \"Topic1\", \"Topic1\", \"Topic1\", \"Topic1\", \"Topic1\", \"Topic1\", \"Topic1\", \"Topic1\", \"Topic1\", \"Topic1\", \"Topic1\", \"Topic1\", \"Topic1\", \"Topic1\", \"Topic1\", \"Topic1\", \"Topic1\", \"Topic1\", \"Topic1\", \"Topic1\", \"Topic1\", \"Topic1\", \"Topic2\", \"Topic2\", \"Topic2\", \"Topic2\", \"Topic2\", \"Topic2\", \"Topic2\", \"Topic2\", \"Topic2\", \"Topic2\", \"Topic2\", \"Topic2\", \"Topic2\", \"Topic2\", \"Topic2\", \"Topic2\", \"Topic2\", \"Topic2\", \"Topic2\", \"Topic2\", \"Topic2\", \"Topic2\", \"Topic2\", \"Topic2\", \"Topic2\", \"Topic2\", \"Topic2\", \"Topic2\", \"Topic2\", \"Topic2\", \"Topic2\", \"Topic2\", \"Topic2\", \"Topic2\", \"Topic2\", \"Topic2\", \"Topic2\", \"Topic2\", \"Topic2\", \"Topic2\", \"Topic2\", \"Topic2\", \"Topic2\", \"Topic2\", \"Topic3\", \"Topic3\", \"Topic3\", \"Topic3\", \"Topic3\", \"Topic3\", \"Topic3\", \"Topic3\", \"Topic3\", \"Topic3\", \"Topic3\", \"Topic3\", \"Topic3\", \"Topic3\", \"Topic3\", \"Topic3\", \"Topic3\", \"Topic3\", \"Topic3\", \"Topic3\", \"Topic3\", \"Topic3\", \"Topic3\", \"Topic3\", \"Topic3\", \"Topic3\", \"Topic3\", \"Topic3\", \"Topic3\", \"Topic3\", \"Topic3\", \"Topic3\", \"Topic3\", \"Topic3\", \"Topic3\", \"Topic3\", \"Topic3\", \"Topic3\", \"Topic3\", \"Topic4\", \"Topic4\", \"Topic4\", \"Topic4\", \"Topic4\", \"Topic4\", \"Topic4\", \"Topic4\", \"Topic4\", \"Topic4\", \"Topic4\", \"Topic4\", \"Topic4\", \"Topic4\", \"Topic4\", \"Topic4\", \"Topic4\", \"Topic4\", \"Topic4\", \"Topic4\", \"Topic4\", \"Topic4\", \"Topic4\", \"Topic4\", \"Topic4\", \"Topic4\", \"Topic4\", \"Topic4\", \"Topic4\", \"Topic4\", \"Topic4\", \"Topic4\", \"Topic4\", \"Topic4\", \"Topic4\", \"Topic4\", \"Topic4\", \"Topic4\", \"Topic4\", \"Topic4\", \"Topic4\", \"Topic4\", \"Topic5\", \"Topic5\", \"Topic5\", \"Topic5\", \"Topic5\", \"Topic5\", \"Topic5\", \"Topic5\", \"Topic5\", \"Topic5\", \"Topic5\", \"Topic5\", \"Topic5\", \"Topic5\", \"Topic5\", \"Topic5\", \"Topic5\", \"Topic5\", \"Topic5\", \"Topic5\", \"Topic5\", \"Topic5\", \"Topic5\", \"Topic5\", \"Topic5\", \"Topic5\", \"Topic5\", \"Topic5\", \"Topic5\", \"Topic5\", \"Topic5\", \"Topic5\", \"Topic5\", \"Topic5\", \"Topic5\", \"Topic5\", \"Topic5\", \"Topic5\", \"Topic5\", \"Topic5\", \"Topic5\", \"Topic5\", \"Topic5\", \"Topic5\", \"Topic5\", \"Topic5\", \"Topic5\", \"Topic5\", \"Topic5\", \"Topic5\", \"Topic5\", \"Topic5\"], \"Freq\": [1.0, 1.0, 1.0, 1.0, 1.0, 1.0, 1.0, 1.0, 1.0, 1.0, 1.0, 1.0, 1.0, 1.0, 1.0, 1.0, 1.0, 1.0, 1.0, 1.0, 1.0, 1.0, 1.0, 1.0, 1.0, 1.0, 1.0, 1.0, 1.0, 1.0, 0.8154526058647419, 0.814790380333044, 0.7913818032153472, 0.8057060112873959, 0.8251586827248545, 0.8135124019801224, 0.795798422625714, 0.7926649993698723, 0.8193642876680021, 0.8188368164003144, 0.7970355455312167, 0.7717732404387722, 0.8336330455941928, 0.8136023272198364, 0.8184676870410836, 0.8117808115200006, 0.814087469333113, 0.7887918278069309, 0.7889565084787933, 0.8153233651080113, 0.8120980093347807, 0.80522383645204, 0.8016902988785631, 0.7910204328836099, 0.8037862418103531, 0.8051244354461984, 0.8179126537427269, 0.8120976544741931, 0.8045151080418768, 0.8144387991624737, 0.8267390510378758, 0.8090742835787335, 0.8038160462339178, 0.8091723519354495, 0.8265277305626438, 0.8138307267146669, 0.8150757465592886, 0.8174936142041848, 0.8111169242234556, 0.8189002815779327, 0.8207935927062012, 0.819510222556699, 0.8199100309685016, 0.8106773192950982, 0.816513062182934, 0.8144635108916194, 0.8106375718929024, 0.5208062008992649, 0.5243123193313899, 0.5207652719860812, 0.5368737477290272, 0.5073938946798973, 0.5236469060117577, 0.5293691450366358, 0.5437553392311657, 0.5101982522044697, 0.5213861762664898, 0.5334734845825091, 0.5173405535225268, 0.5334765443457794, 0.524844528545568, 0.5259960671596268, 0.512013528875726, 0.5212083501748163, 0.5187081146861005, 0.5205096726866754, 0.5111492649375314, 0.5208013025339128, 0.5166445412769076, 0.5134158459160606, 0.5159603069283432, 0.5149575450070724, 0.511308377842679, 0.5159490360734348, 0.5251305867896092, 0.5065554658760835, 0.5129892765822074, 0.5260079002646928, 0.5192540163009074, 0.5209754676647729, 0.5266200728783409, 0.5273075010083316, 0.5182573247358649, 0.5220832612567127, 0.5230568283342805, 0.5200636618603441, 0.5165148270145787, 0.5189181714868135, 0.5188932473775839, 0.5177979730335716, 0.5174053982205975, 0.4356113141105653, 0.43576863909135816, 0.45403874150530465, 0.4377819878326794, 0.43711868511213586, 0.4362385525253527, 0.42410813396427316, 0.4291532175927876, 0.43226106401558867, 0.43250165031134574, 0.43003559917733014, 0.4311245683570938, 0.44050974304721713, 0.4363027025141104, 0.4235338804053334, 0.4334083605504785, 0.44008372078253094, 0.4312672309490068, 0.4361777675527307, 0.43988651979419185, 0.4224499695030756, 0.424273837916219, 0.4425284155015111, 0.4331951476260204, 0.43494862849145316, 0.4241475524757628, 0.4374798909125259, 0.4291342837945944, 0.43429349723605387, 0.4430551518400978, 0.4437402904924445, 0.44132335870129646, 0.431672931072561, 0.4383759966655702, 0.4303129947577613, 0.4320616033251432, 0.431459237996268, 0.43241257485605483, 0.4309551445316085, 0.004311414918834028, 0.004179276525125469, 0.004056549650970723, 0.003949428203735697, 0.004045062410377012, 0.004071074318045311, 0.004076052042169099, 0.0038372797848552974, 0.003943915485197423, 0.003978841249868057, 0.004167448295332226, 0.00389700633747844, 0.003942663234913709, 0.004157635926135639, 0.0038310937411124095, 0.004124110469938182, 0.003913204079391628, 0.003940469509507156, 0.0039309345565774305, 0.0037648113244020606, 0.0038639330516357048, 0.0036930231600406944, 0.0038854620375178544, 0.0037714537077842363, 0.003794909157932528, 0.0038623269218298725, 0.0037733381516589283, 0.003942559044335265, 0.003970481605167828, 0.003706742344351724, 0.00398964172650982, 0.0038764183706098444, 0.0038218622688844677, 0.00385634005622498, 0.003949713151678859, 0.003868122380624122, 0.00404617428012953, 0.004016830260411973, 0.003955604894296266, 0.0038963993103964256, 0.0038768669820864786, 0.0038732639320953706, 0.004142953677924128, 0.003961026689669661, 0.004153250380814897, 0.003977578576964382, 0.003887954936319233, 0.0037832262273502087, 0.003957614866813622, 0.003848710211268107, 0.003800021609905186, 0.0038919442414618176, 0.0037766965312176566, 0.0036951058509236616, 0.0036930199768538167, 0.003866189848266429, 0.0036457826269862517, 0.0036647702252699255, 0.0037603217586848225, 0.0039043614055438215, 0.0036723376820561753, 0.0037390420516555593, 0.0037180555711616094, 0.003938040466416706, 0.0037129211672159504, 0.0035922123874384043, 0.00388670051210593, 0.0037903073623703275, 0.0035519928723877396, 0.0038164408512435907, 0.003924489225444207, 0.003603081300866083, 0.00398258539803492, 0.003902449206686587, 0.0038719509743078417, 0.004186764064285766, 0.003841657792040808, 0.0038014992299347963, 0.004124096795195476, 0.004094339239754912, 0.0038143551041294097, 0.004008482310193368, 0.003983940320753848, 0.003981958941387869, 0.0039945181419718525, 0.00400339418253053, 0.003955752327631721, 0.0039367741651879585, 0.003941389149898212, 0.003943724945792717, 0.003940529032035686, 0.003901475295348549, 0.003878052434878874, 0.0038710716928887215], \"Term\": [\"days stay rooms\", \"rude unhelpful opinion\", \"district good suppose\", \"morning realized adjoining\", \"mall hotel transamerican\", \"july august room\", \"room elevator went\", \"expensive lunch breakfast\", \"nice lacked coffee\", \"unhelpful opinion booked\", \"clean nice lacked\", \"building right chinatown\", \"care baby crib\", \"thank room clean\", \"hotel transamerican building\", \"higher view morning\", \"refund days stay\", \"given different room\", \"financial district good\", \"pad clean paid\", \"room stayed days\", \"bridge wharf room\", \"blankets pad clean\", \"desk got treatment\", \"hotels regis price\", \"blocks bay ferry\", \"upgraded thank room\", \"checked hotel refusing\", \"included bay bridge\", \"embarcadaro block high\", \"embarcadaro block high\", \"awkward upgraded thank\", \"location hotel blocks\", \"room away elevator\", \"hotel said downtown\", \"room elevator went\", \"hour replaced hdtv\", \"open near desk\", \"hotel pretending bad\", \"replaced hdtv location\", \"elevator went desk\", \"star hotel pretending\", \"hotel transamerican building\", \"manager given different\", \"nice lacked coffee\", \"upgraded thank room\", \"breakfast hotel said\", \"baby crib provided\", \"district good suppose\", \"look far better\", \"hotel blocks bay\", \"bridge wharf room\", \"sale booked room\", \"higher view morning\", \"rooms prepaid orbitz\", \"levels picture attached\", \"service tech showed\", \"attached mall hotel\", \"room stayed days\", \"lower levels picture\", \"suppose week weekend\", \"view morning realized\", \"bay ferry building\", \"orbitz asked room\", \"didn care baby\", \"right chinatown blocks\", \"hotels regis price\", \"week weekend open\", \"stayed days july\", \"bay bridge wharf\", \"thank room clean\", \"saying asked manager\", \"room higher view\", \"developed problem service\", \"away elevator got\", \"coffee machine really\", \"adjoining suite conversation\", \"mishaps room staff\", \"parking cost dollars\", \"quite boring brown\", \"elegant feel cozy\", \"just basic terrible\", \"terrible mishaps room\", \"quite oriented hotel\", \"room staff going\", \"nearby dirty kind\", \"dirty kind scary\", \"basic terrible mishaps\", \"bathroom away concierge\", \"stress knowledgeable nice\", \"walls hallways minimal\", \"oriented hotel expect\", \"rude near area\", \"actually bordered rude\", \"odor bathroom away\", \"great strange bad\", \"way fixed views\", \"furniture fairly bare\", \"hurry did mention\", \"boring brown furniture\", \"return hurry did\", \"feel just basic\", \"homeless people return\", \"feel plush expected\", \"area okay want\", \"staff going way\", \"expected dont elegant\", \"people return hurry\", \"desk actually bordered\", \"rooms quite boring\", \"fairly bare walls\", \"concierge stress knowledgeable\", \"area nearby dirty\", \"plush expected dont\", \"views great strange\", \"cozy feel just\", \"cost dollars day\", \"hallways minimal did\", \"away concierge stress\", \"expect rooms quite\", \"want embarcadero area\", \"hit checked charged\", \"reserved room stay\", \"lift finger help\", \"desk staff lousy\", \"just refused mistake\", \"help basically just\", \"free package website\", \"package website offer\", \"stay price want\", \"want hotel better\", \"didn want lift\", \"want lift finger\", \"disliked concierges great\", \"website offer honored\", \"basically just refused\", \"charge bottomline stay\", \"hotel better service\", \"checked charged nights\", \"walls hear goes\", \"nights free package\", \"lousy walls hear\", \"door stay hit\", \"room stay nights\", \"lazy didn want\", \"things disliked concierges\", \"manager reverse charge\", \"refused mistake yell\", \"staff duty rude\", \"loved things disliked\", \"family stayed nights\", \"stay nights free\", \"great desk staff\", \"mistake yell manager\", \"duty rude lazy\", \"goes door stay\", \"charged nights instead\", \"honored staff duty\", \"hear goes door\", \"rude lazy didn\", \"price want hotel\", \"reserved room stay\", \"basically just refused\", \"hit checked charged\", \"stay price want\", \"walls hear goes\", \"stay hit checked\", \"free package website\", \"manager reverse charge\", \"charge bottomline stay\", \"rude near area\", \"want lift finger\", \"disliked concierges great\", \"actually bordered rude\", \"just refused mistake\", \"great strange bad\", \"instead reserved room\", \"bottomline stay price\", \"staff lousy walls\", \"want hotel better\", \"hotel better service\", \"package website offer\", \"charged nights instead\", \"checked charged nights\", \"finger help basically\", \"offer honored staff\", \"staff duty rude\", \"nearby dirty kind\", \"staff going way\", \"didn want lift\", \"did feel plush\", \"family stayed nights\", \"refused mistake yell\", \"fixed views great\", \"expect rooms quite\", \"bordered rude near\", \"care baby crib\", \"unhelpful opinion booked\", \"morning realized adjoining\", \"staff didn care\", \"days july august\", \"prepaid orbitz star\", \"package website offer\", \"basically just refused\", \"stayed nights loved\", \"checked charged nights\", \"reserved room stay\", \"hit checked charged\", \"disliked concierges great\", \"didn want lift\", \"lousy walls hear\", \"things disliked concierges\", \"desk staff lousy\", \"want lift finger\", \"charge bottomline stay\", \"nearby dirty kind\", \"reverse charge bottomline\", \"staff duty rude\", \"charged nights instead\", \"feel just basic\", \"finger help basically\", \"offer honored staff\", \"nights free package\", \"minimal did feel\", \"refused mistake yell\", \"help basically just\", \"cost dollars day\", \"way fixed views\", \"manager reverse charge\", \"boring brown furniture\", \"away concierge stress\", \"mistake yell manager\", \"concierge stress knowledgeable\", \"hallways minimal did\", \"basic terrible mishaps\", \"district good suppose\", \"cozy feel just\", \"actually bordered rude\", \"days stay rooms\", \"mall hotel transamerican\", \"hotel expect rooms\", \"higher view morning\", \"clean nice lacked\", \"included bay bridge\", \"refund days stay\", \"rude unhelpful opinion\", \"expensive lunch breakfast\", \"financial district good\", \"room stayed days\", \"july august room\", \"room elevator went\", \"downtown san francisco\", \"desk got treatment\", \"san francisco restaurants\"], \"Total\": [1.0, 1.0, 1.0, 1.0, 1.0, 1.0, 1.0, 1.0, 1.0, 1.0, 1.0, 1.0, 1.0, 1.0, 1.0, 1.0, 1.0, 1.0, 1.0, 1.0, 1.0, 1.0, 1.0, 1.0, 1.0, 1.0, 1.0, 1.0, 1.0, 1.0, 1.095121918299009, 1.0965048076340398, 1.0656920633773663, 1.0857635879559218, 1.1124107322116974, 1.0967809076704287, 1.073683758047693, 1.0698864941568826, 1.106023854039621, 1.1054674909371012, 1.076833716706731, 1.044186560789511, 1.1282430144364415, 1.1012596165626531, 1.1078954633605052, 1.0993271613413376, 1.1027952346342826, 1.0688366939711862, 1.0696626134613803, 1.1056903576531318, 1.1018785847223482, 1.092845837421043, 1.0882515141914497, 1.0742353854479352, 1.0917482165090517, 1.0936310383625676, 1.1111436558294485, 1.1036320864292357, 1.0934761848821923, 1.1072406029200705, 1.1252384497592858, 1.1003086602053236, 1.0930172254074777, 1.1018331396704435, 1.130655806991989, 1.1103958665249936, 1.11278912688397, 1.1175923941705197, 1.1061354734714668, 1.1216755544717125, 1.1316627471931096, 1.129660645759884, 1.1321482657182347, 1.1083820014886745, 1.1329327386241024, 1.1242793068442913, 1.110023225391346, 0.8756697346319494, 0.884498030993604, 0.8850850197699249, 0.9133106856868847, 0.8634426260227764, 0.8923876449428794, 0.902401358405075, 0.9300801031567698, 0.8730476108363506, 0.8924593273818653, 0.9132186133005847, 0.8868178257833204, 0.9148473029659707, 0.900073847701551, 0.903061346964358, 0.8791608894323089, 0.8952077246650648, 0.8920902610610286, 0.8953386121163857, 0.8801626367009201, 0.8992970627611382, 0.8936379556641406, 0.888070049398183, 0.8928365079512404, 0.8917098341648514, 0.8862896470657842, 0.8964726018338903, 0.912566539330533, 0.8803065228721462, 0.8917747461611139, 0.9168520725425932, 0.9048734606632491, 0.9094857039182884, 0.9244703833645507, 0.9318480342821835, 0.9036126359720243, 0.9174287880760233, 0.92441216284233, 0.913088767004125, 0.8991810207136534, 0.9150477361452976, 0.9161231750549416, 0.9236480331434083, 0.9198775452326752, 0.8028368789870803, 0.8193551298222685, 0.8557897526788033, 0.8266398125509522, 0.8263144016588526, 0.8246563867926078, 0.8017826662584178, 0.8128871044283995, 0.8223641389765354, 0.8274790246671653, 0.823602555814978, 0.8279052104160655, 0.8460815225079548, 0.8381243280694852, 0.8136813708998422, 0.8336336631309312, 0.8501822652667379, 0.8333719931628324, 0.84308430107071, 0.8504083959451197, 0.8168147539526367, 0.8225073064913544, 0.8593504342452905, 0.8412524516312284, 0.8449715770411047, 0.8249564168870605, 0.8512254472025154, 0.8354790713807314, 0.8461163874790797, 0.8632384673273077, 0.8686453003513888, 0.8643513057169567, 0.8418604441389803, 0.8677403424794035, 0.8437805406405458, 0.8574000083594032, 0.8553946853893979, 0.8748301895513291, 0.8708654236674956, 0.8376070893172108, 0.8193551298222685, 0.8136813708998422, 0.8028368789870803, 0.8223641389765354, 0.84308430107071, 0.8443559788287911, 0.8017826662584178, 0.8249564168870605, 0.8336336631309312, 0.8791608894323089, 0.8279052104160655, 0.8460815225079548, 0.8952077246650648, 0.8263144016588526, 0.8953386121163857, 0.8504187791084904, 0.8587033506345727, 0.8600683614726741, 0.8274790246671653, 0.8501822652667379, 0.8128871044283995, 0.8574000083594032, 0.8333719931628324, 0.838829507557951, 0.8543874321541701, 0.8354790713807314, 0.8730476108363506, 0.8803065228721462, 0.823602555814978, 0.8884479224051609, 0.8632384673273077, 0.8512254472025154, 0.8625482788292497, 0.9236480331434083, 0.8993589927816269, 1.0982253366630337, 1.090525968098809, 1.109294305935188, 1.1121181868940329, 1.1038583785122695, 1.108118150560925, 0.8128871044283995, 0.8136813708998422, 0.8559037769399686, 0.8333719931628324, 0.8193551298222685, 0.8028368789870803, 0.8460815225079548, 0.823602555814978, 0.8168147539526367, 0.8449715770411047, 0.8266398125509522, 0.8279052104160655, 0.8336336631309312, 0.8730476108363506, 0.8260158589584616, 0.8354790713807314, 0.8574000083594032, 0.8917098341648514, 0.838829507557951, 0.8543874321541701, 0.8504083959451197, 0.9018331542289844, 0.8512254472025154, 0.8246563867926078, 0.8991810207136534, 0.8801626367009201, 0.8249564168870605, 0.888070049398183, 0.9161231750549416, 0.8418604441389803, 0.9318480342821835, 0.9150477361452976, 0.9132186133005847, 1.0696626134613803, 0.913088767004125, 0.8952077246650648, 1.0689086521004663, 1.0758823583356387, 0.9125899631418335, 1.0742353854479352, 1.0662675666677188, 1.0740520860823428, 1.0872586813823664, 1.1236532605820189, 1.09073709268232, 1.0659358061815618, 1.0934761848821923, 1.1015965437952646, 1.0967809076704287, 1.0820957695189863, 1.0765700284205963, 1.1050014381133078], \"loglift\": [30.0, 29.0, 28.0, 27.0, 26.0, 25.0, 24.0, 23.0, 22.0, 21.0, 20.0, 19.0, 18.0, 17.0, 16.0, 15.0, 14.0, 13.0, 12.0, 11.0, 10.0, 9.0, 8.0, 7.0, 6.0, 5.0, 4.0, 3.0, 2.0, 1.0, 0.2905, 0.2884, 0.2878, 0.2871, 0.2867, 0.2866, 0.2859, 0.2855, 0.2854, 0.2852, 0.2845, 0.2831, 0.2828, 0.2826, 0.2826, 0.2822, 0.2819, 0.2816, 0.281, 0.2807, 0.2802, 0.28, 0.2798, 0.2793, 0.2792, 0.2791, 0.279, 0.2786, 0.2785, 0.2783, 0.2771, 0.2779, 0.2781, 0.2767, 0.2721, 0.2747, 0.274, 0.2727, 0.2752, 0.2708, 0.2642, 0.2644, 0.2627, 0.2726, 0.2579, 0.263, 0.2711, 0.8852, 0.8819, 0.8744, 0.8735, 0.8732, 0.8717, 0.8715, 0.8681, 0.8676, 0.8673, 0.8673, 0.8659, 0.8655, 0.8655, 0.8643, 0.8642, 0.8639, 0.8626, 0.8624, 0.8614, 0.8586, 0.8569, 0.8569, 0.8565, 0.8558, 0.8548, 0.8524, 0.8522, 0.8522, 0.8519, 0.8492, 0.8494, 0.8477, 0.8421, 0.8354, 0.8489, 0.8411, 0.8354, 0.8419, 0.8505, 0.8376, 0.8364, 0.8261, 0.8294, 1.0468, 1.0268, 1.0244, 1.0226, 1.0214, 1.0214, 1.0214, 1.0194, 1.0151, 1.0094, 1.0084, 1.0057, 1.0055, 1.0054, 1.0053, 1.0041, 0.9997, 0.9995, 0.9992, 0.999, 0.9989, 0.9962, 0.9945, 0.9945, 0.9941, 0.993, 0.9926, 0.992, 0.9913, 0.9912, 0.9865, 0.986, 0.9903, 0.9754, 0.9848, 0.9729, 0.9738, 0.9536, 0.9547, 0.3546, 0.3455, 0.3227, 0.3093, 0.3092, 0.2907, 0.2905, 0.2818, 0.2807, 0.2791, 0.2722, 0.2652, 0.2551, 0.2518, 0.2501, 0.2436, 0.2425, 0.2398, 0.2358, 0.2312, 0.2301, 0.2298, 0.2272, 0.2259, 0.2256, 0.2248, 0.2239, 0.2237, 0.2225, 0.2204, 0.2181, 0.2181, 0.218, 0.2137, 0.1692, 0.175, 0.0202, 0.02, -0.0124, -0.0301, -0.0276, -0.0324, 0.3448, 0.2989, 0.2957, 0.2792, 0.2734, 0.2664, 0.259, 0.258, 0.2536, 0.2436, 0.2355, 0.2121, 0.2046, 0.2043, 0.201, 0.1948, 0.1946, 0.193, 0.1928, 0.1924, 0.1915, 0.1903, 0.1891, 0.1878, 0.1801, 0.1763, 0.1762, 0.1743, 0.1711, 0.1702, 0.1688, 0.1666, 0.1608, 0.0808, 0.1531, 0.1623, 0.0665, 0.0527, 0.1465, 0.033, 0.0343, 0.0266, 0.0175, -0.0132, 0.0046, 0.0228, -0.0016, -0.0084, -0.0048, -0.0013, -0.0022, -0.0301], \"logprob\": [30.0, 29.0, 28.0, 27.0, 26.0, 25.0, 24.0, 23.0, 22.0, 21.0, 20.0, 19.0, 18.0, 17.0, 16.0, 15.0, 14.0, 13.0, 12.0, 11.0, 10.0, 9.0, 8.0, 7.0, 6.0, 5.0, 4.0, 3.0, 2.0, 1.0, -5.2281, -5.2289, -5.2581, -5.2401, -5.2163, -5.2305, -5.2525, -5.2564, -5.2233, -5.224, -5.2509, -5.2832, -5.206, -5.2304, -5.2244, -5.2326, -5.2298, -5.2613, -5.2611, -5.2283, -5.2322, -5.2407, -5.2451, -5.2585, -5.2425, -5.2408, -5.2251, -5.2322, -5.2416, -5.2293, -5.2144, -5.236, -5.2425, -5.2358, -5.2146, -5.2301, -5.2286, -5.2256, -5.2334, -5.2239, -5.2216, -5.2231, -5.2226, -5.234, -5.2268, -5.2293, -5.234, -4.857, -4.8503, -4.8571, -4.8266, -4.8831, -4.8516, -4.8407, -4.8139, -4.8776, -4.8559, -4.833, -4.8637, -4.833, -4.8493, -4.8471, -4.874, -4.8562, -4.8611, -4.8576, -4.8757, -4.857, -4.865, -4.8713, -4.8664, -4.8683, -4.8754, -4.8664, -4.8487, -4.8848, -4.8721, -4.8471, -4.86, -4.8567, -4.8459, -4.8446, -4.8619, -4.8546, -4.8527, -4.8584, -4.8653, -4.8606, -4.8607, -4.8628, -4.8636, -4.7823, -4.7819, -4.7408, -4.7773, -4.7788, -4.7808, -4.809, -4.7972, -4.79, -4.7894, -4.7952, -4.7926, -4.7711, -4.7807, -4.8104, -4.7873, -4.7721, -4.7923, -4.781, -4.7725, -4.8129, -4.8086, -4.7665, -4.7878, -4.7838, -4.8089, -4.778, -4.7972, -4.7853, -4.7653, -4.7638, -4.7692, -4.7914, -4.7759, -4.7945, -4.7905, -4.7918, -4.7896, -4.793, -5.4321, -5.4632, -5.493, -5.5198, -5.4958, -5.4894, -5.4882, -5.5486, -5.5211, -5.5123, -5.466, -5.5331, -5.5215, -5.4684, -5.5502, -5.4765, -5.529, -5.522, -5.5244, -5.5676, -5.5416, -5.5869, -5.5361, -5.5659, -5.5597, -5.5421, -5.5654, -5.5215, -5.5144, -5.5832, -5.5096, -5.5384, -5.5526, -5.5436, -5.5197, -5.5406, -5.4955, -5.5028, -5.5182, -5.5333, -5.5383, -5.5392, -5.4718, -5.5167, -5.4693, -5.5126, -5.5353, -5.5627, -5.5176, -5.5455, -5.5582, -5.5343, -5.5644, -5.5862, -5.5868, -5.541, -5.5997, -5.5945, -5.5687, -5.5311, -5.5924, -5.5744, -5.58, -5.5225, -5.5814, -5.6145, -5.5357, -5.5608, -5.6257, -5.5539, -5.526, -5.6114, -5.5113, -5.5316, -5.5395, -5.4613, -5.5473, -5.5578, -5.4764, -5.4836, -5.5545, -5.5048, -5.511, -5.5115, -5.5083, -5.5061, -5.5181, -5.5229, -5.5217, -5.5211, -5.5219, -5.5319, -5.5379, -5.5397]}, \"token.table\": {\"Topic\": [2, 1, 2, 2, 1, 2, 1, 1, 1, 2, 2, 1, 1, 1, 1, 2, 2, 1, 1, 1, 1, 1, 1, 1, 2, 2, 2, 1, 1, 2, 1, 1, 1, 2, 1, 1, 2, 1, 1, 2, 2, 1, 2, 2, 2, 1, 2, 1, 2, 2, 1, 2, 1, 2, 1, 1, 1, 1, 1, 2, 1, 1, 2, 1, 1, 1, 1, 1, 1, 2, 2, 1, 2, 1, 2, 1, 1, 2, 1, 2, 2, 2, 1, 2, 2, 1, 1, 2, 1, 1, 1, 1, 2, 1, 1, 2, 2, 1, 1, 1, 1, 1, 1, 2, 1, 1, 2, 1, 2, 1, 1, 1, 1, 2, 2, 2, 2, 1], \"Freq\": [1.1170591723548213, 0.9008820510466737, 1.1066688979224941, 1.0958105046604152, 0.9060990635343579, 1.091556274558853, 0.8826649331490382, 0.9119887054191117, 0.935596621673393, 1.095028052905938, 1.127627310735107, 0.891523396416516, 0.9148986646822507, 0.8826897216559704, 0.9180885014350849, 1.1119030420845635, 1.126037299284745, 0.9067866532191061, 0.9150421457063462, 0.9308979833273563, 0.9105599430427528, 0.8973764860195279, 0.9378509027759167, 0.8894586904804577, 1.0731363518626886, 1.1121231175523807, 1.0951837719798412, 0.9059133123107285, 0.9355336380100798, 1.1051268972647574, 0.9288759426705108, 0.9022160217839102, 0.8844424570377546, 1.1204992421712012, 0.9348742186697961, 0.9241326213155056, 1.0949176612862226, 0.9286484853560206, 0.9131403392539558, 1.082663486649505, 1.1213594064025374, 0.9168112157447758, 1.081700417876627, 1.1214410357339728, 1.1154830587731588, 0.9381427982818593, 1.1119796131988584, 0.904058762915626, 1.1168958720949358, 1.0928391607333732, 0.9308946749906395, 1.128299313109065, 0.9075410066636156, 1.0957823780542515, 0.9041396316613051, 0.8989485367619547, 0.8863338724055837, 0.8986428568009089, 0.9313729415245379, 1.1190214042070454, 0.9310535428943196, 0.9077733636988001, 1.1581545430600753, 0.9143851673204556, 0.9383573682915715, 0.904412336671305, 0.9031460708383975, 0.92946965088913, 0.9080510943652748, 1.1088525580487698, 1.1419830564548488, 0.9014740224028756, 1.1454129048495227, 0.9026122347019699, 1.120962803484287, 0.9346785901695522, 0.9075784381463589, 1.1073444825885876, 0.9258170458447433, 1.1305847666801998, 1.090688487213453, 1.0900028568943645, 0.902430845929023, 1.1298349623632167, 1.1081543602365838, 0.9197443231527721, 0.9045946698552875, 1.1200258850241953, 0.9005797212930199, 0.9210108085155242, 0.9117591243669694, 0.8832765374291327, 1.075176209668303, 0.9145146586870905, 0.9159621100161504, 1.0995225056224125, 1.137448232763993, 0.8899542546443818, 0.9189052226984321, 0.9049761977752822, 0.8852215961965589, 0.8999736395502508, 0.8991850072993043, 1.1359679543635937, 0.9576832699741877, 0.9040483955022489, 1.0930785900094595, 0.8887005240657416, 1.120589248032461, 0.8836554905428531, 0.9169887093503795, 0.9096473144353642, 0.9088358895706542, 1.0817685445908207, 1.1110199485893548, 1.0871012181812292, 1.1361536587695449, 0.8947806062533227], \"Term\": [\"actually bordered rude\", \"adjoining suite conversation\", \"area nearby dirty\", \"area okay want\", \"attached mall hotel\", \"away concierge stress\", \"away elevator got\", \"awkward upgraded thank\", \"baby crib provided\", \"basic terrible mishaps\", \"bathroom away concierge\", \"bay bridge wharf\", \"bay ferry building\", \"blankets pad clean\", \"blocks bay ferry\", \"bordered rude near\", \"boring brown furniture\", \"breakfast hotel said\", \"bridge wharf room\", \"building right chinatown\", \"care baby crib\", \"checked hotel refusing\", \"clean nice lacked\", \"coffee machine really\", \"concierge stress knowledgeable\", \"cost dollars day\", \"cozy feel just\", \"days july august\", \"days stay rooms\", \"desk actually bordered\", \"desk got treatment\", \"developed problem service\", \"didn care baby\", \"dirty kind scary\", \"district good suppose\", \"downtown san francisco\", \"elegant feel cozy\", \"elevator went desk\", \"embarcadaro block high\", \"expect rooms quite\", \"expected dont elegant\", \"expensive lunch breakfast\", \"fairly bare walls\", \"feel just basic\", \"feel plush expected\", \"financial district good\", \"furniture fairly bare\", \"given different room\", \"great strange bad\", \"hallways minimal did\", \"higher view morning\", \"homeless people return\", \"hotel blocks bay\", \"hotel expect rooms\", \"hotel pretending bad\", \"hotel said downtown\", \"hotel transamerican building\", \"hotels regis price\", \"hour replaced hdtv\", \"hurry did mention\", \"included bay bridge\", \"july august room\", \"just basic terrible\", \"levels picture attached\", \"location hotel blocks\", \"look far better\", \"lower levels picture\", \"mall hotel transamerican\", \"manager given different\", \"minimal did feel\", \"mishaps room staff\", \"morning realized adjoining\", \"nearby dirty kind\", \"nice lacked coffee\", \"odor bathroom away\", \"open near desk\", \"orbitz asked room\", \"oriented hotel expect\", \"pad clean paid\", \"parking cost dollars\", \"people return hurry\", \"plush expected dont\", \"prepaid orbitz star\", \"quite boring brown\", \"quite oriented hotel\", \"refund days stay\", \"replaced hdtv location\", \"return hurry did\", \"right chinatown blocks\", \"room away elevator\", \"room elevator went\", \"room higher view\", \"room staff going\", \"room stayed days\", \"rooms prepaid orbitz\", \"rooms quite boring\", \"rude near area\", \"rude unhelpful opinion\", \"sale booked room\", \"san francisco restaurants\", \"saying asked manager\", \"service tech showed\", \"staff didn care\", \"staff going way\", \"star hotel pretending\", \"stayed days july\", \"stress knowledgeable nice\", \"suppose week weekend\", \"terrible mishaps room\", \"thank room clean\", \"unhelpful opinion booked\", \"upgraded thank room\", \"view morning realized\", \"views great strange\", \"walls hallways minimal\", \"want embarcadero area\", \"way fixed views\", \"week weekend open\"]}, \"R\": 30, \"lambda.step\": 0.01, \"plot.opts\": {\"xlab\": \"PC1\", \"ylab\": \"PC2\"}, \"topic.order\": [1, 2, 4, 3, 5]};\n",
       "\n",
       "function LDAvis_load_lib(url, callback){\n",
       "  var s = document.createElement('script');\n",
       "  s.src = url;\n",
       "  s.async = true;\n",
       "  s.onreadystatechange = s.onload = callback;\n",
       "  s.onerror = function(){console.warn(\"failed to load library \" + url);};\n",
       "  document.getElementsByTagName(\"head\")[0].appendChild(s);\n",
       "}\n",
       "\n",
       "if(typeof(LDAvis) !== \"undefined\"){\n",
       "   // already loaded: just create the visualization\n",
       "   !function(LDAvis){\n",
       "       new LDAvis(\"#\" + \"ldavis_el134701121449783522715568362\", ldavis_el134701121449783522715568362_data);\n",
       "   }(LDAvis);\n",
       "}else if(typeof define === \"function\" && define.amd){\n",
       "   // require.js is available: use it to load d3/LDAvis\n",
       "   require.config({paths: {d3: \"https://cdnjs.cloudflare.com/ajax/libs/d3/3.5.5/d3.min\"}});\n",
       "   require([\"d3\"], function(d3){\n",
       "      window.d3 = d3;\n",
       "      LDAvis_load_lib(\"https://cdn.rawgit.com/bmabey/pyLDAvis/files/ldavis.v1.0.0.js\", function(){\n",
       "        new LDAvis(\"#\" + \"ldavis_el134701121449783522715568362\", ldavis_el134701121449783522715568362_data);\n",
       "      });\n",
       "    });\n",
       "}else{\n",
       "    // require.js not available: dynamically load d3 & LDAvis\n",
       "    LDAvis_load_lib(\"https://cdnjs.cloudflare.com/ajax/libs/d3/3.5.5/d3.min.js\", function(){\n",
       "         LDAvis_load_lib(\"https://cdn.rawgit.com/bmabey/pyLDAvis/files/ldavis.v1.0.0.js\", function(){\n",
       "                 new LDAvis(\"#\" + \"ldavis_el134701121449783522715568362\", ldavis_el134701121449783522715568362_data);\n",
       "            })\n",
       "         });\n",
       "}\n",
       "</script>"
      ],
      "text/plain": [
       "PreparedData(topic_coordinates=            Freq  cluster  topics         x         y\n",
       "topic                                                \n",
       "0      55.689085        1       1 -0.065070  0.012325\n",
       "1      24.540846        1       2  0.051223  0.034496\n",
       "3      19.047999        1       3  0.018745 -0.050911\n",
       "2       0.361051        1       4 -0.001893  0.001484\n",
       "4       0.361018        1       5 -0.003005  0.002606, topic_info=     Category      Freq                            Term     Total  loglift  \\\n",
       "term                                                                         \n",
       "55    Default  1.000000                 days stay rooms  1.000000  30.0000   \n",
       "219   Default  1.000000          rude unhelpful opinion  1.000000  29.0000   \n",
       "68    Default  1.000000           district good suppose  1.000000  28.0000   \n",
       "155   Default  1.000000      morning realized adjoining  1.000000  27.0000   \n",
       "147   Default  1.000000        mall hotel transamerican  1.000000  26.0000   \n",
       "128   Default  1.000000                july august room  1.000000  25.0000   \n",
       "206   Default  1.000000              room elevator went  1.000000  24.0000   \n",
       "80    Default  1.000000       expensive lunch breakfast  1.000000  23.0000   \n",
       "160   Default  1.000000              nice lacked coffee  1.000000  22.0000   \n",
       "254   Default  1.000000        unhelpful opinion booked  1.000000  21.0000   \n",
       "45    Default  1.000000               clean nice lacked  1.000000  20.0000   \n",
       "37    Default  1.000000        building right chinatown  1.000000  19.0000   \n",
       "38    Default  1.000000                  care baby crib  1.000000  18.0000   \n",
       "248   Default  1.000000                thank room clean  1.000000  17.0000   \n",
       "122   Default  1.000000    hotel transamerican building  1.000000  16.0000   \n",
       "112   Default  1.000000             higher view morning  1.000000  15.0000   \n",
       "193   Default  1.000000                refund days stay  1.000000  14.0000   \n",
       "97    Default  1.000000            given different room  1.000000  13.0000   \n",
       "90    Default  1.000000         financial district good  1.000000  12.0000   \n",
       "175   Default  1.000000                  pad clean paid  1.000000  11.0000   \n",
       "213   Default  1.000000                room stayed days  1.000000  10.0000   \n",
       "34    Default  1.000000               bridge wharf room  1.000000   9.0000   \n",
       "24    Default  1.000000              blankets pad clean  1.000000   8.0000   \n",
       "57    Default  1.000000              desk got treatment  1.000000   7.0000   \n",
       "123   Default  1.000000              hotels regis price  1.000000   6.0000   \n",
       "27    Default  1.000000                blocks bay ferry  1.000000   5.0000   \n",
       "255   Default  1.000000             upgraded thank room  1.000000   4.0000   \n",
       "43    Default  1.000000          checked hotel refusing  1.000000   3.0000   \n",
       "126   Default  1.000000             included bay bridge  1.000000   2.0000   \n",
       "76    Default  1.000000          embarcadaro block high  1.000000   1.0000   \n",
       "...       ...       ...                             ...       ...      ...   \n",
       "194    Topic5  0.003713            refused mistake yell  0.851225   0.1891   \n",
       "110    Topic5  0.003592             help basically just  0.824656   0.1878   \n",
       "51     Topic5  0.003887                cost dollars day  0.899181   0.1801   \n",
       "264    Topic5  0.003790                 way fixed views  0.880163   0.1763   \n",
       "150    Topic5  0.003552          manager reverse charge  0.824956   0.1762   \n",
       "31     Topic5  0.003816          boring brown furniture  0.888070   0.1743   \n",
       "8      Topic5  0.003924           away concierge stress  0.916123   0.1711   \n",
       "154    Topic5  0.003603            mistake yell manager  0.841860   0.1702   \n",
       "48     Topic5  0.003983  concierge stress knowledgeable  0.931848   0.1688   \n",
       "107    Topic5  0.003902            hallways minimal did  0.915048   0.1666   \n",
       "17     Topic5  0.003872          basic terrible mishaps  0.913219   0.1608   \n",
       "68     Topic5  0.004187           district good suppose  1.069663   0.0808   \n",
       "52     Topic5  0.003842                  cozy feel just  0.913089   0.1531   \n",
       "0      Topic5  0.003801          actually bordered rude  0.895208   0.1623   \n",
       "55     Topic5  0.004124                 days stay rooms  1.068909   0.0665   \n",
       "147    Topic5  0.004094        mall hotel transamerican  1.075882   0.0527   \n",
       "118    Topic5  0.003814              hotel expect rooms  0.912590   0.1465   \n",
       "112    Topic5  0.004008             higher view morning  1.074235   0.0330   \n",
       "45     Topic5  0.003984               clean nice lacked  1.066268   0.0343   \n",
       "126    Topic5  0.003982             included bay bridge  1.074052   0.0266   \n",
       "193    Topic5  0.003995                refund days stay  1.087259   0.0175   \n",
       "219    Topic5  0.004003          rude unhelpful opinion  1.123653  -0.0132   \n",
       "80     Topic5  0.003956       expensive lunch breakfast  1.090737   0.0046   \n",
       "90     Topic5  0.003937         financial district good  1.065936   0.0228   \n",
       "213    Topic5  0.003941                room stayed days  1.093476  -0.0016   \n",
       "128    Topic5  0.003944                july august room  1.101597  -0.0084   \n",
       "206    Topic5  0.003941              room elevator went  1.096781  -0.0048   \n",
       "71     Topic5  0.003901          downtown san francisco  1.082096  -0.0013   \n",
       "57     Topic5  0.003878              desk got treatment  1.076570  -0.0022   \n",
       "222    Topic5  0.003871       san francisco restaurants  1.105001  -0.0301   \n",
       "\n",
       "      logprob  \n",
       "term           \n",
       "55    30.0000  \n",
       "219   29.0000  \n",
       "68    28.0000  \n",
       "155   27.0000  \n",
       "147   26.0000  \n",
       "128   25.0000  \n",
       "206   24.0000  \n",
       "80    23.0000  \n",
       "160   22.0000  \n",
       "254   21.0000  \n",
       "45    20.0000  \n",
       "37    19.0000  \n",
       "38    18.0000  \n",
       "248   17.0000  \n",
       "122   16.0000  \n",
       "112   15.0000  \n",
       "193   14.0000  \n",
       "97    13.0000  \n",
       "90    12.0000  \n",
       "175   11.0000  \n",
       "213   10.0000  \n",
       "34     9.0000  \n",
       "24     8.0000  \n",
       "57     7.0000  \n",
       "123    6.0000  \n",
       "27     5.0000  \n",
       "255    4.0000  \n",
       "43     3.0000  \n",
       "126    2.0000  \n",
       "76     1.0000  \n",
       "...       ...  \n",
       "194   -5.5814  \n",
       "110   -5.6145  \n",
       "51    -5.5357  \n",
       "264   -5.5608  \n",
       "150   -5.6257  \n",
       "31    -5.5539  \n",
       "8     -5.5260  \n",
       "154   -5.6114  \n",
       "48    -5.5113  \n",
       "107   -5.5316  \n",
       "17    -5.5395  \n",
       "68    -5.4613  \n",
       "52    -5.5473  \n",
       "0     -5.5578  \n",
       "55    -5.4764  \n",
       "147   -5.4836  \n",
       "118   -5.5545  \n",
       "112   -5.5048  \n",
       "45    -5.5110  \n",
       "126   -5.5115  \n",
       "193   -5.5083  \n",
       "219   -5.5061  \n",
       "80    -5.5181  \n",
       "90    -5.5229  \n",
       "213   -5.5217  \n",
       "128   -5.5211  \n",
       "206   -5.5219  \n",
       "71    -5.5319  \n",
       "57    -5.5379  \n",
       "222   -5.5397  \n",
       "\n",
       "[254 rows x 6 columns], token_table=      Topic      Freq                            Term\n",
       "term                                                 \n",
       "0         2  1.117059          actually bordered rude\n",
       "1         1  0.900882    adjoining suite conversation\n",
       "2         2  1.106669               area nearby dirty\n",
       "3         2  1.095811                  area okay want\n",
       "6         1  0.906099             attached mall hotel\n",
       "8         2  1.091556           away concierge stress\n",
       "9         1  0.882665               away elevator got\n",
       "11        1  0.911989          awkward upgraded thank\n",
       "12        1  0.935597              baby crib provided\n",
       "17        2  1.095028          basic terrible mishaps\n",
       "19        2  1.127627         bathroom away concierge\n",
       "20        1  0.891523                bay bridge wharf\n",
       "21        1  0.914899              bay ferry building\n",
       "24        1  0.882690              blankets pad clean\n",
       "27        1  0.918089                blocks bay ferry\n",
       "30        2  1.111903              bordered rude near\n",
       "31        2  1.126037          boring brown furniture\n",
       "33        1  0.906787            breakfast hotel said\n",
       "34        1  0.915042               bridge wharf room\n",
       "37        1  0.930898        building right chinatown\n",
       "38        1  0.910560                  care baby crib\n",
       "43        1  0.897376          checked hotel refusing\n",
       "45        1  0.937851               clean nice lacked\n",
       "47        1  0.889459           coffee machine really\n",
       "48        2  1.073136  concierge stress knowledgeable\n",
       "51        2  1.112123                cost dollars day\n",
       "52        2  1.095184                  cozy feel just\n",
       "54        1  0.905913                days july august\n",
       "55        1  0.935534                 days stay rooms\n",
       "56        2  1.105127          desk actually bordered\n",
       "...     ...       ...                             ...\n",
       "200       1  0.900580          right chinatown blocks\n",
       "202       1  0.921011              room away elevator\n",
       "206       1  0.911759              room elevator went\n",
       "208       1  0.883277                room higher view\n",
       "211       2  1.075176                room staff going\n",
       "213       1  0.914515                room stayed days\n",
       "215       1  0.915962            rooms prepaid orbitz\n",
       "216       2  1.099523              rooms quite boring\n",
       "218       2  1.137448                  rude near area\n",
       "219       1  0.889954          rude unhelpful opinion\n",
       "221       1  0.918905                sale booked room\n",
       "222       1  0.904976       san francisco restaurants\n",
       "223       1  0.885222            saying asked manager\n",
       "226       1  0.899974             service tech showed\n",
       "228       1  0.899185                 staff didn care\n",
       "230       2  1.135968                 staff going way\n",
       "234       1  0.957683           star hotel pretending\n",
       "239       1  0.904048                stayed days july\n",
       "242       2  1.093079       stress knowledgeable nice\n",
       "244       1  0.888701            suppose week weekend\n",
       "246       2  1.120589           terrible mishaps room\n",
       "248       1  0.883655                thank room clean\n",
       "254       1  0.916989        unhelpful opinion booked\n",
       "255       1  0.909647             upgraded thank room\n",
       "256       1  0.908836           view morning realized\n",
       "258       2  1.081769             views great strange\n",
       "259       2  1.111020          walls hallways minimal\n",
       "261       2  1.087101           want embarcadero area\n",
       "264       2  1.136154                 way fixed views\n",
       "266       1  0.894781               week weekend open\n",
       "\n",
       "[118 rows x 3 columns], R=30, lambda_step=0.01, plot_opts={'xlab': 'PC1', 'ylab': 'PC2'}, topic_order=[1, 2, 4, 3, 5])"
      ]
     },
     "execution_count": 20,
     "metadata": {},
     "output_type": "execute_result"
    }
   ],
   "source": [
    "pyLDAvis.sklearn.prepare(analyzer.neg_lda_tf, analyzer.neg_dtm_tf, analyzer.neg_tf_vectorizer)"
   ]
  },
  {
   "cell_type": "code",
   "execution_count": 21,
   "metadata": {
    "collapsed": true
   },
   "outputs": [],
   "source": [
    "# set the story line and work flow\n",
    "# make sure the work flow shows a cycle of iteration\n",
    "# know who you're talking too\n",
    "# the trigrams that don't make sense, show that you looked into it and how you can learn from it\n",
    "# focus on the signal you get, then explain what it says about your model\n",
    "# remember this is unsupervised so you'll have to guide the story\n",
    "# when you give reccomendations, possibly show a snippet of a customer review under it. That way the user has context to see which one they wanna pick\n",
    "    # make it a dictionary, that way you can print the results as a dataframe\n"
   ]
  },
  {
   "cell_type": "code",
   "execution_count": 24,
   "metadata": {
    "collapsed": true
   },
   "outputs": [],
   "source": [
    "# 1) room 2) room/cleanliness 3) service 4) everything 5) everything/value"
   ]
  },
  {
   "cell_type": "code",
   "execution_count": 26,
   "metadata": {
    "collapsed": true
   },
   "outputs": [],
   "source": [
    "# https://www.tripadvisor.com/Hotel_Review-g60713-d81204-Reviews-Le_Meridien_San_Francisco-San_Francisco_California.html\n",
    "\n",
    "# Yes you can just look at this hotel and check for poor rating from customers. But what if you want to look at the negative feedback\n",
    "# from customers who still gave 4-5 stars?"
   ]
  },
  {
   "cell_type": "code",
   "execution_count": 29,
   "metadata": {},
   "outputs": [],
   "source": [
    "# pickle out san francisco tfidf vector\n",
    "pickle.dump(san_francisco, open('san_francisco.pkle', 'wb'))"
   ]
  },
  {
   "cell_type": "code",
   "execution_count": null,
   "metadata": {
    "collapsed": true
   },
   "outputs": [],
   "source": []
  },
  {
   "cell_type": "code",
   "execution_count": null,
   "metadata": {
    "collapsed": true
   },
   "outputs": [],
   "source": []
  }
 ],
 "metadata": {
  "kernelspec": {
   "display_name": "Python 3",
   "language": "python",
   "name": "python3"
  },
  "language_info": {
   "codemirror_mode": {
    "name": "ipython",
    "version": 3
   },
   "file_extension": ".py",
   "mimetype": "text/x-python",
   "name": "python",
   "nbconvert_exporter": "python",
   "pygments_lexer": "ipython3",
   "version": "3.6.4"
  }
 },
 "nbformat": 4,
 "nbformat_minor": 2
}
