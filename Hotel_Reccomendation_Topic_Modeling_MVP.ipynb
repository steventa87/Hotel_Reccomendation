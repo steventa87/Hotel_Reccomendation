{
 "cells": [
  {
   "cell_type": "code",
   "execution_count": 1,
   "metadata": {},
   "outputs": [
    {
     "name": "stderr",
     "output_type": "stream",
     "text": [
      "/Users/steventa/anaconda3/lib/python3.6/site-packages/nltk/twitter/__init__.py:20: UserWarning: The twython library has not been installed. Some functionality from the twitter package will not be available.\n",
      "  warnings.warn(\"The twython library has not been installed. \"\n"
     ]
    }
   ],
   "source": [
    "from hotel_kmeans import Hotel_Kmeans\n",
    "from sentiment_model import Sentiment_Model\n",
    "from Person import Person\n",
    "\n",
    "import pandas as pd\n",
    "import numpy as np\n",
    "\n",
    "import pickle\n",
    "import datetime\n",
    "\n",
    "import pyLDAvis\n",
    "import pyLDAvis.sklearn\n",
    "pyLDAvis.enable_notebook()"
   ]
  },
  {
   "cell_type": "markdown",
   "metadata": {},
   "source": [
    "# Content Based Reccomender - Hotels\n",
    "- Data: TripAdvisor\n",
    "    - Can search any city\n",
    "    - ONLY user reviews"
   ]
  },
  {
   "cell_type": "code",
   "execution_count": null,
   "metadata": {
    "collapsed": true
   },
   "outputs": [],
   "source": []
  },
  {
   "cell_type": "code",
   "execution_count": 2,
   "metadata": {
    "collapsed": true
   },
   "outputs": [],
   "source": [
    "# if you want to not run model again\n",
    "san_francisco = pickle.load(open('san_francisco.pkle', 'rb'))"
   ]
  },
  {
   "cell_type": "code",
   "execution_count": null,
   "metadata": {
    "collapsed": true
   },
   "outputs": [],
   "source": []
  },
  {
   "cell_type": "markdown",
   "metadata": {},
   "source": [
    "##  First step, fly to vacation spot. San Francisco :)\n",
    "### Class that maps hotels to reviews, vectorizes, and can cluster"
   ]
  },
  {
   "cell_type": "code",
   "execution_count": 7,
   "metadata": {
    "collapsed": true
   },
   "outputs": [],
   "source": [
    "san_francisco = Hotel_Kmeans('data/san-francisco/')"
   ]
  },
  {
   "cell_type": "markdown",
   "metadata": {},
   "source": [
    "#### - group all hotel reviews to their hotel"
   ]
  },
  {
   "cell_type": "code",
   "execution_count": 8,
   "metadata": {},
   "outputs": [
    {
     "data": {
      "text/plain": [
       "'2018-05-08 13:31:33.224162'"
      ]
     },
     "execution_count": 8,
     "metadata": {},
     "output_type": "execute_result"
    }
   ],
   "source": [
    "str(datetime.datetime.now())"
   ]
  },
  {
   "cell_type": "code",
   "execution_count": 9,
   "metadata": {},
   "outputs": [
    {
     "name": "stdout",
     "output_type": "stream",
     "text": [
      "There are 212 hotels in the dataset.\n",
      "Total stemmed and tokenized words: 4729386\n"
     ]
    }
   ],
   "source": [
    "san_francisco.make_map()"
   ]
  },
  {
   "cell_type": "markdown",
   "metadata": {},
   "source": [
    "#### - tfidf vectorized matrix"
   ]
  },
  {
   "cell_type": "code",
   "execution_count": 10,
   "metadata": {},
   "outputs": [
    {
     "data": {
      "text/plain": [
       "'2018-05-08 13:35:44.030614'"
      ]
     },
     "execution_count": 10,
     "metadata": {},
     "output_type": "execute_result"
    }
   ],
   "source": [
    "str(datetime.datetime.now())"
   ]
  },
  {
   "cell_type": "code",
   "execution_count": 11,
   "metadata": {
    "collapsed": true
   },
   "outputs": [],
   "source": [
    "san_francisco.vectorize()"
   ]
  },
  {
   "cell_type": "code",
   "execution_count": 12,
   "metadata": {},
   "outputs": [
    {
     "data": {
      "text/plain": [
       "'2018-05-08 13:38:52.536662'"
      ]
     },
     "execution_count": 12,
     "metadata": {},
     "output_type": "execute_result"
    }
   ],
   "source": [
    "str(datetime.datetime.now())"
   ]
  },
  {
   "cell_type": "code",
   "execution_count": 13,
   "metadata": {},
   "outputs": [
    {
     "data": {
      "text/plain": [
       "(212, 5676)"
      ]
     },
     "execution_count": 13,
     "metadata": {},
     "output_type": "execute_result"
    }
   ],
   "source": [
    "san_francisco.tfidf_matrix.shape"
   ]
  },
  {
   "cell_type": "code",
   "execution_count": null,
   "metadata": {
    "collapsed": true
   },
   "outputs": [],
   "source": []
  },
  {
   "cell_type": "markdown",
   "metadata": {},
   "source": [
    "## Person Class for each search"
   ]
  },
  {
   "cell_type": "markdown",
   "metadata": {},
   "source": [
    "- initialize new annoying customer"
   ]
  },
  {
   "cell_type": "code",
   "execution_count": 3,
   "metadata": {
    "collapsed": true
   },
   "outputs": [],
   "source": [
    "picky_person = Person(san_francisco)"
   ]
  },
  {
   "cell_type": "markdown",
   "metadata": {},
   "source": [
    "- begin search using cosine similarities"
   ]
  },
  {
   "cell_type": "code",
   "execution_count": 4,
   "metadata": {},
   "outputs": [
    {
     "data": {
      "text/plain": [
       "'2018-05-10 16:29:49.657477'"
      ]
     },
     "execution_count": 4,
     "metadata": {},
     "output_type": "execute_result"
    }
   ],
   "source": [
    "str(datetime.datetime.now())"
   ]
  },
  {
   "cell_type": "code",
   "execution_count": 5,
   "metadata": {},
   "outputs": [
    {
     "name": "stdout",
     "output_type": "stream",
     "text": [
      "Enter search queries or quit: financial district near shopping\n",
      "Enter search queries or quit: quit\n",
      "\n",
      "\n",
      "financial district near shopping\n",
      "['usa_san francisco_hilton_san_francisco_financial_district', 'usa_san francisco_le_meridien_san_francisco', 'usa_san francisco_club_quarters_san_francisco']\n",
      "\n"
     ]
    }
   ],
   "source": [
    "picky_person.search()"
   ]
  },
  {
   "cell_type": "code",
   "execution_count": 12,
   "metadata": {},
   "outputs": [
    {
     "data": {
      "text/plain": [
       "'2018-05-08 01:06:57.991960'"
      ]
     },
     "execution_count": 12,
     "metadata": {},
     "output_type": "execute_result"
    }
   ],
   "source": [
    "str(datetime.datetime.now())"
   ]
  },
  {
   "cell_type": "markdown",
   "metadata": {},
   "source": [
    "#### I did K-means clustering to help understand why our reccomender picked these choices"
   ]
  },
  {
   "cell_type": "code",
   "execution_count": null,
   "metadata": {
    "scrolled": true
   },
   "outputs": [
    {
     "name": "stdout",
     "output_type": "stream",
     "text": [
      "Fitting K-means\n"
     ]
    }
   ],
   "source": [
    "san_francisco.get_clusters()"
   ]
  },
  {
   "cell_type": "markdown",
   "metadata": {},
   "source": [
    "Cluster 4 words: b'bay', b'embarcadero', b'ferry', b'hyatt', b'ferry', b'bridge', b'view', b'bay', b'concierge', b'financial', b'financial', b'club', b'court', b'priceline', b'bart', b'view', b'valet', b'chinatown', b'market', b'suite',\n",
    "\n",
    "Cluster 4 hotels: usa_san francisco_club_quarters_san_francisco, usa_san francisco_mandarin_oriental, usa_san francisco_harbor_court_hotel_a_kimpton_hotel, usa_san francisco_hotel_griffon, usa_san francisco_le_meridien_san_francisco, usa_san francisco_hilton_san_francisco_financial_district, usa_san francisco_hotel_vitale, usa_san francisco_grand_hyatt_san_francisco, usa_san francisco_hyatt_regency_san_francisco,"
   ]
  },
  {
   "cell_type": "markdown",
   "metadata": {},
   "source": [
    "## Deeper look into: San Francisco Le Meridien San Francisco"
   ]
  },
  {
   "cell_type": "markdown",
   "metadata": {},
   "source": [
    "### Begin Sentiment Topic Modeling"
   ]
  },
  {
   "cell_type": "markdown",
   "metadata": {},
   "source": [
    "- instantiate sentiment topic model"
   ]
  },
  {
   "cell_type": "code",
   "execution_count": 13,
   "metadata": {
    "collapsed": true
   },
   "outputs": [],
   "source": [
    "analyzer = Sentiment_Model('san-francisco', 'usa_san francisco_le_meridien_san_francisco')"
   ]
  },
  {
   "cell_type": "code",
   "execution_count": 14,
   "metadata": {
    "collapsed": true
   },
   "outputs": [],
   "source": [
    "analyzer._get_hotel_reviews()"
   ]
  },
  {
   "cell_type": "markdown",
   "metadata": {},
   "source": [
    "- cluster reviews in Positives, Negatives, Neutrals"
   ]
  },
  {
   "cell_type": "code",
   "execution_count": 15,
   "metadata": {},
   "outputs": [
    {
     "name": "stdout",
     "output_type": "stream",
     "text": [
      "Total reviews: 582\n"
     ]
    }
   ],
   "source": [
    "analyzer.cluter_review_sentiments()"
   ]
  },
  {
   "cell_type": "markdown",
   "metadata": {},
   "source": [
    "- Count vectorizer clusters"
   ]
  },
  {
   "cell_type": "code",
   "execution_count": 16,
   "metadata": {},
   "outputs": [
    {
     "name": "stdout",
     "output_type": "stream",
     "text": [
      "positives count vectorizer shape: (278, 15801)\n",
      "negatives count vectorizer shape: (5, 277)\n"
     ]
    },
    {
     "name": "stderr",
     "output_type": "stream",
     "text": [
      "/Users/steventa/anaconda3/lib/python3.6/site-packages/sklearn/decomposition/online_lda.py:294: DeprecationWarning: n_topics has been renamed to n_components in version 0.19 and will be removed in 0.21\n",
      "  DeprecationWarning)\n",
      "/Users/steventa/anaconda3/lib/python3.6/site-packages/sklearn/decomposition/online_lda.py:536: DeprecationWarning: The default value for 'learning_method' will be changed from 'online' to 'batch' in the release 0.20. This warning was introduced in 0.18.\n",
      "  DeprecationWarning)\n"
     ]
    },
    {
     "name": "stdout",
     "output_type": "stream",
     "text": [
      "Clustering for Positives: CLEANLINESS, ROOM, SERVICE, LOCATION, VALUE\n",
      "Clustering for Negatives: CLEANLINESS, ROOM, SERVICE, LOCATION, VALUE\n",
      "run: pyLDAvis.sklearn.prepare(hotel.lda_tf, hotel.dtm_tf, hotel.tf_vectorizer)\n",
      "run: pyLDAvis.sklearn.prepare(hotel.neg_lda_tf, hotel.neg_dtm_tf, hotel.neg_tf_vectorizer)\n"
     ]
    },
    {
     "name": "stderr",
     "output_type": "stream",
     "text": [
      "/Users/steventa/anaconda3/lib/python3.6/site-packages/sklearn/decomposition/online_lda.py:294: DeprecationWarning: n_topics has been renamed to n_components in version 0.19 and will be removed in 0.21\n",
      "  DeprecationWarning)\n",
      "/Users/steventa/anaconda3/lib/python3.6/site-packages/sklearn/decomposition/online_lda.py:536: DeprecationWarning: The default value for 'learning_method' will be changed from 'online' to 'batch' in the release 0.20. This warning was introduced in 0.18.\n",
      "  DeprecationWarning)\n"
     ]
    }
   ],
   "source": [
    "analyzer.vectorize_clusters()"
   ]
  },
  {
   "cell_type": "code",
   "execution_count": null,
   "metadata": {
    "collapsed": true
   },
   "outputs": [],
   "source": []
  },
  {
   "cell_type": "markdown",
   "metadata": {},
   "source": [
    "# We have ratings for 5 topics. Can our topic modeling find it?\n",
    "\n",
    "- CLEANLINESS\t\n",
    "- ROOM\t\n",
    "- SERVICE\t\n",
    "- LOCATION\n",
    "- VALUE\t"
   ]
  },
  {
   "cell_type": "code",
   "execution_count": null,
   "metadata": {
    "collapsed": true
   },
   "outputs": [],
   "source": []
  },
  {
   "cell_type": "markdown",
   "metadata": {},
   "source": [
    "# Visualize positive clusters"
   ]
  },
  {
   "cell_type": "code",
   "execution_count": 17,
   "metadata": {},
   "outputs": [
    {
     "name": "stderr",
     "output_type": "stream",
     "text": [
      "/Users/steventa/anaconda3/lib/python3.6/site-packages/pyLDAvis/_prepare.py:387: DeprecationWarning: \n",
      ".ix is deprecated. Please use\n",
      ".loc for label based indexing or\n",
      ".iloc for positional indexing\n",
      "\n",
      "See the documentation here:\n",
      "http://pandas.pydata.org/pandas-docs/stable/indexing.html#ix-indexer-is-deprecated\n",
      "  topic_term_dists = topic_term_dists.ix[topic_order]\n"
     ]
    },
    {
     "data": {
      "text/html": [
       "\n",
       "<link rel=\"stylesheet\" type=\"text/css\" href=\"https://cdn.rawgit.com/bmabey/pyLDAvis/files/ldavis.v1.0.0.css\">\n",
       "\n",
       "\n",
       "<div id=\"ldavis_el16581125988348966726967603\"></div>\n",
       "<script type=\"text/javascript\">\n",
       "\n",
       "var ldavis_el16581125988348966726967603_data = {\"mdsDat\": {\"Freq\": [26.33717863644469, 24.624811472986362, 16.85408111019552, 16.81060888467291, 15.373319895700503], \"cluster\": [1, 1, 1, 1, 1], \"topics\": [1, 2, 3, 4, 5], \"x\": [0.012329455412818865, 0.0844473200883405, 0.02551015366748576, -0.009901002329620212, -0.11238592683902489], \"y\": [-0.049742097528876365, -0.05852373610772783, 0.07037726537988999, 0.07823855746059025, -0.04034998920387604]}, \"tinfo\": {\"Category\": [\"Default\", \"Default\", \"Default\", \"Default\", \"Default\", \"Default\", \"Default\", \"Default\", \"Default\", \"Default\", \"Default\", \"Default\", \"Default\", \"Default\", \"Default\", \"Default\", \"Default\", \"Default\", \"Default\", \"Default\", \"Default\", \"Default\", \"Default\", \"Default\", \"Default\", \"Default\", \"Default\", \"Default\", \"Default\", \"Default\", \"Topic1\", \"Topic1\", \"Topic1\", \"Topic1\", \"Topic1\", \"Topic1\", \"Topic1\", \"Topic1\", \"Topic1\", \"Topic1\", \"Topic1\", \"Topic1\", \"Topic1\", \"Topic1\", \"Topic1\", \"Topic1\", \"Topic1\", \"Topic1\", \"Topic1\", \"Topic1\", \"Topic1\", \"Topic1\", \"Topic1\", \"Topic1\", \"Topic1\", \"Topic1\", \"Topic1\", \"Topic1\", \"Topic1\", \"Topic1\", \"Topic1\", \"Topic1\", \"Topic1\", \"Topic1\", \"Topic1\", \"Topic1\", \"Topic1\", \"Topic1\", \"Topic1\", \"Topic1\", \"Topic1\", \"Topic1\", \"Topic1\", \"Topic1\", \"Topic1\", \"Topic1\", \"Topic1\", \"Topic1\", \"Topic1\", \"Topic1\", \"Topic1\", \"Topic1\", \"Topic1\", \"Topic1\", \"Topic1\", \"Topic1\", \"Topic1\", \"Topic1\", \"Topic1\", \"Topic1\", \"Topic1\", \"Topic1\", \"Topic1\", \"Topic1\", \"Topic1\", \"Topic1\", \"Topic1\", \"Topic1\", \"Topic1\", \"Topic1\", \"Topic1\", \"Topic1\", \"Topic1\", \"Topic2\", \"Topic2\", \"Topic2\", \"Topic2\", \"Topic2\", \"Topic2\", \"Topic2\", \"Topic2\", \"Topic2\", \"Topic2\", \"Topic2\", \"Topic2\", \"Topic2\", \"Topic2\", \"Topic2\", \"Topic2\", \"Topic2\", \"Topic2\", \"Topic2\", \"Topic2\", \"Topic2\", \"Topic2\", \"Topic2\", \"Topic2\", \"Topic2\", \"Topic2\", \"Topic2\", \"Topic2\", \"Topic2\", \"Topic2\", \"Topic2\", \"Topic2\", \"Topic2\", \"Topic2\", \"Topic2\", \"Topic2\", \"Topic2\", \"Topic2\", \"Topic2\", \"Topic2\", \"Topic2\", \"Topic2\", \"Topic2\", \"Topic2\", \"Topic2\", \"Topic2\", \"Topic2\", \"Topic2\", \"Topic2\", \"Topic2\", \"Topic2\", \"Topic2\", \"Topic2\", \"Topic2\", \"Topic2\", \"Topic2\", \"Topic2\", \"Topic2\", \"Topic2\", \"Topic2\", \"Topic2\", \"Topic2\", \"Topic2\", \"Topic2\", \"Topic2\", \"Topic3\", \"Topic3\", \"Topic3\", \"Topic3\", \"Topic3\", \"Topic3\", \"Topic3\", \"Topic3\", \"Topic3\", \"Topic3\", \"Topic3\", \"Topic3\", \"Topic3\", \"Topic3\", \"Topic3\", \"Topic3\", \"Topic3\", \"Topic3\", \"Topic3\", \"Topic3\", \"Topic3\", \"Topic3\", \"Topic3\", \"Topic3\", \"Topic3\", \"Topic3\", \"Topic3\", \"Topic3\", \"Topic3\", \"Topic3\", \"Topic3\", \"Topic3\", \"Topic3\", \"Topic3\", \"Topic3\", \"Topic3\", \"Topic3\", \"Topic3\", \"Topic3\", \"Topic3\", \"Topic3\", \"Topic3\", \"Topic3\", \"Topic3\", \"Topic3\", \"Topic3\", \"Topic3\", \"Topic3\", \"Topic3\", \"Topic3\", \"Topic3\", \"Topic3\", \"Topic3\", \"Topic3\", \"Topic3\", \"Topic3\", \"Topic3\", \"Topic3\", \"Topic3\", \"Topic3\", \"Topic3\", \"Topic3\", \"Topic3\", \"Topic3\", \"Topic4\", \"Topic4\", \"Topic4\", \"Topic4\", \"Topic4\", \"Topic4\", \"Topic4\", \"Topic4\", \"Topic4\", \"Topic4\", \"Topic4\", \"Topic4\", \"Topic4\", \"Topic4\", \"Topic4\", \"Topic4\", \"Topic4\", \"Topic4\", \"Topic4\", \"Topic4\", \"Topic4\", \"Topic4\", \"Topic4\", \"Topic4\", \"Topic4\", \"Topic4\", \"Topic4\", \"Topic4\", \"Topic4\", \"Topic4\", \"Topic4\", \"Topic4\", \"Topic4\", \"Topic4\", \"Topic4\", \"Topic4\", \"Topic4\", \"Topic4\", \"Topic4\", \"Topic4\", \"Topic4\", \"Topic4\", \"Topic4\", \"Topic4\", \"Topic4\", \"Topic4\", \"Topic4\", \"Topic4\", \"Topic4\", \"Topic4\", \"Topic4\", \"Topic4\", \"Topic4\", \"Topic4\", \"Topic5\", \"Topic5\", \"Topic5\", \"Topic5\", \"Topic5\", \"Topic5\", \"Topic5\", \"Topic5\", \"Topic5\", \"Topic5\", \"Topic5\", \"Topic5\", \"Topic5\", \"Topic5\", \"Topic5\", \"Topic5\", \"Topic5\", \"Topic5\", \"Topic5\", \"Topic5\", \"Topic5\", \"Topic5\", \"Topic5\", \"Topic5\", \"Topic5\", \"Topic5\", \"Topic5\", \"Topic5\", \"Topic5\", \"Topic5\", \"Topic5\", \"Topic5\", \"Topic5\", \"Topic5\", \"Topic5\", \"Topic5\", \"Topic5\", \"Topic5\", \"Topic5\", \"Topic5\", \"Topic5\", \"Topic5\", \"Topic5\", \"Topic5\", \"Topic5\", \"Topic5\", \"Topic5\", \"Topic5\", \"Topic5\", \"Topic5\", \"Topic5\", \"Topic5\", \"Topic5\", \"Topic5\", \"Topic5\", \"Topic5\", \"Topic5\", \"Topic5\", \"Topic5\", \"Topic5\", \"Topic5\"], \"Freq\": [7.0, 5.0, 34.0, 4.0, 4.0, 26.0, 9.0, 5.0, 12.0, 57.0, 8.0, 14.0, 8.0, 8.0, 9.0, 12.0, 6.0, 14.0, 9.0, 5.0, 8.0, 3.0, 4.0, 4.0, 4.0, 3.0, 3.0, 4.0, 4.0, 3.0, 3.846919638476801, 3.8711409149143807, 3.429223035408354, 3.4307847715890536, 3.4310805349816107, 3.4382687319161147, 3.3946354632815847, 3.0074247131343648, 3.0061389652723025, 3.005914887783243, 3.0037771821274024, 3.0053408013600187, 3.004720832802451, 3.004925609425913, 3.0039566316968416, 3.007891726258456, 3.0035443709096463, 3.00550108941208, 3.0070510564622945, 3.0073991667008135, 3.0050192787134153, 3.0068792824735766, 3.0038446639366354, 3.004310858732255, 3.004900636471286, 3.005819045181365, 3.006431794005785, 3.0057650346946865, 3.006958347036457, 3.0055228318447154, 3.006389832109353, 3.009428468761767, 3.010584951047913, 3.8695094677848454, 3.8500252049876598, 3.009198833972492, 3.879080448675143, 3.819383278567711, 6.708154101936927, 5.8233056912996135, 6.5686949317503815, 6.317460712862359, 21.877410041722587, 4.746130135591129, 5.887867696155905, 3.4467449474810055, 3.426085624037492, 3.8614142259341193, 3.4274373980149497, 6.470560245775444, 3.4241156495248366, 12.761114647373292, 7.206277508856951, 4.313834312649079, 9.436277262879479, 7.0184552560052875, 5.226419914755471, 7.676839147122942, 9.920369895864738, 6.3131824916756285, 5.222068856235273, 5.155916969978248, 5.739299810870191, 6.984902265518888, 7.6472492833111305, 5.18962308044554, 4.720932649094179, 4.844468277477135, 4.331063582614535, 4.351243414277223, 4.557665187580481, 4.757274817458547, 4.16951063114008, 3.6298312672129587, 3.6281610812224283, 3.6258695646401446, 3.575905868845358, 3.2423059821979967, 3.2377824844886596, 3.2382112125306657, 3.2322574906658144, 3.203926305370557, 3.2406189904679836, 3.2073710778046673, 3.226588027677294, 3.1988813235068796, 3.217509760597238, 3.2117941366803673, 3.1876955063588412, 2.812908141693926, 2.816408656881917, 2.815677670082136, 2.8099586354653585, 2.813735870504476, 2.81444196643562, 2.8135837993311448, 2.813179015077994, 2.811703755137875, 2.8131677742640666, 2.811656084892612, 2.8135515046080197, 2.8143106248325362, 2.8109878954756082, 5.49379828974048, 4.065282048823807, 3.159204259028028, 8.798572983279211, 4.062872380649547, 3.640621938430131, 5.32556713503172, 4.493366142840777, 17.1968631140478, 5.463324211274647, 22.55050578644996, 3.6559288933481553, 3.2094278596291916, 3.6547133623982675, 15.390871701349228, 4.057234009229416, 7.125217990872903, 10.461092739775632, 6.178779122638485, 3.6225795505194336, 4.027300502911476, 5.323937743029772, 4.528188841367978, 8.194315705972906, 4.437850322822826, 4.263468428511145, 4.422984844557694, 4.076866022822224, 4.484350274617765, 4.503599512331753, 4.073837055274703, 4.2984973471352825, 4.016942328797884, 3.8849105294726503, 4.031593225852608, 4.267529023943199, 2.53630363896557, 2.528943557931681, 2.528581505506844, 2.5101487494362353, 2.5101852738010435, 2.5281090266875283, 2.5019546816950076, 2.498217015709206, 2.4983333995477164, 2.516554384237449, 2.2066801241996252, 2.205944671311511, 2.2034510275534567, 2.2067112469293386, 2.497015610329928, 2.206507568245656, 2.2035846188262025, 2.195448638870547, 2.2043102135351553, 2.203359399500787, 2.202798777103656, 2.2043367401863723, 2.205861497057631, 2.205622213349471, 2.201914967036861, 2.205852585523665, 2.202345633095107, 2.202448073573138, 2.201734352294717, 2.2072398921233902, 3.1385559481086145, 2.8737456501727525, 2.8660504696695437, 2.2068341054613962, 2.5228744449049523, 9.624854942536945, 2.8401056350713514, 2.5275625034883107, 4.848741722505802, 10.228016005938454, 4.268595606769572, 2.501994326516595, 2.4976118112112786, 2.5370527064628097, 4.629396323544258, 3.1747987984737738, 3.419400858541903, 2.5192958514454316, 5.480405129615514, 7.266957158558568, 3.13895275408732, 3.5619665727933785, 4.771512933001579, 3.187907817010493, 4.39512325311837, 2.7894645626303434, 3.223940040642771, 3.61263897886215, 3.2600524739345222, 2.824710995523102, 2.8698574125927103, 2.7236017641288375, 2.529520269260889, 6.6002958706985355, 2.95358796785904, 2.6032503044526827, 2.572287987655115, 2.3013792312662336, 2.3023244599278057, 2.301826723156895, 2.302264109501036, 2.2874699550098896, 2.2888358718967816, 2.289871210266827, 2.2887370273597902, 2.2875079835954226, 2.2893134580966774, 2.2894782279307377, 2.29154205936297, 2.291187830819956, 2.2887105531216116, 2.284351447458077, 2.2835168836535455, 2.2860098800241637, 2.283292716460339, 2.286738982038469, 2.283960745762022, 2.2843939697591282, 2.287633303657091, 2.2873411045392094, 2.2885390295562704, 2.2888117351283968, 2.284414045284224, 2.287005938450047, 4.453149701991253, 2.287173235542391, 2.2855946590101524, 2.6310354059653656, 2.980137829402032, 2.287649040138296, 3.6629494212438765, 4.589012254613697, 3.8528498882208884, 4.2818230166662605, 4.168752535470252, 4.480964746738498, 2.6436726663063843, 3.3018200796095636, 2.650865441809627, 2.7430315735801654, 2.3022332879213936, 2.3017131301480958, 2.3770360751572563, 2.304755829072867, 2.30216088976312, 2.2952979357242556, 2.290002387335388, 5.433398072432745, 4.262248453271912, 2.3337284476054814, 2.3359517655935584, 2.3324459714400074, 2.315689100752663, 2.3307591062202038, 2.3270136026639645, 2.0327723164066804, 2.035234690698687, 2.035796876441225, 2.0336160152849048, 2.034248882061204, 2.0354010220902996, 2.033369484292538, 2.0356256988973325, 2.032083975897359, 2.032018841173685, 2.0338638869995287, 2.035034859187786, 2.0265220425722066, 2.0243240923795063, 2.0331690737382724, 2.0264096506523597, 2.024054279030833, 2.0251368971310755, 2.024246210504828, 2.022670762912355, 2.0235247834144103, 2.0234328834678537, 2.029086677999714, 2.0269321514502248, 2.3446120071983207, 2.339064622888159, 2.6228413059703, 2.341603025712467, 5.809938286428231, 2.314782272095391, 5.473019289141209, 4.848569002901803, 2.2931822259413566, 2.3165900010474196, 7.632619540688148, 2.307849586647688, 6.042990664923495, 4.443793519679896, 2.3219608754195042, 2.316809273814212, 2.3435289942146555, 2.3099999304943277, 2.648772817123946, 4.2404591034217285, 2.6503514539070894, 4.488046449796858, 2.9590015331574553, 2.960134060773933, 2.346468479396756, 2.328694803201212, 2.3242773576172344, 2.3206760010195966, 2.3200007864969323], \"Term\": [\"bottle alcohol\", \"lobby bar\", \"ferry building\", \"room bay\", \"entertainment stand\", \"view bay\", \"nice view\", \"double double\", \"view room\", \"san francisco\", \"clean comfortable\", \"bay view\", \"hotel amp\", \"wife birthday\", \"ferry bldg\", \"stayed nights\", \"business trips\", \"stayed meridien\", \"hotel service\", \"building great\", \"meridien park\", \"attentive staff\", \"cab ride\", \"room fact\", \"nice sized\", \"hotel park\", \"yerba buena\", \"thoroughly enjoyed\", \"lovely view\", \"nice linens\", \"view service\", \"staff really\", \"chinatown ferry\", \"arrived early\", \"city lights\", \"excellent rate\", \"room spectacular\", \"expectations location\", \"hotel returning\", \"choices served\", \"amenities plenty\", \"getaway loved\", \"embarcedero glutting\", \"parking rip\", \"limited use\", \"huge gorgeous\", \"departed highly\", \"narrow view\", \"gorgeous wrong\", \"bookstore brandy\", \"awesome views\", \"glutting cowgirl\", \"check fitness\", \"rip tax\", \"amp ferry\", \"really meet\", \"market amazing\", \"rooms beautifully\", \"turndown service\", \"amazing array\", \"service worth\", \"priority rooms\", \"splurging exercise\", \"rate hotel\", \"good room\", \"included didn\", \"farmers market\", \"weekend san\", \"ferry bldg\", \"wife birthday\", \"hotel staff\", \"hotel service\", \"san francisco\", \"room large\", \"meridien park\", \"view amazing\", \"building bay\", \"hotel website\", \"street cable\", \"coit tower\", \"saturday morning\", \"union square\", \"north beach\", \"nice hotel\", \"view bay\", \"room service\", \"room great\", \"park hyatt\", \"financial district\", \"room floor\", \"highly recommend\", \"staff friendly\", \"bay view\", \"bay bridge\", \"ferry building\", \"view room\", \"great room\", \"friendly helpful\", \"recommend hotel\", \"cable car\", \"stayed meridien\", \"walking distance\", \"bed comfortable\", \"gave room\", \"overlooking bay\", \"floor overlooking\", \"district right\", \"choice business\", \"car available\", \"located downtown\", \"hotel central\", \"given great\", \"embarcardero center\", \"bed linens\", \"nicely appointed\", \"wharf hotel\", \"don feel\", \"square hotel\", \"right embarcadero\", \"public parking\", \"makes worth\", \"stay lot\", \"amp pick\", \"downtown near\", \"ferry ride\", \"beautiful wide\", \"blocks walking\", \"meridien stayed\", \"used hyatt\", \"night public\", \"bay hotel\", \"amp shopping\", \"veryexpensive night\", \"business trips\", \"perfect business\", \"nice helpful\", \"stayed nights\", \"suite floor\", \"rooms location\", \"hotel located\", \"nights meridien\", \"financial district\", \"hotel amp\", \"san francisco\", \"high quality\", \"floor nice\", \"needless say\", \"union square\", \"business district\", \"place stay\", \"walking distance\", \"great location\", \"beautiful hotel\", \"fishermans wharf\", \"embarcadero center\", \"meridien san\", \"ferry building\", \"stay san\", \"hotel great\", \"cable car\", \"junior suite\", \"fisherman wharf\", \"room floor\", \"great room\", \"view bay\", \"friendly helpful\", \"great hotel\", \"park hyatt\", \"entertainment stand\", \"bay small\", \"pleasant helpful\", \"excellent experience\", \"helpful rooms\", \"great didn\", \"short drive\", \"ferry alcatraz\", \"quite spacious\", \"hotel got\", \"probably worth\", \"past trip\", \"reservations little\", \"given excellent\", \"prices travelzoo\", \"weekend away\", \"share great\", \"wharf manageable\", \"lucky land\", \"separate bedroom\", \"definitely great\", \"balcony living\", \"excellent making\", \"modern black\", \"guests amp\", \"bathroom amenities\", \"confirming reservations\", \"facing bay\", \"suggestions amp\", \"fabulous corner\", \"loved past\", \"cab ride\", \"hotel park\", \"yerba buena\", \"amp white\", \"night got\", \"view bay\", \"coffee tea\", \"got free\", \"nice view\", \"ferry building\", \"clean comfortable\", \"nice little\", \"using starwood\", \"deal hotel\", \"great view\", \"got great\", \"nob hill\", \"tub shower\", \"bay bridge\", \"san francisco\", \"comfortable beds\", \"stayed hotel\", \"walking distance\", \"corner room\", \"financial district\", \"enjoyed stay\", \"great location\", \"union square\", \"park hyatt\", \"great hotel\", \"place stay\", \"north beach\", \"great deal\", \"bottle alcohol\", \"attentive staff\", \"nice linens\", \"rooms lovely\", \"service courteous\", \"staff clean\", \"friendly attentive\", \"stay sanfran\", \"time said\", \"various places\", \"smoking deliberately\", \"fourth floor\", \"view clean\", \"shaving mirror\", \"happens upgrade\", \"ridiculous stand\", \"really beautiful\", \"absolutely view\", \"mirror room\", \"registration desk\", \"reverberating alley\", \"thier check\", \"soaps open\", \"surprised small\", \"thing renovating\", \"previous stay\", \"clock began\", \"small absolutely\", \"deliberately did\", \"double bucks\", \"follow management\", \"double double\", \"dumpster reverberating\", \"rate ridiculous\", \"desk said\", \"lovely view\", \"little mention\", \"definitely stay\", \"walking distance\", \"room service\", \"financial district\", \"union square\", \"san francisco\", \"bathroom large\", \"park hyatt\", \"clean comfortable\", \"bay bridge\", \"courteous friendly\", \"terrific service\", \"hotel great\", \"view definitely\", \"comfortable rooms\", \"said room\", \"room fine\", \"lobby bar\", \"room bay\", \"marble bathrooms\", \"area dead\", \"small terrace\", \"located close\", \"hotel need\", \"weekend rooms\", \"service prior\", \"helpful visiting\", \"bartendars friendly\", \"stay changed\", \"changed park\", \"hyatt quality\", \"comfort service\", \"quality comfort\", \"prior management\", \"william bartendars\", \"especially william\", \"husband loved\", \"extended hour\", \"counter high\", \"visiting doubt\", \"desk bar\", \"desk bell\", \"pool spa\", \"meridien outside\", \"professional friendly\", \"replaced carpet\", \"nights year\", \"small gym\", \"near small\", \"clean large\", \"meridien stay\", \"large clean\", \"water pressure\", \"stayed meridien\", \"nice amenities\", \"bay view\", \"view room\", \"right hotel\", \"spent night\", \"ferry building\", \"shower tub\", \"bay bridge\", \"fisherman wharf\", \"web site\", \"night meridien\", \"large room\", \"breakfast morning\", \"concierge desk\", \"walking distance\", \"rooms nice\", \"union square\", \"friendly helpful\", \"park hyatt\", \"great service\", \"room great\", \"hotel clean\", \"farmer market\", \"loved hotel\"], \"Total\": [7.0, 5.0, 34.0, 4.0, 4.0, 26.0, 9.0, 5.0, 12.0, 57.0, 8.0, 14.0, 8.0, 8.0, 9.0, 12.0, 6.0, 14.0, 9.0, 5.0, 8.0, 3.0, 4.0, 4.0, 4.0, 3.0, 3.0, 4.0, 4.0, 3.0, 4.30279573733673, 4.333900241731324, 3.877756100160714, 3.8833183891096916, 3.884846130476465, 3.9098013379257193, 3.869886429802383, 3.4489275648414477, 3.450418062294263, 3.4502128295829597, 3.4480008611826465, 3.4498773719994165, 3.4493278990578893, 3.450058421126211, 3.4493480858513705, 3.4540173280266036, 3.4490757340494893, 3.45135050407451, 3.453134407789675, 3.4535384204648816, 3.4508357922817745, 3.4530111414846436, 3.449804324106878, 3.450762415157245, 3.4516016491425785, 3.452707496248875, 3.4534298702703774, 3.4529948347126296, 3.4544777996365617, 3.4528749166850243, 3.4539186775797748, 3.457593642973994, 3.459193728751346, 4.641378377543344, 4.694817536814562, 3.4577304429120708, 4.769601704928889, 4.68730968310039, 9.838515955695325, 8.24670551212785, 10.040022767567256, 9.746747304543753, 57.77385233961462, 6.606459618592411, 8.991573180276923, 4.222132665082668, 4.19271751679455, 5.095877452197439, 4.273731134317733, 12.471747557870891, 4.301496633523408, 40.421424312851784, 15.383410288074595, 6.422764597659025, 26.64772662421941, 16.637634882348372, 9.70444844907803, 21.230438987293567, 37.62444040371631, 16.280493644517268, 11.089407387697664, 11.077029916093421, 14.620628037912631, 24.639099538160735, 34.82925383887662, 12.42942781987239, 10.356625916482159, 13.710684273810774, 8.723067854763531, 10.25817680558072, 14.597778829819502, 28.81935184827118, 9.439316777838583, 4.095186733622038, 4.0989450212539165, 4.096544424406546, 4.063100509458233, 3.6999748608356406, 3.698873079460083, 3.7002107591541313, 3.69391952225568, 3.663459692375415, 3.7055221551687603, 3.6698127333570705, 3.6984430396848422, 3.6684790562068508, 3.700814000778741, 3.6967990986668156, 3.6711527780949025, 3.2650574844329774, 3.269921282618142, 3.2696231749024944, 3.26315767272684, 3.268491728045549, 3.269415125870878, 3.2685721745441985, 3.2684683168950097, 3.2667600952512, 3.268468609955359, 3.266881403514283, 3.269399957290677, 3.2702851567135798, 3.2665222255601845, 6.407878387541309, 4.823029993104272, 3.706315506150702, 12.006382442657788, 4.979801094542785, 4.415812880076159, 7.023951256471245, 5.979178614605566, 37.62444040371631, 8.052977028512695, 57.77385233961462, 4.757278467380792, 3.959235944581647, 4.796456304196285, 40.421424312851784, 5.6214407199329886, 14.34574459678975, 28.81935184827118, 14.179997072663879, 4.796128422029401, 6.073562586940832, 11.655083837274825, 8.264286546872802, 34.82925383887662, 7.956090590876711, 8.78947775004297, 10.25817680558072, 7.966701322898631, 14.489067943689431, 16.280493644517268, 10.356625916482159, 26.64772662421941, 13.710684273810774, 9.357057864913216, 21.230438987293567, 4.811530069202456, 3.0333910590834763, 3.0287578793473755, 3.032483528001277, 3.012868326280898, 3.0157342876609685, 3.0403894944272376, 3.0161516627187557, 3.014038196416342, 3.0149422282513667, 3.043231696078931, 2.69083510856841, 2.6927665488301553, 2.6917491826672393, 2.69699755967292, 3.0519204250830363, 2.697484710393809, 2.693917357079581, 2.6840250236452596, 2.6952454456304635, 2.694768966983511, 2.6943166620719903, 2.6964428835626384, 2.6985958025994803, 2.698403071236453, 2.6948302174470986, 2.699719813821592, 2.695605275834036, 2.695775688184387, 2.6950953158725492, 2.7019024824315663, 4.084022686954987, 3.700345518392018, 3.7237941402254258, 2.7024114308130396, 3.316867315726502, 26.64772662421941, 4.01449486641001, 3.366686233866229, 9.802897424694159, 34.82925383887662, 8.169417294498016, 3.345398463168787, 3.344169794856801, 3.4885441180404766, 11.754476948013245, 5.662228036310571, 6.712920049170676, 3.663565968981729, 24.639099538160735, 57.77385233961462, 6.636719136140269, 9.738013304679987, 28.81935184827118, 8.559392530402725, 37.62444040371631, 5.757140438218714, 14.179997072663879, 40.421424312851784, 21.230438987293567, 9.357057864913216, 14.34574459678975, 15.383410288074595, 4.476250256842821, 7.169136345550525, 3.4333933895009503, 3.1134605322476596, 3.099415535882585, 2.7832379552692705, 2.7868922412656665, 2.7879152657194113, 2.788501536309952, 2.780227307607908, 2.7819332426885026, 2.7864306566810377, 2.786437003639547, 2.7850200713690896, 2.7872554366425724, 2.7878421542759764, 2.790623850743895, 2.7909237224523347, 2.7879566820797357, 2.7830338706452564, 2.7838686427315134, 2.7870318758092187, 2.7838753094032285, 2.788118551640732, 2.7847455523594933, 2.7853797375507283, 2.789366369907452, 2.7890881692550606, 2.7907466303551547, 2.7912157869080936, 2.7860904689091104, 2.7892752493144, 5.605315460726366, 2.790111026222234, 2.7876092854297703, 3.4478776165860396, 4.314292102487269, 2.792247183723011, 9.212159390223773, 28.81935184827118, 16.637634882348372, 37.62444040371631, 40.421424312851784, 57.77385233961462, 5.319287455704708, 21.230438987293567, 8.169417294498016, 24.639099538160735, 3.0929360091863574, 3.0969546755289166, 8.78947775004297, 3.3610683858523256, 3.4057170587453167, 3.242906951634841, 3.0756217608433443, 5.943278623208711, 4.7765564965369585, 2.8338352647980374, 2.841499295012064, 2.8425469206325626, 2.823131541629986, 2.8427011469296843, 2.8455986429653133, 2.520750667519166, 2.5251517727012285, 2.5293124915078926, 2.5272560168529665, 2.528697014862039, 2.530170118224672, 2.527700448872099, 2.532775575608055, 2.530236367395309, 2.5303899407370496, 2.532793184076265, 2.5350616615170987, 2.5271910724272533, 2.5244969035696143, 2.535754652441715, 2.5275141072445955, 2.5247414815626437, 2.5263529889275373, 2.5256403734552064, 2.5238064904258324, 2.5257881774806887, 2.5256973951784194, 2.53342174933793, 2.5314166112935146, 3.1504708742125604, 3.1621070788323995, 3.8346400581452036, 3.1937826965811484, 14.597778829819502, 3.1640308147409133, 14.620628037912631, 12.42942781987239, 3.166277765857715, 3.24561925656512, 34.82925383887662, 3.2780723201029796, 24.639099538160735, 14.489067943689431, 3.580311132826764, 3.5928510371896167, 3.7446648836085625, 3.6176271160410987, 5.54245756245022, 28.81935184827118, 6.041576680118452, 40.421424312851784, 13.710684273810774, 21.230438987293567, 4.654802477252557, 9.70444844907803, 6.761126150511451, 6.245907855266761, 6.532123982462373], \"loglift\": [30.0, 29.0, 28.0, 27.0, 26.0, 25.0, 24.0, 23.0, 22.0, 21.0, 20.0, 19.0, 18.0, 17.0, 16.0, 15.0, 14.0, 13.0, 12.0, 11.0, 10.0, 9.0, 8.0, 7.0, 6.0, 5.0, 4.0, 3.0, 2.0, 1.0, 1.2222, 1.2213, 1.2113, 1.2103, 1.21, 1.2057, 1.2032, 1.1972, 1.1963, 1.1963, 1.1963, 1.1962, 1.1962, 1.1961, 1.1959, 1.1959, 1.1959, 1.1959, 1.1959, 1.1959, 1.1959, 1.1958, 1.1958, 1.1956, 1.1956, 1.1956, 1.1956, 1.1955, 1.1954, 1.1954, 1.1954, 1.1954, 1.1953, 1.1523, 1.1358, 1.1953, 1.1275, 1.1294, 0.9512, 0.9862, 0.9099, 0.9006, 0.3631, 1.0035, 0.9108, 1.1313, 1.1323, 1.0568, 1.1135, 0.678, 1.1061, 0.1812, 0.5759, 0.9362, 0.296, 0.4711, 0.7153, 0.317, 0.0011, 0.3869, 0.5811, 0.5695, 0.3991, 0.0736, -0.1819, 0.4608, 0.5486, 0.2939, 0.634, 0.4766, 0.1701, -0.4672, 0.5171, 1.2808, 1.2794, 1.2794, 1.2737, 1.2694, 1.2683, 1.268, 1.2679, 1.2674, 1.2674, 1.2667, 1.2649, 1.2644, 1.2615, 1.2608, 1.2602, 1.2524, 1.2521, 1.2519, 1.2519, 1.2516, 1.2516, 1.2515, 1.2514, 1.2514, 1.2514, 1.2514, 1.2513, 1.2513, 1.2512, 1.2475, 1.2305, 1.2417, 1.0906, 1.1979, 1.2084, 1.1246, 1.1157, 0.6185, 1.0134, 0.4606, 1.1381, 1.1915, 1.1296, 0.4358, 1.0753, 0.7016, 0.388, 0.5707, 1.1208, 0.9906, 0.6179, 0.7998, -0.0456, 0.8176, 0.6779, 0.5602, 0.7315, 0.2286, 0.1163, 0.4684, -0.423, 0.1738, 0.5224, -0.2599, 1.6606, 1.6016, 1.6002, 1.5989, 1.598, 1.5971, 1.5961, 1.5937, 1.5929, 1.5926, 1.5905, 1.5822, 1.5812, 1.5804, 1.5799, 1.5799, 1.5797, 1.5797, 1.5796, 1.5795, 1.5792, 1.5792, 1.5791, 1.579, 1.5789, 1.5786, 1.5785, 1.5785, 1.5785, 1.5784, 1.5784, 1.5173, 1.5278, 1.5188, 1.578, 1.507, 0.7622, 1.4345, 1.4939, 1.0766, 0.5553, 1.1315, 1.4901, 1.4887, 1.4621, 0.8488, 1.202, 1.106, 1.4061, 0.2774, -0.2926, 1.0318, 0.7749, -0.0178, 0.7929, -0.3666, 1.056, 0.2993, -0.6343, -0.0931, 0.5829, 0.1714, 0.0492, 1.2098, 1.7005, 1.6326, 1.6042, 1.5967, 1.5931, 1.5922, 1.5916, 1.5915, 1.5881, 1.5881, 1.5869, 1.5864, 1.5864, 1.5864, 1.5862, 1.5861, 1.5859, 1.5858, 1.5857, 1.585, 1.585, 1.5849, 1.5849, 1.5849, 1.5849, 1.5849, 1.5848, 1.5848, 1.5847, 1.5846, 1.5846, 1.5531, 1.5844, 1.5846, 1.5128, 1.4132, 1.5838, 0.8609, -0.0542, 0.3203, -0.3901, -0.4886, -0.7735, 1.084, -0.0778, 0.6576, -0.4121, 1.4879, 1.4864, 0.4755, 1.4059, 1.3916, 1.4376, 1.4882, 1.7828, 1.7586, 1.6784, 1.6766, 1.6748, 1.6744, 1.674, 1.6713, 1.6574, 1.6568, 1.6555, 1.6552, 1.655, 1.6549, 1.6549, 1.654, 1.6533, 1.6532, 1.6532, 1.6528, 1.6517, 1.6517, 1.6516, 1.6516, 1.6515, 1.6514, 1.6512, 1.6512, 1.6508, 1.6508, 1.6506, 1.6503, 1.5771, 1.571, 1.4927, 1.5622, 0.9512, 1.56, 0.8899, 0.9312, 1.5499, 1.5353, 0.3545, 1.5216, 0.4671, 0.6907, 1.4395, 1.4338, 1.4039, 1.424, 1.1342, -0.0438, 1.0486, -0.3254, 0.3392, -0.0977, 1.1875, 0.4453, 0.8048, 0.8825, 0.8374], \"logprob\": [30.0, 29.0, 28.0, 27.0, 26.0, 25.0, 24.0, 23.0, 22.0, 21.0, 20.0, 19.0, 18.0, 17.0, 16.0, 15.0, 14.0, 13.0, 12.0, 11.0, 10.0, 9.0, 8.0, 7.0, 6.0, 5.0, 4.0, 3.0, 2.0, 1.0, -7.2313, -7.2251, -7.3463, -7.3458, -7.3457, -7.3436, -7.3564, -7.4775, -7.4779, -7.478, -7.4787, -7.4782, -7.4784, -7.4784, -7.4787, -7.4774, -7.4788, -7.4782, -7.4776, -7.4775, -7.4783, -7.4777, -7.4787, -7.4786, -7.4784, -7.4781, -7.4779, -7.4781, -7.4777, -7.4782, -7.4779, -7.4769, -7.4765, -7.2255, -7.2305, -7.4769, -7.223, -7.2385, -6.6753, -6.8167, -6.6963, -6.7353, -5.4932, -7.0213, -6.8057, -7.3412, -7.3472, -7.2276, -7.3468, -6.7113, -7.3478, -6.0322, -6.6037, -7.1168, -6.334, -6.6301, -6.9249, -6.5404, -6.284, -6.736, -6.9257, -6.9385, -6.8313, -6.6349, -6.5443, -6.9319, -7.0266, -7.0008, -7.1128, -7.1081, -7.0618, -7.0189, -7.1508, -7.2222, -7.2227, -7.2233, -7.2372, -7.3351, -7.3365, -7.3364, -7.3382, -7.347, -7.3356, -7.3459, -7.34, -7.3486, -7.3428, -7.3445, -7.3521, -7.4772, -7.4759, -7.4762, -7.4782, -7.4769, -7.4766, -7.4769, -7.4771, -7.4776, -7.4771, -7.4776, -7.4769, -7.4767, -7.4778, -6.8078, -7.1089, -7.3611, -6.3368, -7.1095, -7.2192, -6.8389, -7.0088, -5.6667, -6.8133, -5.3956, -7.215, -7.3453, -7.2154, -5.7776, -7.1109, -6.5477, -6.1637, -6.6903, -7.2242, -7.1183, -6.8392, -7.0011, -6.4079, -7.0212, -7.0613, -7.0246, -7.106, -7.0108, -7.0065, -7.1068, -7.0531, -7.1209, -7.1543, -7.1172, -6.6812, -7.2015, -7.2044, -7.2046, -7.2119, -7.2119, -7.2047, -7.2151, -7.2166, -7.2166, -7.2093, -7.3407, -7.3411, -7.3422, -7.3407, -7.2171, -7.3408, -7.3421, -7.3458, -7.3418, -7.3422, -7.3425, -7.3418, -7.3411, -7.3412, -7.3429, -7.3411, -7.3427, -7.3426, -7.343, -7.3405, -6.9885, -7.0766, -7.0793, -7.3407, -7.2068, -5.8679, -7.0884, -7.205, -6.5535, -5.8071, -6.6809, -7.2151, -7.2169, -7.2012, -6.5998, -6.977, -6.9028, -7.2082, -6.431, -6.1489, -6.9883, -6.8619, -6.5696, -6.9729, -6.6517, -7.1064, -6.9616, -6.8478, -6.9505, -7.0938, -7.078, -7.1303, -7.2042, -6.2425, -7.0466, -7.1729, -7.1848, -7.2961, -7.2957, -7.2959, -7.2957, -7.3022, -7.3016, -7.3011, -7.3016, -7.3022, -7.3014, -7.3013, -7.3004, -7.3006, -7.3016, -7.3036, -7.3039, -7.3028, -7.304, -7.3025, -7.3037, -7.3035, -7.3021, -7.3022, -7.3017, -7.3016, -7.3035, -7.3024, -6.636, -7.3023, -7.303, -7.1623, -7.0377, -7.3021, -6.8314, -6.606, -6.7808, -6.6753, -6.702, -6.6298, -7.1575, -6.9352, -7.1547, -7.1206, -7.2958, -7.296, -7.2638, -7.2947, -7.2958, -7.2988, -7.3011, -6.3477, -6.5905, -7.1928, -7.1918, -7.1933, -7.2006, -7.1941, -7.1957, -7.3309, -7.3296, -7.3294, -7.3304, -7.3301, -7.3296, -7.3306, -7.3295, -7.3312, -7.3312, -7.3303, -7.3297, -7.3339, -7.335, -7.3307, -7.334, -7.3352, -7.3346, -7.3351, -7.3358, -7.3354, -7.3355, -7.3327, -7.3337, -7.1881, -7.1905, -7.076, -7.1894, -6.2807, -7.2009, -6.3404, -6.4616, -7.2103, -7.2002, -6.0078, -7.2039, -6.2414, -6.5487, -7.1978, -7.2001, -7.1886, -7.203, -7.0662, -6.5956, -7.0656, -6.5388, -6.9554, -6.955, -7.1873, -7.1949, -7.1968, -7.1984, -7.1987]}, \"token.table\": {\"Topic\": [4, 1, 1, 1, 2, 2, 3, 5, 1, 4, 1, 3, 5, 3, 1, 2, 4, 1, 2, 3, 4, 5, 2, 3, 1, 2, 4, 5, 2, 2, 1, 2, 4, 5, 2, 2, 1, 4, 1, 5, 1, 3, 5, 1, 2, 3, 1, 2, 2, 3, 1, 2, 5, 2, 5, 1, 1, 2, 1, 1, 2, 3, 4, 5, 4, 3, 1, 2, 3, 4, 5, 5, 1, 2, 3, 5, 3, 4, 1, 2, 5, 3, 1, 2, 3, 5, 4, 1, 3, 3, 1, 2, 3, 4, 4, 1, 5, 5, 4, 2, 2, 4, 3, 4, 2, 4, 1, 2, 3, 4, 5, 2, 1, 1, 2, 3, 3, 5, 3, 3, 1, 1, 5, 3, 3, 1, 2, 3, 5, 1, 2, 3, 1, 2, 1, 2, 3, 4, 5, 2, 1, 2, 3, 4, 5, 1, 2, 3, 4, 5, 1, 2, 2, 2, 4, 4, 4, 1, 2, 3, 4, 5, 2, 1, 3, 2, 1, 1, 2, 1, 3, 1, 2, 3, 1, 2, 3, 5, 3, 1, 2, 3, 4, 5, 1, 2, 3, 4, 5, 1, 2, 5, 2, 4, 5, 1, 2, 3, 5, 3, 4, 3, 5, 2, 1, 2, 3, 4, 5, 2, 3, 2, 1, 2, 4, 5, 3, 1, 2, 4, 2, 3, 5, 3, 1, 1, 2, 5, 1, 2, 3, 5, 1, 2, 1, 5, 5, 1, 1, 2, 3, 2, 5, 1, 5, 1, 4, 5, 5, 2, 1, 2, 5, 3, 1, 2, 4, 3, 2, 5, 1, 5, 1, 2, 1, 2, 3, 4, 5, 2, 4, 3, 1, 5, 2, 3, 5, 2, 1, 2, 5, 4, 3, 3, 5, 1, 2, 3, 2, 3, 1, 5, 2, 1, 2, 5, 1, 2, 3, 1, 2, 3, 4, 5, 2, 1, 2, 3, 4, 5, 1, 3, 2, 1, 2, 3, 4, 5, 3, 5, 4, 3, 5, 1, 3, 5, 2, 5, 3, 1, 4, 4, 1, 1, 2, 3, 4, 4, 5, 3, 4, 4, 2, 5, 1, 5, 4, 5, 4, 1, 2, 3, 4, 5, 1, 2, 3, 5, 1, 2, 1, 2, 3, 4, 5, 1, 1, 2, 4, 1, 2, 5, 1, 4, 1, 2, 3, 4, 5, 1, 2, 3, 4, 5, 1, 3, 4, 3, 1, 5, 4, 5, 5, 4, 4, 2, 5, 1, 2, 4, 1, 2, 3, 4, 5, 1, 5, 2, 1, 2, 3, 4, 1, 2, 3, 5, 1, 2, 3, 4, 5, 1, 2, 4, 5, 1, 2, 3, 1, 2, 4, 4, 4, 4, 3, 5, 4, 3, 5, 1, 1, 2, 3, 4, 5, 2, 3, 4, 2, 1, 1, 2, 3, 4, 5, 4, 4, 5, 1, 2, 5, 1, 5, 1, 2, 3, 4, 5, 5, 2, 5, 3, 5, 1, 2, 2, 3, 1, 5, 5, 3], \"Freq\": [0.7173712607715473, 0.8688412040364867, 0.8700693882573497, 0.8691617124314557, 0.9193549012582852, 0.9173511960696423, 0.7400797588390476, 0.7038537730805626, 0.7725351617866684, 0.873771123685904, 0.8693546087327235, 0.7423032445124527, 0.7907287085779053, 0.7421617833477709, 0.3759902085861304, 0.1879951042930652, 0.5639853128791956, 0.2841012914923488, 0.12175769635386377, 0.2029294939231063, 0.12175769635386377, 0.24351539270772754, 0.9175995715391376, 0.9889921680280929, 0.4103790879872909, 0.13679302932909695, 0.06839651466454848, 0.3419825733227424, 0.8340060248652531, 0.9178319583591111, 0.4237594832489477, 0.10593987081223692, 0.10593987081223692, 0.21187974162447384, 0.8174804051256481, 0.9178611230504293, 0.8686742797539717, 0.9764077097437966, 0.2764242880549658, 0.5528485761099317, 0.7155263830637424, 0.569389896419203, 0.37959326427946866, 0.17789033982945224, 0.711561359317809, 0.17789033982945224, 0.15605789303746417, 0.7802894651873209, 0.24485662217160492, 0.7345698665148147, 0.389932838535586, 0.389932838535586, 0.0974832096338965, 0.8110578372259002, 0.7909211693790513, 0.8696145398845692, 0.7736432933148283, 0.8108163197958725, 0.8695115774532151, 0.7722313572383518, 0.12240775124481466, 0.48963100497925865, 0.367223253734444, 0.6348257387079913, 0.717080235055524, 0.747292025480349, 0.48108735140436787, 0.24054367570218393, 0.0801812252340613, 0.0801812252340613, 0.0801812252340613, 0.7912329963356348, 0.15067685997957903, 0.15067685997957903, 0.4520305799387371, 0.15067685997957903, 0.29362392199673953, 0.5872478439934791, 0.18042537786395213, 0.18042537786395213, 0.5412761335918563, 0.7408176173544829, 0.4673228836967239, 0.11683072092418098, 0.3504921627725429, 0.7922370580736381, 0.6466347813403776, 0.2866525307301266, 0.8599575921903797, 0.7421786522348051, 0.3256565451075122, 0.10855218170250405, 0.2171043634050081, 0.4342087268100162, 0.7165336371988118, 0.869798239100352, 0.7912913301917542, 0.7921603120974333, 0.8701004889409296, 0.9844698625319886, 0.8106324714964673, 0.7178517791574431, 0.17840209119477723, 0.7136083647791089, 0.91785454870767, 0.7168173528592402, 0.2573984058703653, 0.4289973431172755, 0.0857994686234551, 0.0857994686234551, 0.0857994686234551, 0.8096024998299791, 0.8697346520229017, 0.17369734345223037, 0.17369734345223037, 0.521092030356691, 0.8313363820800205, 0.7896420491708721, 0.9892881436283721, 0.7417179174058852, 0.7673024127593144, 0.8698356064598632, 0.7913924759472539, 0.7420887818776424, 0.7419483920475665, 0.1601048275402856, 0.1601048275402856, 0.3202096550805712, 0.3202096550805712, 0.8386444503041867, 0.20966111257604667, 0.9946449434494959, 0.7114894188841394, 0.3049240366646312, 0.22969197207062625, 0.22969197207062625, 0.2871149650882828, 0.02871149650882828, 0.22969197207062625, 0.9175953142997973, 0.26578468391020277, 0.4518339626473447, 0.1063138735640811, 0.1063138735640811, 0.05315693678204055, 0.2760702079350908, 0.2760702079350908, 0.0690175519837727, 0.0690175519837727, 0.2760702079350908, 0.16464801106193688, 0.6585920442477475, 0.7577219549407266, 0.9764327163569007, 0.7170321396182027, 0.7177625036516776, 0.7173819178051336, 0.36467909990099207, 0.29174327992079363, 0.07293581998019841, 0.07293581998019841, 0.21880745994059525, 0.9767564363205854, 0.8695961266186442, 0.7430112779000498, 0.8188980504531708, 0.8688069273677846, 0.8520032927017657, 0.21300082317544142, 0.8687759136257535, 0.8910839298959159, 0.17660892383479243, 0.17660892383479243, 0.5298267715043773, 0.22340127173884103, 0.22340127173884103, 0.6702038152165231, 0.22340127173884103, 0.9947826014628192, 0.10687119973360074, 0.42748479893440294, 0.32061359920080224, 0.10687119973360074, 0.10687119973360074, 0.14104375267154245, 0.42313125801462736, 0.21156562900731368, 0.07052187633577123, 0.07052187633577123, 0.48278271710506593, 0.3862261736840527, 0.09655654342101318, 0.21483188704287157, 0.21483188704287157, 0.42966377408574313, 0.2552219050892829, 0.17014793672618858, 0.4253698418154715, 0.08507396836309429, 0.7411791149064942, 0.7174007312187354, 0.9957288786341411, 0.7920316004849648, 0.8408168719629889, 0.4508807211417705, 0.2705284326850623, 0.0901761442283541, 0.0901761442283541, 0.0901761442283541, 0.6208883972097273, 0.24835535888389096, 0.8121454682283006, 0.1479043546502019, 0.2958087093004038, 0.1479043546502019, 0.2958087093004038, 0.6633626280660038, 0.22754480492202422, 0.45508960984404845, 0.22754480492202422, 0.7118500424377865, 0.1423700084875573, 0.7035561941360384, 0.8107351016517094, 0.8694598584396553, 0.6155899822295496, 0.1025983303715916, 0.2051966607431832, 0.6972095743261081, 0.09960136776087258, 0.09960136776087258, 0.09960136776087258, 0.7849482326689634, 0.19623705816724085, 0.8685538360382231, 0.7889354449876013, 0.7904606830956201, 0.8676211317020496, 0.12552246651016116, 0.5020898660406447, 0.2510449330203223, 0.2607806690685058, 0.7823420072055173, 0.2670465932418352, 0.5340931864836704, 0.8697295620310056, 0.7162689648891767, 0.8412864879790131, 0.7084331603072466, 0.8107646280899417, 0.459268686273329, 0.15308956209110966, 0.3061791241822193, 0.7402191652009987, 0.23178773626001853, 0.23178773626001853, 0.6953632087800555, 0.7451495356342605, 0.9174532781406827, 0.7057573264205026, 0.8687015844236973, 0.7918783770723054, 0.6672914605378557, 0.33364573026892785, 0.24200516144455303, 0.6050129036113826, 0.12100258072227651, 0.12100258072227651, 0.6324896501412898, 0.9183410818446749, 0.718640193745214, 0.7411261805393223, 0.8692249588844524, 0.7900714529079553, 0.833949012836938, 0.2084872532092345, 0.632105095399891, 0.8094292013244534, 0.6227847742478252, 0.1556961935619563, 0.1556961935619563, 0.9635580631029389, 0.8967541633765136, 0.43027956630556213, 0.43027956630556213, 0.10201065630666833, 0.40804262522667334, 0.5100532815333417, 0.8111521437019727, 0.9044678952865808, 0.27833049287292894, 0.5566609857458579, 0.9183069813225572, 0.16724705255622607, 0.6689882102249043, 0.7918604991310595, 0.1489664695356444, 0.1489664695356444, 0.44689940860693317, 0.4550356435221964, 0.19501527579522704, 0.19501527579522704, 0.06500509193174234, 0.06500509193174234, 0.9758608566982808, 0.3768174555781916, 0.1884087277890958, 0.14130654584182184, 0.14130654584182184, 0.14130654584182184, 0.8695504927191067, 0.7432636781166605, 0.8293541623666038, 0.06970708235135994, 0.4879495764595196, 0.20912124705407983, 0.06970708235135994, 0.1394141647027199, 0.99050505834637, 0.791655009717791, 0.7170087162362819, 0.7415653725109603, 0.790439986466107, 0.8676554591937524, 0.9857941489848988, 0.7924537826442263, 0.9188199639066973, 0.7896475389533283, 0.6635615973208229, 0.8618129518061783, 0.7174606608083732, 0.7166086209775149, 0.868883333806669, 0.4585542685897671, 0.11463856714744178, 0.22927713429488356, 0.11463856714744178, 0.718424701977897, 0.7918320379481986, 0.7427305574888694, 0.7176093023404324, 0.7166856254979908, 0.817182008305525, 0.6316565215996515, 0.8693730947174743, 0.8374233619763594, 0.4226629982275149, 0.4226629982275149, 0.6502750193351455, 0.3685391936515759, 0.30711599470964657, 0.12284639788385864, 0.06142319894192932, 0.12284639788385864, 0.515227632588952, 0.1030455265177904, 0.1030455265177904, 0.2060910530355808, 0.7568350203683395, 0.1513670040736679, 0.4207328775694327, 0.18031409038689972, 0.12020939359126648, 0.24041878718253296, 0.06010469679563324, 0.7752165481903291, 0.8688110303094823, 0.9058354845713055, 0.9679244248692599, 0.1655197066836523, 0.3310394133673046, 0.49655912005095687, 0.30836530770513526, 0.6167306154102705, 0.3807951020935287, 0.39810397037050727, 0.12116207793885003, 0.06923547310791431, 0.034617736553957154, 0.6974316745059645, 0.23247722483532152, 0.7420474462696536, 0.7185874984974131, 0.7934144482319345, 0.868578643577722, 0.7414314499332297, 0.717551744166343, 0.9867156841249228, 0.3050573331977573, 0.6101146663955146, 0.7166540947307269, 0.7894461317081013, 0.7035943665460876, 0.7177641385780015, 0.7173296124094344, 0.30810761243089024, 0.6162152248617805, 0.8672541162020725, 0.8115128574560344, 0.7176452574613005, 0.4513845351934708, 0.18055381407738832, 0.09027690703869416, 0.09027690703869416, 0.18055381407738832, 0.9229561773212537, 0.7913721390563646, 0.9175369268935601, 0.12568987099602724, 0.502759483984109, 0.2513797419920545, 0.7172310913074185, 0.10269035055840502, 0.41076140223362007, 0.41076140223362007, 0.10269035055840502, 0.34251786236042214, 0.06850357247208443, 0.13700714494416885, 0.06850357247208443, 0.4110214348325065, 0.08328903437617263, 0.7496013093855537, 0.08328903437617263, 0.08328903437617263, 0.7019627360060698, 0.23398757866868994, 0.7419014900854032, 0.20081123342373453, 0.8032449336949381, 0.7181984717797343, 0.6457956959471575, 0.7184229815338727, 0.7180349497906029, 0.428929535468902, 0.428929535468902, 0.7193656412650622, 0.8188742949901995, 0.27295809833006646, 0.8684380603967475, 0.32161162603730215, 0.3710903377353486, 0.09895742339609297, 0.09895742339609297, 0.09895742339609297, 0.9178610407523462, 0.5980557575383642, 0.7189245123895099, 0.918407955875923, 0.7105413870128263, 0.3377398802875792, 0.15010661346114632, 0.3752665336528658, 0.03752665336528658, 0.07505330673057316, 0.7181276790643807, 0.5950488863655848, 0.2975244431827924, 0.40227113206336906, 0.16090845282534763, 0.40227113206336906, 0.92962814044151, 0.7887198385199337, 0.1734945333373256, 0.3469890666746512, 0.1734945333373256, 0.1734945333373256, 0.13879562666986048, 0.6262166809723598, 0.2793053348998945, 0.558610669799789, 0.6553250810743482, 0.702839806641129, 0.8533679808743139, 0.21334199521857847, 0.8177776004810976, 0.7424132721607162, 0.7275632664675878, 0.24252108882252926, 0.7903920134212366, 0.8056299266367045], \"Term\": [\"absolutely view\", \"amazing array\", \"amenities plenty\", \"amp ferry\", \"amp pick\", \"amp shopping\", \"amp white\", \"area dead\", \"arrived early\", \"attentive staff\", \"awesome views\", \"balcony living\", \"bartendars friendly\", \"bathroom amenities\", \"bathroom large\", \"bathroom large\", \"bathroom large\", \"bay bridge\", \"bay bridge\", \"bay bridge\", \"bay bridge\", \"bay bridge\", \"bay hotel\", \"bay small\", \"bay view\", \"bay view\", \"bay view\", \"bay view\", \"beautiful hotel\", \"beautiful wide\", \"bed comfortable\", \"bed comfortable\", \"bed comfortable\", \"bed comfortable\", \"bed linens\", \"blocks walking\", \"bookstore brandy\", \"bottle alcohol\", \"breakfast morning\", \"breakfast morning\", \"building bay\", \"building great\", \"building great\", \"business district\", \"business district\", \"business district\", \"business trips\", \"business trips\", \"cab ride\", \"cab ride\", \"cable car\", \"cable car\", \"cable car\", \"car available\", \"changed park\", \"check fitness\", \"chinatown ferry\", \"choice business\", \"choices served\", \"city lights\", \"clean comfortable\", \"clean comfortable\", \"clean comfortable\", \"clean large\", \"clock began\", \"coffee tea\", \"coit tower\", \"coit tower\", \"coit tower\", \"coit tower\", \"coit tower\", \"comfort service\", \"comfortable beds\", \"comfortable beds\", \"comfortable beds\", \"comfortable beds\", \"comfortable rooms\", \"comfortable rooms\", \"concierge desk\", \"concierge desk\", \"concierge desk\", \"confirming reservations\", \"corner room\", \"corner room\", \"corner room\", \"counter high\", \"courteous friendly\", \"deal hotel\", \"deal hotel\", \"definitely great\", \"definitely stay\", \"definitely stay\", \"definitely stay\", \"definitely stay\", \"deliberately did\", \"departed highly\", \"desk bar\", \"desk bell\", \"desk said\", \"district right\", \"don feel\", \"double bucks\", \"double double\", \"double double\", \"downtown near\", \"dumpster reverberating\", \"embarcadero center\", \"embarcadero center\", \"embarcadero center\", \"embarcadero center\", \"embarcadero center\", \"embarcardero center\", \"embarcedero glutting\", \"enjoyed stay\", \"enjoyed stay\", \"enjoyed stay\", \"entertainment stand\", \"especially william\", \"excellent experience\", \"excellent making\", \"excellent rate\", \"expectations location\", \"extended hour\", \"fabulous corner\", \"facing bay\", \"farmer market\", \"farmer market\", \"farmer market\", \"farmer market\", \"farmers market\", \"farmers market\", \"ferry alcatraz\", \"ferry bldg\", \"ferry bldg\", \"ferry building\", \"ferry building\", \"ferry building\", \"ferry building\", \"ferry building\", \"ferry ride\", \"financial district\", \"financial district\", \"financial district\", \"financial district\", \"financial district\", \"fisherman wharf\", \"fisherman wharf\", \"fisherman wharf\", \"fisherman wharf\", \"fisherman wharf\", \"fishermans wharf\", \"fishermans wharf\", \"floor nice\", \"floor overlooking\", \"follow management\", \"fourth floor\", \"friendly attentive\", \"friendly helpful\", \"friendly helpful\", \"friendly helpful\", \"friendly helpful\", \"friendly helpful\", \"gave room\", \"getaway loved\", \"given excellent\", \"given great\", \"glutting cowgirl\", \"good room\", \"good room\", \"gorgeous wrong\", \"got free\", \"got great\", \"got great\", \"got great\", \"great deal\", \"great deal\", \"great deal\", \"great deal\", \"great didn\", \"great hotel\", \"great hotel\", \"great hotel\", \"great hotel\", \"great hotel\", \"great location\", \"great location\", \"great location\", \"great location\", \"great location\", \"great room\", \"great room\", \"great room\", \"great service\", \"great service\", \"great service\", \"great view\", \"great view\", \"great view\", \"great view\", \"guests amp\", \"happens upgrade\", \"helpful rooms\", \"helpful visiting\", \"high quality\", \"highly recommend\", \"highly recommend\", \"highly recommend\", \"highly recommend\", \"highly recommend\", \"hotel amp\", \"hotel amp\", \"hotel central\", \"hotel clean\", \"hotel clean\", \"hotel clean\", \"hotel clean\", \"hotel got\", \"hotel great\", \"hotel great\", \"hotel great\", \"hotel located\", \"hotel located\", \"hotel need\", \"hotel park\", \"hotel returning\", \"hotel service\", \"hotel service\", \"hotel service\", \"hotel staff\", \"hotel staff\", \"hotel staff\", \"hotel staff\", \"hotel website\", \"hotel website\", \"huge gorgeous\", \"husband loved\", \"hyatt quality\", \"included didn\", \"junior suite\", \"junior suite\", \"junior suite\", \"large clean\", \"large clean\", \"large room\", \"large room\", \"limited use\", \"little mention\", \"lobby bar\", \"located close\", \"located downtown\", \"loved hotel\", \"loved hotel\", \"loved hotel\", \"loved past\", \"lovely view\", \"lovely view\", \"lovely view\", \"lucky land\", \"makes worth\", \"marble bathrooms\", \"market amazing\", \"meridien outside\", \"meridien park\", \"meridien park\", \"meridien san\", \"meridien san\", \"meridien san\", \"meridien san\", \"meridien stay\", \"meridien stayed\", \"mirror room\", \"modern black\", \"narrow view\", \"near small\", \"needless say\", \"needless say\", \"nice amenities\", \"nice helpful\", \"nice hotel\", \"nice hotel\", \"nice hotel\", \"nice linens\", \"nice little\", \"nice sized\", \"nice sized\", \"nice view\", \"nice view\", \"nice view\", \"nicely appointed\", \"night got\", \"night meridien\", \"night meridien\", \"night public\", \"nights meridien\", \"nights meridien\", \"nights year\", \"nob hill\", \"nob hill\", \"nob hill\", \"north beach\", \"north beach\", \"north beach\", \"north beach\", \"north beach\", \"overlooking bay\", \"park hyatt\", \"park hyatt\", \"park hyatt\", \"park hyatt\", \"park hyatt\", \"parking rip\", \"past trip\", \"perfect business\", \"place stay\", \"place stay\", \"place stay\", \"place stay\", \"place stay\", \"pleasant helpful\", \"pool spa\", \"previous stay\", \"prices travelzoo\", \"prior management\", \"priority rooms\", \"probably worth\", \"professional friendly\", \"public parking\", \"quality comfort\", \"quite spacious\", \"rate hotel\", \"rate ridiculous\", \"really beautiful\", \"really meet\", \"recommend hotel\", \"recommend hotel\", \"recommend hotel\", \"recommend hotel\", \"registration desk\", \"replaced carpet\", \"reservations little\", \"reverberating alley\", \"ridiculous stand\", \"right embarcadero\", \"right hotel\", \"rip tax\", \"room bay\", \"room fact\", \"room fact\", \"room fine\", \"room floor\", \"room floor\", \"room floor\", \"room floor\", \"room floor\", \"room great\", \"room great\", \"room great\", \"room great\", \"room large\", \"room large\", \"room service\", \"room service\", \"room service\", \"room service\", \"room service\", \"room spectacular\", \"rooms beautifully\", \"rooms location\", \"rooms lovely\", \"rooms nice\", \"rooms nice\", \"rooms nice\", \"said room\", \"said room\", \"san francisco\", \"san francisco\", \"san francisco\", \"san francisco\", \"san francisco\", \"saturday morning\", \"saturday morning\", \"separate bedroom\", \"service courteous\", \"service prior\", \"service worth\", \"share great\", \"shaving mirror\", \"short drive\", \"shower tub\", \"shower tub\", \"small absolutely\", \"small gym\", \"small terrace\", \"smoking deliberately\", \"soaps open\", \"spent night\", \"spent night\", \"splurging exercise\", \"square hotel\", \"staff clean\", \"staff friendly\", \"staff friendly\", \"staff friendly\", \"staff friendly\", \"staff friendly\", \"staff really\", \"stay changed\", \"stay lot\", \"stay san\", \"stay san\", \"stay san\", \"stay sanfran\", \"stayed hotel\", \"stayed hotel\", \"stayed hotel\", \"stayed hotel\", \"stayed meridien\", \"stayed meridien\", \"stayed meridien\", \"stayed meridien\", \"stayed meridien\", \"stayed nights\", \"stayed nights\", \"stayed nights\", \"stayed nights\", \"street cable\", \"street cable\", \"suggestions amp\", \"suite floor\", \"suite floor\", \"surprised small\", \"terrific service\", \"thier check\", \"thing renovating\", \"thoroughly enjoyed\", \"thoroughly enjoyed\", \"time said\", \"tub shower\", \"tub shower\", \"turndown service\", \"union square\", \"union square\", \"union square\", \"union square\", \"union square\", \"used hyatt\", \"using starwood\", \"various places\", \"veryexpensive night\", \"view amazing\", \"view bay\", \"view bay\", \"view bay\", \"view bay\", \"view bay\", \"view clean\", \"view definitely\", \"view definitely\", \"view room\", \"view room\", \"view room\", \"view service\", \"visiting doubt\", \"walking distance\", \"walking distance\", \"walking distance\", \"walking distance\", \"walking distance\", \"water pressure\", \"web site\", \"web site\", \"weekend away\", \"weekend rooms\", \"weekend san\", \"weekend san\", \"wharf hotel\", \"wharf manageable\", \"wife birthday\", \"wife birthday\", \"william bartendars\", \"yerba buena\"]}, \"R\": 30, \"lambda.step\": 0.01, \"plot.opts\": {\"xlab\": \"PC1\", \"ylab\": \"PC2\"}, \"topic.order\": [2, 4, 3, 5, 1]};\n",
       "\n",
       "function LDAvis_load_lib(url, callback){\n",
       "  var s = document.createElement('script');\n",
       "  s.src = url;\n",
       "  s.async = true;\n",
       "  s.onreadystatechange = s.onload = callback;\n",
       "  s.onerror = function(){console.warn(\"failed to load library \" + url);};\n",
       "  document.getElementsByTagName(\"head\")[0].appendChild(s);\n",
       "}\n",
       "\n",
       "if(typeof(LDAvis) !== \"undefined\"){\n",
       "   // already loaded: just create the visualization\n",
       "   !function(LDAvis){\n",
       "       new LDAvis(\"#\" + \"ldavis_el16581125988348966726967603\", ldavis_el16581125988348966726967603_data);\n",
       "   }(LDAvis);\n",
       "}else if(typeof define === \"function\" && define.amd){\n",
       "   // require.js is available: use it to load d3/LDAvis\n",
       "   require.config({paths: {d3: \"https://cdnjs.cloudflare.com/ajax/libs/d3/3.5.5/d3.min\"}});\n",
       "   require([\"d3\"], function(d3){\n",
       "      window.d3 = d3;\n",
       "      LDAvis_load_lib(\"https://cdn.rawgit.com/bmabey/pyLDAvis/files/ldavis.v1.0.0.js\", function(){\n",
       "        new LDAvis(\"#\" + \"ldavis_el16581125988348966726967603\", ldavis_el16581125988348966726967603_data);\n",
       "      });\n",
       "    });\n",
       "}else{\n",
       "    // require.js not available: dynamically load d3 & LDAvis\n",
       "    LDAvis_load_lib(\"https://cdnjs.cloudflare.com/ajax/libs/d3/3.5.5/d3.min.js\", function(){\n",
       "         LDAvis_load_lib(\"https://cdn.rawgit.com/bmabey/pyLDAvis/files/ldavis.v1.0.0.js\", function(){\n",
       "                 new LDAvis(\"#\" + \"ldavis_el16581125988348966726967603\", ldavis_el16581125988348966726967603_data);\n",
       "            })\n",
       "         });\n",
       "}\n",
       "</script>"
      ],
      "text/plain": [
       "PreparedData(topic_coordinates=            Freq  cluster  topics         x         y\n",
       "topic                                                \n",
       "1      26.337179        1       1  0.012329 -0.049742\n",
       "3      24.624811        1       2  0.084447 -0.058524\n",
       "2      16.854081        1       3  0.025510  0.070377\n",
       "4      16.810609        1       4 -0.009901  0.078239\n",
       "0      15.373320        1       5 -0.112386 -0.040350, topic_info=      Category       Freq                 Term      Total  loglift  logprob\n",
       "term                                                                       \n",
       "1539   Default   7.000000       bottle alcohol   7.000000  30.0000  30.0000\n",
       "7919   Default   5.000000            lobby bar   5.000000  29.0000  29.0000\n",
       "5094   Default  34.000000       ferry building  34.000000  28.0000  28.0000\n",
       "11600  Default   4.000000             room bay   4.000000  27.0000  27.0000\n",
       "4459   Default   4.000000  entertainment stand   4.000000  26.0000  26.0000\n",
       "14887  Default  26.000000             view bay  26.000000  25.0000  25.0000\n",
       "9246   Default   9.000000            nice view   9.000000  24.0000  24.0000\n",
       "4061   Default   5.000000        double double   5.000000  23.0000  23.0000\n",
       "14933  Default  12.000000            view room  12.000000  22.0000  22.0000\n",
       "12021  Default  57.000000        san francisco  57.000000  21.0000  21.0000\n",
       "2561   Default   8.000000    clean comfortable   8.000000  20.0000  20.0000\n",
       "1051   Default  14.000000             bay view  14.000000  19.0000  19.0000\n",
       "6564   Default   8.000000            hotel amp   8.000000  18.0000  18.0000\n",
       "15538  Default   8.000000        wife birthday   8.000000  17.0000  17.0000\n",
       "5092   Default   9.000000           ferry bldg   9.000000  16.0000  16.0000\n",
       "13382  Default  12.000000        stayed nights  12.000000  15.0000  15.0000\n",
       "1846   Default   6.000000       business trips   6.000000  14.0000  14.0000\n",
       "13379  Default  14.000000      stayed meridien  14.000000  13.0000  13.0000\n",
       "6796   Default   9.000000        hotel service   9.000000  12.0000  12.0000\n",
       "1736   Default   5.000000       building great   5.000000  11.0000  11.0000\n",
       "8676   Default   8.000000        meridien park   8.000000  10.0000  10.0000\n",
       "682    Default   3.000000      attentive staff   3.000000   9.0000   9.0000\n",
       "1872   Default   4.000000             cab ride   4.000000   8.0000   8.0000\n",
       "11664  Default   4.000000            room fact   4.000000   7.0000   7.0000\n",
       "9229   Default   4.000000           nice sized   4.000000   6.0000   6.0000\n",
       "6753   Default   3.000000           hotel park   3.000000   5.0000   5.0000\n",
       "15781  Default   3.000000          yerba buena   3.000000   4.0000   4.0000\n",
       "14035  Default   4.000000   thoroughly enjoyed   4.000000   3.0000   3.0000\n",
       "8265   Default   4.000000          lovely view   4.000000   2.0000   2.0000\n",
       "9194   Default   3.000000          nice linens   3.000000   1.0000   1.0000\n",
       "...        ...        ...                  ...        ...      ...      ...\n",
       "9021    Topic5   2.026932           near small   2.531417   1.6503  -7.3337\n",
       "2581    Topic5   2.344612          clean large   3.150471   1.5771  -7.1881\n",
       "8694    Topic5   2.339065        meridien stay   3.162107   1.5710  -7.1905\n",
       "7559    Topic5   2.622841          large clean   3.834640   1.4927  -7.0760\n",
       "15262   Topic5   2.341603       water pressure   3.193783   1.5622  -7.1894\n",
       "13379   Topic5   5.809938      stayed meridien  14.597779   0.9512  -6.2807\n",
       "9150    Topic5   2.314782       nice amenities   3.164031   1.5600  -7.2009\n",
       "1051    Topic5   5.473019             bay view  14.620628   0.8899  -6.3404\n",
       "14933   Topic5   4.848569            view room  12.429428   0.9312  -6.4616\n",
       "11535   Topic5   2.293182          right hotel   3.166278   1.5499  -7.2103\n",
       "12929   Topic5   2.316590          spent night   3.245619   1.5353  -7.2002\n",
       "5094    Topic5   7.632620       ferry building  34.829254   0.3545  -6.0078\n",
       "12494   Topic5   2.307850           shower tub   3.278072   1.5216  -7.2039\n",
       "1019    Topic5   6.042991           bay bridge  24.639100   0.4671  -6.2414\n",
       "5156    Topic5   4.443794      fisherman wharf  14.489068   0.6907  -6.5487\n",
       "15323   Topic5   2.321961             web site   3.580311   1.4395  -7.1978\n",
       "9327    Topic5   2.316809       night meridien   3.592851   1.4338  -7.2001\n",
       "7584    Topic5   2.343529           large room   3.744665   1.4039  -7.1886\n",
       "1594    Topic5   2.310000    breakfast morning   3.617627   1.4240  -7.2030\n",
       "3011    Topic5   2.648773       concierge desk   5.542458   1.1342  -7.0662\n",
       "15123   Topic5   4.240459     walking distance  28.819352  -0.0438  -6.5956\n",
       "11888   Topic5   2.650351           rooms nice   6.041577   1.0486  -7.0656\n",
       "14658   Topic5   4.488046         union square  40.421424  -0.3254  -6.5388\n",
       "5546    Topic5   2.959002     friendly helpful  13.710684   0.3392  -6.9554\n",
       "9852    Topic5   2.960134           park hyatt  21.230439  -0.0977  -6.9550\n",
       "6050    Topic5   2.346468        great service   4.654802   1.1875  -7.1873\n",
       "11679   Topic5   2.328695           room great   9.704448   0.4453  -7.1949\n",
       "6614    Topic5   2.324277          hotel clean   6.761126   0.8048  -7.1968\n",
       "4971    Topic5   2.320676        farmer market   6.245908   0.8825  -7.1984\n",
       "8242    Topic5   2.320001          loved hotel   6.532124   0.8374  -7.1987\n",
       "\n",
       "[347 rows x 6 columns], token_table=       Topic      Freq                 Term\n",
       "term                                       \n",
       "39         4  0.717371      absolutely view\n",
       "253        1  0.868841        amazing array\n",
       "288        1  0.870069     amenities plenty\n",
       "316        1  0.869162            amp ferry\n",
       "332        2  0.919355             amp pick\n",
       "336        2  0.917351         amp shopping\n",
       "344        3  0.740080            amp white\n",
       "448        5  0.703854            area dead\n",
       "555        1  0.772535        arrived early\n",
       "682        4  0.873771      attentive staff\n",
       "780        1  0.869355        awesome views\n",
       "823        3  0.742303       balcony living\n",
       "912        5  0.790729  bartendars friendly\n",
       "943        3  0.742162   bathroom amenities\n",
       "968        1  0.375990       bathroom large\n",
       "968        2  0.187995       bathroom large\n",
       "968        4  0.563985       bathroom large\n",
       "1019       1  0.284101           bay bridge\n",
       "1019       2  0.121758           bay bridge\n",
       "1019       3  0.202929           bay bridge\n",
       "1019       4  0.121758           bay bridge\n",
       "1019       5  0.243515           bay bridge\n",
       "1030       2  0.917600            bay hotel\n",
       "1045       3  0.988992            bay small\n",
       "1051       1  0.410379             bay view\n",
       "1051       2  0.136793             bay view\n",
       "1051       4  0.068397             bay view\n",
       "1051       5  0.341983             bay view\n",
       "1087       2  0.834006      beautiful hotel\n",
       "1102       2  0.917832       beautiful wide\n",
       "...      ...       ...                  ...\n",
       "14887      2  0.150107             view bay\n",
       "14887      3  0.375267             view bay\n",
       "14887      4  0.037527             view bay\n",
       "14887      5  0.075053             view bay\n",
       "14894      4  0.718128           view clean\n",
       "14899      4  0.595049      view definitely\n",
       "14899      5  0.297524      view definitely\n",
       "14933      1  0.402271            view room\n",
       "14933      2  0.160908            view room\n",
       "14933      5  0.402271            view room\n",
       "14937      1  0.929628         view service\n",
       "15000      5  0.788720       visiting doubt\n",
       "15123      1  0.173495     walking distance\n",
       "15123      2  0.346989     walking distance\n",
       "15123      3  0.173495     walking distance\n",
       "15123      4  0.173495     walking distance\n",
       "15123      5  0.138796     walking distance\n",
       "15262      5  0.626217       water pressure\n",
       "15323      2  0.279305             web site\n",
       "15323      5  0.558611             web site\n",
       "15364      3  0.655325         weekend away\n",
       "15400      5  0.702840        weekend rooms\n",
       "15401      1  0.853368          weekend san\n",
       "15401      2  0.213342          weekend san\n",
       "15507      2  0.817778          wharf hotel\n",
       "15512      3  0.742413     wharf manageable\n",
       "15538      1  0.727563        wife birthday\n",
       "15538      5  0.242521        wife birthday\n",
       "15548      5  0.790392   william bartendars\n",
       "15781      3  0.805630          yerba buena\n",
       "\n",
       "[481 rows x 3 columns], R=30, lambda_step=0.01, plot_opts={'xlab': 'PC1', 'ylab': 'PC2'}, topic_order=[2, 4, 3, 5, 1])"
      ]
     },
     "execution_count": 17,
     "metadata": {},
     "output_type": "execute_result"
    }
   ],
   "source": [
    "pyLDAvis.sklearn.prepare(analyzer.lda_tf, analyzer.dtm_tf, analyzer.tf_vectorizer)"
   ]
  },
  {
   "cell_type": "code",
   "execution_count": 18,
   "metadata": {
    "collapsed": true
   },
   "outputs": [],
   "source": [
    "# 1) Location/room, 2) location/service/value 3) location/service 4) room/junk 5) everything"
   ]
  },
  {
   "cell_type": "code",
   "execution_count": null,
   "metadata": {
    "collapsed": true
   },
   "outputs": [],
   "source": []
  },
  {
   "cell_type": "code",
   "execution_count": null,
   "metadata": {
    "collapsed": true
   },
   "outputs": [],
   "source": []
  },
  {
   "cell_type": "markdown",
   "metadata": {},
   "source": [
    "# Visualize negative clusters"
   ]
  },
  {
   "cell_type": "code",
   "execution_count": 19,
   "metadata": {},
   "outputs": [
    {
     "name": "stderr",
     "output_type": "stream",
     "text": [
      "/Users/steventa/anaconda3/lib/python3.6/site-packages/pyLDAvis/_prepare.py:387: DeprecationWarning: \n",
      ".ix is deprecated. Please use\n",
      ".loc for label based indexing or\n",
      ".iloc for positional indexing\n",
      "\n",
      "See the documentation here:\n",
      "http://pandas.pydata.org/pandas-docs/stable/indexing.html#ix-indexer-is-deprecated\n",
      "  topic_term_dists = topic_term_dists.ix[topic_order]\n"
     ]
    },
    {
     "data": {
      "text/html": [
       "\n",
       "<link rel=\"stylesheet\" type=\"text/css\" href=\"https://cdn.rawgit.com/bmabey/pyLDAvis/files/ldavis.v1.0.0.css\">\n",
       "\n",
       "\n",
       "<div id=\"ldavis_el16581126005265441319937007\"></div>\n",
       "<script type=\"text/javascript\">\n",
       "\n",
       "var ldavis_el16581126005265441319937007_data = {\"mdsDat\": {\"Freq\": [37.775380642525604, 24.459125296497085, 20.862966991185335, 16.54808538414572, 0.3544416856462542], \"cluster\": [1, 1, 1, 1, 1], \"topics\": [1, 2, 3, 4, 5], \"x\": [0.06331877025132805, -0.046850565606283846, -0.0133409450746026, -0.005370663907904207, 0.0022434043374626286], \"y\": [-0.01644645875498837, -0.037345967029186376, 0.04996352832227723, 0.006611342523684148, -0.002782445061786627]}, \"tinfo\": {\"Category\": [\"Default\", \"Default\", \"Default\", \"Default\", \"Default\", \"Default\", \"Default\", \"Default\", \"Default\", \"Default\", \"Default\", \"Default\", \"Default\", \"Default\", \"Default\", \"Default\", \"Default\", \"Default\", \"Default\", \"Default\", \"Default\", \"Default\", \"Default\", \"Default\", \"Default\", \"Default\", \"Default\", \"Default\", \"Default\", \"Default\", \"Topic1\", \"Topic1\", \"Topic1\", \"Topic1\", \"Topic1\", \"Topic1\", \"Topic1\", \"Topic1\", \"Topic1\", \"Topic1\", \"Topic1\", \"Topic1\", \"Topic1\", \"Topic1\", \"Topic1\", \"Topic1\", \"Topic1\", \"Topic1\", \"Topic1\", \"Topic1\", \"Topic1\", \"Topic1\", \"Topic1\", \"Topic1\", \"Topic1\", \"Topic1\", \"Topic1\", \"Topic1\", \"Topic1\", \"Topic1\", \"Topic1\", \"Topic1\", \"Topic1\", \"Topic1\", \"Topic1\", \"Topic1\", \"Topic1\", \"Topic1\", \"Topic1\", \"Topic1\", \"Topic1\", \"Topic1\", \"Topic1\", \"Topic1\", \"Topic1\", \"Topic2\", \"Topic2\", \"Topic2\", \"Topic2\", \"Topic2\", \"Topic2\", \"Topic2\", \"Topic2\", \"Topic2\", \"Topic2\", \"Topic2\", \"Topic2\", \"Topic2\", \"Topic2\", \"Topic2\", \"Topic2\", \"Topic2\", \"Topic2\", \"Topic2\", \"Topic2\", \"Topic2\", \"Topic2\", \"Topic2\", \"Topic2\", \"Topic2\", \"Topic2\", \"Topic2\", \"Topic2\", \"Topic2\", \"Topic2\", \"Topic2\", \"Topic2\", \"Topic2\", \"Topic2\", \"Topic2\", \"Topic2\", \"Topic2\", \"Topic2\", \"Topic2\", \"Topic2\", \"Topic2\", \"Topic2\", \"Topic2\", \"Topic3\", \"Topic3\", \"Topic3\", \"Topic3\", \"Topic3\", \"Topic3\", \"Topic3\", \"Topic3\", \"Topic3\", \"Topic3\", \"Topic3\", \"Topic3\", \"Topic3\", \"Topic3\", \"Topic3\", \"Topic3\", \"Topic3\", \"Topic3\", \"Topic3\", \"Topic3\", \"Topic3\", \"Topic3\", \"Topic3\", \"Topic3\", \"Topic3\", \"Topic3\", \"Topic3\", \"Topic3\", \"Topic3\", \"Topic3\", \"Topic3\", \"Topic3\", \"Topic3\", \"Topic3\", \"Topic3\", \"Topic3\", \"Topic3\", \"Topic3\", \"Topic3\", \"Topic4\", \"Topic4\", \"Topic4\", \"Topic4\", \"Topic4\", \"Topic4\", \"Topic4\", \"Topic4\", \"Topic4\", \"Topic4\", \"Topic4\", \"Topic4\", \"Topic4\", \"Topic4\", \"Topic4\", \"Topic4\", \"Topic4\", \"Topic4\", \"Topic4\", \"Topic4\", \"Topic4\", \"Topic4\", \"Topic4\", \"Topic4\", \"Topic4\", \"Topic4\", \"Topic4\", \"Topic4\", \"Topic4\", \"Topic4\", \"Topic4\", \"Topic4\", \"Topic4\", \"Topic4\", \"Topic5\", \"Topic5\", \"Topic5\", \"Topic5\", \"Topic5\", \"Topic5\", \"Topic5\", \"Topic5\", \"Topic5\", \"Topic5\", \"Topic5\", \"Topic5\", \"Topic5\", \"Topic5\", \"Topic5\", \"Topic5\", \"Topic5\", \"Topic5\", \"Topic5\", \"Topic5\", \"Topic5\", \"Topic5\", \"Topic5\", \"Topic5\", \"Topic5\", \"Topic5\", \"Topic5\", \"Topic5\", \"Topic5\", \"Topic5\", \"Topic5\", \"Topic5\", \"Topic5\", \"Topic5\", \"Topic5\", \"Topic5\", \"Topic5\", \"Topic5\", \"Topic5\", \"Topic5\", \"Topic5\", \"Topic5\", \"Topic5\", \"Topic5\", \"Topic5\", \"Topic5\", \"Topic5\"], \"Freq\": [0.0, 0.0, 0.0, 0.0, 1.0, 0.0, 0.0, 0.0, 0.0, 0.0, 0.0, 0.0, 0.0, 0.0, 0.0, 0.0, 0.0, 0.0, 0.0, 0.0, 0.0, 0.0, 0.0, 0.0, 0.0, 0.0, 0.0, 1.0, 0.0, 0.0, 0.6617336483999455, 0.6809336802929253, 0.6706669404639718, 0.6616252048810197, 0.6637347602272633, 0.6626603368438133, 0.6623218156549657, 0.6724851044983282, 0.683939815526291, 0.6718815901692077, 0.6634145949321008, 0.6586855413046819, 0.6670020858371297, 0.6666603192475348, 0.6567959654588548, 0.6526037415829872, 0.6837904979971091, 0.6677486995634931, 0.668613916399265, 0.6588313905951515, 0.6702687974517848, 0.6506621069525502, 0.6529273251731176, 0.6536634779763664, 0.6779543375707772, 0.6708211207394167, 0.6632299089646325, 0.6580036725596551, 0.6508974042222829, 0.6561422427609185, 0.6700865219933894, 0.6716212136858143, 0.6690211976365816, 0.6620283438300403, 0.6704284684072528, 0.6621693008084326, 0.6707586399164782, 0.6789627549728225, 0.6661175253476465, 0.6638422471440003, 0.6700411550423613, 0.687401270371673, 0.6650410161431956, 0.6627131855705131, 0.6624679075931501, 0.5308405945293322, 0.522972270447878, 0.5091558270071598, 0.5247239519906456, 0.5291845603588136, 0.5156477698487845, 0.5254957225092963, 0.5121569825464374, 0.5236397736336688, 0.5183225171537725, 0.5265268176287492, 0.5206693466529876, 0.5221549553718083, 0.5179857781878002, 0.5185576729398472, 0.5081390609976346, 0.5234758305182102, 0.5107452200645666, 0.5215270746245322, 0.5138386930844474, 0.5199847968331485, 0.5167600516919455, 0.49481954026161834, 0.4977791641088577, 0.5132350518768419, 0.5264578548831277, 0.5087690897382243, 0.5084845791797497, 0.5171850179376231, 0.519217376112008, 0.520127308678741, 0.5155760467936635, 0.519955317411657, 0.5227238798842818, 0.5268920764077906, 0.5219157976931559, 0.520367852164118, 0.5174049256379559, 0.5253983558693506, 0.5221767527286523, 0.5185033627213261, 0.5181400397176359, 0.5172179731322394, 0.4655821463442974, 0.46624469150789427, 0.4714430877241646, 0.47342546770790234, 0.4605523558771727, 0.4598654634474721, 0.47157719955222777, 0.45849503745864184, 0.47187275461617917, 0.467695963810244, 0.4565728809978707, 0.48423698103906543, 0.4494591418475782, 0.46367078913200294, 0.45755275896737924, 0.46116589067708696, 0.47016669640220404, 0.46695814434804817, 0.4580608210494674, 0.4522682646218857, 0.46264926267414863, 0.4540452512168684, 0.4756599268359232, 0.46317296941881525, 0.469303717914224, 0.45664780364528607, 0.45407991339335185, 0.46024436310511735, 0.46303986128206726, 0.45085509666005563, 0.46350553575707965, 0.46767947058189796, 0.473592052181078, 0.46121388143806874, 0.4593683132796264, 0.4659074636522193, 0.46016041033255367, 0.45907163018220476, 0.4583934043641544, 0.40802401298630075, 0.39505070882616955, 0.40282359418832486, 0.4058591546518526, 0.40227590096730437, 0.3998169113615593, 0.39937724422770415, 0.3922108445397543, 0.4049638524738231, 0.39952706482201084, 0.39273130689278873, 0.39310286220196206, 0.38794754667773346, 0.3799405730064469, 0.3858387389082057, 0.3965804221473029, 0.3940408942487567, 0.39213383406489916, 0.3917467587556791, 0.39781092170252497, 0.38912079284699513, 0.3862912549236878, 0.37935273713673917, 0.3848692800947129, 0.4012616602677261, 0.38666558629108055, 0.38012515787757606, 0.40051641000222094, 0.3853584557134047, 0.38917816401658284, 0.39035427848959936, 0.3955468248740394, 0.39069082990702986, 0.38498213049370195, 0.004187284165978676, 0.00407897860313469, 0.0039008476931157053, 0.003947858588041728, 0.003988211260742252, 0.003910007504047137, 0.003793534297349744, 0.003776297082827137, 0.003944202065583722, 0.003783627431795435, 0.0038115582707820422, 0.003846001001310675, 0.003727301263641213, 0.003981841628066279, 0.0037466121528760125, 0.0035818141877859075, 0.0037939997890469863, 0.0037213806114074015, 0.0039160932050084085, 0.00368713207230521, 0.0037905607860411867, 0.0037724274389761645, 0.0035398548654499416, 0.003956481208692821, 0.0036964001223333946, 0.004041270994844814, 0.003592509647889545, 0.003769960967080467, 0.0037364094446645, 0.0037597112908388324, 0.00384743087738065, 0.003879659651163378, 0.0038458129002133627, 0.0038301169078355634, 0.00401437368756736, 0.0038272040374893734, 0.0038297699971347105, 0.003849700425457908, 0.003975455538899788, 0.0038450851897828156, 0.003959587225902928, 0.0038119040452804435, 0.0038823492662612134, 0.0038841260021284744, 0.003819945544807071, 0.0038468255101215, 0.0038297505096286082], \"Term\": [\"dirty kind\", \"room elevator\", \"experience view\", \"room reasonable\", \"return hurry\", \"best included\", \"pack play\", \"coffee machine\", \"room best\", \"service stay\", \"suppose week\", \"provided thank\", \"clean paid\", \"elevator got\", \"near desk\", \"expect rooms\", \"thank room\", \"did mention\", \"clean nice\", \"far better\", \"adjoining suite\", \"different room\", \"open near\", \"days stay\", \"fairly bare\", \"given different\", \"got treatment\", \"staff lousy\", \"room clean\", \"area okay\", \"reserved room\", \"restaurants expensive\", \"days july\", \"rise mall\", \"picture attached\", \"better service\", \"building right\", \"free package\", \"said downtown\", \"room great\", \"location hotel\", \"hotel transamerican\", \"help basically\", \"lazy didn\", \"hit checked\", \"building embarcadaro\", \"service tech\", \"stay nights\", \"goes door\", \"tech showed\", \"expensive lunch\", \"walls hear\", \"staff lousy\", \"booked room\", \"great desk\", \"august room\", \"mistake yell\", \"door stay\", \"hdtv location\", \"attached mall\", \"nights loved\", \"rude lazy\", \"blocks bay\", \"away expensive\", \"concierges great\", \"sale booked\", \"bay ferry\", \"stayed nights\", \"disliked concierges\", \"great flat\", \"things disliked\", \"desk staff\", \"san francisco\", \"ferry building\", \"levels picture\", \"feel cozy\", \"quite oriented\", \"embarcadero area\", \"expected dont\", \"dont elegant\", \"feel plush\", \"kind scary\", \"certain times\", \"oriented hotel\", \"fairly bare\", \"stress knowledgeable\", \"bathroom away\", \"hotel expect\", \"brown furniture\", \"hallways minimal\", \"bordered rude\", \"knowledgeable nice\", \"nearby dirty\", \"concierge stress\", \"cost dollars\", \"nice desk\", \"basic terrible\", \"area nearby\", \"did mention\", \"desk actually\", \"great strange\", \"people return\", \"expect rooms\", \"okay want\", \"area okay\", \"terrible mishaps\", \"walls hallways\", \"dollars day\", \"return hurry\", \"plush expected\", \"homeless people\", \"parking cost\", \"odor bathroom\", \"did feel\", \"staff going\", \"bare walls\", \"mishaps room\", \"rooms quite\", \"elevator went\", \"manager given\", \"saying asked\", \"week weekend\", \"room away\", \"staff rude\", \"room checked\", \"hotel pretending\", \"weekend open\", \"days stay\", \"orbitz asked\", \"refusing refund\", \"rude unhelpful\", \"star hotel\", \"suppose week\", \"view morning\", \"pretending bad\", \"got treatment\", \"given different\", \"refund days\", \"stay rooms\", \"different room\", \"room higher\", \"prepaid orbitz\", \"realized adjoining\", \"room elevator\", \"conversation room\", \"away elevator\", \"bad location\", \"room room\", \"went desk\", \"opinion booked\", \"adjoining suite\", \"treatment saying\", \"good suppose\", \"service stay\", \"rooms prepaid\", \"district good\", \"suite conversation\", \"upgraded thank\", \"room clean\", \"felt welcome\", \"pack play\", \"room reasonable\", \"pathetic barely\", \"bridge wharf\", \"didn care\", \"best included\", \"blankets pad\", \"coffee machine\", \"thank pathetic\", \"awkward upgraded\", \"paid room\", \"wharf room\", \"hotels regis\", \"like staff\", \"staff didn\", \"tiny awkward\", \"welcome like\", \"room best\", \"clean nice\", \"barely pack\", \"care baby\", \"provided thank\", \"experience view\", \"bay bridge\", \"far better\", \"pad clean\", \"baby crib\", \"clean paid\", \"machine really\", \"regis price\", \"included bay\", \"dirty kind\", \"room elevator\", \"experience view\", \"elevator got\", \"did mention\", \"suppose week\", \"room reasonable\", \"coffee machine\", \"near desk\", \"room best\", \"thank room\", \"different room\", \"clean nice\", \"expect rooms\", \"clean paid\", \"really felt\", \"room room\", \"crib provided\", \"open near\", \"pack play\", \"given different\", \"conversation room\", \"room clean\", \"service stay\", \"best included\", \"return hurry\", \"care baby\", \"financial district\", \"worse service\", \"days stay\", \"fairly bare\", \"mention parking\", \"want embarcadero\", \"orbitz star\", \"staff lousy\", \"near area\", \"basic terrible\", \"area okay\", \"manager reverse\", \"adjoining suite\", \"checked charged\", \"way fixed\", \"building right\", \"ferry building\", \"fixed views\", \"duty rude\", \"hit checked\"], \"Total\": [0.0, 0.0, 0.0, 0.0, 1.0, 0.0, 0.0, 0.0, 0.0, 0.0, 0.0, 0.0, 0.0, 0.0, 0.0, 0.0, 0.0, 0.0, 0.0, 0.0, 0.0, 0.0, 0.0, 0.0, 0.0, 0.0, 0.0, 1.0, 0.0, 0.0, 1.0535581767382292, 1.0845956999211972, 1.0692053966685893, 1.0572045111993313, 1.062999243022077, 1.0627873648764596, 1.0640097299729654, 1.0806190365590707, 1.0997691540704562, 1.080771128027057, 1.0680726394312103, 1.0625386741319245, 1.0770032425739253, 1.079309736405088, 1.0636039669515798, 1.0606503732227444, 1.1113720685606474, 1.0855166983880664, 1.0873465406613356, 1.0715837260585823, 1.0904582774024487, 1.0599525319146001, 1.0642413756563536, 1.065534465575619, 1.1055762505904316, 1.0942766314219567, 1.0839796042937542, 1.0756018565003818, 1.0643761992003558, 1.0729656160053742, 1.0978334365529243, 1.1025701424315117, 1.099184222593991, 1.084684489510753, 1.1043553332893683, 1.0856263729062705, 1.106523368042461, 1.1288412651360464, 1.0971446524191326, 1.091746456033853, 1.1268170933734787, 1.4251684461197498, 1.128455143285598, 1.1006860081457748, 1.1024719163238172, 0.9788181232461282, 0.9654088221008726, 0.9469097481384487, 0.9780746481402832, 0.9871816004317464, 0.9621996750550098, 0.9811190589677632, 0.9593951099199161, 0.9816625852057629, 0.9718219727355202, 0.9883187714500143, 0.9774729528082594, 0.9833605389536129, 0.9758161517434132, 0.9783790710491937, 0.9620234867798778, 0.9910944647893483, 0.9672064396596476, 0.9879109354191544, 0.9742083140926229, 0.9859691841460628, 0.9805768221766901, 0.9408404480317609, 0.9468418673888751, 0.976747152999398, 1.0023844836392142, 0.968889867003547, 0.9686987195787045, 0.9862359499884044, 0.9908626883596229, 0.9941471227571025, 0.9852379715056628, 0.9979913895768844, 1.0078560889033965, 1.0197410833175575, 1.0073696371695595, 1.0037118515264838, 0.9928891818579728, 1.0284726663726445, 1.0153271541307147, 1.0015013291739332, 1.0089771986237437, 1.0003403001631783, 0.9219742687628153, 0.9279517386347215, 0.9392477237055583, 0.9434979078566718, 0.9241292014584666, 0.9298841219747572, 0.9543883426592275, 0.929074958859523, 0.9567104343934076, 0.9491069035651366, 0.9275695636284172, 0.9840383056944189, 0.913575060002388, 0.9427956754870108, 0.9314388573701328, 0.9406075178828112, 0.9601997081928073, 0.953916543366582, 0.9363860590455643, 0.9254690719900477, 0.9472002845135974, 0.9301184741272321, 0.9751218503109882, 0.9519312478041214, 0.9649222298971358, 0.9391736827499589, 0.9339738189009233, 0.9482461630218597, 0.958078605320391, 0.9329575964996168, 0.9594679825506668, 0.9766927393817202, 0.9961279286984895, 0.9584533278409553, 0.952870399822957, 0.9845731547303399, 0.9615994765997067, 0.9556528631429303, 0.9582164975508537, 0.8978377587103127, 0.8771805952320807, 0.9020106241844381, 0.9105368827919192, 0.904217398116326, 0.899150581247413, 0.9005152037484476, 0.8901172115862745, 0.9212040085436535, 0.9140718938302677, 0.9001311141430038, 0.9021861708764672, 0.891919678233968, 0.8749836718488533, 0.8930022309604866, 0.9183070504166114, 0.9126818852684676, 0.9090710576852513, 0.9083896715621461, 0.9258443802353928, 0.906657412249194, 0.9019341150962095, 0.8857378197851012, 0.8986554810658467, 0.9370965797380212, 0.9041574349525479, 0.8904723005550107, 0.9385404827003285, 0.9057603540736004, 0.9148805910957962, 0.917652390219569, 0.9321058051837644, 0.9400392358842834, 0.9122025574851371, 0.9525872524809441, 0.9391736827499589, 0.9041574349525479, 0.9328291081516176, 0.9468418673888751, 0.9314388573701328, 0.904217398116326, 0.9001311141430038, 0.9430569548994662, 0.906657412249194, 0.9156045319226811, 0.9301184741272321, 0.9019341150962095, 0.9686987195787045, 0.917652390219569, 0.8787336658448632, 0.9329575964996168, 0.9174968627604033, 0.9660498051373825, 0.9105368827919192, 0.9363860590455643, 0.9339738189009233, 0.8771805952320807, 0.9845731547303399, 0.9212040085436535, 1.0078560889033965, 0.8986554810658467, 0.9476776620366907, 0.9397066338946514, 0.9491069035651366, 0.9718219727355202, 0.9900928926339939, 0.9834449209552815, 0.979226701381216, 1.0642413756563536, 0.9793552999209125, 0.9805768221766901, 0.9908626883596229, 1.0739386364406593, 0.9961279286984895, 1.0985428021162411, 0.9758488312669084, 1.0640097299729654, 1.1006860081457748, 0.9872008495880742, 1.0941799486438613, 1.0636039669515798], \"loglift\": [30.0, 29.0, 28.0, 27.0, 26.0, 25.0, 24.0, 23.0, 22.0, 21.0, 20.0, 19.0, 18.0, 17.0, 16.0, 15.0, 14.0, 13.0, 12.0, 11.0, 10.0, 9.0, 8.0, 7.0, 6.0, 5.0, 4.0, 3.0, 2.0, 1.0, 0.5084, 0.508, 0.5071, 0.5048, 0.5025, 0.5011, 0.4995, 0.4992, 0.4985, 0.4982, 0.4973, 0.4953, 0.4944, 0.4917, 0.4915, 0.4878, 0.4878, 0.4876, 0.4872, 0.4871, 0.4868, 0.4855, 0.485, 0.4849, 0.4845, 0.4842, 0.4822, 0.4821, 0.4817, 0.4817, 0.4798, 0.4778, 0.477, 0.4798, 0.4744, 0.4791, 0.4729, 0.4651, 0.4745, 0.476, 0.4537, 0.2444, 0.4448, 0.4662, 0.4642, 0.7963, 0.7951, 0.7877, 0.7855, 0.7847, 0.7844, 0.7838, 0.7805, 0.7797, 0.7796, 0.7785, 0.7783, 0.7752, 0.7748, 0.7733, 0.7699, 0.7698, 0.7696, 0.7693, 0.7685, 0.7683, 0.7676, 0.7656, 0.7652, 0.7647, 0.7642, 0.764, 0.7636, 0.7627, 0.7619, 0.7604, 0.7606, 0.7562, 0.7516, 0.7479, 0.7506, 0.7512, 0.7564, 0.7365, 0.7432, 0.7499, 0.7417, 0.7485, 0.884, 0.8789, 0.8779, 0.8776, 0.8708, 0.8631, 0.8622, 0.861, 0.8604, 0.8595, 0.8584, 0.8581, 0.8579, 0.8575, 0.8564, 0.8544, 0.8531, 0.8529, 0.8522, 0.8512, 0.8507, 0.8501, 0.8493, 0.8468, 0.8464, 0.8461, 0.846, 0.8443, 0.8401, 0.84, 0.8396, 0.8308, 0.8237, 0.8357, 0.8376, 0.819, 0.8302, 0.834, 0.8298, 1.0102, 1.0012, 0.9928, 0.9909, 0.989, 0.9885, 0.9858, 0.9793, 0.977, 0.9713, 0.9695, 0.9682, 0.9664, 0.9647, 0.9597, 0.9592, 0.959, 0.9581, 0.9578, 0.9542, 0.953, 0.9509, 0.9509, 0.9509, 0.9507, 0.9495, 0.9476, 0.9473, 0.9443, 0.9441, 0.9441, 0.9417, 0.9209, 0.9362, 0.2153, 0.2032, 0.1966, 0.1773, 0.1726, 0.1692, 0.1686, 0.1686, 0.1655, 0.1633, 0.1608, 0.1541, 0.1535, 0.1482, 0.1414, 0.1398, 0.1374, 0.1348, 0.1343, 0.1332, 0.1329, 0.1307, 0.1298, 0.1255, 0.1241, 0.1234, 0.1203, 0.1154, 0.1149, 0.1112, 0.1106, 0.1003, 0.0983, 0.0985, 0.0622, 0.0976, 0.097, 0.0918, 0.0434, 0.0853, 0.0168, 0.0972, 0.029, -0.0044, 0.0877, -0.0081, 0.0158], \"logprob\": [30.0, 29.0, 28.0, 27.0, 26.0, 25.0, 24.0, 23.0, 22.0, 21.0, 20.0, 19.0, 18.0, 17.0, 16.0, 15.0, 14.0, 13.0, 12.0, 11.0, 10.0, 9.0, 8.0, 7.0, 6.0, 5.0, 4.0, 3.0, 2.0, 1.0, -5.067, -5.0384, -5.0536, -5.0672, -5.064, -5.0656, -5.0661, -5.0509, -5.034, -5.0518, -5.0645, -5.0716, -5.0591, -5.0596, -5.0745, -5.0809, -5.0342, -5.058, -5.0567, -5.0714, -5.0542, -5.0839, -5.0804, -5.0793, -5.0428, -5.0534, -5.0647, -5.0727, -5.0835, -5.0755, -5.0545, -5.0522, -5.056, -5.0666, -5.0539, -5.0663, -5.0535, -5.0413, -5.0604, -5.0638, -5.0545, -5.0289, -5.062, -5.0655, -5.0659, -4.8527, -4.8677, -4.8945, -4.8643, -4.8559, -4.8818, -4.8629, -4.8886, -4.8664, -4.8766, -4.8609, -4.8721, -4.8692, -4.8773, -4.8762, -4.8965, -4.8667, -4.8913, -4.8704, -4.8853, -4.8734, -4.8796, -4.923, -4.9171, -4.8865, -4.861, -4.8952, -4.8958, -4.8788, -4.8749, -4.8731, -4.8819, -4.8735, -4.8682, -4.8602, -4.8697, -4.8727, -4.8784, -4.8631, -4.8692, -4.8763, -4.877, -4.8787, -4.8249, -4.8235, -4.8124, -4.8082, -4.8358, -4.8372, -4.8121, -4.8402, -4.8115, -4.8204, -4.8444, -4.7856, -4.8601, -4.829, -4.8423, -4.8344, -4.8151, -4.8219, -4.8412, -4.8539, -4.8312, -4.85, -4.8035, -4.8301, -4.8169, -4.8443, -4.8499, -4.8364, -4.8304, -4.857, -4.8294, -4.8204, -4.8078, -4.8343, -4.8383, -4.8242, -4.8366, -4.839, -4.8405, -4.7252, -4.7575, -4.738, -4.7305, -4.7393, -4.7455, -4.7466, -4.7647, -4.7327, -4.7462, -4.7634, -4.7624, -4.7756, -4.7965, -4.7811, -4.7536, -4.76, -4.7649, -4.7659, -4.7505, -4.7726, -4.7799, -4.798, -4.7836, -4.7419, -4.7789, -4.796, -4.7437, -4.7823, -4.7724, -4.7694, -4.7562, -4.7686, -4.7833, -5.4609, -5.4871, -5.5318, -5.5198, -5.5097, -5.5295, -5.5597, -5.5643, -5.5207, -5.5623, -5.555, -5.546, -5.5773, -5.5113, -5.5721, -5.6171, -5.5596, -5.5789, -5.5279, -5.5881, -5.5605, -5.5653, -5.6289, -5.5176, -5.5856, -5.4964, -5.6141, -5.5659, -5.5749, -5.5687, -5.5456, -5.5372, -5.546, -5.5501, -5.5031, -5.5509, -5.5502, -5.545, -5.5129, -5.5462, -5.5169, -5.5549, -5.5366, -5.5361, -5.5528, -5.5457, -5.5502]}, \"token.table\": {\"Topic\": [2, 1, 1, 1, 2, 2, 2, 1, 1, 1, 1, 2, 2, 1, 1, 2, 1, 2, 1, 2, 1, 2, 1, 2, 1, 2, 2, 1, 1, 2, 2, 2, 1, 2, 2, 2, 1, 2, 1, 1, 1, 1, 2, 2, 1, 1, 1, 2, 2, 1, 2, 2, 1, 1, 1, 1, 2, 2, 1, 2, 2, 2, 1, 2, 2, 2, 2, 2, 1, 2, 2, 1, 1, 2, 1, 1, 2, 1, 1, 1, 1, 1, 2, 1, 1, 1, 2, 1, 2, 1, 2, 1, 2, 2], \"Freq\": [1.0092215720177171, 0.9319963147775197, 0.9138457052679183, 0.9219270761869657, 0.9985009214364483, 1.0198079103891058, 1.023046210257809, 0.9037314790460228, 0.9409219878298439, 0.9097656056598741, 0.9384961559735038, 1.039475661189145, 1.0247832014395124, 0.9428177514910397, 0.9398410294851423, 1.0423234282312253, 0.9102968023399657, 1.0122369984453268, 0.9055056555225377, 1.0264745081049729, 0.9352739923645932, 1.0238064139006673, 0.7016714429249825, 0.9723155828019565, 0.9114568418987096, 1.002012653059028, 1.0129848444933003, 0.9297120435005916, 0.9139264535412215, 1.056066855332224, 1.0323127096058398, 1.0224168491652512, 0.9170456318439556, 1.0289950505905554, 1.0216402580324369, 1.0392853229168146, 0.9085243135638734, 1.0129650925819873, 0.925395505879871, 0.9196700063916968, 0.9045056815085809, 0.9159635870336106, 0.9976211885976555, 1.022098723889934, 0.9395174382434328, 0.9285023112930508, 0.9401995771660419, 0.9926842770541842, 1.0169210176606163, 0.9411422137805784, 1.0192442913626625, 1.0089855563995553, 0.9265180941763307, 0.9070525835564964, 0.9362659084053856, 0.9311518983191506, 1.010006240262618, 0.9911026744350728, 0.9225265826394682, 1.0210798880454872, 1.033905440447535, 1.01423048111396, 0.9108849910236744, 1.0071617440011995, 1.0139561430626793, 1.0186799569124798, 0.9963018753630948, 1.0321090498063172, 0.9407344422532495, 0.9806410826821518, 1.0358306005779518, 0.9491644809743274, 0.9220025490352363, 0.9922051481457592, 0.945890780266879, 0.9252652796392661, 0.999659815601628, 0.9069717757771741, 0.9092817308967146, 0.9211272173896763, 0.8861672579101466, 0.8997886740982372, 0.9849042211977111, 0.9396364611207362, 0.9212202829168321, 0.8858641430684068, 1.0118192924058778, 0.9331981959805641, 1.0058873350924815, 0.8874554760313299, 1.0149832110832853, 0.9434384747340454, 1.0168337633272209, 1.0247488831868938], \"Term\": [\"area okay\", \"attached mall\", \"august room\", \"away expensive\", \"bare walls\", \"basic terrible\", \"bathroom away\", \"bay ferry\", \"better service\", \"blocks bay\", \"booked room\", \"bordered rude\", \"brown furniture\", \"building embarcadaro\", \"building right\", \"certain times\", \"checked charged\", \"concierge stress\", \"concierges great\", \"cost dollars\", \"days july\", \"desk actually\", \"desk staff\", \"did feel\", \"disliked concierges\", \"dollars day\", \"dont elegant\", \"door stay\", \"duty rude\", \"embarcadero area\", \"expect rooms\", \"expected dont\", \"expensive lunch\", \"fairly bare\", \"feel cozy\", \"feel plush\", \"ferry building\", \"fixed views\", \"free package\", \"goes door\", \"great desk\", \"great flat\", \"great strange\", \"hallways minimal\", \"hdtv location\", \"help basically\", \"hit checked\", \"homeless people\", \"hotel expect\", \"hotel transamerican\", \"kind scary\", \"knowledgeable nice\", \"lazy didn\", \"levels picture\", \"location hotel\", \"manager reverse\", \"mention parking\", \"mishaps room\", \"mistake yell\", \"near area\", \"nearby dirty\", \"nice desk\", \"nights loved\", \"odor bathroom\", \"okay want\", \"oriented hotel\", \"parking cost\", \"people return\", \"picture attached\", \"plush expected\", \"quite oriented\", \"reserved room\", \"restaurants expensive\", \"return hurry\", \"rise mall\", \"room great\", \"rooms quite\", \"rude lazy\", \"said downtown\", \"sale booked\", \"san francisco\", \"service tech\", \"staff going\", \"staff lousy\", \"stay nights\", \"stayed nights\", \"stress knowledgeable\", \"tech showed\", \"terrible mishaps\", \"things disliked\", \"walls hallways\", \"walls hear\", \"want embarcadero\", \"way fixed\"]}, \"R\": 30, \"lambda.step\": 0.01, \"plot.opts\": {\"xlab\": \"PC1\", \"ylab\": \"PC2\"}, \"topic.order\": [2, 4, 3, 1, 5]};\n",
       "\n",
       "function LDAvis_load_lib(url, callback){\n",
       "  var s = document.createElement('script');\n",
       "  s.src = url;\n",
       "  s.async = true;\n",
       "  s.onreadystatechange = s.onload = callback;\n",
       "  s.onerror = function(){console.warn(\"failed to load library \" + url);};\n",
       "  document.getElementsByTagName(\"head\")[0].appendChild(s);\n",
       "}\n",
       "\n",
       "if(typeof(LDAvis) !== \"undefined\"){\n",
       "   // already loaded: just create the visualization\n",
       "   !function(LDAvis){\n",
       "       new LDAvis(\"#\" + \"ldavis_el16581126005265441319937007\", ldavis_el16581126005265441319937007_data);\n",
       "   }(LDAvis);\n",
       "}else if(typeof define === \"function\" && define.amd){\n",
       "   // require.js is available: use it to load d3/LDAvis\n",
       "   require.config({paths: {d3: \"https://cdnjs.cloudflare.com/ajax/libs/d3/3.5.5/d3.min\"}});\n",
       "   require([\"d3\"], function(d3){\n",
       "      window.d3 = d3;\n",
       "      LDAvis_load_lib(\"https://cdn.rawgit.com/bmabey/pyLDAvis/files/ldavis.v1.0.0.js\", function(){\n",
       "        new LDAvis(\"#\" + \"ldavis_el16581126005265441319937007\", ldavis_el16581126005265441319937007_data);\n",
       "      });\n",
       "    });\n",
       "}else{\n",
       "    // require.js not available: dynamically load d3 & LDAvis\n",
       "    LDAvis_load_lib(\"https://cdnjs.cloudflare.com/ajax/libs/d3/3.5.5/d3.min.js\", function(){\n",
       "         LDAvis_load_lib(\"https://cdn.rawgit.com/bmabey/pyLDAvis/files/ldavis.v1.0.0.js\", function(){\n",
       "                 new LDAvis(\"#\" + \"ldavis_el16581126005265441319937007\", ldavis_el16581126005265441319937007_data);\n",
       "            })\n",
       "         });\n",
       "}\n",
       "</script>"
      ],
      "text/plain": [
       "PreparedData(topic_coordinates=            Freq  cluster  topics         x         y\n",
       "topic                                                \n",
       "1      37.775381        1       1  0.063319 -0.016446\n",
       "3      24.459125        1       2 -0.046851 -0.037346\n",
       "2      20.862967        1       3 -0.013341  0.049964\n",
       "0      16.548085        1       4 -0.005371  0.006611\n",
       "4       0.354442        1       5  0.002243 -0.002782, topic_info=     Category      Freq                Term     Total  loglift  logprob\n",
       "term                                                                   \n",
       "66    Default  0.000000          dirty kind  0.000000  30.0000  30.0000\n",
       "209   Default  0.000000       room elevator  0.000000  29.0000  29.0000\n",
       "82    Default  0.000000     experience view  0.000000  28.0000  28.0000\n",
       "212   Default  0.000000     room reasonable  0.000000  27.0000  27.0000\n",
       "201   Default  1.000000        return hurry  1.000000  26.0000  26.0000\n",
       "22    Default  0.000000       best included  0.000000  25.0000  25.0000\n",
       "174   Default  0.000000           pack play  0.000000  24.0000  24.0000\n",
       "48    Default  0.000000      coffee machine  0.000000  23.0000  23.0000\n",
       "206   Default  0.000000           room best  0.000000  22.0000  22.0000\n",
       "229   Default  0.000000        service stay  0.000000  21.0000  21.0000\n",
       "248   Default  0.000000        suppose week  0.000000  20.0000  20.0000\n",
       "188   Default  0.000000      provided thank  0.000000  19.0000  19.0000\n",
       "47    Default  0.000000          clean paid  0.000000  18.0000  18.0000\n",
       "75    Default  0.000000        elevator got  0.000000  17.0000  17.0000\n",
       "158   Default  0.000000           near desk  0.000000  16.0000  16.0000\n",
       "79    Default  0.000000        expect rooms  0.000000  15.0000  15.0000\n",
       "252   Default  0.000000          thank room  0.000000  14.0000  14.0000\n",
       "62    Default  0.000000         did mention  0.000000  13.0000  13.0000\n",
       "46    Default  0.000000          clean nice  0.000000  12.0000  12.0000\n",
       "85    Default  0.000000          far better  0.000000  11.0000  11.0000\n",
       "1     Default  0.000000     adjoining suite  0.000000  10.0000  10.0000\n",
       "65    Default  0.000000      different room  0.000000   9.0000   9.0000\n",
       "168   Default  0.000000           open near  0.000000   8.0000   8.0000\n",
       "56    Default  0.000000           days stay  0.000000   7.0000   7.0000\n",
       "83    Default  0.000000         fairly bare  0.000000   6.0000   6.0000\n",
       "98    Default  0.000000     given different  0.000000   5.0000   5.0000\n",
       "103   Default  0.000000       got treatment  0.000000   4.0000   4.0000\n",
       "236   Default  1.000000         staff lousy  1.000000   3.0000   3.0000\n",
       "208   Default  0.000000          room clean  0.000000   2.0000   2.0000\n",
       "3     Default  0.000000           area okay  0.000000   1.0000   1.0000\n",
       "...       ...       ...                 ...       ...      ...      ...\n",
       "54     Topic5  0.003721       crib provided  0.917497   0.1348  -5.5789\n",
       "168    Topic5  0.003916           open near  0.966050   0.1343  -5.5279\n",
       "174    Topic5  0.003687           pack play  0.910537   0.1332  -5.5881\n",
       "98     Topic5  0.003791     given different  0.936386   0.1329  -5.5605\n",
       "51     Topic5  0.003772   conversation room  0.933974   0.1307  -5.5653\n",
       "208    Topic5  0.003540          room clean  0.877181   0.1298  -5.6289\n",
       "229    Topic5  0.003956        service stay  0.984573   0.1255  -5.5176\n",
       "22     Topic5  0.003696       best included  0.921204   0.1241  -5.5856\n",
       "201    Topic5  0.004041        return hurry  1.007856   0.1234  -5.4964\n",
       "39     Topic5  0.003593           care baby  0.898655   0.1203  -5.6141\n",
       "91     Topic5  0.003770  financial district  0.947678   0.1154  -5.5659\n",
       "275    Topic5  0.003736       worse service  0.939707   0.1149  -5.5749\n",
       "56     Topic5  0.003760           days stay  0.949107   0.1112  -5.5687\n",
       "83     Topic5  0.003847         fairly bare  0.971822   0.1106  -5.5456\n",
       "152    Topic5  0.003880     mention parking  0.990093   0.1003  -5.5372\n",
       "265    Topic5  0.003846    want embarcadero  0.983445   0.0983  -5.5460\n",
       "171    Topic5  0.003830         orbitz star  0.979227   0.0985  -5.5501\n",
       "236    Topic5  0.004014         staff lousy  1.064241   0.0622  -5.5031\n",
       "157    Topic5  0.003827           near area  0.979355   0.0976  -5.5509\n",
       "17     Topic5  0.003830      basic terrible  0.980577   0.0970  -5.5502\n",
       "3      Topic5  0.003850           area okay  0.990863   0.0918  -5.5450\n",
       "151    Topic5  0.003975     manager reverse  1.073939   0.0434  -5.5129\n",
       "1      Topic5  0.003845     adjoining suite  0.996128   0.0853  -5.5462\n",
       "43     Topic5  0.003960     checked charged  1.098543   0.0168  -5.5169\n",
       "268    Topic5  0.003812           way fixed  0.975849   0.0972  -5.5549\n",
       "38     Topic5  0.003882      building right  1.064010   0.0290  -5.5366\n",
       "90     Topic5  0.003884      ferry building  1.100686  -0.0044  -5.5361\n",
       "93     Topic5  0.003820         fixed views  0.987201   0.0877  -5.5528\n",
       "73     Topic5  0.003847           duty rude  1.094180  -0.0081  -5.5457\n",
       "114    Topic5  0.003830         hit checked  1.063604   0.0158  -5.5502\n",
       "\n",
       "[238 rows x 6 columns], token_table=      Topic      Freq                   Term\n",
       "term                                        \n",
       "3         2  1.009222              area okay\n",
       "6         1  0.931996          attached mall\n",
       "7         1  0.913846            august room\n",
       "10        1  0.921927         away expensive\n",
       "15        2  0.998501             bare walls\n",
       "17        2  1.019808         basic terrible\n",
       "19        2  1.023046          bathroom away\n",
       "21        1  0.903731              bay ferry\n",
       "24        1  0.940922         better service\n",
       "28        1  0.909766             blocks bay\n",
       "30        1  0.938496            booked room\n",
       "31        2  1.039476          bordered rude\n",
       "36        2  1.024783        brown furniture\n",
       "37        1  0.942818   building embarcadaro\n",
       "38        1  0.939841         building right\n",
       "40        2  1.042323          certain times\n",
       "43        1  0.910297        checked charged\n",
       "49        2  1.012237       concierge stress\n",
       "50        1  0.905506       concierges great\n",
       "52        2  1.026475           cost dollars\n",
       "55        1  0.935274              days july\n",
       "57        2  1.023806          desk actually\n",
       "59        1  0.701671             desk staff\n",
       "61        2  0.972316               did feel\n",
       "67        1  0.911457    disliked concierges\n",
       "69        2  1.002013            dollars day\n",
       "70        2  1.012985           dont elegant\n",
       "71        1  0.929712              door stay\n",
       "73        1  0.913926              duty rude\n",
       "78        2  1.056067       embarcadero area\n",
       "...     ...       ...                    ...\n",
       "167       2  1.013956              okay want\n",
       "172       2  1.018680         oriented hotel\n",
       "178       2  0.996302           parking cost\n",
       "180       2  1.032109          people return\n",
       "181       1  0.940734       picture attached\n",
       "183       2  0.980641         plush expected\n",
       "190       2  1.035831         quite oriented\n",
       "199       1  0.949164          reserved room\n",
       "200       1  0.922003  restaurants expensive\n",
       "201       2  0.992205           return hurry\n",
       "204       1  0.945891              rise mall\n",
       "210       1  0.925265             room great\n",
       "219       2  0.999660            rooms quite\n",
       "220       1  0.906972              rude lazy\n",
       "223       1  0.909282          said downtown\n",
       "224       1  0.921127            sale booked\n",
       "225       1  0.886167          san francisco\n",
       "230       1  0.899789           service tech\n",
       "234       2  0.984904            staff going\n",
       "236       1  0.939636            staff lousy\n",
       "240       1  0.921220            stay nights\n",
       "244       1  0.885864          stayed nights\n",
       "246       2  1.011819   stress knowledgeable\n",
       "249       1  0.933198            tech showed\n",
       "250       2  1.005887       terrible mishaps\n",
       "253       1  0.887455        things disliked\n",
       "263       2  1.014983         walls hallways\n",
       "264       1  0.943438             walls hear\n",
       "265       2  1.016834       want embarcadero\n",
       "268       2  1.024749              way fixed\n",
       "\n",
       "[94 rows x 3 columns], R=30, lambda_step=0.01, plot_opts={'xlab': 'PC1', 'ylab': 'PC2'}, topic_order=[2, 4, 3, 1, 5])"
      ]
     },
     "execution_count": 19,
     "metadata": {},
     "output_type": "execute_result"
    }
   ],
   "source": [
    "pyLDAvis.sklearn.prepare(analyzer.neg_lda_tf, analyzer.neg_dtm_tf, analyzer.neg_tf_vectorizer)"
   ]
  },
  {
   "cell_type": "code",
   "execution_count": 20,
   "metadata": {
    "collapsed": true
   },
   "outputs": [],
   "source": [
    "# set the story line and work flow\n",
    "# make sure the work flow shows a cycle of iteration\n",
    "# know who you're talking too\n",
    "# the trigrams that don't make sense, show that you looked into it and how you can learn from it\n",
    "# focus on the signal you get, then explain what it says about your model\n",
    "# remember this is unsupervised so you'll have to guide the story\n",
    "# when you give reccomendations, possibly show a snippet of a customer review under it. That way the user has context to see which one they wanna pick\n",
    "    # make it a dictionary, that way you can print the results as a dataframe\n"
   ]
  },
  {
   "cell_type": "code",
   "execution_count": 69,
   "metadata": {
    "collapsed": true
   },
   "outputs": [],
   "source": [
    "# 1) room 2) room/cleanliness 3) service 4) everything 5) everything/value"
   ]
  },
  {
   "cell_type": "code",
   "execution_count": 26,
   "metadata": {
    "collapsed": true
   },
   "outputs": [],
   "source": [
    "# https://www.tripadvisor.com/Hotel_Review-g60713-d81204-Reviews-Le_Meridien_San_Francisco-San_Francisco_California.html\n",
    "\n",
    "# Yes you can just look at this hotel and check for poor rating from customers. But what if you want to look at the negative feedback\n",
    "# from customers who still gave 4-5 stars?"
   ]
  },
  {
   "cell_type": "code",
   "execution_count": null,
   "metadata": {
    "collapsed": true
   },
   "outputs": [],
   "source": [
    "# pickle out san francisco tfidf vector\n",
    "pickle.dump(san_francisco, open('san_francisco.pkle', 'wb'))"
   ]
  },
  {
   "cell_type": "code",
   "execution_count": 1,
   "metadata": {
    "collapsed": true
   },
   "outputs": [],
   "source": [
    "# load in pickle and then get cosine score"
   ]
  },
  {
   "cell_type": "code",
   "execution_count": 2,
   "metadata": {
    "collapsed": true
   },
   "outputs": [],
   "source": [
    "sf_vector = pickle.load(open('san_francisco.pkle', 'rb'))"
   ]
  },
  {
   "cell_type": "code",
   "execution_count": 20,
   "metadata": {
    "collapsed": true
   },
   "outputs": [],
   "source": [
    "# picky_person = Person(sf_vector)"
   ]
  },
  {
   "cell_type": "code",
   "execution_count": 17,
   "metadata": {
    "collapsed": true
   },
   "outputs": [],
   "source": [
    "# picky_person.search()"
   ]
  },
  {
   "cell_type": "code",
   "execution_count": 16,
   "metadata": {
    "collapsed": true
   },
   "outputs": [],
   "source": [
    "# picky_person.cosine_similarities"
   ]
  },
  {
   "cell_type": "code",
   "execution_count": 18,
   "metadata": {
    "collapsed": true
   },
   "outputs": [],
   "source": [
    "# top_scores = [int(num*100) for num in sorted(picky_person.cosine_similarities[0])[::-1][:3]]"
   ]
  },
  {
   "cell_type": "code",
   "execution_count": 19,
   "metadata": {
    "collapsed": true
   },
   "outputs": [],
   "source": [
    "# top_scores"
   ]
  },
  {
   "cell_type": "code",
   "execution_count": null,
   "metadata": {
    "collapsed": true
   },
   "outputs": [],
   "source": []
  },
  {
   "cell_type": "code",
   "execution_count": null,
   "metadata": {
    "collapsed": true
   },
   "outputs": [],
   "source": []
  },
  {
   "cell_type": "code",
   "execution_count": null,
   "metadata": {
    "collapsed": true
   },
   "outputs": [],
   "source": []
  },
  {
   "cell_type": "code",
   "execution_count": null,
   "metadata": {
    "collapsed": true
   },
   "outputs": [],
   "source": []
  },
  {
   "cell_type": "code",
   "execution_count": null,
   "metadata": {
    "collapsed": true
   },
   "outputs": [],
   "source": []
  }
 ],
 "metadata": {
  "kernelspec": {
   "display_name": "Python 3",
   "language": "python",
   "name": "python3"
  },
  "language_info": {
   "codemirror_mode": {
    "name": "ipython",
    "version": 3
   },
   "file_extension": ".py",
   "mimetype": "text/x-python",
   "name": "python",
   "nbconvert_exporter": "python",
   "pygments_lexer": "ipython3",
   "version": "3.6.4"
  }
 },
 "nbformat": 4,
 "nbformat_minor": 2
}
