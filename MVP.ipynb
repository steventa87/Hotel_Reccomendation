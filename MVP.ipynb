{
 "cells": [
  {
   "cell_type": "code",
   "execution_count": 2,
   "metadata": {},
   "outputs": [],
   "source": [
    "from hotel_map import Hotel_Map\n",
    "from hotel_tfidf import Hotel_Tfidf\n",
    "from hotel_kmeans import Hotel_Kmeans\n",
    "from sklearn.feature_extraction.text import TfidfVectorizer\n",
    "from sklearn.metrics.pairwise import cosine_similarity\n",
    "from sklearn.metrics.pairwise import linear_kernel\n",
    "import pandas as pd\n",
    "import numpy as np\n",
    "import datetime\n",
    "import pickle\n",
    "import matplotlib.pyplot as plt\n",
    "import os\n",
    "%matplotlib inline"
   ]
  },
  {
   "cell_type": "markdown",
   "metadata": {},
   "source": [
    "# Content Based Reccomender - Hotels\n",
    "    - Data: TripAdvisor\n",
    "        - Can search any city\n",
    "        - ONLY user reviews"
   ]
  },
  {
   "cell_type": "code",
   "execution_count": null,
   "metadata": {
    "collapsed": true
   },
   "outputs": [],
   "source": []
  },
  {
   "cell_type": "code",
   "execution_count": null,
   "metadata": {
    "collapsed": true
   },
   "outputs": [],
   "source": []
  },
  {
   "cell_type": "code",
   "execution_count": null,
   "metadata": {
    "collapsed": true
   },
   "outputs": [],
   "source": []
  },
  {
   "cell_type": "markdown",
   "metadata": {},
   "source": [
    "# First step, fly to vacation spot. New York City :)"
   ]
  },
  {
   "cell_type": "markdown",
   "metadata": {},
   "source": [
    "## Class that maps hotels to reviews, vectorizes, and can cluster"
   ]
  },
  {
   "cell_type": "code",
   "execution_count": 7,
   "metadata": {
    "collapsed": true
   },
   "outputs": [],
   "source": [
    "new_york_city = Hotel_Cluster('data/new-york-city/')"
   ]
  },
  {
   "cell_type": "code",
   "execution_count": 2,
   "metadata": {
    "collapsed": true
   },
   "outputs": [],
   "source": [
    "san_francisco = Hotel_Cluster('data/san-francisco/')"
   ]
  },
  {
   "cell_type": "markdown",
   "metadata": {},
   "source": [
    "#### - group all hotel reviews to their hotel"
   ]
  },
  {
   "cell_type": "code",
   "execution_count": 8,
   "metadata": {},
   "outputs": [
    {
     "name": "stdout",
     "output_type": "stream",
     "text": [
      "There are 256 hotels in the dataset.\n",
      "Total stemmed and tokenized words: 9020605\n"
     ]
    }
   ],
   "source": [
    "new_york_city.make_map()"
   ]
  },
  {
   "cell_type": "code",
   "execution_count": 3,
   "metadata": {},
   "outputs": [
    {
     "name": "stdout",
     "output_type": "stream",
     "text": [
      "There are 212 hotels in the dataset.\n",
      "Total stemmed and tokenized words: 4729386\n"
     ]
    }
   ],
   "source": [
    "san_francisco.make_map()"
   ]
  },
  {
   "cell_type": "markdown",
   "metadata": {},
   "source": [
    "#### - tfidf vectorized matrix"
   ]
  },
  {
   "cell_type": "code",
   "execution_count": 9,
   "metadata": {},
   "outputs": [
    {
     "name": "stdout",
     "output_type": "stream",
     "text": [
      "tfidf shape: (256, 9232)\n"
     ]
    }
   ],
   "source": [
    "new_york_city.vectorize()"
   ]
  },
  {
   "cell_type": "code",
   "execution_count": 4,
   "metadata": {},
   "outputs": [
    {
     "name": "stdout",
     "output_type": "stream",
     "text": [
      "tfidf shape: (212, 5676)\n"
     ]
    }
   ],
   "source": [
    "san_francisco.vectorize()"
   ]
  },
  {
   "cell_type": "markdown",
   "metadata": {},
   "source": [
    "## Person Class for each search"
   ]
  },
  {
   "cell_type": "code",
   "execution_count": 12,
   "metadata": {
    "collapsed": true
   },
   "outputs": [],
   "source": [
    "from Person import Person"
   ]
  },
  {
   "cell_type": "markdown",
   "metadata": {},
   "source": [
    "#### - initialize new annoying customer"
   ]
  },
  {
   "cell_type": "code",
   "execution_count": 13,
   "metadata": {
    "collapsed": true
   },
   "outputs": [],
   "source": [
    "picky_person = Person(new_york_city)"
   ]
  },
  {
   "cell_type": "code",
   "execution_count": null,
   "metadata": {
    "collapsed": true
   },
   "outputs": [],
   "source": [
    "another_jerk = Person(san_francisco)"
   ]
  },
  {
   "cell_type": "markdown",
   "metadata": {},
   "source": [
    "#### - begin search using cosine similarities"
   ]
  },
  {
   "cell_type": "code",
   "execution_count": 14,
   "metadata": {},
   "outputs": [
    {
     "name": "stdout",
     "output_type": "stream",
     "text": [
      "\n",
      "\n",
      "cozy hotel with a kitchen and near soho\n",
      "['usa_new york city_soho_grand_hotel', 'usa_new york city_off_soho_suites', 'usa_new york city_four_points_by_sheraton_manhattan_soho_village']\n",
      "\n"
     ]
    }
   ],
   "source": [
    "picky_person.search()"
   ]
  },
  {
   "cell_type": "markdown",
   "metadata": {},
   "source": [
    "#### For now, I did K-means clustering to compare keywords"
   ]
  },
  {
   "cell_type": "code",
   "execution_count": 14,
   "metadata": {
    "scrolled": true
   },
   "outputs": [
    {
     "name": "stdout",
     "output_type": "stream",
     "text": [
      "Fitting K-means\n",
      "Top terms per cluster:\n",
      "\n",
      "Cluster 0 words: b'kitchen', b'kitchenette', b'affinia', b'microwave', b'bedroom', b'sofa', b'club', b'living', b'studio', b'sofa', b'upper', b'nan', b'grocery', b'nan', b'upper', b'san', b'dates', b'balcony', b'museums', b'carnegie',\n",
      "\n",
      "Cluster 0 hotels: usa_new york city_the_belvedere, usa_new york city_lafayette_house, usa_new york city_the_surrey, usa_new york city_affinia_gardens, usa_new york city_best_western_hospitality_house, usa_new york city_aka_united_nations, usa_new york city_hotel_beacon, usa_new york city_affinia_dumont, usa_new york city_affinia_50, usa_new york city_the_marmara_manhattan_luxury_hotel_residence, usa_new york city_the_kimberly_hotel, usa_new york city_the_sherry_netherland_hotel, usa_new york city_the_lombardy, usa_new york city_lowell_hotel, usa_new york city_affinia_manhattan, usa_new york city_west_57th_street_by_hilton_club, usa_new york city_envoy_club, usa_new york city_phillips_club, usa_new york city_the_manhattan_club, usa_new york city_salisbury_hotel, usa_new york city_the_benjamin, usa_new york city_the_mark, usa_new york city_the_helmsley_carlton_house, usa_new york city_buckingham_hotel, usa_new york city_the_milburn_hotel, usa_new york city_the_blakely_new_york, usa_new york city_beekman_tower_hotel, usa_new york city_san_carlos_hotel,\n",
      "\n",
      "Cluster 1 words: b'chelsea', b'hampton', b'inn', b'8th', b'penn', b'garden', b'port', b'penn', b'lodged', b'continental', b'continental', b'9th', b'nan', b'authorized', b'port', b'nan', b'brands', b'new', b'bus', b'brands',\n",
      "\n",
      "Cluster 1 hotels: usa_new york city_the_premier, usa_new york city_hilton_garden_inn_chelsea, usa_new york city_the_hampton_inn_times_square_north, usa_new york city_the_gem_hotel_chelsea, usa_new york city_chelsea_savoy_hotel, usa_new york city_four_points_by_sheraton_manhattan_chelsea, usa_new york city_the_gem_hotel_midtown_west, usa_new york city_hampton_inn_manhattan_times_square_south, usa_new york city_chelsea_lodge, usa_new york city_best_western_convention_center_hotel, usa_new york city_four_points_by_sheraton_midtown_times_square, usa_new york city_doubletree_hotel_chelsea_new_york_city, usa_new york city_chelsea_pines_inn, usa_new york city_hotel_indigo_new_york_city_chelsea, usa_new york city_comfort_inn_midtown_manhattan, usa_new york city_the_sylvan_guest_house, usa_new york city_econo_lodge_times_square, usa_new york city_wyndham_garden_hotel_times_square_south, usa_new york city_fairfield_inn_new_york_manhattan_times_square_south, usa_new york city_hampton_inn_manhattan_chelsea, usa_new york city_holiday_inn_express_new_york_city_times_square, usa_new york city_candlewood_suites_new_york_city_times_square,\n",
      "\n",
      "Cluster 2 words: b'nan', b'nan', b'wine', b'club', b'boutique', b'continental', b'cheese', b'continental', b'deluxe', b'boutique', b'library', b'plaza', b'marble', b'madison', b'theater', b'chocolates', b'theatre', b'seasons', b'elegant', b'rockefeller',\n",
      "\n",
      "Cluster 2 hotels: usa_new york city_hotel_giraffe, usa_new york city_the_michelangelo_hotel, usa_new york city_club_quarters_downtown, usa_new york city_the_shoreham, usa_new york city_casablanca_hotel, usa_new york city_the_bryant_park, usa_new york city_club_quarters_midtown, usa_new york city_chambers_hotel, usa_new york city_the_waldorf_astoria, usa_new york city_the_iroquois, usa_new york city_carvi_hotel_new_york, usa_new york city_park_south_hotel, usa_new york city_library_hotel, usa_new york city_the_mave, usa_new york city_jumeirah_essex_house, usa_new york city_wall_street_inn, usa_new york city_the_french_quarters_guest_apartments, usa_new york city_the_mansfield, usa_new york city_crosby_street_hotel, usa_new york city_cooper_square_hotel, usa_new york city_the_time, usa_new york city_omni_berkshire_place, usa_new york city_sofitel_new_york, usa_new york city_sheraton_new_york_hotel_towers, usa_new york city_3_west_club, usa_new york city_city_club_hotel, usa_new york city_stay, usa_new york city_the_carlyle_a_rosewood_hotel, usa_new york city_hotel_41_at_times_square, usa_new york city_ace_hotel_nyc, usa_new york city_loews_regency_hotel, usa_new york city_eurostars_wall_street, usa_new york city_night_hotel, usa_new york city_the_helmsley_park_lane, usa_new york city_waldorf_towers, usa_new york city_414_hotel, usa_new york city_washington_square_hotel, usa_new york city_hotel_elysee, usa_new york city_roger_williams_hotel, usa_new york city_the_pierre, usa_new york city_hotel_mela, usa_new york city_the_franklin, usa_new york city_four_seasons_hotel_new_york, usa_new york city_algonquin_hotel, usa_new york city_royalton_hotel_new_york_city, usa_new york city_gild_hall, usa_new york city_the_muse_hotel_new_york_a_kimpton_hotel, usa_new york city_6_columbus, usa_new york city_duane_street_hotel, usa_new york city_dream, usa_new york city_the_ritz_carlton_new_york_central_park, usa_new york city_fitzpatrick_manhattan, usa_new york city_the_st_regis_hotel_new_york, usa_new york city_new_york_palace_hotel, usa_new york city_the_plaza, usa_new york city_plaza_athenee_hotel, usa_new york city_the_london_nyc, usa_new york city_flatotel, usa_new york city_warwick_new_york_hotel, usa_new york city_ink48_a_kimpton_hotel, usa_new york city_the_hotel_at_times_square,\n",
      "\n",
      "Cluster 3 words: b'inn', b'empire', b'empire', b'states', b'empire', b'macy', b'nan', b'nan', b'macy', b'penn', b'penn', b'continental', b'holiday', b'budget', b'view', b'view', b'bagels', b'continental', b'cereals', b'madison',\n",
      "\n",
      "Cluster 3 hotels: usa_new york city_red_roof_inn_manhattan, usa_new york city_comfort_inn_midtown_west_convention_center, usa_new york city_comfort_inn_chelsea, usa_new york city_ramada_eastside, usa_new york city_travel_inn_hotel_new_york, usa_new york city_inn_new_york_city, usa_new york city_residence_inn_by_marriott_times_square_new_york, usa_new york city_comfort_inn_times_square, usa_new york city_hampton_inn_madison_square_garden, usa_new york city_americana_inn, usa_new york city_hotel_grand_union, usa_new york city_hotel_chandler, usa_new york city_hotel_31, usa_new york city_wolcott_hotel, usa_new york city_vincci_avalon, usa_new york city_hotel_metro, usa_new york city_hampton_inn_35th_st_empire_state_building, usa_new york city_the_carlton, usa_new york city_radisson_martinique_on_broadway, usa_new york city_la_quinta_manhattan, usa_new york city_broadway_plaza_hotel, usa_new york city_holiday_inn_midtown_57th_st, usa_new york city_hotel_373, usa_new york city_murray_hill_inn, usa_new york city_holiday_inn_nyc_manhattan_6th_avenue, usa_new york city_holiday_inn_express_nyc_madison_square_garden, usa_new york city_comfort_inn_manhattan, usa_new york city_thirty_thirty_hotel, usa_new york city_the_herald_square_hotel, usa_new york city_the_new_yorker_hotel, usa_new york city_the_inn_at_irving_place, usa_new york city_hotel_stanford, usa_new york city_wingate_by_wyndham_manhattan_midtown, usa_new york city_holiday_inn_express_new_york_city_fifth_ave, usa_new york city_comfort_inn_midtown, usa_new york city_morgans_hotel, usa_new york city_hilton_garden_inn_new_york_west_35th,\n",
      "\n",
      "Cluster 4 words: b'grand', b'central', b'grand', b'empire', b'chrysler', b'empire', b'nan', b'nan', b'chrysler', b'murray', b'kitchen', b'walking', b'walking', b'hill', b'states', b'empire', b'priceline', b'kitchenette', b'lexington', b'park',\n",
      "\n",
      "Cluster 4 hotels: usa_new york city_the_roosevelt_hotel, usa_new york city_the_new_york_helmsley, usa_new york city_70_park_avenue_hotel_a_kimpton_hotel, usa_new york city_roger_smith_hotel, usa_new york city_the_alex_hotel, usa_new york city_intercontinental_the_barclay_new_york, usa_new york city_bedford_hotel, usa_new york city_grand_hyatt_new_york, usa_new york city_murray_hill_east_suites, usa_new york city_fitzpatrick_grand_central_hotel, usa_new york city_affinia_shelburne, usa_new york city_millennium_un_plaza_hotel, usa_new york city_tudor_hotel_at_the_united_nations, usa_new york city_dylan_hotel, usa_new york city_kitano_new_york, usa_new york city_eastgate_tower,\n",
      "\n",
      "Cluster 5 words: b'soho', b'pool', b'rooftops', b'tribeca', b'hip', b'spa', b'hudson', b'trendy', b'roof', b'floor', b'nan', b'village', b'nan', b'ceilings', b'boutique', b'club', b'lower', b'deluxe', b'mandarin', b'greenwich',\n",
      "\n",
      "Cluster 5 hotels: usa_new york city_peninsula_new_york, usa_new york city_the_bowery_hotel, usa_new york city_le_parker_meridien, usa_new york city_soho_house_new_york, usa_new york city_soho_grand_hotel, usa_new york city_hudson_hotel, usa_new york city_thompson_les, usa_new york city_hotel_east_houston, usa_new york city_room_mate_grace, usa_new york city_60_thompson, usa_new york city_courtyard_by_marriott_new_york_manhattan_upper_east_side, usa_new york city_the_standard_new_york, usa_new york city_mandarin_oriental_new_york, usa_new york city_greenwich_hotel, usa_new york city_hotel_gansevoort, usa_new york city_hotel_on_rivington, usa_new york city_gramercy_park_hotel, usa_new york city_tribeca_grand_hotel, usa_new york city_empire_hotel, usa_new york city_four_points_by_sheraton_manhattan_soho_village, usa_new york city_smyth_hotel_a_thompson_hotel, usa_new york city_the_mercer_hotel, usa_new york city_the_maritime_hotel,\n",
      "\n",
      "Cluster 6 words: b'chinatown', b'soho', b'italy', b'little', b'bridge', b'seaport', b'canal', b'inn', b'hampton', b'lower', b'nan', b'blue', b'nan', b'brooklyn', b'village', b'china', b'tribeca', b'brooklyn', b'china', b'gems',\n",
      "\n",
      "Cluster 6 hotels: usa_new york city_off_soho_suites, usa_new york city_the_gem_hotel_soho, usa_new york city_best_western_seaport_inn_downtown, usa_new york city_blue_moon_hotel, usa_new york city_the_hotel_91, usa_new york city_hilton_garden_inn_tribeca, usa_new york city_clarion_collection_the_solita_soho_hotel, usa_new york city_comfort_inn_manhattan_bridge, usa_new york city_hampton_inn_new_york_seaport_financial_district, usa_new york city_holiday_inn_manhattan_downtown_soho, usa_new york city_best_western_bowery_hanbee_hotel, usa_new york city_hampton_inn_manhattan_soho,\n",
      "\n",
      "Cluster 7 words: b'marriott', b'hiltons', b'rockefeller', b'doubletree', b'club', b'plaza', b'rockefeller', b'courtyard', b'theatre', b'stay', b'river', b'security', b'westin', b'marquis', b'liberty', b'buffet', b'ground', b'great', b'statue', b'empire',\n",
      "\n",
      "Cluster 7 hotels: usa_new york city_milford_plaza_hotel, usa_new york city_new_york_marriott_east_side, usa_new york city_millenium_hilton, usa_new york city_hilton_new_york, usa_new york city_embassy_suites_hotel_new_york_city, usa_new york city_courtyard_new_york_manhattan_midtown_east, usa_new york city_the_westin_new_york_at_times_square, usa_new york city_courtyard_new_york_manhattan_fifth_avenue, usa_new york city_doubletree_guest_suites_times_square, usa_new york city_new_york_marriott_downtown, usa_new york city_club_quarters_rockefeller_center, usa_new york city_new_york_marriott_marquis, usa_new york city_hilton_club_new_york, usa_new york city_crowne_plaza_times_square_manhattan, usa_new york city_renaissance_new_york_hotel_57, usa_new york city_millennium_hotel_broadway, usa_new york city_renaissance_new_york_hotel_times_square, usa_new york city_hilton_times_square, usa_new york city_courtyard_by_marriott_new_york_manhattan_times_square_south, usa_new york city_novotel_new_york_times_square, usa_new york city_doubletree_metropolitan_hotel, usa_new york city_ritz_carlton_battery_park, usa_new york city_hilton_garden_inn_times_square, usa_new york city_rockefeller_center_hotel,\n",
      "\n",
      "Cluster 8 words: b'nan', b'nan', b'upper', b'budget', b'upper', b'diner', b'double', b'museums', b'private', b'hot', b'naturally', b'deli', b'bus', b'union', b'union', b'history', b'radiating', b'hostel', b'naturally', b'budget',\n",
      "\n",
      "Cluster 8 hotels: usa_new york city_hotel_deauville, usa_new york city_da_vinci_hotel, usa_new york city_seafarers_international_house, usa_new york city_the_pod_hotel, usa_new york city_skyline_hotel, usa_new york city_moderne_hotel, usa_new york city_carlton_arms, usa_new york city_woogo_central_park, usa_new york city_the_jane, usa_new york city_hotel_99, usa_new york city_astor_on_the_park, usa_new york city_belleclaire_hotel, usa_new york city_bentley_hotel, usa_new york city_cosmopolitan_hotel_tribeca, usa_new york city_the_grant_hotel, usa_new york city_amsterdam_court_hotel, usa_new york city_washington_jefferson_hotel, usa_new york city_park_79_hotel, usa_new york city_excelsior_hotel, usa_new york city_wellington_hotel, usa_new york city_hotel_newton, usa_new york city_the_lucerne_hotel, usa_new york city_hotel_reserve, usa_new york city_helmsley_middletowne_hotel, usa_new york city_hotel_st_james, usa_new york city_hotel_wales, usa_new york city_the_marcel_at_gramercy, usa_new york city_hotel_17, usa_new york city_on_the_ave_hotel,\n",
      "\n",
      "Cluster 9 words: b'w', b'stay', b'w', b'court', b'union', b'union', b'hip', b'trendy', b'products', b'grand', b'spectacular', b'nan', b'nan', b'corner', b'lexington', b'blue', b'w.', b'whatever', b'living', b'music',\n",
      "\n",
      "Cluster 9 hotels: usa_new york city_w_new_york_union_square, usa_new york city_w_new_york_times_square, usa_new york city_w_new_york_the_court, usa_new york city_w_new_york_the_tuscany,\n",
      "\n"
     ]
    }
   ],
   "source": [
    "new_york_city.get_clusters()"
   ]
  },
  {
   "cell_type": "code",
   "execution_count": 5,
   "metadata": {},
   "outputs": [
    {
     "name": "stdout",
     "output_type": "stream",
     "text": [
      "Fitting K-means\n",
      "Top terms per cluster:\n",
      "\n",
      "Cluster 0 words: b'court', b'vintage', b'nob', b'nob', b'hill', b'wine', b'b', b'wine', b'b', b'amp', b'tea', b'beautiful', b'juice', b'tasteful', b'cable', b'pacific', b'home', b'continental', b'home', b'muffins',\n",
      "\n",
      "Cluster 0 hotels: usa_san francisco_jackson_court_san_francisco, usa_san francisco_nob_hill_hotel, usa_san francisco_executive_hotel_vintage_court,\n",
      "\n",
      "Cluster 1 words: b'fisherman', b\"'s\", b'fisherman', b'cable', b'inn', b'piers', b'holiday', b'holiday', b'alcatraz', b'concierge', b'tours', b'pool', b'courtyard', b'fisherman', b'sheraton', b'marriott', b'suite', b'wine', b'columbus', b'expensive',\n",
      "\n",
      "Cluster 1 hotels: usa_san francisco_holiday_inn_san_francisco_fishermans_wharf, usa_san francisco_sheraton_fisherman_s_wharf_hotel, usa_san francisco_hyatt_at_fisherman_s_wharf, usa_san francisco_holiday_inn_express_san_francisco_fisherman_s_wharf, usa_san francisco_hilton_san_francisco_fisherman_s_wharf, usa_san francisco_best_western_tuscan_inn_fisherman_s_wharf_a_kimpton_hotel, usa_san francisco_marriott_san_francisco_fisherman_s_wharf, usa_san francisco_holiday_inn_san_francisco_golden_gateway, usa_san francisco_radisson_hotel_fisherman_s_wharf, usa_san francisco_courtyard_by_marriott_fisherman_s_wharf, usa_san francisco_argonaut_hotel_a_kimpton_hotel, usa_san francisco_the_wharf_inn, usa_san francisco_suites_at_fisherman_s_wharf, usa_san francisco_columbus_motor_inn,\n",
      "\n",
      "Cluster 2 words: b'club', b'pool', b'concierge', b'beautiful', b'market', b'cable', b'upgraded', b'bart', b'suite', b'expensive', b'room', b'valet', b'nan', b'nan', b'modern', b'homeless', b'king', b'marriott', b'dinner', b'spacious',\n",
      "\n",
      "Cluster 2 hotels: usa_san francisco_hotel_nikko_san_francisco, usa_san francisco_the_ritz_carlton, usa_san francisco_holiday_inn_civic_center_san_francisco, usa_san francisco_phoenix_hotel, usa_san francisco_four_seasons_hotel_san_francisco, usa_san francisco_campton_place_hotel, usa_san francisco_hotel_kabuki, usa_san francisco_best_western_carriage_inn, usa_san francisco_westin_san_francisco_market_street, usa_san francisco_clift_hotel_san_francisco, usa_san francisco_university_club, usa_san francisco_hilton_san_francisco_financial_district, usa_san francisco_hotel_whitcomb, usa_san francisco_best_western_americania, usa_san francisco_handlery_union_square_hotel, usa_san francisco_inn_at_the_opera, usa_san francisco_grand_hyatt_san_francisco, usa_san francisco_courtyard_san_francisco_downtown, usa_san francisco_hotel_milano, usa_san francisco_best_western_hotel_tomo, usa_san francisco_st_regis_hotel_san_francisco, usa_san francisco_intercontinental_san_francisco, usa_san francisco_omni_san_francisco_hotel, usa_san francisco_the_westin_st_francis, usa_san francisco_cova_hotel, usa_san francisco_the_huntington_hotel_nob_hill_spa, usa_san francisco_club_quarters_san_francisco, usa_san francisco_san_francisco_marriott_marquis, usa_san francisco_intercontinental_mark_hopkins_san_francisco, usa_san francisco_hotel_frank, usa_san francisco_w_san_francisco, usa_san francisco_hotel_palomar_san_francisco_a_kimpton_hotel, usa_san francisco_marines_memorial_club_hotel, usa_san francisco_hilton_san_francisco_union_square, usa_san francisco_the_good_hotel, usa_san francisco_jw_marriott_san_francisco_union_square, usa_san francisco_palace_hotel, usa_san francisco_prescott_hotel_a_kimpton_hotel, usa_san francisco_the_fairmont_san_francisco,\n",
      "\n",
      "Cluster 3 words: b'motel', b'ocean', b'beach', b'inn', b'marina', b'free', b'golden', b'golden', b'gate', b'golden', b'gate', b'highway', b'sealed', b'courtyard', b'lombard', b'rock', b'dog', b'geary', b'owner', b'hospitality',\n",
      "\n",
      "Cluster 3 hotels: usa_san francisco_roberts_at_the_beach_motel, usa_san francisco_marina_motel, usa_san francisco_surf_motel, usa_san francisco_great_highway_motor_inn, usa_san francisco_oceanview_motel, usa_san francisco_seal_rock_inn, usa_san francisco_geary_parkway_motel, usa_san francisco_capri_motel, usa_san francisco_star_motel, usa_san francisco_ocean_park_motel, usa_san francisco_motel_6_san_francisco_downtown, usa_san francisco_beach_motel,\n",
      "\n",
      "Cluster 4 words: b'chinatown', b'granted', b'nan', b'nan', b'north', b'beach', b'north', b'china', b'hostels', b'microwave', b'cable', b'china', b'art', b'room', b'gate', b'centrally', b'sharing', b'fridge', b'tiny', b'paintings',\n",
      "\n",
      "Cluster 4 hotels: usa_san francisco_sw_hotel, usa_san francisco_hotel_beresford, usa_san francisco_layne_hotel, usa_san francisco_hotel_north_beach, usa_san francisco_royal_pacific_motor_inn, usa_san francisco_park_hotel, usa_san francisco_baldwin_hotel, usa_san francisco_the_metro_hotel, usa_san francisco_carl_hotel, usa_san francisco_grant_plaza_hotel, usa_san francisco_the_dakota_hotel, usa_san francisco_crescent_san_francisco, usa_san francisco_the_grant_hotel, usa_san francisco_hotel_boheme, usa_san francisco_hotel_des_arts, usa_san francisco_astoria_hotel,\n",
      "\n",
      "Cluster 5 words: b'bay', b'ferry', b'embarcadero', b'ferry', b'bridge', b'bay', b'view', b'court', b'hyatt', b'concierge', b'view', b'market', b'suite', b'bart', b'farmer', b'valet', b'financial', b'financial', b'beautiful', b'oriented',\n",
      "\n",
      "Cluster 5 hotels: usa_san francisco_le_meridien_san_francisco, usa_san francisco_hotel_vitale, usa_san francisco_mandarin_oriental, usa_san francisco_hotel_griffon, usa_san francisco_harbor_court_hotel_a_kimpton_hotel, usa_san francisco_hyatt_regency_san_francisco,\n",
      "\n",
      "Cluster 6 words: b'homeless', b'dirty', b'inn', b'motel', b'nan', b'bugs', b'nan', b'sheets', b'free', b'market', b'guys', b'homeless', b'bed', b'stains', b'rude', b'tenderloin', b'filthy', b'hostels', b'smoking', b'microwave',\n",
      "\n",
      "Cluster 6 hotels: usa_san francisco_spaulding_hotel, usa_san francisco_america_s_best_inn_san_francisco, usa_san francisco_alexander_inn, usa_san francisco_olympic_hotel, usa_san francisco_oasis_inn, usa_san francisco_the_hotel_tropicana, usa_san francisco_bay_bridge_inn, usa_san francisco_san_francisco_days_inn_downtown_civic_center_area, usa_san francisco_vagabond_inn_san_francisco_civic_center, usa_san francisco_knights_inn_downtown_san_francisco, usa_san francisco_taylor_hotel, usa_san francisco_halcyon_hotel, usa_san francisco_harcourt_hotel, usa_san francisco_ansonia_abby_hotel, usa_san francisco_archstone_south_market, usa_san francisco_steinhart, usa_san francisco_twin_peaks_hotel, usa_san francisco_hotel_mark_twain, usa_san francisco_ramada_limited_san_francisco, usa_san francisco_monarch_hotel, usa_san francisco_renoir_hotel, usa_san francisco_the_opal_san_francisco, usa_san francisco_alexis_park_san_francisco, usa_san francisco_sonoma_inn, usa_san francisco_travelodge_central_san_francisco_hotel, usa_san francisco_the_gaylord, usa_san francisco_touchstone_hotel, usa_san francisco_the_embassy_hotel, usa_san francisco_pontiac_hotel, usa_san francisco_best_western_civic_center_motor_inn, usa_san francisco_rodeway_inn_downtown, usa_san francisco_civic_center_inn, usa_san francisco_union_square_plaza_hotel, usa_san francisco_good_nite_inn_san_francisco_airport, usa_san francisco_mission_inn, usa_san francisco_beck_s_motor_lodge, usa_san francisco_encore_express_hotel, usa_san francisco_verona, usa_san francisco_americas_best_value_inn_suites_union_square, usa_san francisco_stanyan_park_hotel, usa_san francisco_bayside_inn_at_the_wharf_pacific_hotels, usa_san francisco_edwardian_san_francisco_hotel, usa_san francisco_americas_best_value_inn_suites_soma, usa_san francisco_aida_hotel, usa_san francisco_rodeway_inn_civic_center, usa_san francisco_edward_ii_inn_and_suites, usa_san francisco_heritage_marina_hotel, usa_san francisco_mithila, usa_san francisco_presidio_inn_suites, usa_san francisco_cathedral_hill_hotel, usa_san francisco_abigail_hotel, usa_san francisco_fitzgerald_hotel_union_square,\n",
      "\n",
      "Cluster 7 words: b'wine', b'cheese', b'suite', b'fireplace', b'complimentary', b'charms', b'beautiful', b'afternoons', b'cable', b'queen', b'touch', b'cookie', b'boutique', b'inn', b'room', b'continental', b'nan', b'cozy', b'valet', b'continental',\n",
      "\n",
      "Cluster 7 hotels: usa_san francisco_hotel_carlton_a_joie_de_vivre_hotel, usa_san francisco_serrano_hotel_a_kimpton_hotel, usa_san francisco_best_western_the_hotel_california, usa_san francisco_hotel_triton_a_kimpton_hotel, usa_san francisco_fairmont_heritage_place_ghirardelli_square, usa_san francisco_hotel_drisco, usa_san francisco_galleria_park, usa_san francisco_the_queen_anne_hotel, usa_san francisco_the_inn_at_union_square, usa_san francisco_petite_auberge, usa_san francisco_hotel_rex, usa_san francisco_white_swan_inn, usa_san francisco_hotel_majestic, usa_san francisco_hotel_monaco_san_francisco_a_kimpton_hotel, usa_san francisco_the_archbishop_s_mansion, usa_san francisco_hotel_cosmo, usa_san francisco_andrews_hotel, usa_san francisco_beresford_arms,\n",
      "\n",
      "Cluster 8 words: b'inn', b'lombard', b'free', b'motel', b'marina', b'lombard', b'motor', b'nan', b'fisherman', b'bridge', b'nan', b'golden', b'golden', b\"'s\", b'gate', b'fisherman', b'gate', b'golden', b'parking', b'traffic',\n",
      "\n",
      "Cluster 8 hotels: usa_san francisco_nob_hill_motor_inn, usa_san francisco_redwood_inn, usa_san francisco_francisco_bay_inn, usa_san francisco_castle_inn, usa_san francisco_laurel_inn, usa_san francisco_super_8_san_francisco_fisherman_s_wharf, usa_san francisco_town_house, usa_san francisco_travelodge_golden_gate_san_francisco, usa_san francisco_broadway_manor_inn, usa_san francisco_chelsea_motor_inn, usa_san francisco_hotel_del_sol, usa_san francisco_marina_inn, usa_san francisco_buena_vista_motor_inn, usa_san francisco_alpha_inn_and_suites_san_francisco, usa_san francisco_coventry_motor_inn, usa_san francisco_cow_hollow_motor_inn_and_suites, usa_san francisco_comfort_inn_by_the_bay, usa_san francisco_san_francisco_at_the_presidio_travelodge, usa_san francisco_americas_best_value_inn_golden_gate, usa_san francisco_days_inn_lombard_street, usa_san francisco_greenwich_inn, usa_san francisco_la_luna_inn, usa_san francisco_lombard_motor_inn,\n",
      "\n",
      "Cluster 9 words: b'cable', b'powell', b'bart', b'nan', b'nan', b'suite', b'room', b'king', b'wine', b'powell', b'renovated', b'concierge', b'station', b'modern', b'valet', b'spacious', b'muffins', b'hill', b'chinatown', b'blocks',\n",
      "\n",
      "Cluster 9 hotels: usa_san francisco_hotel_metropolis, usa_san francisco_powell_hotel, usa_san francisco_chancellor_hotel_on_union_square, usa_san francisco_sir_francis_drake_hotel_a_kimpton_hotel, usa_san francisco_hotel_fusion, usa_san francisco_hotel_vertigo, usa_san francisco_the_orchard_hotel, usa_san francisco_the_kensington_park_hotel, usa_san francisco_hotel_adagio, usa_san francisco_larkspur_hotel_union_square, usa_san francisco_orchard_garden_hotel, usa_san francisco_hotel_abri_union_square_a_larkspur_collection_hotel, usa_san francisco_villa_florence_hotel_union_square_a_larkspur_collection_hotel, usa_san francisco_hotel_union_square, usa_san francisco_renaissance_stanford_court, usa_san francisco_hotel_bijou, usa_san francisco_the_stratford, usa_san francisco_hotel_mayflower, usa_san francisco_grosvenor_suites, usa_san francisco_the_herbert_hotel, usa_san francisco_warwick_san_francisco_hotel, usa_san francisco_san_francisco_marriott_union_square, usa_san francisco_the_mosser, usa_san francisco_adante_hotel, usa_san francisco_the_donatello_hotel, usa_san francisco_parc_55_hotel, usa_san francisco_king_george_hotel, usa_san francisco_hotel_diva, usa_san francisco_cornell_hotel_de_france,\n",
      "\n"
     ]
    }
   ],
   "source": [
    "san_francisco.get_clusters()"
   ]
  },
  {
   "cell_type": "markdown",
   "metadata": {},
   "source": [
    "# Next steps:\n",
    "    \n",
    "    - run T-SNE module to visualize our high dimensional data\n",
    "    - after giving hotel reccomendations, go back into data set and grab customers \n",
    "    overall rating score\n",
    "    - possibly implement web app\n"
   ]
  },
  {
   "cell_type": "code",
   "execution_count": 10,
   "metadata": {
    "collapsed": true
   },
   "outputs": [],
   "source": [
    "# pickle out new york matrix\n",
    "pickle.dump(obj=new_york_city, file=open(\"new_york_matrix.pkle\", \"wb\"))"
   ]
  },
  {
   "cell_type": "code",
   "execution_count": 11,
   "metadata": {
    "collapsed": true
   },
   "outputs": [],
   "source": [
    "# load pickled new york matrix\n",
    "new_york_city = pickle.load(open(\"new_york_matrix.pkle\", \"rb\"))"
   ]
  },
  {
   "cell_type": "code",
   "execution_count": null,
   "metadata": {
    "collapsed": true
   },
   "outputs": [],
   "source": []
  }
 ],
 "metadata": {
  "kernelspec": {
   "display_name": "Python 3",
   "language": "python",
   "name": "python3"
  },
  "language_info": {
   "codemirror_mode": {
    "name": "ipython",
    "version": 3
   },
   "file_extension": ".py",
   "mimetype": "text/x-python",
   "name": "python",
   "nbconvert_exporter": "python",
   "pygments_lexer": "ipython3",
   "version": "3.6.4"
  }
 },
 "nbformat": 4,
 "nbformat_minor": 2
}
