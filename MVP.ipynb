{
 "cells": [
  {
   "cell_type": "code",
   "execution_count": 4,
   "metadata": {},
   "outputs": [],
   "source": [
    "from hotel_map import Hotel_Map\n",
    "from hotel_tfidf import Hotel_Tfidf\n",
    "from hotel_cluster import Hotel_Cluster\n",
    "from sklearn.feature_extraction.text import TfidfVectorizer\n",
    "from sklearn.metrics.pairwise import cosine_similarity\n",
    "from sklearn.metrics.pairwise import linear_kernel\n",
    "import pandas as pd\n",
    "import numpy as np\n",
    "import datetime\n",
    "import matplotlib.pyplot as plt\n",
    "%matplotlib inline"
   ]
  },
  {
   "cell_type": "markdown",
   "metadata": {},
   "source": [
    "# Content Based Reccomender - Hotels\n",
    "    - Data: TripAdvisor\n",
    "        - ONLY user reviews"
   ]
  },
  {
   "cell_type": "code",
   "execution_count": null,
   "metadata": {},
   "outputs": [],
   "source": []
  },
  {
   "cell_type": "code",
   "execution_count": null,
   "metadata": {},
   "outputs": [],
   "source": []
  },
  {
   "cell_type": "code",
   "execution_count": null,
   "metadata": {},
   "outputs": [],
   "source": []
  },
  {
   "cell_type": "markdown",
   "metadata": {},
   "source": [
    "# First step, fly to vacation spot. New York City :)"
   ]
  },
  {
   "cell_type": "markdown",
   "metadata": {},
   "source": [
    "## Class that maps hotels to reviews, vectorizes, and can cluster"
   ]
  },
  {
   "cell_type": "code",
   "execution_count": 5,
   "metadata": {},
   "outputs": [],
   "source": [
    "new_york_city = Hotel_Cluster('data/new-york-city/')"
   ]
  },
  {
   "cell_type": "markdown",
   "metadata": {},
   "source": [
    "#### - group all hotel reviews to their hotel"
   ]
  },
  {
   "cell_type": "code",
   "execution_count": 6,
   "metadata": {},
   "outputs": [
    {
     "name": "stdout",
     "output_type": "stream",
     "text": [
      "There are 256 hotels in the dataset.\n",
      "Total stemmed and tokenized words: 9020605\n"
     ]
    }
   ],
   "source": [
    "new_york_city.make_map()"
   ]
  },
  {
   "cell_type": "markdown",
   "metadata": {},
   "source": [
    "#### - tfidf vectorized matrix"
   ]
  },
  {
   "cell_type": "code",
   "execution_count": 7,
   "metadata": {},
   "outputs": [
    {
     "name": "stdout",
     "output_type": "stream",
     "text": [
      "tfidf shape: (256, 9232)\n"
     ]
    }
   ],
   "source": [
    "new_york_city.vectorize()"
   ]
  },
  {
   "cell_type": "markdown",
   "metadata": {},
   "source": [
    "## Person Class for each search"
   ]
  },
  {
   "cell_type": "code",
   "execution_count": 10,
   "metadata": {},
   "outputs": [],
   "source": [
    "from Person import Person"
   ]
  },
  {
   "cell_type": "markdown",
   "metadata": {},
   "source": [
    "#### - initialize new annoying customer"
   ]
  },
  {
   "cell_type": "code",
   "execution_count": 11,
   "metadata": {},
   "outputs": [],
   "source": [
    "picky_person = Person(new_york_city)"
   ]
  },
  {
   "cell_type": "markdown",
   "metadata": {},
   "source": [
    "#### - begin search using cosine similarities"
   ]
  },
  {
   "cell_type": "code",
   "execution_count": 13,
   "metadata": {},
   "outputs": [
    {
     "name": "stdout",
     "output_type": "stream",
     "text": [
      "\n",
      "\n",
      "trendy hotel near soho\n",
      "['usa_new york city_soho_grand_hotel', 'usa_new york city_four_points_by_sheraton_manhattan_soho_village', 'usa_new york city_soho_house_new_york']\n",
      "\n",
      "clean hotel near museums\n",
      "['usa_new york city_excelsior_hotel', 'usa_new york city_the_lucerne_hotel', 'usa_new york city_park_79_hotel']\n",
      "\n",
      "I like partying at clubs\n",
      "['usa_new york city_city_club_hotel', 'usa_new york city_the_manhattan_club', 'usa_new york city_envoy_club']\n",
      "\n"
     ]
    }
   ],
   "source": [
    "picky_person.search()"
   ]
  },
  {
   "cell_type": "markdown",
   "metadata": {},
   "source": [
    "#### For now, I did K-means clustering to check for keywords"
   ]
  },
  {
   "cell_type": "code",
   "execution_count": 12,
   "metadata": {},
   "outputs": [
    {
     "name": "stdout",
     "output_type": "stream",
     "text": [
      "Fitting K-means\n",
      "Top terms per cluster:\n",
      "\n",
      "Cluster 0 words: b'nan', b'nan', b'inn', b'continental', b'continental', b'club', b'chelsea', b'hiltons', b'wine', b'bus', b'marriott', b'theatre', b'boutique', b'theater', b'rockefeller', b'bagels', b'double', b'priceline', b'8th', b'empire',\n",
      "\n",
      "Cluster 0 hotels: usa_new york city_best_western_convention_center_hotel, usa_new york city_candlewood_suites_new_york_city_times_square, usa_new york city_comfort_inn_midtown, usa_new york city_casablanca_hotel, usa_new york city_3_west_club, usa_new york city_the_gem_hotel_chelsea, usa_new york city_hilton_times_square, usa_new york city_gild_hall, usa_new york city_club_quarters_rockefeller_center, usa_new york city_the_french_quarters_guest_apartments, usa_new york city_travel_inn_hotel_new_york, usa_new york city_morgans_hotel, usa_new york city_chambers_hotel, usa_new york city_hotel_elysee, usa_new york city_da_vinci_hotel, usa_new york city_the_grant_hotel, usa_new york city_the_muse_hotel_new_york_a_kimpton_hotel, usa_new york city_chelsea_savoy_hotel, usa_new york city_stay, usa_new york city_dream, usa_new york city_the_pod_hotel, usa_new york city_the_hotel_91, usa_new york city_the_hotel_at_times_square, usa_new york city_rockefeller_center_hotel, usa_new york city_park_south_hotel, usa_new york city_helmsley_middletowne_hotel, usa_new york city_new_york_marriott_downtown, usa_new york city_embassy_suites_hotel_new_york_city, usa_new york city_club_quarters_midtown, usa_new york city_best_western_seaport_inn_downtown, usa_new york city_6_columbus, usa_new york city_ace_hotel_nyc, usa_new york city_astor_on_the_park, usa_new york city_the_maritime_hotel, usa_new york city_chelsea_lodge, usa_new york city_hotel_st_james, usa_new york city_hilton_new_york, usa_new york city_the_jane, usa_new york city_hotel_99, usa_new york city_new_york_marriott_east_side, usa_new york city_carlton_arms, usa_new york city_hampton_inn_manhattan_times_square_south, usa_new york city_hampton_inn_new_york_seaport_financial_district, usa_new york city_doubletree_metropolitan_hotel, usa_new york city_carvi_hotel_new_york, usa_new york city_the_gem_hotel_midtown_west, usa_new york city_414_hotel, usa_new york city_west_57th_street_by_hilton_club, usa_new york city_the_mave, usa_new york city_econo_lodge_times_square, usa_new york city_hotel_41_at_times_square, usa_new york city_sheraton_new_york_hotel_towers, usa_new york city_crowne_plaza_times_square_manhattan, usa_new york city_the_bryant_park, usa_new york city_ink48_a_kimpton_hotel, usa_new york city_the_hampton_inn_times_square_north, usa_new york city_wyndham_garden_hotel_times_square_south, usa_new york city_hampton_inn_manhattan_chelsea, usa_new york city_city_club_hotel, usa_new york city_comfort_inn_times_square, usa_new york city_hotel_indigo_new_york_city_chelsea, usa_new york city_w_new_york_times_square, usa_new york city_millenium_hilton, usa_new york city_the_inn_at_irving_place, usa_new york city_chelsea_pines_inn, usa_new york city_moderne_hotel, usa_new york city_the_shoreham, usa_new york city_hilton_garden_inn_times_square, usa_new york city_renaissance_new_york_hotel_times_square, usa_new york city_hotel_wales, usa_new york city_the_westin_new_york_at_times_square, usa_new york city_renaissance_new_york_hotel_57, usa_new york city_holiday_inn_express_new_york_city_fifth_ave, usa_new york city_hotel_17, usa_new york city_hilton_club_new_york, usa_new york city_hotel_mela, usa_new york city_four_points_by_sheraton_midtown_times_square, usa_new york city_four_points_by_sheraton_manhattan_chelsea, usa_new york city_w_new_york_union_square, usa_new york city_washington_square_hotel, usa_new york city_new_york_marriott_marquis, usa_new york city_the_iroquois, usa_new york city_holiday_inn_express_new_york_city_times_square, usa_new york city_skyline_hotel, usa_new york city_night_hotel, usa_new york city_the_time, usa_new york city_novotel_new_york_times_square, usa_new york city_comfort_inn_manhattan_bridge, usa_new york city_hotel_giraffe, usa_new york city_the_premier, usa_new york city_club_quarters_downtown, usa_new york city_fairfield_inn_new_york_manhattan_times_square_south, usa_new york city_cosmopolitan_hotel_tribeca, usa_new york city_royalton_hotel_new_york_city, usa_new york city_wall_street_inn, usa_new york city_comfort_inn_midtown_manhattan, usa_new york city_the_michelangelo_hotel, usa_new york city_hudson_hotel, usa_new york city_millennium_hotel_broadway, usa_new york city_washington_jefferson_hotel, usa_new york city_amsterdam_court_hotel, usa_new york city_the_mansfield, usa_new york city_library_hotel, usa_new york city_seafarers_international_house, usa_new york city_algonquin_hotel, usa_new york city_eurostars_wall_street, usa_new york city_the_marcel_at_gramercy, usa_new york city_hotel_reserve, usa_new york city_sofitel_new_york, usa_new york city_empire_hotel, usa_new york city_holiday_inn_midtown_57th_st, usa_new york city_the_franklin, usa_new york city_milford_plaza_hotel,\n",
      "\n",
      "Cluster 1 words: b'soho', b'pool', b'tribeca', b'chinatown', b'italy', b'little', b'village', b'lower', b'spa', b'rooftops', b'club', b'trendy', b'hip', b'nan', b'ritz', b'floor', b'boutique', b'nan', b'canal', b'greenwich',\n",
      "\n",
      "Cluster 1 hotels: usa_new york city_soho_grand_hotel, usa_new york city_the_bowery_hotel, usa_new york city_the_mercer_hotel, usa_new york city_peninsula_new_york, usa_new york city_hotel_on_rivington, usa_new york city_le_parker_meridien, usa_new york city_best_western_bowery_hanbee_hotel, usa_new york city_clarion_collection_the_solita_soho_hotel, usa_new york city_mandarin_oriental_new_york, usa_new york city_gramercy_park_hotel, usa_new york city_hotel_east_houston, usa_new york city_the_ritz_carlton_new_york_central_park, usa_new york city_hilton_garden_inn_tribeca, usa_new york city_hotel_gansevoort, usa_new york city_the_standard_new_york, usa_new york city_greenwich_hotel, usa_new york city_the_gem_hotel_soho, usa_new york city_off_soho_suites, usa_new york city_soho_house_new_york, usa_new york city_tribeca_grand_hotel, usa_new york city_thompson_les, usa_new york city_blue_moon_hotel, usa_new york city_hampton_inn_manhattan_soho, usa_new york city_ritz_carlton_battery_park, usa_new york city_duane_street_hotel, usa_new york city_crosby_street_hotel, usa_new york city_smyth_hotel_a_thompson_hotel, usa_new york city_four_points_by_sheraton_manhattan_soho_village, usa_new york city_60_thompson, usa_new york city_holiday_inn_manhattan_downtown_soho, usa_new york city_room_mate_grace, usa_new york city_cooper_square_hotel,\n",
      "\n",
      "Cluster 2 words: b'grand', b'central', b'grand', b'w', b'chrysler', b'empire', b'empire', b'nan', b'chrysler', b'nan', b'murray', b'kitchen', b'hill', b'walking', b'walking', b'states', b'empire', b'lexington', b'priceline', b'court',\n",
      "\n",
      "Cluster 2 hotels: usa_new york city_dylan_hotel, usa_new york city_w_new_york_the_tuscany, usa_new york city_70_park_avenue_hotel_a_kimpton_hotel, usa_new york city_fitzpatrick_grand_central_hotel, usa_new york city_intercontinental_the_barclay_new_york, usa_new york city_tudor_hotel_at_the_united_nations, usa_new york city_murray_hill_east_suites, usa_new york city_w_new_york_the_court, usa_new york city_the_roosevelt_hotel, usa_new york city_the_new_york_helmsley, usa_new york city_bedford_hotel, usa_new york city_millennium_un_plaza_hotel, usa_new york city_the_alex_hotel, usa_new york city_roger_smith_hotel, usa_new york city_affinia_shelburne, usa_new york city_kitano_new_york, usa_new york city_eastgate_tower, usa_new york city_grand_hyatt_new_york,\n",
      "\n",
      "Cluster 3 words: b'kitchen', b'kitchenette', b'nan', b'affinia', b'nan', b'upper', b'sofa', b'microwave', b'living', b'bedroom', b'museums', b'upper', b'plaza', b'diner', b'club', b'waldorf', b'sofa', b'upper', b'children', b'dates',\n",
      "\n",
      "Cluster 3 hotels: usa_new york city_bentley_hotel, usa_new york city_affinia_50, usa_new york city_new_york_palace_hotel, usa_new york city_the_plaza, usa_new york city_hotel_beacon, usa_new york city_the_helmsley_carlton_house, usa_new york city_lowell_hotel, usa_new york city_four_seasons_hotel_new_york, usa_new york city_inn_new_york_city, usa_new york city_waldorf_towers, usa_new york city_the_st_regis_hotel_new_york, usa_new york city_best_western_hospitality_house, usa_new york city_jumeirah_essex_house, usa_new york city_the_surrey, usa_new york city_envoy_club, usa_new york city_the_manhattan_club, usa_new york city_excelsior_hotel, usa_new york city_belleclaire_hotel, usa_new york city_plaza_athenee_hotel, usa_new york city_affinia_gardens, usa_new york city_the_marmara_manhattan_luxury_hotel_residence, usa_new york city_warwick_new_york_hotel, usa_new york city_omni_berkshire_place, usa_new york city_salisbury_hotel, usa_new york city_the_belvedere, usa_new york city_affinia_dumont, usa_new york city_the_sherry_netherland_hotel, usa_new york city_woogo_central_park, usa_new york city_buckingham_hotel, usa_new york city_the_benjamin, usa_new york city_fitzpatrick_manhattan, usa_new york city_lafayette_house, usa_new york city_the_mark, usa_new york city_the_milburn_hotel, usa_new york city_the_london_nyc, usa_new york city_the_waldorf_astoria, usa_new york city_the_lombardy, usa_new york city_the_carlyle_a_rosewood_hotel, usa_new york city_hotel_newton, usa_new york city_affinia_manhattan, usa_new york city_wellington_hotel, usa_new york city_flatotel, usa_new york city_the_blakely_new_york, usa_new york city_park_79_hotel, usa_new york city_the_lucerne_hotel, usa_new york city_beekman_tower_hotel, usa_new york city_san_carlos_hotel, usa_new york city_on_the_ave_hotel, usa_new york city_loews_regency_hotel, usa_new york city_the_sylvan_guest_house, usa_new york city_doubletree_guest_suites_times_square, usa_new york city_the_pierre, usa_new york city_courtyard_by_marriott_new_york_manhattan_upper_east_side, usa_new york city_courtyard_new_york_manhattan_midtown_east, usa_new york city_the_helmsley_park_lane, usa_new york city_phillips_club, usa_new york city_aka_united_nations, usa_new york city_the_kimberly_hotel,\n",
      "\n",
      "Cluster 4 words: b'empire', b'empire', b'states', b'empire', b'inn', b'macy', b'nan', b'macy', b'nan', b'penn', b'penn', b'view', b'view', b'garden', b'madison', b'budget', b'madison', b'herald', b'bagels', b'square',\n",
      "\n",
      "Cluster 4 hotels: usa_new york city_ramada_eastside, usa_new york city_the_new_yorker_hotel, usa_new york city_the_carlton, usa_new york city_courtyard_new_york_manhattan_fifth_avenue, usa_new york city_hampton_inn_madison_square_garden, usa_new york city_residence_inn_by_marriott_times_square_new_york, usa_new york city_doubletree_hotel_chelsea_new_york_city, usa_new york city_holiday_inn_nyc_manhattan_6th_avenue, usa_new york city_comfort_inn_manhattan, usa_new york city_courtyard_by_marriott_new_york_manhattan_times_square_south, usa_new york city_wolcott_hotel, usa_new york city_hilton_garden_inn_chelsea, usa_new york city_comfort_inn_midtown_west_convention_center, usa_new york city_red_roof_inn_manhattan, usa_new york city_hotel_31, usa_new york city_holiday_inn_express_nyc_madison_square_garden, usa_new york city_radisson_martinique_on_broadway, usa_new york city_hotel_deauville, usa_new york city_vincci_avalon, usa_new york city_roger_williams_hotel, usa_new york city_hotel_chandler, usa_new york city_hotel_metro, usa_new york city_hotel_stanford, usa_new york city_murray_hill_inn, usa_new york city_wingate_by_wyndham_manhattan_midtown, usa_new york city_americana_inn, usa_new york city_comfort_inn_chelsea, usa_new york city_hotel_grand_union, usa_new york city_hampton_inn_35th_st_empire_state_building, usa_new york city_la_quinta_manhattan, usa_new york city_thirty_thirty_hotel, usa_new york city_the_herald_square_hotel, usa_new york city_hotel_373, usa_new york city_hilton_garden_inn_new_york_west_35th, usa_new york city_broadway_plaza_hotel,\n",
      "\n"
     ]
    }
   ],
   "source": [
    "new_york_city.get_clusters()"
   ]
  },
  {
   "cell_type": "markdown",
   "metadata": {},
   "source": [
    "# Next steps:\n",
    "\n",
    "    - run T-SNE module to visualize our high dimensional data\n",
    "    - after giving hotel reccomendations, go back into data set and grab customers \n",
    "    overall rating score\n",
    "    - possibly implement web app\n"
   ]
  },
  {
   "cell_type": "code",
   "execution_count": null,
   "metadata": {},
   "outputs": [],
   "source": []
  }
 ],
 "metadata": {
  "kernelspec": {
   "display_name": "Python 3",
   "language": "python",
   "name": "python3"
  },
  "language_info": {
   "codemirror_mode": {
    "name": "ipython",
    "version": 3
   },
   "file_extension": ".py",
   "mimetype": "text/x-python",
   "name": "python",
   "nbconvert_exporter": "python",
   "pygments_lexer": "ipython3",
   "version": "3.6.4"
  }
 },
 "nbformat": 4,
 "nbformat_minor": 2
}
