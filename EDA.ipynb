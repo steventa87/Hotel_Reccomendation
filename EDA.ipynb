{
 "cells": [
  {
   "cell_type": "code",
   "execution_count": 1,
   "metadata": {},
   "outputs": [],
   "source": [
    "import pandas as pd\n",
    "import numpy as np\n",
    "\n",
    "import os\n",
    "from __future__ import print_function\n",
    "import codecs\n",
    "import pickle\n",
    "import json\n",
    "\n",
    "import numpy as np\n",
    "import pandas as pd\n",
    "import random\n",
    "\n",
    "from sklearn import feature_extraction\n",
    "from sklearn.feature_extraction.text import TfidfVectorizer\n",
    "from sklearn.metrics.pairwise import cosine_similarity\n",
    "from sklearn.cluster import KMeans\n",
    "from sklearn.externals import joblib\n",
    "from sklearn.manifold import MDS\n",
    "\n",
    "from scipy.cluster.hierarchy import ward, dendrogram\n",
    "\n",
    "import nltk\n",
    "from nltk.stem.snowball import SnowballStemmer\n",
    "import re\n",
    "import mpld3\n",
    "\n",
    "import matplotlib.pyplot as plt"
   ]
  },
  {
   "cell_type": "code",
   "execution_count": 2,
   "metadata": {},
   "outputs": [
    {
     "data": {
      "text/plain": [
       "'/Users/steventa/Desktop/TripAdvisor/OpinRankDatasetWithJudgments/hotels'"
      ]
     },
     "execution_count": 2,
     "metadata": {},
     "output_type": "execute_result"
    }
   ],
   "source": [
    "pwd"
   ]
  },
  {
   "cell_type": "code",
   "execution_count": 3,
   "metadata": {},
   "outputs": [],
   "source": [
    "rating_headers = ['doc_id','hotel_name','hotel_url','street','city','state','country','zip','class','price','num_reviews','CLEANLINESS','ROOM','SERVICE','LOCATION','VALUE', 'COMFORT','overall_ratingsource']"
   ]
  },
  {
   "cell_type": "code",
   "execution_count": 4,
   "metadata": {},
   "outputs": [],
   "source": [
    "df_hotels_las_vegas = pd.read_csv('data/las-vegas.csv', names = rating_headers).drop(0)"
   ]
  },
  {
   "cell_type": "code",
   "execution_count": 7,
   "metadata": {},
   "outputs": [],
   "source": [
    "df_hotels_las_vegas['overall_ratingsource'] = df_hotels_las_vegas['overall_ratingsource'].astype(float)"
   ]
  },
  {
   "cell_type": "code",
   "execution_count": 8,
   "metadata": {},
   "outputs": [
    {
     "data": {
      "text/plain": [
       "1       True\n",
       "2       True\n",
       "3       True\n",
       "4       True\n",
       "5       True\n",
       "6       True\n",
       "7       True\n",
       "8       True\n",
       "9       True\n",
       "10      True\n",
       "11      True\n",
       "12      True\n",
       "13      True\n",
       "14      True\n",
       "15      True\n",
       "16      True\n",
       "17      True\n",
       "18      True\n",
       "19      True\n",
       "20      True\n",
       "21      True\n",
       "22      True\n",
       "23     False\n",
       "24      True\n",
       "25      True\n",
       "26      True\n",
       "27      True\n",
       "28      True\n",
       "29      True\n",
       "30      True\n",
       "       ...  \n",
       "201    False\n",
       "202    False\n",
       "203    False\n",
       "204    False\n",
       "205    False\n",
       "206    False\n",
       "207    False\n",
       "208    False\n",
       "209    False\n",
       "210    False\n",
       "211    False\n",
       "212    False\n",
       "213    False\n",
       "214    False\n",
       "215    False\n",
       "216    False\n",
       "217    False\n",
       "218    False\n",
       "219    False\n",
       "220    False\n",
       "221    False\n",
       "222    False\n",
       "223    False\n",
       "224    False\n",
       "225    False\n",
       "226    False\n",
       "227    False\n",
       "228    False\n",
       "229    False\n",
       "230    False\n",
       "Name: overall_ratingsource, Length: 230, dtype: bool"
      ]
     },
     "execution_count": 8,
     "metadata": {},
     "output_type": "execute_result"
    }
   ],
   "source": [
    "df_hotels_las_vegas['overall_ratingsource'] > 4"
   ]
  },
  {
   "cell_type": "code",
   "execution_count": 9,
   "metadata": {},
   "outputs": [
    {
     "data": {
      "text/html": [
       "<div>\n",
       "<style>\n",
       "    .dataframe thead tr:only-child th {\n",
       "        text-align: right;\n",
       "    }\n",
       "\n",
       "    .dataframe thead th {\n",
       "        text-align: left;\n",
       "    }\n",
       "\n",
       "    .dataframe tbody tr th {\n",
       "        vertical-align: top;\n",
       "    }\n",
       "</style>\n",
       "<table border=\"1\" class=\"dataframe\">\n",
       "  <thead>\n",
       "    <tr style=\"text-align: right;\">\n",
       "      <th></th>\n",
       "      <th>doc_id</th>\n",
       "      <th>hotel_name</th>\n",
       "      <th>hotel_url</th>\n",
       "      <th>street</th>\n",
       "      <th>city</th>\n",
       "      <th>state</th>\n",
       "      <th>country</th>\n",
       "      <th>zip</th>\n",
       "      <th>class</th>\n",
       "      <th>price</th>\n",
       "      <th>num_reviews</th>\n",
       "      <th>CLEANLINESS</th>\n",
       "      <th>ROOM</th>\n",
       "      <th>SERVICE</th>\n",
       "      <th>LOCATION</th>\n",
       "      <th>VALUE</th>\n",
       "      <th>COMFORT</th>\n",
       "      <th>overall_ratingsource</th>\n",
       "    </tr>\n",
       "  </thead>\n",
       "  <tbody>\n",
       "    <tr>\n",
       "      <th>32</th>\n",
       "      <td>usa_nevada_las-vegas_the_mansion_at_mgm_grand</td>\n",
       "      <td>the mansion at mgm grand</td>\n",
       "      <td>http://www.tripadvisor.com/ShowUserReviews-g45...</td>\n",
       "      <td>-1</td>\n",
       "      <td>las vegas</td>\n",
       "      <td>nv</td>\n",
       "      <td>usa</td>\n",
       "      <td>89109</td>\n",
       "      <td>-1</td>\n",
       "      <td>-1</td>\n",
       "      <td>10</td>\n",
       "      <td>5.0</td>\n",
       "      <td>5.0</td>\n",
       "      <td>5.0</td>\n",
       "      <td>5.0</td>\n",
       "      <td>5.0</td>\n",
       "      <td>0.0</td>\n",
       "      <td>5.000000</td>\n",
       "    </tr>\n",
       "    <tr>\n",
       "      <th>139</th>\n",
       "      <td>usa_nevada_las-vegas_streamline_tower</td>\n",
       "      <td>streamline tower</td>\n",
       "      <td>http://www.tripadvisor.com/ShowUserReviews-g45...</td>\n",
       "      <td>-1</td>\n",
       "      <td>las vegas</td>\n",
       "      <td>nv</td>\n",
       "      <td>usa</td>\n",
       "      <td>89101</td>\n",
       "      <td>-1</td>\n",
       "      <td>-1</td>\n",
       "      <td>1</td>\n",
       "      <td>5.0</td>\n",
       "      <td>5.0</td>\n",
       "      <td>5.0</td>\n",
       "      <td>5.0</td>\n",
       "      <td>5.0</td>\n",
       "      <td>0.0</td>\n",
       "      <td>5.000000</td>\n",
       "    </tr>\n",
       "    <tr>\n",
       "      <th>165</th>\n",
       "      <td>usa_nevada_las-vegas_las_vegas_mini_castle</td>\n",
       "      <td>las vegas mini castle</td>\n",
       "      <td>http://www.tripadvisor.com/ShowUserReviews-g45...</td>\n",
       "      <td>-1</td>\n",
       "      <td>las vegas</td>\n",
       "      <td>nv</td>\n",
       "      <td>usa</td>\n",
       "      <td>89123</td>\n",
       "      <td>-1</td>\n",
       "      <td>-1</td>\n",
       "      <td>1</td>\n",
       "      <td>5.0</td>\n",
       "      <td>5.0</td>\n",
       "      <td>5.0</td>\n",
       "      <td>5.0</td>\n",
       "      <td>5.0</td>\n",
       "      <td>0.0</td>\n",
       "      <td>5.000000</td>\n",
       "    </tr>\n",
       "    <tr>\n",
       "      <th>1</th>\n",
       "      <td>usa_nevada_las-vegas_staybridge_suites_las_vegas</td>\n",
       "      <td>staybridge suites las vegas</td>\n",
       "      <td>http://www.tripadvisor.com/ShowUserReviews-g45...</td>\n",
       "      <td>-1</td>\n",
       "      <td>las vegas</td>\n",
       "      <td>nv</td>\n",
       "      <td>usa</td>\n",
       "      <td>89118</td>\n",
       "      <td>-1</td>\n",
       "      <td>-1</td>\n",
       "      <td>113</td>\n",
       "      <td>4.884615384615385</td>\n",
       "      <td>4.913461538461538</td>\n",
       "      <td>4.721153846153846</td>\n",
       "      <td>4.259615384615385</td>\n",
       "      <td>4.855769230769231</td>\n",
       "      <td>0.0</td>\n",
       "      <td>4.726923</td>\n",
       "    </tr>\n",
       "    <tr>\n",
       "      <th>5</th>\n",
       "      <td>usa_nevada_las-vegas_skylofts_at_mgm_grand</td>\n",
       "      <td>skylofts at mgm grand</td>\n",
       "      <td>http://www.tripadvisor.com/ShowUserReviews-g45...</td>\n",
       "      <td>-1</td>\n",
       "      <td>las vegas</td>\n",
       "      <td>nv</td>\n",
       "      <td>usa</td>\n",
       "      <td>89109</td>\n",
       "      <td>-1</td>\n",
       "      <td>-1</td>\n",
       "      <td>77</td>\n",
       "      <td>4.863636363636363</td>\n",
       "      <td>4.893939393939394</td>\n",
       "      <td>4.803030303030303</td>\n",
       "      <td>4.53030303030303</td>\n",
       "      <td>4.378787878787879</td>\n",
       "      <td>0.0</td>\n",
       "      <td>4.693939</td>\n",
       "    </tr>\n",
       "  </tbody>\n",
       "</table>\n",
       "</div>"
      ],
      "text/plain": [
       "                                               doc_id  \\\n",
       "32      usa_nevada_las-vegas_the_mansion_at_mgm_grand   \n",
       "139             usa_nevada_las-vegas_streamline_tower   \n",
       "165        usa_nevada_las-vegas_las_vegas_mini_castle   \n",
       "1    usa_nevada_las-vegas_staybridge_suites_las_vegas   \n",
       "5          usa_nevada_las-vegas_skylofts_at_mgm_grand   \n",
       "\n",
       "                      hotel_name  \\\n",
       "32      the mansion at mgm grand   \n",
       "139             streamline tower   \n",
       "165        las vegas mini castle   \n",
       "1    staybridge suites las vegas   \n",
       "5          skylofts at mgm grand   \n",
       "\n",
       "                                             hotel_url street       city  \\\n",
       "32   http://www.tripadvisor.com/ShowUserReviews-g45...     -1  las vegas   \n",
       "139  http://www.tripadvisor.com/ShowUserReviews-g45...     -1  las vegas   \n",
       "165  http://www.tripadvisor.com/ShowUserReviews-g45...     -1  las vegas   \n",
       "1    http://www.tripadvisor.com/ShowUserReviews-g45...     -1  las vegas   \n",
       "5    http://www.tripadvisor.com/ShowUserReviews-g45...     -1  las vegas   \n",
       "\n",
       "    state country    zip class price num_reviews        CLEANLINESS  \\\n",
       "32     nv     usa  89109    -1    -1          10                5.0   \n",
       "139    nv     usa  89101    -1    -1           1                5.0   \n",
       "165    nv     usa  89123    -1    -1           1                5.0   \n",
       "1      nv     usa  89118    -1    -1         113  4.884615384615385   \n",
       "5      nv     usa  89109    -1    -1          77  4.863636363636363   \n",
       "\n",
       "                  ROOM            SERVICE           LOCATION  \\\n",
       "32                 5.0                5.0                5.0   \n",
       "139                5.0                5.0                5.0   \n",
       "165                5.0                5.0                5.0   \n",
       "1    4.913461538461538  4.721153846153846  4.259615384615385   \n",
       "5    4.893939393939394  4.803030303030303   4.53030303030303   \n",
       "\n",
       "                 VALUE COMFORT  overall_ratingsource  \n",
       "32                 5.0     0.0              5.000000  \n",
       "139                5.0     0.0              5.000000  \n",
       "165                5.0     0.0              5.000000  \n",
       "1    4.855769230769231     0.0              4.726923  \n",
       "5    4.378787878787879     0.0              4.693939  "
      ]
     },
     "execution_count": 9,
     "metadata": {},
     "output_type": "execute_result"
    }
   ],
   "source": [
    "df_hotels_las_vegas.sort_values(['overall_ratingsource', 'num_reviews'], axis=0, ascending=False).head()"
   ]
  },
  {
   "cell_type": "code",
   "execution_count": 89,
   "metadata": {},
   "outputs": [
    {
     "data": {
      "text/plain": [
       "89109         75\n",
       "89101         24\n",
       "89119         21\n",
       "89103         13\n",
       "89104         12\n",
       "89118         11\n",
       "89121          7\n",
       "89123          7\n",
       "89115          7\n",
       "89122          6\n",
       "89169          6\n",
       "-1             4\n",
       "89130          3\n",
       "89135          3\n",
       "89147          3\n",
       "89102          2\n",
       "89107          2\n",
       "89145          2\n",
       "89030          2\n",
       "89117          2\n",
       "89108          1\n",
       "89139          1\n",
       "89052          1\n",
       "nv 89139       1\n",
       "89123-1607     1\n",
       "89019          1\n",
       "89128-0455     1\n",
       "89119-1206     1\n",
       "89124          1\n",
       "89104-1312     1\n",
       "89112          1\n",
       "89109-3611     1\n",
       "89128          1\n",
       "89027          1\n",
       "89183          1\n",
       "89109-4300     1\n",
       "89118-1655     1\n",
       "89101-1011     1\n",
       "Name: zip, dtype: int64"
      ]
     },
     "execution_count": 89,
     "metadata": {},
     "output_type": "execute_result"
    }
   ],
   "source": [
    "df_hotels_las_vegas['zip'].value_counts()"
   ]
  },
  {
   "cell_type": "code",
   "execution_count": 10,
   "metadata": {},
   "outputs": [
    {
     "name": "stdout",
     "output_type": "stream",
     "text": [
      "<class 'pandas.core.frame.DataFrame'>\n",
      "Int64Index: 230 entries, 1 to 230\n",
      "Data columns (total 18 columns):\n",
      "doc_id                  230 non-null object\n",
      "hotel_name              230 non-null object\n",
      "hotel_url               230 non-null object\n",
      "street                  230 non-null object\n",
      "city                    230 non-null object\n",
      "state                   230 non-null object\n",
      "country                 230 non-null object\n",
      "zip                     230 non-null object\n",
      "class                   230 non-null object\n",
      "price                   230 non-null object\n",
      "num_reviews             230 non-null object\n",
      "CLEANLINESS             230 non-null object\n",
      "ROOM                    230 non-null object\n",
      "SERVICE                 230 non-null object\n",
      "LOCATION                230 non-null object\n",
      "VALUE                   230 non-null object\n",
      "COMFORT                 230 non-null object\n",
      "overall_ratingsource    230 non-null float64\n",
      "dtypes: float64(1), object(17)\n",
      "memory usage: 44.1+ KB\n"
     ]
    }
   ],
   "source": [
    "df_hotels_las_vegas.info()"
   ]
  },
  {
   "cell_type": "code",
   "execution_count": 11,
   "metadata": {},
   "outputs": [
    {
     "ename": "NameError",
     "evalue": "name 'df_hotels_san_francisco' is not defined",
     "output_type": "error",
     "traceback": [
      "\u001b[0;31m---------------------------------------------------------------------------\u001b[0m",
      "\u001b[0;31mNameError\u001b[0m                                 Traceback (most recent call last)",
      "\u001b[0;32m<ipython-input-11-c5a5079bd8ac>\u001b[0m in \u001b[0;36m<module>\u001b[0;34m()\u001b[0m\n\u001b[1;32m      1\u001b[0m \u001b[0;31m# convert overall_ratingsource to float\u001b[0m\u001b[0;34m\u001b[0m\u001b[0;34m\u001b[0m\u001b[0m\n\u001b[0;32m----> 2\u001b[0;31m \u001b[0mdf_hotels_san_francisco\u001b[0m\u001b[0;34m[\u001b[0m\u001b[0;34m'overall_ratingsource'\u001b[0m\u001b[0;34m]\u001b[0m \u001b[0;34m=\u001b[0m \u001b[0mdf_hotels_san_francisco\u001b[0m\u001b[0;34m[\u001b[0m\u001b[0;34m'overall_ratingsource'\u001b[0m\u001b[0;34m]\u001b[0m\u001b[0;34m.\u001b[0m\u001b[0mastype\u001b[0m\u001b[0;34m(\u001b[0m\u001b[0mfloat\u001b[0m\u001b[0;34m)\u001b[0m\u001b[0;34m\u001b[0m\u001b[0m\n\u001b[0m",
      "\u001b[0;31mNameError\u001b[0m: name 'df_hotels_san_francisco' is not defined"
     ]
    }
   ],
   "source": [
    "# convert overall_ratingsource to float\n",
    "df_hotels_san_francisco['overall_ratingsource'] = df_hotels_san_francisco['overall_ratingsource'].astype(float)"
   ]
  },
  {
   "cell_type": "code",
   "execution_count": 12,
   "metadata": {},
   "outputs": [
    {
     "ename": "NameError",
     "evalue": "name 'df_hotels_san_francisco' is not defined",
     "output_type": "error",
     "traceback": [
      "\u001b[0;31m---------------------------------------------------------------------------\u001b[0m",
      "\u001b[0;31mNameError\u001b[0m                                 Traceback (most recent call last)",
      "\u001b[0;32m<ipython-input-12-9ccd386a8e8e>\u001b[0m in \u001b[0;36m<module>\u001b[0;34m()\u001b[0m\n\u001b[0;32m----> 1\u001b[0;31m \u001b[0mdf_hotels_san_francisco\u001b[0m\u001b[0;34m.\u001b[0m\u001b[0minfo\u001b[0m\u001b[0;34m(\u001b[0m\u001b[0;34m)\u001b[0m\u001b[0;34m\u001b[0m\u001b[0m\n\u001b[0m",
      "\u001b[0;31mNameError\u001b[0m: name 'df_hotels_san_francisco' is not defined"
     ]
    }
   ],
   "source": [
    "df_hotels_san_francisco.info()"
   ]
  },
  {
   "cell_type": "code",
   "execution_count": 15,
   "metadata": {},
   "outputs": [],
   "source": [
    "review_headers = ['date', 'review_title', 'full_review', 'nan']"
   ]
  },
  {
   "cell_type": "code",
   "execution_count": 16,
   "metadata": {},
   "outputs": [],
   "source": [
    "review = pd.read_csv('data/las-vegas/usa_nevada_las-vegas_skylofts_at_mgm_grand', \n",
    "                     names=review_headers ,sep='\\t', encoding='latin-1').drop('nan', axis=1)"
   ]
  },
  {
   "cell_type": "code",
   "execution_count": 67,
   "metadata": {},
   "outputs": [
    {
     "data": {
      "text/html": [
       "<div>\n",
       "<style>\n",
       "    .dataframe thead tr:only-child th {\n",
       "        text-align: right;\n",
       "    }\n",
       "\n",
       "    .dataframe thead th {\n",
       "        text-align: left;\n",
       "    }\n",
       "\n",
       "    .dataframe tbody tr th {\n",
       "        vertical-align: top;\n",
       "    }\n",
       "</style>\n",
       "<table border=\"1\" class=\"dataframe\">\n",
       "  <thead>\n",
       "    <tr style=\"text-align: right;\">\n",
       "      <th></th>\n",
       "      <th>date</th>\n",
       "      <th>review_title</th>\n",
       "      <th>full_review</th>\n",
       "    </tr>\n",
       "  </thead>\n",
       "  <tbody>\n",
       "    <tr>\n",
       "      <th>0</th>\n",
       "      <td>NaN</td>\n",
       "      <td>wow</td>\n",
       "      <td>This hotel is totally awesome. Limo, champagne...</td>\n",
       "    </tr>\n",
       "    <tr>\n",
       "      <th>1</th>\n",
       "      <td>Nov 15 2009</td>\n",
       "      <td>good value</td>\n",
       "      <td>Reasonably priced (for Las Vegas) and great lo...</td>\n",
       "    </tr>\n",
       "    <tr>\n",
       "      <th>2</th>\n",
       "      <td>Nov 7 2009</td>\n",
       "      <td>Possibly My Favourite Hotel Experience Ever</td>\n",
       "      <td>Having stayed in the Burj Al Arab, Dubai and t...</td>\n",
       "    </tr>\n",
       "    <tr>\n",
       "      <th>3</th>\n",
       "      <td>Oct 16 2009</td>\n",
       "      <td>Didn't want to leave</td>\n",
       "      <td>Let me preface this review by saying we had be...</td>\n",
       "    </tr>\n",
       "    <tr>\n",
       "      <th>4</th>\n",
       "      <td>Oct 13 2009</td>\n",
       "      <td>Skylofts 1bdrm and Bellagio 1 Bdrm Penthouse</td>\n",
       "      <td>I did two nights at skylofts and two at Bellag...</td>\n",
       "    </tr>\n",
       "  </tbody>\n",
       "</table>\n",
       "</div>"
      ],
      "text/plain": [
       "           date                                  review_title  \\\n",
       "0           NaN                                           wow   \n",
       "1  Nov 15 2009                                     good value   \n",
       "2   Nov 7 2009    Possibly My Favourite Hotel Experience Ever   \n",
       "3  Oct 16 2009                           Didn't want to leave   \n",
       "4  Oct 13 2009   Skylofts 1bdrm and Bellagio 1 Bdrm Penthouse   \n",
       "\n",
       "                                         full_review  \n",
       "0  This hotel is totally awesome. Limo, champagne...  \n",
       "1  Reasonably priced (for Las Vegas) and great lo...  \n",
       "2  Having stayed in the Burj Al Arab, Dubai and t...  \n",
       "3  Let me preface this review by saying we had be...  \n",
       "4  I did two nights at skylofts and two at Bellag...  "
      ]
     },
     "execution_count": 67,
     "metadata": {},
     "output_type": "execute_result"
    }
   ],
   "source": [
    "review.head()"
   ]
  },
  {
   "cell_type": "code",
   "execution_count": 18,
   "metadata": {},
   "outputs": [],
   "source": [
    "lst_files = os.listdir('data/las-vegas/')"
   ]
  },
  {
   "cell_type": "code",
   "execution_count": 19,
   "metadata": {},
   "outputs": [
    {
     "data": {
      "text/plain": [
       "70"
      ]
     },
     "execution_count": 19,
     "metadata": {},
     "output_type": "execute_result"
    }
   ],
   "source": [
    "lst_files.index('usa_nevada_las-vegas_skylofts_at_mgm_grand')"
   ]
  },
  {
   "cell_type": "code",
   "execution_count": 20,
   "metadata": {},
   "outputs": [
    {
     "name": "stdout",
     "output_type": "stream",
     "text": [
      "This hotel is totally awesome. Limo, champagne, red wine and franch cheese, personnal concierge, hammam and the BED!... so much, you wanna live there!\n",
      "\n",
      "Reasonably priced (for Las Vegas) and great location. Right by the monorail stop, so its easy to get around to some of the other hotels. We liked it better than another we stayed at in Las Vegas. Staff was very helpful and we were able to buy tickets to a show right at the hotel. We picked a show that was right in the hotel (Ka). The show was great and it was relaxing not to have to go out anywhere to get to the show.\n",
      "\n",
      "Having stayed in the Burj Al Arab, Dubai and the Conrad, Tokyo I still think this is my favourite hotel in the world. Unobtrusive but attentive staff, amazing decor and a real feeling of been treated as a VIP from the second you arrive. We stayed for a week and everythign was perfect. I recommend this hotel to anyone, provided your pockets are deep. Go for an afternoon to Wet Republic and eat at Joel Robuchon.\n",
      "\n"
     ]
    }
   ],
   "source": [
    "for comment in review.iloc[:3,:]['full_review']:\n",
    "    print(comment)\n",
    "    print()"
   ]
  },
  {
   "cell_type": "code",
   "execution_count": 21,
   "metadata": {},
   "outputs": [],
   "source": [
    "df_hotels_las_vegas['overall_ratingsource'] = df_hotels_las_vegas['overall_ratingsource'].astype(float)"
   ]
  },
  {
   "cell_type": "code",
   "execution_count": 22,
   "metadata": {},
   "outputs": [],
   "source": [
    "df_hotels_las_vegas['num_reviews'] = df_hotels_las_vegas['num_reviews'].astype(int)"
   ]
  },
  {
   "cell_type": "code",
   "execution_count": 23,
   "metadata": {},
   "outputs": [],
   "source": [
    "not_neg_one = df_hotels_las_vegas['overall_ratingsource'] != -1"
   ]
  },
  {
   "cell_type": "code",
   "execution_count": 24,
   "metadata": {},
   "outputs": [],
   "source": [
    "# find lowest rating\n",
    "without_neg_one_df = df_hotels_las_vegas[not_neg_one]"
   ]
  },
  {
   "cell_type": "code",
   "execution_count": 25,
   "metadata": {},
   "outputs": [],
   "source": [
    "# more than 3 reviews\n",
    "more_than_three = without_neg_one_df['num_reviews'] > 3\n",
    "without_neg_one_df = without_neg_one_df[more_than_three]"
   ]
  },
  {
   "cell_type": "code",
   "execution_count": 26,
   "metadata": {},
   "outputs": [
    {
     "data": {
      "text/plain": [
       "1.4666666666666668"
      ]
     },
     "execution_count": 26,
     "metadata": {},
     "output_type": "execute_result"
    }
   ],
   "source": [
    "without_neg_one_df['overall_ratingsource'].min()"
   ]
  },
  {
   "cell_type": "code",
   "execution_count": 27,
   "metadata": {},
   "outputs": [],
   "source": [
    "# now get min\n",
    "rating_min = without_neg_one_df['overall_ratingsource'] == without_neg_one_df['overall_ratingsource'].min()"
   ]
  },
  {
   "cell_type": "code",
   "execution_count": 28,
   "metadata": {},
   "outputs": [],
   "source": [
    "df_min_rating = without_neg_one_df[rating_min]"
   ]
  },
  {
   "cell_type": "code",
   "execution_count": 29,
   "metadata": {},
   "outputs": [
    {
     "data": {
      "text/html": [
       "<div>\n",
       "<style>\n",
       "    .dataframe thead tr:only-child th {\n",
       "        text-align: right;\n",
       "    }\n",
       "\n",
       "    .dataframe thead th {\n",
       "        text-align: left;\n",
       "    }\n",
       "\n",
       "    .dataframe tbody tr th {\n",
       "        vertical-align: top;\n",
       "    }\n",
       "</style>\n",
       "<table border=\"1\" class=\"dataframe\">\n",
       "  <thead>\n",
       "    <tr style=\"text-align: right;\">\n",
       "      <th></th>\n",
       "      <th>doc_id</th>\n",
       "      <th>hotel_name</th>\n",
       "      <th>hotel_url</th>\n",
       "      <th>street</th>\n",
       "      <th>city</th>\n",
       "      <th>state</th>\n",
       "      <th>country</th>\n",
       "      <th>zip</th>\n",
       "      <th>class</th>\n",
       "      <th>price</th>\n",
       "      <th>num_reviews</th>\n",
       "      <th>CLEANLINESS</th>\n",
       "      <th>ROOM</th>\n",
       "      <th>SERVICE</th>\n",
       "      <th>LOCATION</th>\n",
       "      <th>VALUE</th>\n",
       "      <th>COMFORT</th>\n",
       "      <th>overall_ratingsource</th>\n",
       "    </tr>\n",
       "  </thead>\n",
       "  <tbody>\n",
       "    <tr>\n",
       "      <th>222</th>\n",
       "      <td>usa_nevada_las-vegas_motel_6_las_vegas_boulder...</td>\n",
       "      <td>motel 6 las vegas boulder highway</td>\n",
       "      <td>http://www.tripadvisor.com/ShowUserReviews-g45...</td>\n",
       "      <td>-1</td>\n",
       "      <td>las vegas</td>\n",
       "      <td>nv</td>\n",
       "      <td>usa</td>\n",
       "      <td>89121</td>\n",
       "      <td>-1</td>\n",
       "      <td>-1</td>\n",
       "      <td>6</td>\n",
       "      <td>1.0</td>\n",
       "      <td>1.0</td>\n",
       "      <td>1.6666666666666667</td>\n",
       "      <td>2.6666666666666665</td>\n",
       "      <td>1.0</td>\n",
       "      <td>0.0</td>\n",
       "      <td>1.466667</td>\n",
       "    </tr>\n",
       "  </tbody>\n",
       "</table>\n",
       "</div>"
      ],
      "text/plain": [
       "                                                doc_id  \\\n",
       "222  usa_nevada_las-vegas_motel_6_las_vegas_boulder...   \n",
       "\n",
       "                            hotel_name  \\\n",
       "222  motel 6 las vegas boulder highway   \n",
       "\n",
       "                                             hotel_url street       city  \\\n",
       "222  http://www.tripadvisor.com/ShowUserReviews-g45...     -1  las vegas   \n",
       "\n",
       "    state country    zip class price  num_reviews CLEANLINESS ROOM  \\\n",
       "222    nv     usa  89121    -1    -1            6         1.0  1.0   \n",
       "\n",
       "                SERVICE            LOCATION VALUE COMFORT  \\\n",
       "222  1.6666666666666667  2.6666666666666665   1.0     0.0   \n",
       "\n",
       "     overall_ratingsource  \n",
       "222              1.466667  "
      ]
     },
     "execution_count": 29,
     "metadata": {},
     "output_type": "execute_result"
    }
   ],
   "source": [
    "df_min_rating.head()"
   ]
  },
  {
   "cell_type": "code",
   "execution_count": 30,
   "metadata": {},
   "outputs": [],
   "source": [
    "# look at usa_nevada_las-vegas_motel_6_las_vegas_boulder"
   ]
  },
  {
   "cell_type": "code",
   "execution_count": 31,
   "metadata": {},
   "outputs": [],
   "source": [
    "review_boulder = pd.read_csv('data/las-vegas/usa_nevada_las-vegas_motel_6_las_vegas_boulder_highway', \n",
    "                     names=review_headers ,sep='\\t', encoding='latin-1').drop('nan', axis=1)"
   ]
  },
  {
   "cell_type": "code",
   "execution_count": 32,
   "metadata": {},
   "outputs": [
    {
     "data": {
      "text/html": [
       "<div>\n",
       "<style>\n",
       "    .dataframe thead tr:only-child th {\n",
       "        text-align: right;\n",
       "    }\n",
       "\n",
       "    .dataframe thead th {\n",
       "        text-align: left;\n",
       "    }\n",
       "\n",
       "    .dataframe tbody tr th {\n",
       "        vertical-align: top;\n",
       "    }\n",
       "</style>\n",
       "<table border=\"1\" class=\"dataframe\">\n",
       "  <thead>\n",
       "    <tr style=\"text-align: right;\">\n",
       "      <th></th>\n",
       "      <th>date</th>\n",
       "      <th>review_title</th>\n",
       "      <th>full_review</th>\n",
       "    </tr>\n",
       "  </thead>\n",
       "  <tbody>\n",
       "    <tr>\n",
       "      <th>0</th>\n",
       "      <td>Nov 5 2008</td>\n",
       "      <td>Drug needles under the bed!!!!!!!!</td>\n",
       "      <td>This motel is absolutely terrible. There was a...</td>\n",
       "    </tr>\n",
       "    <tr>\n",
       "      <th>1</th>\n",
       "      <td>Mar 26 2007</td>\n",
       "      <td>This place stinks - literally!!!</td>\n",
       "      <td>We requested a non-smoking room. What a joke, ...</td>\n",
       "    </tr>\n",
       "    <tr>\n",
       "      <th>2</th>\n",
       "      <td>Feb 7 2007</td>\n",
       "      <td>Rather Sleep In A Cardboard Box</td>\n",
       "      <td>My wife and I were going to stay here for the ...</td>\n",
       "    </tr>\n",
       "    <tr>\n",
       "      <th>3</th>\n",
       "      <td>Aug 20 2006</td>\n",
       "      <td>Yuck! Double Yuck!</td>\n",
       "      <td>If you like feeling like you're sleeping in an...</td>\n",
       "    </tr>\n",
       "    <tr>\n",
       "      <th>4</th>\n",
       "      <td>Jun 1 2006</td>\n",
       "      <td>The WORST place you may ever stay.</td>\n",
       "      <td>The Motel 6 on Boulder Hwy. in Las vegas, NV i...</td>\n",
       "    </tr>\n",
       "  </tbody>\n",
       "</table>\n",
       "</div>"
      ],
      "text/plain": [
       "           date                        review_title  \\\n",
       "0   Nov 5 2008   Drug needles under the bed!!!!!!!!   \n",
       "1  Mar 26 2007     This place stinks - literally!!!   \n",
       "2   Feb 7 2007      Rather Sleep In A Cardboard Box   \n",
       "3   Aug 20 2006                  Yuck! Double Yuck!   \n",
       "4    Jun 1 2006  The WORST place you may ever stay.   \n",
       "\n",
       "                                         full_review  \n",
       "0  This motel is absolutely terrible. There was a...  \n",
       "1  We requested a non-smoking room. What a joke, ...  \n",
       "2  My wife and I were going to stay here for the ...  \n",
       "3  If you like feeling like you're sleeping in an...  \n",
       "4  The Motel 6 on Boulder Hwy. in Las vegas, NV i...  "
      ]
     },
     "execution_count": 32,
     "metadata": {},
     "output_type": "execute_result"
    }
   ],
   "source": [
    "review_boulder.head()"
   ]
  },
  {
   "cell_type": "code",
   "execution_count": 33,
   "metadata": {},
   "outputs": [],
   "source": [
    "# try to find experience of this review\n",
    "\n",
    "one_review = '''\n",
    "We stayed here for 8 nights on our trip to San Francisco from Australia, and we absolutely loved it. \n",
    "From our arrival and check-in, to check-out, service was faultless and facilities were wonderful. \n",
    "We got a 2 bedroom apartment, with 2 bathrooms, and a fully equipped kitchen. \n",
    "All appliances were state of the art, and our room also had a Bosch washer and a separate dryer, \n",
    "which was really helpful. The apartment itself was very spacious, with large windows, automatic blinds, \n",
    "3 large high-def LCD screens, cable TV with 100's of channels, DVD players - as well as a gas heater in the \n",
    "living area! We loved it so much we wished that we lived at Fairmong Heritage Place Ghirardelli Square. \n",
    "Also downstairs, there are 3 or 4 Ghirardelli chocolate cafe's and shops, which were fantastic. \n",
    "There are several restaurants as well as specialty shops at the Square, and it's only a short walk from the \n",
    "Fisherman's Wharf itself. Staff were fantastic, with the concierge doing everything he could to accommodate \n",
    "to our requests, from in-room dining, to arranging a in-residence masseuse for my wife. The Maserati town car \n",
    "was absolutely fantastic as well, as it took us to Union Square, shopping areas, or other restaurants that are \n",
    "a just a bit too far to walk to. There's a guest lounge area as well, with a high quality pool table and \n",
    "daily breakfast in the morning. We loved it, and so will you.\n",
    "'''"
   ]
  },
  {
   "cell_type": "code",
   "execution_count": 34,
   "metadata": {},
   "outputs": [],
   "source": [
    "# load nltk's English stopwords as variable called 'stopwords'\n",
    "stopwords = nltk.corpus.stopwords.words('english')"
   ]
  },
  {
   "cell_type": "code",
   "execution_count": 35,
   "metadata": {},
   "outputs": [],
   "source": [
    "# load nltk's SnowballStemmer as variabled 'stemmer'\n",
    "stemmer = SnowballStemmer(\"english\")"
   ]
  },
  {
   "cell_type": "code",
   "execution_count": 36,
   "metadata": {},
   "outputs": [],
   "source": [
    "# here I define a tokenizer and stemmer which returns the set of stems in the text that it is passed\n",
    "\n",
    "def tokenize_and_stem(text):\n",
    "    # first tokenize by sentence, then by word to ensure that punctuation is caught as it's own token\n",
    "    tokens = [word for sent in nltk.sent_tokenize(text) for word in nltk.word_tokenize(sent)]\n",
    "    filtered_tokens = []\n",
    "    # filter out any tokens not containing letters (e.g., numeric tokens, raw punctuation)\n",
    "    for token in tokens:\n",
    "        if re.search('[a-zA-Z]', token):\n",
    "            filtered_tokens.append(token)\n",
    "    stems = [stemmer.stem(t) for t in filtered_tokens]\n",
    "    return stems\n",
    "\n",
    "\n",
    "def tokenize_only(text):\n",
    "    # first tokenize by sentence, then by word to ensure that punctuation is caught as it's own token\n",
    "    tokens = [word.lower() for sent in nltk.sent_tokenize(text) for word in nltk.word_tokenize(sent)]\n",
    "    filtered_tokens = []\n",
    "    # filter out any tokens not containing letters (e.g., numeric tokens, raw punctuation)\n",
    "    for token in tokens:\n",
    "        if re.search('[a-zA-Z]', token):\n",
    "            filtered_tokens.append(token)\n",
    "    return filtered_tokens"
   ]
  },
  {
   "cell_type": "code",
   "execution_count": 37,
   "metadata": {},
   "outputs": [],
   "source": [
    "hotel_names, hotel_reviews = 'usa_nevada_las-vegas_skylofts_at_mgm_grand', one_review"
   ]
  },
  {
   "cell_type": "code",
   "execution_count": 38,
   "metadata": {},
   "outputs": [],
   "source": [
    "hotel_vocab_stemmed = []\n",
    "hotel_vocab_tokenized = []\n",
    "\n",
    "allwords_stemmed = tokenize_and_stem(one_review)\n",
    "hotel_vocab_stemmed.extend(allwords_stemmed)\n",
    "allwords_tokenized = tokenize_only(one_review)\n",
    "hotel_vocab_tokenized.extend(allwords_tokenized)"
   ]
  },
  {
   "cell_type": "code",
   "execution_count": null,
   "metadata": {},
   "outputs": [],
   "source": []
  },
  {
   "cell_type": "code",
   "execution_count": 39,
   "metadata": {},
   "outputs": [
    {
     "data": {
      "text/plain": [
       "(240, 240)"
      ]
     },
     "execution_count": 39,
     "metadata": {},
     "output_type": "execute_result"
    }
   ],
   "source": [
    "len(hotel_vocab_stemmed), len(hotel_vocab_tokenized)"
   ]
  },
  {
   "cell_type": "code",
   "execution_count": 40,
   "metadata": {},
   "outputs": [],
   "source": [
    "hotel_vocab_frame = pd.DataFrame({'words': hotel_vocab_tokenized}, index = hotel_vocab_stemmed)"
   ]
  },
  {
   "cell_type": "code",
   "execution_count": 41,
   "metadata": {},
   "outputs": [
    {
     "data": {
      "text/html": [
       "<div>\n",
       "<style>\n",
       "    .dataframe thead tr:only-child th {\n",
       "        text-align: right;\n",
       "    }\n",
       "\n",
       "    .dataframe thead th {\n",
       "        text-align: left;\n",
       "    }\n",
       "\n",
       "    .dataframe tbody tr th {\n",
       "        vertical-align: top;\n",
       "    }\n",
       "</style>\n",
       "<table border=\"1\" class=\"dataframe\">\n",
       "  <thead>\n",
       "    <tr style=\"text-align: right;\">\n",
       "      <th></th>\n",
       "      <th>words</th>\n",
       "    </tr>\n",
       "  </thead>\n",
       "  <tbody>\n",
       "    <tr>\n",
       "      <th>we</th>\n",
       "      <td>we</td>\n",
       "    </tr>\n",
       "    <tr>\n",
       "      <th>stay</th>\n",
       "      <td>stayed</td>\n",
       "    </tr>\n",
       "    <tr>\n",
       "      <th>here</th>\n",
       "      <td>here</td>\n",
       "    </tr>\n",
       "    <tr>\n",
       "      <th>for</th>\n",
       "      <td>for</td>\n",
       "    </tr>\n",
       "    <tr>\n",
       "      <th>night</th>\n",
       "      <td>nights</td>\n",
       "    </tr>\n",
       "    <tr>\n",
       "      <th>on</th>\n",
       "      <td>on</td>\n",
       "    </tr>\n",
       "    <tr>\n",
       "      <th>our</th>\n",
       "      <td>our</td>\n",
       "    </tr>\n",
       "    <tr>\n",
       "      <th>trip</th>\n",
       "      <td>trip</td>\n",
       "    </tr>\n",
       "    <tr>\n",
       "      <th>to</th>\n",
       "      <td>to</td>\n",
       "    </tr>\n",
       "    <tr>\n",
       "      <th>san</th>\n",
       "      <td>san</td>\n",
       "    </tr>\n",
       "    <tr>\n",
       "      <th>francisco</th>\n",
       "      <td>francisco</td>\n",
       "    </tr>\n",
       "    <tr>\n",
       "      <th>from</th>\n",
       "      <td>from</td>\n",
       "    </tr>\n",
       "    <tr>\n",
       "      <th>australia</th>\n",
       "      <td>australia</td>\n",
       "    </tr>\n",
       "    <tr>\n",
       "      <th>and</th>\n",
       "      <td>and</td>\n",
       "    </tr>\n",
       "    <tr>\n",
       "      <th>we</th>\n",
       "      <td>we</td>\n",
       "    </tr>\n",
       "    <tr>\n",
       "      <th>absolut</th>\n",
       "      <td>absolutely</td>\n",
       "    </tr>\n",
       "    <tr>\n",
       "      <th>love</th>\n",
       "      <td>loved</td>\n",
       "    </tr>\n",
       "    <tr>\n",
       "      <th>it</th>\n",
       "      <td>it</td>\n",
       "    </tr>\n",
       "    <tr>\n",
       "      <th>from</th>\n",
       "      <td>from</td>\n",
       "    </tr>\n",
       "    <tr>\n",
       "      <th>our</th>\n",
       "      <td>our</td>\n",
       "    </tr>\n",
       "    <tr>\n",
       "      <th>arriv</th>\n",
       "      <td>arrival</td>\n",
       "    </tr>\n",
       "    <tr>\n",
       "      <th>and</th>\n",
       "      <td>and</td>\n",
       "    </tr>\n",
       "    <tr>\n",
       "      <th>check-in</th>\n",
       "      <td>check-in</td>\n",
       "    </tr>\n",
       "    <tr>\n",
       "      <th>to</th>\n",
       "      <td>to</td>\n",
       "    </tr>\n",
       "    <tr>\n",
       "      <th>check-out</th>\n",
       "      <td>check-out</td>\n",
       "    </tr>\n",
       "    <tr>\n",
       "      <th>servic</th>\n",
       "      <td>service</td>\n",
       "    </tr>\n",
       "    <tr>\n",
       "      <th>was</th>\n",
       "      <td>was</td>\n",
       "    </tr>\n",
       "    <tr>\n",
       "      <th>faultless</th>\n",
       "      <td>faultless</td>\n",
       "    </tr>\n",
       "    <tr>\n",
       "      <th>and</th>\n",
       "      <td>and</td>\n",
       "    </tr>\n",
       "    <tr>\n",
       "      <th>facil</th>\n",
       "      <td>facilities</td>\n",
       "    </tr>\n",
       "    <tr>\n",
       "      <th>...</th>\n",
       "      <td>...</td>\n",
       "    </tr>\n",
       "    <tr>\n",
       "      <th>to</th>\n",
       "      <td>to</td>\n",
       "    </tr>\n",
       "    <tr>\n",
       "      <th>walk</th>\n",
       "      <td>walk</td>\n",
       "    </tr>\n",
       "    <tr>\n",
       "      <th>to</th>\n",
       "      <td>to</td>\n",
       "    </tr>\n",
       "    <tr>\n",
       "      <th>there</th>\n",
       "      <td>there</td>\n",
       "    </tr>\n",
       "    <tr>\n",
       "      <th>'s</th>\n",
       "      <td>'s</td>\n",
       "    </tr>\n",
       "    <tr>\n",
       "      <th>a</th>\n",
       "      <td>a</td>\n",
       "    </tr>\n",
       "    <tr>\n",
       "      <th>guest</th>\n",
       "      <td>guest</td>\n",
       "    </tr>\n",
       "    <tr>\n",
       "      <th>loung</th>\n",
       "      <td>lounge</td>\n",
       "    </tr>\n",
       "    <tr>\n",
       "      <th>area</th>\n",
       "      <td>area</td>\n",
       "    </tr>\n",
       "    <tr>\n",
       "      <th>as</th>\n",
       "      <td>as</td>\n",
       "    </tr>\n",
       "    <tr>\n",
       "      <th>well</th>\n",
       "      <td>well</td>\n",
       "    </tr>\n",
       "    <tr>\n",
       "      <th>with</th>\n",
       "      <td>with</td>\n",
       "    </tr>\n",
       "    <tr>\n",
       "      <th>a</th>\n",
       "      <td>a</td>\n",
       "    </tr>\n",
       "    <tr>\n",
       "      <th>high</th>\n",
       "      <td>high</td>\n",
       "    </tr>\n",
       "    <tr>\n",
       "      <th>qualiti</th>\n",
       "      <td>quality</td>\n",
       "    </tr>\n",
       "    <tr>\n",
       "      <th>pool</th>\n",
       "      <td>pool</td>\n",
       "    </tr>\n",
       "    <tr>\n",
       "      <th>tabl</th>\n",
       "      <td>table</td>\n",
       "    </tr>\n",
       "    <tr>\n",
       "      <th>and</th>\n",
       "      <td>and</td>\n",
       "    </tr>\n",
       "    <tr>\n",
       "      <th>daili</th>\n",
       "      <td>daily</td>\n",
       "    </tr>\n",
       "    <tr>\n",
       "      <th>breakfast</th>\n",
       "      <td>breakfast</td>\n",
       "    </tr>\n",
       "    <tr>\n",
       "      <th>in</th>\n",
       "      <td>in</td>\n",
       "    </tr>\n",
       "    <tr>\n",
       "      <th>the</th>\n",
       "      <td>the</td>\n",
       "    </tr>\n",
       "    <tr>\n",
       "      <th>morn</th>\n",
       "      <td>morning</td>\n",
       "    </tr>\n",
       "    <tr>\n",
       "      <th>we</th>\n",
       "      <td>we</td>\n",
       "    </tr>\n",
       "    <tr>\n",
       "      <th>love</th>\n",
       "      <td>loved</td>\n",
       "    </tr>\n",
       "    <tr>\n",
       "      <th>it</th>\n",
       "      <td>it</td>\n",
       "    </tr>\n",
       "    <tr>\n",
       "      <th>and</th>\n",
       "      <td>and</td>\n",
       "    </tr>\n",
       "    <tr>\n",
       "      <th>so</th>\n",
       "      <td>so</td>\n",
       "    </tr>\n",
       "    <tr>\n",
       "      <th>will</th>\n",
       "      <td>will</td>\n",
       "    </tr>\n",
       "    <tr>\n",
       "      <th>you</th>\n",
       "      <td>you</td>\n",
       "    </tr>\n",
       "  </tbody>\n",
       "</table>\n",
       "<p>240 rows × 1 columns</p>\n",
       "</div>"
      ],
      "text/plain": [
       "                words\n",
       "we                 we\n",
       "stay           stayed\n",
       "here             here\n",
       "for               for\n",
       "night          nights\n",
       "on                 on\n",
       "our               our\n",
       "trip             trip\n",
       "to                 to\n",
       "san               san\n",
       "francisco   francisco\n",
       "from             from\n",
       "australia   australia\n",
       "and               and\n",
       "we                 we\n",
       "absolut    absolutely\n",
       "love            loved\n",
       "it                 it\n",
       "from             from\n",
       "our               our\n",
       "arriv         arrival\n",
       "and               and\n",
       "check-in     check-in\n",
       "to                 to\n",
       "check-out   check-out\n",
       "servic        service\n",
       "was               was\n",
       "faultless   faultless\n",
       "and               and\n",
       "facil      facilities\n",
       "...               ...\n",
       "to                 to\n",
       "walk             walk\n",
       "to                 to\n",
       "there           there\n",
       "'s                 's\n",
       "a                   a\n",
       "guest           guest\n",
       "loung          lounge\n",
       "area             area\n",
       "as                 as\n",
       "well             well\n",
       "with             with\n",
       "a                   a\n",
       "high             high\n",
       "qualiti       quality\n",
       "pool             pool\n",
       "tabl            table\n",
       "and               and\n",
       "daili           daily\n",
       "breakfast   breakfast\n",
       "in                 in\n",
       "the               the\n",
       "morn          morning\n",
       "we                 we\n",
       "love            loved\n",
       "it                 it\n",
       "and               and\n",
       "so                 so\n",
       "will             will\n",
       "you               you\n",
       "\n",
       "[240 rows x 1 columns]"
      ]
     },
     "execution_count": 41,
     "metadata": {},
     "output_type": "execute_result"
    }
   ],
   "source": [
    "hotel_vocab_frame"
   ]
  },
  {
   "cell_type": "code",
   "execution_count": 42,
   "metadata": {},
   "outputs": [
    {
     "data": {
      "text/plain": [
       "'/Users/steventa/Desktop/TripAdvisor/OpinRankDatasetWithJudgments/hotels'"
      ]
     },
     "execution_count": 42,
     "metadata": {},
     "output_type": "execute_result"
    }
   ],
   "source": [
    "pwd"
   ]
  },
  {
   "cell_type": "code",
   "execution_count": 43,
   "metadata": {},
   "outputs": [
    {
     "name": "stdout",
     "output_type": "stream",
     "text": [
      "/Users/steventa/Desktop\n"
     ]
    }
   ],
   "source": [
    "cd ~/Desktop"
   ]
  },
  {
   "cell_type": "code",
   "execution_count": 44,
   "metadata": {},
   "outputs": [
    {
     "name": "stdout",
     "output_type": "stream",
     "text": [
      "/Users/steventa/Desktop/TripAdvisorSentiment\n"
     ]
    }
   ],
   "source": [
    "cd TripAdvisorSentiment/"
   ]
  },
  {
   "cell_type": "code",
   "execution_count": null,
   "metadata": {},
   "outputs": [],
   "source": []
  },
  {
   "cell_type": "code",
   "execution_count": 53,
   "metadata": {},
   "outputs": [],
   "source": [
    "import json\n",
    "import pandas as pd\n",
    "data = json.load(open('100407.json'))\n",
    "\n",
    "test = pd.DataFrame(data[\"Reviews\"])"
   ]
  },
  {
   "cell_type": "code",
   "execution_count": 63,
   "metadata": {},
   "outputs": [
    {
     "data": {
      "text/html": [
       "<div>\n",
       "<style>\n",
       "    .dataframe thead tr:only-child th {\n",
       "        text-align: right;\n",
       "    }\n",
       "\n",
       "    .dataframe thead th {\n",
       "        text-align: left;\n",
       "    }\n",
       "\n",
       "    .dataframe tbody tr th {\n",
       "        vertical-align: top;\n",
       "    }\n",
       "</style>\n",
       "<table border=\"1\" class=\"dataframe\">\n",
       "  <thead>\n",
       "    <tr style=\"text-align: right;\">\n",
       "      <th></th>\n",
       "      <th>Author</th>\n",
       "      <th>AuthorLocation</th>\n",
       "      <th>Content</th>\n",
       "      <th>Date</th>\n",
       "      <th>Ratings</th>\n",
       "      <th>ReviewID</th>\n",
       "      <th>Title</th>\n",
       "    </tr>\n",
       "  </thead>\n",
       "  <tbody>\n",
       "    <tr>\n",
       "      <th>0</th>\n",
       "      <td>Nadine R</td>\n",
       "      <td>Jacksonville, Florida</td>\n",
       "      <td>Usually stay near the airport, but this trip w...</td>\n",
       "      <td>April 19, 2012</td>\n",
       "      <td>{'Service': '5', 'Cleanliness': '5', 'Overall'...</td>\n",
       "      <td>UR128178025</td>\n",
       "      <td>“Great place and location”</td>\n",
       "    </tr>\n",
       "    <tr>\n",
       "      <th>1</th>\n",
       "      <td>blt3116</td>\n",
       "      <td>Chillicothe, Ohio</td>\n",
       "      <td>Stayed at this Hilton for 2 nights. It was lik...</td>\n",
       "      <td>January 30, 2012</td>\n",
       "      <td>{'Service': '4', 'Cleanliness': '4', 'Overall'...</td>\n",
       "      <td>UR123847354</td>\n",
       "      <td>“Nice stay, nice surroundings”</td>\n",
       "    </tr>\n",
       "    <tr>\n",
       "      <th>2</th>\n",
       "      <td>ExSpec5</td>\n",
       "      <td>Northern Virginia</td>\n",
       "      <td>Stayed there one night, December 16, on the wa...</td>\n",
       "      <td>December 28, 2011</td>\n",
       "      <td>{'Service': '5', 'Cleanliness': '5', 'Overall'...</td>\n",
       "      <td>UR122192448</td>\n",
       "      <td>“Perfect for an overnight just off I-95”</td>\n",
       "    </tr>\n",
       "    <tr>\n",
       "      <th>3</th>\n",
       "      <td>kevinlynch3</td>\n",
       "      <td>Raleigh</td>\n",
       "      <td>I just stayed here last weekend and have alrea...</td>\n",
       "      <td>December 23, 2011</td>\n",
       "      <td>{'Service': '5', 'Cleanliness': '5', 'Overall'...</td>\n",
       "      <td>UR122031890</td>\n",
       "      <td>“Great Hotel”</td>\n",
       "    </tr>\n",
       "    <tr>\n",
       "      <th>4</th>\n",
       "      <td>nobumponalog</td>\n",
       "      <td>Belmont, MA</td>\n",
       "      <td>My mother who is 90 and I stayed one night on ...</td>\n",
       "      <td>October 14, 2011</td>\n",
       "      <td>{'Service': '5', 'Cleanliness': '5', 'Overall'...</td>\n",
       "      <td>UR119295575</td>\n",
       "      <td>“good room for handicapped person”</td>\n",
       "    </tr>\n",
       "  </tbody>\n",
       "</table>\n",
       "</div>"
      ],
      "text/plain": [
       "         Author         AuthorLocation  \\\n",
       "0      Nadine R  Jacksonville, Florida   \n",
       "1       blt3116      Chillicothe, Ohio   \n",
       "2       ExSpec5      Northern Virginia   \n",
       "3   kevinlynch3                Raleigh   \n",
       "4  nobumponalog            Belmont, MA   \n",
       "\n",
       "                                             Content               Date  \\\n",
       "0  Usually stay near the airport, but this trip w...     April 19, 2012   \n",
       "1  Stayed at this Hilton for 2 nights. It was lik...   January 30, 2012   \n",
       "2  Stayed there one night, December 16, on the wa...  December 28, 2011   \n",
       "3  I just stayed here last weekend and have alrea...  December 23, 2011   \n",
       "4  My mother who is 90 and I stayed one night on ...   October 14, 2011   \n",
       "\n",
       "                                             Ratings     ReviewID  \\\n",
       "0  {'Service': '5', 'Cleanliness': '5', 'Overall'...  UR128178025   \n",
       "1  {'Service': '4', 'Cleanliness': '4', 'Overall'...  UR123847354   \n",
       "2  {'Service': '5', 'Cleanliness': '5', 'Overall'...  UR122192448   \n",
       "3  {'Service': '5', 'Cleanliness': '5', 'Overall'...  UR122031890   \n",
       "4  {'Service': '5', 'Cleanliness': '5', 'Overall'...  UR119295575   \n",
       "\n",
       "                                      Title  \n",
       "0                “Great place and location”  \n",
       "1            “Nice stay, nice surroundings”  \n",
       "2  “Perfect for an overnight just off I-95”  \n",
       "3                             “Great Hotel”  \n",
       "4        “good room for handicapped person”  "
      ]
     },
     "execution_count": 63,
     "metadata": {},
     "output_type": "execute_result"
    }
   ],
   "source": [
    "test.head()"
   ]
  },
  {
   "cell_type": "code",
   "execution_count": 65,
   "metadata": {},
   "outputs": [
    {
     "data": {
      "text/plain": [
       "{'Cleanliness': '5',\n",
       " 'Location': '5',\n",
       " 'Overall': '4.0',\n",
       " 'Rooms': '5',\n",
       " 'Service': '5',\n",
       " 'Sleep Quality': '3',\n",
       " 'Value': '3'}"
      ]
     },
     "execution_count": 65,
     "metadata": {},
     "output_type": "execute_result"
    }
   ],
   "source": [
    "test.Ratings.iloc[2]"
   ]
  },
  {
   "cell_type": "code",
   "execution_count": 56,
   "metadata": {},
   "outputs": [],
   "source": []
  },
  {
   "cell_type": "code",
   "execution_count": 72,
   "metadata": {},
   "outputs": [],
   "source": [
    "file_list = os.listdir()"
   ]
  },
  {
   "cell_type": "code",
   "execution_count": 73,
   "metadata": {},
   "outputs": [
    {
     "data": {
      "text/plain": [
       "258"
      ]
     },
     "execution_count": 73,
     "metadata": {},
     "output_type": "execute_result"
    }
   ],
   "source": [
    "len(file_list)"
   ]
  },
  {
   "cell_type": "code",
   "execution_count": 71,
   "metadata": {},
   "outputs": [
    {
     "name": "stdout",
     "output_type": "stream",
     "text": [
      "/Users/steventa/Desktop/TripAdvisor/OpinRankDatasetWithJudgments/hotels/data/new-york-city\n"
     ]
    }
   ],
   "source": [
    "cd TripAdvisor/OpinRankDatasetWithJudgments/hotels/data/new-york-city/"
   ]
  },
  {
   "cell_type": "code",
   "execution_count": 77,
   "metadata": {},
   "outputs": [],
   "source": [
    "review_headers = ['date', 'review_title', 'full_review', 'nan']"
   ]
  },
  {
   "cell_type": "code",
   "execution_count": 78,
   "metadata": {},
   "outputs": [],
   "source": [
    "def get_count(file_name):\n",
    "\n",
    "        ''' get all hotel reviews for city '''\n",
    "\n",
    "        df_reviews = pd.read_csv(file_name,\n",
    "        names=review_headers, sep='\\t', encoding='latin-1').drop('nan', axis=1)\n",
    "\n",
    "        return df_reviews.shape[0]"
   ]
  },
  {
   "cell_type": "code",
   "execution_count": 81,
   "metadata": {},
   "outputs": [],
   "source": [
    "count = 0\n",
    "\n",
    "for idx, name in enumerate(file_list):\n",
    "    if idx == 31 or idx == 45:\n",
    "        continue\n",
    "    else:\n",
    "        count += get_count(name)"
   ]
  },
  {
   "cell_type": "code",
   "execution_count": 82,
   "metadata": {},
   "outputs": [
    {
     "data": {
      "text/plain": [
       "54513"
      ]
     },
     "execution_count": 82,
     "metadata": {},
     "output_type": "execute_result"
    }
   ],
   "source": [
    "count"
   ]
  },
  {
   "cell_type": "code",
   "execution_count": 83,
   "metadata": {},
   "outputs": [
    {
     "data": {
      "text/plain": [
       "'usa_new york city_the_st_regis_hotel_new_york'"
      ]
     },
     "execution_count": 83,
     "metadata": {},
     "output_type": "execute_result"
    }
   ],
   "source": [
    "file_list[0]"
   ]
  },
  {
   "cell_type": "code",
   "execution_count": 84,
   "metadata": {},
   "outputs": [],
   "source": [
    "test_df = pd.read_csv('usa_new york city_the_st_regis_hotel_new_york',\n",
    "        names=review_headers, sep='\\t', encoding='latin-1').drop('nan', axis=1)"
   ]
  },
  {
   "cell_type": "code",
   "execution_count": 87,
   "metadata": {},
   "outputs": [
    {
     "data": {
      "text/plain": [
       "121"
      ]
     },
     "execution_count": 87,
     "metadata": {},
     "output_type": "execute_result"
    }
   ],
   "source": [
    "test_df.shape[0]"
   ]
  },
  {
   "cell_type": "code",
   "execution_count": 88,
   "metadata": {},
   "outputs": [
    {
     "data": {
      "text/plain": [
       "['usa_new york city_the_st_regis_hotel_new_york',\n",
       " 'usa_new york city_the_muse_hotel_new_york_a_kimpton_hotel',\n",
       " 'usa_new york city_holiday_inn_nyc_manhattan_6th_avenue',\n",
       " 'usa_new york city_new_york_palace_hotel',\n",
       " 'usa_new york city_the_bowery_hotel',\n",
       " 'usa_new york city_the_sherry_netherland_hotel',\n",
       " 'usa_new york city_70_park_avenue_hotel_a_kimpton_hotel',\n",
       " 'usa_new york city_park_79_hotel',\n",
       " 'usa_new york city_the_pierre',\n",
       " 'usa_new york city_hotel_mela',\n",
       " 'usa_new york city_club_quarters_downtown',\n",
       " 'usa_new york city_best_western_bowery_hanbee_hotel',\n",
       " 'usa_new york city_phillips_club',\n",
       " 'usa_new york city_the_hampton_inn_times_square_north',\n",
       " 'usa_new york city_amsterdam_court_hotel',\n",
       " 'usa_new york city_the_benjamin',\n",
       " 'usa_new york city_the_time',\n",
       " 'usa_new york city_thirty_thirty_hotel',\n",
       " 'usa_new york city_hotel_metro',\n",
       " 'usa_new york city_hotel_elysee',\n",
       " 'usa_new york city_sofitel_new_york',\n",
       " 'usa_new york city_doubletree_metropolitan_hotel',\n",
       " 'usa_new york city_murray_hill_east_suites',\n",
       " 'usa_new york city_ramada_eastside',\n",
       " 'usa_new york city_bedford_hotel',\n",
       " 'usa_new york city_stay',\n",
       " 'usa_new york city_hampton_inn_manhattan_times_square_south',\n",
       " 'usa_new york city_millenium_hilton',\n",
       " 'usa_new york city_comfort_inn_manhattan_bridge',\n",
       " 'usa_new york city_ritz_carlton_battery_park',\n",
       " 'usa_new york city_the_maritime_hotel',\n",
       " 'usa_new york city_trump_international_hotel_and_tower',\n",
       " 'usa_new york city_renaissance_new_york_hotel_57',\n",
       " 'usa_new york city_holiday_inn_manhattan_downtown_soho',\n",
       " 'usa_new york city_four_points_by_sheraton_manhattan_soho_village',\n",
       " 'usa_new york city_novotel_new_york_times_square',\n",
       " 'usa_new york city_washington_square_hotel',\n",
       " 'usa_new york city_best_western_seaport_inn_downtown',\n",
       " 'usa_new york city_hotel_gansevoort',\n",
       " 'usa_new york city_hotel_41_at_times_square',\n",
       " 'usa_new york city_hotel_newton',\n",
       " 'usa_new york city_embassy_suites_hotel_new_york_city',\n",
       " 'usa_new york city_comfort_inn_midtown_manhattan',\n",
       " 'usa_new york city_hotel_chandler',\n",
       " 'usa_new york city_affinia_gardens',\n",
       " 'usa_new york city_park_central',\n",
       " 'usa_new york city_excelsior_hotel',\n",
       " 'usa_new york city_econo_lodge_times_square',\n",
       " 'usa_new york city_the_shoreham',\n",
       " 'usa_new york city_seafarers_international_house',\n",
       " 'usa_new york city_clarion_collection_the_solita_soho_hotel',\n",
       " 'usa_new york city_w_new_york_times_square',\n",
       " 'usa_new york city_hotel_grand_union',\n",
       " 'usa_new york city_smyth_hotel_a_thompson_hotel',\n",
       " 'usa_new york city_hampton_inn_new_york_seaport_financial_district',\n",
       " 'usa_new york city_broadway_plaza_hotel',\n",
       " 'usa_new york city_eurostars_wall_street',\n",
       " 'usa_new york city_hilton_garden_inn_tribeca',\n",
       " 'usa_new york city_renaissance_new_york_hotel_times_square',\n",
       " 'usa_new york city_best_western_convention_center_hotel',\n",
       " 'usa_new york city_dylan_hotel',\n",
       " 'usa_new york city_the_waldorf_astoria',\n",
       " 'usa_new york city_wingate_by_wyndham_manhattan_midtown',\n",
       " 'usa_new york city_hilton_times_square',\n",
       " 'usa_new york city_vincci_avalon',\n",
       " 'usa_new york city_on_the_ave_hotel',\n",
       " 'usa_new york city_the_london_nyc',\n",
       " 'usa_new york city_affinia_50',\n",
       " 'usa_new york city_the_milburn_hotel',\n",
       " 'usa_new york city_hotel_giraffe',\n",
       " 'usa_new york city_new_york_marriott_marquis',\n",
       " 'usa_new york city_aka_united_nations',\n",
       " 'usa_new york city_residence_inn_by_marriott_times_square_new_york',\n",
       " 'usa_new york city_hilton_garden_inn_chelsea',\n",
       " 'usa_new york city_woogo_central_park',\n",
       " 'usa_new york city_414_hotel',\n",
       " 'usa_new york city_thompson_les',\n",
       " 'usa_new york city_salisbury_hotel',\n",
       " 'usa_new york city_holiday_inn_midtown_57th_st',\n",
       " 'usa_new york city_peninsula_new_york',\n",
       " 'usa_new york city_the_marcel_at_gramercy',\n",
       " 'usa_new york city_carvi_hotel_new_york',\n",
       " 'usa_new york city_the_lucerne_hotel',\n",
       " 'usa_new york city_royalton_hotel_new_york_city',\n",
       " 'usa_new york city_plaza_athenee_hotel',\n",
       " 'usa_new york city_hilton_club_new_york',\n",
       " 'usa_new york city_the_inn_at_irving_place',\n",
       " 'usa_new york city_affinia_shelburne',\n",
       " 'usa_new york city_3_west_club',\n",
       " 'usa_new york city_hampton_inn_35th_st_empire_state_building',\n",
       " 'usa_new york city_chelsea_lodge',\n",
       " 'usa_new york city_carlton_arms',\n",
       " 'usa_new york city_murray_hill_inn',\n",
       " 'usa_new york city_blue_moon_hotel',\n",
       " 'usa_new york city_the_plaza',\n",
       " 'usa_new york city_hampton_inn_manhattan_chelsea',\n",
       " 'usa_new york city_comfort_inn_midtown',\n",
       " 'usa_new york city_waldorf_towers',\n",
       " 'usa_new york city_roger_smith_hotel',\n",
       " 'usa_new york city_chelsea_pines_inn']"
      ]
     },
     "execution_count": 88,
     "metadata": {},
     "output_type": "execute_result"
    }
   ],
   "source": [
    "file_list[:100]"
   ]
  },
  {
   "cell_type": "code",
   "execution_count": null,
   "metadata": {},
   "outputs": [],
   "source": []
  }
 ],
 "metadata": {
  "kernelspec": {
   "display_name": "Python 3",
   "language": "python",
   "name": "python3"
  },
  "language_info": {
   "codemirror_mode": {
    "name": "ipython",
    "version": 3
   },
   "file_extension": ".py",
   "mimetype": "text/x-python",
   "name": "python",
   "nbconvert_exporter": "python",
   "pygments_lexer": "ipython3",
   "version": "3.6.4"
  }
 },
 "nbformat": 4,
 "nbformat_minor": 2
}
