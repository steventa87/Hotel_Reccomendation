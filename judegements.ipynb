{
 "cells": [
  {
   "cell_type": "code",
   "execution_count": 1,
   "metadata": {},
   "outputs": [
    {
     "name": "stdout",
     "output_type": "stream",
     "text": [
      "EDA.ipynb                 hotel_cluster.py          \u001b[34msrc\u001b[m\u001b[m/\n",
      "MVP.ipynb                 hotel_map.py              test_hotel_cluster.ipynb\n",
      "Person.py                 hotel_tfidf.py            \u001b[31mtripadvisor.seed\u001b[m\u001b[m*\n",
      "README.md                 judegements.ipynb         tsne_example.ipynb\n",
      "\u001b[34m__pycache__\u001b[m\u001b[m/              \u001b[34mjudgments\u001b[m\u001b[m/                whole_EDA.ipynb\n",
      "\u001b[34mdata\u001b[m\u001b[m/                     new_york_matrix.pkle\n"
     ]
    }
   ],
   "source": [
    "ls"
   ]
  },
  {
   "cell_type": "code",
   "execution_count": 2,
   "metadata": {},
   "outputs": [],
   "source": [
    "import pandas as pd\n",
    "import numpy as np"
   ]
  },
  {
   "cell_type": "code",
   "execution_count": null,
   "metadata": {},
   "outputs": [],
   "source": [
    "df = pd.read_csv('judgments/new-york-city/')"
   ]
  }
 ],
 "metadata": {
  "kernelspec": {
   "display_name": "Python 3",
   "language": "python",
   "name": "python3"
  },
  "language_info": {
   "codemirror_mode": {
    "name": "ipython",
    "version": 3
   },
   "file_extension": ".py",
   "mimetype": "text/x-python",
   "name": "python",
   "nbconvert_exporter": "python",
   "pygments_lexer": "ipython3",
   "version": "3.6.4"
  }
 },
 "nbformat": 4,
 "nbformat_minor": 2
}
